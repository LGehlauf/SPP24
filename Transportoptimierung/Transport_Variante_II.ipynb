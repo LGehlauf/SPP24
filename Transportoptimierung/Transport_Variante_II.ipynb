{
 "cells": [
  {
   "cell_type": "markdown",
   "id": "0735a131",
   "metadata": {},
   "source": [
    "## Simulation"
   ]
  },
  {
   "cell_type": "code",
   "execution_count": null,
   "id": "c3243d8f",
   "metadata": {},
   "outputs": [
    {
     "name": "stderr",
     "output_type": "stream",
     "text": [
      "/opt/miniconda3/envs/python312/lib/python3.13/site-packages/tqdm/auto.py:21: TqdmWarning: IProgress not found. Please update jupyter and ipywidgets. See https://ipywidgets.readthedocs.io/en/stable/user_install.html\n",
      "  from .autonotebook import tqdm as notebook_tqdm\n"
     ]
    }
   ],
   "source": [
    "import sqlite3\n",
    "from db_init import db_init\n",
    "import simpy\n",
    "import Dijkstra\n",
    "import datetime\n",
    "import numpy as np\n",
    "import pandas as pd\n",
    "import random\n",
    "import math\n",
    "from scipy.stats import lognorm, beta\n",
    "import numpy as np\n",
    "import pandas as pd\n",
    "from sklearn.model_selection import train_test_split\n",
    "from sklearn.preprocessing import StandardScaler\n",
    "from sklearn.metrics import classification_report\n",
    "from sklearn.ensemble import RandomForestClassifier\n",
    "import time\n",
    "random.seed(42)\n",
    "np.random.seed(42)\n",
    "\n",
    "import optuna\n",
    "from clearml import Task\n",
    "from clearml import Logger\n",
    "import KPI_functions\n",
    "\n",
    "\n",
    "\n",
    "def objective(trial):\n",
    "    \n",
    "\n",
    "    # ClearML Konfigurationsvariablen\n",
    "    #%env CLEARML_WEB_HOST=https://app.clear.ml/\n",
    "    #%env CLEARML_API_HOST=https://api.clear.ml\n",
    "    #%env CLEARML_FILES_HOST=https://files.clear.ml\n",
    "    #%env CLEARML_API_ACCESS_KEY=32VJUL45L6DJIC82Y2TTHG4LL3W1O9\n",
    "    #%env CLEARML_API_SECRET_KEY=x6ve_x6yyRO_q1S30jtfJ0TSqpQf1LQI8nS8z82XBEnLszf3YXUGmHy2th4Rn-f3AEM\n",
    "    Task.set_offline(True)\n",
    "    task = Task.init(project_name=\"SPP_Transportoptimierung\", task_name=f\"Variante II run: {trial.number+1}\")\n",
    "    db_init()\n",
    "    a = trial.suggest_int('a', 1, 500)\n",
    "    b = trial.suggest_int('b', 1, 500)\n",
    "    d = trial.suggest_int('d', 1, 500)\n",
    "    # Klasse Produkt definieren - Attribute siehe DB\n",
    "    class Produkt:\n",
    "        def __init__(self, id, bezeichnung, dlz_plan, losgroesse, bestand_rtl, bestand_ftl, bestellbestand):\n",
    "            self.id = id\n",
    "            self.bezeichnung = bezeichnung\n",
    "            self.dlz_plan = dlz_plan\n",
    "            self.losgroesse = losgroesse\n",
    "            self.bestand_rtl = bestand_rtl\n",
    "            self.bestand_ftl = bestand_ftl        \n",
    "            self.bestellbestand = bestellbestand\n",
    "\n",
    "    # Überschreiben der __repr__ Methode, damit die Objekte als Klartext beim Printen angezeigt werden\n",
    "        def __repr__(self):\n",
    "            return (f\"Produkt(id={self.id}, bezeichnung='{self.bezeichnung}', dlz_plan={self.dlz_plan}, \"\n",
    "                    f\"losgroesse={self.losgroesse}, bestand_rtl={self.bestand_rtl}, bestand_ftl={self.bestand_ftl})\")\n",
    "\n",
    "    # Klasse Auftrag definieren - Attribute siehe DB\n",
    "    class Auftrag:\n",
    "        def __init__(self, charge, id, menge, art):\n",
    "            self.charge = charge\n",
    "            self.id = id\n",
    "            self.arbeitsplan = []\n",
    "            self.menge = menge\n",
    "            self.start = None\n",
    "            self.art = art\n",
    "        \n",
    "        # Überschreiben der __repr__ Methode, damit die Objekte als Klartext beim Printen angezeigt werden\n",
    "        def __repr__(self):\n",
    "            return f\"Auftrag(charge={self.charge}, id={self.id}, arbeitsplan={self.arbeitsplan}, menge={self.menge}, start={self.start}, art={self.art})\"\n",
    "\n",
    "    # Klasse FFZ definieren - Attribute siehe DB\n",
    "    class FFZ:\n",
    "        def __init__(self, id, speed, akkulaufzeit):\n",
    "            self.id = id\n",
    "            self.speed = speed\n",
    "            self.akkulaufzeit = akkulaufzeit\n",
    "            self.akkustand = akkulaufzeit\n",
    "            self.curr_location = \"g\"\n",
    "            self.curr_transport = None\n",
    "            self.queue = []\n",
    "            self.last_checkpoint = []\n",
    "        \n",
    "        # Überschreiben der __repr__ Methode, damit die Objekte als Klartext beim Printen angezeigt werden\n",
    "        def __repr__(self):\n",
    "            return f\"Auftrag(id={self.id})\"\n",
    "        \n",
    "    # Klasse Factory definieren\n",
    "    class Factory:\n",
    "        def __init__(self, env, db_path, start_datum, schichtregime, add_auftrag, a, b, d):\n",
    "            self.env = env # Simulationsumgebung\n",
    "            self.db_path = db_path # Pfad zur Datenbank\n",
    "            self.start_datum = start_datum\n",
    "            self.schichtregime = schichtregime\n",
    "            self.db() \n",
    "            env.process(self.kalender(env))\n",
    "            self.lade_produkte()\n",
    "            self.lade_ffz()\n",
    "            self.saegen_queue = []\n",
    "            self.saegen_status = \"v\"\n",
    "            # v - verfügbar, b - belegt, d - defekt\n",
    "            self.drehen_queue = []\n",
    "            self.drehen_queue_intern = []\n",
    "            self.drehen_1_status = \"v\"\n",
    "            self.drehen_2_status = \"v\"\n",
    "            self.fraesen_queue = []\n",
    "            self.fraesen_status = \"v\"\n",
    "            self.pruefen_queue = []\n",
    "            self.pruefen_status = \"v\"\n",
    "            self.haerten_queue = []\n",
    "            self.haerten_status = \"v\"\n",
    "            self.transport_queue = []\n",
    "            self.factory_status = True\n",
    "            self.add_auftrag = add_auftrag\n",
    "            env.process(self.auftragserzeugung(env))\n",
    "            env.process(self.absatz(env))\n",
    "            env.process(self.check_factory_status(env))\n",
    "            env.process(self.insert_add_auftrag(env))\n",
    "            env.process(self.ladevorgang(env))\n",
    "            self.preprocessing()\n",
    "            # Dijkstra\n",
    "            self.graph = Dijkstra.graph([\n",
    "            (\"a\", \"b\", 60), (\"b\", \"a\", 60),\n",
    "            (\"a\", \"c\", 70), (\"c\", \"a\", 70),\n",
    "            (\"a\", \"d\", 75), (\"d\", \"a\", 75),\n",
    "            (\"b\", \"c\", 25), (\"c\", \"b\", 25),\n",
    "            (\"b\", \"d\", 45), (\"d\", \"b\", 45),\n",
    "            (\"c\", \"g\", 40), (\"g\", \"c\", 40),\n",
    "            (\"d\", \"e\", 85), (\"e\", \"d\", 85),\n",
    "            (\"g\", \"e\", 30), (\"e\", \"g\", 30),\n",
    "            (\"e\", \"f\", 85), (\"f\", \"e\", 85),\n",
    "            (\"g\", \"h\", 45), (\"h\", \"g\", 45),\n",
    "            (\"e\", \"h\", 55), (\"h\", \"e\", 55),\n",
    "            ])\n",
    "\n",
    "            self.schichtzeiten = {\n",
    "                'S1': {'start': '06:00', 'end': '14:00'}, # Ein-Schicht Regime \n",
    "                'S2': {'start': '06:00', 'end': '22:00'}, # Zwei-Schicht Regime\n",
    "                'S3': {'start': '00:00', 'end': '00:00'}, # irrelevant, weil es dann keine Einschränkungen gibt\n",
    "            }\n",
    "            # Variable zum Speichern der aktuellen Laufzeit ohne Ausfall, dem simulierten nächsten Ausfall, der mittlere Zeit zwischen der Ausfällen und der Reparationszeit\n",
    "            self.machine_param = {\n",
    "                \"SAE\": {'sum_workload': 50, 'next_failure': 1800, 'mean_runtime': 960, 'unplaned_maintenance_time': 80, 'planed_maintenance_time': 30},\n",
    "                \"DRH1\": {'sum_workload': 450, 'next_failure': 1300, 'mean_runtime': 1100, 'unplaned_maintenance_time': 90, 'planed_maintenance_time': 45},\n",
    "                \"DRH2\": {'sum_workload': 200, 'next_failure': 1900, 'mean_runtime': 900, 'unplaned_maintenance_time': 125, 'planed_maintenance_time': 60},\n",
    "                \"FRA\": {'sum_workload': 700, 'next_failure': 2000, 'mean_runtime': 880, 'unplaned_maintenance_time': 75, 'planed_maintenance_time': 40},\n",
    "                \"HAE\": {'sum_workload': 1000, 'next_failure': 2500, 'mean_runtime': 1500, 'unplaned_maintenance_time': 180, 'planed_maintenance_time': 90},\n",
    "            }\n",
    "\n",
    "        # DB Verbindung herstellen\n",
    "        def db(self):\n",
    "            self.conn = sqlite3.connect(self.db_path)\n",
    "            self.cursor = self.conn.cursor()\n",
    "\n",
    "        # Kalender Aktualisierung\n",
    "        def kalender(self, env):\n",
    "            while True:\n",
    "                self.uhrzeit = self.start_datum + datetime.timedelta(seconds = round(env.now*60))\n",
    "                #self.uhrzeit = self.uhrzeit.strftime(\"%Y-%m-%d %H:%M:%S\")\n",
    "                yield env.timeout(0.1)  \n",
    "\n",
    "        def check_factory_status(self, env):    \n",
    "            \n",
    "            while True:\n",
    "                # bestimme aktuelle Zeit\n",
    "                aktuelle_uhrzeit = self.uhrzeit.strftime(\"%H:%M\")\n",
    "\n",
    "                # Wochentag bestimmen (0 = Montag, ..., 6 = Sonntag)\n",
    "                wochentag = self.uhrzeit.weekday()\n",
    "\n",
    "                # Überprüfen, ob es ein Wochenende ist (Samstag oder Sonntag)\n",
    "                if wochentag == 5 or wochentag == 6:  # 5 = Samstag, 6 = Sonntag\n",
    "                    self.factory_status = False\n",
    "                else:\n",
    "                    if self.schichtregime == 'S1':\n",
    "                        if self.schichtzeiten['S1']['start'] <= aktuelle_uhrzeit <= self.schichtzeiten['S1']['end']:\n",
    "                            self.factory_status = True\n",
    "                        else:\n",
    "                            self.factory_status = False\n",
    "                    elif self.schichtregime == 'S2':\n",
    "                        if self.schichtzeiten['S2']['start'] <= aktuelle_uhrzeit <= self.schichtzeiten['S2']['end']:\n",
    "                            self.factory_status = True\n",
    "                        else:\n",
    "                            self.factory_status = False\n",
    "\n",
    "\n",
    "\n",
    "                yield env.timeout(1)\n",
    "\n",
    "        # Funktion die Überprüft, ob ein Arbeitsschritt bzw. ein Transport ausgeführt werden kann, ohne eine Arbeitszeitüberschreitung zu verursachen\n",
    "        def check_for_soon_shotdown(self, timeout, env):\n",
    "            \n",
    "            if self.schichtregime == 'S1':\n",
    "                while ((self.uhrzeit + datetime.timedelta(minutes=timeout)).strftime(\"%H:%M\") >= self.schichtzeiten['S1']['end']) or (\n",
    "                (self.uhrzeit.strftime(\"%H:%M\") <= self.schichtzeiten['S1']['start']) or (\n",
    "                (self.uhrzeit + datetime.timedelta(minutes=timeout)).strftime(\"%H:%M\") <= self.schichtzeiten['S1']['start']) or (self.factory_status == False)):\n",
    "                    yield env.timeout(0.1)\n",
    "                \n",
    "            elif self.schichtregime == 'S2':\n",
    "                while ((self.uhrzeit + datetime.timedelta(minutes=timeout)).strftime(\"%H:%M\") >= self.schichtzeiten['S2']['end']) or (\n",
    "                (self.uhrzeit.strftime(\"%H:%M\") <= self.schichtzeiten['S2']['start']) or (\n",
    "                (self.uhrzeit + datetime.timedelta(minutes=timeout)).strftime(\"%H:%M\") <= self.schichtzeiten['S2']['start']) or (self.factory_status == False)):\n",
    "                    yield env.timeout(0.1)\n",
    "            \n",
    "            else:\n",
    "                while self.factory_status == False:\n",
    "                    yield env.timeout(0.1)\n",
    "\n",
    "        def preprocessing(self):\n",
    "            # Read data\n",
    "            df = pd.read_csv(r\"ai4i2020.csv\", delimiter=\",\")\n",
    "            df.drop(['UDI', 'Product ID'], axis=1, inplace=True)  # Delete variables that are not helpful to predict\n",
    "                \n",
    "                \n",
    "            df.drop(['TWF', 'HDF', 'PWF', 'OSF', 'RNF'], axis=1, inplace=True)\n",
    "                \n",
    "            # Define some new features from the existing data\n",
    "            df['Power'] = df['Rotational speed [rpm]'] * df['Torque [Nm]']\n",
    "            df['Power wear'] = df['Power'] * df['Tool wear [min]']\n",
    "            df['Temperature difference'] = df['Process temperature [K]'] - df['Air temperature [K]']\n",
    "            df['Temperature power'] = df['Temperature difference'] / df['Power']\n",
    "            df = df[['Air temperature [K]',\n",
    "                        'Process temperature [K]',\n",
    "                        'Rotational speed [rpm]',\n",
    "                        'Torque [Nm]',\n",
    "                        'Tool wear [min]',\n",
    "                        'Power',\n",
    "                        'Power wear',\n",
    "                        'Temperature difference',\n",
    "                        'Temperature power',\n",
    "                        'Type',\n",
    "                        'Machine failure'\n",
    "                    ]]\n",
    "                \n",
    "            df = pd.get_dummies(df, drop_first=True) \n",
    "                \n",
    "            features = list(df.columns)  # Deal with special values and nan \n",
    "                \n",
    "            df.replace(\"?\", np.nan, inplace=True)\n",
    "                \n",
    "            df_numeric = df.select_dtypes(include=[np.number])\n",
    "            df_numeric.fillna(df_numeric.mean(), inplace=True)\n",
    "            for feature in features:\n",
    "                try:\n",
    "                    df[feature].filna(df[feature].mean(), inplace=True)\n",
    "                except:\n",
    "                    try:\n",
    "                        df[feature].fillna(df[feature].mode(), inplace=True)\n",
    "                    except:\n",
    "                        pass\n",
    "                    \n",
    "            df_sampled = df.sample(n=4000, random_state=42)\n",
    "\n",
    "            y = df['Machine failure']\n",
    "            X = df.drop(['Machine failure'], axis=1)\n",
    "                \n",
    "            X_train, X_test, y_train, y_test = train_test_split(X, y, test_size=0.3, random_state=28)\n",
    "            \n",
    "            sc = StandardScaler()\n",
    "            X_train = sc.fit_transform(X_train)\n",
    "            X_test = sc.transform(X_test)\n",
    "            # random forest\n",
    "            self.clf = RandomForestClassifier(max_depth=50, bootstrap = True, n_jobs=-1 ,random_state=0, n_estimators=200)\n",
    "            self.clf.fit(X_train, y_train)\n",
    "            #self.make_predict()\n",
    "            \n",
    "            # Aufteilung in no_error (0) und error (1)\n",
    "            no_error_indices = y_test == 0\n",
    "            error_indices = y_test == 1\n",
    "\n",
    "            # X und y für no_error (0)\n",
    "            self.X_test_no_error = X_test[no_error_indices]\n",
    "            self.y_test_no_error = y_test[no_error_indices].reset_index(drop=True)\n",
    "\n",
    "            # X und y für error (1)\n",
    "            self.X_test_error = X_test[error_indices]\n",
    "            self.y_test_error = y_test[error_indices].reset_index(drop=True)\n",
    "\n",
    "        # Funktion welche die Zeiten der Bearbeitungsvorgänge simuliert\n",
    "        def run_time(self, arbeitsschritt, auftrag, bmg, env):\n",
    "            ausschussrate = {\n",
    "                \"SAE\": 0.005,\n",
    "                \"DRH1\": 0.015,\n",
    "                \"DRH2\": 0.008,\n",
    "                \"FRA\": 0.03,\n",
    "                \"HAE\": 0.05,\n",
    "                \"QPR\": 0.01\n",
    "            }\n",
    "\n",
    "            # Überprüfen von Fehlerzuständen \n",
    "            if bmg != \"QPR\":\n",
    "                yield env.process(self.check_down_time(bmg, arbeitsschritt, auftrag, env))\n",
    "\n",
    "            # Rüstvorgang\n",
    "            yield env.process(self.check_for_soon_shotdown(arbeitsschritt[1], env))\n",
    "            start_ruesten = self.uhrzeit\n",
    "            \n",
    "            # Ziehen der tatsächlichen Rüstzeit\n",
    "            # Gegebene Parameter für die Log-Normalverteilung\n",
    "            M = arbeitsschritt[1]  # Mittelwert der Log-Normalverteilung\n",
    "            sigma_L = M / 15  # Standardabweichung der Log-Normalverteilung -> 6,67 % der Bearbeitungszeit\n",
    "\n",
    "            # Berechne die Parameter der zugrunde liegenden Normalverteilung\n",
    "            sigma = np.sqrt(np.log(1 + (sigma_L**2 / M**2)))  # Standardabweichung der Normalverteilung\n",
    "            mu = np.log(M) - 0.5 * sigma**2  # Mittelwert der Normalverteilung\n",
    "\n",
    "            # Ziehe einen zufälligen Wert aus der Log-Normalverteilung\n",
    "            zeit = lognorm.rvs(sigma, scale=np.exp(mu), size=1)     \n",
    "            yield env.timeout(zeit[0])  # Rüstzeit\n",
    "\n",
    "            # Bearbeitungsvorgang\n",
    "            start_bearbeitung = self.uhrzeit\n",
    "\n",
    "            # Ziehen der tatsächlichen Rüstzeit\n",
    "            # Gegebene Parameter für die Log-Normalverteilung\n",
    "            M = arbeitsschritt[2]*auftrag.menge  # Mittelwert der Log-Normalverteilung\n",
    "            sigma_L = M / 15  # Standardabweichung der Log-Normalverteilung -> 6,67 % der Bearbeitungszeit\n",
    "\n",
    "            # Berechne die Parameter der zugrunde liegenden Normalverteilung\n",
    "            sigma = np.sqrt(np.log(1 + (sigma_L**2 / M**2)))  # Standardabweichung der Normalverteilung\n",
    "            mu = np.log(M) - 0.5 * sigma**2  # Mittelwert der Normalverteilung\n",
    "\n",
    "            # Ziehe einen zufälligen Wert aus der Log-Normalverteilung\n",
    "            zeit = lognorm.rvs(sigma, scale=np.exp(mu), size=1)     \n",
    "            zeit_maintanance = zeit[0]\n",
    "\n",
    "            while zeit[0] > 0:\n",
    "                while self.factory_status == False:\n",
    "                    yield env.timeout(1)\n",
    "\n",
    "                zeit -= 1\n",
    "                yield env.timeout(1)\n",
    "            \n",
    "            ende_bearbeitung = self.uhrzeit  \n",
    "\n",
    "            if bmg != \"QPR\":\n",
    "                self.machine_param[bmg]['sum_workload'] += zeit_maintanance\n",
    "        \n",
    "\n",
    "            ausschuss = int(np.random.binomial(auftrag.menge, ausschussrate[bmg], 1)[0])\n",
    "            auftrag.menge -= ausschuss\n",
    "\n",
    "            # Einträge in DB pflegen\n",
    "            self.cursor.execute('INSERT INTO FLF (Charge, bmg, start_ruesten, start_bearbeitung, ende_bearbeitung, anzahl_bauteile, ausschuss) VALUES (?, ?, ?, ?, ?, ?, ?)', \n",
    "                                (auftrag.charge, bmg, start_ruesten, start_bearbeitung, ende_bearbeitung, int(auftrag.menge), ausschuss))\n",
    "            self.conn.commit()\n",
    "\n",
    "        def check_down_time(self, bmg, arbeitsschritt, auftrag, env):\n",
    "            no_planed_maintenance = True\n",
    "            planed_maintenance = False\n",
    "            predictive_maintenance = False     \n",
    "            \n",
    "            if no_planed_maintenance == True:               \n",
    "                if self.machine_param[bmg]['sum_workload'] + arbeitsschritt[2]*auftrag.menge >= self.machine_param[bmg]['next_failure']:\n",
    "                    start_down_time = self.uhrzeit\n",
    "                    \n",
    "                    yield env.timeout(self.machine_param[bmg]['unplaned_maintenance_time'])\n",
    "                    self.machine_param[bmg]['sum_workload'] = 0\n",
    "\n",
    "                    end_down_time = self.uhrzeit\n",
    "\n",
    "                    # Einträge in DB pflegen\n",
    "                    self.cursor.execute('INSERT INTO ELF (bmg, start_downtime, end_downtime, reststandzeit, type) VALUES (?, ?, ?, ?, ?)', \n",
    "                                    (bmg, start_down_time, end_down_time, 0, 'unplaned'))\n",
    "                    self.conn.commit()\n",
    "\n",
    "                    # next down time\n",
    "                    target_mean = self.machine_param[bmg]['mean_runtime']\n",
    "                    alpha_param = 5\n",
    "                    beta_param = 2\n",
    "\n",
    "                    standard_mean = alpha_param / (alpha_param + beta_param)\n",
    "                    scaling_factor = target_mean / standard_mean\n",
    "\n",
    "                    # Ziehe einen Wert aus der Beta-Verteilung im Bereich [0, 1]\n",
    "                    beta_value = beta.rvs(alpha_param, beta_param)\n",
    "\n",
    "                    # Skaliere diesen Wert auf den gewünschten Bereich\n",
    "                    next_down_time = beta_value * scaling_factor\n",
    "                    self.machine_param[bmg]['next_failure'] = next_down_time\n",
    "\n",
    "            if planed_maintenance == True:\n",
    "                if self.machine_param[bmg]['sum_workload'] + arbeitsschritt[2]*auftrag.menge >= self.machine_param[bmg]['mean_runtime']:\n",
    "                    start_down_time = self.uhrzeit\n",
    "                    restandzeit = self.machine_param[bmg]['next_failure'] - (self.machine_param[bmg]['sum_workload'])\n",
    "                    yield env.timeout(self.machine_param[bmg]['planed_maintenance_time'])\n",
    "                    self.machine_param[bmg]['sum_workload'] = 0\n",
    "\n",
    "                    end_down_time = self.uhrzeit\n",
    "\n",
    "                    \n",
    "\n",
    "                    # Einträge in DB pflegen\n",
    "                    self.cursor.execute('INSERT INTO ELF (bmg, start_downtime, end_downtime, reststandzeit, type) VALUES (?, ?, ?, ?, ?)', \n",
    "                                    (bmg, start_down_time, end_down_time, abs(restandzeit), 'planed'))\n",
    "                    self.conn.commit()\n",
    "\n",
    "                    # next down time\n",
    "                    target_mean = self.machine_param[bmg]['mean_runtime']\n",
    "                    alpha_param = 5\n",
    "                    beta_param = 2\n",
    "\n",
    "                    standard_mean = alpha_param / (alpha_param + beta_param)\n",
    "                    scaling_factor = target_mean / standard_mean\n",
    "\n",
    "                    # Ziehe einen Wert aus der Beta-Verteilung im Bereich [0, 1]\n",
    "                    beta_value = beta.rvs(alpha_param, beta_param)\n",
    "\n",
    "                    # Skaliere diesen Wert auf den gewünschten Bereich\n",
    "                    next_down_time = beta_value * scaling_factor\n",
    "                    self.machine_param[bmg]['next_failure'] = next_down_time\n",
    "\n",
    "                elif self.machine_param[bmg]['sum_workload'] + arbeitsschritt[2]*auftrag.menge >= self.machine_param[bmg]['next_failure']:\n",
    "                    start_down_time = self.uhrzeit\n",
    "                    \n",
    "                    yield env.timeout(self.machine_param[bmg]['unplaned_maintenance_time'])\n",
    "                    self.machine_param[bmg]['sum_workload'] = 0\n",
    "\n",
    "                    end_down_time = self.uhrzeit\n",
    "\n",
    "                    # Einträge in DB pflegen\n",
    "                    self.cursor.execute('INSERT INTO ELF (bmg, start_downtime, end_downtime, reststandzeit, type) VALUES (?, ?, ?, ?, ?)', \n",
    "                                    (bmg, start_down_time, end_down_time, 0, 'unplaned'))\n",
    "                    self.conn.commit()\n",
    "\n",
    "                    # next down time\n",
    "                    target_mean = self.machine_param[bmg]['mean_runtime']\n",
    "                    alpha_param = 5\n",
    "                    beta_param = 2\n",
    "\n",
    "                    standard_mean = alpha_param / (alpha_param + beta_param)\n",
    "                    scaling_factor = target_mean / standard_mean\n",
    "\n",
    "                    # Ziehe einen Wert aus der Beta-Verteilung im Bereich [0, 1]\n",
    "                    beta_value = beta.rvs(alpha_param, beta_param)\n",
    "\n",
    "                    # Skaliere diesen Wert auf den gewünschten Bereich\n",
    "                    next_down_time = beta_value * scaling_factor\n",
    "                    self.machine_param[bmg]['next_failure'] = next_down_time\n",
    "\n",
    "\n",
    "\n",
    "            if predictive_maintenance == True:\n",
    "                if self.machine_param[bmg]['sum_workload'] + arbeitsschritt[2]*auftrag.menge < self.machine_param[bmg]['next_failure']:\n",
    "                    # Zufälliges Element auswählen\n",
    "                    random_index = np.random.choice(len(self.X_test_no_error))\n",
    "                    random_X = self.X_test_no_error[random_index].reshape(1, -1)\n",
    "                    random_y = self.y_test_no_error[random_index]\n",
    "\n",
    "                    y_pred = self.clf.predict(random_X)\n",
    "                    \n",
    "                    if y_pred != random_y:\n",
    "                        start_down_time = self.uhrzeit\n",
    "                        restandzeit = self.machine_param[bmg]['next_failure'] - (self.machine_param[bmg]['sum_workload'])\n",
    "                        yield env.timeout(self.machine_param[bmg]['planed_maintenance_time'])\n",
    "                        self.machine_param[bmg]['sum_workload'] = 0\n",
    "\n",
    "                        end_down_time = self.uhrzeit\n",
    "\n",
    "                        \n",
    "\n",
    "                        # Einträge in DB pflegen\n",
    "                        self.cursor.execute('INSERT INTO ELF (bmg, start_downtime, end_downtime, reststandzeit, type) VALUES (?, ?, ?, ?, ?)', \n",
    "                                        (bmg, start_down_time, end_down_time, abs(restandzeit), 'planed'))\n",
    "                        self.conn.commit()\n",
    "\n",
    "                        # next down time\n",
    "                        target_mean = self.machine_param[bmg]['mean_runtime']\n",
    "                        alpha_param = 5\n",
    "                        beta_param = 2\n",
    "\n",
    "                        standard_mean = alpha_param / (alpha_param + beta_param)\n",
    "                        scaling_factor = target_mean / standard_mean\n",
    "\n",
    "                        # Ziehe einen Wert aus der Beta-Verteilung im Bereich [0, 1]\n",
    "                        beta_value = beta.rvs(alpha_param, beta_param)\n",
    "\n",
    "                        # Skaliere diesen Wert auf den gewünschten Bereich\n",
    "                        next_down_time = beta_value * scaling_factor\n",
    "                        self.machine_param[bmg]['next_failure'] = next_down_time\n",
    "                \n",
    "                elif self.machine_param[bmg]['sum_workload'] + arbeitsschritt[2]*auftrag.menge >= self.machine_param[bmg]['next_failure']:\n",
    "                    random_index = np.random.choice(len(self.X_test_error))\n",
    "                    random_X = self.X_test_error[random_index].reshape(1, -1)\n",
    "                    random_y = self.y_test_error[random_index]\n",
    "\n",
    "                    y_pred = self.clf.predict(random_X)\n",
    "\n",
    "                    if y_pred == random_y:\n",
    "                        start_down_time = self.uhrzeit\n",
    "                        restandzeit = 0\n",
    "                        yield env.timeout(self.machine_param[bmg]['planed_maintenance_time'])\n",
    "                        self.machine_param[bmg]['sum_workload'] = 0\n",
    "\n",
    "                        end_down_time = self.uhrzeit\n",
    "\n",
    "                        # Einträge in DB pflegen\n",
    "                        self.cursor.execute('INSERT INTO ELF (bmg, start_downtime, end_downtime, reststandzeit, type) VALUES (?, ?, ?, ?, ?)', \n",
    "                                        (bmg, start_down_time, end_down_time, abs(restandzeit), 'planed'))\n",
    "                        self.conn.commit()\n",
    "\n",
    "                        # next down time\n",
    "                        target_mean = self.machine_param[bmg]['mean_runtime']\n",
    "                        alpha_param = 5\n",
    "                        beta_param = 2\n",
    "\n",
    "                        standard_mean = alpha_param / (alpha_param + beta_param)\n",
    "                        scaling_factor = target_mean / standard_mean\n",
    "\n",
    "                        # Ziehe einen Wert aus der Beta-Verteilung im Bereich [0, 1]\n",
    "                        beta_value = beta.rvs(alpha_param, beta_param)\n",
    "\n",
    "                        # Skaliere diesen Wert auf den gewünschten Bereich\n",
    "                        next_down_time = beta_value * scaling_factor\n",
    "                        self.machine_param[bmg]['next_failure'] = next_down_time\n",
    "\n",
    "                    elif y_pred != random_y:\n",
    "                        start_down_time = self.uhrzeit\n",
    "                    \n",
    "                        yield env.timeout(self.machine_param[bmg]['unplaned_maintenance_time'])\n",
    "                        self.machine_param[bmg]['sum_workload'] = 0\n",
    "\n",
    "                        end_down_time = self.uhrzeit\n",
    "\n",
    "                        # Einträge in DB pflegen\n",
    "                        self.cursor.execute('INSERT INTO ELF (bmg, start_downtime, end_downtime, reststandzeit, type) VALUES (?, ?, ?, ?, ?)', \n",
    "                                        (bmg, start_down_time, end_down_time, 0, 'unplaned'))\n",
    "                        self.conn.commit()\n",
    "\n",
    "                        # next down time\n",
    "                        target_mean = self.machine_param[bmg]['mean_runtime']\n",
    "                        alpha_param = 5\n",
    "                        beta_param = 2\n",
    "\n",
    "                        standard_mean = alpha_param / (alpha_param + beta_param)\n",
    "                        scaling_factor = target_mean / standard_mean\n",
    "\n",
    "                        # Ziehe einen Wert aus der Beta-Verteilung im Bereich [0, 1]\n",
    "                        beta_value = beta.rvs(alpha_param, beta_param)\n",
    "\n",
    "                        # Skaliere diesen Wert auf den gewünschten Bereich\n",
    "                        next_down_time = beta_value * scaling_factor\n",
    "                        self.machine_param[bmg]['next_failure'] = next_down_time\n",
    "\n",
    "                        \n",
    "\n",
    "        # Erstelle Produkt Objekte auf Basis der Produktstammdaten siehe db\n",
    "        def lade_produkte(self):\n",
    "            self.produkte = []\n",
    "\n",
    "            # Produkte aus der Tabelle produktstammdaten abrufen\n",
    "            self.cursor.execute('SELECT * FROM produktstammdaten')\n",
    "            rows = self.cursor.fetchall()\n",
    "\n",
    "            # Für jede Zeile ein Produkt-Objekt erstellen\n",
    "            for row in rows:\n",
    "                produkt = Produkt(id=row[0], bezeichnung=row[1], dlz_plan=row[2], losgroesse=row[3], bestand_rtl=row[4], bestand_ftl=row[5], bestellbestand=row[6])\n",
    "                self.produkte.append(produkt)\n",
    "                # Name des Objekts entspricht der Bezeichnung\n",
    "                globals()[produkt.bezeichnung] = produkt\n",
    "\n",
    "        def lade_ffz(self):\n",
    "            self.ffzs = []\n",
    "\n",
    "            self.cursor.execute('SELECT * FROM ffz')\n",
    "            rows = self.cursor.fetchall()\n",
    "\n",
    "            for row in rows:\n",
    "                ffz = FFZ(id=row[0], speed=row[1], akkulaufzeit=row[2])\n",
    "                self.ffzs.append(ffz)    \n",
    "\n",
    "        # Finde Source und Destination des Transports\n",
    "        def find_source_destination(self, arbeitsschritt, folgeschritt):\n",
    "            # Dictionary mit den Standorten der Arbeitsstationen\n",
    "            location_map = {\n",
    "                'RTL': 'a',  # RTL an Standort A\n",
    "                'SAE': 'b',  # Sägen an Standort B\n",
    "                'DRH': 'c',  # Drehen an Standort C\n",
    "                'FRA': 'd',  # Fräsen an Standort D\n",
    "                'QPR': 'e',  # Prüfen an Standort D\n",
    "                'FTL': 'f',  # Fertigteillager an Standort E\n",
    "                'HAE': 'h'\n",
    "            }\n",
    "\n",
    "            # Bestimme den Standort für den aktuellen Arbeitsschritt\n",
    "            if arbeitsschritt is not None:\n",
    "                source = location_map.get(arbeitsschritt[0])\n",
    "            else: \n",
    "                source = location_map.get('RTL')\n",
    "\n",
    "            if folgeschritt is not None:\n",
    "                destination = location_map.get(folgeschritt[0])\n",
    "            else:\n",
    "                destination = location_map.get('FTL')\n",
    "\n",
    "            return source, destination\n",
    "\n",
    "\n",
    "        # Einfachster Fall Bestellbestands-Verfahren - Erzeugung neuer Aufträge bei Unterschreitung der Bestellbestands\n",
    "        def auftragserzeugung(self, env):\n",
    "            self.auftraege = []\n",
    "            self.freigabe_liste = []\n",
    "            while True: # Erzeugungs-Prüflauf läuft kontinuierlich\n",
    "                for produkt in self.produkte:\n",
    "                    # Berechne die Summe der Mengen aller Aufträge für das Produkt (Lagerbestand + Summe offene Aufträge)\n",
    "                    offene_auftragsmenge = sum(auftrag.menge for auftrag in self.auftraege if auftrag.id == produkt.id)\n",
    "                    \n",
    "                    while (produkt.bestand_ftl + offene_auftragsmenge) < produkt.bestellbestand:\n",
    "                        # Auftrag in die Datenbank einfügen\n",
    "                        self.cursor.execute('INSERT INTO auftraege (id, stueckzahl_plan, art) VALUES (?, ?, ?)', (produkt.id, produkt.losgroesse, \"PP\"))\n",
    "\n",
    "                        # Abrufen der Charge für den letzten eingefügten Auftrag\n",
    "                        self.cursor.execute('SELECT charge FROM auftraege ORDER BY charge DESC LIMIT 1')\n",
    "                        charge = self.cursor.fetchone()[0]  \n",
    "\n",
    "                        # Erstellen eines Auftrag-Objekts\n",
    "                        auftrag = Auftrag(charge=charge, id=produkt.id, menge=produkt.losgroesse, art=\"PP\")\n",
    "                        \n",
    "                        # Suche nach den Arbeitsschritten\n",
    "                        self.cursor.execute('SELECT bmg, r_plan, t_plan, nr FROM arbeitsplaene WHERE id=? ORDER BY nr ASC', (produkt.id,))\n",
    "                        rows = self.cursor.fetchall()  \n",
    "                        \n",
    "                        # Alle Arbeitsplan-Einträge zum Auftrag hinzufügen\n",
    "                        for row in rows:\n",
    "                            auftrag.arbeitsplan.append(row) \n",
    "\n",
    "                        # Speichern des Auftrag-Objekts in der Liste\n",
    "                        self.auftraege.append(auftrag)\n",
    "                        self.freigabe_liste.append(auftrag)\n",
    "\n",
    "                        # Auftrag freigeben und als Prozess starten\n",
    "                        env.process(self.auftragsfreigabe(auftrag, produkt, env))\n",
    "\n",
    "                        # Commit\n",
    "                        self.conn.commit()\n",
    "\n",
    "                        # Aktualisiere die offene Auftragsmenge für die nächste Schleife\n",
    "                        offene_auftragsmenge = sum(auftrag.menge for auftrag in self.auftraege if auftrag.id == produkt.id)\n",
    "\n",
    "                        yield env.timeout(0)\n",
    "                yield env.timeout(1)         \n",
    "        \n",
    "        # Berechnet den Bestand in (ZE) an dem Durchsatzengpass\n",
    "        def bestand_engpass(self):\n",
    "            \"\"\"Berechnet die Summe aller Rüst- und Bearbeitungszeiten für Aufträge in der drehen_queue.\"\"\"\n",
    "            total_ruestzeit = 0\n",
    "            total_bearbeitungszeit = 0\n",
    "\n",
    "            # Iteriere über alle Aufträge in der drehen_queue\n",
    "            for auftrag in self.drehen_queue:\n",
    "                for arbeitsschritt in auftrag.arbeitsplan:\n",
    "                    # Prüfen, ob der Arbeitsschritt zu 'DRH' (Drehen) gehört\n",
    "                    if arbeitsschritt[0] == 'DRH':\n",
    "                        total_ruestzeit += arbeitsschritt[1]\n",
    "                        total_bearbeitungszeit += arbeitsschritt[2]*auftrag.menge\n",
    "\n",
    "            gesamtzeit = total_ruestzeit + total_bearbeitungszeit\n",
    "            return gesamtzeit\n",
    "\n",
    "        def insert_add_auftrag(self, env):\n",
    "            # Suche nach den Arbeitsschritten\n",
    "            if self.add_auftrag == None:\n",
    "                pass\n",
    "            else:\n",
    "                for auftrag in self.add_auftrag:\n",
    "                    while datetime.datetime.strptime(auftrag.start, \"%d.%m.%Y %H:%M\") > self.uhrzeit:   \n",
    "                        yield env.timeout(1)\n",
    "                    \n",
    "                    self.cursor.execute('INSERT INTO auftraege (id, stueckzahl_plan, art) VALUES (?, ?, ?)', (auftrag.id, auftrag.menge, \"ZU\"))\n",
    "                    # Abrufen der Charge für den letzten eingefügten Auftrag\n",
    "                    self.cursor.execute('SELECT charge FROM auftraege ORDER BY charge DESC LIMIT 1')\n",
    "                    charge = self.cursor.fetchone()[0]  \n",
    "\n",
    "                    # Erstellen eines Auftrag-Objekts\n",
    "                    auftrag.charge = charge           \n",
    "                    self.cursor.execute('SELECT bmg, r_plan, t_plan, nr FROM arbeitsplaene WHERE id=? ORDER BY nr ASC', (auftrag.id,))\n",
    "                    rows = self.cursor.fetchall()  \n",
    "                    # Alle Arbeitsplan-Einträge zum Auftrag hinzufügen\n",
    "                    for row in rows:\n",
    "                        auftrag.arbeitsplan.append(row)\n",
    "\n",
    "                    self.freigabe_liste.insert(0, auftrag)\n",
    "\n",
    "                    produkt = None\n",
    "                    for p in self.produkte:\n",
    "                        if p.id == auftrag.id:\n",
    "                            produkt = p\n",
    "                            break\n",
    "\n",
    "                    env.process(self.auftragsfreigabe(auftrag, produkt, env))\n",
    "                \n",
    "\n",
    "        # Auftragsfreigabe, bei Unterschreitung des Planbestands am Durchsatz Engpass (hier DRH) \n",
    "        def auftragsfreigabe(self, auftrag, produkt, env):\n",
    "            \"\"\"Führt die Produktionsschritte für einen gegebenen Auftrag durch.\n",
    "            Args:\n",
    "            auftrag: Das Auftrag-Objekt, das die Arbeitspläne enthält.\n",
    "            produkt: Das Produkt, das bearbeitet wird.\n",
    "            env: Die SimPy-Umgebung, die die Simulation verwaltet.\n",
    "            \"\"\"       \n",
    "            status = False\n",
    "            \n",
    "            # kontinuierliche Prüfung der Freigabekriterien \n",
    "            while status == False:\n",
    "                while self.factory_status == False:\n",
    "                    \n",
    "                    yield env.timeout(1)\n",
    "                \n",
    "                self.bestand_am_engpass = self.bestand_engpass() # aktualisiert den bestand am Engpass\n",
    "                \n",
    "                # gibt Auftrag frei, wenn der Auftrag den Engpass durchläuft, der Auftrag der erste der liste ist und der Bestand am Engpass den Planbestand unterschreitet\n",
    "                if self.freigabe_liste[0] == auftrag and self.bestand_am_engpass < 1960 / 2 and any(step[0] == 'DRH' for step in auftrag.arbeitsplan):\n",
    "                    status = True\n",
    "                    self.freigabe_liste.remove(auftrag)\n",
    "                    break\n",
    "                \n",
    "                # Aufträge nicht über den Engpass laufen werden sofort freigegeben \n",
    "                elif not any(step[0] == 'DRH' for step in auftrag.arbeitsplan):\n",
    "                    status = True\n",
    "                    self.freigabe_liste.remove(auftrag)\n",
    "\n",
    "                else:\n",
    "                    yield env.timeout(1)\n",
    "            \n",
    "            # Freigabe in DB pflegen\n",
    "            self.cursor.execute('''UPDATE auftraege SET freigabe = ? WHERE Charge = ?''', \n",
    "                                    (self.uhrzeit, auftrag.charge))\n",
    "            self.conn.commit()\n",
    "\n",
    "            # Stationen\n",
    "            workstations = {\n",
    "                'SAE': self.saegen,\n",
    "                'DRH': self.drehen,\n",
    "                'QPR': self.pruefen,\n",
    "                'FRA': self.fraesen,\n",
    "                'HAE': self.haerten\n",
    "            }\n",
    "\n",
    "            # Queues\n",
    "            queues = {\n",
    "                'SAE': self.saegen_queue,\n",
    "                'DRH': self.drehen_queue,\n",
    "                'QPR': self.pruefen_queue,\n",
    "                'FRA': self.fraesen_queue,\n",
    "                'HAE': self.haerten_queue\n",
    "            }\n",
    "\n",
    "            # Zuordnung der Queues nach erfolgreicher Auftragsfreigabe\n",
    "            #for arbeitsschritt in auftrag.arbeitsplan:\n",
    "            # Hole die Bearbeitungsfunktion und Queue der entsprechenden Arbeitsstation\n",
    "                \n",
    "            # Auftragsfreigabe in DB protokollieren \n",
    "\n",
    "            # Eintrag in DB zur Protokollierung des Lagereingangs\n",
    "            freigabe = self.uhrzeit\n",
    "            self.cursor.execute('INSERT INTO FLF (ankunft, charge, bmg) VALUES (?, ?, ?)', \n",
    "                            (freigabe, auftrag.charge, 'RTL'))\n",
    "            self.conn.commit()\n",
    "\n",
    "            for i, arbeitsschritt in enumerate(auftrag.arbeitsplan):\n",
    "                # Transport aus RTL für 1. Arbeitsschritt\n",
    "                station_queue = queues.get(arbeitsschritt[0])\n",
    "\n",
    "                # Füge den Auftrag der Queue der Station hinzu\n",
    "                station_queue.append(auftrag)\n",
    "\n",
    "                \n",
    "                if arbeitsschritt == auftrag.arbeitsplan[0]:\n",
    "                    # Bestimme Source und Destination\n",
    "                    source, destination = self.find_source_destination(None, arbeitsschritt)\n",
    "                    # Transport\n",
    "                    yield env.process(self.transport(auftrag, source, destination, arbeitsschritt, env))\n",
    "                    ankunft = self.uhrzeit\n",
    "                else: # Ankunft aller anderen Aufträge\n",
    "                    ankunft = self.uhrzeit\n",
    "\n",
    "                # Start Bearbeitungsprozess            \n",
    "                yield env.process(workstations.get(arbeitsschritt[0])(auftrag, arbeitsschritt, env))\n",
    "\n",
    "                # Nächster Arbeitsschritt (falls vorhanden)\n",
    "                folgeschritt = auftrag.arbeitsplan[i + 1] if i + 1 < len(auftrag.arbeitsplan) else None\n",
    "    \n",
    "                # Bestimme Source und Destination\n",
    "                source, destination = self.find_source_destination(arbeitsschritt, folgeschritt)\n",
    "\n",
    "                # Transport \n",
    "                yield env.process(self.transport(auftrag,source, destination, arbeitsschritt, env))\n",
    "\n",
    "                # Einträge in DB pflegen\n",
    "                self.cursor.execute('''UPDATE FLF SET ankunft = ? WHERE Charge = ? AND bmg like ?''', \n",
    "                                    (ankunft, auftrag.charge, arbeitsschritt[0] + '%'))\n",
    "                self.conn.commit()\n",
    "\n",
    "                # Falls der letzte Arbeitsschritt ausgeführt wurde:\n",
    "                if arbeitsschritt == auftrag.arbeitsplan[-1]:\n",
    "                    # Auftrag aus Auftragsliste entfernen                            \n",
    "                    if auftrag.art == \"PP\":\n",
    "                        # Bestand um die Losgröße erhöhen\n",
    "                        produkt.bestand_ftl += produkt.losgroesse\n",
    "                        self.auftraege.remove(auftrag)\n",
    "                        # Bestand des Produkts in der Datenbank aktualisieren\n",
    "                        self.cursor.execute('UPDATE produktstammdaten SET bestand_ftl = ? WHERE id = ?', (produkt.bestand_ftl, produkt.id))\n",
    "\n",
    "                    \n",
    "                    # Eintrag in DB zur Protokollierung des Lagereingangs\n",
    "                    ankunft_ftl = self.uhrzeit\n",
    "                    self.cursor.execute('INSERT INTO FLF (ankunft, charge, bmg) VALUES (?, ?, ?)', \n",
    "                            (ankunft_ftl, auftrag.charge, 'FTL'))\n",
    "                    \n",
    "                    # Bearbeitungsenge in DB pflegen\n",
    "                    self.cursor.execute('''UPDATE auftraege SET fertigstellung = ?, stueckzahl_ist = ? WHERE Charge = ?''', \n",
    "                                    (self.uhrzeit, auftrag.menge, auftrag.charge))\n",
    "                    self.conn.commit()          \n",
    "\n",
    "        ##### Produktionsfunktionen\n",
    "        def saegen(self, auftrag, arbeitsschritt, env):\n",
    "            # Prüfen ob die Maschine belegt ist       \n",
    "            while self.saegen_status == (\"b\" or \"d\") or self.saegen_queue[0] != auftrag:\n",
    "                yield env.timeout(1)\n",
    "            \n",
    "            # Status belegt, bei Start der Bearbeitung\n",
    "            self.saegen_status = \"b\"\n",
    "\n",
    "            # Simulation der Bearbeitungszeiten\n",
    "            yield env.process(self.run_time(arbeitsschritt, auftrag, arbeitsschritt[0], env))\n",
    "\n",
    "            # Status verfügbar, bei Ende der Bearbeitung\n",
    "            self.saegen_status = \"v\"\n",
    "\n",
    "            # Entferne den Auftrag nach der Bearbeitung aus der Warteschlange\n",
    "            self.saegen_queue.remove(auftrag)\n",
    "\n",
    "        def drehen(self, auftrag, arbeitsschritt, env):\n",
    "            # Aufbau der weiteren Produktionsfunktionen analog der ersten\n",
    "            # Besonderheit beim Drehen: 2 Arbeitssysteme        \n",
    "            # Füge Auftrag zur internen Queue hinzu\n",
    "            self.drehen_queue_intern.append(auftrag)\n",
    "            \n",
    "            while (self.drehen_1_status == (\"b\" or \"d\") and self.drehen_2_status == (\"b\" or \"d\")) or self.drehen_queue_intern[0] != auftrag:\n",
    "                yield env.timeout(1)\n",
    "\n",
    "            if self.drehen_1_status == \"v\":\n",
    "\n",
    "                self.drehen_1_status = \"b\"\n",
    "\n",
    "                # Entferne Auftrag aus interner Queue\n",
    "                self.drehen_queue_intern.remove(auftrag)\n",
    "\n",
    "                # Simulation der Bearbeitungszeiten\n",
    "                yield env.process(self.run_time(arbeitsschritt, auftrag, \"DRH1\", env))\n",
    "\n",
    "                # Entferne den Auftrag nach der Bearbeitung aus der Warteschlange\n",
    "                self.drehen_queue.remove(auftrag)\n",
    "\n",
    "                self.drehen_1_status = \"v\"\n",
    "\n",
    "            elif self.drehen_2_status == \"v\":\n",
    "\n",
    "                self.drehen_2_status = \"b\"\n",
    "\n",
    "                # Entferne Auftrag aus interner Queue\n",
    "                self.drehen_queue_intern.remove(auftrag)\n",
    "\n",
    "                # Simulation der Bearbeitungszeiten\n",
    "                yield env.process(self.run_time(arbeitsschritt, auftrag, \"DRH2\", env))\n",
    "\n",
    "                # Entferne den Auftrag nach der Bearbeitung aus der Warteschlange\n",
    "                self.drehen_queue.remove(auftrag)\n",
    "\n",
    "                self.drehen_2_status = \"v\"\n",
    "\n",
    "        def fraesen(self, auftrag, arbeitsschritt, env):\n",
    "            # Prüfen ob die Maschine belegt ist\n",
    "            while self.fraesen_status == (\"b\" or \"d\") or self.fraesen_queue[0] != auftrag:\n",
    "                yield env.timeout(1)\n",
    "            \n",
    "            # Status belegt, bei Start der Bearbeitung\n",
    "            self.fraesen_status = \"b\"\n",
    "\n",
    "            # Simulation der Bearbeitungszeiten\n",
    "            yield env.process(self.run_time(arbeitsschritt, auftrag, arbeitsschritt[0], env))\n",
    "            \n",
    "            # Status verfügbar, bei Ende der Bearbeitung\n",
    "            self.fraesen_status = \"v\"\n",
    "\n",
    "            # Entferne den Auftrag nach der Bearbeitung aus der Warteschlange\n",
    "            self.fraesen_queue.remove(auftrag)\n",
    "            \n",
    "        def pruefen(self, auftrag, arbeitsschritt, env):\n",
    "            # prüfen ob die Maschine belegt ist\n",
    "            while self.pruefen_status == (\"b\" or \"d\") or self.pruefen_queue[0] != auftrag:\n",
    "                yield env.timeout(1)\n",
    "            \n",
    "            self.pruefen_status = \"b\"\n",
    "            \n",
    "            # Simulation der Bearbeitungszeiten\n",
    "            yield env.process(self.run_time(arbeitsschritt, auftrag, arbeitsschritt[0], env))\n",
    "\n",
    "            self.pruefen_status = \"v\"\n",
    "\n",
    "            # Entferne den Auftrag nach der Bearbeitung aus der Warteschlange\n",
    "            self.pruefen_queue.remove(auftrag)\n",
    "\n",
    "        def haerten(self, auftrag, arbeitsschritt, env):\n",
    "            # prüfen ob die Maschine belegt ist\n",
    "            while self.haerten_status == (\"b\" or \"d\") or self.haerten_queue[0] != auftrag:\n",
    "                yield env.timeout(1)\n",
    "            \n",
    "            self.haerten_status = \"b\"\n",
    "            \n",
    "            # Simulation der Bearbeitungszeiten\n",
    "            yield env.process(self.run_time(arbeitsschritt, auftrag, arbeitsschritt[0], env))\n",
    "\n",
    "            self.haerten_status = \"v\"\n",
    "\n",
    "            # Entferne den Auftrag nach der Bearbeitung aus der Warteschlange\n",
    "            self.haerten_queue.remove(auftrag)\n",
    "\n",
    "        ##### Transportfunktionen\n",
    "        def transport(self, auftrag, source, destination, arbeitsschritt, env):\n",
    "            status = False\n",
    "            best_c = np.inf\n",
    "            best_ffz = None\n",
    "\n",
    "            for ffz in self.ffzs:\n",
    "                if len(ffz.queue) == 0:\n",
    "                    distance = self.graph.dijkstra(ffz.curr_location, source)[1]\n",
    "                else:\n",
    "                    distance = self.graph.dijkstra(ffz.last_checkpoint[-1], source)[1]\n",
    "                previous = len(ffz.queue)\n",
    "                speed = ffz.speed\n",
    "                c = a * distance + b * previous - d * speed\n",
    "                if c < best_c:\n",
    "                    best_c = c\n",
    "                    best_ffz = ffz\n",
    "            \n",
    "            ffz = best_ffz\n",
    "            ffz.queue.append(auftrag)\n",
    "            ffz.last_checkpoint.append(destination)\n",
    "\n",
    "            # Fortlaufende Überprüfung ob FFZ verfügbar ist\n",
    "            while status == False:\n",
    "                if ffz.curr_transport == None:\n",
    "                    # Zuweisen des Auftrags zu FFZ\n",
    "                    ffz.curr_transport = auftrag\n",
    "                                    \n",
    "                    # Berechnung der Distance des FFZs zur Source mit Dijkstra Algorithmus\n",
    "                    distance_to_source = self.graph.dijkstra(ffz.curr_location, source)[1] # self.graph.dijkstra(\"a\", \"d\")[0] für gewählte Route\n",
    "                    route_to_source = self.graph.dijkstra(ffz.curr_location, source)[0]\n",
    "                    route_as_string = '->'.join(route_to_source)\n",
    "\n",
    "                    # Berechnung der Fahrdauer zur Source\n",
    "                    duration_to_source =  math.ceil((distance_to_source / ffz.speed) / 60)\n",
    "\n",
    "                    # Energieverbrauch\n",
    "                    ffz.akkustand -= distance_to_source\n",
    "                    if distance_to_source > 0:\n",
    "                        # Fahrt zur Source \n",
    "                        yield env.process(self.check_for_soon_shotdown(duration_to_source, env))\n",
    "                        yield env.timeout(duration_to_source)\n",
    "\n",
    "                            \n",
    "                        # Fahrt in TLF eintragen\n",
    "                        self.cursor.execute('INSERT INTO TLF (FFZ_id, start_knoten, end_knoten, route, startzeitpunkt, endzeitpunkt, akkustand) VALUES (?, ?, ?, ?, ?, ?, ?)', \n",
    "                                    (ffz.id, ffz.curr_location, source, route_as_string, self.uhrzeit - datetime.timedelta(minutes=duration_to_source), self.uhrzeit, ffz.akkustand/ffz.akkulaufzeit))\n",
    "\n",
    "                    # Abtransport in FLT pflegen\n",
    "                    abtransport = self.uhrzeit\n",
    "                    self.cursor.execute('''UPDATE FLF SET abtransport = ? WHERE Charge = ? AND bmg like ?''', \n",
    "                                            (abtransport, auftrag.charge, arbeitsschritt[0] + '%'))\n",
    "                    self.conn.commit()\n",
    "                    \n",
    "                    # Berechnung der Distance zur Destination\n",
    "                    distance_to_destination = self.graph.dijkstra(source, destination)[1] # self.graph.dijkstra(\"a\", \"d\")[0] für gewählte Route\n",
    "                    route_to_destination = self.graph.dijkstra(source, destination)[0]\n",
    "                    route_as_string = '->'.join(route_to_destination)\n",
    "                    # Berechnung der Fahrdauer zur Destination\n",
    "                    duration_to_destination = math.ceil((distance_to_destination / ffz.speed) / 60 + 2)\n",
    "\n",
    "                    # Fahrt zur Destination\n",
    "                    yield env.process(self.check_for_soon_shotdown(duration_to_destination, env))\n",
    "                    yield env.timeout(duration_to_destination)\n",
    "                    ffz.curr_location = destination\n",
    "\n",
    "                    # Fahrt in TLF eintragen\n",
    "                    self.cursor.execute('INSERT INTO TLF (FFZ_id, start_knoten, end_knoten, route,startzeitpunkt, endzeitpunkt, akkustand, charge) VALUES (?, ?, ?, ?, ?, ?, ?, ?)', \n",
    "                                (ffz.id, source, destination, route_as_string, self.uhrzeit - datetime.timedelta(minutes=duration_to_destination), self.uhrzeit, ffz.akkustand/ffz.akkulaufzeit, auftrag.charge))\n",
    "\n",
    "                    # Energieverbrauch\n",
    "                    ffz.akkustand -= distance_to_destination  \n",
    "\n",
    "                    # Zurücksetzen der Stati\n",
    "                    ffz.curr_transport = None\n",
    "                    status = True\n",
    "\n",
    "                    ffz.queue.remove(auftrag)\n",
    "                    ffz.last_checkpoint.remove(destination)\n",
    "                yield env.timeout(1)\n",
    "\n",
    "        # Ladevorgang FFZ\n",
    "        def ladevorgang(self, env):\n",
    "            while True:\n",
    "                for ffz in self.ffzs:\n",
    "                    if ffz.curr_transport == None and ffz.akkustand < 0.3 * ffz.akkulaufzeit:\n",
    "                            ffz.curr_transport = \"L\"\n",
    "                            \n",
    "                            # Berechnung der Distance des FFZs zur Source mit Dijkstra Algorithmus\n",
    "                            distance_to_station = self.graph.dijkstra(ffz.curr_location, \"g\")[1] # self.graph.dijkstra(\"a\", \"d\")[0] für gewählte Route\n",
    "                            route_to_station = self.graph.dijkstra(ffz.curr_location, \"g\")[0]\n",
    "                            route_as_string = '->'.join(route_to_station)          \n",
    "                            # Berechnung der Fahrdauer zur Source\n",
    "                            duration_to_station = (distance_to_station / ffz.speed) / 60\n",
    "\n",
    "                            # Energieverbrauch\n",
    "                            ffz.akkustand -= distance_to_station\n",
    "                            \n",
    "                            # Fahrt zur Station\n",
    "                            yield env.process(self.check_for_soon_shotdown(duration_to_station, env))\n",
    "                            yield env.timeout(duration_to_station)\n",
    "\n",
    "                            # Fahrt in TLF eintragen\n",
    "                            self.cursor.execute('INSERT INTO TLF (FFZ_id, start_knoten, end_knoten, route, startzeitpunkt, endzeitpunkt, akkustand) VALUES (?, ?, ?, ?, ?, ?, ?)', \n",
    "                                                (ffz.id, ffz.curr_location, 'g', route_as_string,self.uhrzeit - datetime.timedelta(minutes=duration_to_station), self.uhrzeit, ffz.akkustand/ffz.akkulaufzeit))\n",
    "                            \n",
    "                            # Ladevorgang an sich \n",
    "                            yield env.timeout((ffz.akkulaufzeit - ffz.akkustand) / 50)\n",
    "                            ffz.akkustand = ffz.akkulaufzeit\n",
    "\n",
    "                            ffz.curr_location = \"g\"\n",
    "                            ffz.curr_transport = None\n",
    "\n",
    "                yield env.timeout(0.5)\n",
    "\n",
    "        # Absatzfunktion\n",
    "        def absatz(self, env):\n",
    "            stueckliste = {'A1': 1,\n",
    "                        'A2': 2,\n",
    "                        'A3': 2,\n",
    "                        'A4': 4,\n",
    "                        'A5': 2,\n",
    "                        'A6': 4,\n",
    "                        'A7': 1,\n",
    "                        'A8': 4}\n",
    "            tagesstueckzahl_mittel = 30\n",
    "            standardabweichung = 3\n",
    "\n",
    "            while True:\n",
    "                while self.uhrzeit.weekday() == 5 or self.uhrzeit.weekday() == 6:\n",
    "                    yield env.timeout(1440)\n",
    "\n",
    "                for produkt in self.produkte:\n",
    "                    tagesstueckzahl = max(0, int(random.normalvariate(tagesstueckzahl_mittel, standardabweichung))) \n",
    "                    bedarf = tagesstueckzahl * stueckliste[produkt.id]\n",
    "\n",
    "                    produkt.bestand_ftl -= bedarf\n",
    "                \n",
    "                yield env.timeout(1440)\n",
    "\n",
    "    import warnings\n",
    "\n",
    "    # Unterdrücke alle DeprecationWarnings\n",
    "    warnings.filterwarnings(\"ignore\", category=DeprecationWarning)\n",
    "\n",
    "    def run_simulation(start, end, add_auftrag): # z.B. \"01.01.2024 00:00\"\n",
    "\n",
    "        start = datetime.datetime.strptime(start, \"%d.%m.%Y %H:%M\")\n",
    "        end = datetime.datetime.strptime(end, \"%d.%m.%Y %H:%M\")\n",
    "        \n",
    "        delta = end - start\n",
    "        delta = int(delta.total_seconds() / 60)\n",
    "\n",
    "        env = simpy.Environment()\n",
    "\n",
    "\n",
    "        factory = Factory(env, 'prod_data.db', start, 'S2', add_auftrag, a, b, d)\n",
    "        env.run(until=delta)\n",
    "\n",
    "    run_simulation(\"01.01.2024 00:00\", \"01.07.2024 00:00\", add_auftrag = None)\n",
    "\n",
    "    logger = task.get_logger()\n",
    "\n",
    "    # KPI-Daten berechnen\n",
    "    data = KPI_functions.calc_KPIs('prod_data.db')\n",
    "\n",
    "    # Werte extrahieren und in Variablen umwandeln\n",
    "    global_total_distance = float(data['globalTotalDistance'])\n",
    "    global_empty_distance = float(data['globalEmptyDistance'])\n",
    "\n",
    "    f1_total_distance = float(data['SingleDistances']['F1']['TotalDistance'])\n",
    "    f1_empty_distance = float(data['SingleDistances']['F1']['EmptyDistance'])\n",
    "\n",
    "    f2_total_distance = float(data['SingleDistances']['F2']['TotalDistance'])\n",
    "    f2_empty_distance = float(data['SingleDistances']['F2']['EmptyDistance'])\n",
    "\n",
    "    f3_total_distance = float(data['SingleDistances']['F3']['TotalDistance'])\n",
    "    f3_empty_distance = float(data['SingleDistances']['F3']['EmptyDistance'])\n",
    "\n",
    "    # Wartezeit in Minuten umrechnen\n",
    "    global_mean_waiting_time = data['globalMeanWaitingTime'].total_seconds() / 60\n",
    "\n",
    "    # Ergebnisse loggen\n",
    "    logger.report_single_value(\"global_total_distance\", global_total_distance)\n",
    "    logger.report_single_value(\"global_empty_distance\", global_empty_distance)\n",
    "\n",
    "    logger.report_single_value(\"f1_total_distance\", f1_total_distance)\n",
    "    logger.report_single_value(\"f1_empty_distance\", f1_empty_distance)\n",
    "\n",
    "    logger.report_single_value(\"f2_total_distance\", f2_total_distance)\n",
    "    logger.report_single_value(\"f2_empty_distance\", f2_empty_distance)\n",
    "\n",
    "    logger.report_single_value(\"f3_total_distance\", f3_total_distance)\n",
    "    logger.report_single_value(\"f3_empty_distance\", f3_empty_distance)\n",
    "\n",
    "    logger.report_single_value(\"global_mean_waiting_time (mins)\", global_mean_waiting_time)\n",
    "\n",
    "    logger.report_single_value(\"a\", a)\n",
    "    logger.report_single_value(\"b\", b)\n",
    "    logger.report_single_value(\"d\", d)\n",
    "\n",
    "    # Task abschließen\n",
    "    task.close()\n",
    "\n",
    "    return global_empty_distance, global_mean_waiting_time\n",
    "\n"
   ]
  },
  {
   "cell_type": "code",
   "execution_count": 21,
   "id": "5fb769ac",
   "metadata": {},
   "outputs": [
    {
     "name": "stdout",
     "output_type": "stream",
     "text": [
      "Verarbeite Task-Datei: /Users/karl/.clearml/cache/offline/offline-b549becf09a34399ab1d49def9580c6e.zip\n",
      "Verarbeite Task-Datei: /Users/karl/.clearml/cache/offline/offline-324ec5ce35e9496381cc0c26015f85d7.zip\n",
      "Verarbeite Task-Datei: /Users/karl/.clearml/cache/offline/offline-5694e9c614f94548b1ef16eb85f17d67.zip\n",
      "Verarbeite Task-Datei: /Users/karl/.clearml/cache/offline/offline-6b846520882240a28bf87168680e9a6e.zip\n",
      "Verarbeite Task-Datei: /Users/karl/.clearml/cache/offline/offline-4b1c4375680f492c8ee755ae09d270fb.zip\n",
      "Verarbeite Task-Datei: /Users/karl/.clearml/cache/offline/offline-89325b50c112442293be97355387473c.zip\n",
      "Verarbeite Task-Datei: /Users/karl/.clearml/cache/offline/offline-90a33288743344cd87f8b851a6e98f68.zip\n",
      "Verarbeite Task-Datei: /Users/karl/.clearml/cache/offline/offline-0cccf3e089dd4d0eb94276b6d9511ebe.zip\n",
      "Verarbeite Task-Datei: /Users/karl/.clearml/cache/offline/offline-2c7e0464f4b6456eb3f184d0ea3f7d76.zip\n",
      "Verarbeite Task-Datei: /Users/karl/.clearml/cache/offline/offline-c27c5888aec1420ba2dc38a5cdf4528b.zip\n",
      "Verarbeite Task-Datei: /Users/karl/.clearml/cache/offline/offline-fd5a5d4958be43a48df4bcb584a06334.zip\n",
      "Verarbeite Task-Datei: /Users/karl/.clearml/cache/offline/offline-588dcc7c9f2f4f429de87d26393c82d6.zip\n",
      "Verarbeite Task-Datei: /Users/karl/.clearml/cache/offline/offline-7ee728fe64f247bc8ac435b7325a000d.zip\n",
      "Verarbeite Task-Datei: /Users/karl/.clearml/cache/offline/offline-f00627d76d0047f6b7307725590800ac.zip\n",
      "Verarbeite Task-Datei: /Users/karl/.clearml/cache/offline/offline-5731d5e8bfa84bc9bec8aea5745a52ea.zip\n",
      "Verarbeite Task-Datei: /Users/karl/.clearml/cache/offline/offline-ea3c72e4224940b3ae30ea7f3d2cc360.zip\n",
      "Verarbeite Task-Datei: /Users/karl/.clearml/cache/offline/offline-d4484f1482c84947bca5900e652015d6.zip\n",
      "Verarbeite Task-Datei: /Users/karl/.clearml/cache/offline/offline-882c1396c1db41ca9053a2e10a66c1af.zip\n",
      "Verarbeite Task-Datei: /Users/karl/.clearml/cache/offline/offline-6bcd23054d9745cd8ad907c6c2bfe635.zip\n",
      "Verarbeite Task-Datei: /Users/karl/.clearml/cache/offline/offline-f1c4798bffda4efaaa42790b49827bc0.zip\n",
      "Verarbeite Task-Datei: /Users/karl/.clearml/cache/offline/offline-77e5fdda409649b59c4706c147745f5b.zip\n",
      "Verarbeite Task-Datei: /Users/karl/.clearml/cache/offline/offline-e545927ed5744bc49848dcab03387039.zip\n",
      "Verarbeite Task-Datei: /Users/karl/.clearml/cache/offline/offline-7d57f727b95148d780663bf4909cd493.zip\n",
      "Verarbeite Task-Datei: /Users/karl/.clearml/cache/offline/offline-26a090a65e9940faa8e25919aedc958c.zip\n",
      "Verarbeite Task-Datei: /Users/karl/.clearml/cache/offline/offline-492862839706431683c0771bd4a3846f.zip\n",
      "Verarbeite Task-Datei: /Users/karl/.clearml/cache/offline/offline-e039cd20aaf24601966b4fec1910fdeb.zip\n",
      "Verarbeite Task-Datei: /Users/karl/.clearml/cache/offline/offline-8ab3481fd23e4148aa42e0356a447d54.zip\n",
      "Verarbeite Task-Datei: /Users/karl/.clearml/cache/offline/offline-7de8ebdd911e444483484861419e04ce.zip\n",
      "Verarbeite Task-Datei: /Users/karl/.clearml/cache/offline/offline-894f04baa151450d9564ccd118ccdd32.zip\n",
      "Verarbeite Task-Datei: /Users/karl/.clearml/cache/offline/offline-e69c3f781c2b4db78ebfea225a5a6aae.zip\n",
      "Verarbeite Task-Datei: /Users/karl/.clearml/cache/offline/offline-c969bec2c89a4f4eb5ae646aee7607ac.zip\n",
      "Verarbeite Task-Datei: /Users/karl/.clearml/cache/offline/offline-2307cedae1834ac3bf398c1efed41683.zip\n",
      "Verarbeite Task-Datei: /Users/karl/.clearml/cache/offline/offline-9163e61e0fc043ec8d295b55e00c74ed.zip\n",
      "Verarbeite Task-Datei: /Users/karl/.clearml/cache/offline/offline-4c12395cce7d49f1af899bbaf16f535c.zip\n",
      "Verarbeite Task-Datei: /Users/karl/.clearml/cache/offline/offline-1a8113fcee0b43a39ffb96dcde648098.zip\n",
      "Verarbeite Task-Datei: /Users/karl/.clearml/cache/offline/offline-12a56edaabbf474c8c3084c7b80dc9f6.zip\n",
      "Verarbeite Task-Datei: /Users/karl/.clearml/cache/offline/offline-579f0847c1ec4fc2b5299166096ed721.zip\n",
      "Verarbeite Task-Datei: /Users/karl/.clearml/cache/offline/offline-dfb8a6f135644a5893be300bcc2947cb.zip\n",
      "Verarbeite Task-Datei: /Users/karl/.clearml/cache/offline/offline-9a5498fe4b824acd8f4b3b67792df04d.zip\n",
      "Verarbeite Task-Datei: /Users/karl/.clearml/cache/offline/offline-209bbd5ed65d400cafa6805663200cfa.zip\n",
      "Verarbeite Task-Datei: /Users/karl/.clearml/cache/offline/offline-1a776963e44647e0a4a40a3af7a3a2fd.zip\n",
      "Verarbeite Task-Datei: /Users/karl/.clearml/cache/offline/offline-b9d1eafb17694656b1b97ee483f20b1f.zip\n",
      "Verarbeite Task-Datei: /Users/karl/.clearml/cache/offline/offline-c73d218c0a48407fbab42975abe6678f.zip\n",
      "Verarbeite Task-Datei: /Users/karl/.clearml/cache/offline/offline-cbe6f712f68d44ab816aa98d8784d7fd.zip\n",
      "Verarbeite Task-Datei: /Users/karl/.clearml/cache/offline/offline-241efa55c0bc46f6b238755b74b71f91.zip\n",
      "Verarbeite Task-Datei: /Users/karl/.clearml/cache/offline/offline-95a7e51beb5b4b74b4326078b2e42614.zip\n",
      "Verarbeite Task-Datei: /Users/karl/.clearml/cache/offline/offline-14014e1310a947439b4d1670993ee188.zip\n",
      "Verarbeite Task-Datei: /Users/karl/.clearml/cache/offline/offline-39bdc89524234afa82824ed5284891be.zip\n",
      "Verarbeite Task-Datei: /Users/karl/.clearml/cache/offline/offline-90d54912920847f7bdbeb7dd53128400.zip\n",
      "Verarbeite Task-Datei: /Users/karl/.clearml/cache/offline/offline-f81c9eb92d3a4214a7829d02a6709949.zip\n",
      "Verarbeite Task-Datei: /Users/karl/.clearml/cache/offline/offline-51caf708bdc64a73965e7b8e3da4672b.zip\n",
      "Verarbeite Task-Datei: /Users/karl/.clearml/cache/offline/offline-4c2f1b50798845c080c163f92f56b90a.zip\n",
      "Verarbeite Task-Datei: /Users/karl/.clearml/cache/offline/offline-e41aeb5025ab4ad8b8d20c458922fced.zip\n",
      "Verarbeite Task-Datei: /Users/karl/.clearml/cache/offline/offline-4ecbdc5e7614485abae4e56702195216.zip\n",
      "Verarbeite Task-Datei: /Users/karl/.clearml/cache/offline/offline-a4d20d211ab04f6781522b433e07069a.zip\n",
      "Verarbeite Task-Datei: /Users/karl/.clearml/cache/offline/offline-3c7c8dfe56d942aea98ae2bbbad85193.zip\n",
      "Verarbeite Task-Datei: /Users/karl/.clearml/cache/offline/offline-d417d180ff534b168b0c31f1f230c2e6.zip\n",
      "Verarbeite Task-Datei: /Users/karl/.clearml/cache/offline/offline-8722e09e56f041229e32765d6e65d14b.zip\n",
      "Verarbeite Task-Datei: /Users/karl/.clearml/cache/offline/offline-c9e9192b4ea74a9dafe029f9cae3c026.zip\n",
      "Verarbeite Task-Datei: /Users/karl/.clearml/cache/offline/offline-0774ff5a5a16477db7baf369fc682a98.zip\n",
      "Verarbeite Task-Datei: /Users/karl/.clearml/cache/offline/offline-77bcd37217334c7f9b9b2922059898a6.zip\n",
      "Verarbeite Task-Datei: /Users/karl/.clearml/cache/offline/offline-f670f200aa554008b7c53201f65660e6.zip\n",
      "Verarbeite Task-Datei: /Users/karl/.clearml/cache/offline/offline-155ec4306b4a41a7a4861a2c82e1de82.zip\n",
      "Verarbeite Task-Datei: /Users/karl/.clearml/cache/offline/offline-9ed809020ced477492634c197d69f7de.zip\n",
      "Verarbeite Task-Datei: /Users/karl/.clearml/cache/offline/offline-37bf024b14a4418dbd1b5bb98bad217b.zip\n",
      "Verarbeite Task-Datei: /Users/karl/.clearml/cache/offline/offline-daa39e747de1426ca5ae33b9d691f548.zip\n",
      "Verarbeite Task-Datei: /Users/karl/.clearml/cache/offline/offline-432191c8f8e54295a6f7b8829bd50091.zip\n",
      "Verarbeite Task-Datei: /Users/karl/.clearml/cache/offline/offline-57deee1748224904ae58e58dcb323906.zip\n",
      "Verarbeite Task-Datei: /Users/karl/.clearml/cache/offline/offline-ec438f353d5c40d5a52a8c5eaca14170.zip\n",
      "Verarbeite Task-Datei: /Users/karl/.clearml/cache/offline/offline-ca24d16dc02c4fa09d7f9b83172eb18c.zip\n",
      "Verarbeite Task-Datei: /Users/karl/.clearml/cache/offline/offline-210c71979f6346b0b2aea7ba728f8ef2.zip\n",
      "Verarbeite Task-Datei: /Users/karl/.clearml/cache/offline/offline-8c8056fb49154175a30624282ab5e875.zip\n",
      "Verarbeite Task-Datei: /Users/karl/.clearml/cache/offline/offline-055a0963aa0f4713bb8deffdde445280.zip\n",
      "Verarbeite Task-Datei: /Users/karl/.clearml/cache/offline/offline-5d5f9f4f597b4254b4e48c6d0596400c.zip\n",
      "Verarbeite Task-Datei: /Users/karl/.clearml/cache/offline/offline-9b9c805454ea4a7b9dd897702fd1bf33.zip\n",
      "Verarbeite Task-Datei: /Users/karl/.clearml/cache/offline/offline-5c5eba4f007d472cac95b89d07060c55.zip\n",
      "Verarbeite Task-Datei: /Users/karl/.clearml/cache/offline/offline-ee2c65bdd594488485116b8917dc6ce0.zip\n",
      "Verarbeite Task-Datei: /Users/karl/.clearml/cache/offline/offline-9757300381c7471d8a7d09d3689532c2.zip\n",
      "Verarbeite Task-Datei: /Users/karl/.clearml/cache/offline/offline-83406d2167ab46da9896ee0124d84b28.zip\n",
      "Verarbeite Task-Datei: /Users/karl/.clearml/cache/offline/offline-9f923785303440eb808d1bc42d4edb52.zip\n",
      "Verarbeite Task-Datei: /Users/karl/.clearml/cache/offline/offline-5872ebd82ca7455cb05a3fe3edee84b6.zip\n",
      "Verarbeite Task-Datei: /Users/karl/.clearml/cache/offline/offline-9524d589e64a4666a7ea12cf81712812.zip\n",
      "Verarbeite Task-Datei: /Users/karl/.clearml/cache/offline/offline-8fca0664bcb745109a2444bdf6ffa3d3.zip\n",
      "Verarbeite Task-Datei: /Users/karl/.clearml/cache/offline/offline-f182c7fd79054776a6d4a3da8d0b6b5a.zip\n",
      "Verarbeite Task-Datei: /Users/karl/.clearml/cache/offline/offline-fa9f89954c484eaa8b3e18be3d35aeb6.zip\n",
      "Verarbeite Task-Datei: /Users/karl/.clearml/cache/offline/offline-a779b7c8f4fe420b96566202b5def1b7.zip\n",
      "Verarbeite Task-Datei: /Users/karl/.clearml/cache/offline/offline-1ef39e9b64e24b14ad9b0b9642e6e774.zip\n",
      "Verarbeite Task-Datei: /Users/karl/.clearml/cache/offline/offline-376219523ae24cbaaa9a6d56261dd7c3.zip\n",
      "Verarbeite Task-Datei: /Users/karl/.clearml/cache/offline/offline-78bf173f7e6a47a48df4f7219c0b5882.zip\n",
      "Verarbeite Task-Datei: /Users/karl/.clearml/cache/offline/offline-0404fa982a79471a9f826557217ab10f.zip\n",
      "Verarbeite Task-Datei: /Users/karl/.clearml/cache/offline/offline-6257f82bb1f243ea8c03a7af1fd00c13.zip\n",
      "Verarbeite Task-Datei: /Users/karl/.clearml/cache/offline/offline-fdbef76df2724acea8256b6b600d82b2.zip\n",
      "Verarbeite Task-Datei: /Users/karl/.clearml/cache/offline/offline-778fe4365ecb4d94b5a21e0a52650c0d.zip\n",
      "Verarbeite Task-Datei: /Users/karl/.clearml/cache/offline/offline-d10595daeacd457099e9e6347b862846.zip\n",
      "Verarbeite Task-Datei: /Users/karl/.clearml/cache/offline/offline-f041718bd69244e3a1b3790965cc21f0.zip\n",
      "Verarbeite Task-Datei: /Users/karl/.clearml/cache/offline/offline-05a2002dc4e64defbe45c2d10b8a9dfa.zip\n",
      "Verarbeite Task-Datei: /Users/karl/.clearml/cache/offline/offline-db9dd0a5a1c34f8788c67ffc88166fff.zip\n",
      "Verarbeite Task-Datei: /Users/karl/.clearml/cache/offline/offline-8a9c03b53d99462aa0df9974a3dd5c6e.zip\n",
      "Verarbeite Task-Datei: /Users/karl/.clearml/cache/offline/offline-45932a6d73c142bda0eb58c013514d32.zip\n",
      "Verarbeite Task-Datei: /Users/karl/.clearml/cache/offline/offline-5475fe6b1b2a48b8a0a1fcfa0ca6ff76.zip\n",
      "Verarbeite Task-Datei: /Users/karl/.clearml/cache/offline/offline-ecaad196ea544f82a6d9ea38d336f9ad.zip\n",
      "Verarbeite Task-Datei: /Users/karl/.clearml/cache/offline/offline-7a66d2d91e4f431589b5a5dfc7279f65.zip\n",
      "Verarbeite Task-Datei: /Users/karl/.clearml/cache/offline/offline-b36a082411494f9a926db1ce14f81e52.zip\n",
      "Verarbeite Task-Datei: /Users/karl/.clearml/cache/offline/offline-4a08664ab5c44a5399724616936f9355.zip\n",
      "Verarbeite Task-Datei: /Users/karl/.clearml/cache/offline/offline-df35ca0b71204c84add7adf4fa1fb0ad.zip\n",
      "Verarbeite Task-Datei: /Users/karl/.clearml/cache/offline/offline-72b8c7f0f05047fa98828e740d722743.zip\n",
      "Verarbeite Task-Datei: /Users/karl/.clearml/cache/offline/offline-84860f83eb6647499103fe9bae52429f.zip\n",
      "Verarbeite Task-Datei: /Users/karl/.clearml/cache/offline/offline-7edd7215b4154a2796089fde6fda9bc5.zip\n",
      "Verarbeite Task-Datei: /Users/karl/.clearml/cache/offline/offline-ba628f7d600a458995b7a7196b1c48e9.zip\n",
      "Verarbeite Task-Datei: /Users/karl/.clearml/cache/offline/offline-797ab91c4b8a4b099d7591ac7c09b51e.zip\n",
      "Verarbeite Task-Datei: /Users/karl/.clearml/cache/offline/offline-e5ae72b59973498985ab823fc8ca6246.zip\n",
      "Verarbeite Task-Datei: /Users/karl/.clearml/cache/offline/offline-75a8207790bc486ead9ad95866869b09.zip\n",
      "Verarbeite Task-Datei: /Users/karl/.clearml/cache/offline/offline-dd575904c6484ff1ad89077165ad2a03.zip\n",
      "Verarbeite Task-Datei: /Users/karl/.clearml/cache/offline/offline-403b2b97031e48af87dff87724f62f5b.zip\n",
      "Verarbeite Task-Datei: /Users/karl/.clearml/cache/offline/offline-597f1227938841d5aa73d78ac48a1c76.zip\n",
      "Verarbeite Task-Datei: /Users/karl/.clearml/cache/offline/offline-63ee68ef825b4669a7646785b9eafe88.zip\n",
      "Verarbeite Task-Datei: /Users/karl/.clearml/cache/offline/offline-0385303a8fdd40fc8844b3ff23d9d713.zip\n",
      "Verarbeite Task-Datei: /Users/karl/.clearml/cache/offline/offline-6836b6d7383244579e3056eb1a04bb9a.zip\n",
      "Verarbeite Task-Datei: /Users/karl/.clearml/cache/offline/offline-336fda6737e64ef8bad1482600de5b41.zip\n",
      "Verarbeite Task-Datei: /Users/karl/.clearml/cache/offline/offline-916a0ebfa32d42a6b226b26953475077.zip\n",
      "Verarbeite Task-Datei: /Users/karl/.clearml/cache/offline/offline-574b3906a7d04708bcc9241a90eae8fa.zip\n",
      "Verarbeite Task-Datei: /Users/karl/.clearml/cache/offline/offline-81f822eaab184b128de28e74cde9e655.zip\n",
      "Verarbeite Task-Datei: /Users/karl/.clearml/cache/offline/offline-d91e9f97cf1942a9aabb2b130e89300c.zip\n",
      "Verarbeite Task-Datei: /Users/karl/.clearml/cache/offline/offline-3d5cf04a991746f0909f1683475f19e2.zip\n",
      "Verarbeite Task-Datei: /Users/karl/.clearml/cache/offline/offline-83afbb8f90fc4e7599b84d5062eb6e64.zip\n",
      "Verarbeite Task-Datei: /Users/karl/.clearml/cache/offline/offline-44724432a7af43b89cd8c71897766442.zip\n",
      "Verarbeite Task-Datei: /Users/karl/.clearml/cache/offline/offline-2dc7ba219683430a87153f341c876b06.zip\n",
      "Verarbeite Task-Datei: /Users/karl/.clearml/cache/offline/offline-ebf2e89a61614388a4289f1bde2f3e15.zip\n",
      "Verarbeite Task-Datei: /Users/karl/.clearml/cache/offline/offline-483e516df38a4420b82dca8e7cececc3.zip\n",
      "Verarbeite Task-Datei: /Users/karl/.clearml/cache/offline/offline-4cfe3da83ccf48be8048f18f9578c7b9.zip\n",
      "Verarbeite Task-Datei: /Users/karl/.clearml/cache/offline/offline-9a5e67c38c0d4ebf85de6aa9a1675d21.zip\n",
      "Verarbeite Task-Datei: /Users/karl/.clearml/cache/offline/offline-d5e15c1979e54cc4b7709c7fe344eb55.zip\n",
      "Verarbeite Task-Datei: /Users/karl/.clearml/cache/offline/offline-dc445b79f9904d489daf46b73c0ddec9.zip\n",
      "Verarbeite Task-Datei: /Users/karl/.clearml/cache/offline/offline-9ac51965830d45318118b2530ff60454.zip\n",
      "Verarbeite Task-Datei: /Users/karl/.clearml/cache/offline/offline-f71a46b360e54f34a19799c64b9498c9.zip\n",
      "Verarbeite Task-Datei: /Users/karl/.clearml/cache/offline/offline-ba0826c164a246a3905698ac5bbf9362.zip\n",
      "Verarbeite Task-Datei: /Users/karl/.clearml/cache/offline/offline-9acbe1b2812f451487b2f38cba525b7a.zip\n",
      "Verarbeite Task-Datei: /Users/karl/.clearml/cache/offline/offline-091283d9291549d580a7e397dea85edc.zip\n",
      "Verarbeite Task-Datei: /Users/karl/.clearml/cache/offline/offline-136ce301f44e4b3f8ad467aa849af143.zip\n",
      "Verarbeite Task-Datei: /Users/karl/.clearml/cache/offline/offline-a4971919723446c4aa2807235c9ba7cf.zip\n",
      "Verarbeite Task-Datei: /Users/karl/.clearml/cache/offline/offline-e09d58abe4bf4fbc9f126a772a22976d.zip\n",
      "Verarbeite Task-Datei: /Users/karl/.clearml/cache/offline/offline-0ade5c9c40c54484960bf879b4dceffd.zip\n",
      "Verarbeite Task-Datei: /Users/karl/.clearml/cache/offline/offline-0a774e781ce54cdbbdc06c5b8eb2b5f9.zip\n",
      "Verarbeite Task-Datei: /Users/karl/.clearml/cache/offline/offline-5cd59faeb8274866b6dda8a71b0f1286.zip\n",
      "Verarbeite Task-Datei: /Users/karl/.clearml/cache/offline/offline-bcbb0aea2717435a906ae6e4774d16b7.zip\n",
      "Verarbeite Task-Datei: /Users/karl/.clearml/cache/offline/offline-dbafcd72ebce42c8b322692bc36863a0.zip\n",
      "Verarbeite Task-Datei: /Users/karl/.clearml/cache/offline/offline-df518ec60d4d4679af1b6a2dc4debc2a.zip\n",
      "Verarbeite Task-Datei: /Users/karl/.clearml/cache/offline/offline-e00a3204266d470f9aa0612d49dc0ee9.zip\n",
      "Verarbeite Task-Datei: /Users/karl/.clearml/cache/offline/offline-075b89f96a9c40c6a69e8081dbd4eb0c.zip\n",
      "Verarbeite Task-Datei: /Users/karl/.clearml/cache/offline/offline-6dfa82869bb84a81a3c48a3a0ad77165.zip\n",
      "Verarbeite Task-Datei: /Users/karl/.clearml/cache/offline/offline-ee5258e617d9447980c1ab290d8eee5e.zip\n",
      "Verarbeite Task-Datei: /Users/karl/.clearml/cache/offline/offline-6802288908b64604bce4b0e59c21a8fd.zip\n",
      "Verarbeite Task-Datei: /Users/karl/.clearml/cache/offline/offline-becf5833f62247faa0dd68060d1e97ad.zip\n",
      "Verarbeite Task-Datei: /Users/karl/.clearml/cache/offline/offline-544dd2ae353d4475897201625fdc5998.zip\n",
      "Verarbeite Task-Datei: /Users/karl/.clearml/cache/offline/offline-dcaadd81f69343f0840a4743b7b3f6aa.zip\n",
      "Verarbeite Task-Datei: /Users/karl/.clearml/cache/offline/offline-8f4d91ceed9f49f486e98fe91e68110b.zip\n",
      "Verarbeite Task-Datei: /Users/karl/.clearml/cache/offline/offline-85b4185e341d46098afce5016c345223.zip\n",
      "Verarbeite Task-Datei: /Users/karl/.clearml/cache/offline/offline-cf4bae2b2bb4457387d9ed6bc1bce8a1.zip\n",
      "Verarbeite Task-Datei: /Users/karl/.clearml/cache/offline/offline-85e31794ce864908b39dd03a45afaebb.zip\n",
      "Verarbeite Task-Datei: /Users/karl/.clearml/cache/offline/offline-24161518eb3646598922ec257bd3f2f1.zip\n",
      "Verarbeite Task-Datei: /Users/karl/.clearml/cache/offline/offline-d71fcc3477164daabc7014c06659b95a.zip\n",
      "Verarbeite Task-Datei: /Users/karl/.clearml/cache/offline/offline-e5a997b8dd304975b072cb30becf621e.zip\n",
      "Verarbeite Task-Datei: /Users/karl/.clearml/cache/offline/offline-b590032a049e4ca59591e23e042bcc10.zip\n",
      "Verarbeite Task-Datei: /Users/karl/.clearml/cache/offline/offline-521e0230c4544cd68a55a5053a0c3b14.zip\n",
      "Verarbeite Task-Datei: /Users/karl/.clearml/cache/offline/offline-e2cc29c5147c4feebaa75da7c4a2b57e.zip\n",
      "Verarbeite Task-Datei: /Users/karl/.clearml/cache/offline/offline-00ef110630fe489f8fa367fe27d416f9.zip\n",
      "Verarbeite Task-Datei: /Users/karl/.clearml/cache/offline/offline-ae2809d45fa74a31900c580d4fd304b9.zip\n",
      "Verarbeite Task-Datei: /Users/karl/.clearml/cache/offline/offline-bc5962c247c148f4a0c7fd2aca566b3e.zip\n",
      "Verarbeite Task-Datei: /Users/karl/.clearml/cache/offline/offline-56d7ca00f861464d9619895c5a4bc160.zip\n",
      "Verarbeite Task-Datei: /Users/karl/.clearml/cache/offline/offline-7aecc1689cf64515b055aca1d845724f.zip\n",
      "Verarbeite Task-Datei: /Users/karl/.clearml/cache/offline/offline-a4557886b1d4472e8187177f3ed6ba4e.zip\n",
      "Verarbeite Task-Datei: /Users/karl/.clearml/cache/offline/offline-c257f101bcec48ab95d66b36e183bd14.zip\n",
      "Verarbeite Task-Datei: /Users/karl/.clearml/cache/offline/offline-80f4efe55c2d45d2b25c0e0a702d7537.zip\n",
      "Verarbeite Task-Datei: /Users/karl/.clearml/cache/offline/offline-59773acfa5a94401ac29a0e50230d66d.zip\n",
      "Verarbeite Task-Datei: /Users/karl/.clearml/cache/offline/offline-d113937bfc694c45bf1afc288c9e280a.zip\n",
      "Verarbeite Task-Datei: /Users/karl/.clearml/cache/offline/offline-45ed1767da144d59b398f5c5d622346b.zip\n",
      "Verarbeite Task-Datei: /Users/karl/.clearml/cache/offline/offline-c734bd44de7b4537bac5c1a3b0a051a1.zip\n",
      "Verarbeite Task-Datei: /Users/karl/.clearml/cache/offline/offline-b7d86c5330a4400e9828149c0b0f13ee.zip\n",
      "Verarbeite Task-Datei: /Users/karl/.clearml/cache/offline/offline-8c8593bb056b406893fc9498847ca765.zip\n",
      "Verarbeite Task-Datei: /Users/karl/.clearml/cache/offline/offline-aa1040e71c2c4acdafdfb692dd5d08cc.zip\n",
      "Verarbeite Task-Datei: /Users/karl/.clearml/cache/offline/offline-627a85e4d898419da6df576f9011d6da.zip\n",
      "Verarbeite Task-Datei: /Users/karl/.clearml/cache/offline/offline-c8d1a8d5eea447b283b56c77fcc74b59.zip\n",
      "Verarbeite Task-Datei: /Users/karl/.clearml/cache/offline/offline-137beba844dc468a9709a409242abfeb.zip\n",
      "Verarbeite Task-Datei: /Users/karl/.clearml/cache/offline/offline-2171ed8ed9dc4ed4808af7391a50502b.zip\n",
      "Verarbeite Task-Datei: /Users/karl/.clearml/cache/offline/offline-f22afa0cbf414f449c35662a63ae8fb8.zip\n",
      "Verarbeite Task-Datei: /Users/karl/.clearml/cache/offline/offline-f2213d8c2cb54f69be244d168b87e59d.zip\n",
      "Verarbeite Task-Datei: /Users/karl/.clearml/cache/offline/offline-81c5e6c2f5f147279381c81dc6268108.zip\n",
      "Verarbeite Task-Datei: /Users/karl/.clearml/cache/offline/offline-a3556b223c634297aeb36f716e1e9a54.zip\n",
      "Verarbeite Task-Datei: /Users/karl/.clearml/cache/offline/offline-9d5f6d21a8e64116b9bcb5e057f38474.zip\n",
      "Verarbeite Task-Datei: /Users/karl/.clearml/cache/offline/offline-d60c40936798411d8b8ed3901231ac78.zip\n",
      "Verarbeite Task-Datei: /Users/karl/.clearml/cache/offline/offline-16d2bffc34164285ac5f3a5474e127dc.zip\n",
      "Verarbeite Task-Datei: /Users/karl/.clearml/cache/offline/offline-b5ec6c0bef3f4e8e88edf0a673442cca.zip\n",
      "Verarbeite Task-Datei: /Users/karl/.clearml/cache/offline/offline-83e9c9d5af2e4fecbeba5347aef225c5.zip\n",
      "Verarbeite Task-Datei: /Users/karl/.clearml/cache/offline/offline-d1c0f7d5086a46ebbdf408cf03a20e1d.zip\n",
      "Verarbeite Task-Datei: /Users/karl/.clearml/cache/offline/offline-cdb2fc208fe647e1921d8601a0656ae5.zip\n",
      "Verarbeite Task-Datei: /Users/karl/.clearml/cache/offline/offline-2a531f94c9e4474aa77efa59f77841c2.zip\n",
      "Verarbeite Task-Datei: /Users/karl/.clearml/cache/offline/offline-fe67b22020dd4245b3c6e24534a302db.zip\n",
      "Verarbeite Task-Datei: /Users/karl/.clearml/cache/offline/offline-c7e407d94c494673a8159c94f6d3daac.zip\n",
      "Verarbeite Task-Datei: /Users/karl/.clearml/cache/offline/offline-6505ddec9f3f49a599b37602607568cc.zip\n",
      "Verarbeite Task-Datei: /Users/karl/.clearml/cache/offline/offline-322fdc9e611c4ec387d6e9871043ffaa.zip\n",
      "Verarbeite Task-Datei: /Users/karl/.clearml/cache/offline/offline-f3266c5ec39f4cc3a1585fd7e21328c3.zip\n",
      "Verarbeite Task-Datei: /Users/karl/.clearml/cache/offline/offline-de85a38e6e0c407f8d7e506cca17cfe7.zip\n",
      "Verarbeite Task-Datei: /Users/karl/.clearml/cache/offline/offline-ffca9807047e4b1da0e4b5a19f8ee005.zip\n",
      "Verarbeite Task-Datei: /Users/karl/.clearml/cache/offline/offline-566d71501b7e41f3a17e585e4e68826c.zip\n",
      "Verarbeite Task-Datei: /Users/karl/.clearml/cache/offline/offline-4d8dd778da374f36aafabfd5d87bbf7c.zip\n",
      "Verarbeite Task-Datei: /Users/karl/.clearml/cache/offline/offline-bb9cb873166d4fb9b0c32506d78fd0e9.zip\n",
      "Verarbeite Task-Datei: /Users/karl/.clearml/cache/offline/offline-e90acc17258e4f98b0618c112e824f0e.zip\n",
      "Verarbeite Task-Datei: /Users/karl/.clearml/cache/offline/offline-8464a4ab70e94565a155f85d744d56d2.zip\n",
      "Verarbeite Task-Datei: /Users/karl/.clearml/cache/offline/offline-1b4673c34866494b91e98566b607a48c.zip\n",
      "Verarbeite Task-Datei: /Users/karl/.clearml/cache/offline/offline-cf52c3ea1ff244da966adb1189db07ab.zip\n",
      "Verarbeite Task-Datei: /Users/karl/.clearml/cache/offline/offline-4e98abbc05bb4e80aeae899b3b5e5edc.zip\n",
      "Verarbeite Task-Datei: /Users/karl/.clearml/cache/offline/offline-d8a639f1edba4dfe8ed9e9092140dbda.zip\n",
      "Verarbeite Task-Datei: /Users/karl/.clearml/cache/offline/offline-20c8f99c44944cdc9adab3daacd6a520.zip\n",
      "Verarbeite Task-Datei: /Users/karl/.clearml/cache/offline/offline-7187a65fdbf240c4b78f3cf048084ab2.zip\n",
      "Verarbeite Task-Datei: /Users/karl/.clearml/cache/offline/offline-04564cd389b54360ad69dacd498237f0.zip\n",
      "Verarbeite Task-Datei: /Users/karl/.clearml/cache/offline/offline-d4999a31eaea4c08b7585ba56d6f07d2.zip\n",
      "Verarbeite Task-Datei: /Users/karl/.clearml/cache/offline/offline-c61939d5760342c0866b0026aa8eb4fd.zip\n",
      "Verarbeite Task-Datei: /Users/karl/.clearml/cache/offline/offline-9fa84e47d5c548c69c4fc583fb9d6e8e.zip\n",
      "Verarbeite Task-Datei: /Users/karl/.clearml/cache/offline/offline-a3a1d6b134ff41e4bcbf51fedb5c1c7b.zip\n",
      "Verarbeite Task-Datei: /Users/karl/.clearml/cache/offline/offline-2b350de5818b402e8f65d6a1c56a1592.zip\n",
      "Verarbeite Task-Datei: /Users/karl/.clearml/cache/offline/offline-d724d29ffd52498680977b3938b3ab3d.zip\n",
      "Verarbeite Task-Datei: /Users/karl/.clearml/cache/offline/offline-5c18b780d9c0493cae612c057239adb7.zip\n",
      "Verarbeite Task-Datei: /Users/karl/.clearml/cache/offline/offline-30e78d5acbe24274b638ad045b998677.zip\n",
      "Verarbeite Task-Datei: /Users/karl/.clearml/cache/offline/offline-0cefd3689a5747748be94861fbb3c1f8.zip\n",
      "Verarbeite Task-Datei: /Users/karl/.clearml/cache/offline/offline-4efe2097829749679ce12a3f4bda2d42.zip\n",
      "Verarbeite Task-Datei: /Users/karl/.clearml/cache/offline/offline-02be75f7895949c18dd123670a51179c.zip\n",
      "Verarbeite Task-Datei: /Users/karl/.clearml/cache/offline/offline-0c9ed27aec3f4fd395b58b24eb3f844e.zip\n",
      "Verarbeite Task-Datei: /Users/karl/.clearml/cache/offline/offline-ed941e1977764c6d8af6b09896a77849.zip\n",
      "Verarbeite Task-Datei: /Users/karl/.clearml/cache/offline/offline-96185dc54a0d4b3f9a1f5132d4c656a5.zip\n",
      "Verarbeite Task-Datei: /Users/karl/.clearml/cache/offline/offline-ee721f0bf9e642298c206c39bb1343b1.zip\n",
      "Verarbeite Task-Datei: /Users/karl/.clearml/cache/offline/offline-7c3ede892fba4472a85277e46c980c67.zip\n",
      "Verarbeite Task-Datei: /Users/karl/.clearml/cache/offline/offline-8e0d68ca66014221b58b5e2e7eb48696.zip\n",
      "Verarbeite Task-Datei: /Users/karl/.clearml/cache/offline/offline-641ad00a81484a03b1919a148a7368e3.zip\n",
      "Verarbeite Task-Datei: /Users/karl/.clearml/cache/offline/offline-ca04364cf549497f93c6c6c41c982bfe.zip\n",
      "Verarbeite Task-Datei: /Users/karl/.clearml/cache/offline/offline-a469e6ad519f4daeabb1b4d71b5864f6.zip\n",
      "Verarbeite Task-Datei: /Users/karl/.clearml/cache/offline/offline-18132b141a0341578cae33cd99c61cac.zip\n",
      "Verarbeite Task-Datei: /Users/karl/.clearml/cache/offline/offline-6f3de3a09b454689b2ab83ae5b8d63ba.zip\n",
      "Verarbeite Task-Datei: /Users/karl/.clearml/cache/offline/offline-5d94a2d6a00e4e9abab58cd31bd28888.zip\n",
      "Verarbeite Task-Datei: /Users/karl/.clearml/cache/offline/offline-2aa96db209ae498aaed793be843fac3f.zip\n",
      "Verarbeite Task-Datei: /Users/karl/.clearml/cache/offline/offline-37cd07dcdc784870bd99b992c07babb5.zip\n",
      "Verarbeite Task-Datei: /Users/karl/.clearml/cache/offline/offline-46b6c05343c442448d7ffdb0c28abd1f.zip\n",
      "Verarbeite Task-Datei: /Users/karl/.clearml/cache/offline/offline-14b2bdef367e4b11bc515a01c2babe43.zip\n",
      "Verarbeite Task-Datei: /Users/karl/.clearml/cache/offline/offline-ba3344a58cbb405dae98a5e874a7b7b1.zip\n",
      "Verarbeite Task-Datei: /Users/karl/.clearml/cache/offline/offline-dbd755293e3a428495faaa99e69f3c2d.zip\n",
      "Verarbeite Task-Datei: /Users/karl/.clearml/cache/offline/offline-c3e270fee0074baaacd0b4d518882577.zip\n",
      "Verarbeite Task-Datei: /Users/karl/.clearml/cache/offline/offline-4f7d64d16f3844e0901c6dbcae0418f9.zip\n",
      "Verarbeite Task-Datei: /Users/karl/.clearml/cache/offline/offline-01ab016d4d614921abb99c5a587c4858.zip\n",
      "Verarbeite Task-Datei: /Users/karl/.clearml/cache/offline/offline-6d5564f24c5a432a8a4ce06c34ea0a63.zip\n",
      "Verarbeite Task-Datei: /Users/karl/.clearml/cache/offline/offline-55042bf0352741a48c478b96d7d68d5c.zip\n",
      "Verarbeite Task-Datei: /Users/karl/.clearml/cache/offline/offline-665f6907170c4caf971626c906e6f57e.zip\n",
      "Verarbeite Task-Datei: /Users/karl/.clearml/cache/offline/offline-3498472b03a948739d66c386392f369a.zip\n",
      "Verarbeite Task-Datei: /Users/karl/.clearml/cache/offline/offline-8b042e9f39b6452ba16b5f0594454e9c.zip\n",
      "Verarbeite Task-Datei: /Users/karl/.clearml/cache/offline/offline-b4616e1f193f46fd82a684b48c25e691.zip\n",
      "Verarbeite Task-Datei: /Users/karl/.clearml/cache/offline/offline-08687843cd924addb2c83a10402943bc.zip\n",
      "Verarbeite Task-Datei: /Users/karl/.clearml/cache/offline/offline-57f9817f004e4d698d17e2203c576cad.zip\n",
      "Verarbeite Task-Datei: /Users/karl/.clearml/cache/offline/offline-bf994dd145f246938d6e5f9c2179f604.zip\n",
      "Verarbeite Task-Datei: /Users/karl/.clearml/cache/offline/offline-496555ccc9e24e3f822d0a9504aec464.zip\n",
      "Verarbeite Task-Datei: /Users/karl/.clearml/cache/offline/offline-2141a1db83664432b49b60e022f2ccd4.zip\n",
      "Verarbeite Task-Datei: /Users/karl/.clearml/cache/offline/offline-60e80f2ddcf242b0a872e1447e1cc32b.zip\n",
      "Verarbeite Task-Datei: /Users/karl/.clearml/cache/offline/offline-584e07bab7234912b81a042932201543.zip\n",
      "Verarbeite Task-Datei: /Users/karl/.clearml/cache/offline/offline-890c1445398d4a3cbde1f0ef8799bc9c.zip\n",
      "Verarbeite Task-Datei: /Users/karl/.clearml/cache/offline/offline-b18233e1eacd44b8a47b02a858c50a85.zip\n",
      "Verarbeite Task-Datei: /Users/karl/.clearml/cache/offline/offline-5295a868fe644f0eaea9d66f0e0eff18.zip\n",
      "Verarbeite Task-Datei: /Users/karl/.clearml/cache/offline/offline-77ffd46729174bc98d565a38c326fa41.zip\n",
      "Verarbeite Task-Datei: /Users/karl/.clearml/cache/offline/offline-6c188b5a1f8841abb428e64aa9ca6da8.zip\n",
      "Verarbeite Task-Datei: /Users/karl/.clearml/cache/offline/offline-c34912397b7c4d2a8fc27f375227d928.zip\n",
      "Verarbeite Task-Datei: /Users/karl/.clearml/cache/offline/offline-714ae898b3444084a5a906ee0fcc6e40.zip\n",
      "Verarbeite Task-Datei: /Users/karl/.clearml/cache/offline/offline-6b490ddc39074669941b8b5b44459ebe.zip\n",
      "Verarbeite Task-Datei: /Users/karl/.clearml/cache/offline/offline-3f5f1f077670473f8cba5820feffe79d.zip\n",
      "Verarbeite Task-Datei: /Users/karl/.clearml/cache/offline/offline-ff0b5ae650d4459a9e79e4923df935f1.zip\n",
      "Verarbeite Task-Datei: /Users/karl/.clearml/cache/offline/offline-1d7cb8f6742745fe8065083b0ae3db8f.zip\n",
      "Verarbeite Task-Datei: /Users/karl/.clearml/cache/offline/offline-382db664258d49d888b11a44500aa54d.zip\n",
      "Verarbeite Task-Datei: /Users/karl/.clearml/cache/offline/offline-52a56eb4f1674d90b2d26d548b6a58d6.zip\n",
      "Verarbeite Task-Datei: /Users/karl/.clearml/cache/offline/offline-24812ce3569643dcaba29d8e53a6d24e.zip\n",
      "Verarbeite Task-Datei: /Users/karl/.clearml/cache/offline/offline-07c1b693ce8e484599d371b47f76d2e2.zip\n",
      "Verarbeite Task-Datei: /Users/karl/.clearml/cache/offline/offline-24ed73e4bf9a4f11a8897df232d03291.zip\n",
      "Verarbeite Task-Datei: /Users/karl/.clearml/cache/offline/offline-934b2c1e35514165b76f9038fca9f3c9.zip\n",
      "Verarbeite Task-Datei: /Users/karl/.clearml/cache/offline/offline-af15b2c534d44b8eacfa3b9e2a5720a1.zip\n",
      "Verarbeite Task-Datei: /Users/karl/.clearml/cache/offline/offline-bef4894f34df459ea2e9257d4ad654ba.zip\n",
      "Verarbeite Task-Datei: /Users/karl/.clearml/cache/offline/offline-e5a0a03b8342444eb0a366388a252fcd.zip\n",
      "Verarbeite Task-Datei: /Users/karl/.clearml/cache/offline/offline-b0ef46f272864f93b2e41015b71826eb.zip\n",
      "Verarbeite Task-Datei: /Users/karl/.clearml/cache/offline/offline-f499e233e2e14196b2f8ac636cba6c84.zip\n",
      "Verarbeite Task-Datei: /Users/karl/.clearml/cache/offline/offline-af99e95fa1c44e62814ae3a753068ce4.zip\n",
      "Verarbeite Task-Datei: /Users/karl/.clearml/cache/offline/offline-0e01f9fa119048ae9fe715ed088a1e32.zip\n",
      "Verarbeite Task-Datei: /Users/karl/.clearml/cache/offline/offline-cb47887f321e4170a9f547ffa6b212eb.zip\n",
      "Verarbeite Task-Datei: /Users/karl/.clearml/cache/offline/offline-30f63b9deb1347838f11dac4757cb0a6.zip\n",
      "Verarbeite Task-Datei: /Users/karl/.clearml/cache/offline/offline-3cbb95329c4040c3b427feea4bc2fc5a.zip\n",
      "Verarbeite Task-Datei: /Users/karl/.clearml/cache/offline/offline-dc545ff4ce7843578c133c5a81df1826.zip\n",
      "Verarbeite Task-Datei: /Users/karl/.clearml/cache/offline/offline-1d85a5181db14caaab365fd6aa72c85a.zip\n",
      "Verarbeite Task-Datei: /Users/karl/.clearml/cache/offline/offline-034a0cac694844b68bfcd71f8853324a.zip\n",
      "Verarbeite Task-Datei: /Users/karl/.clearml/cache/offline/offline-886c2bf2c65a4f8fa30905ae2712b3b4.zip\n",
      "Verarbeite Task-Datei: /Users/karl/.clearml/cache/offline/offline-d1d8f661f1e7401f89bd64d0b28067d1.zip\n",
      "Verarbeite Task-Datei: /Users/karl/.clearml/cache/offline/offline-00d9c02f2a5743be88cee3d957188969.zip\n",
      "Verarbeite Task-Datei: /Users/karl/.clearml/cache/offline/offline-8147582d84714c739135d9f0e8edc1d4.zip\n",
      "Verarbeite Task-Datei: /Users/karl/.clearml/cache/offline/offline-a4a7234ef98d443188499c52b803ba46.zip\n",
      "Verarbeite Task-Datei: /Users/karl/.clearml/cache/offline/offline-62d2839d5bbd4ab3ad59d9d50d4a7554.zip\n",
      "Verarbeite Task-Datei: /Users/karl/.clearml/cache/offline/offline-d2747eb2658640b8b994324606a7d74e.zip\n",
      "Verarbeite Task-Datei: /Users/karl/.clearml/cache/offline/offline-e35d87b478ab47acad416def22bdd46d.zip\n",
      "Verarbeite Task-Datei: /Users/karl/.clearml/cache/offline/offline-fd6301fb27ff44579e32d029aa1ef32b.zip\n",
      "Verarbeite Task-Datei: /Users/karl/.clearml/cache/offline/offline-d9a2b0e8b2404f7a9b68f680f7052ecb.zip\n",
      "Verarbeite Task-Datei: /Users/karl/.clearml/cache/offline/offline-10e775431eb543f38ad9071785a05b3f.zip\n",
      "Verarbeite Task-Datei: /Users/karl/.clearml/cache/offline/offline-8bcde85a724c485fb949cab002eb87a1.zip\n",
      "Verarbeite Task-Datei: /Users/karl/.clearml/cache/offline/offline-115f52cb4c5f43668ccceacf3bbd00f6.zip\n",
      "Verarbeite Task-Datei: /Users/karl/.clearml/cache/offline/offline-007c30a5d552485db06a66bc33af2355.zip\n",
      "Verarbeite Task-Datei: /Users/karl/.clearml/cache/offline/offline-a69fa226cbf14e1b9d21a977c2d8e6a1.zip\n",
      "Verarbeite Task-Datei: /Users/karl/.clearml/cache/offline/offline-d86599293dc04241be9c2cd2ca83a028.zip\n",
      "Verarbeite Task-Datei: /Users/karl/.clearml/cache/offline/offline-1769cf5540d5462b83c31f4246d026c1.zip\n",
      "Verarbeite Task-Datei: /Users/karl/.clearml/cache/offline/offline-98f2edda81ba40e7b1228e6b5c0361be.zip\n",
      "Verarbeite Task-Datei: /Users/karl/.clearml/cache/offline/offline-ca52a2d5056c486691247270c08608c4.zip\n",
      "Verarbeite Task-Datei: /Users/karl/.clearml/cache/offline/offline-14df1f09d01b4dc2b5db8bb71f40d8fb.zip\n",
      "Verarbeite Task-Datei: /Users/karl/.clearml/cache/offline/offline-9b3ad27b9ae34066a22b9c0901e4a816.zip\n",
      "Verarbeite Task-Datei: /Users/karl/.clearml/cache/offline/offline-a6a48d10d9ba4b85b31365c4f944d6f2.zip\n",
      "Verarbeite Task-Datei: /Users/karl/.clearml/cache/offline/offline-9d53ce1c618049e9a4a04f46dd7bd0f3.zip\n",
      "Verarbeite Task-Datei: /Users/karl/.clearml/cache/offline/offline-9590cf7d050640a0aec4b5ad2d416951.zip\n",
      "Verarbeite Task-Datei: /Users/karl/.clearml/cache/offline/offline-1dfee9766b90433385a2d561bbafc334.zip\n",
      "Verarbeite Task-Datei: /Users/karl/.clearml/cache/offline/offline-f753da9978e546b8a32dbbcc1b4d142f.zip\n",
      "Verarbeite Task-Datei: /Users/karl/.clearml/cache/offline/offline-d97e7a52defd474abf02d6a52afe2888.zip\n",
      "Verarbeite Task-Datei: /Users/karl/.clearml/cache/offline/offline-18d9b7695d4840e7be6cb99dd5f9121b.zip\n",
      "Verarbeite Task-Datei: /Users/karl/.clearml/cache/offline/offline-d738276bc85a4cb180d05cbbca766067.zip\n",
      "Verarbeite Task-Datei: /Users/karl/.clearml/cache/offline/offline-7433c1bd53fa45fa8c06a573871bb9a5.zip\n",
      "Verarbeite Task-Datei: /Users/karl/.clearml/cache/offline/offline-08aea7823c7c45f9beb65c3f8739acde.zip\n",
      "Verarbeite Task-Datei: /Users/karl/.clearml/cache/offline/offline-f6bd48dd33fb4bdca43e764a6c3ec4e3.zip\n",
      "Verarbeite Task-Datei: /Users/karl/.clearml/cache/offline/offline-4c6f4b5ffbe14769af4b753d92d9aa29.zip\n",
      "Verarbeite Task-Datei: /Users/karl/.clearml/cache/offline/offline-decb23102325443499ef1eb91c66fccb.zip\n",
      "Verarbeite Task-Datei: /Users/karl/.clearml/cache/offline/offline-fcf35a821dba4ee4807d31a986b10109.zip\n",
      "Verarbeite Task-Datei: /Users/karl/.clearml/cache/offline/offline-7e4b0701f2b54e3cbbfdbc1c832d9966.zip\n",
      "Verarbeite Task-Datei: /Users/karl/.clearml/cache/offline/offline-14eb041ec9924f13a3dcb62836c66b0c.zip\n",
      "Verarbeite Task-Datei: /Users/karl/.clearml/cache/offline/offline-7bf14f306a0a43488a064b4cfd4949d7.zip\n",
      "Verarbeite Task-Datei: /Users/karl/.clearml/cache/offline/offline-c5f0d7d62451490a8cc185be9291bade.zip\n",
      "Verarbeite Task-Datei: /Users/karl/.clearml/cache/offline/offline-d31a40ff4912472c94c1edd789711aa3.zip\n",
      "Verarbeite Task-Datei: /Users/karl/.clearml/cache/offline/offline-cf09ec8039604c83a1a8865b76dafb67.zip\n",
      "Verarbeite Task-Datei: /Users/karl/.clearml/cache/offline/offline-0fe88ca84af34416afa0cf405926ea81.zip\n",
      "Verarbeite Task-Datei: /Users/karl/.clearml/cache/offline/offline-1ce3ebf397844d87b455efadc01be010.zip\n",
      "Verarbeite Task-Datei: /Users/karl/.clearml/cache/offline/offline-1e30d36b875542019efe79ea1526327b.zip\n",
      "Verarbeite Task-Datei: /Users/karl/.clearml/cache/offline/offline-52e680004350451a92ce7939b40b2cc9.zip\n",
      "Verarbeite Task-Datei: /Users/karl/.clearml/cache/offline/offline-5447d53d966a41229b77d423b11040de.zip\n",
      "Verarbeite Task-Datei: /Users/karl/.clearml/cache/offline/offline-f576905a4cfb4e6e8c49d0e51f1db27a.zip\n",
      "Verarbeite Task-Datei: /Users/karl/.clearml/cache/offline/offline-4fd7176f9d5c41ff9037a76b4ef2561d.zip\n",
      "Verarbeite Task-Datei: /Users/karl/.clearml/cache/offline/offline-d29e3ca8d00f4f708d6a12b4f6d57cf6.zip\n",
      "Verarbeite Task-Datei: /Users/karl/.clearml/cache/offline/offline-59840ad8459b4f59ab822387b71c5bba.zip\n",
      "Verarbeite Task-Datei: /Users/karl/.clearml/cache/offline/offline-5a821016e3a94af6a6c11a7bb42a025c.zip\n",
      "Verarbeite Task-Datei: /Users/karl/.clearml/cache/offline/offline-88bc3d1946184e49858c92566387183e.zip\n",
      "Verarbeite Task-Datei: /Users/karl/.clearml/cache/offline/offline-5b39ee65725b4d7bb61cbff7200cd254.zip\n",
      "Verarbeite Task-Datei: /Users/karl/.clearml/cache/offline/offline-5b0888935db5451fbc64f27afe62221a.zip\n",
      "Verarbeite Task-Datei: /Users/karl/.clearml/cache/offline/offline-05cc9d05a6b14543889a289fdbda95c1.zip\n",
      "Verarbeite Task-Datei: /Users/karl/.clearml/cache/offline/offline-42d22b696f0a4e8d92a8b623df65e323.zip\n",
      "Verarbeite Task-Datei: /Users/karl/.clearml/cache/offline/offline-a6118f8b120c44bcbba7cfc13feaf081.zip\n",
      "Verarbeite Task-Datei: /Users/karl/.clearml/cache/offline/offline-4e4b56c28b3044749d06f87694eef428.zip\n",
      "Verarbeite Task-Datei: /Users/karl/.clearml/cache/offline/offline-95f8eacc359f4491a18f61e4ab0d939c.zip\n",
      "Verarbeite Task-Datei: /Users/karl/.clearml/cache/offline/offline-a11a39838a724d0ca3f41d867226e1a6.zip\n",
      "Verarbeite Task-Datei: /Users/karl/.clearml/cache/offline/offline-db07d533609845478673620117426d99.zip\n",
      "Verarbeite Task-Datei: /Users/karl/.clearml/cache/offline/offline-2974a62544a74222ac502981a6ff2757.zip\n",
      "Verarbeite Task-Datei: /Users/karl/.clearml/cache/offline/offline-d7efaa45e3ba427ab9821d64b0b252e3.zip\n",
      "Verarbeite Task-Datei: /Users/karl/.clearml/cache/offline/offline-1d4317f0efc144fe9fd9abdcc41852c8.zip\n",
      "Verarbeite Task-Datei: /Users/karl/.clearml/cache/offline/offline-8a797b3d73f94aff8a696177b8a0d709.zip\n",
      "Verarbeite Task-Datei: /Users/karl/.clearml/cache/offline/offline-fc7b7067b4f64e739063a83812ce5c89.zip\n",
      "Verarbeite Task-Datei: /Users/karl/.clearml/cache/offline/offline-3730321f25494b6583921b41abd7c59d.zip\n",
      "Verarbeite Task-Datei: /Users/karl/.clearml/cache/offline/offline-eebd5feefef84a73a5d6162e8e26fe9e.zip\n",
      "Verarbeite Task-Datei: /Users/karl/.clearml/cache/offline/offline-38217e7aa4714bcfa81fedd363ca2b47.zip\n",
      "Verarbeite Task-Datei: /Users/karl/.clearml/cache/offline/offline-763edcbe65c842e9937d7aebecb1c2fe.zip\n",
      "Verarbeite Task-Datei: /Users/karl/.clearml/cache/offline/offline-a4ed3a8133154e57a5238de2eb8bc0e3.zip\n",
      "Verarbeite Task-Datei: /Users/karl/.clearml/cache/offline/offline-b3bf433da77a49d3a6a95a909200772b.zip\n",
      "Verarbeite Task-Datei: /Users/karl/.clearml/cache/offline/offline-2b6140a4f90b4b97a30c0308b88c4e1b.zip\n",
      "Verarbeite Task-Datei: /Users/karl/.clearml/cache/offline/offline-69e5b1a9b4174edcb2618d7981846486.zip\n",
      "Verarbeite Task-Datei: /Users/karl/.clearml/cache/offline/offline-05a1e2046c824bd28ca40c0497c1fcd8.zip\n",
      "Verarbeite Task-Datei: /Users/karl/.clearml/cache/offline/offline-a3c470bde6424ad4bdb4951d7be908a5.zip\n",
      "Verarbeite Task-Datei: /Users/karl/.clearml/cache/offline/offline-63fb89f02b7149e8ace805508ca04865.zip\n",
      "Verarbeite Task-Datei: /Users/karl/.clearml/cache/offline/offline-9677b99e9af34966ac1a13aacc4d3d66.zip\n",
      "Verarbeite Task-Datei: /Users/karl/.clearml/cache/offline/offline-4ccb51c4a5e84197836859bab8e58d85.zip\n",
      "Verarbeite Task-Datei: /Users/karl/.clearml/cache/offline/offline-85fa238e99254726858a651a11651f2a.zip\n",
      "Verarbeite Task-Datei: /Users/karl/.clearml/cache/offline/offline-2475caf4f843427cbbc2d9924161b3ee.zip\n",
      "Verarbeite Task-Datei: /Users/karl/.clearml/cache/offline/offline-0c805871759844ae913e11a05bffd99b.zip\n",
      "Verarbeite Task-Datei: /Users/karl/.clearml/cache/offline/offline-757644f3550144a28a788738a66c67e2.zip\n",
      "Verarbeite Task-Datei: /Users/karl/.clearml/cache/offline/offline-4c26680a40ae42fa99cdf647bfd29b31.zip\n",
      "Verarbeite Task-Datei: /Users/karl/.clearml/cache/offline/offline-d9884252a1cf407396c15bac30fd11b2.zip\n",
      "Verarbeite Task-Datei: /Users/karl/.clearml/cache/offline/offline-b2a705f8afa64bb9a914c46e75a3b7c1.zip\n",
      "Verarbeite Task-Datei: /Users/karl/.clearml/cache/offline/offline-9562e58c7f31493a834f83d6e69eb7cf.zip\n",
      "Verarbeite Task-Datei: /Users/karl/.clearml/cache/offline/offline-0ab9a9e9a06e4897819405a9daef403a.zip\n",
      "Verarbeite Task-Datei: /Users/karl/.clearml/cache/offline/offline-3d53619a32614b44a3ff98bb3b419079.zip\n",
      "Verarbeite Task-Datei: /Users/karl/.clearml/cache/offline/offline-3f239f49e5f34a7cbae496e1b37ce849.zip\n",
      "Verarbeite Task-Datei: /Users/karl/.clearml/cache/offline/offline-4cf7c8b63a574f8d98d7542d6dc87480.zip\n",
      "Verarbeite Task-Datei: /Users/karl/.clearml/cache/offline/offline-f1ce094fe42d4034bff14dbff0890f9d.zip\n",
      "Verarbeite Task-Datei: /Users/karl/.clearml/cache/offline/offline-77c2c4c674744a708b05c921e3ff6747.zip\n",
      "Verarbeite Task-Datei: /Users/karl/.clearml/cache/offline/offline-250f467457964ddaa6b483876cc29b33.zip\n",
      "Verarbeite Task-Datei: /Users/karl/.clearml/cache/offline/offline-d339d47169dc4916bbc0cbf7d3e7c843.zip\n",
      "Verarbeite Task-Datei: /Users/karl/.clearml/cache/offline/offline-eac36d9a28754fe7ac6954e9279c888e.zip\n",
      "Verarbeite Task-Datei: /Users/karl/.clearml/cache/offline/offline-83378a261c7f4e8cb1973982e7cafab7.zip\n",
      "Verarbeite Task-Datei: /Users/karl/.clearml/cache/offline/offline-8b7d276bd59f406aa9550c9afc90e3b1.zip\n",
      "Verarbeite Task-Datei: /Users/karl/.clearml/cache/offline/offline-74e3bf93a49343d6a3bf2612c20c4a95.zip\n",
      "Verarbeite Task-Datei: /Users/karl/.clearml/cache/offline/offline-6754462d12314fbcb970c9173d4fb07c.zip\n",
      "Verarbeite Task-Datei: /Users/karl/.clearml/cache/offline/offline-48c6ae2230ae40ceb73b3ac4d81966bb.zip\n",
      "Verarbeite Task-Datei: /Users/karl/.clearml/cache/offline/offline-1899bb18a4284450b43d1a7ecd750320.zip\n",
      "Verarbeite Task-Datei: /Users/karl/.clearml/cache/offline/offline-9f761a794bd44ca28a77b8d98529a49a.zip\n",
      "Verarbeite Task-Datei: /Users/karl/.clearml/cache/offline/offline-5b75acf308ae43cb8f2ce3d00edcea2e.zip\n",
      "Verarbeite Task-Datei: /Users/karl/.clearml/cache/offline/offline-d392b9a1971545bcbb76a6cb07697e76.zip\n",
      "Verarbeite Task-Datei: /Users/karl/.clearml/cache/offline/offline-060ff3c8c4dc4e2f800e166f1fc67655.zip\n",
      "Verarbeite Task-Datei: /Users/karl/.clearml/cache/offline/offline-119ce4d5b2534046a7af9e9adbaaedb5.zip\n",
      "Verarbeite Task-Datei: /Users/karl/.clearml/cache/offline/offline-d0f58cb17ac24777a56ad3235f074dcf.zip\n",
      "Verarbeite Task-Datei: /Users/karl/.clearml/cache/offline/offline-36f9bfec00054ffd94fd4b17576eb4a6.zip\n",
      "Verarbeite Task-Datei: /Users/karl/.clearml/cache/offline/offline-e3df7cbc7ef54acca79a1ed8f9ca3bf2.zip\n",
      "Verarbeite Task-Datei: /Users/karl/.clearml/cache/offline/offline-78a77feebaae4104af5867c580696e09.zip\n",
      "Verarbeite Task-Datei: /Users/karl/.clearml/cache/offline/offline-fca055e02d92486b95da2af1546daa9d.zip\n",
      "Verarbeite Task-Datei: /Users/karl/.clearml/cache/offline/offline-77d269f7388f4678a163930fa6c17489.zip\n",
      "Verarbeite Task-Datei: /Users/karl/.clearml/cache/offline/offline-6a6d601cf24e4571800f019457d650e7.zip\n",
      "Verarbeite Task-Datei: /Users/karl/.clearml/cache/offline/offline-cf5a2ee9cd9340359019cc31f81f0dff.zip\n",
      "Verarbeite Task-Datei: /Users/karl/.clearml/cache/offline/offline-3959d0029f7e466da437e7cddcf0eb21.zip\n",
      "Verarbeite Task-Datei: /Users/karl/.clearml/cache/offline/offline-f7efb630f4774eb9a0ab600c409278a6.zip\n",
      "Verarbeite Task-Datei: /Users/karl/.clearml/cache/offline/offline-af7876f2579a434484ffcdb682f30cbb.zip\n",
      "Verarbeite Task-Datei: /Users/karl/.clearml/cache/offline/offline-eca026bcf4e649daae4148b94c9acbd4.zip\n",
      "Verarbeite Task-Datei: /Users/karl/.clearml/cache/offline/offline-4e3534d3d00943c69dcd898c09b7b831.zip\n",
      "Verarbeite Task-Datei: /Users/karl/.clearml/cache/offline/offline-e1d6f18752f44ff5878a716c73460b67.zip\n",
      "Verarbeite Task-Datei: /Users/karl/.clearml/cache/offline/offline-c57e433a285248a78425e17d56561eb0.zip\n",
      "Verarbeite Task-Datei: /Users/karl/.clearml/cache/offline/offline-81c96fdb931f4b6c88591e560beecad7.zip\n",
      "Verarbeite Task-Datei: /Users/karl/.clearml/cache/offline/offline-14acfc46cca640ce8698b12fb7549dd4.zip\n",
      "Verarbeite Task-Datei: /Users/karl/.clearml/cache/offline/offline-ddbbb7b0f2914be5a2e78027e82eec09.zip\n",
      "Verarbeite Task-Datei: /Users/karl/.clearml/cache/offline/offline-fb9ac7fd54064bf292ca9f74a03a2bfd.zip\n",
      "Verarbeite Task-Datei: /Users/karl/.clearml/cache/offline/offline-438c00e9f8554972a1ba3c595b8453ee.zip\n",
      "Verarbeite Task-Datei: /Users/karl/.clearml/cache/offline/offline-1564f6e2204846dd993fb99041da1c1c.zip\n",
      "Verarbeite Task-Datei: /Users/karl/.clearml/cache/offline/offline-8cde135147084e92b7c4622c614c6d6a.zip\n",
      "Verarbeite Task-Datei: /Users/karl/.clearml/cache/offline/offline-b727bfc7b75443e8b3e8db28aef28e5b.zip\n",
      "Verarbeite Task-Datei: /Users/karl/.clearml/cache/offline/offline-09e2c2d056d24ccf903f6893b1eb5995.zip\n",
      "Verarbeite Task-Datei: /Users/karl/.clearml/cache/offline/offline-c6c70eafea2f4f2dadec2b6a2f2b9d3b.zip\n",
      "Verarbeite Task-Datei: /Users/karl/.clearml/cache/offline/offline-81702956d69540eeb0c38c42d0e81fbc.zip\n",
      "Verarbeite Task-Datei: /Users/karl/.clearml/cache/offline/offline-b8b6419873d04f1589e5eff371e7ebee.zip\n",
      "Verarbeite Task-Datei: /Users/karl/.clearml/cache/offline/offline-d9c08c36f0464e05920e4f939ef5589c.zip\n",
      "Verarbeite Task-Datei: /Users/karl/.clearml/cache/offline/offline-7b6bcae316ec47e7a50a6f4d5ca0fbdb.zip\n",
      "Verarbeite Task-Datei: /Users/karl/.clearml/cache/offline/offline-18b5d9c2914d46f6a3920244e401cc02.zip\n",
      "Verarbeite Task-Datei: /Users/karl/.clearml/cache/offline/offline-48819f22ffb74a3b8d35793a2bf4ea1b.zip\n",
      "Verarbeite Task-Datei: /Users/karl/.clearml/cache/offline/offline-0c8814e6bf9640c2bb696ccb1bfbdcdf.zip\n",
      "Verarbeite Task-Datei: /Users/karl/.clearml/cache/offline/offline-40f20d7a19ad43adac27e799d0010287.zip\n",
      "Verarbeite Task-Datei: /Users/karl/.clearml/cache/offline/offline-58d038eb79834401b0bbf65f707fb811.zip\n",
      "Verarbeite Task-Datei: /Users/karl/.clearml/cache/offline/offline-e4280bb5297e4900954f2d4431c44db1.zip\n",
      "Verarbeite Task-Datei: /Users/karl/.clearml/cache/offline/offline-57755f9dc6404d7d9d23021bdcdc54eb.zip\n",
      "Verarbeite Task-Datei: /Users/karl/.clearml/cache/offline/offline-b72497907d36425f97d1554b4438ac2a.zip\n",
      "Verarbeite Task-Datei: /Users/karl/.clearml/cache/offline/offline-71ece03f7bb2487c9794df8e9d21ace3.zip\n",
      "Verarbeite Task-Datei: /Users/karl/.clearml/cache/offline/offline-7cdc0af524794110ace781c2bb5c5d74.zip\n",
      "Verarbeite Task-Datei: /Users/karl/.clearml/cache/offline/offline-30be303eb1684b1e9f4a846169901557.zip\n",
      "Verarbeite Task-Datei: /Users/karl/.clearml/cache/offline/offline-40b753bef5cb436ca4a6a4431e3ab80a.zip\n",
      "Verarbeite Task-Datei: /Users/karl/.clearml/cache/offline/offline-8833501b9a3a45a58a077c290c97e7f0.zip\n",
      "Verarbeite Task-Datei: /Users/karl/.clearml/cache/offline/offline-e82ed86fef0f41e1a62414ec955b07bc.zip\n",
      "Verarbeite Task-Datei: /Users/karl/.clearml/cache/offline/offline-b6a343ce0e184c36887b3f89aac8455b.zip\n",
      "Verarbeite Task-Datei: /Users/karl/.clearml/cache/offline/offline-7c76b29f4f424082a08950b11a0f88d1.zip\n",
      "Verarbeite Task-Datei: /Users/karl/.clearml/cache/offline/offline-42240e7d321d4595b79a0cab6ab08f8e.zip\n",
      "Verarbeite Task-Datei: /Users/karl/.clearml/cache/offline/offline-585de0deddf04268a8f41e09e0debce9.zip\n",
      "Verarbeite Task-Datei: /Users/karl/.clearml/cache/offline/offline-b442090253354b698e7e732794803aa7.zip\n",
      "Verarbeite Task-Datei: /Users/karl/.clearml/cache/offline/offline-83426f4482ac45a986f68ba760a0b9f3.zip\n",
      "Verarbeite Task-Datei: /Users/karl/.clearml/cache/offline/offline-2931b1aa7f75480aa4c277607e3e5ffd.zip\n",
      "Verarbeite Task-Datei: /Users/karl/.clearml/cache/offline/offline-45589c7e03ba4f84bfb43c0b403e7000.zip\n",
      "Verarbeite Task-Datei: /Users/karl/.clearml/cache/offline/offline-9611b23ab36740e5a3392fb7fa0578f2.zip\n",
      "Verarbeite Task-Datei: /Users/karl/.clearml/cache/offline/offline-58bef205b1cc4cbca84bea0aa747865d.zip\n",
      "Verarbeite Task-Datei: /Users/karl/.clearml/cache/offline/offline-ff6e0ab5d16a4974b049cb764c903a1b.zip\n",
      "Verarbeite Task-Datei: /Users/karl/.clearml/cache/offline/offline-dba66075c836488aae5de2029c5ffbfa.zip\n",
      "Verarbeite Task-Datei: /Users/karl/.clearml/cache/offline/offline-5e9c7c816ef84f9b9b565efbd7136385.zip\n",
      "Verarbeite Task-Datei: /Users/karl/.clearml/cache/offline/offline-f49bf57b34aa45e581fd70e7507bf1e6.zip\n",
      "Verarbeite Task-Datei: /Users/karl/.clearml/cache/offline/offline-566460eb566d4f5184b100d4df8d6c29.zip\n",
      "Verarbeite Task-Datei: /Users/karl/.clearml/cache/offline/offline-0263b3c74a524b52a1d9f17af2a4001e.zip\n",
      "Verarbeite Task-Datei: /Users/karl/.clearml/cache/offline/offline-366a5ca7f01d4ba198a838128f3f22d2.zip\n",
      "Verarbeite Task-Datei: /Users/karl/.clearml/cache/offline/offline-7f1d2792fffb41c3a781d5e9ea5bb860.zip\n",
      "Verarbeite Task-Datei: /Users/karl/.clearml/cache/offline/offline-570e6dc2746249a3a566f3632e1e3d73.zip\n",
      "Verarbeite Task-Datei: /Users/karl/.clearml/cache/offline/offline-b1c229c2fca14ad6aaf773cb95abc66a.zip\n",
      "Verarbeite Task-Datei: /Users/karl/.clearml/cache/offline/offline-099a737ab64a4b5ea6c42deafc3a1b35.zip\n",
      "Verarbeite Task-Datei: /Users/karl/.clearml/cache/offline/offline-ec9ff70412c04959b83651aa93915c00.zip\n",
      "Verarbeite Task-Datei: /Users/karl/.clearml/cache/offline/offline-9967c67b033b4fb1b25e0e08d979d95f.zip\n",
      "Verarbeite Task-Datei: /Users/karl/.clearml/cache/offline/offline-b47c777c18b14d02b13a4cae95cb4648.zip\n",
      "Verarbeite Task-Datei: /Users/karl/.clearml/cache/offline/offline-2bc11b807a2f4a07ab1bb39882d29f48.zip\n",
      "Verarbeite Task-Datei: /Users/karl/.clearml/cache/offline/offline-d687559e6f4c40979d1f32a5e2875460.zip\n",
      "Verarbeite Task-Datei: /Users/karl/.clearml/cache/offline/offline-675f7e5479364734987bccd5b0f65207.zip\n",
      "Verarbeite Task-Datei: /Users/karl/.clearml/cache/offline/offline-bf3729802bcb4a07b5725ef7125b751a.zip\n",
      "Verarbeite Task-Datei: /Users/karl/.clearml/cache/offline/offline-83c5eeff4a1a41ea9838e77a3dfe448a.zip\n",
      "Verarbeite Task-Datei: /Users/karl/.clearml/cache/offline/offline-530507a5a9cb4b75a2579717ed010f08.zip\n",
      "Verarbeite Task-Datei: /Users/karl/.clearml/cache/offline/offline-abd39004f697476abedb1a366ef2c322.zip\n",
      "Verarbeite Task-Datei: /Users/karl/.clearml/cache/offline/offline-8aca8a722d1a41a19109b44439235d7c.zip\n",
      "Verarbeite Task-Datei: /Users/karl/.clearml/cache/offline/offline-7c814f7308a04391834f2e2c7a93a9ed.zip\n",
      "Verarbeite Task-Datei: /Users/karl/.clearml/cache/offline/offline-7cf615fe36ff493eadb5d9e188c97730.zip\n",
      "Verarbeite Task-Datei: /Users/karl/.clearml/cache/offline/offline-8b4ded5d014b46d09bba18d9231512d4.zip\n",
      "Verarbeite Task-Datei: /Users/karl/.clearml/cache/offline/offline-be07e3486b7d44038eb7e8c43bbc7a3f.zip\n",
      "Verarbeite Task-Datei: /Users/karl/.clearml/cache/offline/offline-63b5bbb9cd2943418b47c1d4a5d5e177.zip\n",
      "Verarbeite Task-Datei: /Users/karl/.clearml/cache/offline/offline-b6a04e6b89a24213a3fe24308e6832eb.zip\n",
      "Verarbeite Task-Datei: /Users/karl/.clearml/cache/offline/offline-c34de6c4d3084c888fd1dc7a10c83390.zip\n",
      "Verarbeite Task-Datei: /Users/karl/.clearml/cache/offline/offline-8d44e57270c8475abaf0c7c61ded7600.zip\n",
      "Verarbeite Task-Datei: /Users/karl/.clearml/cache/offline/offline-606471cb5898405ca224bb793dc68450.zip\n",
      "Verarbeite Task-Datei: /Users/karl/.clearml/cache/offline/offline-d0758b4d2d934a509ef0bce730cf6838.zip\n",
      "Verarbeite Task-Datei: /Users/karl/.clearml/cache/offline/offline-000db377b0f84a6b98024125b477f82c.zip\n",
      "Verarbeite Task-Datei: /Users/karl/.clearml/cache/offline/offline-779c851a079547179ee6c9389a65c03c.zip\n",
      "Verarbeite Task-Datei: /Users/karl/.clearml/cache/offline/offline-a7995910258048bc8a4937cfd5a2fd3b.zip\n",
      "Verarbeite Task-Datei: /Users/karl/.clearml/cache/offline/offline-96803c80dffb4df6a9b32174edcaa207.zip\n",
      "Verarbeite Task-Datei: /Users/karl/.clearml/cache/offline/offline-36314ef7d6f4427f97307323a2bddbef.zip\n",
      "Verarbeite Task-Datei: /Users/karl/.clearml/cache/offline/offline-1b7b8f9528b04d01ba0bf80164127d99.zip\n",
      "Verarbeite Task-Datei: /Users/karl/.clearml/cache/offline/offline-d719b18022a745459f39b3e6be849db4.zip\n",
      "Verarbeite Task-Datei: /Users/karl/.clearml/cache/offline/offline-717a4e2d6d184fb088df375814abac5c.zip\n",
      "Verarbeite Task-Datei: /Users/karl/.clearml/cache/offline/offline-68e2aaafe51142789df3003d749f0ba0.zip\n",
      "Verarbeite Task-Datei: /Users/karl/.clearml/cache/offline/offline-8651fe3e87e64ac083080893edea5285.zip\n",
      "Verarbeite Task-Datei: /Users/karl/.clearml/cache/offline/offline-b597f4ca0e3f49ddb5b96bc3418530ea.zip\n",
      "Verarbeite Task-Datei: /Users/karl/.clearml/cache/offline/offline-522a176089d3410aa332b97fabd48c0b.zip\n",
      "Verarbeite Task-Datei: /Users/karl/.clearml/cache/offline/offline-abcaae042f224f25be305e23bbd6698f.zip\n",
      "Verarbeite Task-Datei: /Users/karl/.clearml/cache/offline/offline-ba81420eb67b49358da07ee76b449cd2.zip\n",
      "Verarbeite Task-Datei: /Users/karl/.clearml/cache/offline/offline-3941fcb4a7ad4c0d937d462f47b80abd.zip\n",
      "Verarbeite Task-Datei: /Users/karl/.clearml/cache/offline/offline-1ddcdcc841294d11a8a966083debcc06.zip\n",
      "Verarbeite Task-Datei: /Users/karl/.clearml/cache/offline/offline-e339160cbd9649e288eea58e9290d89f.zip\n",
      "Verarbeite Task-Datei: /Users/karl/.clearml/cache/offline/offline-313d76771d104302a9efdacf69de735e.zip\n",
      "CSV-Datei mit Metriken und Parametern gespeichert unter: task_metrics_and_parameters.csv\n"
     ]
    }
   ],
   "source": []
  },
  {
   "cell_type": "code",
   "execution_count": 2,
   "id": "4ae6bc21",
   "metadata": {},
   "outputs": [
    {
     "name": "stderr",
     "output_type": "stream",
     "text": [
      "/opt/miniconda3/envs/python312/lib/python3.13/site-packages/optuna/_experimental.py:31: ExperimentalWarning: Argument ``multivariate`` is an experimental feature. The interface can change in the future.\n",
      "  warnings.warn(\n",
      "[I 2025-01-13 14:12:20,914] A new study created in memory with name: no-name-ef701697-fee0-4ca0-ba63-7ae892d7033f\n"
     ]
    },
    {
     "name": "stdout",
     "output_type": "stream",
     "text": [
      "ClearML Task: created new task id=offline-1a776963e44647e0a4a40a3af7a3a2fd\n",
      "ClearML running in offline mode, session stored in /Users/karl/.clearml/cache/offline/offline-1a776963e44647e0a4a40a3af7a3a2fd\n",
      "2025-01-13 14:12:20,981 - clearml.Task - INFO - Storing jupyter notebook directly as code\n",
      "ClearML Monitor: GPU monitoring failed getting GPU reading, switching off GPU monitoring\n"
     ]
    },
    {
     "name": "stderr",
     "output_type": "stream",
     "text": [
      "[I 2025-01-13 14:12:50,707] Trial 0 finished with values: [1162405.0, 17.2868295] and parameters: {'a': 188, 'b': 476, 'd': 366}.\n"
     ]
    },
    {
     "name": "stdout",
     "output_type": "stream",
     "text": [
      "ClearML Task: Offline session stored in /Users/karl/.clearml/cache/offline/offline-1a776963e44647e0a4a40a3af7a3a2fd.zip\n",
      "ClearML Task: created new task id=offline-59840ad8459b4f59ab822387b71c5bba\n",
      "ClearML running in offline mode, session stored in /Users/karl/.clearml/cache/offline/offline-59840ad8459b4f59ab822387b71c5bba\n",
      "ClearML Monitor: GPU monitoring failed getting GPU reading, switching off GPU monitoring\n"
     ]
    },
    {
     "name": "stderr",
     "output_type": "stream",
     "text": [
      "[I 2025-01-13 14:13:21,305] Trial 1 finished with values: [1169405.0, 15.601313133333333] and parameters: {'a': 300, 'b': 79, 'd': 78}.\n"
     ]
    },
    {
     "name": "stdout",
     "output_type": "stream",
     "text": [
      "ClearML Task: Offline session stored in /Users/karl/.clearml/cache/offline/offline-59840ad8459b4f59ab822387b71c5bba.zip\n",
      "ClearML Task: created new task id=offline-099a737ab64a4b5ea6c42deafc3a1b35\n",
      "ClearML running in offline mode, session stored in /Users/karl/.clearml/cache/offline/offline-099a737ab64a4b5ea6c42deafc3a1b35\n",
      "ClearML Monitor: GPU monitoring failed getting GPU reading, switching off GPU monitoring\n"
     ]
    },
    {
     "name": "stderr",
     "output_type": "stream",
     "text": [
      "[I 2025-01-13 14:13:51,231] Trial 2 finished with values: [1161160.0, 8.430885583333334] and parameters: {'a': 30, 'b': 434, 'd': 301}.\n"
     ]
    },
    {
     "name": "stdout",
     "output_type": "stream",
     "text": [
      "ClearML Task: Offline session stored in /Users/karl/.clearml/cache/offline/offline-099a737ab64a4b5ea6c42deafc3a1b35.zip\n",
      "ClearML Task: created new task id=offline-322fdc9e611c4ec387d6e9871043ffaa\n",
      "ClearML running in offline mode, session stored in /Users/karl/.clearml/cache/offline/offline-322fdc9e611c4ec387d6e9871043ffaa\n",
      "ClearML Monitor: GPU monitoring failed getting GPU reading, switching off GPU monitoring\n"
     ]
    },
    {
     "name": "stderr",
     "output_type": "stream",
     "text": [
      "[I 2025-01-13 14:14:22,952] Trial 3 finished with values: [1178780.0, 33.521735783333334] and parameters: {'a': 355, 'b': 11, 'd': 485}.\n"
     ]
    },
    {
     "name": "stdout",
     "output_type": "stream",
     "text": [
      "ClearML Task: Offline session stored in /Users/karl/.clearml/cache/offline/offline-322fdc9e611c4ec387d6e9871043ffaa.zip\n",
      "ClearML Task: created new task id=offline-c8d1a8d5eea447b283b56c77fcc74b59\n",
      "ClearML running in offline mode, session stored in /Users/karl/.clearml/cache/offline/offline-c8d1a8d5eea447b283b56c77fcc74b59\n",
      "ClearML Monitor: GPU monitoring failed getting GPU reading, switching off GPU monitoring\n"
     ]
    },
    {
     "name": "stderr",
     "output_type": "stream",
     "text": [
      "[I 2025-01-13 14:14:53,775] Trial 4 finished with values: [1169405.0, 15.601313133333333] and parameters: {'a': 417, 'b': 107, 'd': 91}.\n"
     ]
    },
    {
     "name": "stdout",
     "output_type": "stream",
     "text": [
      "ClearML Task: Offline session stored in /Users/karl/.clearml/cache/offline/offline-c8d1a8d5eea447b283b56c77fcc74b59.zip\n",
      "ClearML Task: created new task id=offline-75a8207790bc486ead9ad95866869b09\n",
      "ClearML running in offline mode, session stored in /Users/karl/.clearml/cache/offline/offline-75a8207790bc486ead9ad95866869b09\n",
      "ClearML Monitor: GPU monitoring failed getting GPU reading, switching off GPU monitoring\n"
     ]
    },
    {
     "name": "stderr",
     "output_type": "stream",
     "text": [
      "[I 2025-01-13 14:15:23,983] Trial 5 finished with values: [1159700.0, 17.06177428333333] and parameters: {'a': 92, 'b': 153, 'd': 263}.\n"
     ]
    },
    {
     "name": "stdout",
     "output_type": "stream",
     "text": [
      "ClearML Task: Offline session stored in /Users/karl/.clearml/cache/offline/offline-75a8207790bc486ead9ad95866869b09.zip\n",
      "ClearML Task: created new task id=offline-a7995910258048bc8a4937cfd5a2fd3b\n",
      "ClearML running in offline mode, session stored in /Users/karl/.clearml/cache/offline/offline-a7995910258048bc8a4937cfd5a2fd3b\n",
      "ClearML Monitor: GPU monitoring failed getting GPU reading, switching off GPU monitoring\n"
     ]
    },
    {
     "name": "stderr",
     "output_type": "stream",
     "text": [
      "[I 2025-01-13 14:15:54,202] Trial 6 finished with values: [1171400.0, 15.382510766666666] and parameters: {'a': 216, 'b': 146, 'd': 306}.\n"
     ]
    },
    {
     "name": "stdout",
     "output_type": "stream",
     "text": [
      "ClearML Task: Offline session stored in /Users/karl/.clearml/cache/offline/offline-a7995910258048bc8a4937cfd5a2fd3b.zip\n",
      "ClearML Task: created new task id=offline-c6c70eafea2f4f2dadec2b6a2f2b9d3b\n",
      "ClearML running in offline mode, session stored in /Users/karl/.clearml/cache/offline/offline-c6c70eafea2f4f2dadec2b6a2f2b9d3b\n",
      "ClearML Monitor: GPU monitoring failed getting GPU reading, switching off GPU monitoring\n"
     ]
    },
    {
     "name": "stderr",
     "output_type": "stream",
     "text": [
      "[I 2025-01-13 14:16:22,808] Trial 7 finished with values: [1156970.0, 16.35510066666667] and parameters: {'a': 70, 'b': 147, 'd': 184}.\n"
     ]
    },
    {
     "name": "stdout",
     "output_type": "stream",
     "text": [
      "ClearML Task: Offline session stored in /Users/karl/.clearml/cache/offline/offline-c6c70eafea2f4f2dadec2b6a2f2b9d3b.zip\n",
      "ClearML Task: created new task id=offline-f499e233e2e14196b2f8ac636cba6c84\n",
      "ClearML running in offline mode, session stored in /Users/karl/.clearml/cache/offline/offline-f499e233e2e14196b2f8ac636cba6c84\n",
      "ClearML Monitor: GPU monitoring failed getting GPU reading, switching off GPU monitoring\n"
     ]
    },
    {
     "name": "stderr",
     "output_type": "stream",
     "text": [
      "[I 2025-01-13 14:16:53,442] Trial 8 finished with values: [1163740.0, 15.805535333333333] and parameters: {'a': 229, 'b': 393, 'd': 100}.\n"
     ]
    },
    {
     "name": "stdout",
     "output_type": "stream",
     "text": [
      "ClearML Task: Offline session stored in /Users/karl/.clearml/cache/offline/offline-f499e233e2e14196b2f8ac636cba6c84.zip\n",
      "ClearML Task: created new task id=offline-1ddcdcc841294d11a8a966083debcc06\n",
      "ClearML running in offline mode, session stored in /Users/karl/.clearml/cache/offline/offline-1ddcdcc841294d11a8a966083debcc06\n",
      "ClearML Monitor: GPU monitoring failed getting GPU reading, switching off GPU monitoring\n"
     ]
    },
    {
     "name": "stderr",
     "output_type": "stream",
     "text": [
      "[I 2025-01-13 14:17:24,999] Trial 9 finished with values: [1166785.0, 16.4650158] and parameters: {'a': 258, 'b': 297, 'd': 24}.\n"
     ]
    },
    {
     "name": "stdout",
     "output_type": "stream",
     "text": [
      "ClearML Task: Offline session stored in /Users/karl/.clearml/cache/offline/offline-1ddcdcc841294d11a8a966083debcc06.zip\n",
      "ClearML Task: created new task id=offline-d9c08c36f0464e05920e4f939ef5589c\n",
      "ClearML running in offline mode, session stored in /Users/karl/.clearml/cache/offline/offline-d9c08c36f0464e05920e4f939ef5589c\n",
      "ClearML Monitor: GPU monitoring failed getting GPU reading, switching off GPU monitoring\n"
     ]
    },
    {
     "name": "stderr",
     "output_type": "stream",
     "text": [
      "[I 2025-01-13 14:17:52,489] Trial 10 finished with values: [1144830.0, 6.971386166666666] and parameters: {'a': 12, 'b': 470, 'd': 86}.\n"
     ]
    },
    {
     "name": "stdout",
     "output_type": "stream",
     "text": [
      "ClearML Task: Offline session stored in /Users/karl/.clearml/cache/offline/offline-d9c08c36f0464e05920e4f939ef5589c.zip\n",
      "ClearML Task: created new task id=offline-3d53619a32614b44a3ff98bb3b419079\n",
      "ClearML running in offline mode, session stored in /Users/karl/.clearml/cache/offline/offline-3d53619a32614b44a3ff98bb3b419079\n",
      "ClearML Monitor: GPU monitoring failed getting GPU reading, switching off GPU monitoring\n"
     ]
    },
    {
     "name": "stderr",
     "output_type": "stream",
     "text": [
      "[I 2025-01-13 14:18:20,581] Trial 11 finished with values: [1153930.0, 7.276439033333333] and parameters: {'a': 21, 'b': 439, 'd': 87}.\n"
     ]
    },
    {
     "name": "stdout",
     "output_type": "stream",
     "text": [
      "ClearML Task: Offline session stored in /Users/karl/.clearml/cache/offline/offline-3d53619a32614b44a3ff98bb3b419079.zip\n",
      "ClearML Task: created new task id=offline-007c30a5d552485db06a66bc33af2355\n",
      "ClearML running in offline mode, session stored in /Users/karl/.clearml/cache/offline/offline-007c30a5d552485db06a66bc33af2355\n",
      "ClearML Monitor: GPU monitoring failed getting GPU reading, switching off GPU monitoring\n"
     ]
    },
    {
     "name": "stderr",
     "output_type": "stream",
     "text": [
      "[I 2025-01-13 14:18:48,023] Trial 12 finished with values: [1138155.0, 5.115683633333333] and parameters: {'a': 5, 'b': 499, 'd': 11}.\n"
     ]
    },
    {
     "name": "stdout",
     "output_type": "stream",
     "text": [
      "ClearML Task: Offline session stored in /Users/karl/.clearml/cache/offline/offline-007c30a5d552485db06a66bc33af2355.zip\n",
      "ClearML Task: created new task id=offline-fd5a5d4958be43a48df4bcb584a06334\n",
      "ClearML running in offline mode, session stored in /Users/karl/.clearml/cache/offline/offline-fd5a5d4958be43a48df4bcb584a06334\n",
      "ClearML Monitor: GPU monitoring failed getting GPU reading, switching off GPU monitoring\n"
     ]
    },
    {
     "name": "stderr",
     "output_type": "stream",
     "text": [
      "[I 2025-01-13 14:19:18,193] Trial 13 finished with values: [1151030.0, 13.817346733333332] and parameters: {'a': 46, 'b': 249, 'd': 4}.\n"
     ]
    },
    {
     "name": "stdout",
     "output_type": "stream",
     "text": [
      "ClearML Task: Offline session stored in /Users/karl/.clearml/cache/offline/offline-fd5a5d4958be43a48df4bcb584a06334.zip\n",
      "ClearML Task: created new task id=offline-9a5e67c38c0d4ebf85de6aa9a1675d21\n",
      "ClearML running in offline mode, session stored in /Users/karl/.clearml/cache/offline/offline-9a5e67c38c0d4ebf85de6aa9a1675d21\n",
      "ClearML Monitor: GPU monitoring failed getting GPU reading, switching off GPU monitoring\n"
     ]
    },
    {
     "name": "stderr",
     "output_type": "stream",
     "text": [
      "[I 2025-01-13 14:19:46,998] Trial 14 finished with values: [1154540.0, 9.51544575] and parameters: {'a': 49, 'b': 493, 'd': 7}.\n"
     ]
    },
    {
     "name": "stdout",
     "output_type": "stream",
     "text": [
      "ClearML Task: Offline session stored in /Users/karl/.clearml/cache/offline/offline-9a5e67c38c0d4ebf85de6aa9a1675d21.zip\n",
      "ClearML Task: created new task id=offline-4d8dd778da374f36aafabfd5d87bbf7c\n",
      "ClearML running in offline mode, session stored in /Users/karl/.clearml/cache/offline/offline-4d8dd778da374f36aafabfd5d87bbf7c\n",
      "ClearML Monitor: GPU monitoring failed getting GPU reading, switching off GPU monitoring\n"
     ]
    },
    {
     "name": "stderr",
     "output_type": "stream",
     "text": [
      "[I 2025-01-13 14:20:17,860] Trial 15 finished with values: [1167100.0, 16.412884366666667] and parameters: {'a': 474, 'b': 499, 'd': 71}.\n"
     ]
    },
    {
     "name": "stdout",
     "output_type": "stream",
     "text": [
      "ClearML Task: Offline session stored in /Users/karl/.clearml/cache/offline/offline-4d8dd778da374f36aafabfd5d87bbf7c.zip\n",
      "ClearML Task: created new task id=offline-b549becf09a34399ab1d49def9580c6e\n",
      "ClearML running in offline mode, session stored in /Users/karl/.clearml/cache/offline/offline-b549becf09a34399ab1d49def9580c6e\n",
      "ClearML Monitor: GPU monitoring failed getting GPU reading, switching off GPU monitoring\n"
     ]
    },
    {
     "name": "stderr",
     "output_type": "stream",
     "text": [
      "[I 2025-01-13 14:20:45,892] Trial 16 finished with values: [1152045.0, 6.739461833333333] and parameters: {'a': 7, 'b': 298, 'd': 121}.\n"
     ]
    },
    {
     "name": "stdout",
     "output_type": "stream",
     "text": [
      "ClearML Task: Offline session stored in /Users/karl/.clearml/cache/offline/offline-b549becf09a34399ab1d49def9580c6e.zip\n",
      "ClearML Task: created new task id=offline-e69c3f781c2b4db78ebfea225a5a6aae\n",
      "ClearML running in offline mode, session stored in /Users/karl/.clearml/cache/offline/offline-e69c3f781c2b4db78ebfea225a5a6aae\n",
      "ClearML Monitor: GPU monitoring failed getting GPU reading, switching off GPU monitoring\n"
     ]
    },
    {
     "name": "stderr",
     "output_type": "stream",
     "text": [
      "[I 2025-01-13 14:21:16,630] Trial 17 finished with values: [1167735.0, 16.357917416666666] and parameters: {'a': 401, 'b': 404, 'd': 394}.\n"
     ]
    },
    {
     "name": "stdout",
     "output_type": "stream",
     "text": [
      "ClearML Task: Offline session stored in /Users/karl/.clearml/cache/offline/offline-e69c3f781c2b4db78ebfea225a5a6aae.zip\n",
      "ClearML Task: created new task id=offline-3498472b03a948739d66c386392f369a\n",
      "ClearML running in offline mode, session stored in /Users/karl/.clearml/cache/offline/offline-3498472b03a948739d66c386392f369a\n",
      "ClearML Monitor: GPU monitoring failed getting GPU reading, switching off GPU monitoring\n"
     ]
    },
    {
     "name": "stderr",
     "output_type": "stream",
     "text": [
      "[I 2025-01-13 14:21:47,086] Trial 18 finished with values: [1171400.0, 15.382510766666666] and parameters: {'a': 492, 'b': 250, 'd': 282}.\n"
     ]
    },
    {
     "name": "stdout",
     "output_type": "stream",
     "text": [
      "ClearML Task: Offline session stored in /Users/karl/.clearml/cache/offline/offline-3498472b03a948739d66c386392f369a.zip\n",
      "ClearML Task: created new task id=offline-c5f0d7d62451490a8cc185be9291bade\n",
      "ClearML running in offline mode, session stored in /Users/karl/.clearml/cache/offline/offline-c5f0d7d62451490a8cc185be9291bade\n",
      "ClearML Monitor: GPU monitoring failed getting GPU reading, switching off GPU monitoring\n"
     ]
    },
    {
     "name": "stderr",
     "output_type": "stream",
     "text": [
      "[I 2025-01-13 14:22:18,183] Trial 19 finished with values: [1159700.0, 17.06177428333333] and parameters: {'a': 126, 'b': 207, 'd': 455}.\n"
     ]
    },
    {
     "name": "stdout",
     "output_type": "stream",
     "text": [
      "ClearML Task: Offline session stored in /Users/karl/.clearml/cache/offline/offline-c5f0d7d62451490a8cc185be9291bade.zip\n",
      "ClearML Task: created new task id=offline-eca026bcf4e649daae4148b94c9acbd4\n",
      "ClearML running in offline mode, session stored in /Users/karl/.clearml/cache/offline/offline-eca026bcf4e649daae4148b94c9acbd4\n",
      "ClearML Monitor: GPU monitoring failed getting GPU reading, switching off GPU monitoring\n"
     ]
    },
    {
     "name": "stderr",
     "output_type": "stream",
     "text": [
      "[I 2025-01-13 14:22:50,033] Trial 20 finished with values: [1157005.0, 17.4026535] and parameters: {'a': 249, 'b': 489, 'd': 40}.\n"
     ]
    },
    {
     "name": "stdout",
     "output_type": "stream",
     "text": [
      "ClearML Task: Offline session stored in /Users/karl/.clearml/cache/offline/offline-eca026bcf4e649daae4148b94c9acbd4.zip\n",
      "ClearML Task: created new task id=offline-4efe2097829749679ce12a3f4bda2d42\n",
      "ClearML running in offline mode, session stored in /Users/karl/.clearml/cache/offline/offline-4efe2097829749679ce12a3f4bda2d42\n",
      "ClearML Monitor: GPU monitoring failed getting GPU reading, switching off GPU monitoring\n"
     ]
    },
    {
     "name": "stderr",
     "output_type": "stream",
     "text": [
      "[I 2025-01-13 14:23:17,107] Trial 21 finished with values: [1155140.0, 7.389843] and parameters: {'a': 25, 'b': 495, 'd': 162}.\n"
     ]
    },
    {
     "name": "stdout",
     "output_type": "stream",
     "text": [
      "ClearML Task: Offline session stored in /Users/karl/.clearml/cache/offline/offline-4efe2097829749679ce12a3f4bda2d42.zip\n",
      "ClearML Task: created new task id=offline-d724d29ffd52498680977b3938b3ab3d\n",
      "ClearML running in offline mode, session stored in /Users/karl/.clearml/cache/offline/offline-d724d29ffd52498680977b3938b3ab3d\n",
      "ClearML Monitor: GPU monitoring failed getting GPU reading, switching off GPU monitoring\n"
     ]
    },
    {
     "name": "stderr",
     "output_type": "stream",
     "text": [
      "[I 2025-01-13 14:23:46,855] Trial 22 finished with values: [1159330.0, 12.664280233333333] and parameters: {'a': 69, 'b': 470, 'd': 18}.\n"
     ]
    },
    {
     "name": "stdout",
     "output_type": "stream",
     "text": [
      "ClearML Task: Offline session stored in /Users/karl/.clearml/cache/offline/offline-d724d29ffd52498680977b3938b3ab3d.zip\n",
      "ClearML Task: created new task id=offline-cf4bae2b2bb4457387d9ed6bc1bce8a1\n",
      "ClearML running in offline mode, session stored in /Users/karl/.clearml/cache/offline/offline-cf4bae2b2bb4457387d9ed6bc1bce8a1\n",
      "ClearML Monitor: GPU monitoring failed getting GPU reading, switching off GPU monitoring\n"
     ]
    },
    {
     "name": "stderr",
     "output_type": "stream",
     "text": [
      "[I 2025-01-13 14:24:16,556] Trial 23 finished with values: [1132770.0, 5.178889416666666] and parameters: {'a': 5, 'b': 440, 'd': 28}.\n"
     ]
    },
    {
     "name": "stdout",
     "output_type": "stream",
     "text": [
      "ClearML Task: Offline session stored in /Users/karl/.clearml/cache/offline/offline-cf4bae2b2bb4457387d9ed6bc1bce8a1.zip\n",
      "ClearML Task: created new task id=offline-40f20d7a19ad43adac27e799d0010287\n",
      "ClearML running in offline mode, session stored in /Users/karl/.clearml/cache/offline/offline-40f20d7a19ad43adac27e799d0010287\n",
      "ClearML Monitor: GPU monitoring failed getting GPU reading, switching off GPU monitoring\n"
     ]
    },
    {
     "name": "stderr",
     "output_type": "stream",
     "text": [
      "[I 2025-01-13 14:24:46,993] Trial 24 finished with values: [1153620.0, 13.957638483333334] and parameters: {'a': 62, 'b': 309, 'd': 110}.\n"
     ]
    },
    {
     "name": "stdout",
     "output_type": "stream",
     "text": [
      "ClearML Task: Offline session stored in /Users/karl/.clearml/cache/offline/offline-40f20d7a19ad43adac27e799d0010287.zip\n",
      "ClearML Task: created new task id=offline-0a774e781ce54cdbbdc06c5b8eb2b5f9\n",
      "ClearML running in offline mode, session stored in /Users/karl/.clearml/cache/offline/offline-0a774e781ce54cdbbdc06c5b8eb2b5f9\n",
      "ClearML Monitor: GPU monitoring failed getting GPU reading, switching off GPU monitoring\n"
     ]
    },
    {
     "name": "stderr",
     "output_type": "stream",
     "text": [
      "[I 2025-01-13 14:25:17,169] Trial 25 finished with values: [1171400.0, 15.382510766666666] and parameters: {'a': 500, 'b': 197, 'd': 477}.\n"
     ]
    },
    {
     "name": "stdout",
     "output_type": "stream",
     "text": [
      "ClearML Task: Offline session stored in /Users/karl/.clearml/cache/offline/offline-0a774e781ce54cdbbdc06c5b8eb2b5f9.zip\n",
      "ClearML Task: created new task id=offline-ec438f353d5c40d5a52a8c5eaca14170\n",
      "ClearML running in offline mode, session stored in /Users/karl/.clearml/cache/offline/offline-ec438f353d5c40d5a52a8c5eaca14170\n",
      "ClearML Monitor: GPU monitoring failed getting GPU reading, switching off GPU monitoring\n"
     ]
    },
    {
     "name": "stderr",
     "output_type": "stream",
     "text": [
      "[I 2025-01-13 14:25:47,438] Trial 26 finished with values: [1147965.0, 16.72686523333333] and parameters: {'a': 88, 'b': 379, 'd': 28}.\n"
     ]
    },
    {
     "name": "stdout",
     "output_type": "stream",
     "text": [
      "ClearML Task: Offline session stored in /Users/karl/.clearml/cache/offline/offline-ec438f353d5c40d5a52a8c5eaca14170.zip\n",
      "ClearML Task: created new task id=offline-fcf35a821dba4ee4807d31a986b10109\n",
      "ClearML running in offline mode, session stored in /Users/karl/.clearml/cache/offline/offline-fcf35a821dba4ee4807d31a986b10109\n",
      "ClearML Monitor: GPU monitoring failed getting GPU reading, switching off GPU monitoring\n"
     ]
    },
    {
     "name": "stderr",
     "output_type": "stream",
     "text": [
      "[I 2025-01-13 14:26:15,327] Trial 27 finished with values: [1161720.0, 7.484395933333333] and parameters: {'a': 16, 'b': 415, 'd': 8}.\n"
     ]
    },
    {
     "name": "stdout",
     "output_type": "stream",
     "text": [
      "ClearML Task: Offline session stored in /Users/karl/.clearml/cache/offline/offline-fcf35a821dba4ee4807d31a986b10109.zip\n",
      "ClearML Task: created new task id=offline-1769cf5540d5462b83c31f4246d026c1\n",
      "ClearML running in offline mode, session stored in /Users/karl/.clearml/cache/offline/offline-1769cf5540d5462b83c31f4246d026c1\n",
      "ClearML Monitor: GPU monitoring failed getting GPU reading, switching off GPU monitoring\n"
     ]
    },
    {
     "name": "stderr",
     "output_type": "stream",
     "text": [
      "[I 2025-01-13 14:26:44,172] Trial 28 finished with values: [1147655.0, 6.628801216666667] and parameters: {'a': 7, 'b': 341, 'd': 477}.\n"
     ]
    },
    {
     "name": "stdout",
     "output_type": "stream",
     "text": [
      "ClearML Task: Offline session stored in /Users/karl/.clearml/cache/offline/offline-1769cf5540d5462b83c31f4246d026c1.zip\n",
      "ClearML Task: created new task id=offline-fb9ac7fd54064bf292ca9f74a03a2bfd\n",
      "ClearML running in offline mode, session stored in /Users/karl/.clearml/cache/offline/offline-fb9ac7fd54064bf292ca9f74a03a2bfd\n",
      "ClearML Monitor: GPU monitoring failed getting GPU reading, switching off GPU monitoring\n"
     ]
    },
    {
     "name": "stderr",
     "output_type": "stream",
     "text": [
      "[I 2025-01-13 14:27:15,531] Trial 29 finished with values: [1163425.0, 15.883188033333333] and parameters: {'a': 246, 'b': 447, 'd': 312}.\n"
     ]
    },
    {
     "name": "stdout",
     "output_type": "stream",
     "text": [
      "ClearML Task: Offline session stored in /Users/karl/.clearml/cache/offline/offline-fb9ac7fd54064bf292ca9f74a03a2bfd.zip\n",
      "ClearML Task: created new task id=offline-c9e9192b4ea74a9dafe029f9cae3c026\n",
      "ClearML running in offline mode, session stored in /Users/karl/.clearml/cache/offline/offline-c9e9192b4ea74a9dafe029f9cae3c026\n",
      "ClearML Monitor: GPU monitoring failed getting GPU reading, switching off GPU monitoring\n"
     ]
    },
    {
     "name": "stderr",
     "output_type": "stream",
     "text": [
      "[I 2025-01-13 14:27:44,913] Trial 30 finished with values: [1165730.0, 14.879701116666666] and parameters: {'a': 316, 'b': 230, 'd': 226}.\n"
     ]
    },
    {
     "name": "stdout",
     "output_type": "stream",
     "text": [
      "ClearML Task: Offline session stored in /Users/karl/.clearml/cache/offline/offline-c9e9192b4ea74a9dafe029f9cae3c026.zip\n",
      "ClearML Task: created new task id=offline-eac36d9a28754fe7ac6954e9279c888e\n",
      "ClearML running in offline mode, session stored in /Users/karl/.clearml/cache/offline/offline-eac36d9a28754fe7ac6954e9279c888e\n",
      "ClearML Monitor: GPU monitoring failed getting GPU reading, switching off GPU monitoring\n"
     ]
    },
    {
     "name": "stderr",
     "output_type": "stream",
     "text": [
      "[I 2025-01-13 14:28:11,950] Trial 31 finished with values: [1141180.0, 6.331006400000001] and parameters: {'a': 7, 'b': 449, 'd': 33}.\n"
     ]
    },
    {
     "name": "stdout",
     "output_type": "stream",
     "text": [
      "ClearML Task: Offline session stored in /Users/karl/.clearml/cache/offline/offline-eac36d9a28754fe7ac6954e9279c888e.zip\n",
      "ClearML Task: created new task id=offline-83c5eeff4a1a41ea9838e77a3dfe448a\n",
      "ClearML running in offline mode, session stored in /Users/karl/.clearml/cache/offline/offline-83c5eeff4a1a41ea9838e77a3dfe448a\n",
      "ClearML Monitor: GPU monitoring failed getting GPU reading, switching off GPU monitoring\n"
     ]
    },
    {
     "name": "stderr",
     "output_type": "stream",
     "text": [
      "[I 2025-01-13 14:28:39,287] Trial 32 finished with values: [1158250.0, 7.161254783333334] and parameters: {'a': 20, 'b': 483, 'd': 45}.\n"
     ]
    },
    {
     "name": "stdout",
     "output_type": "stream",
     "text": [
      "ClearML Task: Offline session stored in /Users/karl/.clearml/cache/offline/offline-83c5eeff4a1a41ea9838e77a3dfe448a.zip\n",
      "ClearML Task: created new task id=offline-c7e407d94c494673a8159c94f6d3daac\n",
      "ClearML running in offline mode, session stored in /Users/karl/.clearml/cache/offline/offline-c7e407d94c494673a8159c94f6d3daac\n",
      "ClearML Monitor: GPU monitoring failed getting GPU reading, switching off GPU monitoring\n"
     ]
    },
    {
     "name": "stderr",
     "output_type": "stream",
     "text": [
      "[I 2025-01-13 14:29:08,843] Trial 33 finished with values: [1154845.0, 9.444225233333333] and parameters: {'a': 43, 'b': 444, 'd': 485}.\n"
     ]
    },
    {
     "name": "stdout",
     "output_type": "stream",
     "text": [
      "ClearML Task: Offline session stored in /Users/karl/.clearml/cache/offline/offline-c7e407d94c494673a8159c94f6d3daac.zip\n",
      "ClearML Task: created new task id=offline-d9a2b0e8b2404f7a9b68f680f7052ecb\n",
      "ClearML running in offline mode, session stored in /Users/karl/.clearml/cache/offline/offline-d9a2b0e8b2404f7a9b68f680f7052ecb\n",
      "ClearML Monitor: GPU monitoring failed getting GPU reading, switching off GPU monitoring\n"
     ]
    },
    {
     "name": "stderr",
     "output_type": "stream",
     "text": [
      "[I 2025-01-13 14:29:37,301] Trial 34 finished with values: [1155915.0, 8.929772966666667] and parameters: {'a': 40, 'b': 425, 'd': 23}.\n"
     ]
    },
    {
     "name": "stdout",
     "output_type": "stream",
     "text": [
      "ClearML Task: Offline session stored in /Users/karl/.clearml/cache/offline/offline-d9a2b0e8b2404f7a9b68f680f7052ecb.zip\n",
      "ClearML Task: created new task id=offline-81702956d69540eeb0c38c42d0e81fbc\n",
      "ClearML running in offline mode, session stored in /Users/karl/.clearml/cache/offline/offline-81702956d69540eeb0c38c42d0e81fbc\n",
      "ClearML Monitor: GPU monitoring failed getting GPU reading, switching off GPU monitoring\n"
     ]
    },
    {
     "name": "stderr",
     "output_type": "stream",
     "text": [
      "[I 2025-01-13 14:30:06,609] Trial 35 finished with values: [1154720.0, 7.427245733333334] and parameters: {'a': 22, 'b': 493, 'd': 67}.\n"
     ]
    },
    {
     "name": "stdout",
     "output_type": "stream",
     "text": [
      "ClearML Task: Offline session stored in /Users/karl/.clearml/cache/offline/offline-81702956d69540eeb0c38c42d0e81fbc.zip\n",
      "ClearML Task: created new task id=offline-57755f9dc6404d7d9d23021bdcdc54eb\n",
      "ClearML running in offline mode, session stored in /Users/karl/.clearml/cache/offline/offline-57755f9dc6404d7d9d23021bdcdc54eb\n",
      "ClearML Monitor: GPU monitoring failed getting GPU reading, switching off GPU monitoring\n"
     ]
    },
    {
     "name": "stderr",
     "output_type": "stream",
     "text": [
      "[I 2025-01-13 14:30:38,123] Trial 36 finished with values: [1185680.0, 16.880452266666666] and parameters: {'a': 478, 'b': 59, 'd': 318}.\n"
     ]
    },
    {
     "name": "stdout",
     "output_type": "stream",
     "text": [
      "ClearML Task: Offline session stored in /Users/karl/.clearml/cache/offline/offline-57755f9dc6404d7d9d23021bdcdc54eb.zip\n",
      "ClearML Task: created new task id=offline-becf5833f62247faa0dd68060d1e97ad\n",
      "ClearML running in offline mode, session stored in /Users/karl/.clearml/cache/offline/offline-becf5833f62247faa0dd68060d1e97ad\n",
      "ClearML Monitor: GPU monitoring failed getting GPU reading, switching off GPU monitoring\n"
     ]
    },
    {
     "name": "stderr",
     "output_type": "stream",
     "text": [
      "[I 2025-01-13 14:31:10,126] Trial 37 finished with values: [1164310.0, 17.0482177] and parameters: {'a': 160, 'b': 320, 'd': 324}.\n"
     ]
    },
    {
     "name": "stdout",
     "output_type": "stream",
     "text": [
      "ClearML Task: Offline session stored in /Users/karl/.clearml/cache/offline/offline-becf5833f62247faa0dd68060d1e97ad.zip\n",
      "ClearML Task: created new task id=offline-778fe4365ecb4d94b5a21e0a52650c0d\n",
      "ClearML running in offline mode, session stored in /Users/karl/.clearml/cache/offline/offline-778fe4365ecb4d94b5a21e0a52650c0d\n",
      "ClearML Monitor: GPU monitoring failed getting GPU reading, switching off GPU monitoring\n"
     ]
    },
    {
     "name": "stderr",
     "output_type": "stream",
     "text": [
      "[I 2025-01-13 14:31:41,157] Trial 38 finished with values: [1169405.0, 15.601313133333333] and parameters: {'a': 230, 'b': 78, 'd': 142}.\n"
     ]
    },
    {
     "name": "stdout",
     "output_type": "stream",
     "text": [
      "ClearML Task: Offline session stored in /Users/karl/.clearml/cache/offline/offline-778fe4365ecb4d94b5a21e0a52650c0d.zip\n",
      "ClearML Task: created new task id=offline-a3556b223c634297aeb36f716e1e9a54\n",
      "ClearML running in offline mode, session stored in /Users/karl/.clearml/cache/offline/offline-a3556b223c634297aeb36f716e1e9a54\n",
      "ClearML Monitor: GPU monitoring failed getting GPU reading, switching off GPU monitoring\n"
     ]
    },
    {
     "name": "stderr",
     "output_type": "stream",
     "text": [
      "[I 2025-01-13 14:32:11,641] Trial 39 finished with values: [1159850.0, 16.472170066666667] and parameters: {'a': 282, 'b': 377, 'd': 474}.\n"
     ]
    },
    {
     "name": "stdout",
     "output_type": "stream",
     "text": [
      "ClearML Task: Offline session stored in /Users/karl/.clearml/cache/offline/offline-a3556b223c634297aeb36f716e1e9a54.zip\n",
      "ClearML Task: created new task id=offline-2c7e0464f4b6456eb3f184d0ea3f7d76\n",
      "ClearML running in offline mode, session stored in /Users/karl/.clearml/cache/offline/offline-2c7e0464f4b6456eb3f184d0ea3f7d76\n",
      "ClearML Monitor: GPU monitoring failed getting GPU reading, switching off GPU monitoring\n"
     ]
    },
    {
     "name": "stderr",
     "output_type": "stream",
     "text": [
      "[I 2025-01-13 14:32:41,009] Trial 40 finished with values: [1154720.0, 7.427245733333334] and parameters: {'a': 20, 'b': 445, 'd': 19}.\n"
     ]
    },
    {
     "name": "stdout",
     "output_type": "stream",
     "text": [
      "ClearML Task: Offline session stored in /Users/karl/.clearml/cache/offline/offline-2c7e0464f4b6456eb3f184d0ea3f7d76.zip\n",
      "ClearML Task: created new task id=offline-2b6140a4f90b4b97a30c0308b88c4e1b\n",
      "ClearML running in offline mode, session stored in /Users/karl/.clearml/cache/offline/offline-2b6140a4f90b4b97a30c0308b88c4e1b\n",
      "ClearML Monitor: GPU monitoring failed getting GPU reading, switching off GPU monitoring\n"
     ]
    },
    {
     "name": "stderr",
     "output_type": "stream",
     "text": [
      "[I 2025-01-13 14:33:11,435] Trial 41 finished with values: [1164695.0, 17.241450316666665] and parameters: {'a': 28, 'b': 54, 'd': 42}.\n"
     ]
    },
    {
     "name": "stdout",
     "output_type": "stream",
     "text": [
      "ClearML Task: Offline session stored in /Users/karl/.clearml/cache/offline/offline-2b6140a4f90b4b97a30c0308b88c4e1b.zip\n",
      "ClearML Task: created new task id=offline-37cd07dcdc784870bd99b992c07babb5\n",
      "ClearML running in offline mode, session stored in /Users/karl/.clearml/cache/offline/offline-37cd07dcdc784870bd99b992c07babb5\n",
      "ClearML Monitor: GPU monitoring failed getting GPU reading, switching off GPU monitoring\n"
     ]
    },
    {
     "name": "stderr",
     "output_type": "stream",
     "text": [
      "[I 2025-01-13 14:33:40,215] Trial 42 finished with values: [1142155.0, 6.330999133333333] and parameters: {'a': 10, 'b': 455, 'd': 3}.\n"
     ]
    },
    {
     "name": "stdout",
     "output_type": "stream",
     "text": [
      "ClearML Task: Offline session stored in /Users/karl/.clearml/cache/offline/offline-37cd07dcdc784870bd99b992c07babb5.zip\n",
      "ClearML Task: created new task id=offline-81c96fdb931f4b6c88591e560beecad7\n",
      "ClearML running in offline mode, session stored in /Users/karl/.clearml/cache/offline/offline-81c96fdb931f4b6c88591e560beecad7\n",
      "ClearML Monitor: GPU monitoring failed getting GPU reading, switching off GPU monitoring\n"
     ]
    },
    {
     "name": "stderr",
     "output_type": "stream",
     "text": [
      "[I 2025-01-13 14:34:08,203] Trial 43 finished with values: [1151605.0, 6.938262616666666] and parameters: {'a': 11, 'b': 362, 'd': 58}.\n"
     ]
    },
    {
     "name": "stdout",
     "output_type": "stream",
     "text": [
      "ClearML Task: Offline session stored in /Users/karl/.clearml/cache/offline/offline-81c96fdb931f4b6c88591e560beecad7.zip\n",
      "ClearML Task: created new task id=offline-366a5ca7f01d4ba198a838128f3f22d2\n",
      "ClearML running in offline mode, session stored in /Users/karl/.clearml/cache/offline/offline-366a5ca7f01d4ba198a838128f3f22d2\n",
      "ClearML Monitor: GPU monitoring failed getting GPU reading, switching off GPU monitoring\n"
     ]
    },
    {
     "name": "stderr",
     "output_type": "stream",
     "text": [
      "[I 2025-01-13 14:34:39,392] Trial 44 finished with values: [1161385.0, 60.773533916666665] and parameters: {'a': 271, 'b': 3, 'd': 288}.\n"
     ]
    },
    {
     "name": "stdout",
     "output_type": "stream",
     "text": [
      "ClearML Task: Offline session stored in /Users/karl/.clearml/cache/offline/offline-366a5ca7f01d4ba198a838128f3f22d2.zip\n",
      "ClearML Task: created new task id=offline-597f1227938841d5aa73d78ac48a1c76\n",
      "ClearML running in offline mode, session stored in /Users/karl/.clearml/cache/offline/offline-597f1227938841d5aa73d78ac48a1c76\n",
      "ClearML Monitor: GPU monitoring failed getting GPU reading, switching off GPU monitoring\n"
     ]
    },
    {
     "name": "stderr",
     "output_type": "stream",
     "text": [
      "[I 2025-01-13 14:35:09,871] Trial 45 finished with values: [1157945.0, 13.17452595] and parameters: {'a': 19, 'b': 125, 'd': 375}.\n"
     ]
    },
    {
     "name": "stdout",
     "output_type": "stream",
     "text": [
      "ClearML Task: Offline session stored in /Users/karl/.clearml/cache/offline/offline-597f1227938841d5aa73d78ac48a1c76.zip\n",
      "ClearML Task: created new task id=offline-ed941e1977764c6d8af6b09896a77849\n",
      "ClearML running in offline mode, session stored in /Users/karl/.clearml/cache/offline/offline-ed941e1977764c6d8af6b09896a77849\n",
      "ClearML Monitor: GPU monitoring failed getting GPU reading, switching off GPU monitoring\n"
     ]
    },
    {
     "name": "stderr",
     "output_type": "stream",
     "text": [
      "[I 2025-01-13 14:35:40,192] Trial 46 finished with values: [1171400.0, 15.382510766666666] and parameters: {'a': 440, 'b': 236, 'd': 82}.\n"
     ]
    },
    {
     "name": "stdout",
     "output_type": "stream",
     "text": [
      "ClearML Task: Offline session stored in /Users/karl/.clearml/cache/offline/offline-ed941e1977764c6d8af6b09896a77849.zip\n",
      "ClearML Task: created new task id=offline-f7efb630f4774eb9a0ab600c409278a6\n",
      "ClearML running in offline mode, session stored in /Users/karl/.clearml/cache/offline/offline-f7efb630f4774eb9a0ab600c409278a6\n",
      "ClearML Monitor: GPU monitoring failed getting GPU reading, switching off GPU monitoring\n"
     ]
    },
    {
     "name": "stderr",
     "output_type": "stream",
     "text": [
      "[I 2025-01-13 14:36:10,914] Trial 47 finished with values: [1162310.0, 16.10090995] and parameters: {'a': 168, 'b': 484, 'd': 179}.\n"
     ]
    },
    {
     "name": "stdout",
     "output_type": "stream",
     "text": [
      "ClearML Task: Offline session stored in /Users/karl/.clearml/cache/offline/offline-f7efb630f4774eb9a0ab600c409278a6.zip\n",
      "ClearML Task: created new task id=offline-42240e7d321d4595b79a0cab6ab08f8e\n",
      "ClearML running in offline mode, session stored in /Users/karl/.clearml/cache/offline/offline-42240e7d321d4595b79a0cab6ab08f8e\n",
      "ClearML Monitor: GPU monitoring failed getting GPU reading, switching off GPU monitoring\n"
     ]
    },
    {
     "name": "stderr",
     "output_type": "stream",
     "text": [
      "[I 2025-01-13 14:36:39,239] Trial 48 finished with values: [1133565.0, 5.139329816666666] and parameters: {'a': 4, 'b': 410, 'd': 7}.\n"
     ]
    },
    {
     "name": "stdout",
     "output_type": "stream",
     "text": [
      "ClearML Task: Offline session stored in /Users/karl/.clearml/cache/offline/offline-42240e7d321d4595b79a0cab6ab08f8e.zip\n",
      "ClearML Task: created new task id=offline-b72497907d36425f97d1554b4438ac2a\n",
      "ClearML running in offline mode, session stored in /Users/karl/.clearml/cache/offline/offline-b72497907d36425f97d1554b4438ac2a\n",
      "ClearML Monitor: GPU monitoring failed getting GPU reading, switching off GPU monitoring\n"
     ]
    },
    {
     "name": "stderr",
     "output_type": "stream",
     "text": [
      "[I 2025-01-13 14:37:07,387] Trial 49 finished with values: [1167180.0, 8.247467683333333] and parameters: {'a': 35, 'b': 497, 'd': 25}.\n"
     ]
    },
    {
     "name": "stdout",
     "output_type": "stream",
     "text": [
      "ClearML Task: Offline session stored in /Users/karl/.clearml/cache/offline/offline-b72497907d36425f97d1554b4438ac2a.zip\n",
      "ClearML Task: created new task id=offline-3941fcb4a7ad4c0d937d462f47b80abd\n",
      "ClearML running in offline mode, session stored in /Users/karl/.clearml/cache/offline/offline-3941fcb4a7ad4c0d937d462f47b80abd\n",
      "ClearML Monitor: GPU monitoring failed getting GPU reading, switching off GPU monitoring\n"
     ]
    },
    {
     "name": "stderr",
     "output_type": "stream",
     "text": [
      "[I 2025-01-13 14:37:36,690] Trial 50 finished with values: [1148985.0, 6.74802795] and parameters: {'a': 12, 'b': 438, 'd': 1}.\n"
     ]
    },
    {
     "name": "stdout",
     "output_type": "stream",
     "text": [
      "ClearML Task: Offline session stored in /Users/karl/.clearml/cache/offline/offline-3941fcb4a7ad4c0d937d462f47b80abd.zip\n",
      "ClearML Task: created new task id=offline-9fa84e47d5c548c69c4fc583fb9d6e8e\n",
      "ClearML running in offline mode, session stored in /Users/karl/.clearml/cache/offline/offline-9fa84e47d5c548c69c4fc583fb9d6e8e\n",
      "ClearML Monitor: GPU monitoring failed getting GPU reading, switching off GPU monitoring\n"
     ]
    },
    {
     "name": "stderr",
     "output_type": "stream",
     "text": [
      "[I 2025-01-13 14:38:04,715] Trial 51 finished with values: [1153600.0, 8.804731333333333] and parameters: {'a': 42, 'b': 494, 'd': 7}.\n"
     ]
    },
    {
     "name": "stdout",
     "output_type": "stream",
     "text": [
      "ClearML Task: Offline session stored in /Users/karl/.clearml/cache/offline/offline-9fa84e47d5c548c69c4fc583fb9d6e8e.zip\n",
      "ClearML Task: created new task id=offline-5a821016e3a94af6a6c11a7bb42a025c\n",
      "ClearML running in offline mode, session stored in /Users/karl/.clearml/cache/offline/offline-5a821016e3a94af6a6c11a7bb42a025c\n",
      "ClearML Monitor: GPU monitoring failed getting GPU reading, switching off GPU monitoring\n"
     ]
    },
    {
     "name": "stderr",
     "output_type": "stream",
     "text": [
      "[I 2025-01-13 14:38:35,207] Trial 52 finished with values: [1178365.0, 16.7405672] and parameters: {'a': 110, 'b': 33, 'd': 287}.\n"
     ]
    },
    {
     "name": "stdout",
     "output_type": "stream",
     "text": [
      "ClearML Task: Offline session stored in /Users/karl/.clearml/cache/offline/offline-5a821016e3a94af6a6c11a7bb42a025c.zip\n",
      "ClearML Task: created new task id=offline-4c2f1b50798845c080c163f92f56b90a\n",
      "ClearML running in offline mode, session stored in /Users/karl/.clearml/cache/offline/offline-4c2f1b50798845c080c163f92f56b90a\n",
      "ClearML Monitor: GPU monitoring failed getting GPU reading, switching off GPU monitoring\n"
     ]
    },
    {
     "name": "stderr",
     "output_type": "stream",
     "text": [
      "[I 2025-01-13 14:39:04,524] Trial 53 finished with values: [1150515.0, 6.35170895] and parameters: {'a': 9, 'b': 463, 'd': 7}.\n"
     ]
    },
    {
     "name": "stdout",
     "output_type": "stream",
     "text": [
      "ClearML Task: Offline session stored in /Users/karl/.clearml/cache/offline/offline-4c2f1b50798845c080c163f92f56b90a.zip\n",
      "ClearML Task: created new task id=offline-8147582d84714c739135d9f0e8edc1d4\n",
      "ClearML running in offline mode, session stored in /Users/karl/.clearml/cache/offline/offline-8147582d84714c739135d9f0e8edc1d4\n",
      "ClearML Monitor: GPU monitoring failed getting GPU reading, switching off GPU monitoring\n"
     ]
    },
    {
     "name": "stderr",
     "output_type": "stream",
     "text": [
      "[I 2025-01-13 14:39:33,955] Trial 54 finished with values: [1162330.0, 10.914126983333334] and parameters: {'a': 34, 'b': 290, 'd': 296}.\n"
     ]
    },
    {
     "name": "stdout",
     "output_type": "stream",
     "text": [
      "ClearML Task: Offline session stored in /Users/karl/.clearml/cache/offline/offline-8147582d84714c739135d9f0e8edc1d4.zip\n",
      "ClearML Task: created new task id=offline-c734bd44de7b4537bac5c1a3b0a051a1\n",
      "ClearML running in offline mode, session stored in /Users/karl/.clearml/cache/offline/offline-c734bd44de7b4537bac5c1a3b0a051a1\n",
      "ClearML Monitor: GPU monitoring failed getting GPU reading, switching off GPU monitoring\n"
     ]
    },
    {
     "name": "stderr",
     "output_type": "stream",
     "text": [
      "[I 2025-01-13 14:40:05,586] Trial 55 finished with values: [1156045.0, 16.503478666666666] and parameters: {'a': 478, 'b': 416, 'd': 259}.\n"
     ]
    },
    {
     "name": "stdout",
     "output_type": "stream",
     "text": [
      "ClearML Task: Offline session stored in /Users/karl/.clearml/cache/offline/offline-c734bd44de7b4537bac5c1a3b0a051a1.zip\n",
      "ClearML Task: created new task id=offline-8e0d68ca66014221b58b5e2e7eb48696\n",
      "ClearML running in offline mode, session stored in /Users/karl/.clearml/cache/offline/offline-8e0d68ca66014221b58b5e2e7eb48696\n",
      "ClearML Monitor: GPU monitoring failed getting GPU reading, switching off GPU monitoring\n"
     ]
    },
    {
     "name": "stderr",
     "output_type": "stream",
     "text": [
      "[I 2025-01-13 14:40:37,711] Trial 56 finished with values: [1185680.0, 16.880452266666666] and parameters: {'a': 499, 'b': 14, 'd': 92}.\n"
     ]
    },
    {
     "name": "stdout",
     "output_type": "stream",
     "text": [
      "ClearML Task: Offline session stored in /Users/karl/.clearml/cache/offline/offline-8e0d68ca66014221b58b5e2e7eb48696.zip\n",
      "ClearML Task: created new task id=offline-d10595daeacd457099e9e6347b862846\n",
      "ClearML running in offline mode, session stored in /Users/karl/.clearml/cache/offline/offline-d10595daeacd457099e9e6347b862846\n",
      "ClearML Monitor: GPU monitoring failed getting GPU reading, switching off GPU monitoring\n"
     ]
    },
    {
     "name": "stderr",
     "output_type": "stream",
     "text": [
      "[I 2025-01-13 14:41:09,486] Trial 57 finished with values: [1171680.0, 15.3348405] and parameters: {'a': 306, 'b': 148, 'd': 482}.\n"
     ]
    },
    {
     "name": "stdout",
     "output_type": "stream",
     "text": [
      "ClearML Task: Offline session stored in /Users/karl/.clearml/cache/offline/offline-d10595daeacd457099e9e6347b862846.zip\n",
      "ClearML Task: created new task id=offline-0fe88ca84af34416afa0cf405926ea81\n",
      "ClearML running in offline mode, session stored in /Users/karl/.clearml/cache/offline/offline-0fe88ca84af34416afa0cf405926ea81\n",
      "ClearML Monitor: GPU monitoring failed getting GPU reading, switching off GPU monitoring\n"
     ]
    },
    {
     "name": "stderr",
     "output_type": "stream",
     "text": [
      "[I 2025-01-13 14:41:40,332] Trial 58 finished with values: [1160290.0, 17.37244251666667] and parameters: {'a': 157, 'b': 472, 'd': 33}.\n"
     ]
    },
    {
     "name": "stdout",
     "output_type": "stream",
     "text": [
      "ClearML Task: Offline session stored in /Users/karl/.clearml/cache/offline/offline-0fe88ca84af34416afa0cf405926ea81.zip\n",
      "ClearML Task: created new task id=offline-e35d87b478ab47acad416def22bdd46d\n",
      "ClearML running in offline mode, session stored in /Users/karl/.clearml/cache/offline/offline-e35d87b478ab47acad416def22bdd46d\n",
      "ClearML Monitor: GPU monitoring failed getting GPU reading, switching off GPU monitoring\n"
     ]
    },
    {
     "name": "stderr",
     "output_type": "stream",
     "text": [
      "[I 2025-01-13 14:42:11,489] Trial 59 finished with values: [1165450.0, 16.770283466666665] and parameters: {'a': 174, 'b': 172, 'd': 65}.\n"
     ]
    },
    {
     "name": "stdout",
     "output_type": "stream",
     "text": [
      "ClearML Task: Offline session stored in /Users/karl/.clearml/cache/offline/offline-e35d87b478ab47acad416def22bdd46d.zip\n",
      "ClearML Task: created new task id=offline-d0f58cb17ac24777a56ad3235f074dcf\n",
      "ClearML running in offline mode, session stored in /Users/karl/.clearml/cache/offline/offline-d0f58cb17ac24777a56ad3235f074dcf\n",
      "ClearML Monitor: GPU monitoring failed getting GPU reading, switching off GPU monitoring\n"
     ]
    },
    {
     "name": "stderr",
     "output_type": "stream",
     "text": [
      "[I 2025-01-13 14:42:43,635] Trial 60 finished with values: [1165050.0, 17.050589133333332] and parameters: {'a': 343, 'b': 490, 'd': 154}.\n"
     ]
    },
    {
     "name": "stdout",
     "output_type": "stream",
     "text": [
      "ClearML Task: Offline session stored in /Users/karl/.clearml/cache/offline/offline-d0f58cb17ac24777a56ad3235f074dcf.zip\n",
      "ClearML Task: created new task id=offline-f2213d8c2cb54f69be244d168b87e59d\n",
      "ClearML running in offline mode, session stored in /Users/karl/.clearml/cache/offline/offline-f2213d8c2cb54f69be244d168b87e59d\n",
      "ClearML Monitor: GPU monitoring failed getting GPU reading, switching off GPU monitoring\n"
     ]
    },
    {
     "name": "stderr",
     "output_type": "stream",
     "text": [
      "[I 2025-01-13 14:43:14,692] Trial 61 finished with values: [1171910.0, 15.990723516666666] and parameters: {'a': 421, 'b': 483, 'd': 487}.\n"
     ]
    },
    {
     "name": "stdout",
     "output_type": "stream",
     "text": [
      "ClearML Task: Offline session stored in /Users/karl/.clearml/cache/offline/offline-f2213d8c2cb54f69be244d168b87e59d.zip\n",
      "ClearML Task: created new task id=offline-ee5258e617d9447980c1ab290d8eee5e\n",
      "ClearML running in offline mode, session stored in /Users/karl/.clearml/cache/offline/offline-ee5258e617d9447980c1ab290d8eee5e\n",
      "ClearML Monitor: GPU monitoring failed getting GPU reading, switching off GPU monitoring\n"
     ]
    },
    {
     "name": "stderr",
     "output_type": "stream",
     "text": [
      "[I 2025-01-13 14:43:43,901] Trial 62 finished with values: [1133055.0, 5.1749952] and parameters: {'a': 5, 'b': 477, 'd': 91}.\n"
     ]
    },
    {
     "name": "stdout",
     "output_type": "stream",
     "text": [
      "ClearML Task: Offline session stored in /Users/karl/.clearml/cache/offline/offline-ee5258e617d9447980c1ab290d8eee5e.zip\n",
      "ClearML Task: created new task id=offline-890c1445398d4a3cbde1f0ef8799bc9c\n",
      "ClearML running in offline mode, session stored in /Users/karl/.clearml/cache/offline/offline-890c1445398d4a3cbde1f0ef8799bc9c\n",
      "ClearML Monitor: GPU monitoring failed getting GPU reading, switching off GPU monitoring\n"
     ]
    },
    {
     "name": "stderr",
     "output_type": "stream",
     "text": [
      "[I 2025-01-13 14:44:14,851] Trial 63 finished with values: [1169405.0, 15.601313133333333] and parameters: {'a': 304, 'b': 70, 'd': 19}.\n"
     ]
    },
    {
     "name": "stdout",
     "output_type": "stream",
     "text": [
      "ClearML Task: Offline session stored in /Users/karl/.clearml/cache/offline/offline-890c1445398d4a3cbde1f0ef8799bc9c.zip\n",
      "ClearML Task: created new task id=offline-45589c7e03ba4f84bfb43c0b403e7000\n",
      "ClearML running in offline mode, session stored in /Users/karl/.clearml/cache/offline/offline-45589c7e03ba4f84bfb43c0b403e7000\n",
      "ClearML Monitor: GPU monitoring failed getting GPU reading, switching off GPU monitoring\n"
     ]
    },
    {
     "name": "stderr",
     "output_type": "stream",
     "text": [
      "[I 2025-01-13 14:44:45,435] Trial 64 finished with values: [1165575.0, 16.848180416666665] and parameters: {'a': 224, 'b': 489, 'd': 485}.\n"
     ]
    },
    {
     "name": "stdout",
     "output_type": "stream",
     "text": [
      "ClearML Task: Offline session stored in /Users/karl/.clearml/cache/offline/offline-45589c7e03ba4f84bfb43c0b403e7000.zip\n",
      "ClearML Task: created new task id=offline-6f3de3a09b454689b2ab83ae5b8d63ba\n",
      "ClearML running in offline mode, session stored in /Users/karl/.clearml/cache/offline/offline-6f3de3a09b454689b2ab83ae5b8d63ba\n",
      "ClearML Monitor: GPU monitoring failed getting GPU reading, switching off GPU monitoring\n"
     ]
    },
    {
     "name": "stderr",
     "output_type": "stream",
     "text": [
      "[I 2025-01-13 14:45:15,409] Trial 65 finished with values: [1157475.0, 7.365523833333333] and parameters: {'a': 29, 'b': 493, 'd': 108}.\n"
     ]
    },
    {
     "name": "stdout",
     "output_type": "stream",
     "text": [
      "ClearML Task: Offline session stored in /Users/karl/.clearml/cache/offline/offline-6f3de3a09b454689b2ab83ae5b8d63ba.zip\n",
      "ClearML Task: created new task id=offline-250f467457964ddaa6b483876cc29b33\n",
      "ClearML running in offline mode, session stored in /Users/karl/.clearml/cache/offline/offline-250f467457964ddaa6b483876cc29b33\n",
      "ClearML Monitor: GPU monitoring failed getting GPU reading, switching off GPU monitoring\n"
     ]
    },
    {
     "name": "stderr",
     "output_type": "stream",
     "text": [
      "[I 2025-01-13 14:45:46,213] Trial 66 finished with values: [1157380.0, 17.2520981] and parameters: {'a': 208, 'b': 308, 'd': 160}.\n"
     ]
    },
    {
     "name": "stdout",
     "output_type": "stream",
     "text": [
      "ClearML Task: Offline session stored in /Users/karl/.clearml/cache/offline/offline-250f467457964ddaa6b483876cc29b33.zip\n",
      "ClearML Task: created new task id=offline-de85a38e6e0c407f8d7e506cca17cfe7\n",
      "ClearML running in offline mode, session stored in /Users/karl/.clearml/cache/offline/offline-de85a38e6e0c407f8d7e506cca17cfe7\n",
      "ClearML Monitor: GPU monitoring failed getting GPU reading, switching off GPU monitoring\n"
     ]
    },
    {
     "name": "stderr",
     "output_type": "stream",
     "text": [
      "[I 2025-01-13 14:46:15,005] Trial 67 finished with values: [1154305.0, 6.934575216666667] and parameters: {'a': 11, 'b': 452, 'd': 28}.\n"
     ]
    },
    {
     "name": "stdout",
     "output_type": "stream",
     "text": [
      "ClearML Task: Offline session stored in /Users/karl/.clearml/cache/offline/offline-de85a38e6e0c407f8d7e506cca17cfe7.zip\n",
      "ClearML Task: created new task id=offline-e41aeb5025ab4ad8b8d20c458922fced\n",
      "ClearML running in offline mode, session stored in /Users/karl/.clearml/cache/offline/offline-e41aeb5025ab4ad8b8d20c458922fced\n",
      "ClearML Monitor: GPU monitoring failed getting GPU reading, switching off GPU monitoring\n"
     ]
    },
    {
     "name": "stderr",
     "output_type": "stream",
     "text": [
      "[I 2025-01-13 14:46:46,283] Trial 68 finished with values: [1156045.0, 16.503478666666666] and parameters: {'a': 432, 'b': 375, 'd': 67}.\n"
     ]
    },
    {
     "name": "stdout",
     "output_type": "stream",
     "text": [
      "ClearML Task: Offline session stored in /Users/karl/.clearml/cache/offline/offline-e41aeb5025ab4ad8b8d20c458922fced.zip\n",
      "ClearML Task: created new task id=offline-0404fa982a79471a9f826557217ab10f\n",
      "ClearML running in offline mode, session stored in /Users/karl/.clearml/cache/offline/offline-0404fa982a79471a9f826557217ab10f\n",
      "ClearML Monitor: GPU monitoring failed getting GPU reading, switching off GPU monitoring\n"
     ]
    },
    {
     "name": "stderr",
     "output_type": "stream",
     "text": [
      "[I 2025-01-13 14:47:17,926] Trial 69 finished with values: [1185680.0, 16.880452266666666] and parameters: {'a': 151, 'b': 69, 'd': 493}.\n"
     ]
    },
    {
     "name": "stdout",
     "output_type": "stream",
     "text": [
      "ClearML Task: Offline session stored in /Users/karl/.clearml/cache/offline/offline-0404fa982a79471a9f826557217ab10f.zip\n",
      "ClearML Task: created new task id=offline-9b3ad27b9ae34066a22b9c0901e4a816\n",
      "ClearML running in offline mode, session stored in /Users/karl/.clearml/cache/offline/offline-9b3ad27b9ae34066a22b9c0901e4a816\n",
      "ClearML Monitor: GPU monitoring failed getting GPU reading, switching off GPU monitoring\n"
     ]
    },
    {
     "name": "stderr",
     "output_type": "stream",
     "text": [
      "[I 2025-01-13 14:47:47,989] Trial 70 finished with values: [1157935.0, 15.714756283333333] and parameters: {'a': 105, 'b': 499, 'd': 68}.\n"
     ]
    },
    {
     "name": "stdout",
     "output_type": "stream",
     "text": [
      "ClearML Task: Offline session stored in /Users/karl/.clearml/cache/offline/offline-9b3ad27b9ae34066a22b9c0901e4a816.zip\n",
      "ClearML Task: created new task id=offline-60e80f2ddcf242b0a872e1447e1cc32b\n",
      "ClearML running in offline mode, session stored in /Users/karl/.clearml/cache/offline/offline-60e80f2ddcf242b0a872e1447e1cc32b\n",
      "ClearML Monitor: GPU monitoring failed getting GPU reading, switching off GPU monitoring\n"
     ]
    },
    {
     "name": "stderr",
     "output_type": "stream",
     "text": [
      "[I 2025-01-13 14:48:18,524] Trial 71 finished with values: [1178365.0, 16.7405672] and parameters: {'a': 455, 'b': 58, 'd': 482}.\n"
     ]
    },
    {
     "name": "stdout",
     "output_type": "stream",
     "text": [
      "ClearML Task: Offline session stored in /Users/karl/.clearml/cache/offline/offline-60e80f2ddcf242b0a872e1447e1cc32b.zip\n",
      "ClearML Task: created new task id=offline-bb9cb873166d4fb9b0c32506d78fd0e9\n",
      "ClearML running in offline mode, session stored in /Users/karl/.clearml/cache/offline/offline-bb9cb873166d4fb9b0c32506d78fd0e9\n",
      "ClearML Monitor: GPU monitoring failed getting GPU reading, switching off GPU monitoring\n"
     ]
    },
    {
     "name": "stderr",
     "output_type": "stream",
     "text": [
      "[I 2025-01-13 14:48:46,972] Trial 72 finished with values: [1141985.0, 4.90922325] and parameters: {'a': 2, 'b': 497, 'd': 11}.\n"
     ]
    },
    {
     "name": "stdout",
     "output_type": "stream",
     "text": [
      "ClearML Task: Offline session stored in /Users/karl/.clearml/cache/offline/offline-bb9cb873166d4fb9b0c32506d78fd0e9.zip\n",
      "ClearML Task: created new task id=offline-137beba844dc468a9709a409242abfeb\n",
      "ClearML running in offline mode, session stored in /Users/karl/.clearml/cache/offline/offline-137beba844dc468a9709a409242abfeb\n",
      "ClearML Monitor: GPU monitoring failed getting GPU reading, switching off GPU monitoring\n"
     ]
    },
    {
     "name": "stderr",
     "output_type": "stream",
     "text": [
      "[I 2025-01-13 14:49:15,321] Trial 73 finished with values: [1152290.0, 9.061444166666666] and parameters: {'a': 46, 'b': 495, 'd': 9}.\n"
     ]
    },
    {
     "name": "stdout",
     "output_type": "stream",
     "text": [
      "ClearML Task: Offline session stored in /Users/karl/.clearml/cache/offline/offline-137beba844dc468a9709a409242abfeb.zip\n",
      "ClearML Task: created new task id=offline-757644f3550144a28a788738a66c67e2\n",
      "ClearML running in offline mode, session stored in /Users/karl/.clearml/cache/offline/offline-757644f3550144a28a788738a66c67e2\n",
      "ClearML Monitor: GPU monitoring failed getting GPU reading, switching off GPU monitoring\n"
     ]
    },
    {
     "name": "stderr",
     "output_type": "stream",
     "text": [
      "[I 2025-01-13 14:49:43,154] Trial 74 finished with values: [1161720.0, 7.484395933333333] and parameters: {'a': 19, 'b': 493, 'd': 13}.\n"
     ]
    },
    {
     "name": "stdout",
     "output_type": "stream",
     "text": [
      "ClearML Task: Offline session stored in /Users/karl/.clearml/cache/offline/offline-757644f3550144a28a788738a66c67e2.zip\n",
      "ClearML Task: created new task id=offline-916a0ebfa32d42a6b226b26953475077\n",
      "ClearML running in offline mode, session stored in /Users/karl/.clearml/cache/offline/offline-916a0ebfa32d42a6b226b26953475077\n",
      "ClearML Monitor: GPU monitoring failed getting GPU reading, switching off GPU monitoring\n"
     ]
    },
    {
     "name": "stderr",
     "output_type": "stream",
     "text": [
      "[I 2025-01-13 14:50:13,486] Trial 75 finished with values: [1171400.0, 15.382510766666666] and parameters: {'a': 317, 'b': 164, 'd': 288}.\n"
     ]
    },
    {
     "name": "stdout",
     "output_type": "stream",
     "text": [
      "ClearML Task: Offline session stored in /Users/karl/.clearml/cache/offline/offline-916a0ebfa32d42a6b226b26953475077.zip\n",
      "ClearML Task: created new task id=offline-579f0847c1ec4fc2b5299166096ed721\n",
      "ClearML running in offline mode, session stored in /Users/karl/.clearml/cache/offline/offline-579f0847c1ec4fc2b5299166096ed721\n",
      "ClearML Monitor: GPU monitoring failed getting GPU reading, switching off GPU monitoring\n"
     ]
    },
    {
     "name": "stderr",
     "output_type": "stream",
     "text": [
      "[I 2025-01-13 14:50:43,888] Trial 76 finished with values: [1171400.0, 15.382510766666666] and parameters: {'a': 454, 'b': 168, 'd': 234}.\n"
     ]
    },
    {
     "name": "stdout",
     "output_type": "stream",
     "text": [
      "ClearML Task: Offline session stored in /Users/karl/.clearml/cache/offline/offline-579f0847c1ec4fc2b5299166096ed721.zip\n",
      "ClearML Task: created new task id=offline-d9884252a1cf407396c15bac30fd11b2\n",
      "ClearML running in offline mode, session stored in /Users/karl/.clearml/cache/offline/offline-d9884252a1cf407396c15bac30fd11b2\n",
      "ClearML Monitor: GPU monitoring failed getting GPU reading, switching off GPU monitoring\n"
     ]
    },
    {
     "name": "stderr",
     "output_type": "stream",
     "text": [
      "[I 2025-01-13 14:51:14,252] Trial 77 finished with values: [1164550.0, 16.776101516666667] and parameters: {'a': 205, 'b': 242, 'd': 400}.\n"
     ]
    },
    {
     "name": "stdout",
     "output_type": "stream",
     "text": [
      "ClearML Task: Offline session stored in /Users/karl/.clearml/cache/offline/offline-d9884252a1cf407396c15bac30fd11b2.zip\n",
      "ClearML Task: created new task id=offline-8c8056fb49154175a30624282ab5e875\n",
      "ClearML running in offline mode, session stored in /Users/karl/.clearml/cache/offline/offline-8c8056fb49154175a30624282ab5e875\n",
      "ClearML Monitor: GPU monitoring failed getting GPU reading, switching off GPU monitoring\n"
     ]
    },
    {
     "name": "stderr",
     "output_type": "stream",
     "text": [
      "[I 2025-01-13 14:51:44,830] Trial 78 finished with values: [1169345.0, 16.346351266666666] and parameters: {'a': 353, 'b': 284, 'd': 400}.\n"
     ]
    },
    {
     "name": "stdout",
     "output_type": "stream",
     "text": [
      "ClearML Task: Offline session stored in /Users/karl/.clearml/cache/offline/offline-8c8056fb49154175a30624282ab5e875.zip\n",
      "ClearML Task: created new task id=offline-155ec4306b4a41a7a4861a2c82e1de82\n",
      "ClearML running in offline mode, session stored in /Users/karl/.clearml/cache/offline/offline-155ec4306b4a41a7a4861a2c82e1de82\n",
      "ClearML Monitor: GPU monitoring failed getting GPU reading, switching off GPU monitoring\n"
     ]
    },
    {
     "name": "stderr",
     "output_type": "stream",
     "text": [
      "[I 2025-01-13 14:52:12,371] Trial 79 finished with values: [1152140.0, 6.979925283333333] and parameters: {'a': 15, 'b': 469, 'd': 10}.\n"
     ]
    },
    {
     "name": "stdout",
     "output_type": "stream",
     "text": [
      "ClearML Task: Offline session stored in /Users/karl/.clearml/cache/offline/offline-155ec4306b4a41a7a4861a2c82e1de82.zip\n",
      "ClearML Task: created new task id=offline-45932a6d73c142bda0eb58c013514d32\n",
      "ClearML running in offline mode, session stored in /Users/karl/.clearml/cache/offline/offline-45932a6d73c142bda0eb58c013514d32\n",
      "ClearML Monitor: GPU monitoring failed getting GPU reading, switching off GPU monitoring\n"
     ]
    },
    {
     "name": "stderr",
     "output_type": "stream",
     "text": [
      "[I 2025-01-13 14:52:42,686] Trial 80 finished with values: [1171400.0, 15.382510766666666] and parameters: {'a': 497, 'b': 316, 'd': 480}.\n"
     ]
    },
    {
     "name": "stdout",
     "output_type": "stream",
     "text": [
      "ClearML Task: Offline session stored in /Users/karl/.clearml/cache/offline/offline-45932a6d73c142bda0eb58c013514d32.zip\n",
      "ClearML Task: created new task id=offline-30e78d5acbe24274b638ad045b998677\n",
      "ClearML running in offline mode, session stored in /Users/karl/.clearml/cache/offline/offline-30e78d5acbe24274b638ad045b998677\n",
      "ClearML Monitor: GPU monitoring failed getting GPU reading, switching off GPU monitoring\n"
     ]
    },
    {
     "name": "stderr",
     "output_type": "stream",
     "text": [
      "[I 2025-01-13 14:53:12,077] Trial 81 finished with values: [1145300.0, 6.23733485] and parameters: {'a': 7, 'b': 495, 'd': 112}.\n"
     ]
    },
    {
     "name": "stdout",
     "output_type": "stream",
     "text": [
      "ClearML Task: Offline session stored in /Users/karl/.clearml/cache/offline/offline-30e78d5acbe24274b638ad045b998677.zip\n",
      "ClearML Task: created new task id=offline-71ece03f7bb2487c9794df8e9d21ace3\n",
      "ClearML running in offline mode, session stored in /Users/karl/.clearml/cache/offline/offline-71ece03f7bb2487c9794df8e9d21ace3\n",
      "ClearML Monitor: GPU monitoring failed getting GPU reading, switching off GPU monitoring\n"
     ]
    },
    {
     "name": "stderr",
     "output_type": "stream",
     "text": [
      "[I 2025-01-13 14:53:38,760] Trial 82 finished with values: [1136725.0, 4.827412866666666] and parameters: {'a': 2, 'b': 439, 'd': 132}.\n"
     ]
    },
    {
     "name": "stdout",
     "output_type": "stream",
     "text": [
      "ClearML Task: Offline session stored in /Users/karl/.clearml/cache/offline/offline-71ece03f7bb2487c9794df8e9d21ace3.zip\n",
      "ClearML Task: created new task id=offline-6802288908b64604bce4b0e59c21a8fd\n",
      "ClearML running in offline mode, session stored in /Users/karl/.clearml/cache/offline/offline-6802288908b64604bce4b0e59c21a8fd\n",
      "ClearML Monitor: GPU monitoring failed getting GPU reading, switching off GPU monitoring\n"
     ]
    },
    {
     "name": "stderr",
     "output_type": "stream",
     "text": [
      "[I 2025-01-13 14:54:08,586] Trial 83 finished with values: [1155615.0, 12.97235265] and parameters: {'a': 61, 'b': 377, 'd': 187}.\n"
     ]
    },
    {
     "name": "stdout",
     "output_type": "stream",
     "text": [
      "ClearML Task: Offline session stored in /Users/karl/.clearml/cache/offline/offline-6802288908b64604bce4b0e59c21a8fd.zip\n",
      "ClearML Task: created new task id=offline-c73d218c0a48407fbab42975abe6678f\n",
      "ClearML running in offline mode, session stored in /Users/karl/.clearml/cache/offline/offline-c73d218c0a48407fbab42975abe6678f\n",
      "ClearML Monitor: GPU monitoring failed getting GPU reading, switching off GPU monitoring\n"
     ]
    },
    {
     "name": "stderr",
     "output_type": "stream",
     "text": [
      "[I 2025-01-13 14:54:38,265] Trial 84 finished with values: [1162805.0, 8.001445933333333] and parameters: {'a': 31, 'b': 493, 'd': 308}.\n"
     ]
    },
    {
     "name": "stdout",
     "output_type": "stream",
     "text": [
      "ClearML Task: Offline session stored in /Users/karl/.clearml/cache/offline/offline-c73d218c0a48407fbab42975abe6678f.zip\n",
      "ClearML Task: created new task id=offline-d113937bfc694c45bf1afc288c9e280a\n",
      "ClearML running in offline mode, session stored in /Users/karl/.clearml/cache/offline/offline-d113937bfc694c45bf1afc288c9e280a\n",
      "ClearML Monitor: GPU monitoring failed getting GPU reading, switching off GPU monitoring\n"
     ]
    },
    {
     "name": "stderr",
     "output_type": "stream",
     "text": [
      "[I 2025-01-13 14:55:05,832] Trial 85 finished with values: [1122610.0, 4.905142683333334] and parameters: {'a': 1, 'b': 391, 'd': 185}.\n"
     ]
    },
    {
     "name": "stdout",
     "output_type": "stream",
     "text": [
      "ClearML Task: Offline session stored in /Users/karl/.clearml/cache/offline/offline-d113937bfc694c45bf1afc288c9e280a.zip\n",
      "ClearML Task: created new task id=offline-ba3344a58cbb405dae98a5e874a7b7b1\n",
      "ClearML running in offline mode, session stored in /Users/karl/.clearml/cache/offline/offline-ba3344a58cbb405dae98a5e874a7b7b1\n",
      "ClearML Monitor: GPU monitoring failed getting GPU reading, switching off GPU monitoring\n"
     ]
    },
    {
     "name": "stderr",
     "output_type": "stream",
     "text": [
      "[I 2025-01-13 14:55:33,826] Trial 86 finished with values: [1145670.0, 5.837100166666667] and parameters: {'a': 5, 'b': 421, 'd': 221}.\n"
     ]
    },
    {
     "name": "stdout",
     "output_type": "stream",
     "text": [
      "ClearML Task: Offline session stored in /Users/karl/.clearml/cache/offline/offline-ba3344a58cbb405dae98a5e874a7b7b1.zip\n",
      "ClearML Task: created new task id=offline-934b2c1e35514165b76f9038fca9f3c9\n",
      "ClearML running in offline mode, session stored in /Users/karl/.clearml/cache/offline/offline-934b2c1e35514165b76f9038fca9f3c9\n",
      "ClearML Monitor: GPU monitoring failed getting GPU reading, switching off GPU monitoring\n"
     ]
    },
    {
     "name": "stderr",
     "output_type": "stream",
     "text": [
      "[I 2025-01-13 14:56:00,638] Trial 87 finished with values: [1131975.0, 5.174581133333334] and parameters: {'a': 3, 'b': 332, 'd': 174}.\n"
     ]
    },
    {
     "name": "stdout",
     "output_type": "stream",
     "text": [
      "ClearML Task: Offline session stored in /Users/karl/.clearml/cache/offline/offline-934b2c1e35514165b76f9038fca9f3c9.zip\n",
      "ClearML Task: created new task id=offline-14014e1310a947439b4d1670993ee188\n",
      "ClearML running in offline mode, session stored in /Users/karl/.clearml/cache/offline/offline-14014e1310a947439b4d1670993ee188\n",
      "ClearML Monitor: GPU monitoring failed getting GPU reading, switching off GPU monitoring\n"
     ]
    },
    {
     "name": "stderr",
     "output_type": "stream",
     "text": [
      "[I 2025-01-13 14:56:29,171] Trial 88 finished with values: [1151855.0, 7.245481516666667] and parameters: {'a': 12, 'b': 376, 'd': 225}.\n"
     ]
    },
    {
     "name": "stdout",
     "output_type": "stream",
     "text": [
      "ClearML Task: Offline session stored in /Users/karl/.clearml/cache/offline/offline-14014e1310a947439b4d1670993ee188.zip\n",
      "ClearML Task: created new task id=offline-db07d533609845478673620117426d99\n",
      "ClearML running in offline mode, session stored in /Users/karl/.clearml/cache/offline/offline-db07d533609845478673620117426d99\n",
      "ClearML Monitor: GPU monitoring failed getting GPU reading, switching off GPU monitoring\n"
     ]
    },
    {
     "name": "stderr",
     "output_type": "stream",
     "text": [
      "[I 2025-01-13 14:56:57,089] Trial 89 finished with values: [1158695.0, 8.3814421] and parameters: {'a': 30, 'b': 414, 'd': 181}.\n"
     ]
    },
    {
     "name": "stdout",
     "output_type": "stream",
     "text": [
      "ClearML Task: Offline session stored in /Users/karl/.clearml/cache/offline/offline-db07d533609845478673620117426d99.zip\n",
      "ClearML Task: created new task id=offline-05a1e2046c824bd28ca40c0497c1fcd8\n",
      "ClearML running in offline mode, session stored in /Users/karl/.clearml/cache/offline/offline-05a1e2046c824bd28ca40c0497c1fcd8\n",
      "ClearML Monitor: GPU monitoring failed getting GPU reading, switching off GPU monitoring\n"
     ]
    },
    {
     "name": "stderr",
     "output_type": "stream",
     "text": [
      "[I 2025-01-13 14:57:24,787] Trial 90 finished with values: [1122610.0, 4.905142683333334] and parameters: {'a': 1, 'b': 318, 'd': 186}.\n"
     ]
    },
    {
     "name": "stdout",
     "output_type": "stream",
     "text": [
      "ClearML Task: Offline session stored in /Users/karl/.clearml/cache/offline/offline-05a1e2046c824bd28ca40c0497c1fcd8.zip\n",
      "ClearML Task: created new task id=offline-dc445b79f9904d489daf46b73c0ddec9\n",
      "ClearML running in offline mode, session stored in /Users/karl/.clearml/cache/offline/offline-dc445b79f9904d489daf46b73c0ddec9\n",
      "ClearML Monitor: GPU monitoring failed getting GPU reading, switching off GPU monitoring\n"
     ]
    },
    {
     "name": "stderr",
     "output_type": "stream",
     "text": [
      "[I 2025-01-13 14:57:52,596] Trial 91 finished with values: [1148260.0, 6.818489083333334] and parameters: {'a': 11, 'b': 430, 'd': 192}.\n"
     ]
    },
    {
     "name": "stdout",
     "output_type": "stream",
     "text": [
      "ClearML Task: Offline session stored in /Users/karl/.clearml/cache/offline/offline-dc445b79f9904d489daf46b73c0ddec9.zip\n",
      "ClearML Task: created new task id=offline-abcaae042f224f25be305e23bbd6698f\n",
      "ClearML running in offline mode, session stored in /Users/karl/.clearml/cache/offline/offline-abcaae042f224f25be305e23bbd6698f\n",
      "ClearML Monitor: GPU monitoring failed getting GPU reading, switching off GPU monitoring\n"
     ]
    },
    {
     "name": "stderr",
     "output_type": "stream",
     "text": [
      "[I 2025-01-13 14:58:23,881] Trial 92 finished with values: [1156045.0, 16.503478666666666] and parameters: {'a': 350, 'b': 322, 'd': 193}.\n"
     ]
    },
    {
     "name": "stdout",
     "output_type": "stream",
     "text": [
      "ClearML Task: Offline session stored in /Users/karl/.clearml/cache/offline/offline-abcaae042f224f25be305e23bbd6698f.zip\n",
      "ClearML Task: created new task id=offline-bcbb0aea2717435a906ae6e4774d16b7\n",
      "ClearML running in offline mode, session stored in /Users/karl/.clearml/cache/offline/offline-bcbb0aea2717435a906ae6e4774d16b7\n",
      "ClearML Monitor: GPU monitoring failed getting GPU reading, switching off GPU monitoring\n"
     ]
    },
    {
     "name": "stderr",
     "output_type": "stream",
     "text": [
      "[I 2025-01-13 14:58:53,957] Trial 93 finished with values: [1166720.0, 12.0392262] and parameters: {'a': 44, 'b': 338, 'd': 144}.\n"
     ]
    },
    {
     "name": "stdout",
     "output_type": "stream",
     "text": [
      "ClearML Task: Offline session stored in /Users/karl/.clearml/cache/offline/offline-bcbb0aea2717435a906ae6e4774d16b7.zip\n",
      "ClearML Task: created new task id=offline-d7efaa45e3ba427ab9821d64b0b252e3\n",
      "ClearML running in offline mode, session stored in /Users/karl/.clearml/cache/offline/offline-d7efaa45e3ba427ab9821d64b0b252e3\n",
      "ClearML Monitor: GPU monitoring failed getting GPU reading, switching off GPU monitoring\n"
     ]
    },
    {
     "name": "stderr",
     "output_type": "stream",
     "text": [
      "[I 2025-01-13 14:59:23,586] Trial 94 finished with values: [1133595.0, 5.246365983333333] and parameters: {'a': 5, 'b': 488, 'd': 201}.\n"
     ]
    },
    {
     "name": "stdout",
     "output_type": "stream",
     "text": [
      "ClearML Task: Offline session stored in /Users/karl/.clearml/cache/offline/offline-d7efaa45e3ba427ab9821d64b0b252e3.zip\n",
      "ClearML Task: created new task id=offline-8464a4ab70e94565a155f85d744d56d2\n",
      "ClearML running in offline mode, session stored in /Users/karl/.clearml/cache/offline/offline-8464a4ab70e94565a155f85d744d56d2\n",
      "ClearML Monitor: GPU monitoring failed getting GPU reading, switching off GPU monitoring\n"
     ]
    },
    {
     "name": "stderr",
     "output_type": "stream",
     "text": [
      "[I 2025-01-13 14:59:52,257] Trial 95 finished with values: [1149610.0, 7.157554566666667] and parameters: {'a': 12, 'b': 368, 'd': 120}.\n"
     ]
    },
    {
     "name": "stdout",
     "output_type": "stream",
     "text": [
      "ClearML Task: Offline session stored in /Users/karl/.clearml/cache/offline/offline-8464a4ab70e94565a155f85d744d56d2.zip\n",
      "ClearML Task: created new task id=offline-f041718bd69244e3a1b3790965cc21f0\n",
      "ClearML running in offline mode, session stored in /Users/karl/.clearml/cache/offline/offline-f041718bd69244e3a1b3790965cc21f0\n",
      "ClearML Monitor: GPU monitoring failed getting GPU reading, switching off GPU monitoring\n"
     ]
    },
    {
     "name": "stderr",
     "output_type": "stream",
     "text": [
      "[I 2025-01-13 15:00:20,135] Trial 96 finished with values: [1137900.0, 4.880252816666667] and parameters: {'a': 2, 'b': 383, 'd': 129}.\n"
     ]
    },
    {
     "name": "stdout",
     "output_type": "stream",
     "text": [
      "ClearML Task: Offline session stored in /Users/karl/.clearml/cache/offline/offline-f041718bd69244e3a1b3790965cc21f0.zip\n",
      "ClearML Task: created new task id=offline-24161518eb3646598922ec257bd3f2f1\n",
      "ClearML running in offline mode, session stored in /Users/karl/.clearml/cache/offline/offline-24161518eb3646598922ec257bd3f2f1\n",
      "ClearML Monitor: GPU monitoring failed getting GPU reading, switching off GPU monitoring\n"
     ]
    },
    {
     "name": "stderr",
     "output_type": "stream",
     "text": [
      "[I 2025-01-13 15:00:52,091] Trial 97 finished with values: [1151160.0, 17.436189366666667] and parameters: {'a': 106, 'b': 377, 'd': 151}.\n"
     ]
    },
    {
     "name": "stdout",
     "output_type": "stream",
     "text": [
      "ClearML Task: Offline session stored in /Users/karl/.clearml/cache/offline/offline-24161518eb3646598922ec257bd3f2f1.zip\n",
      "ClearML Task: created new task id=offline-8722e09e56f041229e32765d6e65d14b\n",
      "ClearML running in offline mode, session stored in /Users/karl/.clearml/cache/offline/offline-8722e09e56f041229e32765d6e65d14b\n",
      "ClearML Monitor: GPU monitoring failed getting GPU reading, switching off GPU monitoring\n"
     ]
    },
    {
     "name": "stderr",
     "output_type": "stream",
     "text": [
      "[I 2025-01-13 15:01:20,866] Trial 98 finished with values: [1147460.0, 6.889206] and parameters: {'a': 9, 'b': 364, 'd': 142}.\n"
     ]
    },
    {
     "name": "stdout",
     "output_type": "stream",
     "text": [
      "ClearML Task: Offline session stored in /Users/karl/.clearml/cache/offline/offline-8722e09e56f041229e32765d6e65d14b.zip\n",
      "ClearML Task: created new task id=offline-e5a997b8dd304975b072cb30becf621e\n",
      "ClearML running in offline mode, session stored in /Users/karl/.clearml/cache/offline/offline-e5a997b8dd304975b072cb30becf621e\n",
      "ClearML Monitor: GPU monitoring failed getting GPU reading, switching off GPU monitoring\n"
     ]
    },
    {
     "name": "stderr",
     "output_type": "stream",
     "text": [
      "[I 2025-01-13 15:01:51,207] Trial 99 finished with values: [1171400.0, 15.382510766666666] and parameters: {'a': 336, 'b': 211, 'd': 12}.\n"
     ]
    },
    {
     "name": "stdout",
     "output_type": "stream",
     "text": [
      "ClearML Task: Offline session stored in /Users/karl/.clearml/cache/offline/offline-e5a997b8dd304975b072cb30becf621e.zip\n",
      "ClearML Task: created new task id=offline-e3df7cbc7ef54acca79a1ed8f9ca3bf2\n",
      "ClearML running in offline mode, session stored in /Users/karl/.clearml/cache/offline/offline-e3df7cbc7ef54acca79a1ed8f9ca3bf2\n",
      "ClearML Monitor: GPU monitoring failed getting GPU reading, switching off GPU monitoring\n"
     ]
    },
    {
     "name": "stderr",
     "output_type": "stream",
     "text": [
      "[I 2025-01-13 15:02:19,261] Trial 100 finished with values: [1150950.0, 7.289697433333333] and parameters: {'a': 6, 'b': 136, 'd': 181}.\n"
     ]
    },
    {
     "name": "stdout",
     "output_type": "stream",
     "text": [
      "ClearML Task: Offline session stored in /Users/karl/.clearml/cache/offline/offline-e3df7cbc7ef54acca79a1ed8f9ca3bf2.zip\n",
      "ClearML Task: created new task id=offline-af99e95fa1c44e62814ae3a753068ce4\n",
      "ClearML running in offline mode, session stored in /Users/karl/.clearml/cache/offline/offline-af99e95fa1c44e62814ae3a753068ce4\n",
      "ClearML Monitor: GPU monitoring failed getting GPU reading, switching off GPU monitoring\n"
     ]
    },
    {
     "name": "stderr",
     "output_type": "stream",
     "text": [
      "[I 2025-01-13 15:02:47,216] Trial 101 finished with values: [1162215.0, 7.549152533333333] and parameters: {'a': 24, 'b': 412, 'd': 148}.\n"
     ]
    },
    {
     "name": "stdout",
     "output_type": "stream",
     "text": [
      "ClearML Task: Offline session stored in /Users/karl/.clearml/cache/offline/offline-af99e95fa1c44e62814ae3a753068ce4.zip\n",
      "ClearML Task: created new task id=offline-c27c5888aec1420ba2dc38a5cdf4528b\n",
      "ClearML running in offline mode, session stored in /Users/karl/.clearml/cache/offline/offline-c27c5888aec1420ba2dc38a5cdf4528b\n",
      "ClearML Monitor: GPU monitoring failed getting GPU reading, switching off GPU monitoring\n"
     ]
    },
    {
     "name": "stderr",
     "output_type": "stream",
     "text": [
      "[I 2025-01-13 15:03:15,182] Trial 102 finished with values: [1146450.0, 6.439147500000001] and parameters: {'a': 11, 'b': 489, 'd': 201}.\n"
     ]
    },
    {
     "name": "stdout",
     "output_type": "stream",
     "text": [
      "ClearML Task: Offline session stored in /Users/karl/.clearml/cache/offline/offline-c27c5888aec1420ba2dc38a5cdf4528b.zip\n",
      "ClearML Task: created new task id=offline-521e0230c4544cd68a55a5053a0c3b14\n",
      "ClearML running in offline mode, session stored in /Users/karl/.clearml/cache/offline/offline-521e0230c4544cd68a55a5053a0c3b14\n",
      "ClearML Monitor: GPU monitoring failed getting GPU reading, switching off GPU monitoring\n"
     ]
    },
    {
     "name": "stderr",
     "output_type": "stream",
     "text": [
      "[I 2025-01-13 15:03:45,370] Trial 103 finished with values: [1160690.0, 15.854918099999999] and parameters: {'a': 260, 'b': 345, 'd': 289}.\n"
     ]
    },
    {
     "name": "stdout",
     "output_type": "stream",
     "text": [
      "ClearML Task: Offline session stored in /Users/karl/.clearml/cache/offline/offline-521e0230c4544cd68a55a5053a0c3b14.zip\n",
      "ClearML Task: created new task id=offline-496555ccc9e24e3f822d0a9504aec464\n",
      "ClearML running in offline mode, session stored in /Users/karl/.clearml/cache/offline/offline-496555ccc9e24e3f822d0a9504aec464\n",
      "ClearML Monitor: GPU monitoring failed getting GPU reading, switching off GPU monitoring\n"
     ]
    },
    {
     "name": "stderr",
     "output_type": "stream",
     "text": [
      "[I 2025-01-13 15:04:12,669] Trial 104 finished with values: [1136365.0, 5.043992333333334] and parameters: {'a': 3, 'b': 420, 'd': 153}.\n"
     ]
    },
    {
     "name": "stdout",
     "output_type": "stream",
     "text": [
      "ClearML Task: Offline session stored in /Users/karl/.clearml/cache/offline/offline-496555ccc9e24e3f822d0a9504aec464.zip\n",
      "ClearML Task: created new task id=offline-dd575904c6484ff1ad89077165ad2a03\n",
      "ClearML running in offline mode, session stored in /Users/karl/.clearml/cache/offline/offline-dd575904c6484ff1ad89077165ad2a03\n",
      "ClearML Monitor: GPU monitoring failed getting GPU reading, switching off GPU monitoring\n"
     ]
    },
    {
     "name": "stderr",
     "output_type": "stream",
     "text": [
      "[I 2025-01-13 15:04:45,142] Trial 105 finished with values: [1186470.0, 20.464970766666667] and parameters: {'a': 90, 'b': 9, 'd': 168}.\n"
     ]
    },
    {
     "name": "stdout",
     "output_type": "stream",
     "text": [
      "ClearML Task: Offline session stored in /Users/karl/.clearml/cache/offline/offline-dd575904c6484ff1ad89077165ad2a03.zip\n",
      "ClearML Task: created new task id=offline-2974a62544a74222ac502981a6ff2757\n",
      "ClearML running in offline mode, session stored in /Users/karl/.clearml/cache/offline/offline-2974a62544a74222ac502981a6ff2757\n",
      "ClearML Monitor: GPU monitoring failed getting GPU reading, switching off GPU monitoring\n"
     ]
    },
    {
     "name": "stderr",
     "output_type": "stream",
     "text": [
      "[I 2025-01-13 15:05:16,484] Trial 106 finished with values: [1171680.0, 15.3348405] and parameters: {'a': 345, 'b': 25, 'd': 115}.\n"
     ]
    },
    {
     "name": "stdout",
     "output_type": "stream",
     "text": [
      "ClearML Task: Offline session stored in /Users/karl/.clearml/cache/offline/offline-2974a62544a74222ac502981a6ff2757.zip\n",
      "ClearML Task: created new task id=offline-7f1d2792fffb41c3a781d5e9ea5bb860\n",
      "ClearML running in offline mode, session stored in /Users/karl/.clearml/cache/offline/offline-7f1d2792fffb41c3a781d5e9ea5bb860\n",
      "ClearML Monitor: GPU monitoring failed getting GPU reading, switching off GPU monitoring\n"
     ]
    },
    {
     "name": "stderr",
     "output_type": "stream",
     "text": [
      "[I 2025-01-13 15:05:46,377] Trial 107 finished with values: [1154185.0, 16.11706895] and parameters: {'a': 111, 'b': 450, 'd': 169}.\n"
     ]
    },
    {
     "name": "stdout",
     "output_type": "stream",
     "text": [
      "ClearML Task: Offline session stored in /Users/karl/.clearml/cache/offline/offline-7f1d2792fffb41c3a781d5e9ea5bb860.zip\n",
      "ClearML Task: created new task id=offline-b2a705f8afa64bb9a914c46e75a3b7c1\n",
      "ClearML running in offline mode, session stored in /Users/karl/.clearml/cache/offline/offline-b2a705f8afa64bb9a914c46e75a3b7c1\n",
      "ClearML Monitor: GPU monitoring failed getting GPU reading, switching off GPU monitoring\n"
     ]
    },
    {
     "name": "stderr",
     "output_type": "stream",
     "text": [
      "[I 2025-01-13 15:06:15,114] Trial 108 finished with values: [1172220.0, 7.945116799999999] and parameters: {'a': 28, 'b': 445, 'd': 155}.\n"
     ]
    },
    {
     "name": "stdout",
     "output_type": "stream",
     "text": [
      "ClearML Task: Offline session stored in /Users/karl/.clearml/cache/offline/offline-b2a705f8afa64bb9a914c46e75a3b7c1.zip\n",
      "ClearML Task: created new task id=offline-714ae898b3444084a5a906ee0fcc6e40\n",
      "ClearML running in offline mode, session stored in /Users/karl/.clearml/cache/offline/offline-714ae898b3444084a5a906ee0fcc6e40\n",
      "ClearML Monitor: GPU monitoring failed getting GPU reading, switching off GPU monitoring\n"
     ]
    },
    {
     "name": "stderr",
     "output_type": "stream",
     "text": [
      "[I 2025-01-13 15:06:43,870] Trial 109 finished with values: [1153525.0, 7.14484145] and parameters: {'a': 18, 'b': 403, 'd': 110}.\n"
     ]
    },
    {
     "name": "stdout",
     "output_type": "stream",
     "text": [
      "ClearML Task: Offline session stored in /Users/karl/.clearml/cache/offline/offline-714ae898b3444084a5a906ee0fcc6e40.zip\n",
      "ClearML Task: created new task id=offline-fdbef76df2724acea8256b6b600d82b2\n",
      "ClearML running in offline mode, session stored in /Users/karl/.clearml/cache/offline/offline-fdbef76df2724acea8256b6b600d82b2\n",
      "ClearML Monitor: GPU monitoring failed getting GPU reading, switching off GPU monitoring\n"
     ]
    },
    {
     "name": "stderr",
     "output_type": "stream",
     "text": [
      "[I 2025-01-13 15:07:14,290] Trial 110 finished with values: [1171400.0, 15.382510766666666] and parameters: {'a': 243, 'b': 157, 'd': 194}.\n"
     ]
    },
    {
     "name": "stdout",
     "output_type": "stream",
     "text": [
      "ClearML Task: Offline session stored in /Users/karl/.clearml/cache/offline/offline-fdbef76df2724acea8256b6b600d82b2.zip\n",
      "ClearML Task: created new task id=offline-0cccf3e089dd4d0eb94276b6d9511ebe\n",
      "ClearML running in offline mode, session stored in /Users/karl/.clearml/cache/offline/offline-0cccf3e089dd4d0eb94276b6d9511ebe\n",
      "ClearML Monitor: GPU monitoring failed getting GPU reading, switching off GPU monitoring\n"
     ]
    },
    {
     "name": "stderr",
     "output_type": "stream",
     "text": [
      "[I 2025-01-13 15:07:44,622] Trial 111 finished with values: [1171400.0, 15.382510766666666] and parameters: {'a': 407, 'b': 176, 'd': 393}.\n"
     ]
    },
    {
     "name": "stdout",
     "output_type": "stream",
     "text": [
      "ClearML Task: Offline session stored in /Users/karl/.clearml/cache/offline/offline-0cccf3e089dd4d0eb94276b6d9511ebe.zip\n",
      "ClearML Task: created new task id=offline-438c00e9f8554972a1ba3c595b8453ee\n",
      "ClearML running in offline mode, session stored in /Users/karl/.clearml/cache/offline/offline-438c00e9f8554972a1ba3c595b8453ee\n",
      "ClearML Monitor: GPU monitoring failed getting GPU reading, switching off GPU monitoring\n"
     ]
    },
    {
     "name": "stderr",
     "output_type": "stream",
     "text": [
      "[I 2025-01-13 15:08:13,441] Trial 112 finished with values: [1178660.0, 12.683173716666666] and parameters: {'a': 9, 'b': 82, 'd': 466}.\n"
     ]
    },
    {
     "name": "stdout",
     "output_type": "stream",
     "text": [
      "ClearML Task: Offline session stored in /Users/karl/.clearml/cache/offline/offline-438c00e9f8554972a1ba3c595b8453ee.zip\n",
      "ClearML Task: created new task id=offline-5e9c7c816ef84f9b9b565efbd7136385\n",
      "ClearML running in offline mode, session stored in /Users/karl/.clearml/cache/offline/offline-5e9c7c816ef84f9b9b565efbd7136385\n",
      "ClearML Monitor: GPU monitoring failed getting GPU reading, switching off GPU monitoring\n"
     ]
    },
    {
     "name": "stderr",
     "output_type": "stream",
     "text": [
      "[I 2025-01-13 15:08:40,697] Trial 113 finished with values: [1122565.0, 4.823152033333333] and parameters: {'a': 1, 'b': 459, 'd': 153}.\n"
     ]
    },
    {
     "name": "stdout",
     "output_type": "stream",
     "text": [
      "ClearML Task: Offline session stored in /Users/karl/.clearml/cache/offline/offline-5e9c7c816ef84f9b9b565efbd7136385.zip\n",
      "ClearML Task: created new task id=offline-324ec5ce35e9496381cc0c26015f85d7\n",
      "ClearML running in offline mode, session stored in /Users/karl/.clearml/cache/offline/offline-324ec5ce35e9496381cc0c26015f85d7\n",
      "ClearML Monitor: GPU monitoring failed getting GPU reading, switching off GPU monitoring\n"
     ]
    },
    {
     "name": "stderr",
     "output_type": "stream",
     "text": [
      "[I 2025-01-13 15:09:11,634] Trial 114 finished with values: [1151310.0, 13.3389884] and parameters: {'a': 79, 'b': 467, 'd': 178}.\n"
     ]
    },
    {
     "name": "stdout",
     "output_type": "stream",
     "text": [
      "ClearML Task: Offline session stored in /Users/karl/.clearml/cache/offline/offline-324ec5ce35e9496381cc0c26015f85d7.zip\n",
      "ClearML Task: created new task id=offline-38217e7aa4714bcfa81fedd363ca2b47\n",
      "ClearML running in offline mode, session stored in /Users/karl/.clearml/cache/offline/offline-38217e7aa4714bcfa81fedd363ca2b47\n",
      "ClearML Monitor: GPU monitoring failed getting GPU reading, switching off GPU monitoring\n"
     ]
    },
    {
     "name": "stderr",
     "output_type": "stream",
     "text": [
      "[I 2025-01-13 15:09:42,881] Trial 115 finished with values: [1160685.0, 16.451259683333333] and parameters: {'a': 135, 'b': 497, 'd': 394}.\n"
     ]
    },
    {
     "name": "stdout",
     "output_type": "stream",
     "text": [
      "ClearML Task: Offline session stored in /Users/karl/.clearml/cache/offline/offline-38217e7aa4714bcfa81fedd363ca2b47.zip\n",
      "ClearML Task: created new task id=offline-fd6301fb27ff44579e32d029aa1ef32b\n",
      "ClearML running in offline mode, session stored in /Users/karl/.clearml/cache/offline/offline-fd6301fb27ff44579e32d029aa1ef32b\n",
      "ClearML Monitor: GPU monitoring failed getting GPU reading, switching off GPU monitoring\n"
     ]
    },
    {
     "name": "stderr",
     "output_type": "stream",
     "text": [
      "[I 2025-01-13 15:10:15,603] Trial 116 finished with values: [1177850.0, 35.45327075] and parameters: {'a': 261, 'b': 10, 'd': 492}.\n"
     ]
    },
    {
     "name": "stdout",
     "output_type": "stream",
     "text": [
      "ClearML Task: Offline session stored in /Users/karl/.clearml/cache/offline/offline-fd6301fb27ff44579e32d029aa1ef32b.zip\n",
      "ClearML Task: created new task id=offline-f1ce094fe42d4034bff14dbff0890f9d\n",
      "ClearML running in offline mode, session stored in /Users/karl/.clearml/cache/offline/offline-f1ce094fe42d4034bff14dbff0890f9d\n",
      "ClearML Monitor: GPU monitoring failed getting GPU reading, switching off GPU monitoring\n"
     ]
    },
    {
     "name": "stderr",
     "output_type": "stream",
     "text": [
      "[I 2025-01-13 15:10:43,323] Trial 117 finished with values: [1155755.0, 7.324511666666667] and parameters: {'a': 26, 'b': 471, 'd': 178}.\n"
     ]
    },
    {
     "name": "stdout",
     "output_type": "stream",
     "text": [
      "ClearML Task: Offline session stored in /Users/karl/.clearml/cache/offline/offline-f1ce094fe42d4034bff14dbff0890f9d.zip\n",
      "ClearML Task: created new task id=offline-3f5f1f077670473f8cba5820feffe79d\n",
      "ClearML running in offline mode, session stored in /Users/karl/.clearml/cache/offline/offline-3f5f1f077670473f8cba5820feffe79d\n",
      "ClearML Monitor: GPU monitoring failed getting GPU reading, switching off GPU monitoring\n"
     ]
    },
    {
     "name": "stderr",
     "output_type": "stream",
     "text": [
      "[I 2025-01-13 15:11:13,804] Trial 118 finished with values: [1158580.0, 16.334303766666668] and parameters: {'a': 148, 'b': 251, 'd': 263}.\n"
     ]
    },
    {
     "name": "stdout",
     "output_type": "stream",
     "text": [
      "ClearML Task: Offline session stored in /Users/karl/.clearml/cache/offline/offline-3f5f1f077670473f8cba5820feffe79d.zip\n",
      "ClearML Task: created new task id=offline-8a9c03b53d99462aa0df9974a3dd5c6e\n",
      "ClearML running in offline mode, session stored in /Users/karl/.clearml/cache/offline/offline-8a9c03b53d99462aa0df9974a3dd5c6e\n",
      "ClearML Monitor: GPU monitoring failed getting GPU reading, switching off GPU monitoring\n",
      "ClearML Monitor: Could not detect iteration reporting, falling back to iterations as seconds-from-start\n"
     ]
    },
    {
     "name": "stderr",
     "output_type": "stream",
     "text": [
      "[I 2025-01-13 15:20:51,811] Trial 119 finished with values: [1164545.0, 14.965926066666666] and parameters: {'a': 88, 'b': 350, 'd': 380}.\n"
     ]
    },
    {
     "name": "stdout",
     "output_type": "stream",
     "text": [
      "ClearML Task: Offline session stored in /Users/karl/.clearml/cache/offline/offline-8a9c03b53d99462aa0df9974a3dd5c6e.zip\n",
      "ClearML Task: created new task id=offline-136ce301f44e4b3f8ad467aa849af143\n",
      "ClearML running in offline mode, session stored in /Users/karl/.clearml/cache/offline/offline-136ce301f44e4b3f8ad467aa849af143\n",
      "ClearML Monitor: GPU monitoring failed getting GPU reading, switching off GPU monitoring\n"
     ]
    },
    {
     "name": "stderr",
     "output_type": "stream",
     "text": [
      "[I 2025-01-13 15:21:17,886] Trial 120 finished with values: [1147610.0, 6.3214668666666665] and parameters: {'a': 7, 'b': 439, 'd': 130}.\n"
     ]
    },
    {
     "name": "stdout",
     "output_type": "stream",
     "text": [
      "ClearML Task: Offline session stored in /Users/karl/.clearml/cache/offline/offline-136ce301f44e4b3f8ad467aa849af143.zip\n",
      "ClearML Task: created new task id=offline-fa9f89954c484eaa8b3e18be3d35aeb6\n",
      "ClearML running in offline mode, session stored in /Users/karl/.clearml/cache/offline/offline-fa9f89954c484eaa8b3e18be3d35aeb6\n",
      "ClearML Monitor: GPU monitoring failed getting GPU reading, switching off GPU monitoring\n"
     ]
    },
    {
     "name": "stderr",
     "output_type": "stream",
     "text": [
      "[I 2025-01-13 15:21:58,800] Trial 121 finished with values: [1169405.0, 15.601313133333333] and parameters: {'a': 476, 'b': 147, 'd': 87}.\n"
     ]
    },
    {
     "name": "stdout",
     "output_type": "stream",
     "text": [
      "ClearML Task: Offline session stored in /Users/karl/.clearml/cache/offline/offline-fa9f89954c484eaa8b3e18be3d35aeb6.zip\n",
      "ClearML Task: created new task id=offline-fc7b7067b4f64e739063a83812ce5c89\n",
      "ClearML running in offline mode, session stored in /Users/karl/.clearml/cache/offline/offline-fc7b7067b4f64e739063a83812ce5c89\n",
      "ClearML Monitor: GPU monitoring failed getting GPU reading, switching off GPU monitoring\n"
     ]
    },
    {
     "name": "stderr",
     "output_type": "stream",
     "text": [
      "[I 2025-01-13 15:22:29,229] Trial 122 finished with values: [1156045.0, 16.503478666666666] and parameters: {'a': 390, 'b': 350, 'd': 323}.\n"
     ]
    },
    {
     "name": "stdout",
     "output_type": "stream",
     "text": [
      "ClearML Task: Offline session stored in /Users/karl/.clearml/cache/offline/offline-fc7b7067b4f64e739063a83812ce5c89.zip\n",
      "ClearML Task: created new task id=offline-1d7cb8f6742745fe8065083b0ae3db8f\n",
      "ClearML running in offline mode, session stored in /Users/karl/.clearml/cache/offline/offline-1d7cb8f6742745fe8065083b0ae3db8f\n",
      "ClearML Monitor: GPU monitoring failed getting GPU reading, switching off GPU monitoring\n",
      "ClearML Monitor: Could not detect iteration reporting, falling back to iterations as seconds-from-start\n"
     ]
    },
    {
     "name": "stderr",
     "output_type": "stream",
     "text": [
      "[I 2025-01-13 15:28:41,980] Trial 123 finished with values: [1139585.0, 6.569118066666666] and parameters: {'a': 9, 'b': 472, 'd': 221}.\n"
     ]
    },
    {
     "name": "stdout",
     "output_type": "stream",
     "text": [
      "ClearML Task: Offline session stored in /Users/karl/.clearml/cache/offline/offline-1d7cb8f6742745fe8065083b0ae3db8f.zip\n",
      "ClearML Task: created new task id=offline-96803c80dffb4df6a9b32174edcaa207\n",
      "ClearML running in offline mode, session stored in /Users/karl/.clearml/cache/offline/offline-96803c80dffb4df6a9b32174edcaa207\n",
      "ClearML Monitor: GPU monitoring failed getting GPU reading, switching off GPU monitoring\n",
      "ClearML Monitor: Could not detect iteration reporting, falling back to iterations as seconds-from-start\n"
     ]
    },
    {
     "name": "stderr",
     "output_type": "stream",
     "text": [
      "[I 2025-01-13 15:32:21,936] Trial 124 finished with values: [1167100.0, 16.412884366666667] and parameters: {'a': 332, 'b': 346, 'd': 23}.\n"
     ]
    },
    {
     "name": "stdout",
     "output_type": "stream",
     "text": [
      "ClearML Task: Offline session stored in /Users/karl/.clearml/cache/offline/offline-96803c80dffb4df6a9b32174edcaa207.zip\n",
      "ClearML Task: created new task id=offline-8f4d91ceed9f49f486e98fe91e68110b\n",
      "ClearML running in offline mode, session stored in /Users/karl/.clearml/cache/offline/offline-8f4d91ceed9f49f486e98fe91e68110b\n",
      "ClearML Monitor: GPU monitoring failed getting GPU reading, switching off GPU monitoring\n"
     ]
    },
    {
     "name": "stderr",
     "output_type": "stream",
     "text": [
      "[I 2025-01-13 15:32:49,382] Trial 125 finished with values: [1152900.0, 9.42761065] and parameters: {'a': 51, 'b': 499, 'd': 178}.\n"
     ]
    },
    {
     "name": "stdout",
     "output_type": "stream",
     "text": [
      "ClearML Task: Offline session stored in /Users/karl/.clearml/cache/offline/offline-8f4d91ceed9f49f486e98fe91e68110b.zip\n",
      "ClearML Task: created new task id=offline-9a5498fe4b824acd8f4b3b67792df04d\n",
      "ClearML running in offline mode, session stored in /Users/karl/.clearml/cache/offline/offline-9a5498fe4b824acd8f4b3b67792df04d\n",
      "ClearML Monitor: GPU monitoring failed getting GPU reading, switching off GPU monitoring\n",
      "ClearML Monitor: Could not detect iteration reporting, falling back to iterations as seconds-from-start\n"
     ]
    },
    {
     "name": "stderr",
     "output_type": "stream",
     "text": [
      "[I 2025-01-13 16:10:47,634] Trial 126 finished with values: [1156045.0, 16.503478666666666] and parameters: {'a': 168, 'b': 146, 'd': 328}.\n"
     ]
    },
    {
     "name": "stdout",
     "output_type": "stream",
     "text": [
      "ClearML Task: Offline session stored in /Users/karl/.clearml/cache/offline/offline-9a5498fe4b824acd8f4b3b67792df04d.zip\n",
      "ClearML Task: created new task id=offline-6754462d12314fbcb970c9173d4fb07c\n",
      "ClearML running in offline mode, session stored in /Users/karl/.clearml/cache/offline/offline-6754462d12314fbcb970c9173d4fb07c\n",
      "ClearML Monitor: GPU monitoring failed getting GPU reading, switching off GPU monitoring\n"
     ]
    },
    {
     "name": "stderr",
     "output_type": "stream",
     "text": [
      "[I 2025-01-13 16:11:17,166] Trial 127 finished with values: [1184680.0, 18.617998833333335] and parameters: {'a': 141, 'b': 5, 'd': 75}.\n"
     ]
    },
    {
     "name": "stdout",
     "output_type": "stream",
     "text": [
      "ClearML Task: Offline session stored in /Users/karl/.clearml/cache/offline/offline-6754462d12314fbcb970c9173d4fb07c.zip\n",
      "ClearML Task: created new task id=offline-1ce3ebf397844d87b455efadc01be010\n",
      "ClearML running in offline mode, session stored in /Users/karl/.clearml/cache/offline/offline-1ce3ebf397844d87b455efadc01be010\n",
      "ClearML Monitor: GPU monitoring failed getting GPU reading, switching off GPU monitoring\n"
     ]
    },
    {
     "name": "stderr",
     "output_type": "stream",
     "text": [
      "[I 2025-01-13 16:11:46,865] Trial 128 finished with values: [1171400.0, 15.382510766666666] and parameters: {'a': 459, 'b': 304, 'd': 191}.\n"
     ]
    },
    {
     "name": "stdout",
     "output_type": "stream",
     "text": [
      "ClearML Task: Offline session stored in /Users/karl/.clearml/cache/offline/offline-1ce3ebf397844d87b455efadc01be010.zip\n",
      "ClearML Task: created new task id=offline-0ab9a9e9a06e4897819405a9daef403a\n",
      "ClearML running in offline mode, session stored in /Users/karl/.clearml/cache/offline/offline-0ab9a9e9a06e4897819405a9daef403a\n",
      "ClearML Monitor: GPU monitoring failed getting GPU reading, switching off GPU monitoring\n"
     ]
    },
    {
     "name": "stderr",
     "output_type": "stream",
     "text": [
      "[I 2025-01-13 16:12:15,366] Trial 129 finished with values: [1129990.0, 4.941463166666667] and parameters: {'a': 3, 'b': 449, 'd': 120}.\n"
     ]
    },
    {
     "name": "stdout",
     "output_type": "stream",
     "text": [
      "ClearML Task: Offline session stored in /Users/karl/.clearml/cache/offline/offline-0ab9a9e9a06e4897819405a9daef403a.zip\n",
      "ClearML Task: created new task id=offline-ffca9807047e4b1da0e4b5a19f8ee005\n",
      "ClearML running in offline mode, session stored in /Users/karl/.clearml/cache/offline/offline-ffca9807047e4b1da0e4b5a19f8ee005\n",
      "ClearML Monitor: GPU monitoring failed getting GPU reading, switching off GPU monitoring\n"
     ]
    },
    {
     "name": "stderr",
     "output_type": "stream",
     "text": [
      "[I 2025-01-13 16:12:46,809] Trial 130 finished with values: [1159390.0, 16.69899415] and parameters: {'a': 209, 'b': 318, 'd': 19}.\n"
     ]
    },
    {
     "name": "stdout",
     "output_type": "stream",
     "text": [
      "ClearML Task: Offline session stored in /Users/karl/.clearml/cache/offline/offline-ffca9807047e4b1da0e4b5a19f8ee005.zip\n",
      "ClearML Task: created new task id=offline-d60c40936798411d8b8ed3901231ac78\n",
      "ClearML running in offline mode, session stored in /Users/karl/.clearml/cache/offline/offline-d60c40936798411d8b8ed3901231ac78\n",
      "ClearML Monitor: GPU monitoring failed getting GPU reading, switching off GPU monitoring\n"
     ]
    },
    {
     "name": "stderr",
     "output_type": "stream",
     "text": [
      "[I 2025-01-13 16:13:14,822] Trial 131 finished with values: [1156425.0, 7.2665389000000005] and parameters: {'a': 16, 'b': 450, 'd': 153}.\n"
     ]
    },
    {
     "name": "stdout",
     "output_type": "stream",
     "text": [
      "ClearML Task: Offline session stored in /Users/karl/.clearml/cache/offline/offline-d60c40936798411d8b8ed3901231ac78.zip\n",
      "ClearML Task: created new task id=offline-886c2bf2c65a4f8fa30905ae2712b3b4\n",
      "ClearML running in offline mode, session stored in /Users/karl/.clearml/cache/offline/offline-886c2bf2c65a4f8fa30905ae2712b3b4\n",
      "ClearML Monitor: GPU monitoring failed getting GPU reading, switching off GPU monitoring\n"
     ]
    },
    {
     "name": "stderr",
     "output_type": "stream",
     "text": [
      "[I 2025-01-13 16:13:42,836] Trial 132 finished with values: [1157060.0, 7.298353266666667] and parameters: {'a': 19, 'b': 441, 'd': 131}.\n"
     ]
    },
    {
     "name": "stdout",
     "output_type": "stream",
     "text": [
      "ClearML Task: Offline session stored in /Users/karl/.clearml/cache/offline/offline-886c2bf2c65a4f8fa30905ae2712b3b4.zip\n",
      "ClearML Task: created new task id=offline-000db377b0f84a6b98024125b477f82c\n",
      "ClearML running in offline mode, session stored in /Users/karl/.clearml/cache/offline/offline-000db377b0f84a6b98024125b477f82c\n",
      "ClearML Monitor: GPU monitoring failed getting GPU reading, switching off GPU monitoring\n"
     ]
    },
    {
     "name": "stderr",
     "output_type": "stream",
     "text": [
      "[I 2025-01-13 16:14:11,837] Trial 133 finished with values: [1152440.0, 7.148951233333333] and parameters: {'a': 26, 'b': 476, 'd': 188}.\n"
     ]
    },
    {
     "name": "stdout",
     "output_type": "stream",
     "text": [
      "ClearML Task: Offline session stored in /Users/karl/.clearml/cache/offline/offline-000db377b0f84a6b98024125b477f82c.zip\n",
      "ClearML Task: created new task id=offline-b0ef46f272864f93b2e41015b71826eb\n",
      "ClearML running in offline mode, session stored in /Users/karl/.clearml/cache/offline/offline-b0ef46f272864f93b2e41015b71826eb\n",
      "ClearML Monitor: GPU monitoring failed getting GPU reading, switching off GPU monitoring\n"
     ]
    },
    {
     "name": "stderr",
     "output_type": "stream",
     "text": [
      "[I 2025-01-13 16:14:42,236] Trial 134 finished with values: [1164790.0, 16.474724633333334] and parameters: {'a': 68, 'b': 228, 'd': 472}.\n"
     ]
    },
    {
     "name": "stdout",
     "output_type": "stream",
     "text": [
      "ClearML Task: Offline session stored in /Users/karl/.clearml/cache/offline/offline-b0ef46f272864f93b2e41015b71826eb.zip\n",
      "ClearML Task: created new task id=offline-9acbe1b2812f451487b2f38cba525b7a\n",
      "ClearML running in offline mode, session stored in /Users/karl/.clearml/cache/offline/offline-9acbe1b2812f451487b2f38cba525b7a\n",
      "ClearML Monitor: GPU monitoring failed getting GPU reading, switching off GPU monitoring\n"
     ]
    },
    {
     "name": "stderr",
     "output_type": "stream",
     "text": [
      "[I 2025-01-13 16:15:13,027] Trial 135 finished with values: [1158855.0, 16.010240433333333] and parameters: {'a': 158, 'b': 375, 'd': 273}.\n"
     ]
    },
    {
     "name": "stdout",
     "output_type": "stream",
     "text": [
      "ClearML Task: Offline session stored in /Users/karl/.clearml/cache/offline/offline-9acbe1b2812f451487b2f38cba525b7a.zip\n",
      "ClearML Task: created new task id=offline-4cfe3da83ccf48be8048f18f9578c7b9\n",
      "ClearML running in offline mode, session stored in /Users/karl/.clearml/cache/offline/offline-4cfe3da83ccf48be8048f18f9578c7b9\n",
      "ClearML Monitor: GPU monitoring failed getting GPU reading, switching off GPU monitoring\n"
     ]
    },
    {
     "name": "stderr",
     "output_type": "stream",
     "text": [
      "[I 2025-01-13 16:15:43,406] Trial 136 finished with values: [1171400.0, 15.382510766666666] and parameters: {'a': 495, 'b': 244, 'd': 338}.\n"
     ]
    },
    {
     "name": "stdout",
     "output_type": "stream",
     "text": [
      "ClearML Task: Offline session stored in /Users/karl/.clearml/cache/offline/offline-4cfe3da83ccf48be8048f18f9578c7b9.zip\n",
      "ClearML Task: created new task id=offline-060ff3c8c4dc4e2f800e166f1fc67655\n",
      "ClearML running in offline mode, session stored in /Users/karl/.clearml/cache/offline/offline-060ff3c8c4dc4e2f800e166f1fc67655\n",
      "ClearML Monitor: GPU monitoring failed getting GPU reading, switching off GPU monitoring\n"
     ]
    },
    {
     "name": "stderr",
     "output_type": "stream",
     "text": [
      "[I 2025-01-13 16:16:11,576] Trial 137 finished with values: [1164930.0, 7.516858233333334] and parameters: {'a': 30, 'b': 490, 'd': 131}.\n"
     ]
    },
    {
     "name": "stdout",
     "output_type": "stream",
     "text": [
      "ClearML Task: Offline session stored in /Users/karl/.clearml/cache/offline/offline-060ff3c8c4dc4e2f800e166f1fc67655.zip\n",
      "ClearML Task: created new task id=offline-b4616e1f193f46fd82a684b48c25e691\n",
      "ClearML running in offline mode, session stored in /Users/karl/.clearml/cache/offline/offline-b4616e1f193f46fd82a684b48c25e691\n",
      "ClearML Monitor: GPU monitoring failed getting GPU reading, switching off GPU monitoring\n"
     ]
    },
    {
     "name": "stderr",
     "output_type": "stream",
     "text": [
      "[I 2025-01-13 16:16:40,487] Trial 138 finished with values: [1133145.0, 4.903082800000001] and parameters: {'a': 1, 'b': 412, 'd': 219}.\n"
     ]
    },
    {
     "name": "stdout",
     "output_type": "stream",
     "text": [
      "ClearML Task: Offline session stored in /Users/karl/.clearml/cache/offline/offline-b4616e1f193f46fd82a684b48c25e691.zip\n",
      "ClearML Task: created new task id=offline-dba66075c836488aae5de2029c5ffbfa\n",
      "ClearML running in offline mode, session stored in /Users/karl/.clearml/cache/offline/offline-dba66075c836488aae5de2029c5ffbfa\n",
      "ClearML Monitor: GPU monitoring failed getting GPU reading, switching off GPU monitoring\n"
     ]
    },
    {
     "name": "stderr",
     "output_type": "stream",
     "text": [
      "[I 2025-01-13 16:17:12,368] Trial 139 finished with values: [1163830.0, 16.48656958333333] and parameters: {'a': 111, 'b': 243, 'd': 91}.\n"
     ]
    },
    {
     "name": "stdout",
     "output_type": "stream",
     "text": [
      "ClearML Task: Offline session stored in /Users/karl/.clearml/cache/offline/offline-dba66075c836488aae5de2029c5ffbfa.zip\n",
      "ClearML Task: created new task id=offline-a4971919723446c4aa2807235c9ba7cf\n",
      "ClearML running in offline mode, session stored in /Users/karl/.clearml/cache/offline/offline-a4971919723446c4aa2807235c9ba7cf\n",
      "ClearML Monitor: GPU monitoring failed getting GPU reading, switching off GPU monitoring\n"
     ]
    },
    {
     "name": "stderr",
     "output_type": "stream",
     "text": [
      "[I 2025-01-13 16:17:43,425] Trial 140 finished with values: [1165450.0, 16.770283466666665] and parameters: {'a': 322, 'b': 301, 'd': 483}.\n"
     ]
    },
    {
     "name": "stdout",
     "output_type": "stream",
     "text": [
      "ClearML Task: Offline session stored in /Users/karl/.clearml/cache/offline/offline-a4971919723446c4aa2807235c9ba7cf.zip\n",
      "ClearML Task: created new task id=offline-01ab016d4d614921abb99c5a587c4858\n",
      "ClearML running in offline mode, session stored in /Users/karl/.clearml/cache/offline/offline-01ab016d4d614921abb99c5a587c4858\n",
      "ClearML Monitor: GPU monitoring failed getting GPU reading, switching off GPU monitoring\n"
     ]
    },
    {
     "name": "stderr",
     "output_type": "stream",
     "text": [
      "[I 2025-01-13 16:18:13,585] Trial 141 finished with values: [1171400.0, 15.382510766666666] and parameters: {'a': 364, 'b': 176, 'd': 164}.\n"
     ]
    },
    {
     "name": "stdout",
     "output_type": "stream",
     "text": [
      "ClearML Task: Offline session stored in /Users/karl/.clearml/cache/offline/offline-01ab016d4d614921abb99c5a587c4858.zip\n",
      "ClearML Task: created new task id=offline-c34912397b7c4d2a8fc27f375227d928\n",
      "ClearML running in offline mode, session stored in /Users/karl/.clearml/cache/offline/offline-c34912397b7c4d2a8fc27f375227d928\n",
      "ClearML Monitor: GPU monitoring failed getting GPU reading, switching off GPU monitoring\n"
     ]
    },
    {
     "name": "stderr",
     "output_type": "stream",
     "text": [
      "[I 2025-01-13 16:18:42,596] Trial 142 finished with values: [1156480.0, 7.289775983333333] and parameters: {'a': 15, 'b': 431, 'd': 124}.\n"
     ]
    },
    {
     "name": "stdout",
     "output_type": "stream",
     "text": [
      "ClearML Task: Offline session stored in /Users/karl/.clearml/cache/offline/offline-c34912397b7c4d2a8fc27f375227d928.zip\n",
      "ClearML Task: created new task id=offline-9d53ce1c618049e9a4a04f46dd7bd0f3\n",
      "ClearML running in offline mode, session stored in /Users/karl/.clearml/cache/offline/offline-9d53ce1c618049e9a4a04f46dd7bd0f3\n",
      "ClearML Monitor: GPU monitoring failed getting GPU reading, switching off GPU monitoring\n"
     ]
    },
    {
     "name": "stderr",
     "output_type": "stream",
     "text": [
      "[I 2025-01-13 16:19:13,672] Trial 143 finished with values: [1171680.0, 15.3348405] and parameters: {'a': 409, 'b': 59, 'd': 264}.\n"
     ]
    },
    {
     "name": "stdout",
     "output_type": "stream",
     "text": [
      "ClearML Task: Offline session stored in /Users/karl/.clearml/cache/offline/offline-9d53ce1c618049e9a4a04f46dd7bd0f3.zip\n",
      "ClearML Task: created new task id=offline-b5ec6c0bef3f4e8e88edf0a673442cca\n",
      "ClearML running in offline mode, session stored in /Users/karl/.clearml/cache/offline/offline-b5ec6c0bef3f4e8e88edf0a673442cca\n",
      "ClearML Monitor: GPU monitoring failed getting GPU reading, switching off GPU monitoring\n"
     ]
    },
    {
     "name": "stderr",
     "output_type": "stream",
     "text": [
      "[I 2025-01-13 16:19:44,369] Trial 144 finished with values: [1167100.0, 16.412884366666667] and parameters: {'a': 476, 'b': 498, 'd': 278}.\n"
     ]
    },
    {
     "name": "stdout",
     "output_type": "stream",
     "text": [
      "ClearML Task: Offline session stored in /Users/karl/.clearml/cache/offline/offline-b5ec6c0bef3f4e8e88edf0a673442cca.zip\n",
      "ClearML Task: created new task id=offline-24ed73e4bf9a4f11a8897df232d03291\n",
      "ClearML running in offline mode, session stored in /Users/karl/.clearml/cache/offline/offline-24ed73e4bf9a4f11a8897df232d03291\n",
      "ClearML Monitor: GPU monitoring failed getting GPU reading, switching off GPU monitoring\n"
     ]
    },
    {
     "name": "stderr",
     "output_type": "stream",
     "text": [
      "[I 2025-01-13 16:20:14,660] Trial 145 finished with values: [1171400.0, 15.382510766666666] and parameters: {'a': 471, 'b': 282, 'd': 23}.\n"
     ]
    },
    {
     "name": "stdout",
     "output_type": "stream",
     "text": [
      "ClearML Task: Offline session stored in /Users/karl/.clearml/cache/offline/offline-24ed73e4bf9a4f11a8897df232d03291.zip\n",
      "ClearML Task: created new task id=offline-16d2bffc34164285ac5f3a5474e127dc\n",
      "ClearML running in offline mode, session stored in /Users/karl/.clearml/cache/offline/offline-16d2bffc34164285ac5f3a5474e127dc\n",
      "ClearML Monitor: GPU monitoring failed getting GPU reading, switching off GPU monitoring\n"
     ]
    },
    {
     "name": "stderr",
     "output_type": "stream",
     "text": [
      "[I 2025-01-13 16:20:44,468] Trial 146 finished with values: [1184015.0, 24.561377116666666] and parameters: {'a': 155, 'b': 13, 'd': 378}.\n"
     ]
    },
    {
     "name": "stdout",
     "output_type": "stream",
     "text": [
      "ClearML Task: Offline session stored in /Users/karl/.clearml/cache/offline/offline-16d2bffc34164285ac5f3a5474e127dc.zip\n",
      "ClearML Task: created new task id=offline-c57e433a285248a78425e17d56561eb0\n",
      "ClearML running in offline mode, session stored in /Users/karl/.clearml/cache/offline/offline-c57e433a285248a78425e17d56561eb0\n",
      "ClearML Monitor: GPU monitoring failed getting GPU reading, switching off GPU monitoring\n"
     ]
    },
    {
     "name": "stderr",
     "output_type": "stream",
     "text": [
      "[I 2025-01-13 16:21:14,901] Trial 147 finished with values: [1164695.0, 17.241450316666665] and parameters: {'a': 254, 'b': 491, 'd': 335}.\n"
     ]
    },
    {
     "name": "stdout",
     "output_type": "stream",
     "text": [
      "ClearML Task: Offline session stored in /Users/karl/.clearml/cache/offline/offline-c57e433a285248a78425e17d56561eb0.zip\n",
      "ClearML Task: created new task id=offline-4ecbdc5e7614485abae4e56702195216\n",
      "ClearML running in offline mode, session stored in /Users/karl/.clearml/cache/offline/offline-4ecbdc5e7614485abae4e56702195216\n",
      "ClearML Monitor: GPU monitoring failed getting GPU reading, switching off GPU monitoring\n"
     ]
    },
    {
     "name": "stderr",
     "output_type": "stream",
     "text": [
      "[I 2025-01-13 16:21:43,374] Trial 148 finished with values: [1141985.0, 4.90922325] and parameters: {'a': 1, 'b': 241, 'd': 24}.\n"
     ]
    },
    {
     "name": "stdout",
     "output_type": "stream",
     "text": [
      "ClearML Task: Offline session stored in /Users/karl/.clearml/cache/offline/offline-4ecbdc5e7614485abae4e56702195216.zip\n",
      "ClearML Task: created new task id=offline-ba0826c164a246a3905698ac5bbf9362\n",
      "ClearML running in offline mode, session stored in /Users/karl/.clearml/cache/offline/offline-ba0826c164a246a3905698ac5bbf9362\n",
      "ClearML Monitor: GPU monitoring failed getting GPU reading, switching off GPU monitoring\n"
     ]
    },
    {
     "name": "stderr",
     "output_type": "stream",
     "text": [
      "[I 2025-01-13 16:22:11,924] Trial 149 finished with values: [1154255.0, 7.286604733333333] and parameters: {'a': 16, 'b': 391, 'd': 272}.\n"
     ]
    },
    {
     "name": "stdout",
     "output_type": "stream",
     "text": [
      "ClearML Task: Offline session stored in /Users/karl/.clearml/cache/offline/offline-ba0826c164a246a3905698ac5bbf9362.zip\n",
      "ClearML Task: created new task id=offline-530507a5a9cb4b75a2579717ed010f08\n",
      "ClearML running in offline mode, session stored in /Users/karl/.clearml/cache/offline/offline-530507a5a9cb4b75a2579717ed010f08\n",
      "ClearML Monitor: GPU monitoring failed getting GPU reading, switching off GPU monitoring\n"
     ]
    },
    {
     "name": "stderr",
     "output_type": "stream",
     "text": [
      "[I 2025-01-13 16:22:40,564] Trial 150 finished with values: [1148060.0, 6.46677835] and parameters: {'a': 9, 'b': 473, 'd': 138}.\n"
     ]
    },
    {
     "name": "stdout",
     "output_type": "stream",
     "text": [
      "ClearML Task: Offline session stored in /Users/karl/.clearml/cache/offline/offline-530507a5a9cb4b75a2579717ed010f08.zip\n",
      "ClearML Task: created new task id=offline-0ade5c9c40c54484960bf879b4dceffd\n",
      "ClearML running in offline mode, session stored in /Users/karl/.clearml/cache/offline/offline-0ade5c9c40c54484960bf879b4dceffd\n",
      "ClearML Monitor: GPU monitoring failed getting GPU reading, switching off GPU monitoring\n"
     ]
    },
    {
     "name": "stderr",
     "output_type": "stream",
     "text": [
      "[I 2025-01-13 16:23:09,266] Trial 151 finished with values: [1165785.0, 8.894572083333333] and parameters: {'a': 17, 'b': 208, 'd': 19}.\n"
     ]
    },
    {
     "name": "stdout",
     "output_type": "stream",
     "text": [
      "ClearML Task: Offline session stored in /Users/karl/.clearml/cache/offline/offline-0ade5c9c40c54484960bf879b4dceffd.zip\n",
      "ClearML Task: created new task id=offline-4c6f4b5ffbe14769af4b753d92d9aa29\n",
      "ClearML running in offline mode, session stored in /Users/karl/.clearml/cache/offline/offline-4c6f4b5ffbe14769af4b753d92d9aa29\n",
      "ClearML Monitor: GPU monitoring failed getting GPU reading, switching off GPU monitoring\n"
     ]
    },
    {
     "name": "stderr",
     "output_type": "stream",
     "text": [
      "[I 2025-01-13 16:23:40,945] Trial 152 finished with values: [1162755.0, 15.658109] and parameters: {'a': 149, 'b': 394, 'd': 103}.\n"
     ]
    },
    {
     "name": "stdout",
     "output_type": "stream",
     "text": [
      "ClearML Task: Offline session stored in /Users/karl/.clearml/cache/offline/offline-4c6f4b5ffbe14769af4b753d92d9aa29.zip\n",
      "ClearML Task: created new task id=offline-5694e9c614f94548b1ef16eb85f17d67\n",
      "ClearML running in offline mode, session stored in /Users/karl/.clearml/cache/offline/offline-5694e9c614f94548b1ef16eb85f17d67\n",
      "ClearML Monitor: GPU monitoring failed getting GPU reading, switching off GPU monitoring\n"
     ]
    },
    {
     "name": "stderr",
     "output_type": "stream",
     "text": [
      "[I 2025-01-13 16:24:09,409] Trial 153 finished with values: [1140550.0, 5.679827666666667] and parameters: {'a': 5, 'b': 462, 'd': 212}.\n"
     ]
    },
    {
     "name": "stdout",
     "output_type": "stream",
     "text": [
      "ClearML Task: Offline session stored in /Users/karl/.clearml/cache/offline/offline-5694e9c614f94548b1ef16eb85f17d67.zip\n",
      "ClearML Task: created new task id=offline-a6118f8b120c44bcbba7cfc13feaf081\n",
      "ClearML running in offline mode, session stored in /Users/karl/.clearml/cache/offline/offline-a6118f8b120c44bcbba7cfc13feaf081\n",
      "ClearML Monitor: GPU monitoring failed getting GPU reading, switching off GPU monitoring\n"
     ]
    },
    {
     "name": "stderr",
     "output_type": "stream",
     "text": [
      "[I 2025-01-13 16:24:38,997] Trial 154 finished with values: [1148035.0, 6.410036383333334] and parameters: {'a': 9, 'b': 414, 'd': 214}.\n"
     ]
    },
    {
     "name": "stdout",
     "output_type": "stream",
     "text": [
      "ClearML Task: Offline session stored in /Users/karl/.clearml/cache/offline/offline-a6118f8b120c44bcbba7cfc13feaf081.zip\n",
      "ClearML Task: created new task id=offline-bc5962c247c148f4a0c7fd2aca566b3e\n",
      "ClearML running in offline mode, session stored in /Users/karl/.clearml/cache/offline/offline-bc5962c247c148f4a0c7fd2aca566b3e\n",
      "ClearML Monitor: GPU monitoring failed getting GPU reading, switching off GPU monitoring\n"
     ]
    },
    {
     "name": "stderr",
     "output_type": "stream",
     "text": [
      "[I 2025-01-13 16:25:09,548] Trial 155 finished with values: [1158135.0, 17.134645583333334] and parameters: {'a': 141, 'b': 479, 'd': 251}.\n"
     ]
    },
    {
     "name": "stdout",
     "output_type": "stream",
     "text": [
      "ClearML Task: Offline session stored in /Users/karl/.clearml/cache/offline/offline-bc5962c247c148f4a0c7fd2aca566b3e.zip\n",
      "ClearML Task: created new task id=offline-96185dc54a0d4b3f9a1f5132d4c656a5\n",
      "ClearML running in offline mode, session stored in /Users/karl/.clearml/cache/offline/offline-96185dc54a0d4b3f9a1f5132d4c656a5\n",
      "ClearML Monitor: GPU monitoring failed getting GPU reading, switching off GPU monitoring\n"
     ]
    },
    {
     "name": "stderr",
     "output_type": "stream",
     "text": [
      "[I 2025-01-13 16:25:41,130] Trial 156 finished with values: [1171680.0, 15.3348405] and parameters: {'a': 324, 'b': 77, 'd': 342}.\n"
     ]
    },
    {
     "name": "stdout",
     "output_type": "stream",
     "text": [
      "ClearML Task: Offline session stored in /Users/karl/.clearml/cache/offline/offline-96185dc54a0d4b3f9a1f5132d4c656a5.zip\n",
      "ClearML Task: created new task id=offline-fe67b22020dd4245b3c6e24534a302db\n",
      "ClearML running in offline mode, session stored in /Users/karl/.clearml/cache/offline/offline-fe67b22020dd4245b3c6e24534a302db\n",
      "ClearML Monitor: GPU monitoring failed getting GPU reading, switching off GPU monitoring\n"
     ]
    },
    {
     "name": "stderr",
     "output_type": "stream",
     "text": [
      "[I 2025-01-13 16:26:10,795] Trial 157 finished with values: [1171905.0, 8.238943133333333] and parameters: {'a': 31, 'b': 435, 'd': 119}.\n"
     ]
    },
    {
     "name": "stdout",
     "output_type": "stream",
     "text": [
      "ClearML Task: Offline session stored in /Users/karl/.clearml/cache/offline/offline-fe67b22020dd4245b3c6e24534a302db.zip\n",
      "ClearML Task: created new task id=offline-2a531f94c9e4474aa77efa59f77841c2\n",
      "ClearML running in offline mode, session stored in /Users/karl/.clearml/cache/offline/offline-2a531f94c9e4474aa77efa59f77841c2\n",
      "ClearML Monitor: GPU monitoring failed getting GPU reading, switching off GPU monitoring\n"
     ]
    },
    {
     "name": "stderr",
     "output_type": "stream",
     "text": [
      "[I 2025-01-13 16:26:37,953] Trial 158 finished with values: [1135805.0, 5.20789775] and parameters: {'a': 4, 'b': 436, 'd': 206}.\n"
     ]
    },
    {
     "name": "stdout",
     "output_type": "stream",
     "text": [
      "ClearML Task: Offline session stored in /Users/karl/.clearml/cache/offline/offline-2a531f94c9e4474aa77efa59f77841c2.zip\n",
      "ClearML Task: created new task id=offline-1a8113fcee0b43a39ffb96dcde648098\n",
      "ClearML running in offline mode, session stored in /Users/karl/.clearml/cache/offline/offline-1a8113fcee0b43a39ffb96dcde648098\n",
      "ClearML Monitor: GPU monitoring failed getting GPU reading, switching off GPU monitoring\n"
     ]
    },
    {
     "name": "stderr",
     "output_type": "stream",
     "text": [
      "[I 2025-01-13 16:27:08,760] Trial 159 finished with values: [1163740.0, 15.805535333333333] and parameters: {'a': 189, 'b': 327, 'd': 404}.\n"
     ]
    },
    {
     "name": "stdout",
     "output_type": "stream",
     "text": [
      "ClearML Task: Offline session stored in /Users/karl/.clearml/cache/offline/offline-1a8113fcee0b43a39ffb96dcde648098.zip\n",
      "ClearML Task: created new task id=offline-a4ed3a8133154e57a5238de2eb8bc0e3\n",
      "ClearML running in offline mode, session stored in /Users/karl/.clearml/cache/offline/offline-a4ed3a8133154e57a5238de2eb8bc0e3\n",
      "ClearML Monitor: GPU monitoring failed getting GPU reading, switching off GPU monitoring\n"
     ]
    },
    {
     "name": "stderr",
     "output_type": "stream",
     "text": [
      "[I 2025-01-13 16:27:40,571] Trial 160 finished with values: [1166230.0, 16.95497556666667] and parameters: {'a': 357, 'b': 484, 'd': 40}.\n"
     ]
    },
    {
     "name": "stdout",
     "output_type": "stream",
     "text": [
      "ClearML Task: Offline session stored in /Users/karl/.clearml/cache/offline/offline-a4ed3a8133154e57a5238de2eb8bc0e3.zip\n",
      "ClearML Task: created new task id=offline-f22afa0cbf414f449c35662a63ae8fb8\n",
      "ClearML running in offline mode, session stored in /Users/karl/.clearml/cache/offline/offline-f22afa0cbf414f449c35662a63ae8fb8\n",
      "ClearML Monitor: GPU monitoring failed getting GPU reading, switching off GPU monitoring\n"
     ]
    },
    {
     "name": "stderr",
     "output_type": "stream",
     "text": [
      "[I 2025-01-13 16:28:11,454] Trial 161 finished with values: [1160250.0, 12.161743283333333] and parameters: {'a': 33, 'b': 250, 'd': 242}.\n"
     ]
    },
    {
     "name": "stdout",
     "output_type": "stream",
     "text": [
      "ClearML Task: Offline session stored in /Users/karl/.clearml/cache/offline/offline-f22afa0cbf414f449c35662a63ae8fb8.zip\n",
      "ClearML Task: created new task id=offline-57f9817f004e4d698d17e2203c576cad\n",
      "ClearML running in offline mode, session stored in /Users/karl/.clearml/cache/offline/offline-57f9817f004e4d698d17e2203c576cad\n",
      "ClearML Monitor: GPU monitoring failed getting GPU reading, switching off GPU monitoring\n"
     ]
    },
    {
     "name": "stderr",
     "output_type": "stream",
     "text": [
      "[I 2025-01-13 16:28:40,428] Trial 162 finished with values: [1168245.0, 8.220794633333334] and parameters: {'a': 33, 'b': 484, 'd': 154}.\n"
     ]
    },
    {
     "name": "stdout",
     "output_type": "stream",
     "text": [
      "ClearML Task: Offline session stored in /Users/karl/.clearml/cache/offline/offline-57f9817f004e4d698d17e2203c576cad.zip\n",
      "ClearML Task: created new task id=offline-6bcd23054d9745cd8ad907c6c2bfe635\n",
      "ClearML running in offline mode, session stored in /Users/karl/.clearml/cache/offline/offline-6bcd23054d9745cd8ad907c6c2bfe635\n",
      "ClearML Monitor: GPU monitoring failed getting GPU reading, switching off GPU monitoring\n"
     ]
    },
    {
     "name": "stderr",
     "output_type": "stream",
     "text": [
      "[I 2025-01-13 16:29:08,419] Trial 163 finished with values: [1148010.0, 6.760844583333333] and parameters: {'a': 12, 'b': 416, 'd': 138}.\n"
     ]
    },
    {
     "name": "stdout",
     "output_type": "stream",
     "text": [
      "ClearML Task: Offline session stored in /Users/karl/.clearml/cache/offline/offline-6bcd23054d9745cd8ad907c6c2bfe635.zip\n",
      "ClearML Task: created new task id=offline-14df1f09d01b4dc2b5db8bb71f40d8fb\n",
      "ClearML running in offline mode, session stored in /Users/karl/.clearml/cache/offline/offline-14df1f09d01b4dc2b5db8bb71f40d8fb\n",
      "ClearML Monitor: GPU monitoring failed getting GPU reading, switching off GPU monitoring\n"
     ]
    },
    {
     "name": "stderr",
     "output_type": "stream",
     "text": [
      "[I 2025-01-13 16:29:36,731] Trial 164 finished with values: [1120670.0, 4.912189983333334] and parameters: {'a': 1, 'b': 472, 'd': 141}.\n"
     ]
    },
    {
     "name": "stdout",
     "output_type": "stream",
     "text": [
      "ClearML Task: Offline session stored in /Users/karl/.clearml/cache/offline/offline-14df1f09d01b4dc2b5db8bb71f40d8fb.zip\n",
      "ClearML Task: created new task id=offline-5447d53d966a41229b77d423b11040de\n",
      "ClearML running in offline mode, session stored in /Users/karl/.clearml/cache/offline/offline-5447d53d966a41229b77d423b11040de\n",
      "ClearML Monitor: GPU monitoring failed getting GPU reading, switching off GPU monitoring\n"
     ]
    },
    {
     "name": "stderr",
     "output_type": "stream",
     "text": [
      "[I 2025-01-13 16:30:05,653] Trial 165 finished with values: [1152900.0, 9.42761065] and parameters: {'a': 50, 'b': 492, 'd': 135}.\n"
     ]
    },
    {
     "name": "stdout",
     "output_type": "stream",
     "text": [
      "ClearML Task: Offline session stored in /Users/karl/.clearml/cache/offline/offline-5447d53d966a41229b77d423b11040de.zip\n",
      "ClearML Task: created new task id=offline-5731d5e8bfa84bc9bec8aea5745a52ea\n",
      "ClearML running in offline mode, session stored in /Users/karl/.clearml/cache/offline/offline-5731d5e8bfa84bc9bec8aea5745a52ea\n",
      "ClearML Monitor: GPU monitoring failed getting GPU reading, switching off GPU monitoring\n"
     ]
    },
    {
     "name": "stderr",
     "output_type": "stream",
     "text": [
      "[I 2025-01-13 16:30:34,447] Trial 166 finished with values: [1153855.0, 7.1755098] and parameters: {'a': 18, 'b': 491, 'd': 172}.\n"
     ]
    },
    {
     "name": "stdout",
     "output_type": "stream",
     "text": [
      "ClearML Task: Offline session stored in /Users/karl/.clearml/cache/offline/offline-5731d5e8bfa84bc9bec8aea5745a52ea.zip\n",
      "ClearML Task: created new task id=offline-dbafcd72ebce42c8b322692bc36863a0\n",
      "ClearML running in offline mode, session stored in /Users/karl/.clearml/cache/offline/offline-dbafcd72ebce42c8b322692bc36863a0\n",
      "ClearML Monitor: GPU monitoring failed getting GPU reading, switching off GPU monitoring\n"
     ]
    },
    {
     "name": "stderr",
     "output_type": "stream",
     "text": [
      "[I 2025-01-13 16:31:02,752] Trial 167 finished with values: [1120670.0, 4.912189983333334] and parameters: {'a': 1, 'b': 411, 'd': 147}.\n"
     ]
    },
    {
     "name": "stdout",
     "output_type": "stream",
     "text": [
      "ClearML Task: Offline session stored in /Users/karl/.clearml/cache/offline/offline-dbafcd72ebce42c8b322692bc36863a0.zip\n",
      "ClearML Task: created new task id=offline-00d9c02f2a5743be88cee3d957188969\n",
      "ClearML running in offline mode, session stored in /Users/karl/.clearml/cache/offline/offline-00d9c02f2a5743be88cee3d957188969\n",
      "ClearML Monitor: GPU monitoring failed getting GPU reading, switching off GPU monitoring\n"
     ]
    },
    {
     "name": "stderr",
     "output_type": "stream",
     "text": [
      "[I 2025-01-13 16:31:34,444] Trial 168 finished with values: [1156045.0, 16.503478666666666] and parameters: {'a': 268, 'b': 230, 'd': 319}.\n"
     ]
    },
    {
     "name": "stdout",
     "output_type": "stream",
     "text": [
      "ClearML Task: Offline session stored in /Users/karl/.clearml/cache/offline/offline-00d9c02f2a5743be88cee3d957188969.zip\n",
      "ClearML Task: created new task id=offline-9ac51965830d45318118b2530ff60454\n",
      "ClearML running in offline mode, session stored in /Users/karl/.clearml/cache/offline/offline-9ac51965830d45318118b2530ff60454\n",
      "ClearML Monitor: GPU monitoring failed getting GPU reading, switching off GPU monitoring\n"
     ]
    },
    {
     "name": "stderr",
     "output_type": "stream",
     "text": [
      "[I 2025-01-13 16:32:06,010] Trial 169 finished with values: [1171680.0, 15.3348405] and parameters: {'a': 194, 'b': 89, 'd': 245}.\n"
     ]
    },
    {
     "name": "stdout",
     "output_type": "stream",
     "text": [
      "ClearML Task: Offline session stored in /Users/karl/.clearml/cache/offline/offline-9ac51965830d45318118b2530ff60454.zip\n",
      "ClearML Task: created new task id=offline-b442090253354b698e7e732794803aa7\n",
      "ClearML running in offline mode, session stored in /Users/karl/.clearml/cache/offline/offline-b442090253354b698e7e732794803aa7\n",
      "ClearML Monitor: GPU monitoring failed getting GPU reading, switching off GPU monitoring\n"
     ]
    },
    {
     "name": "stderr",
     "output_type": "stream",
     "text": [
      "[I 2025-01-13 16:32:36,972] Trial 170 finished with values: [1164595.0, 16.232889183333334] and parameters: {'a': 310, 'b': 466, 'd': 221}.\n"
     ]
    },
    {
     "name": "stdout",
     "output_type": "stream",
     "text": [
      "ClearML Task: Offline session stored in /Users/karl/.clearml/cache/offline/offline-b442090253354b698e7e732794803aa7.zip\n",
      "ClearML Task: created new task id=offline-decb23102325443499ef1eb91c66fccb\n",
      "ClearML running in offline mode, session stored in /Users/karl/.clearml/cache/offline/offline-decb23102325443499ef1eb91c66fccb\n",
      "ClearML Monitor: GPU monitoring failed getting GPU reading, switching off GPU monitoring\n"
     ]
    },
    {
     "name": "stderr",
     "output_type": "stream",
     "text": [
      "[I 2025-01-13 16:33:09,577] Trial 171 finished with values: [1154880.0, 14.6186022] and parameters: {'a': 32, 'b': 185, 'd': 320}.\n"
     ]
    },
    {
     "name": "stdout",
     "output_type": "stream",
     "text": [
      "ClearML Task: Offline session stored in /Users/karl/.clearml/cache/offline/offline-decb23102325443499ef1eb91c66fccb.zip\n",
      "ClearML Task: created new task id=offline-80f4efe55c2d45d2b25c0e0a702d7537\n",
      "ClearML running in offline mode, session stored in /Users/karl/.clearml/cache/offline/offline-80f4efe55c2d45d2b25c0e0a702d7537\n",
      "ClearML Monitor: GPU monitoring failed getting GPU reading, switching off GPU monitoring\n"
     ]
    },
    {
     "name": "stderr",
     "output_type": "stream",
     "text": [
      "[I 2025-01-13 16:33:40,057] Trial 172 finished with values: [1160690.0, 15.854918099999999] and parameters: {'a': 326, 'b': 433, 'd': 414}.\n"
     ]
    },
    {
     "name": "stdout",
     "output_type": "stream",
     "text": [
      "ClearML Task: Offline session stored in /Users/karl/.clearml/cache/offline/offline-80f4efe55c2d45d2b25c0e0a702d7537.zip\n",
      "ClearML Task: created new task id=offline-7c76b29f4f424082a08950b11a0f88d1\n",
      "ClearML running in offline mode, session stored in /Users/karl/.clearml/cache/offline/offline-7c76b29f4f424082a08950b11a0f88d1\n",
      "ClearML Monitor: GPU monitoring failed getting GPU reading, switching off GPU monitoring\n"
     ]
    },
    {
     "name": "stderr",
     "output_type": "stream",
     "text": [
      "[I 2025-01-13 16:34:12,460] Trial 173 finished with values: [1186470.0, 20.464970766666667] and parameters: {'a': 265, 'b': 11, 'd': 204}.\n"
     ]
    },
    {
     "name": "stdout",
     "output_type": "stream",
     "text": [
      "ClearML Task: Offline session stored in /Users/karl/.clearml/cache/offline/offline-7c76b29f4f424082a08950b11a0f88d1.zip\n",
      "ClearML Task: created new task id=offline-9757300381c7471d8a7d09d3689532c2\n",
      "ClearML running in offline mode, session stored in /Users/karl/.clearml/cache/offline/offline-9757300381c7471d8a7d09d3689532c2\n",
      "ClearML Monitor: GPU monitoring failed getting GPU reading, switching off GPU monitoring\n"
     ]
    },
    {
     "name": "stderr",
     "output_type": "stream",
     "text": [
      "[I 2025-01-13 16:34:43,918] Trial 174 finished with values: [1160635.0, 16.60915795] and parameters: {'a': 130, 'b': 402, 'd': 466}.\n"
     ]
    },
    {
     "name": "stdout",
     "output_type": "stream",
     "text": [
      "ClearML Task: Offline session stored in /Users/karl/.clearml/cache/offline/offline-9757300381c7471d8a7d09d3689532c2.zip\n",
      "ClearML Task: created new task id=offline-bf3729802bcb4a07b5725ef7125b751a\n",
      "ClearML running in offline mode, session stored in /Users/karl/.clearml/cache/offline/offline-bf3729802bcb4a07b5725ef7125b751a\n",
      "ClearML Monitor: GPU monitoring failed getting GPU reading, switching off GPU monitoring\n"
     ]
    },
    {
     "name": "stderr",
     "output_type": "stream",
     "text": [
      "[I 2025-01-13 16:35:14,563] Trial 175 finished with values: [1168900.0, 16.0140544] and parameters: {'a': 107, 'b': 127, 'd': 14}.\n"
     ]
    },
    {
     "name": "stdout",
     "output_type": "stream",
     "text": [
      "ClearML Task: Offline session stored in /Users/karl/.clearml/cache/offline/offline-bf3729802bcb4a07b5725ef7125b751a.zip\n",
      "ClearML Task: created new task id=offline-9590cf7d050640a0aec4b5ad2d416951\n",
      "ClearML running in offline mode, session stored in /Users/karl/.clearml/cache/offline/offline-9590cf7d050640a0aec4b5ad2d416951\n",
      "ClearML Monitor: GPU monitoring failed getting GPU reading, switching off GPU monitoring\n"
     ]
    },
    {
     "name": "stderr",
     "output_type": "stream",
     "text": [
      "[I 2025-01-13 16:35:45,771] Trial 176 finished with values: [1168775.0, 15.378610433333334] and parameters: {'a': 137, 'b': 164, 'd': 171}.\n"
     ]
    },
    {
     "name": "stdout",
     "output_type": "stream",
     "text": [
      "ClearML Task: Offline session stored in /Users/karl/.clearml/cache/offline/offline-9590cf7d050640a0aec4b5ad2d416951.zip\n",
      "ClearML Task: created new task id=offline-18b5d9c2914d46f6a3920244e401cc02\n",
      "ClearML running in offline mode, session stored in /Users/karl/.clearml/cache/offline/offline-18b5d9c2914d46f6a3920244e401cc02\n",
      "ClearML Monitor: GPU monitoring failed getting GPU reading, switching off GPU monitoring\n"
     ]
    },
    {
     "name": "stderr",
     "output_type": "stream",
     "text": [
      "[I 2025-01-13 16:36:18,339] Trial 177 finished with values: [1180675.0, 18.477368066666667] and parameters: {'a': 41, 'b': 25, 'd': 264}.\n"
     ]
    },
    {
     "name": "stdout",
     "output_type": "stream",
     "text": [
      "ClearML Task: Offline session stored in /Users/karl/.clearml/cache/offline/offline-18b5d9c2914d46f6a3920244e401cc02.zip\n",
      "ClearML Task: created new task id=offline-14eb041ec9924f13a3dcb62836c66b0c\n",
      "ClearML running in offline mode, session stored in /Users/karl/.clearml/cache/offline/offline-14eb041ec9924f13a3dcb62836c66b0c\n",
      "ClearML Monitor: GPU monitoring failed getting GPU reading, switching off GPU monitoring\n"
     ]
    },
    {
     "name": "stderr",
     "output_type": "stream",
     "text": [
      "[I 2025-01-13 16:36:50,189] Trial 178 finished with values: [1165450.0, 16.770283466666665] and parameters: {'a': 291, 'b': 281, 'd': 118}.\n"
     ]
    },
    {
     "name": "stdout",
     "output_type": "stream",
     "text": [
      "ClearML Task: Offline session stored in /Users/karl/.clearml/cache/offline/offline-14eb041ec9924f13a3dcb62836c66b0c.zip\n",
      "ClearML Task: created new task id=offline-78bf173f7e6a47a48df4f7219c0b5882\n",
      "ClearML running in offline mode, session stored in /Users/karl/.clearml/cache/offline/offline-78bf173f7e6a47a48df4f7219c0b5882\n",
      "ClearML Monitor: GPU monitoring failed getting GPU reading, switching off GPU monitoring\n"
     ]
    },
    {
     "name": "stderr",
     "output_type": "stream",
     "text": [
      "[I 2025-01-13 16:37:20,360] Trial 179 finished with values: [1146125.0, 5.94167305] and parameters: {'a': 5, 'b': 384, 'd': 135}.\n"
     ]
    },
    {
     "name": "stdout",
     "output_type": "stream",
     "text": [
      "ClearML Task: Offline session stored in /Users/karl/.clearml/cache/offline/offline-78bf173f7e6a47a48df4f7219c0b5882.zip\n",
      "ClearML Task: created new task id=offline-8bcde85a724c485fb949cab002eb87a1\n",
      "ClearML running in offline mode, session stored in /Users/karl/.clearml/cache/offline/offline-8bcde85a724c485fb949cab002eb87a1\n",
      "ClearML Monitor: GPU monitoring failed getting GPU reading, switching off GPU monitoring\n"
     ]
    },
    {
     "name": "stderr",
     "output_type": "stream",
     "text": [
      "[I 2025-01-13 16:37:49,934] Trial 180 finished with values: [1121845.0, 4.9526194666666665] and parameters: {'a': 2, 'b': 415, 'd': 190}.\n"
     ]
    },
    {
     "name": "stdout",
     "output_type": "stream",
     "text": [
      "ClearML Task: Offline session stored in /Users/karl/.clearml/cache/offline/offline-8bcde85a724c485fb949cab002eb87a1.zip\n",
      "ClearML Task: created new task id=offline-7ee728fe64f247bc8ac435b7325a000d\n",
      "ClearML running in offline mode, session stored in /Users/karl/.clearml/cache/offline/offline-7ee728fe64f247bc8ac435b7325a000d\n",
      "ClearML Monitor: GPU monitoring failed getting GPU reading, switching off GPU monitoring\n"
     ]
    },
    {
     "name": "stderr",
     "output_type": "stream",
     "text": [
      "[I 2025-01-13 16:38:18,195] Trial 181 finished with values: [1144020.0, 6.358692316666667] and parameters: {'a': 7, 'b': 427, 'd': 172}.\n"
     ]
    },
    {
     "name": "stdout",
     "output_type": "stream",
     "text": [
      "ClearML Task: Offline session stored in /Users/karl/.clearml/cache/offline/offline-7ee728fe64f247bc8ac435b7325a000d.zip\n",
      "ClearML Task: created new task id=offline-3c7c8dfe56d942aea98ae2bbbad85193\n",
      "ClearML running in offline mode, session stored in /Users/karl/.clearml/cache/offline/offline-3c7c8dfe56d942aea98ae2bbbad85193\n",
      "ClearML Monitor: GPU monitoring failed getting GPU reading, switching off GPU monitoring\n"
     ]
    },
    {
     "name": "stderr",
     "output_type": "stream",
     "text": [
      "[I 2025-01-13 16:38:49,784] Trial 182 finished with values: [1156045.0, 16.503478666666666] and parameters: {'a': 481, 'b': 422, 'd': 358}.\n"
     ]
    },
    {
     "name": "stdout",
     "output_type": "stream",
     "text": [
      "ClearML Task: Offline session stored in /Users/karl/.clearml/cache/offline/offline-3c7c8dfe56d942aea98ae2bbbad85193.zip\n",
      "ClearML Task: created new task id=offline-091283d9291549d580a7e397dea85edc\n",
      "ClearML running in offline mode, session stored in /Users/karl/.clearml/cache/offline/offline-091283d9291549d580a7e397dea85edc\n",
      "ClearML Monitor: GPU monitoring failed getting GPU reading, switching off GPU monitoring\n"
     ]
    },
    {
     "name": "stderr",
     "output_type": "stream",
     "text": [
      "[I 2025-01-13 16:39:19,500] Trial 183 finished with values: [1133640.0, 5.035870916666667] and parameters: {'a': 3, 'b': 451, 'd': 182}.\n"
     ]
    },
    {
     "name": "stdout",
     "output_type": "stream",
     "text": [
      "ClearML Task: Offline session stored in /Users/karl/.clearml/cache/offline/offline-091283d9291549d580a7e397dea85edc.zip\n",
      "ClearML Task: created new task id=offline-be07e3486b7d44038eb7e8c43bbc7a3f\n",
      "ClearML running in offline mode, session stored in /Users/karl/.clearml/cache/offline/offline-be07e3486b7d44038eb7e8c43bbc7a3f\n",
      "ClearML Monitor: GPU monitoring failed getting GPU reading, switching off GPU monitoring\n"
     ]
    },
    {
     "name": "stderr",
     "output_type": "stream",
     "text": [
      "[I 2025-01-13 16:39:50,798] Trial 184 finished with values: [1167100.0, 16.412884366666667] and parameters: {'a': 418, 'b': 425, 'd': 171}.\n"
     ]
    },
    {
     "name": "stdout",
     "output_type": "stream",
     "text": [
      "ClearML Task: Offline session stored in /Users/karl/.clearml/cache/offline/offline-be07e3486b7d44038eb7e8c43bbc7a3f.zip\n",
      "ClearML Task: created new task id=offline-b36a082411494f9a926db1ce14f81e52\n",
      "ClearML running in offline mode, session stored in /Users/karl/.clearml/cache/offline/offline-b36a082411494f9a926db1ce14f81e52\n",
      "ClearML Monitor: GPU monitoring failed getting GPU reading, switching off GPU monitoring\n"
     ]
    },
    {
     "name": "stderr",
     "output_type": "stream",
     "text": [
      "[I 2025-01-13 16:40:21,465] Trial 185 finished with values: [1171400.0, 15.382510766666666] and parameters: {'a': 256, 'b': 167, 'd': 9}.\n"
     ]
    },
    {
     "name": "stdout",
     "output_type": "stream",
     "text": [
      "ClearML Task: Offline session stored in /Users/karl/.clearml/cache/offline/offline-b36a082411494f9a926db1ce14f81e52.zip\n",
      "ClearML Task: created new task id=offline-f670f200aa554008b7c53201f65660e6\n",
      "ClearML running in offline mode, session stored in /Users/karl/.clearml/cache/offline/offline-f670f200aa554008b7c53201f65660e6\n",
      "ClearML Monitor: GPU monitoring failed getting GPU reading, switching off GPU monitoring\n"
     ]
    },
    {
     "name": "stderr",
     "output_type": "stream",
     "text": [
      "[I 2025-01-13 16:40:50,453] Trial 186 finished with values: [1138050.0, 5.225842583333333] and parameters: {'a': 4, 'b': 391, 'd': 130}.\n"
     ]
    },
    {
     "name": "stdout",
     "output_type": "stream",
     "text": [
      "ClearML Task: Offline session stored in /Users/karl/.clearml/cache/offline/offline-f670f200aa554008b7c53201f65660e6.zip\n",
      "ClearML Task: created new task id=offline-d4484f1482c84947bca5900e652015d6\n",
      "ClearML running in offline mode, session stored in /Users/karl/.clearml/cache/offline/offline-d4484f1482c84947bca5900e652015d6\n",
      "ClearML Monitor: GPU monitoring failed getting GPU reading, switching off GPU monitoring\n"
     ]
    },
    {
     "name": "stderr",
     "output_type": "stream",
     "text": [
      "[I 2025-01-13 16:41:18,958] Trial 187 finished with values: [1117530.0, 4.923538416666667] and parameters: {'a': 2, 'b': 488, 'd': 163}.\n"
     ]
    },
    {
     "name": "stdout",
     "output_type": "stream",
     "text": [
      "ClearML Task: Offline session stored in /Users/karl/.clearml/cache/offline/offline-d4484f1482c84947bca5900e652015d6.zip\n",
      "ClearML Task: created new task id=offline-a6a48d10d9ba4b85b31365c4f944d6f2\n",
      "ClearML running in offline mode, session stored in /Users/karl/.clearml/cache/offline/offline-a6a48d10d9ba4b85b31365c4f944d6f2\n",
      "ClearML Monitor: GPU monitoring failed getting GPU reading, switching off GPU monitoring\n"
     ]
    },
    {
     "name": "stderr",
     "output_type": "stream",
     "text": [
      "[I 2025-01-13 16:41:48,146] Trial 188 finished with values: [1168535.0, 8.343433266666667] and parameters: {'a': 36, 'b': 500, 'd': 142}.\n"
     ]
    },
    {
     "name": "stdout",
     "output_type": "stream",
     "text": [
      "ClearML Task: Offline session stored in /Users/karl/.clearml/cache/offline/offline-a6a48d10d9ba4b85b31365c4f944d6f2.zip\n",
      "ClearML Task: created new task id=offline-cb47887f321e4170a9f547ffa6b212eb\n",
      "ClearML running in offline mode, session stored in /Users/karl/.clearml/cache/offline/offline-cb47887f321e4170a9f547ffa6b212eb\n",
      "ClearML Monitor: GPU monitoring failed getting GPU reading, switching off GPU monitoring\n"
     ]
    },
    {
     "name": "stderr",
     "output_type": "stream",
     "text": [
      "[I 2025-01-13 16:42:21,350] Trial 189 finished with values: [1153235.0, 12.623067333333333] and parameters: {'a': 77, 'b': 479, 'd': 221}.\n"
     ]
    },
    {
     "name": "stdout",
     "output_type": "stream",
     "text": [
      "ClearML Task: Offline session stored in /Users/karl/.clearml/cache/offline/offline-cb47887f321e4170a9f547ffa6b212eb.zip\n",
      "ClearML Task: created new task id=offline-7cf615fe36ff493eadb5d9e188c97730\n",
      "ClearML running in offline mode, session stored in /Users/karl/.clearml/cache/offline/offline-7cf615fe36ff493eadb5d9e188c97730\n",
      "ClearML Monitor: GPU monitoring failed getting GPU reading, switching off GPU monitoring\n"
     ]
    },
    {
     "name": "stderr",
     "output_type": "stream",
     "text": [
      "[I 2025-01-13 16:42:48,576] Trial 190 finished with values: [1155140.0, 7.389843] and parameters: {'a': 25, 'b': 491, 'd': 115}.\n"
     ]
    },
    {
     "name": "stdout",
     "output_type": "stream",
     "text": [
      "ClearML Task: Offline session stored in /Users/karl/.clearml/cache/offline/offline-7cf615fe36ff493eadb5d9e188c97730.zip\n",
      "ClearML Task: created new task id=offline-0cefd3689a5747748be94861fbb3c1f8\n",
      "ClearML running in offline mode, session stored in /Users/karl/.clearml/cache/offline/offline-0cefd3689a5747748be94861fbb3c1f8\n",
      "ClearML Monitor: GPU monitoring failed getting GPU reading, switching off GPU monitoring\n"
     ]
    },
    {
     "name": "stderr",
     "output_type": "stream",
     "text": [
      "[I 2025-01-13 16:43:18,208] Trial 191 finished with values: [1162520.0, 9.1488225] and parameters: {'a': 44, 'b': 500, 'd': 168}.\n"
     ]
    },
    {
     "name": "stdout",
     "output_type": "stream",
     "text": [
      "ClearML Task: Offline session stored in /Users/karl/.clearml/cache/offline/offline-0cefd3689a5747748be94861fbb3c1f8.zip\n",
      "ClearML Task: created new task id=offline-d339d47169dc4916bbc0cbf7d3e7c843\n",
      "ClearML running in offline mode, session stored in /Users/karl/.clearml/cache/offline/offline-d339d47169dc4916bbc0cbf7d3e7c843\n",
      "ClearML Monitor: GPU monitoring failed getting GPU reading, switching off GPU monitoring\n"
     ]
    },
    {
     "name": "stderr",
     "output_type": "stream",
     "text": [
      "[I 2025-01-13 16:43:45,626] Trial 192 finished with values: [1147665.0, 6.8174820333333335] and parameters: {'a': 12, 'b': 494, 'd': 196}.\n"
     ]
    },
    {
     "name": "stdout",
     "output_type": "stream",
     "text": [
      "ClearML Task: Offline session stored in /Users/karl/.clearml/cache/offline/offline-d339d47169dc4916bbc0cbf7d3e7c843.zip\n",
      "ClearML Task: created new task id=offline-e1d6f18752f44ff5878a716c73460b67\n",
      "ClearML running in offline mode, session stored in /Users/karl/.clearml/cache/offline/offline-e1d6f18752f44ff5878a716c73460b67\n",
      "ClearML Monitor: GPU monitoring failed getting GPU reading, switching off GPU monitoring\n"
     ]
    },
    {
     "name": "stderr",
     "output_type": "stream",
     "text": [
      "[I 2025-01-13 16:44:13,476] Trial 193 finished with values: [1117530.0, 4.923538416666667] and parameters: {'a': 2, 'b': 466, 'd': 175}.\n"
     ]
    },
    {
     "name": "stdout",
     "output_type": "stream",
     "text": [
      "ClearML Task: Offline session stored in /Users/karl/.clearml/cache/offline/offline-e1d6f18752f44ff5878a716c73460b67.zip\n",
      "ClearML Task: created new task id=offline-ba628f7d600a458995b7a7196b1c48e9\n",
      "ClearML running in offline mode, session stored in /Users/karl/.clearml/cache/offline/offline-ba628f7d600a458995b7a7196b1c48e9\n",
      "ClearML Monitor: GPU monitoring failed getting GPU reading, switching off GPU monitoring\n"
     ]
    },
    {
     "name": "stderr",
     "output_type": "stream",
     "text": [
      "[I 2025-01-13 16:44:40,099] Trial 194 finished with values: [1136725.0, 4.827412866666666] and parameters: {'a': 2, 'b': 449, 'd': 126}.\n"
     ]
    },
    {
     "name": "stdout",
     "output_type": "stream",
     "text": [
      "ClearML Task: Offline session stored in /Users/karl/.clearml/cache/offline/offline-ba628f7d600a458995b7a7196b1c48e9.zip\n",
      "ClearML Task: created new task id=offline-89325b50c112442293be97355387473c\n",
      "ClearML running in offline mode, session stored in /Users/karl/.clearml/cache/offline/offline-89325b50c112442293be97355387473c\n",
      "ClearML Monitor: GPU monitoring failed getting GPU reading, switching off GPU monitoring\n"
     ]
    },
    {
     "name": "stderr",
     "output_type": "stream",
     "text": [
      "[I 2025-01-13 16:45:11,287] Trial 195 finished with values: [1171680.0, 15.3348405] and parameters: {'a': 485, 'b': 61, 'd': 181}.\n"
     ]
    },
    {
     "name": "stdout",
     "output_type": "stream",
     "text": [
      "ClearML Task: Offline session stored in /Users/karl/.clearml/cache/offline/offline-89325b50c112442293be97355387473c.zip\n",
      "ClearML Task: created new task id=offline-9ed809020ced477492634c197d69f7de\n",
      "ClearML running in offline mode, session stored in /Users/karl/.clearml/cache/offline/offline-9ed809020ced477492634c197d69f7de\n",
      "ClearML Monitor: GPU monitoring failed getting GPU reading, switching off GPU monitoring\n"
     ]
    },
    {
     "name": "stderr",
     "output_type": "stream",
     "text": [
      "[I 2025-01-13 16:45:41,925] Trial 196 finished with values: [1161215.0, 16.8316823] and parameters: {'a': 109, 'b': 383, 'd': 200}.\n"
     ]
    },
    {
     "name": "stdout",
     "output_type": "stream",
     "text": [
      "ClearML Task: Offline session stored in /Users/karl/.clearml/cache/offline/offline-9ed809020ced477492634c197d69f7de.zip\n",
      "ClearML Task: created new task id=offline-d8a639f1edba4dfe8ed9e9092140dbda\n",
      "ClearML running in offline mode, session stored in /Users/karl/.clearml/cache/offline/offline-d8a639f1edba4dfe8ed9e9092140dbda\n",
      "ClearML Monitor: GPU monitoring failed getting GPU reading, switching off GPU monitoring\n"
     ]
    },
    {
     "name": "stderr",
     "output_type": "stream",
     "text": [
      "[I 2025-01-13 16:46:09,939] Trial 197 finished with values: [1117530.0, 4.923538416666667] and parameters: {'a': 2, 'b': 440, 'd': 161}.\n"
     ]
    },
    {
     "name": "stdout",
     "output_type": "stream",
     "text": [
      "ClearML Task: Offline session stored in /Users/karl/.clearml/cache/offline/offline-d8a639f1edba4dfe8ed9e9092140dbda.zip\n",
      "ClearML Task: created new task id=offline-9d5f6d21a8e64116b9bcb5e057f38474\n",
      "ClearML running in offline mode, session stored in /Users/karl/.clearml/cache/offline/offline-9d5f6d21a8e64116b9bcb5e057f38474\n",
      "ClearML Monitor: GPU monitoring failed getting GPU reading, switching off GPU monitoring\n"
     ]
    },
    {
     "name": "stderr",
     "output_type": "stream",
     "text": [
      "[I 2025-01-13 16:46:41,795] Trial 198 finished with values: [1159390.0, 16.69899415] and parameters: {'a': 266, 'b': 404, 'd': 156}.\n"
     ]
    },
    {
     "name": "stdout",
     "output_type": "stream",
     "text": [
      "ClearML Task: Offline session stored in /Users/karl/.clearml/cache/offline/offline-9d5f6d21a8e64116b9bcb5e057f38474.zip\n",
      "ClearML Task: created new task id=offline-4fd7176f9d5c41ff9037a76b4ef2561d\n",
      "ClearML running in offline mode, session stored in /Users/karl/.clearml/cache/offline/offline-4fd7176f9d5c41ff9037a76b4ef2561d\n",
      "ClearML Monitor: GPU monitoring failed getting GPU reading, switching off GPU monitoring\n"
     ]
    },
    {
     "name": "stderr",
     "output_type": "stream",
     "text": [
      "[I 2025-01-13 16:47:13,382] Trial 199 finished with values: [1185360.0, 20.941567650000003] and parameters: {'a': 436, 'b': 24, 'd': 389}.\n"
     ]
    },
    {
     "name": "stdout",
     "output_type": "stream",
     "text": [
      "ClearML Task: Offline session stored in /Users/karl/.clearml/cache/offline/offline-4fd7176f9d5c41ff9037a76b4ef2561d.zip\n",
      "ClearML Task: created new task id=offline-e2cc29c5147c4feebaa75da7c4a2b57e\n",
      "ClearML running in offline mode, session stored in /Users/karl/.clearml/cache/offline/offline-e2cc29c5147c4feebaa75da7c4a2b57e\n",
      "ClearML Monitor: GPU monitoring failed getting GPU reading, switching off GPU monitoring\n"
     ]
    },
    {
     "name": "stderr",
     "output_type": "stream",
     "text": [
      "[I 2025-01-13 16:47:42,230] Trial 200 finished with values: [1133220.0, 5.060109116666666] and parameters: {'a': 4, 'b': 419, 'd': 136}.\n"
     ]
    },
    {
     "name": "stdout",
     "output_type": "stream",
     "text": [
      "ClearML Task: Offline session stored in /Users/karl/.clearml/cache/offline/offline-e2cc29c5147c4feebaa75da7c4a2b57e.zip\n",
      "ClearML Task: created new task id=offline-f71a46b360e54f34a19799c64b9498c9\n",
      "ClearML running in offline mode, session stored in /Users/karl/.clearml/cache/offline/offline-f71a46b360e54f34a19799c64b9498c9\n",
      "ClearML Monitor: GPU monitoring failed getting GPU reading, switching off GPU monitoring\n"
     ]
    },
    {
     "name": "stderr",
     "output_type": "stream",
     "text": [
      "[I 2025-01-13 16:48:14,602] Trial 201 finished with values: [1166900.0, 42.75536808333333] and parameters: {'a': 56, 'b': 8, 'd': 483}.\n"
     ]
    },
    {
     "name": "stdout",
     "output_type": "stream",
     "text": [
      "ClearML Task: Offline session stored in /Users/karl/.clearml/cache/offline/offline-f71a46b360e54f34a19799c64b9498c9.zip\n",
      "ClearML Task: created new task id=offline-5475fe6b1b2a48b8a0a1fcfa0ca6ff76\n",
      "ClearML running in offline mode, session stored in /Users/karl/.clearml/cache/offline/offline-5475fe6b1b2a48b8a0a1fcfa0ca6ff76\n",
      "ClearML Monitor: GPU monitoring failed getting GPU reading, switching off GPU monitoring\n"
     ]
    },
    {
     "name": "stderr",
     "output_type": "stream",
     "text": [
      "[I 2025-01-13 16:48:43,441] Trial 202 finished with values: [1152535.0, 6.803351516666667] and parameters: {'a': 9, 'b': 379, 'd': 133}.\n"
     ]
    },
    {
     "name": "stdout",
     "output_type": "stream",
     "text": [
      "ClearML Task: Offline session stored in /Users/karl/.clearml/cache/offline/offline-5475fe6b1b2a48b8a0a1fcfa0ca6ff76.zip\n",
      "ClearML Task: created new task id=offline-210c71979f6346b0b2aea7ba728f8ef2\n",
      "ClearML running in offline mode, session stored in /Users/karl/.clearml/cache/offline/offline-210c71979f6346b0b2aea7ba728f8ef2\n",
      "ClearML Monitor: GPU monitoring failed getting GPU reading, switching off GPU monitoring\n"
     ]
    },
    {
     "name": "stderr",
     "output_type": "stream",
     "text": [
      "[I 2025-01-13 16:49:12,322] Trial 203 finished with values: [1151055.0, 6.6576886166666664] and parameters: {'a': 10, 'b': 413, 'd': 125}.\n"
     ]
    },
    {
     "name": "stdout",
     "output_type": "stream",
     "text": [
      "ClearML Task: Offline session stored in /Users/karl/.clearml/cache/offline/offline-210c71979f6346b0b2aea7ba728f8ef2.zip\n",
      "ClearML Task: created new task id=offline-a69fa226cbf14e1b9d21a977c2d8e6a1\n",
      "ClearML running in offline mode, session stored in /Users/karl/.clearml/cache/offline/offline-a69fa226cbf14e1b9d21a977c2d8e6a1\n",
      "ClearML Monitor: GPU monitoring failed getting GPU reading, switching off GPU monitoring\n"
     ]
    },
    {
     "name": "stderr",
     "output_type": "stream",
     "text": [
      "[I 2025-01-13 16:49:43,327] Trial 204 finished with values: [1169405.0, 15.601313133333333] and parameters: {'a': 416, 'b': 93, 'd': 25}.\n"
     ]
    },
    {
     "name": "stdout",
     "output_type": "stream",
     "text": [
      "ClearML Task: Offline session stored in /Users/karl/.clearml/cache/offline/offline-a69fa226cbf14e1b9d21a977c2d8e6a1.zip\n",
      "ClearML Task: created new task id=offline-4ccb51c4a5e84197836859bab8e58d85\n",
      "ClearML running in offline mode, session stored in /Users/karl/.clearml/cache/offline/offline-4ccb51c4a5e84197836859bab8e58d85\n",
      "ClearML Monitor: GPU monitoring failed getting GPU reading, switching off GPU monitoring\n"
     ]
    },
    {
     "name": "stderr",
     "output_type": "stream",
     "text": [
      "[I 2025-01-13 16:50:11,324] Trial 205 finished with values: [1153235.0, 7.3554481] and parameters: {'a': 14, 'b': 347, 'd': 365}.\n"
     ]
    },
    {
     "name": "stdout",
     "output_type": "stream",
     "text": [
      "ClearML Task: Offline session stored in /Users/karl/.clearml/cache/offline/offline-4ccb51c4a5e84197836859bab8e58d85.zip\n",
      "ClearML Task: created new task id=offline-0385303a8fdd40fc8844b3ff23d9d713\n",
      "ClearML running in offline mode, session stored in /Users/karl/.clearml/cache/offline/offline-0385303a8fdd40fc8844b3ff23d9d713\n",
      "ClearML Monitor: GPU monitoring failed getting GPU reading, switching off GPU monitoring\n"
     ]
    },
    {
     "name": "stderr",
     "output_type": "stream",
     "text": [
      "[I 2025-01-13 16:50:44,192] Trial 206 finished with values: [1168685.0, 16.251030383333333] and parameters: {'a': 195, 'b': 153, 'd': 459}.\n"
     ]
    },
    {
     "name": "stdout",
     "output_type": "stream",
     "text": [
      "ClearML Task: Offline session stored in /Users/karl/.clearml/cache/offline/offline-0385303a8fdd40fc8844b3ff23d9d713.zip\n",
      "ClearML Task: created new task id=offline-4f7d64d16f3844e0901c6dbcae0418f9\n",
      "ClearML running in offline mode, session stored in /Users/karl/.clearml/cache/offline/offline-4f7d64d16f3844e0901c6dbcae0418f9\n",
      "ClearML Monitor: GPU monitoring failed getting GPU reading, switching off GPU monitoring\n"
     ]
    },
    {
     "name": "stderr",
     "output_type": "stream",
     "text": [
      "[I 2025-01-13 16:51:14,924] Trial 207 finished with values: [1147965.0, 16.72686523333333] and parameters: {'a': 106, 'b': 455, 'd': 135}.\n"
     ]
    },
    {
     "name": "stdout",
     "output_type": "stream",
     "text": [
      "ClearML Task: Offline session stored in /Users/karl/.clearml/cache/offline/offline-4f7d64d16f3844e0901c6dbcae0418f9.zip\n",
      "ClearML Task: created new task id=offline-1ef39e9b64e24b14ad9b0b9642e6e774\n",
      "ClearML running in offline mode, session stored in /Users/karl/.clearml/cache/offline/offline-1ef39e9b64e24b14ad9b0b9642e6e774\n",
      "ClearML Monitor: GPU monitoring failed getting GPU reading, switching off GPU monitoring\n"
     ]
    },
    {
     "name": "stderr",
     "output_type": "stream",
     "text": [
      "[I 2025-01-13 16:51:44,359] Trial 208 finished with values: [1122070.0, 4.855519383333333] and parameters: {'a': 3, 'b': 431, 'd': 235}.\n"
     ]
    },
    {
     "name": "stdout",
     "output_type": "stream",
     "text": [
      "ClearML Task: Offline session stored in /Users/karl/.clearml/cache/offline/offline-1ef39e9b64e24b14ad9b0b9642e6e774.zip\n",
      "ClearML Task: created new task id=offline-58bef205b1cc4cbca84bea0aa747865d\n",
      "ClearML running in offline mode, session stored in /Users/karl/.clearml/cache/offline/offline-58bef205b1cc4cbca84bea0aa747865d\n",
      "ClearML Monitor: GPU monitoring failed getting GPU reading, switching off GPU monitoring\n"
     ]
    },
    {
     "name": "stderr",
     "output_type": "stream",
     "text": [
      "[I 2025-01-13 16:52:13,925] Trial 209 finished with values: [1142145.0, 5.7523121] and parameters: {'a': 5, 'b': 432, 'd': 203}.\n"
     ]
    },
    {
     "name": "stdout",
     "output_type": "stream",
     "text": [
      "ClearML Task: Offline session stored in /Users/karl/.clearml/cache/offline/offline-58bef205b1cc4cbca84bea0aa747865d.zip\n",
      "ClearML Task: created new task id=offline-7bf14f306a0a43488a064b4cfd4949d7\n",
      "ClearML running in offline mode, session stored in /Users/karl/.clearml/cache/offline/offline-7bf14f306a0a43488a064b4cfd4949d7\n",
      "ClearML Monitor: GPU monitoring failed getting GPU reading, switching off GPU monitoring\n"
     ]
    },
    {
     "name": "stderr",
     "output_type": "stream",
     "text": [
      "[I 2025-01-13 16:52:50,481] Trial 210 finished with values: [1171400.0, 15.382510766666666] and parameters: {'a': 363, 'b': 233, 'd': 279}.\n"
     ]
    },
    {
     "name": "stdout",
     "output_type": "stream",
     "text": [
      "ClearML Task: Offline session stored in /Users/karl/.clearml/cache/offline/offline-7bf14f306a0a43488a064b4cfd4949d7.zip\n",
      "ClearML Task: created new task id=offline-1dfee9766b90433385a2d561bbafc334\n",
      "ClearML running in offline mode, session stored in /Users/karl/.clearml/cache/offline/offline-1dfee9766b90433385a2d561bbafc334\n",
      "ClearML Monitor: GPU monitoring failed getting GPU reading, switching off GPU monitoring\n"
     ]
    },
    {
     "name": "stderr",
     "output_type": "stream",
     "text": [
      "[I 2025-01-13 16:53:23,670] Trial 211 finished with values: [1165450.0, 16.770283466666665] and parameters: {'a': 449, 'b': 446, 'd': 7}.\n"
     ]
    },
    {
     "name": "stdout",
     "output_type": "stream",
     "text": [
      "ClearML Task: Offline session stored in /Users/karl/.clearml/cache/offline/offline-1dfee9766b90433385a2d561bbafc334.zip\n",
      "ClearML Task: created new task id=offline-522a176089d3410aa332b97fabd48c0b\n",
      "ClearML running in offline mode, session stored in /Users/karl/.clearml/cache/offline/offline-522a176089d3410aa332b97fabd48c0b\n",
      "ClearML Monitor: GPU monitoring failed getting GPU reading, switching off GPU monitoring\n"
     ]
    },
    {
     "name": "stderr",
     "output_type": "stream",
     "text": [
      "[I 2025-01-13 16:53:54,291] Trial 212 finished with values: [1134000.0, 5.075416416666667] and parameters: {'a': 3, 'b': 471, 'd': 117}.\n"
     ]
    },
    {
     "name": "stdout",
     "output_type": "stream",
     "text": [
      "ClearML Task: Offline session stored in /Users/karl/.clearml/cache/offline/offline-522a176089d3410aa332b97fabd48c0b.zip\n",
      "ClearML Task: created new task id=offline-74e3bf93a49343d6a3bf2612c20c4a95\n",
      "ClearML running in offline mode, session stored in /Users/karl/.clearml/cache/offline/offline-74e3bf93a49343d6a3bf2612c20c4a95\n",
      "ClearML Monitor: GPU monitoring failed getting GPU reading, switching off GPU monitoring\n"
     ]
    },
    {
     "name": "stderr",
     "output_type": "stream",
     "text": [
      "[I 2025-01-13 16:54:25,224] Trial 213 finished with values: [1171400.0, 15.382510766666666] and parameters: {'a': 500, 'b': 242, 'd': 179}.\n"
     ]
    },
    {
     "name": "stdout",
     "output_type": "stream",
     "text": [
      "ClearML Task: Offline session stored in /Users/karl/.clearml/cache/offline/offline-74e3bf93a49343d6a3bf2612c20c4a95.zip\n",
      "ClearML Task: created new task id=offline-fca055e02d92486b95da2af1546daa9d\n",
      "ClearML running in offline mode, session stored in /Users/karl/.clearml/cache/offline/offline-fca055e02d92486b95da2af1546daa9d\n",
      "ClearML Monitor: GPU monitoring failed getting GPU reading, switching off GPU monitoring\n"
     ]
    },
    {
     "name": "stderr",
     "output_type": "stream",
     "text": [
      "[I 2025-01-13 16:56:22,747] Trial 214 finished with values: [1159670.0, 7.36037355] and parameters: {'a': 16, 'b': 448, 'd': 181}.\n"
     ]
    },
    {
     "name": "stdout",
     "output_type": "stream",
     "text": [
      "ClearML Task: Offline session stored in /Users/karl/.clearml/cache/offline/offline-fca055e02d92486b95da2af1546daa9d.zip\n",
      "ClearML Task: created new task id=offline-36314ef7d6f4427f97307323a2bddbef\n",
      "ClearML running in offline mode, session stored in /Users/karl/.clearml/cache/offline/offline-36314ef7d6f4427f97307323a2bddbef\n",
      "ClearML Monitor: GPU monitoring failed getting GPU reading, switching off GPU monitoring\n"
     ]
    },
    {
     "name": "stderr",
     "output_type": "stream",
     "text": [
      "[I 2025-01-13 16:56:52,289] Trial 215 finished with values: [1161350.0, 15.966149416666667] and parameters: {'a': 198, 'b': 250, 'd': 492}.\n"
     ]
    },
    {
     "name": "stdout",
     "output_type": "stream",
     "text": [
      "ClearML Task: Offline session stored in /Users/karl/.clearml/cache/offline/offline-36314ef7d6f4427f97307323a2bddbef.zip\n",
      "ClearML Task: created new task id=offline-04564cd389b54360ad69dacd498237f0\n",
      "ClearML running in offline mode, session stored in /Users/karl/.clearml/cache/offline/offline-04564cd389b54360ad69dacd498237f0\n",
      "ClearML Monitor: GPU monitoring failed getting GPU reading, switching off GPU monitoring\n"
     ]
    },
    {
     "name": "stderr",
     "output_type": "stream",
     "text": [
      "[I 2025-01-13 16:57:39,742] Trial 216 finished with values: [1171400.0, 15.382510766666666] and parameters: {'a': 297, 'b': 166, 'd': 125}.\n"
     ]
    },
    {
     "name": "stdout",
     "output_type": "stream",
     "text": [
      "ClearML Task: Offline session stored in /Users/karl/.clearml/cache/offline/offline-04564cd389b54360ad69dacd498237f0.zip\n",
      "ClearML Task: created new task id=offline-f182c7fd79054776a6d4a3da8d0b6b5a\n",
      "ClearML running in offline mode, session stored in /Users/karl/.clearml/cache/offline/offline-f182c7fd79054776a6d4a3da8d0b6b5a\n",
      "ClearML Monitor: GPU monitoring failed getting GPU reading, switching off GPU monitoring\n"
     ]
    },
    {
     "name": "stderr",
     "output_type": "stream",
     "text": [
      "[I 2025-01-13 16:58:10,837] Trial 217 finished with values: [1148110.0, 6.397970316666667] and parameters: {'a': 9, 'b': 449, 'd': 148}.\n"
     ]
    },
    {
     "name": "stdout",
     "output_type": "stream",
     "text": [
      "ClearML Task: Offline session stored in /Users/karl/.clearml/cache/offline/offline-f182c7fd79054776a6d4a3da8d0b6b5a.zip\n",
      "ClearML Task: created new task id=offline-c61939d5760342c0866b0026aa8eb4fd\n",
      "ClearML running in offline mode, session stored in /Users/karl/.clearml/cache/offline/offline-c61939d5760342c0866b0026aa8eb4fd\n",
      "ClearML Monitor: GPU monitoring failed getting GPU reading, switching off GPU monitoring\n"
     ]
    },
    {
     "name": "stderr",
     "output_type": "stream",
     "text": [
      "[I 2025-01-13 16:58:39,954] Trial 218 finished with values: [1150420.0, 6.929598766666667] and parameters: {'a': 12, 'b': 448, 'd': 144}.\n"
     ]
    },
    {
     "name": "stdout",
     "output_type": "stream",
     "text": [
      "ClearML Task: Offline session stored in /Users/karl/.clearml/cache/offline/offline-c61939d5760342c0866b0026aa8eb4fd.zip\n",
      "ClearML Task: created new task id=offline-9677b99e9af34966ac1a13aacc4d3d66\n",
      "ClearML running in offline mode, session stored in /Users/karl/.clearml/cache/offline/offline-9677b99e9af34966ac1a13aacc4d3d66\n",
      "ClearML Monitor: GPU monitoring failed getting GPU reading, switching off GPU monitoring\n"
     ]
    },
    {
     "name": "stderr",
     "output_type": "stream",
     "text": [
      "[I 2025-01-13 16:59:12,728] Trial 219 finished with values: [1162995.0, 15.44249735] and parameters: {'a': 101, 'b': 411, 'd': 113}.\n"
     ]
    },
    {
     "name": "stdout",
     "output_type": "stream",
     "text": [
      "ClearML Task: Offline session stored in /Users/karl/.clearml/cache/offline/offline-9677b99e9af34966ac1a13aacc4d3d66.zip\n",
      "ClearML Task: created new task id=offline-3f239f49e5f34a7cbae496e1b37ce849\n",
      "ClearML running in offline mode, session stored in /Users/karl/.clearml/cache/offline/offline-3f239f49e5f34a7cbae496e1b37ce849\n",
      "ClearML Monitor: GPU monitoring failed getting GPU reading, switching off GPU monitoring\n"
     ]
    },
    {
     "name": "stderr",
     "output_type": "stream",
     "text": [
      "[I 2025-01-13 16:59:45,384] Trial 220 finished with values: [1171400.0, 15.382510766666666] and parameters: {'a': 431, 'b': 268, 'd': 409}.\n"
     ]
    },
    {
     "name": "stdout",
     "output_type": "stream",
     "text": [
      "ClearML Task: Offline session stored in /Users/karl/.clearml/cache/offline/offline-3f239f49e5f34a7cbae496e1b37ce849.zip\n",
      "ClearML Task: created new task id=offline-d31a40ff4912472c94c1edd789711aa3\n",
      "ClearML running in offline mode, session stored in /Users/karl/.clearml/cache/offline/offline-d31a40ff4912472c94c1edd789711aa3\n",
      "ClearML Monitor: GPU monitoring failed getting GPU reading, switching off GPU monitoring\n"
     ]
    },
    {
     "name": "stderr",
     "output_type": "stream",
     "text": [
      "[I 2025-01-13 17:00:17,739] Trial 221 finished with values: [1135095.0, 5.049865966666667] and parameters: {'a': 4, 'b': 469, 'd': 129}.\n"
     ]
    },
    {
     "name": "stdout",
     "output_type": "stream",
     "text": [
      "ClearML Task: Offline session stored in /Users/karl/.clearml/cache/offline/offline-d31a40ff4912472c94c1edd789711aa3.zip\n",
      "ClearML Task: created new task id=offline-7e4b0701f2b54e3cbbfdbc1c832d9966\n",
      "ClearML running in offline mode, session stored in /Users/karl/.clearml/cache/offline/offline-7e4b0701f2b54e3cbbfdbc1c832d9966\n",
      "ClearML Monitor: GPU monitoring failed getting GPU reading, switching off GPU monitoring\n"
     ]
    },
    {
     "name": "stderr",
     "output_type": "stream",
     "text": [
      "[I 2025-01-13 17:00:47,503] Trial 222 finished with values: [1135500.0, 4.9299693499999995] and parameters: {'a': 3, 'b': 486, 'd': 117}.\n"
     ]
    },
    {
     "name": "stdout",
     "output_type": "stream",
     "text": [
      "ClearML Task: Offline session stored in /Users/karl/.clearml/cache/offline/offline-7e4b0701f2b54e3cbbfdbc1c832d9966.zip\n",
      "ClearML Task: created new task id=offline-1564f6e2204846dd993fb99041da1c1c\n",
      "ClearML running in offline mode, session stored in /Users/karl/.clearml/cache/offline/offline-1564f6e2204846dd993fb99041da1c1c\n",
      "ClearML Monitor: GPU monitoring failed getting GPU reading, switching off GPU monitoring\n"
     ]
    },
    {
     "name": "stderr",
     "output_type": "stream",
     "text": [
      "[I 2025-01-13 17:01:19,186] Trial 223 finished with values: [1165825.0, 15.9689698] and parameters: {'a': 292, 'b': 218, 'd': 406}.\n"
     ]
    },
    {
     "name": "stdout",
     "output_type": "stream",
     "text": [
      "ClearML Task: Offline session stored in /Users/karl/.clearml/cache/offline/offline-1564f6e2204846dd993fb99041da1c1c.zip\n",
      "ClearML Task: created new task id=offline-d29e3ca8d00f4f708d6a12b4f6d57cf6\n",
      "ClearML running in offline mode, session stored in /Users/karl/.clearml/cache/offline/offline-d29e3ca8d00f4f708d6a12b4f6d57cf6\n",
      "ClearML Monitor: GPU monitoring failed getting GPU reading, switching off GPU monitoring\n"
     ]
    },
    {
     "name": "stderr",
     "output_type": "stream",
     "text": [
      "[I 2025-01-13 17:01:50,333] Trial 224 finished with values: [1160690.0, 15.854918099999999] and parameters: {'a': 190, 'b': 251, 'd': 198}.\n"
     ]
    },
    {
     "name": "stdout",
     "output_type": "stream",
     "text": [
      "ClearML Task: Offline session stored in /Users/karl/.clearml/cache/offline/offline-d29e3ca8d00f4f708d6a12b4f6d57cf6.zip\n",
      "ClearML Task: created new task id=offline-72b8c7f0f05047fa98828e740d722743\n",
      "ClearML running in offline mode, session stored in /Users/karl/.clearml/cache/offline/offline-72b8c7f0f05047fa98828e740d722743\n",
      "ClearML Monitor: GPU monitoring failed getting GPU reading, switching off GPU monitoring\n"
     ]
    },
    {
     "name": "stderr",
     "output_type": "stream",
     "text": [
      "[I 2025-01-13 17:02:19,612] Trial 225 finished with values: [1150675.0, 7.394600283333333] and parameters: {'a': 23, 'b': 469, 'd': 291}.\n"
     ]
    },
    {
     "name": "stdout",
     "output_type": "stream",
     "text": [
      "ClearML Task: Offline session stored in /Users/karl/.clearml/cache/offline/offline-72b8c7f0f05047fa98828e740d722743.zip\n",
      "ClearML Task: created new task id=offline-483e516df38a4420b82dca8e7cececc3\n",
      "ClearML running in offline mode, session stored in /Users/karl/.clearml/cache/offline/offline-483e516df38a4420b82dca8e7cececc3\n",
      "ClearML Monitor: GPU monitoring failed getting GPU reading, switching off GPU monitoring\n"
     ]
    },
    {
     "name": "stderr",
     "output_type": "stream",
     "text": [
      "[I 2025-01-13 17:02:50,054] Trial 226 finished with values: [1146540.0, 6.4132312] and parameters: {'a': 8, 'b': 377, 'd': 211}.\n"
     ]
    },
    {
     "name": "stdout",
     "output_type": "stream",
     "text": [
      "ClearML Task: Offline session stored in /Users/karl/.clearml/cache/offline/offline-483e516df38a4420b82dca8e7cececc3.zip\n",
      "ClearML Task: created new task id=offline-1b7b8f9528b04d01ba0bf80164127d99\n",
      "ClearML running in offline mode, session stored in /Users/karl/.clearml/cache/offline/offline-1b7b8f9528b04d01ba0bf80164127d99\n",
      "ClearML Monitor: GPU monitoring failed getting GPU reading, switching off GPU monitoring\n"
     ]
    },
    {
     "name": "stderr",
     "output_type": "stream",
     "text": [
      "[I 2025-01-13 17:03:19,075] Trial 227 finished with values: [1139335.0, 4.979375716666667] and parameters: {'a': 2, 'b': 397, 'd': 109}.\n"
     ]
    },
    {
     "name": "stdout",
     "output_type": "stream",
     "text": [
      "ClearML Task: Offline session stored in /Users/karl/.clearml/cache/offline/offline-1b7b8f9528b04d01ba0bf80164127d99.zip\n",
      "ClearML Task: created new task id=offline-36f9bfec00054ffd94fd4b17576eb4a6\n",
      "ClearML running in offline mode, session stored in /Users/karl/.clearml/cache/offline/offline-36f9bfec00054ffd94fd4b17576eb4a6\n",
      "ClearML Monitor: GPU monitoring failed getting GPU reading, switching off GPU monitoring\n"
     ]
    },
    {
     "name": "stderr",
     "output_type": "stream",
     "text": [
      "[I 2025-01-13 17:03:49,707] Trial 228 finished with values: [1166830.0, 16.325028733333333] and parameters: {'a': 312, 'b': 378, 'd': 311}.\n"
     ]
    },
    {
     "name": "stdout",
     "output_type": "stream",
     "text": [
      "ClearML Task: Offline session stored in /Users/karl/.clearml/cache/offline/offline-36f9bfec00054ffd94fd4b17576eb4a6.zip\n",
      "ClearML Task: created new task id=offline-3cbb95329c4040c3b427feea4bc2fc5a\n",
      "ClearML running in offline mode, session stored in /Users/karl/.clearml/cache/offline/offline-3cbb95329c4040c3b427feea4bc2fc5a\n",
      "ClearML Monitor: GPU monitoring failed getting GPU reading, switching off GPU monitoring\n"
     ]
    },
    {
     "name": "stderr",
     "output_type": "stream",
     "text": [
      "[I 2025-01-13 17:04:19,568] Trial 229 finished with values: [1149085.0, 6.6991191] and parameters: {'a': 11, 'b': 488, 'd': 117}.\n"
     ]
    },
    {
     "name": "stdout",
     "output_type": "stream",
     "text": [
      "ClearML Task: Offline session stored in /Users/karl/.clearml/cache/offline/offline-3cbb95329c4040c3b427feea4bc2fc5a.zip\n",
      "ClearML Task: created new task id=offline-882c1396c1db41ca9053a2e10a66c1af\n",
      "ClearML running in offline mode, session stored in /Users/karl/.clearml/cache/offline/offline-882c1396c1db41ca9053a2e10a66c1af\n",
      "ClearML Monitor: GPU monitoring failed getting GPU reading, switching off GPU monitoring\n"
     ]
    },
    {
     "name": "stderr",
     "output_type": "stream",
     "text": [
      "[I 2025-01-13 17:04:49,809] Trial 230 finished with values: [1165730.0, 14.879701116666666] and parameters: {'a': 384, 'b': 286, 'd': 100}.\n"
     ]
    },
    {
     "name": "stdout",
     "output_type": "stream",
     "text": [
      "ClearML Task: Offline session stored in /Users/karl/.clearml/cache/offline/offline-882c1396c1db41ca9053a2e10a66c1af.zip\n",
      "ClearML Task: created new task id=offline-48819f22ffb74a3b8d35793a2bf4ea1b\n",
      "ClearML running in offline mode, session stored in /Users/karl/.clearml/cache/offline/offline-48819f22ffb74a3b8d35793a2bf4ea1b\n",
      "ClearML Monitor: GPU monitoring failed getting GPU reading, switching off GPU monitoring\n"
     ]
    },
    {
     "name": "stderr",
     "output_type": "stream",
     "text": [
      "[I 2025-01-13 17:05:19,446] Trial 231 finished with values: [1147460.0, 6.889206] and parameters: {'a': 11, 'b': 444, 'd': 154}.\n"
     ]
    },
    {
     "name": "stdout",
     "output_type": "stream",
     "text": [
      "ClearML Task: Offline session stored in /Users/karl/.clearml/cache/offline/offline-48819f22ffb74a3b8d35793a2bf4ea1b.zip\n",
      "ClearML Task: created new task id=offline-894f04baa151450d9564ccd118ccdd32\n",
      "ClearML running in offline mode, session stored in /Users/karl/.clearml/cache/offline/offline-894f04baa151450d9564ccd118ccdd32\n",
      "ClearML Monitor: GPU monitoring failed getting GPU reading, switching off GPU monitoring\n"
     ]
    },
    {
     "name": "stderr",
     "output_type": "stream",
     "text": [
      "[I 2025-01-13 17:05:51,130] Trial 232 finished with values: [1169405.0, 15.601313133333333] and parameters: {'a': 278, 'b': 42, 'd': 8}.\n"
     ]
    },
    {
     "name": "stdout",
     "output_type": "stream",
     "text": [
      "ClearML Task: Offline session stored in /Users/karl/.clearml/cache/offline/offline-894f04baa151450d9564ccd118ccdd32.zip\n",
      "ClearML Task: created new task id=offline-2307cedae1834ac3bf398c1efed41683\n",
      "ClearML running in offline mode, session stored in /Users/karl/.clearml/cache/offline/offline-2307cedae1834ac3bf398c1efed41683\n",
      "ClearML Monitor: GPU monitoring failed getting GPU reading, switching off GPU monitoring\n"
     ]
    },
    {
     "name": "stderr",
     "output_type": "stream",
     "text": [
      "[I 2025-01-13 17:06:23,158] Trial 233 finished with values: [1178680.0, 27.1332279] and parameters: {'a': 338, 'b': 12, 'd': 410}.\n"
     ]
    },
    {
     "name": "stdout",
     "output_type": "stream",
     "text": [
      "ClearML Task: Offline session stored in /Users/karl/.clearml/cache/offline/offline-2307cedae1834ac3bf398c1efed41683.zip\n",
      "ClearML Task: created new task id=offline-05a2002dc4e64defbe45c2d10b8a9dfa\n",
      "ClearML running in offline mode, session stored in /Users/karl/.clearml/cache/offline/offline-05a2002dc4e64defbe45c2d10b8a9dfa\n",
      "ClearML Monitor: GPU monitoring failed getting GPU reading, switching off GPU monitoring\n"
     ]
    },
    {
     "name": "stderr",
     "output_type": "stream",
     "text": [
      "[I 2025-01-13 17:06:56,282] Trial 234 finished with values: [1154200.0, 16.982342233333334] and parameters: {'a': 112, 'b': 414, 'd': 174}.\n"
     ]
    },
    {
     "name": "stdout",
     "output_type": "stream",
     "text": [
      "ClearML Task: Offline session stored in /Users/karl/.clearml/cache/offline/offline-05a2002dc4e64defbe45c2d10b8a9dfa.zip\n",
      "ClearML Task: created new task id=offline-1b4673c34866494b91e98566b607a48c\n",
      "ClearML running in offline mode, session stored in /Users/karl/.clearml/cache/offline/offline-1b4673c34866494b91e98566b607a48c\n",
      "ClearML Monitor: GPU monitoring failed getting GPU reading, switching off GPU monitoring\n"
     ]
    },
    {
     "name": "stderr",
     "output_type": "stream",
     "text": [
      "[I 2025-01-13 17:07:25,479] Trial 235 finished with values: [1167365.0, 7.1919938666666665] and parameters: {'a': 15, 'b': 301, 'd': 485}.\n"
     ]
    },
    {
     "name": "stdout",
     "output_type": "stream",
     "text": [
      "ClearML Task: Offline session stored in /Users/karl/.clearml/cache/offline/offline-1b4673c34866494b91e98566b607a48c.zip\n",
      "ClearML Task: created new task id=offline-77c2c4c674744a708b05c921e3ff6747\n",
      "ClearML running in offline mode, session stored in /Users/karl/.clearml/cache/offline/offline-77c2c4c674744a708b05c921e3ff6747\n",
      "ClearML Monitor: GPU monitoring failed getting GPU reading, switching off GPU monitoring\n"
     ]
    },
    {
     "name": "stderr",
     "output_type": "stream",
     "text": [
      "[I 2025-01-13 17:07:56,486] Trial 236 finished with values: [1171400.0, 15.382510766666666] and parameters: {'a': 381, 'b': 222, 'd': 493}.\n"
     ]
    },
    {
     "name": "stdout",
     "output_type": "stream",
     "text": [
      "ClearML Task: Offline session stored in /Users/karl/.clearml/cache/offline/offline-77c2c4c674744a708b05c921e3ff6747.zip\n",
      "ClearML Task: created new task id=offline-83e9c9d5af2e4fecbeba5347aef225c5\n",
      "ClearML running in offline mode, session stored in /Users/karl/.clearml/cache/offline/offline-83e9c9d5af2e4fecbeba5347aef225c5\n",
      "ClearML Monitor: GPU monitoring failed getting GPU reading, switching off GPU monitoring\n"
     ]
    },
    {
     "name": "stderr",
     "output_type": "stream",
     "text": [
      "[I 2025-01-13 17:08:25,245] Trial 237 finished with values: [1120670.0, 4.912189983333334] and parameters: {'a': 1, 'b': 471, 'd': 149}.\n"
     ]
    },
    {
     "name": "stdout",
     "output_type": "stream",
     "text": [
      "ClearML Task: Offline session stored in /Users/karl/.clearml/cache/offline/offline-83e9c9d5af2e4fecbeba5347aef225c5.zip\n",
      "ClearML Task: created new task id=offline-14b2bdef367e4b11bc515a01c2babe43\n",
      "ClearML running in offline mode, session stored in /Users/karl/.clearml/cache/offline/offline-14b2bdef367e4b11bc515a01c2babe43\n",
      "ClearML Monitor: GPU monitoring failed getting GPU reading, switching off GPU monitoring\n"
     ]
    },
    {
     "name": "stderr",
     "output_type": "stream",
     "text": [
      "[I 2025-01-13 17:08:57,131] Trial 238 finished with values: [1156045.0, 16.503478666666666] and parameters: {'a': 462, 'b': 405, 'd': 482}.\n"
     ]
    },
    {
     "name": "stdout",
     "output_type": "stream",
     "text": [
      "ClearML Task: Offline session stored in /Users/karl/.clearml/cache/offline/offline-14b2bdef367e4b11bc515a01c2babe43.zip\n",
      "ClearML Task: created new task id=offline-1899bb18a4284450b43d1a7ecd750320\n",
      "ClearML running in offline mode, session stored in /Users/karl/.clearml/cache/offline/offline-1899bb18a4284450b43d1a7ecd750320\n",
      "ClearML Monitor: GPU monitoring failed getting GPU reading, switching off GPU monitoring\n"
     ]
    },
    {
     "name": "stderr",
     "output_type": "stream",
     "text": [
      "[I 2025-01-13 17:09:27,288] Trial 239 finished with values: [1156860.0, 16.132930916666666] and parameters: {'a': 137, 'b': 489, 'd': 145}.\n"
     ]
    },
    {
     "name": "stdout",
     "output_type": "stream",
     "text": [
      "ClearML Task: Offline session stored in /Users/karl/.clearml/cache/offline/offline-1899bb18a4284450b43d1a7ecd750320.zip\n",
      "ClearML Task: created new task id=offline-51caf708bdc64a73965e7b8e3da4672b\n",
      "ClearML running in offline mode, session stored in /Users/karl/.clearml/cache/offline/offline-51caf708bdc64a73965e7b8e3da4672b\n",
      "ClearML Monitor: GPU monitoring failed getting GPU reading, switching off GPU monitoring\n"
     ]
    },
    {
     "name": "stderr",
     "output_type": "stream",
     "text": [
      "[I 2025-01-13 17:09:59,132] Trial 240 finished with values: [1169405.0, 15.601313133333333] and parameters: {'a': 463, 'b': 158, 'd': 346}.\n"
     ]
    },
    {
     "name": "stdout",
     "output_type": "stream",
     "text": [
      "ClearML Task: Offline session stored in /Users/karl/.clearml/cache/offline/offline-51caf708bdc64a73965e7b8e3da4672b.zip\n",
      "ClearML Task: created new task id=offline-a11a39838a724d0ca3f41d867226e1a6\n",
      "ClearML running in offline mode, session stored in /Users/karl/.clearml/cache/offline/offline-a11a39838a724d0ca3f41d867226e1a6\n",
      "ClearML Monitor: GPU monitoring failed getting GPU reading, switching off GPU monitoring\n"
     ]
    },
    {
     "name": "stderr",
     "output_type": "stream",
     "text": [
      "[I 2025-01-13 17:10:28,097] Trial 241 finished with values: [1138050.0, 5.225842583333333] and parameters: {'a': 5, 'b': 476, 'd': 187}.\n"
     ]
    },
    {
     "name": "stdout",
     "output_type": "stream",
     "text": [
      "ClearML Task: Offline session stored in /Users/karl/.clearml/cache/offline/offline-a11a39838a724d0ca3f41d867226e1a6.zip\n",
      "ClearML Task: created new task id=offline-e82ed86fef0f41e1a62414ec955b07bc\n",
      "ClearML running in offline mode, session stored in /Users/karl/.clearml/cache/offline/offline-e82ed86fef0f41e1a62414ec955b07bc\n",
      "ClearML Monitor: GPU monitoring failed getting GPU reading, switching off GPU monitoring\n"
     ]
    },
    {
     "name": "stderr",
     "output_type": "stream",
     "text": [
      "[I 2025-01-13 17:10:59,166] Trial 242 finished with values: [1130715.0, 5.15289105] and parameters: {'a': 3, 'b': 388, 'd': 77}.\n"
     ]
    },
    {
     "name": "stdout",
     "output_type": "stream",
     "text": [
      "ClearML Task: Offline session stored in /Users/karl/.clearml/cache/offline/offline-e82ed86fef0f41e1a62414ec955b07bc.zip\n",
      "ClearML Task: created new task id=offline-7c3ede892fba4472a85277e46c980c67\n",
      "ClearML running in offline mode, session stored in /Users/karl/.clearml/cache/offline/offline-7c3ede892fba4472a85277e46c980c67\n",
      "ClearML Monitor: GPU monitoring failed getting GPU reading, switching off GPU monitoring\n"
     ]
    },
    {
     "name": "stderr",
     "output_type": "stream",
     "text": [
      "[I 2025-01-13 17:11:27,398] Trial 243 finished with values: [1142495.0, 6.125330383333333] and parameters: {'a': 6, 'b': 468, 'd': 122}.\n"
     ]
    },
    {
     "name": "stdout",
     "output_type": "stream",
     "text": [
      "ClearML Task: Offline session stored in /Users/karl/.clearml/cache/offline/offline-7c3ede892fba4472a85277e46c980c67.zip\n",
      "ClearML Task: created new task id=offline-209bbd5ed65d400cafa6805663200cfa\n",
      "ClearML running in offline mode, session stored in /Users/karl/.clearml/cache/offline/offline-209bbd5ed65d400cafa6805663200cfa\n",
      "ClearML Monitor: GPU monitoring failed getting GPU reading, switching off GPU monitoring\n"
     ]
    },
    {
     "name": "stderr",
     "output_type": "stream",
     "text": [
      "[I 2025-01-13 17:11:59,388] Trial 244 finished with values: [1171680.0, 15.3348405] and parameters: {'a': 475, 'b': 141, 'd': 469}.\n"
     ]
    },
    {
     "name": "stdout",
     "output_type": "stream",
     "text": [
      "ClearML Task: Offline session stored in /Users/karl/.clearml/cache/offline/offline-209bbd5ed65d400cafa6805663200cfa.zip\n",
      "ClearML Task: created new task id=offline-b9d1eafb17694656b1b97ee483f20b1f\n",
      "ClearML running in offline mode, session stored in /Users/karl/.clearml/cache/offline/offline-b9d1eafb17694656b1b97ee483f20b1f\n",
      "ClearML Monitor: GPU monitoring failed getting GPU reading, switching off GPU monitoring\n"
     ]
    },
    {
     "name": "stderr",
     "output_type": "stream",
     "text": [
      "[I 2025-01-13 17:12:31,347] Trial 245 finished with values: [1171680.0, 15.3348405] and parameters: {'a': 332, 'b': 107, 'd': 467}.\n"
     ]
    },
    {
     "name": "stdout",
     "output_type": "stream",
     "text": [
      "ClearML Task: Offline session stored in /Users/karl/.clearml/cache/offline/offline-b9d1eafb17694656b1b97ee483f20b1f.zip\n",
      "ClearML Task: created new task id=offline-dfb8a6f135644a5893be300bcc2947cb\n",
      "ClearML running in offline mode, session stored in /Users/karl/.clearml/cache/offline/offline-dfb8a6f135644a5893be300bcc2947cb\n",
      "ClearML Monitor: GPU monitoring failed getting GPU reading, switching off GPU monitoring\n"
     ]
    },
    {
     "name": "stderr",
     "output_type": "stream",
     "text": [
      "[I 2025-01-13 17:13:03,313] Trial 246 finished with values: [1171680.0, 15.3348405] and parameters: {'a': 229, 'b': 115, 'd': 366}.\n"
     ]
    },
    {
     "name": "stdout",
     "output_type": "stream",
     "text": [
      "ClearML Task: Offline session stored in /Users/karl/.clearml/cache/offline/offline-dfb8a6f135644a5893be300bcc2947cb.zip\n",
      "ClearML Task: created new task id=offline-c34de6c4d3084c888fd1dc7a10c83390\n",
      "ClearML running in offline mode, session stored in /Users/karl/.clearml/cache/offline/offline-c34de6c4d3084c888fd1dc7a10c83390\n",
      "ClearML Monitor: GPU monitoring failed getting GPU reading, switching off GPU monitoring\n"
     ]
    },
    {
     "name": "stderr",
     "output_type": "stream",
     "text": [
      "[I 2025-01-13 17:13:33,012] Trial 247 finished with values: [1130675.0, 4.850378166666667] and parameters: {'a': 1, 'b': 461, 'd': 113}.\n"
     ]
    },
    {
     "name": "stdout",
     "output_type": "stream",
     "text": [
      "ClearML Task: Offline session stored in /Users/karl/.clearml/cache/offline/offline-c34de6c4d3084c888fd1dc7a10c83390.zip\n",
      "ClearML Task: created new task id=offline-e545927ed5744bc49848dcab03387039\n",
      "ClearML running in offline mode, session stored in /Users/karl/.clearml/cache/offline/offline-e545927ed5744bc49848dcab03387039\n",
      "ClearML Monitor: GPU monitoring failed getting GPU reading, switching off GPU monitoring\n"
     ]
    },
    {
     "name": "stderr",
     "output_type": "stream",
     "text": [
      "[I 2025-01-13 17:14:02,233] Trial 248 finished with values: [1142775.0, 6.3127908] and parameters: {'a': 7, 'b': 417, 'd': 228}.\n"
     ]
    },
    {
     "name": "stdout",
     "output_type": "stream",
     "text": [
      "ClearML Task: Offline session stored in /Users/karl/.clearml/cache/offline/offline-e545927ed5744bc49848dcab03387039.zip\n",
      "ClearML Task: created new task id=offline-8651fe3e87e64ac083080893edea5285\n",
      "ClearML running in offline mode, session stored in /Users/karl/.clearml/cache/offline/offline-8651fe3e87e64ac083080893edea5285\n",
      "ClearML Monitor: GPU monitoring failed getting GPU reading, switching off GPU monitoring\n"
     ]
    },
    {
     "name": "stderr",
     "output_type": "stream",
     "text": [
      "[I 2025-01-13 17:14:33,262] Trial 249 finished with values: [1147965.0, 16.72686523333333] and parameters: {'a': 85, 'b': 366, 'd': 87}.\n"
     ]
    },
    {
     "name": "stdout",
     "output_type": "stream",
     "text": [
      "ClearML Task: Offline session stored in /Users/karl/.clearml/cache/offline/offline-8651fe3e87e64ac083080893edea5285.zip\n",
      "ClearML Task: created new task id=offline-b7d86c5330a4400e9828149c0b0f13ee\n",
      "ClearML running in offline mode, session stored in /Users/karl/.clearml/cache/offline/offline-b7d86c5330a4400e9828149c0b0f13ee\n",
      "ClearML Monitor: GPU monitoring failed getting GPU reading, switching off GPU monitoring\n"
     ]
    },
    {
     "name": "stderr",
     "output_type": "stream",
     "text": [
      "[I 2025-01-13 17:15:05,160] Trial 250 finished with values: [1171680.0, 15.3348405] and parameters: {'a': 34, 'b': 11, 'd': 41}.\n"
     ]
    },
    {
     "name": "stdout",
     "output_type": "stream",
     "text": [
      "ClearML Task: Offline session stored in /Users/karl/.clearml/cache/offline/offline-b7d86c5330a4400e9828149c0b0f13ee.zip\n",
      "ClearML Task: created new task id=offline-6a6d601cf24e4571800f019457d650e7\n",
      "ClearML running in offline mode, session stored in /Users/karl/.clearml/cache/offline/offline-6a6d601cf24e4571800f019457d650e7\n",
      "ClearML Monitor: GPU monitoring failed getting GPU reading, switching off GPU monitoring\n"
     ]
    },
    {
     "name": "stderr",
     "output_type": "stream",
     "text": [
      "[I 2025-01-13 17:15:36,156] Trial 251 finished with values: [1171400.0, 15.382510766666666] and parameters: {'a': 311, 'b': 120, 'd': 244}.\n"
     ]
    },
    {
     "name": "stdout",
     "output_type": "stream",
     "text": [
      "ClearML Task: Offline session stored in /Users/karl/.clearml/cache/offline/offline-6a6d601cf24e4571800f019457d650e7.zip\n",
      "ClearML Task: created new task id=offline-e039cd20aaf24601966b4fec1910fdeb\n",
      "ClearML running in offline mode, session stored in /Users/karl/.clearml/cache/offline/offline-e039cd20aaf24601966b4fec1910fdeb\n",
      "ClearML Monitor: GPU monitoring failed getting GPU reading, switching off GPU monitoring\n"
     ]
    },
    {
     "name": "stderr",
     "output_type": "stream",
     "text": [
      "[I 2025-01-13 17:16:07,128] Trial 252 finished with values: [1161315.0, 15.706427816666666] and parameters: {'a': 95, 'b': 235, 'd': 355}.\n"
     ]
    },
    {
     "name": "stdout",
     "output_type": "stream",
     "text": [
      "ClearML Task: Offline session stored in /Users/karl/.clearml/cache/offline/offline-e039cd20aaf24601966b4fec1910fdeb.zip\n",
      "ClearML Task: created new task id=offline-30be303eb1684b1e9f4a846169901557\n",
      "ClearML running in offline mode, session stored in /Users/karl/.clearml/cache/offline/offline-30be303eb1684b1e9f4a846169901557\n",
      "ClearML Monitor: GPU monitoring failed getting GPU reading, switching off GPU monitoring\n"
     ]
    },
    {
     "name": "stderr",
     "output_type": "stream",
     "text": [
      "[I 2025-01-13 17:16:38,393] Trial 253 finished with values: [1167100.0, 16.412884366666667] and parameters: {'a': 485, 'b': 494, 'd': 174}.\n"
     ]
    },
    {
     "name": "stdout",
     "output_type": "stream",
     "text": [
      "ClearML Task: Offline session stored in /Users/karl/.clearml/cache/offline/offline-30be303eb1684b1e9f4a846169901557.zip\n",
      "ClearML Task: created new task id=offline-b8b6419873d04f1589e5eff371e7ebee\n",
      "ClearML running in offline mode, session stored in /Users/karl/.clearml/cache/offline/offline-b8b6419873d04f1589e5eff371e7ebee\n",
      "ClearML Monitor: GPU monitoring failed getting GPU reading, switching off GPU monitoring\n"
     ]
    },
    {
     "name": "stderr",
     "output_type": "stream",
     "text": [
      "[I 2025-01-13 17:17:09,929] Trial 254 finished with values: [1166830.0, 16.325028733333333] and parameters: {'a': 382, 'b': 462, 'd': 344}.\n"
     ]
    },
    {
     "name": "stdout",
     "output_type": "stream",
     "text": [
      "ClearML Task: Offline session stored in /Users/karl/.clearml/cache/offline/offline-b8b6419873d04f1589e5eff371e7ebee.zip\n",
      "ClearML Task: created new task id=offline-432191c8f8e54295a6f7b8829bd50091\n",
      "ClearML running in offline mode, session stored in /Users/karl/.clearml/cache/offline/offline-432191c8f8e54295a6f7b8829bd50091\n",
      "ClearML Monitor: GPU monitoring failed getting GPU reading, switching off GPU monitoring\n"
     ]
    },
    {
     "name": "stderr",
     "output_type": "stream",
     "text": [
      "[I 2025-01-13 17:17:39,671] Trial 255 finished with values: [1161290.0, 8.490312066666666] and parameters: {'a': 31, 'b': 403, 'd': 160}.\n"
     ]
    },
    {
     "name": "stdout",
     "output_type": "stream",
     "text": [
      "ClearML Task: Offline session stored in /Users/karl/.clearml/cache/offline/offline-432191c8f8e54295a6f7b8829bd50091.zip\n",
      "ClearML Task: created new task id=offline-566460eb566d4f5184b100d4df8d6c29\n",
      "ClearML running in offline mode, session stored in /Users/karl/.clearml/cache/offline/offline-566460eb566d4f5184b100d4df8d6c29\n",
      "ClearML Monitor: GPU monitoring failed getting GPU reading, switching off GPU monitoring\n"
     ]
    },
    {
     "name": "stderr",
     "output_type": "stream",
     "text": [
      "[I 2025-01-13 17:18:11,132] Trial 256 finished with values: [1178680.0, 27.1332279] and parameters: {'a': 494, 'b': 8, 'd': 272}.\n"
     ]
    },
    {
     "name": "stdout",
     "output_type": "stream",
     "text": [
      "ClearML Task: Offline session stored in /Users/karl/.clearml/cache/offline/offline-566460eb566d4f5184b100d4df8d6c29.zip\n",
      "ClearML Task: created new task id=offline-b590032a049e4ca59591e23e042bcc10\n",
      "ClearML running in offline mode, session stored in /Users/karl/.clearml/cache/offline/offline-b590032a049e4ca59591e23e042bcc10\n",
      "ClearML Monitor: GPU monitoring failed getting GPU reading, switching off GPU monitoring\n"
     ]
    },
    {
     "name": "stderr",
     "output_type": "stream",
     "text": [
      "[I 2025-01-13 17:18:42,824] Trial 257 finished with values: [1152955.0, 13.41811475] and parameters: {'a': 36, 'b': 229, 'd': 157}.\n"
     ]
    },
    {
     "name": "stdout",
     "output_type": "stream",
     "text": [
      "ClearML Task: Offline session stored in /Users/karl/.clearml/cache/offline/offline-b590032a049e4ca59591e23e042bcc10.zip\n",
      "ClearML Task: created new task id=offline-eebd5feefef84a73a5d6162e8e26fe9e\n",
      "ClearML running in offline mode, session stored in /Users/karl/.clearml/cache/offline/offline-eebd5feefef84a73a5d6162e8e26fe9e\n",
      "ClearML Monitor: GPU monitoring failed getting GPU reading, switching off GPU monitoring\n"
     ]
    },
    {
     "name": "stderr",
     "output_type": "stream",
     "text": [
      "[I 2025-01-13 17:19:12,375] Trial 258 finished with values: [1127190.0, 4.948634916666666] and parameters: {'a': 4, 'b': 497, 'd': 183}.\n"
     ]
    },
    {
     "name": "stdout",
     "output_type": "stream",
     "text": [
      "ClearML Task: Offline session stored in /Users/karl/.clearml/cache/offline/offline-eebd5feefef84a73a5d6162e8e26fe9e.zip\n",
      "ClearML Task: created new task id=offline-8c8593bb056b406893fc9498847ca765\n",
      "ClearML running in offline mode, session stored in /Users/karl/.clearml/cache/offline/offline-8c8593bb056b406893fc9498847ca765\n",
      "ClearML Monitor: GPU monitoring failed getting GPU reading, switching off GPU monitoring\n"
     ]
    },
    {
     "name": "stderr",
     "output_type": "stream",
     "text": [
      "[I 2025-01-13 17:19:44,222] Trial 259 finished with values: [1169405.0, 15.601313133333333] and parameters: {'a': 387, 'b': 97, 'd': 177}.\n"
     ]
    },
    {
     "name": "stdout",
     "output_type": "stream",
     "text": [
      "ClearML Task: Offline session stored in /Users/karl/.clearml/cache/offline/offline-8c8593bb056b406893fc9498847ca765.zip\n",
      "ClearML Task: created new task id=offline-e00a3204266d470f9aa0612d49dc0ee9\n",
      "ClearML running in offline mode, session stored in /Users/karl/.clearml/cache/offline/offline-e00a3204266d470f9aa0612d49dc0ee9\n",
      "ClearML Monitor: GPU monitoring failed getting GPU reading, switching off GPU monitoring\n"
     ]
    },
    {
     "name": "stderr",
     "output_type": "stream",
     "text": [
      "[I 2025-01-13 17:20:13,335] Trial 260 finished with values: [1149920.0, 7.082726916666667] and parameters: {'a': 12, 'b': 444, 'd': 218}.\n"
     ]
    },
    {
     "name": "stdout",
     "output_type": "stream",
     "text": [
      "ClearML Task: Offline session stored in /Users/karl/.clearml/cache/offline/offline-e00a3204266d470f9aa0612d49dc0ee9.zip\n",
      "ClearML Task: created new task id=offline-ee2c65bdd594488485116b8917dc6ce0\n",
      "ClearML running in offline mode, session stored in /Users/karl/.clearml/cache/offline/offline-ee2c65bdd594488485116b8917dc6ce0\n",
      "ClearML Monitor: GPU monitoring failed getting GPU reading, switching off GPU monitoring\n"
     ]
    },
    {
     "name": "stderr",
     "output_type": "stream",
     "text": [
      "[I 2025-01-13 17:20:44,630] Trial 261 finished with values: [1159700.0, 17.06177428333333] and parameters: {'a': 295, 'b': 489, 'd': 497}.\n"
     ]
    },
    {
     "name": "stdout",
     "output_type": "stream",
     "text": [
      "ClearML Task: Offline session stored in /Users/karl/.clearml/cache/offline/offline-ee2c65bdd594488485116b8917dc6ce0.zip\n",
      "ClearML Task: created new task id=offline-aa1040e71c2c4acdafdfb692dd5d08cc\n",
      "ClearML running in offline mode, session stored in /Users/karl/.clearml/cache/offline/offline-aa1040e71c2c4acdafdfb692dd5d08cc\n",
      "ClearML Monitor: GPU monitoring failed getting GPU reading, switching off GPU monitoring\n"
     ]
    },
    {
     "name": "stderr",
     "output_type": "stream",
     "text": [
      "[I 2025-01-13 17:21:13,382] Trial 262 finished with values: [1155670.0, 7.106022583333333] and parameters: {'a': 15, 'b': 448, 'd': 86}.\n"
     ]
    },
    {
     "name": "stdout",
     "output_type": "stream",
     "text": [
      "ClearML Task: Offline session stored in /Users/karl/.clearml/cache/offline/offline-aa1040e71c2c4acdafdfb692dd5d08cc.zip\n",
      "ClearML Task: created new task id=offline-ca52a2d5056c486691247270c08608c4\n",
      "ClearML running in offline mode, session stored in /Users/karl/.clearml/cache/offline/offline-ca52a2d5056c486691247270c08608c4\n",
      "ClearML Monitor: GPU monitoring failed getting GPU reading, switching off GPU monitoring\n"
     ]
    },
    {
     "name": "stderr",
     "output_type": "stream",
     "text": [
      "[I 2025-01-13 17:21:45,793] Trial 263 finished with values: [1165450.0, 16.770283466666665] and parameters: {'a': 304, 'b': 294, 'd': 234}.\n"
     ]
    },
    {
     "name": "stdout",
     "output_type": "stream",
     "text": [
      "ClearML Task: Offline session stored in /Users/karl/.clearml/cache/offline/offline-ca52a2d5056c486691247270c08608c4.zip\n",
      "ClearML Task: created new task id=offline-7c814f7308a04391834f2e2c7a93a9ed\n",
      "ClearML running in offline mode, session stored in /Users/karl/.clearml/cache/offline/offline-7c814f7308a04391834f2e2c7a93a9ed\n",
      "ClearML Monitor: GPU monitoring failed getting GPU reading, switching off GPU monitoring\n"
     ]
    },
    {
     "name": "stderr",
     "output_type": "stream",
     "text": [
      "[I 2025-01-13 17:22:16,405] Trial 264 finished with values: [1155135.0, 13.523941766666667] and parameters: {'a': 71, 'b': 431, 'd': 133}.\n"
     ]
    },
    {
     "name": "stdout",
     "output_type": "stream",
     "text": [
      "ClearML Task: Offline session stored in /Users/karl/.clearml/cache/offline/offline-7c814f7308a04391834f2e2c7a93a9ed.zip\n",
      "ClearML Task: created new task id=offline-ff6e0ab5d16a4974b049cb764c903a1b\n",
      "ClearML running in offline mode, session stored in /Users/karl/.clearml/cache/offline/offline-ff6e0ab5d16a4974b049cb764c903a1b\n",
      "ClearML Monitor: GPU monitoring failed getting GPU reading, switching off GPU monitoring\n"
     ]
    },
    {
     "name": "stderr",
     "output_type": "stream",
     "text": [
      "[I 2025-01-13 17:22:45,073] Trial 265 finished with values: [1151800.0, 6.4494112] and parameters: {'a': 8, 'b': 434, 'd': 153}.\n"
     ]
    },
    {
     "name": "stdout",
     "output_type": "stream",
     "text": [
      "ClearML Task: Offline session stored in /Users/karl/.clearml/cache/offline/offline-ff6e0ab5d16a4974b049cb764c903a1b.zip\n",
      "ClearML Task: created new task id=offline-d4999a31eaea4c08b7585ba56d6f07d2\n",
      "ClearML running in offline mode, session stored in /Users/karl/.clearml/cache/offline/offline-d4999a31eaea4c08b7585ba56d6f07d2\n",
      "ClearML Monitor: GPU monitoring failed getting GPU reading, switching off GPU monitoring\n"
     ]
    },
    {
     "name": "stderr",
     "output_type": "stream",
     "text": [
      "[I 2025-01-13 17:23:16,521] Trial 266 finished with values: [1163725.0, 15.776600216666667] and parameters: {'a': 258, 'b': 461, 'd': 92}.\n"
     ]
    },
    {
     "name": "stdout",
     "output_type": "stream",
     "text": [
      "ClearML Task: Offline session stored in /Users/karl/.clearml/cache/offline/offline-d4999a31eaea4c08b7585ba56d6f07d2.zip\n",
      "ClearML Task: created new task id=offline-8cde135147084e92b7c4622c614c6d6a\n",
      "ClearML running in offline mode, session stored in /Users/karl/.clearml/cache/offline/offline-8cde135147084e92b7c4622c614c6d6a\n",
      "ClearML Monitor: GPU monitoring failed getting GPU reading, switching off GPU monitoring\n"
     ]
    },
    {
     "name": "stderr",
     "output_type": "stream",
     "text": [
      "[I 2025-01-13 17:23:47,138] Trial 267 finished with values: [1171400.0, 15.382510766666666] and parameters: {'a': 213, 'b': 93, 'd': 92}.\n"
     ]
    },
    {
     "name": "stdout",
     "output_type": "stream",
     "text": [
      "ClearML Task: Offline session stored in /Users/karl/.clearml/cache/offline/offline-8cde135147084e92b7c4622c614c6d6a.zip\n",
      "ClearML Task: created new task id=offline-2b350de5818b402e8f65d6a1c56a1592\n",
      "ClearML running in offline mode, session stored in /Users/karl/.clearml/cache/offline/offline-2b350de5818b402e8f65d6a1c56a1592\n",
      "ClearML Monitor: GPU monitoring failed getting GPU reading, switching off GPU monitoring\n"
     ]
    },
    {
     "name": "stderr",
     "output_type": "stream",
     "text": [
      "[I 2025-01-13 17:24:17,735] Trial 268 finished with values: [1171400.0, 15.382510766666666] and parameters: {'a': 442, 'b': 180, 'd': 1}.\n"
     ]
    },
    {
     "name": "stdout",
     "output_type": "stream",
     "text": [
      "ClearML Task: Offline session stored in /Users/karl/.clearml/cache/offline/offline-2b350de5818b402e8f65d6a1c56a1592.zip\n",
      "ClearML Task: created new task id=offline-69e5b1a9b4174edcb2618d7981846486\n",
      "ClearML running in offline mode, session stored in /Users/karl/.clearml/cache/offline/offline-69e5b1a9b4174edcb2618d7981846486\n",
      "ClearML Monitor: GPU monitoring failed getting GPU reading, switching off GPU monitoring\n"
     ]
    },
    {
     "name": "stderr",
     "output_type": "stream",
     "text": [
      "[I 2025-01-13 17:24:46,468] Trial 269 finished with values: [1129310.0, 4.9629810333333335] and parameters: {'a': 3, 'b': 499, 'd': 245}.\n"
     ]
    },
    {
     "name": "stdout",
     "output_type": "stream",
     "text": [
      "ClearML Task: Offline session stored in /Users/karl/.clearml/cache/offline/offline-69e5b1a9b4174edcb2618d7981846486.zip\n",
      "ClearML Task: created new task id=offline-09e2c2d056d24ccf903f6893b1eb5995\n",
      "ClearML running in offline mode, session stored in /Users/karl/.clearml/cache/offline/offline-09e2c2d056d24ccf903f6893b1eb5995\n",
      "ClearML Monitor: GPU monitoring failed getting GPU reading, switching off GPU monitoring\n"
     ]
    },
    {
     "name": "stderr",
     "output_type": "stream",
     "text": [
      "[I 2025-01-13 17:25:15,466] Trial 270 finished with values: [1127965.0, 5.16089455] and parameters: {'a': 4, 'b': 484, 'd': 158}.\n"
     ]
    },
    {
     "name": "stdout",
     "output_type": "stream",
     "text": [
      "ClearML Task: Offline session stored in /Users/karl/.clearml/cache/offline/offline-09e2c2d056d24ccf903f6893b1eb5995.zip\n",
      "ClearML Task: created new task id=offline-f49bf57b34aa45e581fd70e7507bf1e6\n",
      "ClearML running in offline mode, session stored in /Users/karl/.clearml/cache/offline/offline-f49bf57b34aa45e581fd70e7507bf1e6\n",
      "ClearML Monitor: GPU monitoring failed getting GPU reading, switching off GPU monitoring\n"
     ]
    },
    {
     "name": "stderr",
     "output_type": "stream",
     "text": [
      "[I 2025-01-13 17:25:45,864] Trial 271 finished with values: [1155330.0, 14.8251773] and parameters: {'a': 93, 'b': 483, 'd': 257}.\n"
     ]
    },
    {
     "name": "stdout",
     "output_type": "stream",
     "text": [
      "ClearML Task: Offline session stored in /Users/karl/.clearml/cache/offline/offline-f49bf57b34aa45e581fd70e7507bf1e6.zip\n",
      "ClearML Task: created new task id=offline-cf5a2ee9cd9340359019cc31f81f0dff\n",
      "ClearML running in offline mode, session stored in /Users/karl/.clearml/cache/offline/offline-cf5a2ee9cd9340359019cc31f81f0dff\n",
      "ClearML Monitor: GPU monitoring failed getting GPU reading, switching off GPU monitoring\n"
     ]
    },
    {
     "name": "stderr",
     "output_type": "stream",
     "text": [
      "[I 2025-01-13 17:26:14,607] Trial 272 finished with values: [1148435.0, 4.852719783333333] and parameters: {'a': 2, 'b': 493, 'd': 73}.\n"
     ]
    },
    {
     "name": "stdout",
     "output_type": "stream",
     "text": [
      "ClearML Task: Offline session stored in /Users/karl/.clearml/cache/offline/offline-cf5a2ee9cd9340359019cc31f81f0dff.zip\n",
      "ClearML Task: created new task id=offline-daa39e747de1426ca5ae33b9d691f548\n",
      "ClearML running in offline mode, session stored in /Users/karl/.clearml/cache/offline/offline-daa39e747de1426ca5ae33b9d691f548\n",
      "ClearML Monitor: GPU monitoring failed getting GPU reading, switching off GPU monitoring\n"
     ]
    },
    {
     "name": "stderr",
     "output_type": "stream",
     "text": [
      "[I 2025-01-13 17:26:45,031] Trial 273 finished with values: [1171400.0, 15.382510766666666] and parameters: {'a': 481, 'b': 330, 'd': 238}.\n"
     ]
    },
    {
     "name": "stdout",
     "output_type": "stream",
     "text": [
      "ClearML Task: Offline session stored in /Users/karl/.clearml/cache/offline/offline-daa39e747de1426ca5ae33b9d691f548.zip\n",
      "ClearML Task: created new task id=offline-5b75acf308ae43cb8f2ce3d00edcea2e\n",
      "ClearML running in offline mode, session stored in /Users/karl/.clearml/cache/offline/offline-5b75acf308ae43cb8f2ce3d00edcea2e\n",
      "ClearML Monitor: GPU monitoring failed getting GPU reading, switching off GPU monitoring\n"
     ]
    },
    {
     "name": "stderr",
     "output_type": "stream",
     "text": [
      "[I 2025-01-13 17:27:14,275] Trial 274 finished with values: [1169590.0, 7.7352006] and parameters: {'a': 30, 'b': 474, 'd': 445}.\n"
     ]
    },
    {
     "name": "stdout",
     "output_type": "stream",
     "text": [
      "ClearML Task: Offline session stored in /Users/karl/.clearml/cache/offline/offline-5b75acf308ae43cb8f2ce3d00edcea2e.zip\n",
      "ClearML Task: created new task id=offline-df35ca0b71204c84add7adf4fa1fb0ad\n",
      "ClearML running in offline mode, session stored in /Users/karl/.clearml/cache/offline/offline-df35ca0b71204c84add7adf4fa1fb0ad\n",
      "ClearML Monitor: GPU monitoring failed getting GPU reading, switching off GPU monitoring\n"
     ]
    },
    {
     "name": "stderr",
     "output_type": "stream",
     "text": [
      "[I 2025-01-13 17:27:42,811] Trial 275 finished with values: [1143030.0, 6.3962569333333334] and parameters: {'a': 8, 'b': 468, 'd': 104}.\n"
     ]
    },
    {
     "name": "stdout",
     "output_type": "stream",
     "text": [
      "ClearML Task: Offline session stored in /Users/karl/.clearml/cache/offline/offline-df35ca0b71204c84add7adf4fa1fb0ad.zip\n",
      "ClearML Task: created new task id=offline-dc545ff4ce7843578c133c5a81df1826\n",
      "ClearML running in offline mode, session stored in /Users/karl/.clearml/cache/offline/offline-dc545ff4ce7843578c133c5a81df1826\n",
      "ClearML Monitor: GPU monitoring failed getting GPU reading, switching off GPU monitoring\n"
     ]
    },
    {
     "name": "stderr",
     "output_type": "stream",
     "text": [
      "[I 2025-01-13 17:28:13,250] Trial 276 finished with values: [1178205.0, 17.341433483333333] and parameters: {'a': 110, 'b': 79, 'd': 414}.\n"
     ]
    },
    {
     "name": "stdout",
     "output_type": "stream",
     "text": [
      "ClearML Task: Offline session stored in /Users/karl/.clearml/cache/offline/offline-dc545ff4ce7843578c133c5a81df1826.zip\n",
      "ClearML Task: created new task id=offline-90d54912920847f7bdbeb7dd53128400\n",
      "ClearML running in offline mode, session stored in /Users/karl/.clearml/cache/offline/offline-90d54912920847f7bdbeb7dd53128400\n",
      "ClearML Monitor: GPU monitoring failed getting GPU reading, switching off GPU monitoring\n"
     ]
    },
    {
     "name": "stderr",
     "output_type": "stream",
     "text": [
      "[I 2025-01-13 17:28:42,320] Trial 277 finished with values: [1127620.0, 5.061774833333333] and parameters: {'a': 3, 'b': 392, 'd': 204}.\n"
     ]
    },
    {
     "name": "stdout",
     "output_type": "stream",
     "text": [
      "ClearML Task: Offline session stored in /Users/karl/.clearml/cache/offline/offline-90d54912920847f7bdbeb7dd53128400.zip\n",
      "ClearML Task: created new task id=offline-9524d589e64a4666a7ea12cf81712812\n",
      "ClearML running in offline mode, session stored in /Users/karl/.clearml/cache/offline/offline-9524d589e64a4666a7ea12cf81712812\n",
      "ClearML Monitor: GPU monitoring failed getting GPU reading, switching off GPU monitoring\n"
     ]
    },
    {
     "name": "stderr",
     "output_type": "stream",
     "text": [
      "[I 2025-01-13 17:29:10,552] Trial 278 finished with values: [1142775.0, 6.3127908] and parameters: {'a': 8, 'b': 482, 'd': 219}.\n"
     ]
    },
    {
     "name": "stdout",
     "output_type": "stream",
     "text": [
      "ClearML Task: Offline session stored in /Users/karl/.clearml/cache/offline/offline-9524d589e64a4666a7ea12cf81712812.zip\n",
      "ClearML Task: created new task id=offline-627a85e4d898419da6df576f9011d6da\n",
      "ClearML running in offline mode, session stored in /Users/karl/.clearml/cache/offline/offline-627a85e4d898419da6df576f9011d6da\n",
      "ClearML Monitor: GPU monitoring failed getting GPU reading, switching off GPU monitoring\n"
     ]
    },
    {
     "name": "stderr",
     "output_type": "stream",
     "text": [
      "[I 2025-01-13 17:29:40,928] Trial 279 finished with values: [1154595.0, 14.536903616666667] and parameters: {'a': 82, 'b': 409, 'd': 231}.\n"
     ]
    },
    {
     "name": "stdout",
     "output_type": "stream",
     "text": [
      "ClearML Task: Offline session stored in /Users/karl/.clearml/cache/offline/offline-627a85e4d898419da6df576f9011d6da.zip\n",
      "ClearML Task: created new task id=offline-7187a65fdbf240c4b78f3cf048084ab2\n",
      "ClearML running in offline mode, session stored in /Users/karl/.clearml/cache/offline/offline-7187a65fdbf240c4b78f3cf048084ab2\n",
      "ClearML Monitor: GPU monitoring failed getting GPU reading, switching off GPU monitoring\n"
     ]
    },
    {
     "name": "stderr",
     "output_type": "stream",
     "text": [
      "[I 2025-01-13 17:30:10,521] Trial 280 finished with values: [1160330.0, 15.273184516666667] and parameters: {'a': 106, 'b': 476, 'd': 130}.\n"
     ]
    },
    {
     "name": "stdout",
     "output_type": "stream",
     "text": [
      "ClearML Task: Offline session stored in /Users/karl/.clearml/cache/offline/offline-7187a65fdbf240c4b78f3cf048084ab2.zip\n",
      "ClearML Task: created new task id=offline-05cc9d05a6b14543889a289fdbda95c1\n",
      "ClearML running in offline mode, session stored in /Users/karl/.clearml/cache/offline/offline-05cc9d05a6b14543889a289fdbda95c1\n",
      "ClearML Monitor: GPU monitoring failed getting GPU reading, switching off GPU monitoring\n"
     ]
    },
    {
     "name": "stderr",
     "output_type": "stream",
     "text": [
      "[I 2025-01-13 17:30:41,035] Trial 281 finished with values: [1168255.0, 16.775011966666668] and parameters: {'a': 147, 'b': 330, 'd': 13}.\n"
     ]
    },
    {
     "name": "stdout",
     "output_type": "stream",
     "text": [
      "ClearML Task: Offline session stored in /Users/karl/.clearml/cache/offline/offline-05cc9d05a6b14543889a289fdbda95c1.zip\n",
      "ClearML Task: created new task id=offline-d0758b4d2d934a509ef0bce730cf6838\n",
      "ClearML running in offline mode, session stored in /Users/karl/.clearml/cache/offline/offline-d0758b4d2d934a509ef0bce730cf6838\n",
      "ClearML Monitor: GPU monitoring failed getting GPU reading, switching off GPU monitoring\n"
     ]
    },
    {
     "name": "stderr",
     "output_type": "stream",
     "text": [
      "[I 2025-01-13 17:31:11,959] Trial 282 finished with values: [1163685.0, 17.156944433333333] and parameters: {'a': 88, 'b': 100, 'd': 257}.\n"
     ]
    },
    {
     "name": "stdout",
     "output_type": "stream",
     "text": [
      "ClearML Task: Offline session stored in /Users/karl/.clearml/cache/offline/offline-d0758b4d2d934a509ef0bce730cf6838.zip\n",
      "ClearML Task: created new task id=offline-717a4e2d6d184fb088df375814abac5c\n",
      "ClearML running in offline mode, session stored in /Users/karl/.clearml/cache/offline/offline-717a4e2d6d184fb088df375814abac5c\n",
      "ClearML Monitor: GPU monitoring failed getting GPU reading, switching off GPU monitoring\n"
     ]
    },
    {
     "name": "stderr",
     "output_type": "stream",
     "text": [
      "[I 2025-01-13 17:31:38,505] Trial 283 finished with values: [1116805.0, 4.85344695] and parameters: {'a': 1, 'b': 417, 'd': 165}.\n"
     ]
    },
    {
     "name": "stdout",
     "output_type": "stream",
     "text": [
      "ClearML Task: Offline session stored in /Users/karl/.clearml/cache/offline/offline-717a4e2d6d184fb088df375814abac5c.zip\n",
      "ClearML Task: created new task id=offline-85fa238e99254726858a651a11651f2a\n",
      "ClearML running in offline mode, session stored in /Users/karl/.clearml/cache/offline/offline-85fa238e99254726858a651a11651f2a\n",
      "ClearML Monitor: GPU monitoring failed getting GPU reading, switching off GPU monitoring\n"
     ]
    },
    {
     "name": "stderr",
     "output_type": "stream",
     "text": [
      "[I 2025-01-13 17:32:07,979] Trial 284 finished with values: [1150990.0, 6.31964575] and parameters: {'a': 5, 'b': 357, 'd': 167}.\n"
     ]
    },
    {
     "name": "stdout",
     "output_type": "stream",
     "text": [
      "ClearML Task: Offline session stored in /Users/karl/.clearml/cache/offline/offline-85fa238e99254726858a651a11651f2a.zip\n",
      "ClearML Task: created new task id=offline-98f2edda81ba40e7b1228e6b5c0361be\n",
      "ClearML running in offline mode, session stored in /Users/karl/.clearml/cache/offline/offline-98f2edda81ba40e7b1228e6b5c0361be\n",
      "ClearML Monitor: GPU monitoring failed getting GPU reading, switching off GPU monitoring\n"
     ]
    },
    {
     "name": "stderr",
     "output_type": "stream",
     "text": [
      "[I 2025-01-13 17:32:36,109] Trial 285 finished with values: [1131870.0, 5.0723339] and parameters: {'a': 3, 'b': 385, 'd': 197}.\n"
     ]
    },
    {
     "name": "stdout",
     "output_type": "stream",
     "text": [
      "ClearML Task: Offline session stored in /Users/karl/.clearml/cache/offline/offline-98f2edda81ba40e7b1228e6b5c0361be.zip\n",
      "ClearML Task: created new task id=offline-6c188b5a1f8841abb428e64aa9ca6da8\n",
      "ClearML running in offline mode, session stored in /Users/karl/.clearml/cache/offline/offline-6c188b5a1f8841abb428e64aa9ca6da8\n",
      "ClearML Monitor: GPU monitoring failed getting GPU reading, switching off GPU monitoring\n"
     ]
    },
    {
     "name": "stderr",
     "output_type": "stream",
     "text": [
      "[I 2025-01-13 17:33:05,993] Trial 286 finished with values: [1160955.0, 11.9570799] and parameters: {'a': 43, 'b': 324, 'd': 115}.\n"
     ]
    },
    {
     "name": "stdout",
     "output_type": "stream",
     "text": [
      "ClearML Task: Offline session stored in /Users/karl/.clearml/cache/offline/offline-6c188b5a1f8841abb428e64aa9ca6da8.zip\n",
      "ClearML Task: created new task id=offline-42d22b696f0a4e8d92a8b623df65e323\n",
      "ClearML running in offline mode, session stored in /Users/karl/.clearml/cache/offline/offline-42d22b696f0a4e8d92a8b623df65e323\n",
      "ClearML Monitor: GPU monitoring failed getting GPU reading, switching off GPU monitoring\n"
     ]
    },
    {
     "name": "stderr",
     "output_type": "stream",
     "text": [
      "[I 2025-01-13 17:33:33,907] Trial 287 finished with values: [1122610.0, 4.905142683333334] and parameters: {'a': 1, 'b': 349, 'd': 199}.\n"
     ]
    },
    {
     "name": "stdout",
     "output_type": "stream",
     "text": [
      "ClearML Task: Offline session stored in /Users/karl/.clearml/cache/offline/offline-42d22b696f0a4e8d92a8b623df65e323.zip\n",
      "ClearML Task: created new task id=offline-ebf2e89a61614388a4289f1bde2f3e15\n",
      "ClearML running in offline mode, session stored in /Users/karl/.clearml/cache/offline/offline-ebf2e89a61614388a4289f1bde2f3e15\n",
      "ClearML Monitor: GPU monitoring failed getting GPU reading, switching off GPU monitoring\n"
     ]
    },
    {
     "name": "stderr",
     "output_type": "stream",
     "text": [
      "[I 2025-01-13 17:34:04,211] Trial 288 finished with values: [1150210.0, 16.444636] and parameters: {'a': 75, 'b': 327, 'd': 175}.\n"
     ]
    },
    {
     "name": "stdout",
     "output_type": "stream",
     "text": [
      "ClearML Task: Offline session stored in /Users/karl/.clearml/cache/offline/offline-ebf2e89a61614388a4289f1bde2f3e15.zip\n",
      "ClearML Task: created new task id=offline-b727bfc7b75443e8b3e8db28aef28e5b\n",
      "ClearML running in offline mode, session stored in /Users/karl/.clearml/cache/offline/offline-b727bfc7b75443e8b3e8db28aef28e5b\n",
      "ClearML Monitor: GPU monitoring failed getting GPU reading, switching off GPU monitoring\n"
     ]
    },
    {
     "name": "stderr",
     "output_type": "stream",
     "text": [
      "[I 2025-01-13 17:34:33,627] Trial 289 finished with values: [1161430.0, 15.797251733333333] and parameters: {'a': 81, 'b': 385, 'd': 199}.\n"
     ]
    },
    {
     "name": "stdout",
     "output_type": "stream",
     "text": [
      "ClearML Task: Offline session stored in /Users/karl/.clearml/cache/offline/offline-b727bfc7b75443e8b3e8db28aef28e5b.zip\n",
      "ClearML Task: created new task id=offline-55042bf0352741a48c478b96d7d68d5c\n",
      "ClearML running in offline mode, session stored in /Users/karl/.clearml/cache/offline/offline-55042bf0352741a48c478b96d7d68d5c\n",
      "ClearML Monitor: GPU monitoring failed getting GPU reading, switching off GPU monitoring\n"
     ]
    },
    {
     "name": "stderr",
     "output_type": "stream",
     "text": [
      "[I 2025-01-13 17:35:01,607] Trial 290 finished with values: [1152650.0, 7.009613166666667] and parameters: {'a': 11, 'b': 370, 'd': 187}.\n"
     ]
    },
    {
     "name": "stdout",
     "output_type": "stream",
     "text": [
      "ClearML Task: Offline session stored in /Users/karl/.clearml/cache/offline/offline-55042bf0352741a48c478b96d7d68d5c.zip\n",
      "ClearML Task: created new task id=offline-59773acfa5a94401ac29a0e50230d66d\n",
      "ClearML running in offline mode, session stored in /Users/karl/.clearml/cache/offline/offline-59773acfa5a94401ac29a0e50230d66d\n",
      "ClearML Monitor: GPU monitoring failed getting GPU reading, switching off GPU monitoring\n"
     ]
    },
    {
     "name": "stderr",
     "output_type": "stream",
     "text": [
      "[I 2025-01-13 17:35:34,194] Trial 291 finished with values: [1153335.0, 7.438378316666667] and parameters: {'a': 13, 'b': 415, 'd': 184}.\n"
     ]
    },
    {
     "name": "stdout",
     "output_type": "stream",
     "text": [
      "ClearML Task: Offline session stored in /Users/karl/.clearml/cache/offline/offline-59773acfa5a94401ac29a0e50230d66d.zip\n",
      "ClearML Task: created new task id=offline-665f6907170c4caf971626c906e6f57e\n",
      "ClearML running in offline mode, session stored in /Users/karl/.clearml/cache/offline/offline-665f6907170c4caf971626c906e6f57e\n",
      "ClearML Monitor: GPU monitoring failed getting GPU reading, switching off GPU monitoring\n"
     ]
    },
    {
     "name": "stderr",
     "output_type": "stream",
     "text": [
      "[I 2025-01-13 17:36:05,222] Trial 292 finished with values: [1155245.0, 15.362907233333335] and parameters: {'a': 88, 'b': 403, 'd': 169}.\n"
     ]
    },
    {
     "name": "stdout",
     "output_type": "stream",
     "text": [
      "ClearML Task: Offline session stored in /Users/karl/.clearml/cache/offline/offline-665f6907170c4caf971626c906e6f57e.zip\n",
      "ClearML Task: created new task id=offline-1e30d36b875542019efe79ea1526327b\n",
      "ClearML running in offline mode, session stored in /Users/karl/.clearml/cache/offline/offline-1e30d36b875542019efe79ea1526327b\n",
      "ClearML Monitor: GPU monitoring failed getting GPU reading, switching off GPU monitoring\n"
     ]
    },
    {
     "name": "stderr",
     "output_type": "stream",
     "text": [
      "[I 2025-01-13 17:36:33,399] Trial 293 finished with values: [1148210.0, 6.362847016666667] and parameters: {'a': 6, 'b': 414, 'd': 168}.\n"
     ]
    },
    {
     "name": "stdout",
     "output_type": "stream",
     "text": [
      "ClearML Task: Offline session stored in /Users/karl/.clearml/cache/offline/offline-1e30d36b875542019efe79ea1526327b.zip\n",
      "ClearML Task: created new task id=offline-81f822eaab184b128de28e74cde9e655\n",
      "ClearML running in offline mode, session stored in /Users/karl/.clearml/cache/offline/offline-81f822eaab184b128de28e74cde9e655\n",
      "ClearML Monitor: GPU monitoring failed getting GPU reading, switching off GPU monitoring\n"
     ]
    },
    {
     "name": "stderr",
     "output_type": "stream",
     "text": [
      "[I 2025-01-13 17:37:02,446] Trial 294 finished with values: [1128910.0, 4.925627266666667] and parameters: {'a': 2, 'b': 346, 'd': 189}.\n"
     ]
    },
    {
     "name": "stdout",
     "output_type": "stream",
     "text": [
      "ClearML Task: Offline session stored in /Users/karl/.clearml/cache/offline/offline-81f822eaab184b128de28e74cde9e655.zip\n",
      "ClearML Task: created new task id=offline-b6a343ce0e184c36887b3f89aac8455b\n",
      "ClearML running in offline mode, session stored in /Users/karl/.clearml/cache/offline/offline-b6a343ce0e184c36887b3f89aac8455b\n",
      "ClearML Monitor: GPU monitoring failed getting GPU reading, switching off GPU monitoring\n"
     ]
    },
    {
     "name": "stderr",
     "output_type": "stream",
     "text": [
      "[I 2025-01-13 17:37:30,376] Trial 295 finished with values: [1130140.0, 4.831562316666666] and parameters: {'a': 2, 'b': 385, 'd': 170}.\n"
     ]
    },
    {
     "name": "stdout",
     "output_type": "stream",
     "text": [
      "ClearML Task: Offline session stored in /Users/karl/.clearml/cache/offline/offline-b6a343ce0e184c36887b3f89aac8455b.zip\n",
      "ClearML Task: created new task id=offline-d417d180ff534b168b0c31f1f230c2e6\n",
      "ClearML running in offline mode, session stored in /Users/karl/.clearml/cache/offline/offline-d417d180ff534b168b0c31f1f230c2e6\n",
      "ClearML Monitor: GPU monitoring failed getting GPU reading, switching off GPU monitoring\n"
     ]
    },
    {
     "name": "stderr",
     "output_type": "stream",
     "text": [
      "[I 2025-01-13 17:38:00,594] Trial 296 finished with values: [1138050.0, 5.225842583333333] and parameters: {'a': 4, 'b': 394, 'd': 140}.\n"
     ]
    },
    {
     "name": "stdout",
     "output_type": "stream",
     "text": [
      "ClearML Task: Offline session stored in /Users/karl/.clearml/cache/offline/offline-d417d180ff534b168b0c31f1f230c2e6.zip\n",
      "ClearML Task: created new task id=offline-5872ebd82ca7455cb05a3fe3edee84b6\n",
      "ClearML running in offline mode, session stored in /Users/karl/.clearml/cache/offline/offline-5872ebd82ca7455cb05a3fe3edee84b6\n",
      "ClearML Monitor: GPU monitoring failed getting GPU reading, switching off GPU monitoring\n"
     ]
    },
    {
     "name": "stderr",
     "output_type": "stream",
     "text": [
      "[I 2025-01-13 17:38:30,072] Trial 297 finished with values: [1157200.0, 7.351432116666667] and parameters: {'a': 15, 'b': 362, 'd': 234}.\n"
     ]
    },
    {
     "name": "stdout",
     "output_type": "stream",
     "text": [
      "ClearML Task: Offline session stored in /Users/karl/.clearml/cache/offline/offline-5872ebd82ca7455cb05a3fe3edee84b6.zip\n",
      "ClearML Task: created new task id=offline-574b3906a7d04708bcc9241a90eae8fa\n",
      "ClearML running in offline mode, session stored in /Users/karl/.clearml/cache/offline/offline-574b3906a7d04708bcc9241a90eae8fa\n",
      "ClearML Monitor: GPU monitoring failed getting GPU reading, switching off GPU monitoring\n"
     ]
    },
    {
     "name": "stderr",
     "output_type": "stream",
     "text": [
      "[I 2025-01-13 17:38:59,390] Trial 298 finished with values: [1161825.0, 8.2628388] and parameters: {'a': 27, 'b': 387, 'd': 173}.\n"
     ]
    },
    {
     "name": "stdout",
     "output_type": "stream",
     "text": [
      "ClearML Task: Offline session stored in /Users/karl/.clearml/cache/offline/offline-574b3906a7d04708bcc9241a90eae8fa.zip\n",
      "ClearML Task: created new task id=offline-08687843cd924addb2c83a10402943bc\n",
      "ClearML running in offline mode, session stored in /Users/karl/.clearml/cache/offline/offline-08687843cd924addb2c83a10402943bc\n",
      "ClearML Monitor: GPU monitoring failed getting GPU reading, switching off GPU monitoring\n"
     ]
    },
    {
     "name": "stderr",
     "output_type": "stream",
     "text": [
      "[I 2025-01-13 17:39:28,742] Trial 299 finished with values: [1130675.0, 4.850378166666667] and parameters: {'a': 1, 'b': 393, 'd': 119}.\n"
     ]
    },
    {
     "name": "stdout",
     "output_type": "stream",
     "text": [
      "ClearML Task: Offline session stored in /Users/karl/.clearml/cache/offline/offline-08687843cd924addb2c83a10402943bc.zip\n",
      "ClearML Task: created new task id=offline-9562e58c7f31493a834f83d6e69eb7cf\n",
      "ClearML running in offline mode, session stored in /Users/karl/.clearml/cache/offline/offline-9562e58c7f31493a834f83d6e69eb7cf\n",
      "ClearML Monitor: GPU monitoring failed getting GPU reading, switching off GPU monitoring\n"
     ]
    },
    {
     "name": "stderr",
     "output_type": "stream",
     "text": [
      "[I 2025-01-13 17:40:00,165] Trial 300 finished with values: [1155320.0, 14.801896366666666] and parameters: {'a': 79, 'b': 412, 'd': 98}.\n"
     ]
    },
    {
     "name": "stdout",
     "output_type": "stream",
     "text": [
      "ClearML Task: Offline session stored in /Users/karl/.clearml/cache/offline/offline-9562e58c7f31493a834f83d6e69eb7cf.zip\n",
      "ClearML Task: created new task id=offline-2dc7ba219683430a87153f341c876b06\n",
      "ClearML running in offline mode, session stored in /Users/karl/.clearml/cache/offline/offline-2dc7ba219683430a87153f341c876b06\n",
      "ClearML Monitor: GPU monitoring failed getting GPU reading, switching off GPU monitoring\n"
     ]
    },
    {
     "name": "stderr",
     "output_type": "stream",
     "text": [
      "[I 2025-01-13 17:40:30,342] Trial 301 finished with values: [1153225.0, 14.764308983333333] and parameters: {'a': 79, 'b': 396, 'd': 127}.\n"
     ]
    },
    {
     "name": "stdout",
     "output_type": "stream",
     "text": [
      "ClearML Task: Offline session stored in /Users/karl/.clearml/cache/offline/offline-2dc7ba219683430a87153f341c876b06.zip\n",
      "ClearML Task: created new task id=offline-8d44e57270c8475abaf0c7c61ded7600\n",
      "ClearML running in offline mode, session stored in /Users/karl/.clearml/cache/offline/offline-8d44e57270c8475abaf0c7c61ded7600\n",
      "ClearML Monitor: GPU monitoring failed getting GPU reading, switching off GPU monitoring\n"
     ]
    },
    {
     "name": "stderr",
     "output_type": "stream",
     "text": [
      "[I 2025-01-13 17:40:59,246] Trial 302 finished with values: [1147090.0, 6.444055133333333] and parameters: {'a': 6, 'b': 380, 'd': 169}.\n"
     ]
    },
    {
     "name": "stdout",
     "output_type": "stream",
     "text": [
      "ClearML Task: Offline session stored in /Users/karl/.clearml/cache/offline/offline-8d44e57270c8475abaf0c7c61ded7600.zip\n",
      "ClearML Task: created new task id=offline-ba81420eb67b49358da07ee76b449cd2\n",
      "ClearML running in offline mode, session stored in /Users/karl/.clearml/cache/offline/offline-ba81420eb67b49358da07ee76b449cd2\n",
      "ClearML Monitor: GPU monitoring failed getting GPU reading, switching off GPU monitoring\n"
     ]
    },
    {
     "name": "stderr",
     "output_type": "stream",
     "text": [
      "[I 2025-01-13 17:41:28,710] Trial 303 finished with values: [1149085.0, 6.6991191] and parameters: {'a': 9, 'b': 397, 'd': 125}.\n"
     ]
    },
    {
     "name": "stdout",
     "output_type": "stream",
     "text": [
      "ClearML Task: Offline session stored in /Users/karl/.clearml/cache/offline/offline-ba81420eb67b49358da07ee76b449cd2.zip\n",
      "ClearML Task: created new task id=offline-2bc11b807a2f4a07ab1bb39882d29f48\n",
      "ClearML running in offline mode, session stored in /Users/karl/.clearml/cache/offline/offline-2bc11b807a2f4a07ab1bb39882d29f48\n",
      "ClearML Monitor: GPU monitoring failed getting GPU reading, switching off GPU monitoring\n"
     ]
    },
    {
     "name": "stderr",
     "output_type": "stream",
     "text": [
      "[I 2025-01-13 17:41:57,510] Trial 304 finished with values: [1147460.0, 6.889206] and parameters: {'a': 11, 'b': 440, 'd': 214}.\n"
     ]
    },
    {
     "name": "stdout",
     "output_type": "stream",
     "text": [
      "ClearML Task: Offline session stored in /Users/karl/.clearml/cache/offline/offline-2bc11b807a2f4a07ab1bb39882d29f48.zip\n",
      "ClearML Task: created new task id=offline-4e3534d3d00943c69dcd898c09b7b831\n",
      "ClearML running in offline mode, session stored in /Users/karl/.clearml/cache/offline/offline-4e3534d3d00943c69dcd898c09b7b831\n",
      "ClearML Monitor: GPU monitoring failed getting GPU reading, switching off GPU monitoring\n"
     ]
    },
    {
     "name": "stderr",
     "output_type": "stream",
     "text": [
      "[I 2025-01-13 17:42:25,418] Trial 305 finished with values: [1153910.0, 7.227336266666667] and parameters: {'a': 16, 'b': 419, 'd': 123}.\n"
     ]
    },
    {
     "name": "stdout",
     "output_type": "stream",
     "text": [
      "ClearML Task: Offline session stored in /Users/karl/.clearml/cache/offline/offline-4e3534d3d00943c69dcd898c09b7b831.zip\n",
      "ClearML Task: created new task id=offline-492862839706431683c0771bd4a3846f\n",
      "ClearML running in offline mode, session stored in /Users/karl/.clearml/cache/offline/offline-492862839706431683c0771bd4a3846f\n",
      "ClearML Monitor: GPU monitoring failed getting GPU reading, switching off GPU monitoring\n"
     ]
    },
    {
     "name": "stderr",
     "output_type": "stream",
     "text": [
      "[I 2025-01-13 17:42:53,731] Trial 306 finished with values: [1120670.0, 4.912189983333334] and parameters: {'a': 1, 'b': 405, 'd': 148}.\n"
     ]
    },
    {
     "name": "stdout",
     "output_type": "stream",
     "text": [
      "ClearML Task: Offline session stored in /Users/karl/.clearml/cache/offline/offline-492862839706431683c0771bd4a3846f.zip\n",
      "ClearML Task: created new task id=offline-d719b18022a745459f39b3e6be849db4\n",
      "ClearML running in offline mode, session stored in /Users/karl/.clearml/cache/offline/offline-d719b18022a745459f39b3e6be849db4\n",
      "ClearML Monitor: GPU monitoring failed getting GPU reading, switching off GPU monitoring\n"
     ]
    },
    {
     "name": "stderr",
     "output_type": "stream",
     "text": [
      "[I 2025-01-13 17:43:23,538] Trial 307 finished with values: [1151605.0, 14.98252705] and parameters: {'a': 83, 'b': 407, 'd': 198}.\n"
     ]
    },
    {
     "name": "stdout",
     "output_type": "stream",
     "text": [
      "ClearML Task: Offline session stored in /Users/karl/.clearml/cache/offline/offline-d719b18022a745459f39b3e6be849db4.zip\n",
      "ClearML Task: created new task id=offline-77e5fdda409649b59c4706c147745f5b\n",
      "ClearML running in offline mode, session stored in /Users/karl/.clearml/cache/offline/offline-77e5fdda409649b59c4706c147745f5b\n",
      "ClearML Monitor: GPU monitoring failed getting GPU reading, switching off GPU monitoring\n"
     ]
    },
    {
     "name": "stderr",
     "output_type": "stream",
     "text": [
      "[I 2025-01-13 17:43:53,605] Trial 308 finished with values: [1153610.0, 14.0180469] and parameters: {'a': 87, 'b': 480, 'd': 154}.\n"
     ]
    },
    {
     "name": "stdout",
     "output_type": "stream",
     "text": [
      "ClearML Task: Offline session stored in /Users/karl/.clearml/cache/offline/offline-77e5fdda409649b59c4706c147745f5b.zip\n",
      "ClearML Task: created new task id=offline-4a08664ab5c44a5399724616936f9355\n",
      "ClearML running in offline mode, session stored in /Users/karl/.clearml/cache/offline/offline-4a08664ab5c44a5399724616936f9355\n",
      "ClearML Monitor: GPU monitoring failed getting GPU reading, switching off GPU monitoring\n"
     ]
    },
    {
     "name": "stderr",
     "output_type": "stream",
     "text": [
      "[I 2025-01-13 17:44:21,001] Trial 309 finished with values: [1149195.0, 6.7771204166666665] and parameters: {'a': 7, 'b': 308, 'd': 193}.\n"
     ]
    },
    {
     "name": "stdout",
     "output_type": "stream",
     "text": [
      "ClearML Task: Offline session stored in /Users/karl/.clearml/cache/offline/offline-4a08664ab5c44a5399724616936f9355.zip\n",
      "ClearML Task: created new task id=offline-7edd7215b4154a2796089fde6fda9bc5\n",
      "ClearML running in offline mode, session stored in /Users/karl/.clearml/cache/offline/offline-7edd7215b4154a2796089fde6fda9bc5\n",
      "ClearML Monitor: GPU monitoring failed getting GPU reading, switching off GPU monitoring\n"
     ]
    },
    {
     "name": "stderr",
     "output_type": "stream",
     "text": [
      "[I 2025-01-13 17:44:49,234] Trial 310 finished with values: [1131250.0, 5.082773133333333] and parameters: {'a': 4, 'b': 421, 'd': 216}.\n"
     ]
    },
    {
     "name": "stdout",
     "output_type": "stream",
     "text": [
      "ClearML Task: Offline session stored in /Users/karl/.clearml/cache/offline/offline-7edd7215b4154a2796089fde6fda9bc5.zip\n",
      "ClearML Task: created new task id=offline-f81c9eb92d3a4214a7829d02a6709949\n",
      "ClearML running in offline mode, session stored in /Users/karl/.clearml/cache/offline/offline-f81c9eb92d3a4214a7829d02a6709949\n",
      "ClearML Monitor: GPU monitoring failed getting GPU reading, switching off GPU monitoring\n"
     ]
    },
    {
     "name": "stderr",
     "output_type": "stream",
     "text": [
      "[I 2025-01-13 17:45:16,097] Trial 311 finished with values: [1136725.0, 4.827412866666666] and parameters: {'a': 1, 'b': 380, 'd': 73}.\n"
     ]
    },
    {
     "name": "stdout",
     "output_type": "stream",
     "text": [
      "ClearML Task: Offline session stored in /Users/karl/.clearml/cache/offline/offline-f81c9eb92d3a4214a7829d02a6709949.zip\n",
      "ClearML Task: created new task id=offline-b3bf433da77a49d3a6a95a909200772b\n",
      "ClearML running in offline mode, session stored in /Users/karl/.clearml/cache/offline/offline-b3bf433da77a49d3a6a95a909200772b\n",
      "ClearML Monitor: GPU monitoring failed getting GPU reading, switching off GPU monitoring\n"
     ]
    },
    {
     "name": "stderr",
     "output_type": "stream",
     "text": [
      "[I 2025-01-13 17:45:46,897] Trial 312 finished with values: [1160845.0, 13.0394099] and parameters: {'a': 65, 'b': 410, 'd': 131}.\n"
     ]
    },
    {
     "name": "stdout",
     "output_type": "stream",
     "text": [
      "ClearML Task: Offline session stored in /Users/karl/.clearml/cache/offline/offline-b3bf433da77a49d3a6a95a909200772b.zip\n",
      "ClearML Task: created new task id=offline-4e4b56c28b3044749d06f87694eef428\n",
      "ClearML running in offline mode, session stored in /Users/karl/.clearml/cache/offline/offline-4e4b56c28b3044749d06f87694eef428\n",
      "ClearML Monitor: GPU monitoring failed getting GPU reading, switching off GPU monitoring\n"
     ]
    },
    {
     "name": "stderr",
     "output_type": "stream",
     "text": [
      "[I 2025-01-13 17:46:16,979] Trial 313 finished with values: [1117530.0, 4.923538416666667] and parameters: {'a': 2, 'b': 494, 'd': 193}.\n"
     ]
    },
    {
     "name": "stdout",
     "output_type": "stream",
     "text": [
      "ClearML Task: Offline session stored in /Users/karl/.clearml/cache/offline/offline-4e4b56c28b3044749d06f87694eef428.zip\n",
      "ClearML Task: created new task id=offline-055a0963aa0f4713bb8deffdde445280\n",
      "ClearML running in offline mode, session stored in /Users/karl/.clearml/cache/offline/offline-055a0963aa0f4713bb8deffdde445280\n",
      "ClearML Monitor: GPU monitoring failed getting GPU reading, switching off GPU monitoring\n"
     ]
    },
    {
     "name": "stderr",
     "output_type": "stream",
     "text": [
      "[I 2025-01-13 17:46:46,235] Trial 314 finished with values: [1133370.0, 4.884160116666666] and parameters: {'a': 3, 'b': 493, 'd': 177}.\n"
     ]
    },
    {
     "name": "stdout",
     "output_type": "stream",
     "text": [
      "ClearML Task: Offline session stored in /Users/karl/.clearml/cache/offline/offline-055a0963aa0f4713bb8deffdde445280.zip\n",
      "ClearML Task: created new task id=offline-f753da9978e546b8a32dbbcc1b4d142f\n",
      "ClearML running in offline mode, session stored in /Users/karl/.clearml/cache/offline/offline-f753da9978e546b8a32dbbcc1b4d142f\n",
      "ClearML Monitor: GPU monitoring failed getting GPU reading, switching off GPU monitoring\n"
     ]
    },
    {
     "name": "stderr",
     "output_type": "stream",
     "text": [
      "[I 2025-01-13 17:47:13,703] Trial 315 finished with values: [1145160.0, 4.937119316666666] and parameters: {'a': 2, 'b': 358, 'd': 50}.\n"
     ]
    },
    {
     "name": "stdout",
     "output_type": "stream",
     "text": [
      "ClearML Task: Offline session stored in /Users/karl/.clearml/cache/offline/offline-f753da9978e546b8a32dbbcc1b4d142f.zip\n",
      "ClearML Task: created new task id=offline-44724432a7af43b89cd8c71897766442\n",
      "ClearML running in offline mode, session stored in /Users/karl/.clearml/cache/offline/offline-44724432a7af43b89cd8c71897766442\n",
      "ClearML Monitor: GPU monitoring failed getting GPU reading, switching off GPU monitoring\n"
     ]
    },
    {
     "name": "stderr",
     "output_type": "stream",
     "text": [
      "[I 2025-01-13 17:47:41,902] Trial 316 finished with values: [1117530.0, 4.923538416666667] and parameters: {'a': 1, 'b': 429, 'd': 90}.\n"
     ]
    },
    {
     "name": "stdout",
     "output_type": "stream",
     "text": [
      "ClearML Task: Offline session stored in /Users/karl/.clearml/cache/offline/offline-44724432a7af43b89cd8c71897766442.zip\n",
      "ClearML Task: created new task id=offline-d97e7a52defd474abf02d6a52afe2888\n",
      "ClearML running in offline mode, session stored in /Users/karl/.clearml/cache/offline/offline-d97e7a52defd474abf02d6a52afe2888\n",
      "ClearML Monitor: GPU monitoring failed getting GPU reading, switching off GPU monitoring\n"
     ]
    },
    {
     "name": "stderr",
     "output_type": "stream",
     "text": [
      "[I 2025-01-13 17:48:12,081] Trial 317 finished with values: [1166830.0, 16.325028733333333] and parameters: {'a': 287, 'b': 348, 'd': 389}.\n"
     ]
    },
    {
     "name": "stdout",
     "output_type": "stream",
     "text": [
      "ClearML Task: Offline session stored in /Users/karl/.clearml/cache/offline/offline-d97e7a52defd474abf02d6a52afe2888.zip\n",
      "ClearML Task: created new task id=offline-584e07bab7234912b81a042932201543\n",
      "ClearML running in offline mode, session stored in /Users/karl/.clearml/cache/offline/offline-584e07bab7234912b81a042932201543\n",
      "ClearML Monitor: GPU monitoring failed getting GPU reading, switching off GPU monitoring\n"
     ]
    },
    {
     "name": "stderr",
     "output_type": "stream",
     "text": [
      "[I 2025-01-13 17:48:39,246] Trial 318 finished with values: [1152280.0, 6.134970316666666] and parameters: {'a': 6, 'b': 455, 'd': 188}.\n"
     ]
    },
    {
     "name": "stdout",
     "output_type": "stream",
     "text": [
      "ClearML Task: Offline session stored in /Users/karl/.clearml/cache/offline/offline-584e07bab7234912b81a042932201543.zip\n",
      "ClearML Task: created new task id=offline-2aa96db209ae498aaed793be843fac3f\n",
      "ClearML running in offline mode, session stored in /Users/karl/.clearml/cache/offline/offline-2aa96db209ae498aaed793be843fac3f\n",
      "ClearML Monitor: GPU monitoring failed getting GPU reading, switching off GPU monitoring\n"
     ]
    },
    {
     "name": "stderr",
     "output_type": "stream",
     "text": [
      "[I 2025-01-13 17:49:09,178] Trial 319 finished with values: [1156030.0, 15.2567104] and parameters: {'a': 105, 'b': 445, 'd': 168}.\n"
     ]
    },
    {
     "name": "stdout",
     "output_type": "stream",
     "text": [
      "ClearML Task: Offline session stored in /Users/karl/.clearml/cache/offline/offline-2aa96db209ae498aaed793be843fac3f.zip\n",
      "ClearML Task: created new task id=offline-ddbbb7b0f2914be5a2e78027e82eec09\n",
      "ClearML running in offline mode, session stored in /Users/karl/.clearml/cache/offline/offline-ddbbb7b0f2914be5a2e78027e82eec09\n",
      "ClearML Monitor: GPU monitoring failed getting GPU reading, switching off GPU monitoring\n"
     ]
    },
    {
     "name": "stderr",
     "output_type": "stream",
     "text": [
      "[I 2025-01-13 17:49:37,424] Trial 320 finished with values: [1120670.0, 4.912189983333334] and parameters: {'a': 1, 'b': 413, 'd': 144}.\n"
     ]
    },
    {
     "name": "stdout",
     "output_type": "stream",
     "text": [
      "ClearML Task: Offline session stored in /Users/karl/.clearml/cache/offline/offline-ddbbb7b0f2914be5a2e78027e82eec09.zip\n",
      "ClearML Task: created new task id=offline-376219523ae24cbaaa9a6d56261dd7c3\n",
      "ClearML running in offline mode, session stored in /Users/karl/.clearml/cache/offline/offline-376219523ae24cbaaa9a6d56261dd7c3\n",
      "ClearML Monitor: GPU monitoring failed getting GPU reading, switching off GPU monitoring\n"
     ]
    },
    {
     "name": "stderr",
     "output_type": "stream",
     "text": [
      "[I 2025-01-13 17:50:08,680] Trial 321 finished with values: [1157880.0, 17.308009183333336] and parameters: {'a': 231, 'b': 428, 'd': 252}.\n"
     ]
    },
    {
     "name": "stdout",
     "output_type": "stream",
     "text": [
      "ClearML Task: Offline session stored in /Users/karl/.clearml/cache/offline/offline-376219523ae24cbaaa9a6d56261dd7c3.zip\n",
      "ClearML Task: created new task id=offline-6505ddec9f3f49a599b37602607568cc\n",
      "ClearML running in offline mode, session stored in /Users/karl/.clearml/cache/offline/offline-6505ddec9f3f49a599b37602607568cc\n",
      "ClearML Monitor: GPU monitoring failed getting GPU reading, switching off GPU monitoring\n"
     ]
    },
    {
     "name": "stderr",
     "output_type": "stream",
     "text": [
      "[I 2025-01-13 17:50:36,706] Trial 322 finished with values: [1141505.0, 6.395899583333334] and parameters: {'a': 8, 'b': 473, 'd': 139}.\n"
     ]
    },
    {
     "name": "stdout",
     "output_type": "stream",
     "text": [
      "ClearML Task: Offline session stored in /Users/karl/.clearml/cache/offline/offline-6505ddec9f3f49a599b37602607568cc.zip\n",
      "ClearML Task: created new task id=offline-b47c777c18b14d02b13a4cae95cb4648\n",
      "ClearML running in offline mode, session stored in /Users/karl/.clearml/cache/offline/offline-b47c777c18b14d02b13a4cae95cb4648\n",
      "ClearML Monitor: GPU monitoring failed getting GPU reading, switching off GPU monitoring\n"
     ]
    },
    {
     "name": "stderr",
     "output_type": "stream",
     "text": [
      "[I 2025-01-13 17:51:08,421] Trial 323 finished with values: [1185680.0, 16.880452266666666] and parameters: {'a': 170, 'b': 27, 'd': 158}.\n"
     ]
    },
    {
     "name": "stdout",
     "output_type": "stream",
     "text": [
      "ClearML Task: Offline session stored in /Users/karl/.clearml/cache/offline/offline-b47c777c18b14d02b13a4cae95cb4648.zip\n",
      "ClearML Task: created new task id=offline-675f7e5479364734987bccd5b0f65207\n",
      "ClearML running in offline mode, session stored in /Users/karl/.clearml/cache/offline/offline-675f7e5479364734987bccd5b0f65207\n",
      "ClearML Monitor: GPU monitoring failed getting GPU reading, switching off GPU monitoring\n"
     ]
    },
    {
     "name": "stderr",
     "output_type": "stream",
     "text": [
      "[I 2025-01-13 17:51:39,358] Trial 324 finished with values: [1146890.0, 15.242466933333333] and parameters: {'a': 77, 'b': 396, 'd': 193}.\n"
     ]
    },
    {
     "name": "stdout",
     "output_type": "stream",
     "text": [
      "ClearML Task: Offline session stored in /Users/karl/.clearml/cache/offline/offline-675f7e5479364734987bccd5b0f65207.zip\n",
      "ClearML Task: created new task id=offline-46b6c05343c442448d7ffdb0c28abd1f\n",
      "ClearML running in offline mode, session stored in /Users/karl/.clearml/cache/offline/offline-46b6c05343c442448d7ffdb0c28abd1f\n",
      "ClearML Monitor: GPU monitoring failed getting GPU reading, switching off GPU monitoring\n"
     ]
    },
    {
     "name": "stderr",
     "output_type": "stream",
     "text": [
      "[I 2025-01-13 17:52:07,167] Trial 325 finished with values: [1139320.0, 5.060214433333333] and parameters: {'a': 3, 'b': 453, 'd': 102}.\n"
     ]
    },
    {
     "name": "stdout",
     "output_type": "stream",
     "text": [
      "ClearML Task: Offline session stored in /Users/karl/.clearml/cache/offline/offline-46b6c05343c442448d7ffdb0c28abd1f.zip\n",
      "ClearML Task: created new task id=offline-77d269f7388f4678a163930fa6c17489\n",
      "ClearML running in offline mode, session stored in /Users/karl/.clearml/cache/offline/offline-77d269f7388f4678a163930fa6c17489\n",
      "ClearML Monitor: GPU monitoring failed getting GPU reading, switching off GPU monitoring\n"
     ]
    },
    {
     "name": "stderr",
     "output_type": "stream",
     "text": [
      "[I 2025-01-13 17:52:36,247] Trial 326 finished with values: [1140105.0, 4.816333166666666] and parameters: {'a': 2, 'b': 364, 'd': 131}.\n"
     ]
    },
    {
     "name": "stdout",
     "output_type": "stream",
     "text": [
      "ClearML Task: Offline session stored in /Users/karl/.clearml/cache/offline/offline-77d269f7388f4678a163930fa6c17489.zip\n",
      "ClearML Task: created new task id=offline-382db664258d49d888b11a44500aa54d\n",
      "ClearML running in offline mode, session stored in /Users/karl/.clearml/cache/offline/offline-382db664258d49d888b11a44500aa54d\n",
      "ClearML Monitor: GPU monitoring failed getting GPU reading, switching off GPU monitoring\n"
     ]
    },
    {
     "name": "stderr",
     "output_type": "stream",
     "text": [
      "[I 2025-01-13 17:53:05,295] Trial 327 finished with values: [1162910.0, 7.642262016666667] and parameters: {'a': 14, 'b': 234, 'd': 102}.\n"
     ]
    },
    {
     "name": "stdout",
     "output_type": "stream",
     "text": [
      "ClearML Task: Offline session stored in /Users/karl/.clearml/cache/offline/offline-382db664258d49d888b11a44500aa54d.zip\n",
      "ClearML Task: created new task id=offline-119ce4d5b2534046a7af9e9adbaaedb5\n",
      "ClearML running in offline mode, session stored in /Users/karl/.clearml/cache/offline/offline-119ce4d5b2534046a7af9e9adbaaedb5\n",
      "ClearML Monitor: GPU monitoring failed getting GPU reading, switching off GPU monitoring\n"
     ]
    },
    {
     "name": "stderr",
     "output_type": "stream",
     "text": [
      "[I 2025-01-13 17:53:35,187] Trial 328 finished with values: [1156610.0, 13.011039816666665] and parameters: {'a': 48, 'b': 280, 'd': 130}.\n"
     ]
    },
    {
     "name": "stdout",
     "output_type": "stream",
     "text": [
      "ClearML Task: Offline session stored in /Users/karl/.clearml/cache/offline/offline-119ce4d5b2534046a7af9e9adbaaedb5.zip\n",
      "ClearML Task: created new task id=offline-95a7e51beb5b4b74b4326078b2e42614\n",
      "ClearML running in offline mode, session stored in /Users/karl/.clearml/cache/offline/offline-95a7e51beb5b4b74b4326078b2e42614\n",
      "ClearML Monitor: GPU monitoring failed getting GPU reading, switching off GPU monitoring\n"
     ]
    },
    {
     "name": "stderr",
     "output_type": "stream",
     "text": [
      "[I 2025-01-13 17:54:04,243] Trial 329 finished with values: [1161825.0, 8.2628388] and parameters: {'a': 21, 'b': 300, 'd': 91}.\n"
     ]
    },
    {
     "name": "stdout",
     "output_type": "stream",
     "text": [
      "ClearML Task: Offline session stored in /Users/karl/.clearml/cache/offline/offline-95a7e51beb5b4b74b4326078b2e42614.zip\n",
      "ClearML Task: created new task id=offline-af15b2c534d44b8eacfa3b9e2a5720a1\n",
      "ClearML running in offline mode, session stored in /Users/karl/.clearml/cache/offline/offline-af15b2c534d44b8eacfa3b9e2a5720a1\n",
      "ClearML Monitor: GPU monitoring failed getting GPU reading, switching off GPU monitoring\n"
     ]
    },
    {
     "name": "stderr",
     "output_type": "stream",
     "text": [
      "[I 2025-01-13 17:54:34,006] Trial 330 finished with values: [1155130.0, 14.613791766666667] and parameters: {'a': 57, 'b': 316, 'd': 133}.\n"
     ]
    },
    {
     "name": "stdout",
     "output_type": "stream",
     "text": [
      "ClearML Task: Offline session stored in /Users/karl/.clearml/cache/offline/offline-af15b2c534d44b8eacfa3b9e2a5720a1.zip\n",
      "ClearML Task: created new task id=offline-02be75f7895949c18dd123670a51179c\n",
      "ClearML running in offline mode, session stored in /Users/karl/.clearml/cache/offline/offline-02be75f7895949c18dd123670a51179c\n",
      "ClearML Monitor: GPU monitoring failed getting GPU reading, switching off GPU monitoring\n"
     ]
    },
    {
     "name": "stderr",
     "output_type": "stream",
     "text": [
      "[I 2025-01-13 17:55:03,507] Trial 331 finished with values: [1130675.0, 4.850378166666667] and parameters: {'a': 1, 'b': 321, 'd': 115}.\n"
     ]
    },
    {
     "name": "stdout",
     "output_type": "stream",
     "text": [
      "ClearML Task: Offline session stored in /Users/karl/.clearml/cache/offline/offline-02be75f7895949c18dd123670a51179c.zip\n",
      "ClearML Task: created new task id=offline-52e680004350451a92ce7939b40b2cc9\n",
      "ClearML running in offline mode, session stored in /Users/karl/.clearml/cache/offline/offline-52e680004350451a92ce7939b40b2cc9\n",
      "ClearML Monitor: GPU monitoring failed getting GPU reading, switching off GPU monitoring\n"
     ]
    },
    {
     "name": "stderr",
     "output_type": "stream",
     "text": [
      "[I 2025-01-13 17:55:36,043] Trial 332 finished with values: [1133595.0, 5.246365983333333] and parameters: {'a': 3, 'b': 298, 'd': 123}.\n"
     ]
    },
    {
     "name": "stdout",
     "output_type": "stream",
     "text": [
      "ClearML Task: Offline session stored in /Users/karl/.clearml/cache/offline/offline-52e680004350451a92ce7939b40b2cc9.zip\n",
      "ClearML Task: created new task id=offline-ae2809d45fa74a31900c580d4fd304b9\n",
      "ClearML running in offline mode, session stored in /Users/karl/.clearml/cache/offline/offline-ae2809d45fa74a31900c580d4fd304b9\n",
      "ClearML Monitor: GPU monitoring failed getting GPU reading, switching off GPU monitoring\n"
     ]
    },
    {
     "name": "stderr",
     "output_type": "stream",
     "text": [
      "[I 2025-01-13 17:56:05,075] Trial 333 finished with values: [1161535.0, 15.7988695] and parameters: {'a': 138, 'b': 333, 'd': 130}.\n"
     ]
    },
    {
     "name": "stdout",
     "output_type": "stream",
     "text": [
      "ClearML Task: Offline session stored in /Users/karl/.clearml/cache/offline/offline-ae2809d45fa74a31900c580d4fd304b9.zip\n",
      "ClearML Task: created new task id=offline-ff0b5ae650d4459a9e79e4923df935f1\n",
      "ClearML running in offline mode, session stored in /Users/karl/.clearml/cache/offline/offline-ff0b5ae650d4459a9e79e4923df935f1\n",
      "ClearML Monitor: GPU monitoring failed getting GPU reading, switching off GPU monitoring\n"
     ]
    },
    {
     "name": "stderr",
     "output_type": "stream",
     "text": [
      "[I 2025-01-13 17:56:33,932] Trial 334 finished with values: [1164790.0, 7.943513633333334] and parameters: {'a': 24, 'b': 360, 'd': 131}.\n"
     ]
    },
    {
     "name": "stdout",
     "output_type": "stream",
     "text": [
      "ClearML Task: Offline session stored in /Users/karl/.clearml/cache/offline/offline-ff0b5ae650d4459a9e79e4923df935f1.zip\n",
      "ClearML Task: created new task id=offline-8833501b9a3a45a58a077c290c97e7f0\n",
      "ClearML running in offline mode, session stored in /Users/karl/.clearml/cache/offline/offline-8833501b9a3a45a58a077c290c97e7f0\n",
      "ClearML Monitor: GPU monitoring failed getting GPU reading, switching off GPU monitoring\n"
     ]
    },
    {
     "name": "stderr",
     "output_type": "stream",
     "text": [
      "[I 2025-01-13 17:57:03,291] Trial 335 finished with values: [1158275.0, 9.189491316666667] and parameters: {'a': 29, 'b': 340, 'd': 87}.\n"
     ]
    },
    {
     "name": "stdout",
     "output_type": "stream",
     "text": [
      "ClearML Task: Offline session stored in /Users/karl/.clearml/cache/offline/offline-8833501b9a3a45a58a077c290c97e7f0.zip\n",
      "ClearML Task: created new task id=offline-07c1b693ce8e484599d371b47f76d2e2\n",
      "ClearML running in offline mode, session stored in /Users/karl/.clearml/cache/offline/offline-07c1b693ce8e484599d371b47f76d2e2\n",
      "ClearML Monitor: GPU monitoring failed getting GPU reading, switching off GPU monitoring\n"
     ]
    },
    {
     "name": "stderr",
     "output_type": "stream",
     "text": [
      "[I 2025-01-13 17:57:32,119] Trial 336 finished with values: [1149165.0, 7.3146276] and parameters: {'a': 13, 'b': 330, 'd': 187}.\n"
     ]
    },
    {
     "name": "stdout",
     "output_type": "stream",
     "text": [
      "ClearML Task: Offline session stored in /Users/karl/.clearml/cache/offline/offline-07c1b693ce8e484599d371b47f76d2e2.zip\n",
      "ClearML Task: created new task id=offline-77bcd37217334c7f9b9b2922059898a6\n",
      "ClearML running in offline mode, session stored in /Users/karl/.clearml/cache/offline/offline-77bcd37217334c7f9b9b2922059898a6\n",
      "ClearML Monitor: GPU monitoring failed getting GPU reading, switching off GPU monitoring\n"
     ]
    },
    {
     "name": "stderr",
     "output_type": "stream",
     "text": [
      "[I 2025-01-13 17:58:00,753] Trial 337 finished with values: [1163110.0, 7.889222066666666] and parameters: {'a': 21, 'b': 332, 'd': 91}.\n"
     ]
    },
    {
     "name": "stdout",
     "output_type": "stream",
     "text": [
      "ClearML Task: Offline session stored in /Users/karl/.clearml/cache/offline/offline-77bcd37217334c7f9b9b2922059898a6.zip\n",
      "ClearML Task: created new task id=offline-ec9ff70412c04959b83651aa93915c00\n",
      "ClearML running in offline mode, session stored in /Users/karl/.clearml/cache/offline/offline-ec9ff70412c04959b83651aa93915c00\n",
      "ClearML Monitor: GPU monitoring failed getting GPU reading, switching off GPU monitoring\n"
     ]
    },
    {
     "name": "stderr",
     "output_type": "stream",
     "text": [
      "[I 2025-01-13 17:58:30,638] Trial 338 finished with values: [1158035.0, 10.331896949999999] and parameters: {'a': 41, 'b': 369, 'd': 81}.\n"
     ]
    },
    {
     "name": "stdout",
     "output_type": "stream",
     "text": [
      "ClearML Task: Offline session stored in /Users/karl/.clearml/cache/offline/offline-ec9ff70412c04959b83651aa93915c00.zip\n",
      "ClearML Task: created new task id=offline-dbd755293e3a428495faaa99e69f3c2d\n",
      "ClearML running in offline mode, session stored in /Users/karl/.clearml/cache/offline/offline-dbd755293e3a428495faaa99e69f3c2d\n",
      "ClearML Monitor: GPU monitoring failed getting GPU reading, switching off GPU monitoring\n"
     ]
    },
    {
     "name": "stderr",
     "output_type": "stream",
     "text": [
      "[I 2025-01-13 17:59:02,469] Trial 339 finished with values: [1155525.0, 13.459708916666667] and parameters: {'a': 54, 'b': 312, 'd': 159}.\n"
     ]
    },
    {
     "name": "stdout",
     "output_type": "stream",
     "text": [
      "ClearML Task: Offline session stored in /Users/karl/.clearml/cache/offline/offline-dbd755293e3a428495faaa99e69f3c2d.zip\n",
      "ClearML Task: created new task id=offline-566d71501b7e41f3a17e585e4e68826c\n",
      "ClearML running in offline mode, session stored in /Users/karl/.clearml/cache/offline/offline-566d71501b7e41f3a17e585e4e68826c\n",
      "ClearML Monitor: GPU monitoring failed getting GPU reading, switching off GPU monitoring\n"
     ]
    },
    {
     "name": "stderr",
     "output_type": "stream",
     "text": [
      "[I 2025-01-13 17:59:31,524] Trial 340 finished with values: [1172220.0, 7.945116799999999] and parameters: {'a': 21, 'b': 332, 'd': 127}.\n"
     ]
    },
    {
     "name": "stdout",
     "output_type": "stream",
     "text": [
      "ClearML Task: Offline session stored in /Users/karl/.clearml/cache/offline/offline-566d71501b7e41f3a17e585e4e68826c.zip\n",
      "ClearML Task: created new task id=offline-d71fcc3477164daabc7014c06659b95a\n",
      "ClearML running in offline mode, session stored in /Users/karl/.clearml/cache/offline/offline-d71fcc3477164daabc7014c06659b95a\n",
      "ClearML Monitor: GPU monitoring failed getting GPU reading, switching off GPU monitoring\n"
     ]
    },
    {
     "name": "stderr",
     "output_type": "stream",
     "text": [
      "[I 2025-01-13 18:00:00,138] Trial 341 finished with values: [1151750.0, 7.1523554166666665] and parameters: {'a': 15, 'b': 333, 'd': 105}.\n"
     ]
    },
    {
     "name": "stdout",
     "output_type": "stream",
     "text": [
      "ClearML Task: Offline session stored in /Users/karl/.clearml/cache/offline/offline-d71fcc3477164daabc7014c06659b95a.zip\n",
      "ClearML Task: created new task id=offline-034a0cac694844b68bfcd71f8853324a\n",
      "ClearML running in offline mode, session stored in /Users/karl/.clearml/cache/offline/offline-034a0cac694844b68bfcd71f8853324a\n",
      "ClearML Monitor: GPU monitoring failed getting GPU reading, switching off GPU monitoring\n"
     ]
    },
    {
     "name": "stderr",
     "output_type": "stream",
     "text": [
      "[I 2025-01-13 18:00:27,774] Trial 342 finished with values: [1155680.0, 7.230210716666666] and parameters: {'a': 12, 'b': 340, 'd': 176}.\n"
     ]
    },
    {
     "name": "stdout",
     "output_type": "stream",
     "text": [
      "ClearML Task: Offline session stored in /Users/karl/.clearml/cache/offline/offline-034a0cac694844b68bfcd71f8853324a.zip\n",
      "ClearML Task: created new task id=offline-83426f4482ac45a986f68ba760a0b9f3\n",
      "ClearML running in offline mode, session stored in /Users/karl/.clearml/cache/offline/offline-83426f4482ac45a986f68ba760a0b9f3\n",
      "ClearML Monitor: GPU monitoring failed getting GPU reading, switching off GPU monitoring\n"
     ]
    },
    {
     "name": "stderr",
     "output_type": "stream",
     "text": [
      "[I 2025-01-13 18:00:56,429] Trial 343 finished with values: [1149475.0, 5.979500183333333] and parameters: {'a': 4, 'b': 324, 'd': 80}.\n"
     ]
    },
    {
     "name": "stdout",
     "output_type": "stream",
     "text": [
      "ClearML Task: Offline session stored in /Users/karl/.clearml/cache/offline/offline-83426f4482ac45a986f68ba760a0b9f3.zip\n",
      "ClearML Task: created new task id=offline-e5a0a03b8342444eb0a366388a252fcd\n",
      "ClearML running in offline mode, session stored in /Users/karl/.clearml/cache/offline/offline-e5a0a03b8342444eb0a366388a252fcd\n",
      "ClearML Monitor: GPU monitoring failed getting GPU reading, switching off GPU monitoring\n"
     ]
    },
    {
     "name": "stderr",
     "output_type": "stream",
     "text": [
      "[I 2025-01-13 18:01:26,642] Trial 344 finished with values: [1147090.0, 6.444055133333333] and parameters: {'a': 5, 'b': 323, 'd': 135}.\n"
     ]
    },
    {
     "name": "stdout",
     "output_type": "stream",
     "text": [
      "ClearML Task: Offline session stored in /Users/karl/.clearml/cache/offline/offline-e5a0a03b8342444eb0a366388a252fcd.zip\n",
      "ClearML Task: created new task id=offline-cf52c3ea1ff244da966adb1189db07ab\n",
      "ClearML running in offline mode, session stored in /Users/karl/.clearml/cache/offline/offline-cf52c3ea1ff244da966adb1189db07ab\n",
      "ClearML Monitor: GPU monitoring failed getting GPU reading, switching off GPU monitoring\n"
     ]
    },
    {
     "name": "stderr",
     "output_type": "stream",
     "text": [
      "[I 2025-01-13 18:01:55,483] Trial 345 finished with values: [1151815.0, 9.499348783333334] and parameters: {'a': 35, 'b': 363, 'd': 103}.\n"
     ]
    },
    {
     "name": "stdout",
     "output_type": "stream",
     "text": [
      "ClearML Task: Offline session stored in /Users/karl/.clearml/cache/offline/offline-cf52c3ea1ff244da966adb1189db07ab.zip\n",
      "ClearML Task: created new task id=offline-3730321f25494b6583921b41abd7c59d\n",
      "ClearML running in offline mode, session stored in /Users/karl/.clearml/cache/offline/offline-3730321f25494b6583921b41abd7c59d\n",
      "ClearML Monitor: GPU monitoring failed getting GPU reading, switching off GPU monitoring\n"
     ]
    },
    {
     "name": "stderr",
     "output_type": "stream",
     "text": [
      "[I 2025-01-13 18:02:28,083] Trial 346 finished with values: [1165500.0, 51.995105816666666] and parameters: {'a': 364, 'b': 3, 'd': 236}.\n"
     ]
    },
    {
     "name": "stdout",
     "output_type": "stream",
     "text": [
      "ClearML Task: Offline session stored in /Users/karl/.clearml/cache/offline/offline-3730321f25494b6583921b41abd7c59d.zip\n",
      "ClearML Task: created new task id=offline-14acfc46cca640ce8698b12fb7549dd4\n",
      "ClearML running in offline mode, session stored in /Users/karl/.clearml/cache/offline/offline-14acfc46cca640ce8698b12fb7549dd4\n",
      "ClearML Monitor: GPU monitoring failed getting GPU reading, switching off GPU monitoring\n"
     ]
    },
    {
     "name": "stderr",
     "output_type": "stream",
     "text": [
      "[I 2025-01-13 18:02:59,572] Trial 347 finished with values: [1153685.0, 15.785134083333332] and parameters: {'a': 82, 'b': 368, 'd': 117}.\n"
     ]
    },
    {
     "name": "stdout",
     "output_type": "stream",
     "text": [
      "ClearML Task: Offline session stored in /Users/karl/.clearml/cache/offline/offline-14acfc46cca640ce8698b12fb7549dd4.zip\n",
      "ClearML Task: created new task id=offline-8aca8a722d1a41a19109b44439235d7c\n",
      "ClearML running in offline mode, session stored in /Users/karl/.clearml/cache/offline/offline-8aca8a722d1a41a19109b44439235d7c\n",
      "ClearML Monitor: GPU monitoring failed getting GPU reading, switching off GPU monitoring\n"
     ]
    },
    {
     "name": "stderr",
     "output_type": "stream",
     "text": [
      "[I 2025-01-13 18:03:28,832] Trial 348 finished with values: [1143230.0, 6.171708949999999] and parameters: {'a': 6, 'b': 389, 'd': 138}.\n"
     ]
    },
    {
     "name": "stdout",
     "output_type": "stream",
     "text": [
      "ClearML Task: Offline session stored in /Users/karl/.clearml/cache/offline/offline-8aca8a722d1a41a19109b44439235d7c.zip\n",
      "ClearML Task: created new task id=offline-f576905a4cfb4e6e8c49d0e51f1db27a\n",
      "ClearML running in offline mode, session stored in /Users/karl/.clearml/cache/offline/offline-f576905a4cfb4e6e8c49d0e51f1db27a\n",
      "ClearML Monitor: GPU monitoring failed getting GPU reading, switching off GPU monitoring\n"
     ]
    },
    {
     "name": "stderr",
     "output_type": "stream",
     "text": [
      "[I 2025-01-13 18:03:58,095] Trial 349 finished with values: [1134680.0, 5.024693483333333] and parameters: {'a': 2, 'b': 339, 'd': 130}.\n"
     ]
    },
    {
     "name": "stdout",
     "output_type": "stream",
     "text": [
      "ClearML Task: Offline session stored in /Users/karl/.clearml/cache/offline/offline-f576905a4cfb4e6e8c49d0e51f1db27a.zip\n",
      "ClearML Task: created new task id=offline-5cd59faeb8274866b6dda8a71b0f1286\n",
      "ClearML running in offline mode, session stored in /Users/karl/.clearml/cache/offline/offline-5cd59faeb8274866b6dda8a71b0f1286\n",
      "ClearML Monitor: GPU monitoring failed getting GPU reading, switching off GPU monitoring\n"
     ]
    },
    {
     "name": "stderr",
     "output_type": "stream",
     "text": [
      "[I 2025-01-13 18:04:30,324] Trial 350 finished with values: [1160715.0, 16.4711507] and parameters: {'a': 87, 'b': 339, 'd': 155}.\n"
     ]
    },
    {
     "name": "stdout",
     "output_type": "stream",
     "text": [
      "ClearML Task: Offline session stored in /Users/karl/.clearml/cache/offline/offline-5cd59faeb8274866b6dda8a71b0f1286.zip\n",
      "ClearML Task: created new task id=offline-797ab91c4b8a4b099d7591ac7c09b51e\n",
      "ClearML running in offline mode, session stored in /Users/karl/.clearml/cache/offline/offline-797ab91c4b8a4b099d7591ac7c09b51e\n",
      "ClearML Monitor: GPU monitoring failed getting GPU reading, switching off GPU monitoring\n"
     ]
    },
    {
     "name": "stderr",
     "output_type": "stream",
     "text": [
      "[I 2025-01-13 18:05:02,031] Trial 351 finished with values: [1155525.0, 13.459708916666667] and parameters: {'a': 66, 'b': 379, 'd': 174}.\n"
     ]
    },
    {
     "name": "stdout",
     "output_type": "stream",
     "text": [
      "ClearML Task: Offline session stored in /Users/karl/.clearml/cache/offline/offline-797ab91c4b8a4b099d7591ac7c09b51e.zip\n",
      "ClearML Task: created new task id=offline-5295a868fe644f0eaea9d66f0e0eff18\n",
      "ClearML running in offline mode, session stored in /Users/karl/.clearml/cache/offline/offline-5295a868fe644f0eaea9d66f0e0eff18\n",
      "ClearML Monitor: GPU monitoring failed getting GPU reading, switching off GPU monitoring\n"
     ]
    },
    {
     "name": "stderr",
     "output_type": "stream",
     "text": [
      "[I 2025-01-13 18:05:31,815] Trial 352 finished with values: [1155570.0, 17.173306500000002] and parameters: {'a': 74, 'b': 298, 'd': 231}.\n"
     ]
    },
    {
     "name": "stdout",
     "output_type": "stream",
     "text": [
      "ClearML Task: Offline session stored in /Users/karl/.clearml/cache/offline/offline-5295a868fe644f0eaea9d66f0e0eff18.zip\n",
      "ClearML Task: created new task id=offline-2171ed8ed9dc4ed4808af7391a50502b\n",
      "ClearML running in offline mode, session stored in /Users/karl/.clearml/cache/offline/offline-2171ed8ed9dc4ed4808af7391a50502b\n",
      "ClearML Monitor: GPU monitoring failed getting GPU reading, switching off GPU monitoring\n"
     ]
    },
    {
     "name": "stderr",
     "output_type": "stream",
     "text": [
      "[I 2025-01-13 18:06:00,264] Trial 353 finished with values: [1156170.0, 7.386756666666667] and parameters: {'a': 21, 'b': 376, 'd': 129}.\n"
     ]
    },
    {
     "name": "stdout",
     "output_type": "stream",
     "text": [
      "ClearML Task: Offline session stored in /Users/karl/.clearml/cache/offline/offline-2171ed8ed9dc4ed4808af7391a50502b.zip\n",
      "ClearML Task: created new task id=offline-12a56edaabbf474c8c3084c7b80dc9f6\n",
      "ClearML running in offline mode, session stored in /Users/karl/.clearml/cache/offline/offline-12a56edaabbf474c8c3084c7b80dc9f6\n",
      "ClearML Monitor: GPU monitoring failed getting GPU reading, switching off GPU monitoring\n"
     ]
    },
    {
     "name": "stderr",
     "output_type": "stream",
     "text": [
      "[I 2025-01-13 18:06:28,189] Trial 354 finished with values: [1157295.0, 7.3503159] and parameters: {'a': 14, 'b': 355, 'd': 90}.\n"
     ]
    },
    {
     "name": "stdout",
     "output_type": "stream",
     "text": [
      "ClearML Task: Offline session stored in /Users/karl/.clearml/cache/offline/offline-12a56edaabbf474c8c3084c7b80dc9f6.zip\n",
      "ClearML Task: created new task id=offline-9f761a794bd44ca28a77b8d98529a49a\n",
      "ClearML running in offline mode, session stored in /Users/karl/.clearml/cache/offline/offline-9f761a794bd44ca28a77b8d98529a49a\n",
      "ClearML Monitor: GPU monitoring failed getting GPU reading, switching off GPU monitoring\n"
     ]
    },
    {
     "name": "stderr",
     "output_type": "stream",
     "text": [
      "[I 2025-01-13 18:06:57,136] Trial 355 finished with values: [1164080.0, 17.320800983333335] and parameters: {'a': 1, 'b': 13, 'd': 373}.\n"
     ]
    },
    {
     "name": "stdout",
     "output_type": "stream",
     "text": [
      "ClearML Task: Offline session stored in /Users/karl/.clearml/cache/offline/offline-9f761a794bd44ca28a77b8d98529a49a.zip\n",
      "ClearML Task: created new task id=offline-78a77feebaae4104af5867c580696e09\n",
      "ClearML running in offline mode, session stored in /Users/karl/.clearml/cache/offline/offline-78a77feebaae4104af5867c580696e09\n",
      "ClearML Monitor: GPU monitoring failed getting GPU reading, switching off GPU monitoring\n"
     ]
    },
    {
     "name": "stderr",
     "output_type": "stream",
     "text": [
      "[I 2025-01-13 18:07:27,673] Trial 356 finished with values: [1163980.0, 14.834706783333333] and parameters: {'a': 82, 'b': 387, 'd': 46}.\n"
     ]
    },
    {
     "name": "stdout",
     "output_type": "stream",
     "text": [
      "ClearML Task: Offline session stored in /Users/karl/.clearml/cache/offline/offline-78a77feebaae4104af5867c580696e09.zip\n",
      "ClearML Task: created new task id=offline-5d94a2d6a00e4e9abab58cd31bd28888\n",
      "ClearML running in offline mode, session stored in /Users/karl/.clearml/cache/offline/offline-5d94a2d6a00e4e9abab58cd31bd28888\n",
      "ClearML Monitor: GPU monitoring failed getting GPU reading, switching off GPU monitoring\n"
     ]
    },
    {
     "name": "stderr",
     "output_type": "stream",
     "text": [
      "[I 2025-01-13 18:07:55,580] Trial 357 finished with values: [1153995.0, 6.873004016666667] and parameters: {'a': 8, 'b': 274, 'd': 169}.\n"
     ]
    },
    {
     "name": "stdout",
     "output_type": "stream",
     "text": [
      "ClearML Task: Offline session stored in /Users/karl/.clearml/cache/offline/offline-5d94a2d6a00e4e9abab58cd31bd28888.zip\n",
      "ClearML Task: created new task id=offline-b597f4ca0e3f49ddb5b96bc3418530ea\n",
      "ClearML running in offline mode, session stored in /Users/karl/.clearml/cache/offline/offline-b597f4ca0e3f49ddb5b96bc3418530ea\n",
      "ClearML Monitor: GPU monitoring failed getting GPU reading, switching off GPU monitoring\n"
     ]
    },
    {
     "name": "stderr",
     "output_type": "stream",
     "text": [
      "[I 2025-01-13 18:08:27,718] Trial 358 finished with values: [1159390.0, 16.69899415] and parameters: {'a': 283, 'b': 426, 'd': 22}.\n"
     ]
    },
    {
     "name": "stdout",
     "output_type": "stream",
     "text": [
      "ClearML Task: Offline session stored in /Users/karl/.clearml/cache/offline/offline-b597f4ca0e3f49ddb5b96bc3418530ea.zip\n",
      "ClearML Task: created new task id=offline-8fca0664bcb745109a2444bdf6ffa3d3\n",
      "ClearML running in offline mode, session stored in /Users/karl/.clearml/cache/offline/offline-8fca0664bcb745109a2444bdf6ffa3d3\n",
      "ClearML Monitor: GPU monitoring failed getting GPU reading, switching off GPU monitoring\n"
     ]
    },
    {
     "name": "stderr",
     "output_type": "stream",
     "text": [
      "[I 2025-01-13 18:08:56,174] Trial 359 finished with values: [1127085.0, 4.8253398333333335] and parameters: {'a': 3, 'b': 383, 'd': 135}.\n"
     ]
    },
    {
     "name": "stdout",
     "output_type": "stream",
     "text": [
      "ClearML Task: Offline session stored in /Users/karl/.clearml/cache/offline/offline-8fca0664bcb745109a2444bdf6ffa3d3.zip\n",
      "ClearML Task: created new task id=offline-84860f83eb6647499103fe9bae52429f\n",
      "ClearML running in offline mode, session stored in /Users/karl/.clearml/cache/offline/offline-84860f83eb6647499103fe9bae52429f\n",
      "ClearML Monitor: GPU monitoring failed getting GPU reading, switching off GPU monitoring\n"
     ]
    },
    {
     "name": "stderr",
     "output_type": "stream",
     "text": [
      "[I 2025-01-13 18:09:28,348] Trial 360 finished with values: [1159180.0, 13.7320487] and parameters: {'a': 67, 'b': 383, 'd': 311}.\n"
     ]
    },
    {
     "name": "stdout",
     "output_type": "stream",
     "text": [
      "ClearML Task: Offline session stored in /Users/karl/.clearml/cache/offline/offline-84860f83eb6647499103fe9bae52429f.zip\n",
      "ClearML Task: created new task id=offline-58d038eb79834401b0bbf65f707fb811\n",
      "ClearML running in offline mode, session stored in /Users/karl/.clearml/cache/offline/offline-58d038eb79834401b0bbf65f707fb811\n",
      "ClearML Monitor: GPU monitoring failed getting GPU reading, switching off GPU monitoring\n"
     ]
    },
    {
     "name": "stderr",
     "output_type": "stream",
     "text": [
      "[I 2025-01-13 18:09:57,862] Trial 361 finished with values: [1125775.0, 4.819417566666667] and parameters: {'a': 2, 'b': 351, 'd': 261}.\n"
     ]
    },
    {
     "name": "stdout",
     "output_type": "stream",
     "text": [
      "ClearML Task: Offline session stored in /Users/karl/.clearml/cache/offline/offline-58d038eb79834401b0bbf65f707fb811.zip\n",
      "ClearML Task: created new task id=offline-4e98abbc05bb4e80aeae899b3b5e5edc\n",
      "ClearML running in offline mode, session stored in /Users/karl/.clearml/cache/offline/offline-4e98abbc05bb4e80aeae899b3b5e5edc\n",
      "ClearML Monitor: GPU monitoring failed getting GPU reading, switching off GPU monitoring\n"
     ]
    },
    {
     "name": "stderr",
     "output_type": "stream",
     "text": [
      "[I 2025-01-13 18:10:29,080] Trial 362 finished with values: [1154695.0, 14.675521916666666] and parameters: {'a': 51, 'b': 285, 'd': 321}.\n"
     ]
    },
    {
     "name": "stdout",
     "output_type": "stream",
     "text": [
      "ClearML Task: Offline session stored in /Users/karl/.clearml/cache/offline/offline-4e98abbc05bb4e80aeae899b3b5e5edc.zip\n",
      "ClearML Task: created new task id=offline-08aea7823c7c45f9beb65c3f8739acde\n",
      "ClearML running in offline mode, session stored in /Users/karl/.clearml/cache/offline/offline-08aea7823c7c45f9beb65c3f8739acde\n",
      "ClearML Monitor: GPU monitoring failed getting GPU reading, switching off GPU monitoring\n"
     ]
    },
    {
     "name": "stderr",
     "output_type": "stream",
     "text": [
      "[I 2025-01-13 18:10:59,178] Trial 363 finished with values: [1165730.0, 14.879701116666666] and parameters: {'a': 480, 'b': 353, 'd': 62}.\n"
     ]
    },
    {
     "name": "stdout",
     "output_type": "stream",
     "text": [
      "ClearML Task: Offline session stored in /Users/karl/.clearml/cache/offline/offline-08aea7823c7c45f9beb65c3f8739acde.zip\n",
      "ClearML Task: created new task id=offline-4c26680a40ae42fa99cdf647bfd29b31\n",
      "ClearML running in offline mode, session stored in /Users/karl/.clearml/cache/offline/offline-4c26680a40ae42fa99cdf647bfd29b31\n",
      "ClearML Monitor: GPU monitoring failed getting GPU reading, switching off GPU monitoring\n"
     ]
    },
    {
     "name": "stderr",
     "output_type": "stream",
     "text": [
      "[I 2025-01-13 18:11:31,520] Trial 364 finished with values: [1158700.0, 13.448568133333334] and parameters: {'a': 74, 'b': 424, 'd': 249}.\n"
     ]
    },
    {
     "name": "stdout",
     "output_type": "stream",
     "text": [
      "ClearML Task: Offline session stored in /Users/karl/.clearml/cache/offline/offline-4c26680a40ae42fa99cdf647bfd29b31.zip\n",
      "ClearML Task: created new task id=offline-a469e6ad519f4daeabb1b4d71b5864f6\n",
      "ClearML running in offline mode, session stored in /Users/karl/.clearml/cache/offline/offline-a469e6ad519f4daeabb1b4d71b5864f6\n",
      "ClearML Monitor: GPU monitoring failed getting GPU reading, switching off GPU monitoring\n"
     ]
    },
    {
     "name": "stderr",
     "output_type": "stream",
     "text": [
      "[I 2025-01-13 18:12:03,941] Trial 365 finished with values: [1151395.0, 15.213393366666667] and parameters: {'a': 42, 'b': 198, 'd': 405}.\n"
     ]
    },
    {
     "name": "stdout",
     "output_type": "stream",
     "text": [
      "ClearML Task: Offline session stored in /Users/karl/.clearml/cache/offline/offline-a469e6ad519f4daeabb1b4d71b5864f6.zip\n",
      "ClearML Task: created new task id=offline-85b4185e341d46098afce5016c345223\n",
      "ClearML running in offline mode, session stored in /Users/karl/.clearml/cache/offline/offline-85b4185e341d46098afce5016c345223\n",
      "ClearML Monitor: GPU monitoring failed getting GPU reading, switching off GPU monitoring\n"
     ]
    },
    {
     "name": "stderr",
     "output_type": "stream",
     "text": [
      "[I 2025-01-13 18:12:37,269] Trial 366 finished with values: [1166980.0, 17.290804483333332] and parameters: {'a': 344, 'b': 369, 'd': 162}.\n"
     ]
    },
    {
     "name": "stdout",
     "output_type": "stream",
     "text": [
      "ClearML Task: Offline session stored in /Users/karl/.clearml/cache/offline/offline-85b4185e341d46098afce5016c345223.zip\n",
      "ClearML Task: created new task id=offline-e5ae72b59973498985ab823fc8ca6246\n",
      "ClearML running in offline mode, session stored in /Users/karl/.clearml/cache/offline/offline-e5ae72b59973498985ab823fc8ca6246\n",
      "ClearML Monitor: GPU monitoring failed getting GPU reading, switching off GPU monitoring\n"
     ]
    },
    {
     "name": "stderr",
     "output_type": "stream",
     "text": [
      "[I 2025-01-13 18:13:09,834] Trial 367 finished with values: [1162405.0, 17.564610066666667] and parameters: {'a': 234, 'b': 253, 'd': 63}.\n"
     ]
    },
    {
     "name": "stdout",
     "output_type": "stream",
     "text": [
      "ClearML Task: Offline session stored in /Users/karl/.clearml/cache/offline/offline-e5ae72b59973498985ab823fc8ca6246.zip\n",
      "ClearML Task: created new task id=offline-7aecc1689cf64515b055aca1d845724f\n",
      "ClearML running in offline mode, session stored in /Users/karl/.clearml/cache/offline/offline-7aecc1689cf64515b055aca1d845724f\n",
      "ClearML Monitor: GPU monitoring failed getting GPU reading, switching off GPU monitoring\n"
     ]
    },
    {
     "name": "stderr",
     "output_type": "stream",
     "text": [
      "[I 2025-01-13 18:13:40,369] Trial 368 finished with values: [1163540.0, 15.28282895] and parameters: {'a': 229, 'b': 165, 'd': 295}.\n"
     ]
    },
    {
     "name": "stdout",
     "output_type": "stream",
     "text": [
      "ClearML Task: Offline session stored in /Users/karl/.clearml/cache/offline/offline-7aecc1689cf64515b055aca1d845724f.zip\n",
      "ClearML Task: created new task id=offline-83378a261c7f4e8cb1973982e7cafab7\n",
      "ClearML running in offline mode, session stored in /Users/karl/.clearml/cache/offline/offline-83378a261c7f4e8cb1973982e7cafab7\n",
      "ClearML Monitor: GPU monitoring failed getting GPU reading, switching off GPU monitoring\n"
     ]
    },
    {
     "name": "stderr",
     "output_type": "stream",
     "text": [
      "[I 2025-01-13 18:14:11,670] Trial 369 finished with values: [1150535.0, 17.448097366666666] and parameters: {'a': 113, 'b': 356, 'd': 294}.\n"
     ]
    },
    {
     "name": "stdout",
     "output_type": "stream",
     "text": [
      "ClearML Task: Offline session stored in /Users/karl/.clearml/cache/offline/offline-83378a261c7f4e8cb1973982e7cafab7.zip\n",
      "ClearML Task: created new task id=offline-10e775431eb543f38ad9071785a05b3f\n",
      "ClearML running in offline mode, session stored in /Users/karl/.clearml/cache/offline/offline-10e775431eb543f38ad9071785a05b3f\n",
      "ClearML Monitor: GPU monitoring failed getting GPU reading, switching off GPU monitoring\n"
     ]
    },
    {
     "name": "stderr",
     "output_type": "stream",
     "text": [
      "[I 2025-01-13 18:14:41,448] Trial 370 finished with values: [1161430.0, 15.797251733333333] and parameters: {'a': 76, 'b': 362, 'd': 205}.\n"
     ]
    },
    {
     "name": "stdout",
     "output_type": "stream",
     "text": [
      "ClearML Task: Offline session stored in /Users/karl/.clearml/cache/offline/offline-10e775431eb543f38ad9071785a05b3f.zip\n",
      "ClearML Task: created new task id=offline-779c851a079547179ee6c9389a65c03c\n",
      "ClearML running in offline mode, session stored in /Users/karl/.clearml/cache/offline/offline-779c851a079547179ee6c9389a65c03c\n",
      "ClearML Monitor: GPU monitoring failed getting GPU reading, switching off GPU monitoring\n"
     ]
    },
    {
     "name": "stderr",
     "output_type": "stream",
     "text": [
      "[I 2025-01-13 18:15:12,875] Trial 371 finished with values: [1156045.0, 16.503478666666666] and parameters: {'a': 397, 'b': 344, 'd': 460}.\n"
     ]
    },
    {
     "name": "stdout",
     "output_type": "stream",
     "text": [
      "ClearML Task: Offline session stored in /Users/karl/.clearml/cache/offline/offline-779c851a079547179ee6c9389a65c03c.zip\n",
      "ClearML Task: created new task id=offline-4cf7c8b63a574f8d98d7542d6dc87480\n",
      "ClearML running in offline mode, session stored in /Users/karl/.clearml/cache/offline/offline-4cf7c8b63a574f8d98d7542d6dc87480\n",
      "ClearML Monitor: GPU monitoring failed getting GPU reading, switching off GPU monitoring\n"
     ]
    },
    {
     "name": "stderr",
     "output_type": "stream",
     "text": [
      "[I 2025-01-13 18:15:42,616] Trial 372 finished with values: [1143745.0, 6.451235383333333] and parameters: {'a': 5, 'b': 252, 'd': 259}.\n"
     ]
    },
    {
     "name": "stdout",
     "output_type": "stream",
     "text": [
      "ClearML Task: Offline session stored in /Users/karl/.clearml/cache/offline/offline-4cf7c8b63a574f8d98d7542d6dc87480.zip\n",
      "ClearML Task: created new task id=offline-a3c470bde6424ad4bdb4951d7be908a5\n",
      "ClearML running in offline mode, session stored in /Users/karl/.clearml/cache/offline/offline-a3c470bde6424ad4bdb4951d7be908a5\n",
      "ClearML Monitor: GPU monitoring failed getting GPU reading, switching off GPU monitoring\n"
     ]
    },
    {
     "name": "stderr",
     "output_type": "stream",
     "text": [
      "[I 2025-01-13 18:16:11,352] Trial 373 finished with values: [1156440.0, 7.262149216666667] and parameters: {'a': 13, 'b': 383, 'd': 249}.\n"
     ]
    },
    {
     "name": "stdout",
     "output_type": "stream",
     "text": [
      "ClearML Task: Offline session stored in /Users/karl/.clearml/cache/offline/offline-a3c470bde6424ad4bdb4951d7be908a5.zip\n",
      "ClearML Task: created new task id=offline-24812ce3569643dcaba29d8e53a6d24e\n",
      "ClearML running in offline mode, session stored in /Users/karl/.clearml/cache/offline/offline-24812ce3569643dcaba29d8e53a6d24e\n",
      "ClearML Monitor: GPU monitoring failed getting GPU reading, switching off GPU monitoring\n"
     ]
    },
    {
     "name": "stderr",
     "output_type": "stream",
     "text": [
      "[I 2025-01-13 18:16:43,138] Trial 374 finished with values: [1156045.0, 16.503478666666666] and parameters: {'a': 102, 'b': 88, 'd': 83}.\n"
     ]
    },
    {
     "name": "stdout",
     "output_type": "stream",
     "text": [
      "ClearML Task: Offline session stored in /Users/karl/.clearml/cache/offline/offline-24812ce3569643dcaba29d8e53a6d24e.zip\n",
      "ClearML Task: created new task id=offline-c969bec2c89a4f4eb5ae646aee7607ac\n",
      "ClearML running in offline mode, session stored in /Users/karl/.clearml/cache/offline/offline-c969bec2c89a4f4eb5ae646aee7607ac\n",
      "ClearML Monitor: GPU monitoring failed getting GPU reading, switching off GPU monitoring\n"
     ]
    },
    {
     "name": "stderr",
     "output_type": "stream",
     "text": [
      "[I 2025-01-13 18:17:15,400] Trial 375 finished with values: [1157005.0, 17.4026535] and parameters: {'a': 43, 'b': 85, 'd': 142}.\n"
     ]
    },
    {
     "name": "stdout",
     "output_type": "stream",
     "text": [
      "ClearML Task: Offline session stored in /Users/karl/.clearml/cache/offline/offline-c969bec2c89a4f4eb5ae646aee7607ac.zip\n",
      "ClearML Task: created new task id=offline-4c12395cce7d49f1af899bbaf16f535c\n",
      "ClearML running in offline mode, session stored in /Users/karl/.clearml/cache/offline/offline-4c12395cce7d49f1af899bbaf16f535c\n",
      "ClearML Monitor: GPU monitoring failed getting GPU reading, switching off GPU monitoring\n"
     ]
    },
    {
     "name": "stderr",
     "output_type": "stream",
     "text": [
      "[I 2025-01-13 18:17:46,574] Trial 376 finished with values: [1162885.0, 17.468330283333334] and parameters: {'a': 145, 'b': 292, 'd': 485}.\n"
     ]
    },
    {
     "name": "stdout",
     "output_type": "stream",
     "text": [
      "ClearML Task: Offline session stored in /Users/karl/.clearml/cache/offline/offline-4c12395cce7d49f1af899bbaf16f535c.zip\n",
      "ClearML Task: created new task id=offline-e339160cbd9649e288eea58e9290d89f\n",
      "ClearML running in offline mode, session stored in /Users/karl/.clearml/cache/offline/offline-e339160cbd9649e288eea58e9290d89f\n",
      "ClearML Monitor: GPU monitoring failed getting GPU reading, switching off GPU monitoring\n"
     ]
    },
    {
     "name": "stderr",
     "output_type": "stream",
     "text": [
      "[I 2025-01-13 18:18:17,951] Trial 377 finished with values: [1169405.0, 15.601313133333333] and parameters: {'a': 165, 'b': 39, 'd': 17}.\n"
     ]
    },
    {
     "name": "stdout",
     "output_type": "stream",
     "text": [
      "ClearML Task: Offline session stored in /Users/karl/.clearml/cache/offline/offline-e339160cbd9649e288eea58e9290d89f.zip\n",
      "ClearML Task: created new task id=offline-585de0deddf04268a8f41e09e0debce9\n",
      "ClearML running in offline mode, session stored in /Users/karl/.clearml/cache/offline/offline-585de0deddf04268a8f41e09e0debce9\n",
      "ClearML Monitor: GPU monitoring failed getting GPU reading, switching off GPU monitoring\n"
     ]
    },
    {
     "name": "stderr",
     "output_type": "stream",
     "text": [
      "[I 2025-01-13 18:18:47,504] Trial 378 finished with values: [1156575.0, 7.171148133333333] and parameters: {'a': 18, 'b': 337, 'd': 285}.\n"
     ]
    },
    {
     "name": "stdout",
     "output_type": "stream",
     "text": [
      "ClearML Task: Offline session stored in /Users/karl/.clearml/cache/offline/offline-585de0deddf04268a8f41e09e0debce9.zip\n",
      "ClearML Task: created new task id=offline-f6bd48dd33fb4bdca43e764a6c3ec4e3\n",
      "ClearML running in offline mode, session stored in /Users/karl/.clearml/cache/offline/offline-f6bd48dd33fb4bdca43e764a6c3ec4e3\n",
      "ClearML Monitor: GPU monitoring failed getting GPU reading, switching off GPU monitoring\n"
     ]
    },
    {
     "name": "stderr",
     "output_type": "stream",
     "text": [
      "[I 2025-01-13 18:19:18,838] Trial 379 finished with values: [1169405.0, 15.601313133333333] and parameters: {'a': 487, 'b': 58, 'd': 26}.\n"
     ]
    },
    {
     "name": "stdout",
     "output_type": "stream",
     "text": [
      "ClearML Task: Offline session stored in /Users/karl/.clearml/cache/offline/offline-f6bd48dd33fb4bdca43e764a6c3ec4e3.zip\n",
      "ClearML Task: created new task id=offline-641ad00a81484a03b1919a148a7368e3\n",
      "ClearML running in offline mode, session stored in /Users/karl/.clearml/cache/offline/offline-641ad00a81484a03b1919a148a7368e3\n",
      "ClearML Monitor: GPU monitoring failed getting GPU reading, switching off GPU monitoring\n"
     ]
    },
    {
     "name": "stderr",
     "output_type": "stream",
     "text": [
      "[I 2025-01-13 18:19:48,303] Trial 380 finished with values: [1130675.0, 4.850378166666667] and parameters: {'a': 1, 'b': 392, 'd': 122}.\n"
     ]
    },
    {
     "name": "stdout",
     "output_type": "stream",
     "text": [
      "ClearML Task: Offline session stored in /Users/karl/.clearml/cache/offline/offline-641ad00a81484a03b1919a148a7368e3.zip\n",
      "ClearML Task: created new task id=offline-5b0888935db5451fbc64f27afe62221a\n",
      "ClearML running in offline mode, session stored in /Users/karl/.clearml/cache/offline/offline-5b0888935db5451fbc64f27afe62221a\n",
      "ClearML Monitor: GPU monitoring failed getting GPU reading, switching off GPU monitoring\n"
     ]
    },
    {
     "name": "stderr",
     "output_type": "stream",
     "text": [
      "[I 2025-01-13 18:20:19,533] Trial 381 finished with values: [1169405.0, 15.601313133333333] and parameters: {'a': 356, 'b': 98, 'd': 116}.\n"
     ]
    },
    {
     "name": "stdout",
     "output_type": "stream",
     "text": [
      "ClearML Task: Offline session stored in /Users/karl/.clearml/cache/offline/offline-5b0888935db5451fbc64f27afe62221a.zip\n",
      "ClearML Task: created new task id=offline-00ef110630fe489f8fa367fe27d416f9\n",
      "ClearML running in offline mode, session stored in /Users/karl/.clearml/cache/offline/offline-00ef110630fe489f8fa367fe27d416f9\n",
      "ClearML Monitor: GPU monitoring failed getting GPU reading, switching off GPU monitoring\n"
     ]
    },
    {
     "name": "stderr",
     "output_type": "stream",
     "text": [
      "[I 2025-01-13 18:20:50,123] Trial 382 finished with values: [1171400.0, 15.382510766666666] and parameters: {'a': 403, 'b': 206, 'd': 150}.\n"
     ]
    },
    {
     "name": "stdout",
     "output_type": "stream",
     "text": [
      "ClearML Task: Offline session stored in /Users/karl/.clearml/cache/offline/offline-00ef110630fe489f8fa367fe27d416f9.zip\n",
      "ClearML Task: created new task id=offline-588dcc7c9f2f4f429de87d26393c82d6\n",
      "ClearML running in offline mode, session stored in /Users/karl/.clearml/cache/offline/offline-588dcc7c9f2f4f429de87d26393c82d6\n",
      "ClearML Monitor: GPU monitoring failed getting GPU reading, switching off GPU monitoring\n"
     ]
    },
    {
     "name": "stderr",
     "output_type": "stream",
     "text": [
      "[I 2025-01-13 18:21:18,381] Trial 383 finished with values: [1142800.0, 5.849501900000001] and parameters: {'a': 4, 'b': 330, 'd': 245}.\n"
     ]
    },
    {
     "name": "stdout",
     "output_type": "stream",
     "text": [
      "ClearML Task: Offline session stored in /Users/karl/.clearml/cache/offline/offline-588dcc7c9f2f4f429de87d26393c82d6.zip\n",
      "ClearML Task: created new task id=offline-abd39004f697476abedb1a366ef2c322\n",
      "ClearML running in offline mode, session stored in /Users/karl/.clearml/cache/offline/offline-abd39004f697476abedb1a366ef2c322\n",
      "ClearML Monitor: GPU monitoring failed getting GPU reading, switching off GPU monitoring\n"
     ]
    },
    {
     "name": "stderr",
     "output_type": "stream",
     "text": [
      "[I 2025-01-13 18:21:50,505] Trial 384 finished with values: [1161550.0, 15.478525600000001] and parameters: {'a': 97, 'b': 432, 'd': 360}.\n"
     ]
    },
    {
     "name": "stdout",
     "output_type": "stream",
     "text": [
      "ClearML Task: Offline session stored in /Users/karl/.clearml/cache/offline/offline-abd39004f697476abedb1a366ef2c322.zip\n",
      "ClearML Task: created new task id=offline-81c5e6c2f5f147279381c81dc6268108\n",
      "ClearML running in offline mode, session stored in /Users/karl/.clearml/cache/offline/offline-81c5e6c2f5f147279381c81dc6268108\n",
      "ClearML Monitor: GPU monitoring failed getting GPU reading, switching off GPU monitoring\n"
     ]
    },
    {
     "name": "stderr",
     "output_type": "stream",
     "text": [
      "[I 2025-01-13 18:22:21,215] Trial 385 finished with values: [1171400.0, 15.382510766666666] and parameters: {'a': 431, 'b': 229, 'd': 289}.\n"
     ]
    },
    {
     "name": "stdout",
     "output_type": "stream",
     "text": [
      "ClearML Task: Offline session stored in /Users/karl/.clearml/cache/offline/offline-81c5e6c2f5f147279381c81dc6268108.zip\n",
      "ClearML Task: created new task id=offline-241efa55c0bc46f6b238755b74b71f91\n",
      "ClearML running in offline mode, session stored in /Users/karl/.clearml/cache/offline/offline-241efa55c0bc46f6b238755b74b71f91\n",
      "ClearML Monitor: GPU monitoring failed getting GPU reading, switching off GPU monitoring\n"
     ]
    },
    {
     "name": "stderr",
     "output_type": "stream",
     "text": [
      "[I 2025-01-13 18:22:54,059] Trial 386 finished with values: [1166980.0, 17.290804483333332] and parameters: {'a': 466, 'b': 494, 'd': 403}.\n"
     ]
    },
    {
     "name": "stdout",
     "output_type": "stream",
     "text": [
      "ClearML Task: Offline session stored in /Users/karl/.clearml/cache/offline/offline-241efa55c0bc46f6b238755b74b71f91.zip\n",
      "ClearML Task: created new task id=offline-20c8f99c44944cdc9adab3daacd6a520\n",
      "ClearML running in offline mode, session stored in /Users/karl/.clearml/cache/offline/offline-20c8f99c44944cdc9adab3daacd6a520\n",
      "ClearML Monitor: GPU monitoring failed getting GPU reading, switching off GPU monitoring\n"
     ]
    },
    {
     "name": "stderr",
     "output_type": "stream",
     "text": [
      "[I 2025-01-13 18:23:21,838] Trial 387 finished with values: [1114950.0, 4.982750683333333] and parameters: {'a': 3, 'b': 381, 'd': 232}.\n"
     ]
    },
    {
     "name": "stdout",
     "output_type": "stream",
     "text": [
      "ClearML Task: Offline session stored in /Users/karl/.clearml/cache/offline/offline-20c8f99c44944cdc9adab3daacd6a520.zip\n",
      "ClearML Task: created new task id=offline-1d4317f0efc144fe9fd9abdcc41852c8\n",
      "ClearML running in offline mode, session stored in /Users/karl/.clearml/cache/offline/offline-1d4317f0efc144fe9fd9abdcc41852c8\n",
      "ClearML Monitor: GPU monitoring failed getting GPU reading, switching off GPU monitoring\n"
     ]
    },
    {
     "name": "stderr",
     "output_type": "stream",
     "text": [
      "[I 2025-01-13 18:23:50,245] Trial 388 finished with values: [1176560.0, 8.008723533333333] and parameters: {'a': 21, 'b': 325, 'd': 291}.\n"
     ]
    },
    {
     "name": "stdout",
     "output_type": "stream",
     "text": [
      "ClearML Task: Offline session stored in /Users/karl/.clearml/cache/offline/offline-1d4317f0efc144fe9fd9abdcc41852c8.zip\n",
      "ClearML Task: created new task id=offline-5c5eba4f007d472cac95b89d07060c55\n",
      "ClearML running in offline mode, session stored in /Users/karl/.clearml/cache/offline/offline-5c5eba4f007d472cac95b89d07060c55\n",
      "ClearML Monitor: GPU monitoring failed getting GPU reading, switching off GPU monitoring\n"
     ]
    },
    {
     "name": "stderr",
     "output_type": "stream",
     "text": [
      "[I 2025-01-13 18:24:20,070] Trial 389 finished with values: [1154625.0, 10.2420337] and parameters: {'a': 42, 'b': 387, 'd': 232}.\n"
     ]
    },
    {
     "name": "stdout",
     "output_type": "stream",
     "text": [
      "ClearML Task: Offline session stored in /Users/karl/.clearml/cache/offline/offline-5c5eba4f007d472cac95b89d07060c55.zip\n",
      "ClearML Task: created new task id=offline-b1c229c2fca14ad6aaf773cb95abc66a\n",
      "ClearML running in offline mode, session stored in /Users/karl/.clearml/cache/offline/offline-b1c229c2fca14ad6aaf773cb95abc66a\n",
      "ClearML Monitor: GPU monitoring failed getting GPU reading, switching off GPU monitoring\n"
     ]
    },
    {
     "name": "stderr",
     "output_type": "stream",
     "text": [
      "[I 2025-01-13 18:24:49,833] Trial 390 finished with values: [1121075.0, 5.020498083333334] and parameters: {'a': 3, 'b': 408, 'd': 271}.\n"
     ]
    },
    {
     "name": "stdout",
     "output_type": "stream",
     "text": [
      "ClearML Task: Offline session stored in /Users/karl/.clearml/cache/offline/offline-b1c229c2fca14ad6aaf773cb95abc66a.zip\n",
      "ClearML Task: created new task id=offline-d738276bc85a4cb180d05cbbca766067\n",
      "ClearML running in offline mode, session stored in /Users/karl/.clearml/cache/offline/offline-d738276bc85a4cb180d05cbbca766067\n",
      "ClearML Monitor: GPU monitoring failed getting GPU reading, switching off GPU monitoring\n"
     ]
    },
    {
     "name": "stderr",
     "output_type": "stream",
     "text": [
      "[I 2025-01-13 18:25:22,329] Trial 391 finished with values: [1161180.0, 13.184270516666666] and parameters: {'a': 62, 'b': 411, 'd': 332}.\n"
     ]
    },
    {
     "name": "stdout",
     "output_type": "stream",
     "text": [
      "ClearML Task: Offline session stored in /Users/karl/.clearml/cache/offline/offline-d738276bc85a4cb180d05cbbca766067.zip\n",
      "ClearML Task: created new task id=offline-403b2b97031e48af87dff87724f62f5b\n",
      "ClearML running in offline mode, session stored in /Users/karl/.clearml/cache/offline/offline-403b2b97031e48af87dff87724f62f5b\n",
      "ClearML Monitor: GPU monitoring failed getting GPU reading, switching off GPU monitoring\n"
     ]
    },
    {
     "name": "stderr",
     "output_type": "stream",
     "text": [
      "[I 2025-01-13 18:25:50,952] Trial 392 finished with values: [1150410.0, 7.144364633333334] and parameters: {'a': 10, 'b': 319, 'd': 200}.\n"
     ]
    },
    {
     "name": "stdout",
     "output_type": "stream",
     "text": [
      "ClearML Task: Offline session stored in /Users/karl/.clearml/cache/offline/offline-403b2b97031e48af87dff87724f62f5b.zip\n",
      "ClearML Task: created new task id=offline-7cdc0af524794110ace781c2bb5c5d74\n",
      "ClearML running in offline mode, session stored in /Users/karl/.clearml/cache/offline/offline-7cdc0af524794110ace781c2bb5c5d74\n",
      "ClearML Monitor: GPU monitoring failed getting GPU reading, switching off GPU monitoring\n"
     ]
    },
    {
     "name": "stderr",
     "output_type": "stream",
     "text": [
      "[I 2025-01-13 18:26:21,180] Trial 393 finished with values: [1154265.0, 13.21149425] and parameters: {'a': 46, 'b': 300, 'd': 264}.\n"
     ]
    },
    {
     "name": "stdout",
     "output_type": "stream",
     "text": [
      "ClearML Task: Offline session stored in /Users/karl/.clearml/cache/offline/offline-7cdc0af524794110ace781c2bb5c5d74.zip\n",
      "ClearML Task: created new task id=offline-8b4ded5d014b46d09bba18d9231512d4\n",
      "ClearML running in offline mode, session stored in /Users/karl/.clearml/cache/offline/offline-8b4ded5d014b46d09bba18d9231512d4\n",
      "ClearML Monitor: GPU monitoring failed getting GPU reading, switching off GPU monitoring\n"
     ]
    },
    {
     "name": "stderr",
     "output_type": "stream",
     "text": [
      "[I 2025-01-13 18:26:51,123] Trial 394 finished with values: [1147130.0, 6.746354999999999] and parameters: {'a': 8, 'b': 362, 'd': 347}.\n"
     ]
    },
    {
     "name": "stdout",
     "output_type": "stream",
     "text": [
      "ClearML Task: Offline session stored in /Users/karl/.clearml/cache/offline/offline-8b4ded5d014b46d09bba18d9231512d4.zip\n",
      "ClearML Task: created new task id=offline-8a797b3d73f94aff8a696177b8a0d709\n",
      "ClearML running in offline mode, session stored in /Users/karl/.clearml/cache/offline/offline-8a797b3d73f94aff8a696177b8a0d709\n",
      "ClearML Monitor: GPU monitoring failed getting GPU reading, switching off GPU monitoring\n"
     ]
    },
    {
     "name": "stderr",
     "output_type": "stream",
     "text": [
      "[I 2025-01-13 18:27:19,971] Trial 395 finished with values: [1150705.0, 7.165629183333333] and parameters: {'a': 14, 'b': 449, 'd': 329}.\n"
     ]
    },
    {
     "name": "stdout",
     "output_type": "stream",
     "text": [
      "ClearML Task: Offline session stored in /Users/karl/.clearml/cache/offline/offline-8a797b3d73f94aff8a696177b8a0d709.zip\n",
      "ClearML Task: created new task id=offline-2931b1aa7f75480aa4c277607e3e5ffd\n",
      "ClearML running in offline mode, session stored in /Users/karl/.clearml/cache/offline/offline-2931b1aa7f75480aa4c277607e3e5ffd\n",
      "ClearML Monitor: GPU monitoring failed getting GPU reading, switching off GPU monitoring\n"
     ]
    },
    {
     "name": "stderr",
     "output_type": "stream",
     "text": [
      "[I 2025-01-13 18:27:51,699] Trial 396 finished with values: [1164790.0, 7.943513633333334] and parameters: {'a': 26, 'b': 394, 'd': 238}.\n"
     ]
    },
    {
     "name": "stdout",
     "output_type": "stream",
     "text": [
      "ClearML Task: Offline session stored in /Users/karl/.clearml/cache/offline/offline-2931b1aa7f75480aa4c277607e3e5ffd.zip\n",
      "ClearML Task: created new task id=offline-57deee1748224904ae58e58dcb323906\n",
      "ClearML running in offline mode, session stored in /Users/karl/.clearml/cache/offline/offline-57deee1748224904ae58e58dcb323906\n",
      "ClearML Monitor: GPU monitoring failed getting GPU reading, switching off GPU monitoring\n"
     ]
    },
    {
     "name": "stderr",
     "output_type": "stream",
     "text": [
      "[I 2025-01-13 18:28:22,988] Trial 397 finished with values: [1151730.0, 9.663312583333333] and parameters: {'a': 37, 'b': 352, 'd': 296}.\n"
     ]
    },
    {
     "name": "stdout",
     "output_type": "stream",
     "text": [
      "ClearML Task: Offline session stored in /Users/karl/.clearml/cache/offline/offline-57deee1748224904ae58e58dcb323906.zip\n",
      "ClearML Task: created new task id=offline-d392b9a1971545bcbb76a6cb07697e76\n",
      "ClearML running in offline mode, session stored in /Users/karl/.clearml/cache/offline/offline-d392b9a1971545bcbb76a6cb07697e76\n",
      "ClearML Monitor: GPU monitoring failed getting GPU reading, switching off GPU monitoring\n"
     ]
    },
    {
     "name": "stderr",
     "output_type": "stream",
     "text": [
      "[I 2025-01-13 18:28:51,076] Trial 398 finished with values: [1158925.0, 9.227951733333333] and parameters: {'a': 30, 'b': 362, 'd': 263}.\n"
     ]
    },
    {
     "name": "stdout",
     "output_type": "stream",
     "text": [
      "ClearML Task: Offline session stored in /Users/karl/.clearml/cache/offline/offline-d392b9a1971545bcbb76a6cb07697e76.zip\n",
      "ClearML Task: created new task id=offline-7433c1bd53fa45fa8c06a573871bb9a5\n",
      "ClearML running in offline mode, session stored in /Users/karl/.clearml/cache/offline/offline-7433c1bd53fa45fa8c06a573871bb9a5\n",
      "ClearML Monitor: GPU monitoring failed getting GPU reading, switching off GPU monitoring\n"
     ]
    },
    {
     "name": "stderr",
     "output_type": "stream",
     "text": [
      "[I 2025-01-13 18:29:22,935] Trial 399 finished with values: [1155245.0, 15.362907233333335] and parameters: {'a': 87, 'b': 397, 'd': 287}.\n"
     ]
    },
    {
     "name": "stdout",
     "output_type": "stream",
     "text": [
      "ClearML Task: Offline session stored in /Users/karl/.clearml/cache/offline/offline-7433c1bd53fa45fa8c06a573871bb9a5.zip\n",
      "ClearML Task: created new task id=offline-cbe6f712f68d44ab816aa98d8784d7fd\n",
      "ClearML running in offline mode, session stored in /Users/karl/.clearml/cache/offline/offline-cbe6f712f68d44ab816aa98d8784d7fd\n",
      "ClearML Monitor: GPU monitoring failed getting GPU reading, switching off GPU monitoring\n"
     ]
    },
    {
     "name": "stderr",
     "output_type": "stream",
     "text": [
      "[I 2025-01-13 18:29:56,225] Trial 400 finished with values: [1173140.0, 7.898267433333333] and parameters: {'a': 25, 'b': 396, 'd': 253}.\n"
     ]
    },
    {
     "name": "stdout",
     "output_type": "stream",
     "text": [
      "ClearML Task: Offline session stored in /Users/karl/.clearml/cache/offline/offline-cbe6f712f68d44ab816aa98d8784d7fd.zip\n",
      "ClearML Task: created new task id=offline-5b39ee65725b4d7bb61cbff7200cd254\n",
      "ClearML running in offline mode, session stored in /Users/karl/.clearml/cache/offline/offline-5b39ee65725b4d7bb61cbff7200cd254\n",
      "ClearML Monitor: GPU monitoring failed getting GPU reading, switching off GPU monitoring\n"
     ]
    },
    {
     "name": "stderr",
     "output_type": "stream",
     "text": [
      "[I 2025-01-13 18:30:34,875] Trial 401 finished with values: [1158160.0, 13.030979966666667] and parameters: {'a': 59, 'b': 348, 'd': 264}.\n"
     ]
    },
    {
     "name": "stdout",
     "output_type": "stream",
     "text": [
      "ClearML Task: Offline session stored in /Users/karl/.clearml/cache/offline/offline-5b39ee65725b4d7bb61cbff7200cd254.zip\n",
      "ClearML Task: created new task id=offline-a4557886b1d4472e8187177f3ed6ba4e\n",
      "ClearML running in offline mode, session stored in /Users/karl/.clearml/cache/offline/offline-a4557886b1d4472e8187177f3ed6ba4e\n",
      "ClearML Monitor: GPU monitoring failed getting GPU reading, switching off GPU monitoring\n"
     ]
    },
    {
     "name": "stderr",
     "output_type": "stream",
     "text": [
      "[I 2025-01-13 18:31:11,052] Trial 402 finished with values: [1143135.0, 6.35652965] and parameters: {'a': 9, 'b': 437, 'd': 263}.\n"
     ]
    },
    {
     "name": "stdout",
     "output_type": "stream",
     "text": [
      "ClearML Task: Offline session stored in /Users/karl/.clearml/cache/offline/offline-a4557886b1d4472e8187177f3ed6ba4e.zip\n",
      "ClearML Task: created new task id=offline-db9dd0a5a1c34f8788c67ffc88166fff\n",
      "ClearML running in offline mode, session stored in /Users/karl/.clearml/cache/offline/offline-db9dd0a5a1c34f8788c67ffc88166fff\n",
      "ClearML Monitor: GPU monitoring failed getting GPU reading, switching off GPU monitoring\n"
     ]
    },
    {
     "name": "stderr",
     "output_type": "stream",
     "text": [
      "[I 2025-01-13 18:31:47,024] Trial 403 finished with values: [1154435.0, 8.932774783333334] and parameters: {'a': 31, 'b': 379, 'd': 236}.\n"
     ]
    },
    {
     "name": "stdout",
     "output_type": "stream",
     "text": [
      "ClearML Task: Offline session stored in /Users/karl/.clearml/cache/offline/offline-db9dd0a5a1c34f8788c67ffc88166fff.zip\n",
      "ClearML Task: created new task id=offline-9967c67b033b4fb1b25e0e08d979d95f\n",
      "ClearML running in offline mode, session stored in /Users/karl/.clearml/cache/offline/offline-9967c67b033b4fb1b25e0e08d979d95f\n",
      "ClearML Monitor: GPU monitoring failed getting GPU reading, switching off GPU monitoring\n"
     ]
    },
    {
     "name": "stderr",
     "output_type": "stream",
     "text": [
      "[I 2025-01-13 18:32:23,362] Trial 404 finished with values: [1151335.0, 17.13764366666667] and parameters: {'a': 108, 'b': 303, 'd': 239}.\n"
     ]
    },
    {
     "name": "stdout",
     "output_type": "stream",
     "text": [
      "ClearML Task: Offline session stored in /Users/karl/.clearml/cache/offline/offline-9967c67b033b4fb1b25e0e08d979d95f.zip\n",
      "ClearML Task: created new task id=offline-68e2aaafe51142789df3003d749f0ba0\n",
      "ClearML running in offline mode, session stored in /Users/karl/.clearml/cache/offline/offline-68e2aaafe51142789df3003d749f0ba0\n",
      "ClearML Monitor: GPU monitoring failed getting GPU reading, switching off GPU monitoring\n"
     ]
    },
    {
     "name": "stderr",
     "output_type": "stream",
     "text": [
      "[I 2025-01-13 18:32:58,092] Trial 405 finished with values: [1140675.0, 6.256750283333333] and parameters: {'a': 8, 'b': 397, 'd': 277}.\n"
     ]
    },
    {
     "name": "stdout",
     "output_type": "stream",
     "text": [
      "ClearML Task: Offline session stored in /Users/karl/.clearml/cache/offline/offline-68e2aaafe51142789df3003d749f0ba0.zip\n",
      "ClearML Task: created new task id=offline-6b490ddc39074669941b8b5b44459ebe\n",
      "ClearML running in offline mode, session stored in /Users/karl/.clearml/cache/offline/offline-6b490ddc39074669941b8b5b44459ebe\n",
      "ClearML Monitor: GPU monitoring failed getting GPU reading, switching off GPU monitoring\n"
     ]
    },
    {
     "name": "stderr",
     "output_type": "stream",
     "text": [
      "[I 2025-01-13 18:33:32,927] Trial 406 finished with values: [1153055.0, 9.629204966666666] and parameters: {'a': 35, 'b': 354, 'd': 282}.\n"
     ]
    },
    {
     "name": "stdout",
     "output_type": "stream",
     "text": [
      "ClearML Task: Offline session stored in /Users/karl/.clearml/cache/offline/offline-6b490ddc39074669941b8b5b44459ebe.zip\n",
      "ClearML Task: created new task id=offline-6257f82bb1f243ea8c03a7af1fd00c13\n",
      "ClearML running in offline mode, session stored in /Users/karl/.clearml/cache/offline/offline-6257f82bb1f243ea8c03a7af1fd00c13\n",
      "ClearML Monitor: GPU monitoring failed getting GPU reading, switching off GPU monitoring\n"
     ]
    },
    {
     "name": "stderr",
     "output_type": "stream",
     "text": [
      "[I 2025-01-13 18:34:09,305] Trial 407 finished with values: [1162120.0, 16.417804800000003] and parameters: {'a': 199, 'b': 361, 'd': 495}.\n"
     ]
    },
    {
     "name": "stdout",
     "output_type": "stream",
     "text": [
      "ClearML Task: Offline session stored in /Users/karl/.clearml/cache/offline/offline-6257f82bb1f243ea8c03a7af1fd00c13.zip\n",
      "ClearML Task: created new task id=offline-0e01f9fa119048ae9fe715ed088a1e32\n",
      "ClearML running in offline mode, session stored in /Users/karl/.clearml/cache/offline/offline-0e01f9fa119048ae9fe715ed088a1e32\n",
      "ClearML Monitor: GPU monitoring failed getting GPU reading, switching off GPU monitoring\n"
     ]
    },
    {
     "name": "stderr",
     "output_type": "stream",
     "text": [
      "[I 2025-01-13 18:34:42,925] Trial 408 finished with values: [1150355.0, 6.664534649999999] and parameters: {'a': 8, 'b': 331, 'd': 275}.\n"
     ]
    },
    {
     "name": "stdout",
     "output_type": "stream",
     "text": [
      "ClearML Task: Offline session stored in /Users/karl/.clearml/cache/offline/offline-0e01f9fa119048ae9fe715ed088a1e32.zip\n",
      "ClearML Task: created new task id=offline-ecaad196ea544f82a6d9ea38d336f9ad\n",
      "ClearML running in offline mode, session stored in /Users/karl/.clearml/cache/offline/offline-ecaad196ea544f82a6d9ea38d336f9ad\n",
      "ClearML Monitor: GPU monitoring failed getting GPU reading, switching off GPU monitoring\n"
     ]
    },
    {
     "name": "stderr",
     "output_type": "stream",
     "text": [
      "[I 2025-01-13 18:35:17,765] Trial 409 finished with values: [1149210.0, 6.419743383333333] and parameters: {'a': 6, 'b': 341, 'd': 223}.\n"
     ]
    },
    {
     "name": "stdout",
     "output_type": "stream",
     "text": [
      "ClearML Task: Offline session stored in /Users/karl/.clearml/cache/offline/offline-ecaad196ea544f82a6d9ea38d336f9ad.zip\n",
      "ClearML Task: created new task id=offline-d86599293dc04241be9c2cd2ca83a028\n",
      "ClearML running in offline mode, session stored in /Users/karl/.clearml/cache/offline/offline-d86599293dc04241be9c2cd2ca83a028\n",
      "ClearML Monitor: GPU monitoring failed getting GPU reading, switching off GPU monitoring\n"
     ]
    },
    {
     "name": "stderr",
     "output_type": "stream",
     "text": [
      "[I 2025-01-13 18:35:53,673] Trial 410 finished with values: [1158250.0, 13.629252866666667] and parameters: {'a': 54, 'b': 368, 'd': 243}.\n"
     ]
    },
    {
     "name": "stdout",
     "output_type": "stream",
     "text": [
      "ClearML Task: Offline session stored in /Users/karl/.clearml/cache/offline/offline-d86599293dc04241be9c2cd2ca83a028.zip\n",
      "ClearML Task: created new task id=offline-30f63b9deb1347838f11dac4757cb0a6\n",
      "ClearML running in offline mode, session stored in /Users/karl/.clearml/cache/offline/offline-30f63b9deb1347838f11dac4757cb0a6\n",
      "ClearML Monitor: GPU monitoring failed getting GPU reading, switching off GPU monitoring\n"
     ]
    },
    {
     "name": "stderr",
     "output_type": "stream",
     "text": [
      "[I 2025-01-13 18:36:28,859] Trial 411 finished with values: [1183265.0, 29.899013016666668] and parameters: {'a': 163, 'b': 8, 'd': 287}.\n"
     ]
    },
    {
     "name": "stdout",
     "output_type": "stream",
     "text": [
      "ClearML Task: Offline session stored in /Users/karl/.clearml/cache/offline/offline-30f63b9deb1347838f11dac4757cb0a6.zip\n",
      "ClearML Task: created new task id=offline-6dfa82869bb84a81a3c48a3a0ad77165\n",
      "ClearML running in offline mode, session stored in /Users/karl/.clearml/cache/offline/offline-6dfa82869bb84a81a3c48a3a0ad77165\n",
      "ClearML Monitor: GPU monitoring failed getting GPU reading, switching off GPU monitoring\n"
     ]
    },
    {
     "name": "stderr",
     "output_type": "stream",
     "text": [
      "[I 2025-01-13 18:36:58,305] Trial 412 finished with values: [1141125.0, 6.39734725] and parameters: {'a': 5, 'b': 305, 'd': 262}.\n"
     ]
    },
    {
     "name": "stdout",
     "output_type": "stream",
     "text": [
      "ClearML Task: Offline session stored in /Users/karl/.clearml/cache/offline/offline-6dfa82869bb84a81a3c48a3a0ad77165.zip\n",
      "ClearML Task: created new task id=offline-d91e9f97cf1942a9aabb2b130e89300c\n",
      "ClearML running in offline mode, session stored in /Users/karl/.clearml/cache/offline/offline-d91e9f97cf1942a9aabb2b130e89300c\n",
      "ClearML Monitor: GPU monitoring failed getting GPU reading, switching off GPU monitoring\n"
     ]
    },
    {
     "name": "stderr",
     "output_type": "stream",
     "text": [
      "[I 2025-01-13 18:37:30,932] Trial 413 finished with values: [1152405.0, 7.169461983333333] and parameters: {'a': 10, 'b': 377, 'd': 195}.\n"
     ]
    },
    {
     "name": "stdout",
     "output_type": "stream",
     "text": [
      "ClearML Task: Offline session stored in /Users/karl/.clearml/cache/offline/offline-d91e9f97cf1942a9aabb2b130e89300c.zip\n",
      "ClearML Task: created new task id=offline-ca24d16dc02c4fa09d7f9b83172eb18c\n",
      "ClearML running in offline mode, session stored in /Users/karl/.clearml/cache/offline/offline-ca24d16dc02c4fa09d7f9b83172eb18c\n",
      "ClearML Monitor: GPU monitoring failed getting GPU reading, switching off GPU monitoring\n"
     ]
    },
    {
     "name": "stderr",
     "output_type": "stream",
     "text": [
      "[I 2025-01-13 18:38:03,332] Trial 414 finished with values: [1148915.0, 7.263048466666667] and parameters: {'a': 14, 'b': 399, 'd': 319}.\n"
     ]
    },
    {
     "name": "stdout",
     "output_type": "stream",
     "text": [
      "ClearML Task: Offline session stored in /Users/karl/.clearml/cache/offline/offline-ca24d16dc02c4fa09d7f9b83172eb18c.zip\n",
      "ClearML Task: created new task id=offline-763edcbe65c842e9937d7aebecb1c2fe\n",
      "ClearML running in offline mode, session stored in /Users/karl/.clearml/cache/offline/offline-763edcbe65c842e9937d7aebecb1c2fe\n",
      "ClearML Monitor: GPU monitoring failed getting GPU reading, switching off GPU monitoring\n"
     ]
    },
    {
     "name": "stderr",
     "output_type": "stream",
     "text": [
      "[I 2025-01-13 18:38:33,808] Trial 415 finished with values: [1122610.0, 4.905142683333334] and parameters: {'a': 1, 'b': 342, 'd': 197}.\n"
     ]
    },
    {
     "name": "stdout",
     "output_type": "stream",
     "text": [
      "ClearML Task: Offline session stored in /Users/karl/.clearml/cache/offline/offline-763edcbe65c842e9937d7aebecb1c2fe.zip\n",
      "ClearML Task: created new task id=offline-d1d8f661f1e7401f89bd64d0b28067d1\n",
      "ClearML running in offline mode, session stored in /Users/karl/.clearml/cache/offline/offline-d1d8f661f1e7401f89bd64d0b28067d1\n",
      "ClearML Monitor: GPU monitoring failed getting GPU reading, switching off GPU monitoring\n"
     ]
    },
    {
     "name": "stderr",
     "output_type": "stream",
     "text": [
      "[I 2025-01-13 18:39:06,536] Trial 416 finished with values: [1164855.0, 16.949238133333335] and parameters: {'a': 124, 'b': 368, 'd': 223}.\n"
     ]
    },
    {
     "name": "stdout",
     "output_type": "stream",
     "text": [
      "ClearML Task: Offline session stored in /Users/karl/.clearml/cache/offline/offline-d1d8f661f1e7401f89bd64d0b28067d1.zip\n",
      "ClearML Task: created new task id=offline-1d85a5181db14caaab365fd6aa72c85a\n",
      "ClearML running in offline mode, session stored in /Users/karl/.clearml/cache/offline/offline-1d85a5181db14caaab365fd6aa72c85a\n",
      "ClearML Monitor: GPU monitoring failed getting GPU reading, switching off GPU monitoring\n"
     ]
    },
    {
     "name": "stderr",
     "output_type": "stream",
     "text": [
      "[I 2025-01-13 18:39:38,977] Trial 417 finished with values: [1155455.0, 7.279375416666666] and parameters: {'a': 17, 'b': 395, 'd': 247}.\n"
     ]
    },
    {
     "name": "stdout",
     "output_type": "stream",
     "text": [
      "ClearML Task: Offline session stored in /Users/karl/.clearml/cache/offline/offline-1d85a5181db14caaab365fd6aa72c85a.zip\n",
      "ClearML Task: created new task id=offline-bef4894f34df459ea2e9257d4ad654ba\n",
      "ClearML running in offline mode, session stored in /Users/karl/.clearml/cache/offline/offline-bef4894f34df459ea2e9257d4ad654ba\n",
      "ClearML Monitor: GPU monitoring failed getting GPU reading, switching off GPU monitoring\n"
     ]
    },
    {
     "name": "stderr",
     "output_type": "stream",
     "text": [
      "[I 2025-01-13 18:40:08,460] Trial 418 finished with values: [1165215.0, 7.813976633333334] and parameters: {'a': 25, 'b': 401, 'd': 239}.\n"
     ]
    },
    {
     "name": "stdout",
     "output_type": "stream",
     "text": [
      "ClearML Task: Offline session stored in /Users/karl/.clearml/cache/offline/offline-bef4894f34df459ea2e9257d4ad654ba.zip\n",
      "ClearML Task: created new task id=offline-95f8eacc359f4491a18f61e4ab0d939c\n",
      "ClearML running in offline mode, session stored in /Users/karl/.clearml/cache/offline/offline-95f8eacc359f4491a18f61e4ab0d939c\n",
      "ClearML Monitor: GPU monitoring failed getting GPU reading, switching off GPU monitoring\n"
     ]
    },
    {
     "name": "stderr",
     "output_type": "stream",
     "text": [
      "[I 2025-01-13 18:40:41,995] Trial 419 finished with values: [1157880.0, 17.308009183333336] and parameters: {'a': 226, 'b': 419, 'd': 351}.\n"
     ]
    },
    {
     "name": "stdout",
     "output_type": "stream",
     "text": [
      "ClearML Task: Offline session stored in /Users/karl/.clearml/cache/offline/offline-95f8eacc359f4491a18f61e4ab0d939c.zip\n",
      "ClearML Task: created new task id=offline-ea3c72e4224940b3ae30ea7f3d2cc360\n",
      "ClearML running in offline mode, session stored in /Users/karl/.clearml/cache/offline/offline-ea3c72e4224940b3ae30ea7f3d2cc360\n",
      "ClearML Monitor: GPU monitoring failed getting GPU reading, switching off GPU monitoring\n"
     ]
    },
    {
     "name": "stderr",
     "output_type": "stream",
     "text": [
      "[I 2025-01-13 18:41:15,746] Trial 420 finished with values: [1164210.0, 16.301207350000002] and parameters: {'a': 119, 'b': 159, 'd': 285}.\n"
     ]
    },
    {
     "name": "stdout",
     "output_type": "stream",
     "text": [
      "ClearML Task: Offline session stored in /Users/karl/.clearml/cache/offline/offline-ea3c72e4224940b3ae30ea7f3d2cc360.zip\n",
      "ClearML Task: created new task id=offline-b18233e1eacd44b8a47b02a858c50a85\n",
      "ClearML running in offline mode, session stored in /Users/karl/.clearml/cache/offline/offline-b18233e1eacd44b8a47b02a858c50a85\n",
      "ClearML Monitor: GPU monitoring failed getting GPU reading, switching off GPU monitoring\n"
     ]
    },
    {
     "name": "stderr",
     "output_type": "stream",
     "text": [
      "[I 2025-01-13 18:41:46,054] Trial 421 finished with values: [1137425.0, 5.7841807833333325] and parameters: {'a': 5, 'b': 404, 'd': 298}.\n"
     ]
    },
    {
     "name": "stdout",
     "output_type": "stream",
     "text": [
      "ClearML Task: Offline session stored in /Users/karl/.clearml/cache/offline/offline-b18233e1eacd44b8a47b02a858c50a85.zip\n",
      "ClearML Task: created new task id=offline-b6a04e6b89a24213a3fe24308e6832eb\n",
      "ClearML running in offline mode, session stored in /Users/karl/.clearml/cache/offline/offline-b6a04e6b89a24213a3fe24308e6832eb\n",
      "ClearML Monitor: GPU monitoring failed getting GPU reading, switching off GPU monitoring\n"
     ]
    },
    {
     "name": "stderr",
     "output_type": "stream",
     "text": [
      "[I 2025-01-13 18:42:19,932] Trial 422 finished with values: [1171680.0, 15.3348405] and parameters: {'a': 402, 'b': 100, 'd': 339}.\n"
     ]
    },
    {
     "name": "stdout",
     "output_type": "stream",
     "text": [
      "ClearML Task: Offline session stored in /Users/karl/.clearml/cache/offline/offline-b6a04e6b89a24213a3fe24308e6832eb.zip\n",
      "ClearML Task: created new task id=offline-bf994dd145f246938d6e5f9c2179f604\n",
      "ClearML running in offline mode, session stored in /Users/karl/.clearml/cache/offline/offline-bf994dd145f246938d6e5f9c2179f604\n",
      "ClearML Monitor: GPU monitoring failed getting GPU reading, switching off GPU monitoring\n"
     ]
    },
    {
     "name": "stderr",
     "output_type": "stream",
     "text": [
      "[I 2025-01-13 18:42:53,999] Trial 423 finished with values: [1173445.0, 15.641553333333333] and parameters: {'a': 361, 'b': 496, 'd': 165}.\n"
     ]
    },
    {
     "name": "stdout",
     "output_type": "stream",
     "text": [
      "ClearML Task: Offline session stored in /Users/karl/.clearml/cache/offline/offline-bf994dd145f246938d6e5f9c2179f604.zip\n",
      "ClearML Task: created new task id=offline-af7876f2579a434484ffcdb682f30cbb\n",
      "ClearML running in offline mode, session stored in /Users/karl/.clearml/cache/offline/offline-af7876f2579a434484ffcdb682f30cbb\n",
      "ClearML Monitor: GPU monitoring failed getting GPU reading, switching off GPU monitoring\n"
     ]
    },
    {
     "name": "stderr",
     "output_type": "stream",
     "text": [
      "[I 2025-01-13 18:43:27,390] Trial 424 finished with values: [1162955.0, 17.028340033333333] and parameters: {'a': 98, 'b': 137, 'd': 497}.\n"
     ]
    },
    {
     "name": "stdout",
     "output_type": "stream",
     "text": [
      "ClearML Task: Offline session stored in /Users/karl/.clearml/cache/offline/offline-af7876f2579a434484ffcdb682f30cbb.zip\n",
      "ClearML Task: created new task id=offline-56d7ca00f861464d9619895c5a4bc160\n",
      "ClearML running in offline mode, session stored in /Users/karl/.clearml/cache/offline/offline-56d7ca00f861464d9619895c5a4bc160\n",
      "ClearML Monitor: GPU monitoring failed getting GPU reading, switching off GPU monitoring\n"
     ]
    },
    {
     "name": "stderr",
     "output_type": "stream",
     "text": [
      "[I 2025-01-13 18:43:58,524] Trial 425 finished with values: [1152650.0, 7.147869383333333] and parameters: {'a': 12, 'b': 378, 'd': 224}.\n"
     ]
    },
    {
     "name": "stdout",
     "output_type": "stream",
     "text": [
      "ClearML Task: Offline session stored in /Users/karl/.clearml/cache/offline/offline-56d7ca00f861464d9619895c5a4bc160.zip\n",
      "ClearML Task: created new task id=offline-63fb89f02b7149e8ace805508ca04865\n",
      "ClearML running in offline mode, session stored in /Users/karl/.clearml/cache/offline/offline-63fb89f02b7149e8ace805508ca04865\n",
      "ClearML Monitor: GPU monitoring failed getting GPU reading, switching off GPU monitoring\n"
     ]
    },
    {
     "name": "stderr",
     "output_type": "stream",
     "text": [
      "[I 2025-01-13 18:44:31,934] Trial 426 finished with values: [1168775.0, 15.378610433333334] and parameters: {'a': 182, 'b': 219, 'd': 383}.\n"
     ]
    },
    {
     "name": "stdout",
     "output_type": "stream",
     "text": [
      "ClearML Task: Offline session stored in /Users/karl/.clearml/cache/offline/offline-63fb89f02b7149e8ace805508ca04865.zip\n",
      "ClearML Task: created new task id=offline-df518ec60d4d4679af1b6a2dc4debc2a\n",
      "ClearML running in offline mode, session stored in /Users/karl/.clearml/cache/offline/offline-df518ec60d4d4679af1b6a2dc4debc2a\n",
      "ClearML Monitor: GPU monitoring failed getting GPU reading, switching off GPU monitoring\n"
     ]
    },
    {
     "name": "stderr",
     "output_type": "stream",
     "text": [
      "[I 2025-01-13 18:45:06,335] Trial 427 finished with values: [1169345.0, 16.346351266666666] and parameters: {'a': 448, 'b': 359, 'd': 333}.\n"
     ]
    },
    {
     "name": "stdout",
     "output_type": "stream",
     "text": [
      "ClearML Task: Offline session stored in /Users/karl/.clearml/cache/offline/offline-df518ec60d4d4679af1b6a2dc4debc2a.zip\n",
      "ClearML Task: created new task id=offline-6d5564f24c5a432a8a4ce06c34ea0a63\n",
      "ClearML running in offline mode, session stored in /Users/karl/.clearml/cache/offline/offline-6d5564f24c5a432a8a4ce06c34ea0a63\n",
      "ClearML Monitor: GPU monitoring failed getting GPU reading, switching off GPU monitoring\n"
     ]
    },
    {
     "name": "stderr",
     "output_type": "stream",
     "text": [
      "[I 2025-01-13 18:45:41,788] Trial 428 finished with values: [1169345.0, 16.346351266666666] and parameters: {'a': 500, 'b': 402, 'd': 123}.\n"
     ]
    },
    {
     "name": "stdout",
     "output_type": "stream",
     "text": [
      "ClearML Task: Offline session stored in /Users/karl/.clearml/cache/offline/offline-6d5564f24c5a432a8a4ce06c34ea0a63.zip\n",
      "ClearML Task: created new task id=offline-ee721f0bf9e642298c206c39bb1343b1\n",
      "ClearML running in offline mode, session stored in /Users/karl/.clearml/cache/offline/offline-ee721f0bf9e642298c206c39bb1343b1\n",
      "ClearML Monitor: GPU monitoring failed getting GPU reading, switching off GPU monitoring\n"
     ]
    },
    {
     "name": "stderr",
     "output_type": "stream",
     "text": [
      "[I 2025-01-13 18:46:15,005] Trial 429 finished with values: [1153435.0, 7.28191305] and parameters: {'a': 14, 'b': 402, 'd': 222}.\n"
     ]
    },
    {
     "name": "stdout",
     "output_type": "stream",
     "text": [
      "ClearML Task: Offline session stored in /Users/karl/.clearml/cache/offline/offline-ee721f0bf9e642298c206c39bb1343b1.zip\n",
      "ClearML Task: created new task id=offline-606471cb5898405ca224bb793dc68450\n",
      "ClearML running in offline mode, session stored in /Users/karl/.clearml/cache/offline/offline-606471cb5898405ca224bb793dc68450\n",
      "ClearML Monitor: GPU monitoring failed getting GPU reading, switching off GPU monitoring\n"
     ]
    },
    {
     "name": "stderr",
     "output_type": "stream",
     "text": [
      "[I 2025-01-13 18:46:49,496] Trial 430 finished with values: [1165825.0, 15.9689698] and parameters: {'a': 337, 'b': 253, 'd': 343}.\n"
     ]
    },
    {
     "name": "stdout",
     "output_type": "stream",
     "text": [
      "ClearML Task: Offline session stored in /Users/karl/.clearml/cache/offline/offline-606471cb5898405ca224bb793dc68450.zip\n",
      "ClearML Task: created new task id=offline-2475caf4f843427cbbc2d9924161b3ee\n",
      "ClearML running in offline mode, session stored in /Users/karl/.clearml/cache/offline/offline-2475caf4f843427cbbc2d9924161b3ee\n",
      "ClearML Monitor: GPU monitoring failed getting GPU reading, switching off GPU monitoring\n"
     ]
    },
    {
     "name": "stderr",
     "output_type": "stream",
     "text": [
      "[I 2025-01-13 18:47:24,658] Trial 431 finished with values: [1184680.0, 18.617998833333335] and parameters: {'a': 230, 'b': 31, 'd': 388}.\n"
     ]
    },
    {
     "name": "stdout",
     "output_type": "stream",
     "text": [
      "ClearML Task: Offline session stored in /Users/karl/.clearml/cache/offline/offline-2475caf4f843427cbbc2d9924161b3ee.zip\n",
      "ClearML Task: created new task id=offline-40b753bef5cb436ca4a6a4431e3ab80a\n",
      "ClearML running in offline mode, session stored in /Users/karl/.clearml/cache/offline/offline-40b753bef5cb436ca4a6a4431e3ab80a\n",
      "ClearML Monitor: GPU monitoring failed getting GPU reading, switching off GPU monitoring\n"
     ]
    },
    {
     "name": "stderr",
     "output_type": "stream",
     "text": [
      "[I 2025-01-13 18:48:00,522] Trial 432 finished with values: [1166230.0, 16.95497556666667] and parameters: {'a': 166, 'b': 223, 'd': 27}.\n"
     ]
    },
    {
     "name": "stdout",
     "output_type": "stream",
     "text": [
      "ClearML Task: Offline session stored in /Users/karl/.clearml/cache/offline/offline-40b753bef5cb436ca4a6a4431e3ab80a.zip\n",
      "ClearML Task: created new task id=offline-62d2839d5bbd4ab3ad59d9d50d4a7554\n",
      "ClearML running in offline mode, session stored in /Users/karl/.clearml/cache/offline/offline-62d2839d5bbd4ab3ad59d9d50d4a7554\n",
      "ClearML Monitor: GPU monitoring failed getting GPU reading, switching off GPU monitoring\n"
     ]
    },
    {
     "name": "stderr",
     "output_type": "stream",
     "text": [
      "[I 2025-01-13 18:48:32,922] Trial 433 finished with values: [1162070.0, 7.709769166666666] and parameters: {'a': 21, 'b': 330, 'd': 248}.\n"
     ]
    },
    {
     "name": "stdout",
     "output_type": "stream",
     "text": [
      "ClearML Task: Offline session stored in /Users/karl/.clearml/cache/offline/offline-62d2839d5bbd4ab3ad59d9d50d4a7554.zip\n",
      "ClearML Task: created new task id=offline-dcaadd81f69343f0840a4743b7b3f6aa\n",
      "ClearML running in offline mode, session stored in /Users/karl/.clearml/cache/offline/offline-dcaadd81f69343f0840a4743b7b3f6aa\n",
      "ClearML Monitor: GPU monitoring failed getting GPU reading, switching off GPU monitoring\n"
     ]
    },
    {
     "name": "stderr",
     "output_type": "stream",
     "text": [
      "[I 2025-01-13 18:49:04,982] Trial 434 finished with values: [1125755.0, 4.90711345] and parameters: {'a': 2, 'b': 397, 'd': 244}.\n"
     ]
    },
    {
     "name": "stdout",
     "output_type": "stream",
     "text": [
      "ClearML Task: Offline session stored in /Users/karl/.clearml/cache/offline/offline-dcaadd81f69343f0840a4743b7b3f6aa.zip\n",
      "ClearML Task: created new task id=offline-90a33288743344cd87f8b851a6e98f68\n",
      "ClearML running in offline mode, session stored in /Users/karl/.clearml/cache/offline/offline-90a33288743344cd87f8b851a6e98f68\n",
      "ClearML Monitor: GPU monitoring failed getting GPU reading, switching off GPU monitoring\n"
     ]
    },
    {
     "name": "stderr",
     "output_type": "stream",
     "text": [
      "[I 2025-01-13 18:49:38,859] Trial 435 finished with values: [1156195.0, 13.5351983] and parameters: {'a': 77, 'b': 450, 'd': 256}.\n"
     ]
    },
    {
     "name": "stdout",
     "output_type": "stream",
     "text": [
      "ClearML Task: Offline session stored in /Users/karl/.clearml/cache/offline/offline-90a33288743344cd87f8b851a6e98f68.zip\n",
      "ClearML Task: created new task id=offline-0774ff5a5a16477db7baf369fc682a98\n",
      "ClearML running in offline mode, session stored in /Users/karl/.clearml/cache/offline/offline-0774ff5a5a16477db7baf369fc682a98\n",
      "ClearML Monitor: GPU monitoring failed getting GPU reading, switching off GPU monitoring\n"
     ]
    },
    {
     "name": "stderr",
     "output_type": "stream",
     "text": [
      "[I 2025-01-13 18:50:10,115] Trial 436 finished with values: [1158540.0, 7.32406165] and parameters: {'a': 14, 'b': 391, 'd': 188}.\n"
     ]
    },
    {
     "name": "stdout",
     "output_type": "stream",
     "text": [
      "ClearML Task: Offline session stored in /Users/karl/.clearml/cache/offline/offline-0774ff5a5a16477db7baf369fc682a98.zip\n",
      "ClearML Task: created new task id=offline-6b846520882240a28bf87168680e9a6e\n",
      "ClearML running in offline mode, session stored in /Users/karl/.clearml/cache/offline/offline-6b846520882240a28bf87168680e9a6e\n",
      "ClearML Monitor: GPU monitoring failed getting GPU reading, switching off GPU monitoring\n"
     ]
    },
    {
     "name": "stderr",
     "output_type": "stream",
     "text": [
      "[I 2025-01-13 18:50:42,339] Trial 437 finished with values: [1150390.0, 6.855021533333333] and parameters: {'a': 8, 'b': 342, 'd': 305}.\n"
     ]
    },
    {
     "name": "stdout",
     "output_type": "stream",
     "text": [
      "ClearML Task: Offline session stored in /Users/karl/.clearml/cache/offline/offline-6b846520882240a28bf87168680e9a6e.zip\n",
      "ClearML Task: created new task id=offline-313d76771d104302a9efdacf69de735e\n",
      "ClearML running in offline mode, session stored in /Users/karl/.clearml/cache/offline/offline-313d76771d104302a9efdacf69de735e\n",
      "ClearML Monitor: GPU monitoring failed getting GPU reading, switching off GPU monitoring\n"
     ]
    },
    {
     "name": "stderr",
     "output_type": "stream",
     "text": [
      "[I 2025-01-13 18:51:15,328] Trial 438 finished with values: [1165730.0, 14.879701116666666] and parameters: {'a': 223, 'b': 162, 'd': 142}.\n"
     ]
    },
    {
     "name": "stdout",
     "output_type": "stream",
     "text": [
      "ClearML Task: Offline session stored in /Users/karl/.clearml/cache/offline/offline-313d76771d104302a9efdacf69de735e.zip\n",
      "ClearML Task: created new task id=offline-f00627d76d0047f6b7307725590800ac\n",
      "ClearML running in offline mode, session stored in /Users/karl/.clearml/cache/offline/offline-f00627d76d0047f6b7307725590800ac\n",
      "ClearML Monitor: GPU monitoring failed getting GPU reading, switching off GPU monitoring\n"
     ]
    },
    {
     "name": "stderr",
     "output_type": "stream",
     "text": [
      "[I 2025-01-13 18:51:48,581] Trial 439 finished with values: [1162995.0, 15.44249735] and parameters: {'a': 89, 'b': 365, 'd': 211}.\n"
     ]
    },
    {
     "name": "stdout",
     "output_type": "stream",
     "text": [
      "ClearML Task: Offline session stored in /Users/karl/.clearml/cache/offline/offline-f00627d76d0047f6b7307725590800ac.zip\n",
      "ClearML Task: created new task id=offline-0c805871759844ae913e11a05bffd99b\n",
      "ClearML running in offline mode, session stored in /Users/karl/.clearml/cache/offline/offline-0c805871759844ae913e11a05bffd99b\n",
      "ClearML Monitor: GPU monitoring failed getting GPU reading, switching off GPU monitoring\n"
     ]
    },
    {
     "name": "stderr",
     "output_type": "stream",
     "text": [
      "[I 2025-01-13 18:52:21,253] Trial 440 finished with values: [1165730.0, 14.879701116666666] and parameters: {'a': 324, 'b': 234, 'd': 191}.\n"
     ]
    },
    {
     "name": "stdout",
     "output_type": "stream",
     "text": [
      "ClearML Task: Offline session stored in /Users/karl/.clearml/cache/offline/offline-0c805871759844ae913e11a05bffd99b.zip\n",
      "ClearML Task: created new task id=offline-c257f101bcec48ab95d66b36e183bd14\n",
      "ClearML running in offline mode, session stored in /Users/karl/.clearml/cache/offline/offline-c257f101bcec48ab95d66b36e183bd14\n",
      "ClearML Monitor: GPU monitoring failed getting GPU reading, switching off GPU monitoring\n"
     ]
    },
    {
     "name": "stderr",
     "output_type": "stream",
     "text": [
      "[I 2025-01-13 18:52:52,782] Trial 441 finished with values: [1148580.0, 6.296868399999999] and parameters: {'a': 5, 'b': 359, 'd': 257}.\n"
     ]
    },
    {
     "name": "stdout",
     "output_type": "stream",
     "text": [
      "ClearML Task: Offline session stored in /Users/karl/.clearml/cache/offline/offline-c257f101bcec48ab95d66b36e183bd14.zip\n",
      "ClearML Task: created new task id=offline-e09d58abe4bf4fbc9f126a772a22976d\n",
      "ClearML running in offline mode, session stored in /Users/karl/.clearml/cache/offline/offline-e09d58abe4bf4fbc9f126a772a22976d\n",
      "ClearML Monitor: GPU monitoring failed getting GPU reading, switching off GPU monitoring\n"
     ]
    },
    {
     "name": "stderr",
     "output_type": "stream",
     "text": [
      "[I 2025-01-13 18:53:27,087] Trial 442 finished with values: [1157380.0, 17.2520981] and parameters: {'a': 247, 'b': 358, 'd': 180}.\n"
     ]
    },
    {
     "name": "stdout",
     "output_type": "stream",
     "text": [
      "ClearML Task: Offline session stored in /Users/karl/.clearml/cache/offline/offline-e09d58abe4bf4fbc9f126a772a22976d.zip\n",
      "ClearML Task: created new task id=offline-45ed1767da144d59b398f5c5d622346b\n",
      "ClearML running in offline mode, session stored in /Users/karl/.clearml/cache/offline/offline-45ed1767da144d59b398f5c5d622346b\n",
      "ClearML Monitor: GPU monitoring failed getting GPU reading, switching off GPU monitoring\n"
     ]
    },
    {
     "name": "stderr",
     "output_type": "stream",
     "text": [
      "[I 2025-01-13 18:54:01,397] Trial 443 finished with values: [1161170.0, 17.013794416666666] and parameters: {'a': 390, 'b': 433, 'd': 232}.\n"
     ]
    },
    {
     "name": "stdout",
     "output_type": "stream",
     "text": [
      "ClearML Task: Offline session stored in /Users/karl/.clearml/cache/offline/offline-45ed1767da144d59b398f5c5d622346b.zip\n",
      "ClearML Task: created new task id=offline-18132b141a0341578cae33cd99c61cac\n",
      "ClearML running in offline mode, session stored in /Users/karl/.clearml/cache/offline/offline-18132b141a0341578cae33cd99c61cac\n",
      "ClearML Monitor: GPU monitoring failed getting GPU reading, switching off GPU monitoring\n"
     ]
    },
    {
     "name": "stderr",
     "output_type": "stream",
     "text": [
      "[I 2025-01-13 18:54:33,405] Trial 444 finished with values: [1149810.0, 7.2529293500000005] and parameters: {'a': 11, 'b': 313, 'd': 216}.\n"
     ]
    },
    {
     "name": "stdout",
     "output_type": "stream",
     "text": [
      "ClearML Task: Offline session stored in /Users/karl/.clearml/cache/offline/offline-18132b141a0341578cae33cd99c61cac.zip\n",
      "ClearML Task: created new task id=offline-63ee68ef825b4669a7646785b9eafe88\n",
      "ClearML running in offline mode, session stored in /Users/karl/.clearml/cache/offline/offline-63ee68ef825b4669a7646785b9eafe88\n",
      "ClearML Monitor: GPU monitoring failed getting GPU reading, switching off GPU monitoring\n"
     ]
    },
    {
     "name": "stderr",
     "output_type": "stream",
     "text": [
      "[I 2025-01-13 18:55:06,323] Trial 445 finished with values: [1157080.0, 14.336868816666668] and parameters: {'a': 74, 'b': 405, 'd': 194}.\n"
     ]
    },
    {
     "name": "stdout",
     "output_type": "stream",
     "text": [
      "ClearML Task: Offline session stored in /Users/karl/.clearml/cache/offline/offline-63ee68ef825b4669a7646785b9eafe88.zip\n",
      "ClearML Task: created new task id=offline-85e31794ce864908b39dd03a45afaebb\n",
      "ClearML running in offline mode, session stored in /Users/karl/.clearml/cache/offline/offline-85e31794ce864908b39dd03a45afaebb\n",
      "ClearML Monitor: GPU monitoring failed getting GPU reading, switching off GPU monitoring\n"
     ]
    },
    {
     "name": "stderr",
     "output_type": "stream",
     "text": [
      "[I 2025-01-13 18:55:44,143] Trial 446 finished with values: [1164310.0, 17.0482177] and parameters: {'a': 90, 'b': 180, 'd': 115}.\n"
     ]
    },
    {
     "name": "stdout",
     "output_type": "stream",
     "text": [
      "ClearML Task: Offline session stored in /Users/karl/.clearml/cache/offline/offline-85e31794ce864908b39dd03a45afaebb.zip\n",
      "ClearML Task: created new task id=offline-0c9ed27aec3f4fd395b58b24eb3f844e\n",
      "ClearML running in offline mode, session stored in /Users/karl/.clearml/cache/offline/offline-0c9ed27aec3f4fd395b58b24eb3f844e\n",
      "ClearML Monitor: GPU monitoring failed getting GPU reading, switching off GPU monitoring\n"
     ]
    },
    {
     "name": "stderr",
     "output_type": "stream",
     "text": [
      "[I 2025-01-13 18:56:21,335] Trial 447 finished with values: [1156480.0, 13.502461199999999] and parameters: {'a': 66, 'b': 387, 'd': 240}.\n"
     ]
    },
    {
     "name": "stdout",
     "output_type": "stream",
     "text": [
      "ClearML Task: Offline session stored in /Users/karl/.clearml/cache/offline/offline-0c9ed27aec3f4fd395b58b24eb3f844e.zip\n",
      "ClearML Task: created new task id=offline-88bc3d1946184e49858c92566387183e\n",
      "ClearML running in offline mode, session stored in /Users/karl/.clearml/cache/offline/offline-88bc3d1946184e49858c92566387183e\n",
      "ClearML Monitor: GPU monitoring failed getting GPU reading, switching off GPU monitoring\n"
     ]
    },
    {
     "name": "stderr",
     "output_type": "stream",
     "text": [
      "[I 2025-01-13 18:56:53,276] Trial 448 finished with values: [1163955.0, 7.3831115333333335] and parameters: {'a': 23, 'b': 440, 'd': 286}.\n"
     ]
    },
    {
     "name": "stdout",
     "output_type": "stream",
     "text": [
      "ClearML Task: Offline session stored in /Users/karl/.clearml/cache/offline/offline-88bc3d1946184e49858c92566387183e.zip\n",
      "ClearML Task: created new task id=offline-4b1c4375680f492c8ee755ae09d270fb\n",
      "ClearML running in offline mode, session stored in /Users/karl/.clearml/cache/offline/offline-4b1c4375680f492c8ee755ae09d270fb\n",
      "ClearML Monitor: GPU monitoring failed getting GPU reading, switching off GPU monitoring\n"
     ]
    },
    {
     "name": "stderr",
     "output_type": "stream",
     "text": [
      "[I 2025-01-13 18:57:25,480] Trial 449 finished with values: [1129860.0, 4.764825266666667] and parameters: {'a': 2, 'b': 386, 'd': 196}.\n"
     ]
    },
    {
     "name": "stdout",
     "output_type": "stream",
     "text": [
      "ClearML Task: Offline session stored in /Users/karl/.clearml/cache/offline/offline-4b1c4375680f492c8ee755ae09d270fb.zip\n",
      "ClearML Task: created new task id=offline-075b89f96a9c40c6a69e8081dbd4eb0c\n",
      "ClearML running in offline mode, session stored in /Users/karl/.clearml/cache/offline/offline-075b89f96a9c40c6a69e8081dbd4eb0c\n",
      "ClearML Monitor: GPU monitoring failed getting GPU reading, switching off GPU monitoring\n"
     ]
    },
    {
     "name": "stderr",
     "output_type": "stream",
     "text": [
      "[I 2025-01-13 18:58:00,492] Trial 450 finished with values: [1163830.0, 16.63701005] and parameters: {'a': 236, 'b': 305, 'd': 281}.\n"
     ]
    },
    {
     "name": "stdout",
     "output_type": "stream",
     "text": [
      "ClearML Task: Offline session stored in /Users/karl/.clearml/cache/offline/offline-075b89f96a9c40c6a69e8081dbd4eb0c.zip\n",
      "ClearML Task: created new task id=offline-0263b3c74a524b52a1d9f17af2a4001e\n",
      "ClearML running in offline mode, session stored in /Users/karl/.clearml/cache/offline/offline-0263b3c74a524b52a1d9f17af2a4001e\n",
      "ClearML Monitor: GPU monitoring failed getting GPU reading, switching off GPU monitoring\n"
     ]
    },
    {
     "name": "stderr",
     "output_type": "stream",
     "text": [
      "[I 2025-01-13 18:58:35,155] Trial 451 finished with values: [1168255.0, 16.775011966666668] and parameters: {'a': 223, 'b': 499, 'd': 33}.\n"
     ]
    },
    {
     "name": "stdout",
     "output_type": "stream",
     "text": [
      "ClearML Task: Offline session stored in /Users/karl/.clearml/cache/offline/offline-0263b3c74a524b52a1d9f17af2a4001e.zip\n",
      "ClearML Task: created new task id=offline-77ffd46729174bc98d565a38c326fa41\n",
      "ClearML running in offline mode, session stored in /Users/karl/.clearml/cache/offline/offline-77ffd46729174bc98d565a38c326fa41\n",
      "ClearML Monitor: GPU monitoring failed getting GPU reading, switching off GPU monitoring\n"
     ]
    },
    {
     "name": "stderr",
     "output_type": "stream",
     "text": [
      "[I 2025-01-13 18:59:10,424] Trial 452 finished with values: [1163000.0, 16.599942533333333] and parameters: {'a': 200, 'b': 433, 'd': 442}.\n"
     ]
    },
    {
     "name": "stdout",
     "output_type": "stream",
     "text": [
      "ClearML Task: Offline session stored in /Users/karl/.clearml/cache/offline/offline-77ffd46729174bc98d565a38c326fa41.zip\n",
      "ClearML Task: created new task id=offline-63b5bbb9cd2943418b47c1d4a5d5e177\n",
      "ClearML running in offline mode, session stored in /Users/karl/.clearml/cache/offline/offline-63b5bbb9cd2943418b47c1d4a5d5e177\n",
      "ClearML Monitor: GPU monitoring failed getting GPU reading, switching off GPU monitoring\n"
     ]
    },
    {
     "name": "stderr",
     "output_type": "stream",
     "text": [
      "[I 2025-01-13 18:59:45,564] Trial 453 finished with values: [1169405.0, 15.601313133333333] and parameters: {'a': 485, 'b': 159, 'd': 294}.\n"
     ]
    },
    {
     "name": "stdout",
     "output_type": "stream",
     "text": [
      "ClearML Task: Offline session stored in /Users/karl/.clearml/cache/offline/offline-63b5bbb9cd2943418b47c1d4a5d5e177.zip\n",
      "ClearML Task: created new task id=offline-e90acc17258e4f98b0618c112e824f0e\n",
      "ClearML running in offline mode, session stored in /Users/karl/.clearml/cache/offline/offline-e90acc17258e4f98b0618c112e824f0e\n",
      "ClearML Monitor: GPU monitoring failed getting GPU reading, switching off GPU monitoring\n"
     ]
    },
    {
     "name": "stderr",
     "output_type": "stream",
     "text": [
      "[I 2025-01-13 19:00:21,077] Trial 454 finished with values: [1171680.0, 15.3348405] and parameters: {'a': 300, 'b': 132, 'd': 341}.\n"
     ]
    },
    {
     "name": "stdout",
     "output_type": "stream",
     "text": [
      "ClearML Task: Offline session stored in /Users/karl/.clearml/cache/offline/offline-e90acc17258e4f98b0618c112e824f0e.zip\n",
      "ClearML Task: created new task id=offline-f1c4798bffda4efaaa42790b49827bc0\n",
      "ClearML running in offline mode, session stored in /Users/karl/.clearml/cache/offline/offline-f1c4798bffda4efaaa42790b49827bc0\n",
      "ClearML Monitor: GPU monitoring failed getting GPU reading, switching off GPU monitoring\n"
     ]
    },
    {
     "name": "stderr",
     "output_type": "stream",
     "text": [
      "[I 2025-01-13 19:00:56,088] Trial 455 finished with values: [1164280.0, 15.81803985] and parameters: {'a': 268, 'b': 209, 'd': 485}.\n"
     ]
    },
    {
     "name": "stdout",
     "output_type": "stream",
     "text": [
      "ClearML Task: Offline session stored in /Users/karl/.clearml/cache/offline/offline-f1c4798bffda4efaaa42790b49827bc0.zip\n",
      "ClearML Task: created new task id=offline-6836b6d7383244579e3056eb1a04bb9a\n",
      "ClearML running in offline mode, session stored in /Users/karl/.clearml/cache/offline/offline-6836b6d7383244579e3056eb1a04bb9a\n",
      "ClearML Monitor: GPU monitoring failed getting GPU reading, switching off GPU monitoring\n"
     ]
    },
    {
     "name": "stderr",
     "output_type": "stream",
     "text": [
      "[I 2025-01-13 19:01:32,228] Trial 456 finished with values: [1163830.0, 16.63701005] and parameters: {'a': 267, 'b': 336, 'd': 95}.\n"
     ]
    },
    {
     "name": "stdout",
     "output_type": "stream",
     "text": [
      "ClearML Task: Offline session stored in /Users/karl/.clearml/cache/offline/offline-6836b6d7383244579e3056eb1a04bb9a.zip\n",
      "ClearML Task: created new task id=offline-8b7d276bd59f406aa9550c9afc90e3b1\n",
      "ClearML running in offline mode, session stored in /Users/karl/.clearml/cache/offline/offline-8b7d276bd59f406aa9550c9afc90e3b1\n",
      "ClearML Monitor: GPU monitoring failed getting GPU reading, switching off GPU monitoring\n"
     ]
    },
    {
     "name": "stderr",
     "output_type": "stream",
     "text": [
      "[I 2025-01-13 19:02:12,436] Trial 457 finished with values: [1159710.0, 16.87815133333333] and parameters: {'a': 112, 'b': 327, 'd': 180}.\n"
     ]
    },
    {
     "name": "stdout",
     "output_type": "stream",
     "text": [
      "ClearML Task: Offline session stored in /Users/karl/.clearml/cache/offline/offline-8b7d276bd59f406aa9550c9afc90e3b1.zip\n",
      "ClearML Task: created new task id=offline-d1c0f7d5086a46ebbdf408cf03a20e1d\n",
      "ClearML running in offline mode, session stored in /Users/karl/.clearml/cache/offline/offline-d1c0f7d5086a46ebbdf408cf03a20e1d\n",
      "ClearML Monitor: GPU monitoring failed getting GPU reading, switching off GPU monitoring\n"
     ]
    },
    {
     "name": "stderr",
     "output_type": "stream",
     "text": [
      "[I 2025-01-13 19:02:50,784] Trial 458 finished with values: [1178365.0, 16.7405672] and parameters: {'a': 428, 'b': 49, 'd': 465}.\n"
     ]
    },
    {
     "name": "stdout",
     "output_type": "stream",
     "text": [
      "ClearML Task: Offline session stored in /Users/karl/.clearml/cache/offline/offline-d1c0f7d5086a46ebbdf408cf03a20e1d.zip\n",
      "ClearML Task: created new task id=offline-37bf024b14a4418dbd1b5bb98bad217b\n",
      "ClearML running in offline mode, session stored in /Users/karl/.clearml/cache/offline/offline-37bf024b14a4418dbd1b5bb98bad217b\n",
      "ClearML Monitor: GPU monitoring failed getting GPU reading, switching off GPU monitoring\n"
     ]
    },
    {
     "name": "stderr",
     "output_type": "stream",
     "text": [
      "[I 2025-01-13 19:03:29,894] Trial 459 finished with values: [1160825.0, 16.29433745] and parameters: {'a': 58, 'b': 99, 'd': 309}.\n"
     ]
    },
    {
     "name": "stdout",
     "output_type": "stream",
     "text": [
      "ClearML Task: Offline session stored in /Users/karl/.clearml/cache/offline/offline-37bf024b14a4418dbd1b5bb98bad217b.zip\n",
      "ClearML Task: created new task id=offline-39bdc89524234afa82824ed5284891be\n",
      "ClearML running in offline mode, session stored in /Users/karl/.clearml/cache/offline/offline-39bdc89524234afa82824ed5284891be\n",
      "ClearML Monitor: GPU monitoring failed getting GPU reading, switching off GPU monitoring\n"
     ]
    },
    {
     "name": "stderr",
     "output_type": "stream",
     "text": [
      "[I 2025-01-13 19:04:08,515] Trial 460 finished with values: [1169405.0, 15.601313133333333] and parameters: {'a': 438, 'b': 112, 'd': 215}.\n"
     ]
    },
    {
     "name": "stdout",
     "output_type": "stream",
     "text": [
      "ClearML Task: Offline session stored in /Users/karl/.clearml/cache/offline/offline-39bdc89524234afa82824ed5284891be.zip\n",
      "ClearML Task: created new task id=offline-3d5cf04a991746f0909f1683475f19e2\n",
      "ClearML running in offline mode, session stored in /Users/karl/.clearml/cache/offline/offline-3d5cf04a991746f0909f1683475f19e2\n",
      "ClearML Monitor: GPU monitoring failed getting GPU reading, switching off GPU monitoring\n"
     ]
    },
    {
     "name": "stderr",
     "output_type": "stream",
     "text": [
      "[I 2025-01-13 19:04:47,318] Trial 461 finished with values: [1156045.0, 16.503478666666666] and parameters: {'a': 290, 'b': 270, 'd': 16}.\n"
     ]
    },
    {
     "name": "stdout",
     "output_type": "stream",
     "text": [
      "ClearML Task: Offline session stored in /Users/karl/.clearml/cache/offline/offline-3d5cf04a991746f0909f1683475f19e2.zip\n",
      "ClearML Task: created new task id=offline-a4d20d211ab04f6781522b433e07069a\n",
      "ClearML running in offline mode, session stored in /Users/karl/.clearml/cache/offline/offline-a4d20d211ab04f6781522b433e07069a\n",
      "ClearML Monitor: GPU monitoring failed getting GPU reading, switching off GPU monitoring\n"
     ]
    },
    {
     "name": "stderr",
     "output_type": "stream",
     "text": [
      "[I 2025-01-13 19:05:25,000] Trial 462 finished with values: [1156205.0, 14.627301450000001] and parameters: {'a': 57, 'b': 306, 'd': 204}.\n"
     ]
    },
    {
     "name": "stdout",
     "output_type": "stream",
     "text": [
      "ClearML Task: Offline session stored in /Users/karl/.clearml/cache/offline/offline-a4d20d211ab04f6781522b433e07069a.zip\n",
      "ClearML Task: created new task id=offline-3959d0029f7e466da437e7cddcf0eb21\n",
      "ClearML running in offline mode, session stored in /Users/karl/.clearml/cache/offline/offline-3959d0029f7e466da437e7cddcf0eb21\n",
      "ClearML Monitor: GPU monitoring failed getting GPU reading, switching off GPU monitoring\n"
     ]
    },
    {
     "name": "stderr",
     "output_type": "stream",
     "text": [
      "[I 2025-01-13 19:06:02,032] Trial 463 finished with values: [1155430.0, 15.470533566666667] and parameters: {'a': 79, 'b': 375, 'd': 179}.\n"
     ]
    },
    {
     "name": "stdout",
     "output_type": "stream",
     "text": [
      "ClearML Task: Offline session stored in /Users/karl/.clearml/cache/offline/offline-3959d0029f7e466da437e7cddcf0eb21.zip\n",
      "ClearML Task: created new task id=offline-a4a7234ef98d443188499c52b803ba46\n",
      "ClearML running in offline mode, session stored in /Users/karl/.clearml/cache/offline/offline-a4a7234ef98d443188499c52b803ba46\n",
      "ClearML Monitor: GPU monitoring failed getting GPU reading, switching off GPU monitoring\n"
     ]
    },
    {
     "name": "stderr",
     "output_type": "stream",
     "text": [
      "[I 2025-01-13 19:06:41,220] Trial 464 finished with values: [1161420.0, 16.126166066666666] and parameters: {'a': 378, 'b': 490, 'd': 277}.\n"
     ]
    },
    {
     "name": "stdout",
     "output_type": "stream",
     "text": [
      "ClearML Task: Offline session stored in /Users/karl/.clearml/cache/offline/offline-a4a7234ef98d443188499c52b803ba46.zip\n",
      "ClearML Task: created new task id=offline-0c8814e6bf9640c2bb696ccb1bfbdcdf\n",
      "ClearML running in offline mode, session stored in /Users/karl/.clearml/cache/offline/offline-0c8814e6bf9640c2bb696ccb1bfbdcdf\n",
      "ClearML Monitor: GPU monitoring failed getting GPU reading, switching off GPU monitoring\n"
     ]
    },
    {
     "name": "stderr",
     "output_type": "stream",
     "text": [
      "[I 2025-01-13 19:07:19,152] Trial 465 finished with values: [1160255.0, 16.604205783333335] and parameters: {'a': 196, 'b': 397, 'd': 30}.\n"
     ]
    },
    {
     "name": "stdout",
     "output_type": "stream",
     "text": [
      "ClearML Task: Offline session stored in /Users/karl/.clearml/cache/offline/offline-0c8814e6bf9640c2bb696ccb1bfbdcdf.zip\n",
      "ClearML Task: created new task id=offline-d5e15c1979e54cc4b7709c7fe344eb55\n",
      "ClearML running in offline mode, session stored in /Users/karl/.clearml/cache/offline/offline-d5e15c1979e54cc4b7709c7fe344eb55\n",
      "ClearML Monitor: GPU monitoring failed getting GPU reading, switching off GPU monitoring\n"
     ]
    },
    {
     "name": "stderr",
     "output_type": "stream",
     "text": [
      "[I 2025-01-13 19:07:58,343] Trial 466 finished with values: [1169405.0, 15.601313133333333] and parameters: {'a': 497, 'b': 180, 'd': 425}.\n"
     ]
    },
    {
     "name": "stdout",
     "output_type": "stream",
     "text": [
      "ClearML Task: Offline session stored in /Users/karl/.clearml/cache/offline/offline-d5e15c1979e54cc4b7709c7fe344eb55.zip\n",
      "ClearML Task: created new task id=offline-83406d2167ab46da9896ee0124d84b28\n",
      "ClearML running in offline mode, session stored in /Users/karl/.clearml/cache/offline/offline-83406d2167ab46da9896ee0124d84b28\n",
      "ClearML Monitor: GPU monitoring failed getting GPU reading, switching off GPU monitoring\n"
     ]
    },
    {
     "name": "stderr",
     "output_type": "stream",
     "text": [
      "[I 2025-01-13 19:08:33,971] Trial 467 finished with values: [1160490.0, 7.480229766666667] and parameters: {'a': 12, 'b': 318, 'd': 189}.\n"
     ]
    },
    {
     "name": "stdout",
     "output_type": "stream",
     "text": [
      "ClearML Task: Offline session stored in /Users/karl/.clearml/cache/offline/offline-83406d2167ab46da9896ee0124d84b28.zip\n",
      "ClearML Task: created new task id=offline-d2747eb2658640b8b994324606a7d74e\n",
      "ClearML running in offline mode, session stored in /Users/karl/.clearml/cache/offline/offline-d2747eb2658640b8b994324606a7d74e\n",
      "ClearML Monitor: GPU monitoring failed getting GPU reading, switching off GPU monitoring\n"
     ]
    },
    {
     "name": "stderr",
     "output_type": "stream",
     "text": [
      "[I 2025-01-13 19:09:13,395] Trial 468 finished with values: [1185360.0, 20.941567650000003] and parameters: {'a': 290, 'b': 9, 'd': 157}.\n"
     ]
    },
    {
     "name": "stdout",
     "output_type": "stream",
     "text": [
      "ClearML Task: Offline session stored in /Users/karl/.clearml/cache/offline/offline-d2747eb2658640b8b994324606a7d74e.zip\n",
      "ClearML Task: created new task id=offline-8b042e9f39b6452ba16b5f0594454e9c\n",
      "ClearML running in offline mode, session stored in /Users/karl/.clearml/cache/offline/offline-8b042e9f39b6452ba16b5f0594454e9c\n",
      "ClearML Monitor: GPU monitoring failed getting GPU reading, switching off GPU monitoring\n"
     ]
    },
    {
     "name": "stderr",
     "output_type": "stream",
     "text": [
      "[I 2025-01-13 19:09:50,667] Trial 469 finished with values: [1184015.0, 24.561377116666666] and parameters: {'a': 479, 'b': 13, 'd': 366}.\n"
     ]
    },
    {
     "name": "stdout",
     "output_type": "stream",
     "text": [
      "ClearML Task: Offline session stored in /Users/karl/.clearml/cache/offline/offline-8b042e9f39b6452ba16b5f0594454e9c.zip\n",
      "ClearML Task: created new task id=offline-18d9b7695d4840e7be6cb99dd5f9121b\n",
      "ClearML running in offline mode, session stored in /Users/karl/.clearml/cache/offline/offline-18d9b7695d4840e7be6cb99dd5f9121b\n",
      "ClearML Monitor: GPU monitoring failed getting GPU reading, switching off GPU monitoring\n"
     ]
    },
    {
     "name": "stderr",
     "output_type": "stream",
     "text": [
      "[I 2025-01-13 19:10:25,862] Trial 470 finished with values: [1154845.0, 7.247476283333333] and parameters: {'a': 17, 'b': 371, 'd': 215}.\n"
     ]
    },
    {
     "name": "stdout",
     "output_type": "stream",
     "text": [
      "ClearML Task: Offline session stored in /Users/karl/.clearml/cache/offline/offline-18d9b7695d4840e7be6cb99dd5f9121b.zip\n",
      "ClearML Task: created new task id=offline-115f52cb4c5f43668ccceacf3bbd00f6\n",
      "ClearML running in offline mode, session stored in /Users/karl/.clearml/cache/offline/offline-115f52cb4c5f43668ccceacf3bbd00f6\n",
      "ClearML Monitor: GPU monitoring failed getting GPU reading, switching off GPU monitoring\n"
     ]
    },
    {
     "name": "stderr",
     "output_type": "stream",
     "text": [
      "[I 2025-01-13 19:11:00,296] Trial 471 finished with values: [1137525.0, 5.986853683333334] and parameters: {'a': 4, 'b': 303, 'd': 190}.\n"
     ]
    },
    {
     "name": "stdout",
     "output_type": "stream",
     "text": [
      "ClearML Task: Offline session stored in /Users/karl/.clearml/cache/offline/offline-115f52cb4c5f43668ccceacf3bbd00f6.zip\n",
      "ClearML Task: created new task id=offline-48c6ae2230ae40ceb73b3ac4d81966bb\n",
      "ClearML running in offline mode, session stored in /Users/karl/.clearml/cache/offline/offline-48c6ae2230ae40ceb73b3ac4d81966bb\n",
      "ClearML Monitor: GPU monitoring failed getting GPU reading, switching off GPU monitoring\n"
     ]
    },
    {
     "name": "stderr",
     "output_type": "stream",
     "text": [
      "[I 2025-01-13 19:11:40,690] Trial 472 finished with values: [1157590.0, 16.126528066666665] and parameters: {'a': 20, 'b': 93, 'd': 30}.\n"
     ]
    },
    {
     "name": "stdout",
     "output_type": "stream",
     "text": [
      "ClearML Task: Offline session stored in /Users/karl/.clearml/cache/offline/offline-48c6ae2230ae40ceb73b3ac4d81966bb.zip\n",
      "ClearML Task: created new task id=offline-570e6dc2746249a3a566f3632e1e3d73\n",
      "ClearML running in offline mode, session stored in /Users/karl/.clearml/cache/offline/offline-570e6dc2746249a3a566f3632e1e3d73\n",
      "ClearML Monitor: GPU monitoring failed getting GPU reading, switching off GPU monitoring\n"
     ]
    },
    {
     "name": "stderr",
     "output_type": "stream",
     "text": [
      "[I 2025-01-13 19:12:17,476] Trial 473 finished with values: [1127620.0, 5.061774833333333] and parameters: {'a': 3, 'b': 394, 'd': 189}.\n"
     ]
    },
    {
     "name": "stdout",
     "output_type": "stream",
     "text": [
      "ClearML Task: Offline session stored in /Users/karl/.clearml/cache/offline/offline-570e6dc2746249a3a566f3632e1e3d73.zip\n",
      "ClearML Task: created new task id=offline-ca04364cf549497f93c6c6c41c982bfe\n",
      "ClearML running in offline mode, session stored in /Users/karl/.clearml/cache/offline/offline-ca04364cf549497f93c6c6c41c982bfe\n",
      "ClearML Monitor: GPU monitoring failed getting GPU reading, switching off GPU monitoring\n"
     ]
    },
    {
     "name": "stderr",
     "output_type": "stream",
     "text": [
      "[I 2025-01-13 19:12:56,856] Trial 474 finished with values: [1171680.0, 15.3348405] and parameters: {'a': 229, 'b': 64, 'd': 247}.\n"
     ]
    },
    {
     "name": "stdout",
     "output_type": "stream",
     "text": [
      "ClearML Task: Offline session stored in /Users/karl/.clearml/cache/offline/offline-ca04364cf549497f93c6c6c41c982bfe.zip\n",
      "ClearML Task: created new task id=offline-a779b7c8f4fe420b96566202b5def1b7\n",
      "ClearML running in offline mode, session stored in /Users/karl/.clearml/cache/offline/offline-a779b7c8f4fe420b96566202b5def1b7\n",
      "ClearML Monitor: GPU monitoring failed getting GPU reading, switching off GPU monitoring\n"
     ]
    },
    {
     "name": "stderr",
     "output_type": "stream",
     "text": [
      "[I 2025-01-13 19:13:35,329] Trial 475 finished with values: [1154235.0, 15.293660216666666] and parameters: {'a': 86, 'b': 387, 'd': 430}.\n"
     ]
    },
    {
     "name": "stdout",
     "output_type": "stream",
     "text": [
      "ClearML Task: Offline session stored in /Users/karl/.clearml/cache/offline/offline-a779b7c8f4fe420b96566202b5def1b7.zip\n",
      "ClearML Task: created new task id=offline-d687559e6f4c40979d1f32a5e2875460\n",
      "ClearML running in offline mode, session stored in /Users/karl/.clearml/cache/offline/offline-d687559e6f4c40979d1f32a5e2875460\n",
      "ClearML Monitor: GPU monitoring failed getting GPU reading, switching off GPU monitoring\n"
     ]
    },
    {
     "name": "stderr",
     "output_type": "stream",
     "text": [
      "[I 2025-01-13 19:14:11,327] Trial 476 finished with values: [1146595.0, 6.404463166666667] and parameters: {'a': 7, 'b': 394, 'd': 184}.\n"
     ]
    },
    {
     "name": "stdout",
     "output_type": "stream",
     "text": [
      "ClearML Task: Offline session stored in /Users/karl/.clearml/cache/offline/offline-d687559e6f4c40979d1f32a5e2875460.zip\n",
      "ClearML Task: created new task id=offline-26a090a65e9940faa8e25919aedc958c\n",
      "ClearML running in offline mode, session stored in /Users/karl/.clearml/cache/offline/offline-26a090a65e9940faa8e25919aedc958c\n",
      "ClearML Monitor: GPU monitoring failed getting GPU reading, switching off GPU monitoring\n"
     ]
    },
    {
     "name": "stderr",
     "output_type": "stream",
     "text": [
      "[I 2025-01-13 19:14:46,612] Trial 477 finished with values: [1163085.0, 10.900766283333333] and parameters: {'a': 22, 'b': 187, 'd': 476}.\n"
     ]
    },
    {
     "name": "stdout",
     "output_type": "stream",
     "text": [
      "ClearML Task: Offline session stored in /Users/karl/.clearml/cache/offline/offline-26a090a65e9940faa8e25919aedc958c.zip\n",
      "ClearML Task: created new task id=offline-2141a1db83664432b49b60e022f2ccd4\n",
      "ClearML running in offline mode, session stored in /Users/karl/.clearml/cache/offline/offline-2141a1db83664432b49b60e022f2ccd4\n",
      "ClearML Monitor: GPU monitoring failed getting GPU reading, switching off GPU monitoring\n"
     ]
    },
    {
     "name": "stderr",
     "output_type": "stream",
     "text": [
      "[I 2025-01-13 19:15:23,282] Trial 478 finished with values: [1148035.0, 6.410036383333334] and parameters: {'a': 9, 'b': 411, 'd': 218}.\n"
     ]
    },
    {
     "name": "stdout",
     "output_type": "stream",
     "text": [
      "ClearML Task: Offline session stored in /Users/karl/.clearml/cache/offline/offline-2141a1db83664432b49b60e022f2ccd4.zip\n",
      "ClearML Task: created new task id=offline-9f923785303440eb808d1bc42d4edb52\n",
      "ClearML running in offline mode, session stored in /Users/karl/.clearml/cache/offline/offline-9f923785303440eb808d1bc42d4edb52\n",
      "ClearML Monitor: GPU monitoring failed getting GPU reading, switching off GPU monitoring\n"
     ]
    },
    {
     "name": "stderr",
     "output_type": "stream",
     "text": [
      "[I 2025-01-13 19:16:01,837] Trial 479 finished with values: [1165450.0, 16.770283466666665] and parameters: {'a': 401, 'b': 390, 'd': 19}.\n"
     ]
    },
    {
     "name": "stdout",
     "output_type": "stream",
     "text": [
      "ClearML Task: Offline session stored in /Users/karl/.clearml/cache/offline/offline-9f923785303440eb808d1bc42d4edb52.zip\n",
      "ClearML Task: created new task id=offline-9b9c805454ea4a7b9dd897702fd1bf33\n",
      "ClearML running in offline mode, session stored in /Users/karl/.clearml/cache/offline/offline-9b9c805454ea4a7b9dd897702fd1bf33\n",
      "ClearML Monitor: GPU monitoring failed getting GPU reading, switching off GPU monitoring\n"
     ]
    },
    {
     "name": "stderr",
     "output_type": "stream",
     "text": [
      "[I 2025-01-13 19:16:40,859] Trial 480 finished with values: [1169405.0, 15.601313133333333] and parameters: {'a': 453, 'b': 105, 'd': 108}.\n"
     ]
    },
    {
     "name": "stdout",
     "output_type": "stream",
     "text": [
      "ClearML Task: Offline session stored in /Users/karl/.clearml/cache/offline/offline-9b9c805454ea4a7b9dd897702fd1bf33.zip\n",
      "ClearML Task: created new task id=offline-cf09ec8039604c83a1a8865b76dafb67\n",
      "ClearML running in offline mode, session stored in /Users/karl/.clearml/cache/offline/offline-cf09ec8039604c83a1a8865b76dafb67\n",
      "ClearML Monitor: GPU monitoring failed getting GPU reading, switching off GPU monitoring\n"
     ]
    },
    {
     "name": "stderr",
     "output_type": "stream",
     "text": [
      "[I 2025-01-13 19:17:16,424] Trial 481 finished with values: [1133145.0, 4.903082800000001] and parameters: {'a': 1, 'b': 335, 'd': 221}.\n"
     ]
    },
    {
     "name": "stdout",
     "output_type": "stream",
     "text": [
      "ClearML Task: Offline session stored in /Users/karl/.clearml/cache/offline/offline-cf09ec8039604c83a1a8865b76dafb67.zip\n",
      "ClearML Task: created new task id=offline-f3266c5ec39f4cc3a1585fd7e21328c3\n",
      "ClearML running in offline mode, session stored in /Users/karl/.clearml/cache/offline/offline-f3266c5ec39f4cc3a1585fd7e21328c3\n",
      "ClearML Monitor: GPU monitoring failed getting GPU reading, switching off GPU monitoring\n"
     ]
    },
    {
     "name": "stderr",
     "output_type": "stream",
     "text": [
      "[I 2025-01-13 19:17:55,412] Trial 482 finished with values: [1185680.0, 16.880452266666666] and parameters: {'a': 253, 'b': 86, 'd': 450}.\n"
     ]
    },
    {
     "name": "stdout",
     "output_type": "stream",
     "text": [
      "ClearML Task: Offline session stored in /Users/karl/.clearml/cache/offline/offline-f3266c5ec39f4cc3a1585fd7e21328c3.zip\n",
      "ClearML Task: created new task id=offline-cdb2fc208fe647e1921d8601a0656ae5\n",
      "ClearML running in offline mode, session stored in /Users/karl/.clearml/cache/offline/offline-cdb2fc208fe647e1921d8601a0656ae5\n",
      "ClearML Monitor: GPU monitoring failed getting GPU reading, switching off GPU monitoring\n"
     ]
    },
    {
     "name": "stderr",
     "output_type": "stream",
     "text": [
      "[I 2025-01-13 19:18:32,433] Trial 483 finished with values: [1171400.0, 15.382510766666666] and parameters: {'a': 306, 'b': 162, 'd': 60}.\n"
     ]
    },
    {
     "name": "stdout",
     "output_type": "stream",
     "text": [
      "ClearML Task: Offline session stored in /Users/karl/.clearml/cache/offline/offline-cdb2fc208fe647e1921d8601a0656ae5.zip\n",
      "ClearML Task: created new task id=offline-544dd2ae353d4475897201625fdc5998\n",
      "ClearML running in offline mode, session stored in /Users/karl/.clearml/cache/offline/offline-544dd2ae353d4475897201625fdc5998\n",
      "ClearML Monitor: GPU monitoring failed getting GPU reading, switching off GPU monitoring\n"
     ]
    },
    {
     "name": "stderr",
     "output_type": "stream",
     "text": [
      "[I 2025-01-13 19:19:11,009] Trial 484 finished with values: [1168775.0, 15.378610433333334] and parameters: {'a': 342, 'b': 408, 'd': 454}.\n"
     ]
    },
    {
     "name": "stdout",
     "output_type": "stream",
     "text": [
      "ClearML Task: Offline session stored in /Users/karl/.clearml/cache/offline/offline-544dd2ae353d4475897201625fdc5998.zip\n",
      "ClearML Task: created new task id=offline-c3e270fee0074baaacd0b4d518882577\n",
      "ClearML running in offline mode, session stored in /Users/karl/.clearml/cache/offline/offline-c3e270fee0074baaacd0b4d518882577\n",
      "ClearML Monitor: GPU monitoring failed getting GPU reading, switching off GPU monitoring\n"
     ]
    },
    {
     "name": "stderr",
     "output_type": "stream",
     "text": [
      "[I 2025-01-13 19:19:47,482] Trial 485 finished with values: [1165730.0, 14.879701116666666] and parameters: {'a': 363, 'b': 268, 'd': 72}.\n"
     ]
    },
    {
     "name": "stdout",
     "output_type": "stream",
     "text": [
      "ClearML Task: Offline session stored in /Users/karl/.clearml/cache/offline/offline-c3e270fee0074baaacd0b4d518882577.zip\n",
      "ClearML Task: created new task id=offline-8ab3481fd23e4148aa42e0356a447d54\n",
      "ClearML running in offline mode, session stored in /Users/karl/.clearml/cache/offline/offline-8ab3481fd23e4148aa42e0356a447d54\n",
      "ClearML Monitor: GPU monitoring failed getting GPU reading, switching off GPU monitoring\n"
     ]
    },
    {
     "name": "stderr",
     "output_type": "stream",
     "text": [
      "[I 2025-01-13 19:20:25,604] Trial 486 finished with values: [1156045.0, 16.503478666666666] and parameters: {'a': 241, 'b': 214, 'd': 226}.\n"
     ]
    },
    {
     "name": "stdout",
     "output_type": "stream",
     "text": [
      "ClearML Task: Offline session stored in /Users/karl/.clearml/cache/offline/offline-8ab3481fd23e4148aa42e0356a447d54.zip\n",
      "ClearML Task: created new task id=offline-9163e61e0fc043ec8d295b55e00c74ed\n",
      "ClearML running in offline mode, session stored in /Users/karl/.clearml/cache/offline/offline-9163e61e0fc043ec8d295b55e00c74ed\n",
      "ClearML Monitor: GPU monitoring failed getting GPU reading, switching off GPU monitoring\n"
     ]
    },
    {
     "name": "stderr",
     "output_type": "stream",
     "text": [
      "[I 2025-01-13 19:21:01,864] Trial 487 finished with values: [1156045.0, 16.503478666666666] and parameters: {'a': 405, 'b': 350, 'd': 268}.\n"
     ]
    },
    {
     "name": "stdout",
     "output_type": "stream",
     "text": [
      "ClearML Task: Offline session stored in /Users/karl/.clearml/cache/offline/offline-9163e61e0fc043ec8d295b55e00c74ed.zip\n",
      "ClearML Task: created new task id=offline-336fda6737e64ef8bad1482600de5b41\n",
      "ClearML running in offline mode, session stored in /Users/karl/.clearml/cache/offline/offline-336fda6737e64ef8bad1482600de5b41\n",
      "ClearML Monitor: GPU monitoring failed getting GPU reading, switching off GPU monitoring\n"
     ]
    },
    {
     "name": "stderr",
     "output_type": "stream",
     "text": [
      "[I 2025-01-13 19:21:38,850] Trial 488 finished with values: [1171440.0, 17.6933001] and parameters: {'a': 27, 'b': 17, 'd': 134}.\n"
     ]
    },
    {
     "name": "stdout",
     "output_type": "stream",
     "text": [
      "ClearML Task: Offline session stored in /Users/karl/.clearml/cache/offline/offline-336fda6737e64ef8bad1482600de5b41.zip\n",
      "ClearML Task: created new task id=offline-7b6bcae316ec47e7a50a6f4d5ca0fbdb\n",
      "ClearML running in offline mode, session stored in /Users/karl/.clearml/cache/offline/offline-7b6bcae316ec47e7a50a6f4d5ca0fbdb\n",
      "ClearML Monitor: GPU monitoring failed getting GPU reading, switching off GPU monitoring\n"
     ]
    },
    {
     "name": "stderr",
     "output_type": "stream",
     "text": [
      "[I 2025-01-13 19:22:13,396] Trial 489 finished with values: [1140675.0, 6.256750283333333] and parameters: {'a': 7, 'b': 348, 'd': 212}.\n"
     ]
    },
    {
     "name": "stdout",
     "output_type": "stream",
     "text": [
      "ClearML Task: Offline session stored in /Users/karl/.clearml/cache/offline/offline-7b6bcae316ec47e7a50a6f4d5ca0fbdb.zip\n",
      "ClearML Task: created new task id=offline-9611b23ab36740e5a3392fb7fa0578f2\n",
      "ClearML running in offline mode, session stored in /Users/karl/.clearml/cache/offline/offline-9611b23ab36740e5a3392fb7fa0578f2\n",
      "ClearML Monitor: GPU monitoring failed getting GPU reading, switching off GPU monitoring\n"
     ]
    },
    {
     "name": "stderr",
     "output_type": "stream",
     "text": [
      "[I 2025-01-13 19:22:48,319] Trial 490 finished with values: [1171400.0, 15.382510766666666] and parameters: {'a': 460, 'b': 308, 'd': 142}.\n"
     ]
    },
    {
     "name": "stdout",
     "output_type": "stream",
     "text": [
      "ClearML Task: Offline session stored in /Users/karl/.clearml/cache/offline/offline-9611b23ab36740e5a3392fb7fa0578f2.zip\n",
      "ClearML Task: created new task id=offline-7de8ebdd911e444483484861419e04ce\n",
      "ClearML running in offline mode, session stored in /Users/karl/.clearml/cache/offline/offline-7de8ebdd911e444483484861419e04ce\n",
      "ClearML Monitor: GPU monitoring failed getting GPU reading, switching off GPU monitoring\n"
     ]
    },
    {
     "name": "stderr",
     "output_type": "stream",
     "text": [
      "[I 2025-01-13 19:23:20,368] Trial 491 finished with values: [1161195.0, 8.219660983333334] and parameters: {'a': 27, 'b': 393, 'd': 486}.\n"
     ]
    },
    {
     "name": "stdout",
     "output_type": "stream",
     "text": [
      "ClearML Task: Offline session stored in /Users/karl/.clearml/cache/offline/offline-7de8ebdd911e444483484861419e04ce.zip\n",
      "ClearML Task: created new task id=offline-7d57f727b95148d780663bf4909cd493\n",
      "ClearML running in offline mode, session stored in /Users/karl/.clearml/cache/offline/offline-7d57f727b95148d780663bf4909cd493\n",
      "ClearML Monitor: GPU monitoring failed getting GPU reading, switching off GPU monitoring\n"
     ]
    },
    {
     "name": "stderr",
     "output_type": "stream",
     "text": [
      "[I 2025-01-13 19:23:53,460] Trial 492 finished with values: [1151630.0, 13.997328083333334] and parameters: {'a': 77, 'b': 432, 'd': 232}.\n"
     ]
    },
    {
     "name": "stdout",
     "output_type": "stream",
     "text": [
      "ClearML Task: Offline session stored in /Users/karl/.clearml/cache/offline/offline-7d57f727b95148d780663bf4909cd493.zip\n",
      "ClearML Task: created new task id=offline-52a56eb4f1674d90b2d26d548b6a58d6\n",
      "ClearML running in offline mode, session stored in /Users/karl/.clearml/cache/offline/offline-52a56eb4f1674d90b2d26d548b6a58d6\n",
      "ClearML Monitor: GPU monitoring failed getting GPU reading, switching off GPU monitoring\n"
     ]
    },
    {
     "name": "stderr",
     "output_type": "stream",
     "text": [
      "[I 2025-01-13 19:24:29,872] Trial 493 finished with values: [1171680.0, 15.3348405] and parameters: {'a': 347, 'b': 144, 'd': 380}.\n"
     ]
    },
    {
     "name": "stdout",
     "output_type": "stream",
     "text": [
      "ClearML Task: Offline session stored in /Users/karl/.clearml/cache/offline/offline-52a56eb4f1674d90b2d26d548b6a58d6.zip\n",
      "ClearML Task: created new task id=offline-e4280bb5297e4900954f2d4431c44db1\n",
      "ClearML running in offline mode, session stored in /Users/karl/.clearml/cache/offline/offline-e4280bb5297e4900954f2d4431c44db1\n",
      "ClearML Monitor: GPU monitoring failed getting GPU reading, switching off GPU monitoring\n"
     ]
    },
    {
     "name": "stderr",
     "output_type": "stream",
     "text": [
      "[I 2025-01-13 19:25:06,635] Trial 494 finished with values: [1169405.0, 15.601313133333333] and parameters: {'a': 359, 'b': 29, 'd': 53}.\n"
     ]
    },
    {
     "name": "stdout",
     "output_type": "stream",
     "text": [
      "ClearML Task: Offline session stored in /Users/karl/.clearml/cache/offline/offline-e4280bb5297e4900954f2d4431c44db1.zip\n",
      "ClearML Task: created new task id=offline-5c18b780d9c0493cae612c057239adb7\n",
      "ClearML running in offline mode, session stored in /Users/karl/.clearml/cache/offline/offline-5c18b780d9c0493cae612c057239adb7\n",
      "ClearML Monitor: GPU monitoring failed getting GPU reading, switching off GPU monitoring\n"
     ]
    },
    {
     "name": "stderr",
     "output_type": "stream",
     "text": [
      "[I 2025-01-13 19:25:44,467] Trial 495 finished with values: [1175195.0, 40.11056513333333] and parameters: {'a': 299, 'b': 6, 'd': 336}.\n"
     ]
    },
    {
     "name": "stdout",
     "output_type": "stream",
     "text": [
      "ClearML Task: Offline session stored in /Users/karl/.clearml/cache/offline/offline-5c18b780d9c0493cae612c057239adb7.zip\n",
      "ClearML Task: created new task id=offline-83afbb8f90fc4e7599b84d5062eb6e64\n",
      "ClearML running in offline mode, session stored in /Users/karl/.clearml/cache/offline/offline-83afbb8f90fc4e7599b84d5062eb6e64\n",
      "ClearML Monitor: GPU monitoring failed getting GPU reading, switching off GPU monitoring\n"
     ]
    },
    {
     "name": "stderr",
     "output_type": "stream",
     "text": [
      "[I 2025-01-13 19:26:21,240] Trial 496 finished with values: [1163725.0, 15.776600216666667] and parameters: {'a': 279, 'b': 497, 'd': 368}.\n"
     ]
    },
    {
     "name": "stdout",
     "output_type": "stream",
     "text": [
      "ClearML Task: Offline session stored in /Users/karl/.clearml/cache/offline/offline-83afbb8f90fc4e7599b84d5062eb6e64.zip\n",
      "ClearML Task: created new task id=offline-5d5f9f4f597b4254b4e48c6d0596400c\n",
      "ClearML running in offline mode, session stored in /Users/karl/.clearml/cache/offline/offline-5d5f9f4f597b4254b4e48c6d0596400c\n",
      "ClearML Monitor: GPU monitoring failed getting GPU reading, switching off GPU monitoring\n"
     ]
    },
    {
     "name": "stderr",
     "output_type": "stream",
     "text": [
      "[I 2025-01-13 19:26:56,976] Trial 497 finished with values: [1171400.0, 15.382510766666666] and parameters: {'a': 377, 'b': 142, 'd': 259}.\n"
     ]
    },
    {
     "name": "stdout",
     "output_type": "stream",
     "text": [
      "ClearML Task: Offline session stored in /Users/karl/.clearml/cache/offline/offline-5d5f9f4f597b4254b4e48c6d0596400c.zip\n",
      "ClearML Task: created new task id=offline-a3a1d6b134ff41e4bcbf51fedb5c1c7b\n",
      "ClearML running in offline mode, session stored in /Users/karl/.clearml/cache/offline/offline-a3a1d6b134ff41e4bcbf51fedb5c1c7b\n",
      "ClearML Monitor: GPU monitoring failed getting GPU reading, switching off GPU monitoring\n"
     ]
    },
    {
     "name": "stderr",
     "output_type": "stream",
     "text": [
      "[I 2025-01-13 19:27:33,722] Trial 498 finished with values: [1153380.0, 16.116629933333332] and parameters: {'a': 100, 'b': 382, 'd': 171}.\n"
     ]
    },
    {
     "name": "stdout",
     "output_type": "stream",
     "text": [
      "ClearML Task: Offline session stored in /Users/karl/.clearml/cache/offline/offline-a3a1d6b134ff41e4bcbf51fedb5c1c7b.zip\n",
      "ClearML Task: created new task id=offline-7a66d2d91e4f431589b5a5dfc7279f65\n",
      "ClearML running in offline mode, session stored in /Users/karl/.clearml/cache/offline/offline-7a66d2d91e4f431589b5a5dfc7279f65\n",
      "ClearML Monitor: GPU monitoring failed getting GPU reading, switching off GPU monitoring\n"
     ]
    },
    {
     "name": "stderr",
     "output_type": "stream",
     "text": [
      "[I 2025-01-13 19:28:08,880] Trial 499 finished with values: [1156610.0, 13.011039816666665] and parameters: {'a': 61, 'b': 356, 'd': 194}.\n"
     ]
    },
    {
     "name": "stdout",
     "output_type": "stream",
     "text": [
      "ClearML Task: Offline session stored in /Users/karl/.clearml/cache/offline/offline-7a66d2d91e4f431589b5a5dfc7279f65.zip\n"
     ]
    }
   ],
   "source": [
    "# TPE-Sampler für Multi-Objective Optimization\n",
    "sampler = optuna.samplers.TPESampler(seed=42, multivariate=True)\n",
    "\n",
    "# Multi-Objective Study erstellen\n",
    "study = optuna.create_study(\n",
    "    directions=[\"minimize\", \"minimize\"],  # Zwei Ziele gleichzeitig minimieren\n",
    "    sampler=sampler\n",
    ")\n",
    "\n",
    "# Optimierung starten\n",
    "study.optimize(objective, n_trials=500, n_jobs=1)\n"
   ]
  },
  {
   "cell_type": "code",
   "execution_count": 2,
   "id": "57da00fe",
   "metadata": {},
   "outputs": [
    {
     "name": "stderr",
     "output_type": "stream",
     "text": [
      "/opt/miniconda3/envs/python312/lib/python3.13/site-packages/optuna/_experimental.py:31: ExperimentalWarning: Argument ``restart_strategy`` is an experimental feature. The interface can change in the future.\n",
      "  warnings.warn(\n",
      "[I 2025-01-13 08:10:03,538] A new study created in memory with name: no-name-60e7f737-9482-4b0d-a364-ec7508189ad2\n"
     ]
    },
    {
     "name": "stdout",
     "output_type": "stream",
     "text": [
      "env: CLEARML_WEB_HOST=https://app.clear.ml/\n",
      "env: CLEARML_API_HOST=https://api.clear.ml\n",
      "env: CLEARML_FILES_HOST=https://files.clear.ml\n",
      "env: CLEARML_API_ACCESS_KEY=32VJUL45L6DJIC82Y2TTHG4LL3W1O9\n",
      "env: CLEARML_API_SECRET_KEY=x6ve_x6yyRO_q1S30jtfJ0TSqpQf1LQI8nS8z82XBEnLszf3YXUGmHy2th4Rn-f3AEM\n",
      "ClearML Task: created new task id=e0d3d772d0ab4a19b60891d9a3a831b6\n",
      "2025-01-13 08:10:07,449 - clearml.Repository Detection - WARNING - Could not read Jupyter Notebook: No module named 'nbconvert'\n",
      "2025-01-13 08:10:07,450 - clearml.Repository Detection - WARNING - Please install nbconvert using \"pip install nbconvert\"\n",
      "2025-01-13 08:10:07,471 - clearml.Task - INFO - Storing jupyter notebook directly as code\n",
      "ClearML results page: https://app.clear.ml/projects/11f927a56f83462e83bbbc285947aa87/experiments/e0d3d772d0ab4a19b60891d9a3a831b6/output/log\n"
     ]
    },
    {
     "name": "stderr",
     "output_type": "stream",
     "text": [
      "[W 2025-01-13 08:10:08,743] Trial 0 failed with parameters: {} because of the following error: ValueError('If the study is being used for multi-objective optimization, CmaEsSampler cannot be used.').\n",
      "Traceback (most recent call last):\n",
      "  File \"/opt/miniconda3/envs/python312/lib/python3.13/site-packages/optuna/study/_optimize.py\", line 197, in _run_trial\n",
      "    value_or_values = func(trial)\n",
      "  File \"/var/folders/fk/_3pbzp8d50n0whfkggr5rydh0000gn/T/ipykernel_33392/3748429278.py\", line 38, in objective\n",
      "    a = trial.suggest_int('a', 1, 500)\n",
      "  File \"/opt/miniconda3/envs/python312/lib/python3.13/site-packages/optuna/_convert_positional_args.py\", line 83, in converter_wrapper\n",
      "    return func(**kwargs)  # type: ignore[call-arg]\n",
      "  File \"/opt/miniconda3/envs/python312/lib/python3.13/site-packages/optuna/trial/_trial.py\", line 324, in suggest_int\n",
      "    suggested_value = int(self._suggest(name, distribution))\n",
      "                          ~~~~~~~~~~~~~^^^^^^^^^^^^^^^^^^^^\n",
      "  File \"/opt/miniconda3/envs/python312/lib/python3.13/site-packages/optuna/trial/_trial.py\", line 627, in _suggest\n",
      "    elif self._is_relative_param(name, distribution):\n",
      "         ~~~~~~~~~~~~~~~~~~~~~~~^^^^^^^^^^^^^^^^^^^^\n",
      "  File \"/opt/miniconda3/envs/python312/lib/python3.13/site-packages/optuna/trial/_trial.py\", line 659, in _is_relative_param\n",
      "    if name not in self.relative_params:\n",
      "                   ^^^^^^^^^^^^^^^^^^^^\n",
      "  File \"/opt/miniconda3/envs/python312/lib/python3.13/site-packages/optuna/trial/_trial.py\", line 71, in relative_params\n",
      "    self._relative_params = self.study.sampler.sample_relative(\n",
      "                            ~~~~~~~~~~~~~~~~~~~~~~~~~~~~~~~~~~^\n",
      "        study, self._cached_frozen_trial, self.relative_search_space\n",
      "        ^^^^^^^^^^^^^^^^^^^^^^^^^^^^^^^^^^^^^^^^^^^^^^^^^^^^^^^^^^^^\n",
      "    )\n",
      "    ^\n",
      "  File \"/opt/miniconda3/envs/python312/lib/python3.13/site-packages/optuna/samplers/_cmaes.py\", line 363, in sample_relative\n",
      "    self._raise_error_if_multi_objective(study)\n",
      "    ~~~~~~~~~~~~~~~~~~~~~~~~~~~~~~~~~~~~^^^^^^^\n",
      "  File \"/opt/miniconda3/envs/python312/lib/python3.13/site-packages/optuna/samplers/_base.py\", line 222, in _raise_error_if_multi_objective\n",
      "    raise ValueError(\n",
      "    ...<2 lines>...\n",
      "    )\n",
      "ValueError: If the study is being used for multi-objective optimization, CmaEsSampler cannot be used.\n",
      "[W 2025-01-13 08:10:08,748] Trial 0 failed with value None.\n"
     ]
    },
    {
     "ename": "ValueError",
     "evalue": "If the study is being used for multi-objective optimization, CmaEsSampler cannot be used.",
     "output_type": "error",
     "traceback": [
      "\u001b[0;31m---------------------------------------------------------------------------\u001b[0m",
      "\u001b[0;31mValueError\u001b[0m                                Traceback (most recent call last)",
      "Cell \u001b[0;32mIn[2], line 17\u001b[0m\n\u001b[1;32m     11\u001b[0m \u001b[38;5;66;03m# Multi-Objective Study erstellen\u001b[39;00m\n\u001b[1;32m     12\u001b[0m study \u001b[38;5;241m=\u001b[39m optuna\u001b[38;5;241m.\u001b[39mcreate_study(\n\u001b[1;32m     13\u001b[0m     directions\u001b[38;5;241m=\u001b[39m[\u001b[38;5;124m\"\u001b[39m\u001b[38;5;124mminimize\u001b[39m\u001b[38;5;124m\"\u001b[39m, \u001b[38;5;124m\"\u001b[39m\u001b[38;5;124mminimize\u001b[39m\u001b[38;5;124m\"\u001b[39m],  \u001b[38;5;66;03m# Zwei Ziele gleichzeitig minimieren\u001b[39;00m\n\u001b[1;32m     14\u001b[0m     sampler\u001b[38;5;241m=\u001b[39msampler\n\u001b[1;32m     15\u001b[0m )\n\u001b[0;32m---> 17\u001b[0m \u001b[43mstudy\u001b[49m\u001b[38;5;241;43m.\u001b[39;49m\u001b[43moptimize\u001b[49m\u001b[43m(\u001b[49m\u001b[43mobjective\u001b[49m\u001b[43m,\u001b[49m\u001b[43m \u001b[49m\u001b[43mn_trials\u001b[49m\u001b[38;5;241;43m=\u001b[39;49m\u001b[38;5;241;43m500\u001b[39;49m\u001b[43m,\u001b[49m\u001b[43m \u001b[49m\u001b[43mn_jobs\u001b[49m\u001b[38;5;241;43m=\u001b[39;49m\u001b[38;5;241;43m1\u001b[39;49m\u001b[43m)\u001b[49m  \u001b[38;5;66;03m# Keine Parallelisierung\u001b[39;00m\n",
      "File \u001b[0;32m/opt/miniconda3/envs/python312/lib/python3.13/site-packages/optuna/study/study.py:475\u001b[0m, in \u001b[0;36mStudy.optimize\u001b[0;34m(self, func, n_trials, timeout, n_jobs, catch, callbacks, gc_after_trial, show_progress_bar)\u001b[0m\n\u001b[1;32m    373\u001b[0m \u001b[38;5;28;01mdef\u001b[39;00m \u001b[38;5;21moptimize\u001b[39m(\n\u001b[1;32m    374\u001b[0m     \u001b[38;5;28mself\u001b[39m,\n\u001b[1;32m    375\u001b[0m     func: ObjectiveFuncType,\n\u001b[0;32m   (...)\u001b[0m\n\u001b[1;32m    382\u001b[0m     show_progress_bar: \u001b[38;5;28mbool\u001b[39m \u001b[38;5;241m=\u001b[39m \u001b[38;5;28;01mFalse\u001b[39;00m,\n\u001b[1;32m    383\u001b[0m ) \u001b[38;5;241m-\u001b[39m\u001b[38;5;241m>\u001b[39m \u001b[38;5;28;01mNone\u001b[39;00m:\n\u001b[1;32m    384\u001b[0m \u001b[38;5;250m    \u001b[39m\u001b[38;5;124;03m\"\"\"Optimize an objective function.\u001b[39;00m\n\u001b[1;32m    385\u001b[0m \n\u001b[1;32m    386\u001b[0m \u001b[38;5;124;03m    Optimization is done by choosing a suitable set of hyperparameter values from a given\u001b[39;00m\n\u001b[0;32m   (...)\u001b[0m\n\u001b[1;32m    473\u001b[0m \u001b[38;5;124;03m            If nested invocation of this method occurs.\u001b[39;00m\n\u001b[1;32m    474\u001b[0m \u001b[38;5;124;03m    \"\"\"\u001b[39;00m\n\u001b[0;32m--> 475\u001b[0m     \u001b[43m_optimize\u001b[49m\u001b[43m(\u001b[49m\n\u001b[1;32m    476\u001b[0m \u001b[43m        \u001b[49m\u001b[43mstudy\u001b[49m\u001b[38;5;241;43m=\u001b[39;49m\u001b[38;5;28;43mself\u001b[39;49m\u001b[43m,\u001b[49m\n\u001b[1;32m    477\u001b[0m \u001b[43m        \u001b[49m\u001b[43mfunc\u001b[49m\u001b[38;5;241;43m=\u001b[39;49m\u001b[43mfunc\u001b[49m\u001b[43m,\u001b[49m\n\u001b[1;32m    478\u001b[0m \u001b[43m        \u001b[49m\u001b[43mn_trials\u001b[49m\u001b[38;5;241;43m=\u001b[39;49m\u001b[43mn_trials\u001b[49m\u001b[43m,\u001b[49m\n\u001b[1;32m    479\u001b[0m \u001b[43m        \u001b[49m\u001b[43mtimeout\u001b[49m\u001b[38;5;241;43m=\u001b[39;49m\u001b[43mtimeout\u001b[49m\u001b[43m,\u001b[49m\n\u001b[1;32m    480\u001b[0m \u001b[43m        \u001b[49m\u001b[43mn_jobs\u001b[49m\u001b[38;5;241;43m=\u001b[39;49m\u001b[43mn_jobs\u001b[49m\u001b[43m,\u001b[49m\n\u001b[1;32m    481\u001b[0m \u001b[43m        \u001b[49m\u001b[43mcatch\u001b[49m\u001b[38;5;241;43m=\u001b[39;49m\u001b[38;5;28;43mtuple\u001b[39;49m\u001b[43m(\u001b[49m\u001b[43mcatch\u001b[49m\u001b[43m)\u001b[49m\u001b[43m \u001b[49m\u001b[38;5;28;43;01mif\u001b[39;49;00m\u001b[43m \u001b[49m\u001b[38;5;28;43misinstance\u001b[39;49m\u001b[43m(\u001b[49m\u001b[43mcatch\u001b[49m\u001b[43m,\u001b[49m\u001b[43m \u001b[49m\u001b[43mIterable\u001b[49m\u001b[43m)\u001b[49m\u001b[43m \u001b[49m\u001b[38;5;28;43;01melse\u001b[39;49;00m\u001b[43m \u001b[49m\u001b[43m(\u001b[49m\u001b[43mcatch\u001b[49m\u001b[43m,\u001b[49m\u001b[43m)\u001b[49m\u001b[43m,\u001b[49m\n\u001b[1;32m    482\u001b[0m \u001b[43m        \u001b[49m\u001b[43mcallbacks\u001b[49m\u001b[38;5;241;43m=\u001b[39;49m\u001b[43mcallbacks\u001b[49m\u001b[43m,\u001b[49m\n\u001b[1;32m    483\u001b[0m \u001b[43m        \u001b[49m\u001b[43mgc_after_trial\u001b[49m\u001b[38;5;241;43m=\u001b[39;49m\u001b[43mgc_after_trial\u001b[49m\u001b[43m,\u001b[49m\n\u001b[1;32m    484\u001b[0m \u001b[43m        \u001b[49m\u001b[43mshow_progress_bar\u001b[49m\u001b[38;5;241;43m=\u001b[39;49m\u001b[43mshow_progress_bar\u001b[49m\u001b[43m,\u001b[49m\n\u001b[1;32m    485\u001b[0m \u001b[43m    \u001b[49m\u001b[43m)\u001b[49m\n",
      "File \u001b[0;32m/opt/miniconda3/envs/python312/lib/python3.13/site-packages/optuna/study/_optimize.py:63\u001b[0m, in \u001b[0;36m_optimize\u001b[0;34m(study, func, n_trials, timeout, n_jobs, catch, callbacks, gc_after_trial, show_progress_bar)\u001b[0m\n\u001b[1;32m     61\u001b[0m \u001b[38;5;28;01mtry\u001b[39;00m:\n\u001b[1;32m     62\u001b[0m     \u001b[38;5;28;01mif\u001b[39;00m n_jobs \u001b[38;5;241m==\u001b[39m \u001b[38;5;241m1\u001b[39m:\n\u001b[0;32m---> 63\u001b[0m         \u001b[43m_optimize_sequential\u001b[49m\u001b[43m(\u001b[49m\n\u001b[1;32m     64\u001b[0m \u001b[43m            \u001b[49m\u001b[43mstudy\u001b[49m\u001b[43m,\u001b[49m\n\u001b[1;32m     65\u001b[0m \u001b[43m            \u001b[49m\u001b[43mfunc\u001b[49m\u001b[43m,\u001b[49m\n\u001b[1;32m     66\u001b[0m \u001b[43m            \u001b[49m\u001b[43mn_trials\u001b[49m\u001b[43m,\u001b[49m\n\u001b[1;32m     67\u001b[0m \u001b[43m            \u001b[49m\u001b[43mtimeout\u001b[49m\u001b[43m,\u001b[49m\n\u001b[1;32m     68\u001b[0m \u001b[43m            \u001b[49m\u001b[43mcatch\u001b[49m\u001b[43m,\u001b[49m\n\u001b[1;32m     69\u001b[0m \u001b[43m            \u001b[49m\u001b[43mcallbacks\u001b[49m\u001b[43m,\u001b[49m\n\u001b[1;32m     70\u001b[0m \u001b[43m            \u001b[49m\u001b[43mgc_after_trial\u001b[49m\u001b[43m,\u001b[49m\n\u001b[1;32m     71\u001b[0m \u001b[43m            \u001b[49m\u001b[43mreseed_sampler_rng\u001b[49m\u001b[38;5;241;43m=\u001b[39;49m\u001b[38;5;28;43;01mFalse\u001b[39;49;00m\u001b[43m,\u001b[49m\n\u001b[1;32m     72\u001b[0m \u001b[43m            \u001b[49m\u001b[43mtime_start\u001b[49m\u001b[38;5;241;43m=\u001b[39;49m\u001b[38;5;28;43;01mNone\u001b[39;49;00m\u001b[43m,\u001b[49m\n\u001b[1;32m     73\u001b[0m \u001b[43m            \u001b[49m\u001b[43mprogress_bar\u001b[49m\u001b[38;5;241;43m=\u001b[39;49m\u001b[43mprogress_bar\u001b[49m\u001b[43m,\u001b[49m\n\u001b[1;32m     74\u001b[0m \u001b[43m        \u001b[49m\u001b[43m)\u001b[49m\n\u001b[1;32m     75\u001b[0m     \u001b[38;5;28;01melse\u001b[39;00m:\n\u001b[1;32m     76\u001b[0m         \u001b[38;5;28;01mif\u001b[39;00m n_jobs \u001b[38;5;241m==\u001b[39m \u001b[38;5;241m-\u001b[39m\u001b[38;5;241m1\u001b[39m:\n",
      "File \u001b[0;32m/opt/miniconda3/envs/python312/lib/python3.13/site-packages/optuna/study/_optimize.py:160\u001b[0m, in \u001b[0;36m_optimize_sequential\u001b[0;34m(study, func, n_trials, timeout, catch, callbacks, gc_after_trial, reseed_sampler_rng, time_start, progress_bar)\u001b[0m\n\u001b[1;32m    157\u001b[0m         \u001b[38;5;28;01mbreak\u001b[39;00m\n\u001b[1;32m    159\u001b[0m \u001b[38;5;28;01mtry\u001b[39;00m:\n\u001b[0;32m--> 160\u001b[0m     frozen_trial \u001b[38;5;241m=\u001b[39m \u001b[43m_run_trial\u001b[49m\u001b[43m(\u001b[49m\u001b[43mstudy\u001b[49m\u001b[43m,\u001b[49m\u001b[43m \u001b[49m\u001b[43mfunc\u001b[49m\u001b[43m,\u001b[49m\u001b[43m \u001b[49m\u001b[43mcatch\u001b[49m\u001b[43m)\u001b[49m\n\u001b[1;32m    161\u001b[0m \u001b[38;5;28;01mfinally\u001b[39;00m:\n\u001b[1;32m    162\u001b[0m     \u001b[38;5;66;03m# The following line mitigates memory problems that can be occurred in some\u001b[39;00m\n\u001b[1;32m    163\u001b[0m     \u001b[38;5;66;03m# environments (e.g., services that use computing containers such as GitHub Actions).\u001b[39;00m\n\u001b[1;32m    164\u001b[0m     \u001b[38;5;66;03m# Please refer to the following PR for further details:\u001b[39;00m\n\u001b[1;32m    165\u001b[0m     \u001b[38;5;66;03m# https://github.com/optuna/optuna/pull/325.\u001b[39;00m\n\u001b[1;32m    166\u001b[0m     \u001b[38;5;28;01mif\u001b[39;00m gc_after_trial:\n",
      "File \u001b[0;32m/opt/miniconda3/envs/python312/lib/python3.13/site-packages/optuna/study/_optimize.py:248\u001b[0m, in \u001b[0;36m_run_trial\u001b[0;34m(study, func, catch)\u001b[0m\n\u001b[1;32m    241\u001b[0m         \u001b[38;5;28;01massert\u001b[39;00m \u001b[38;5;28;01mFalse\u001b[39;00m, \u001b[38;5;124m\"\u001b[39m\u001b[38;5;124mShould not reach.\u001b[39m\u001b[38;5;124m\"\u001b[39m\n\u001b[1;32m    243\u001b[0m \u001b[38;5;28;01mif\u001b[39;00m (\n\u001b[1;32m    244\u001b[0m     frozen_trial\u001b[38;5;241m.\u001b[39mstate \u001b[38;5;241m==\u001b[39m TrialState\u001b[38;5;241m.\u001b[39mFAIL\n\u001b[1;32m    245\u001b[0m     \u001b[38;5;129;01mand\u001b[39;00m func_err \u001b[38;5;129;01mis\u001b[39;00m \u001b[38;5;129;01mnot\u001b[39;00m \u001b[38;5;28;01mNone\u001b[39;00m\n\u001b[1;32m    246\u001b[0m     \u001b[38;5;129;01mand\u001b[39;00m \u001b[38;5;129;01mnot\u001b[39;00m \u001b[38;5;28misinstance\u001b[39m(func_err, catch)\n\u001b[1;32m    247\u001b[0m ):\n\u001b[0;32m--> 248\u001b[0m     \u001b[38;5;28;01mraise\u001b[39;00m func_err\n\u001b[1;32m    249\u001b[0m \u001b[38;5;28;01mreturn\u001b[39;00m frozen_trial\n",
      "File \u001b[0;32m/opt/miniconda3/envs/python312/lib/python3.13/site-packages/optuna/study/_optimize.py:197\u001b[0m, in \u001b[0;36m_run_trial\u001b[0;34m(study, func, catch)\u001b[0m\n\u001b[1;32m    195\u001b[0m \u001b[38;5;28;01mwith\u001b[39;00m get_heartbeat_thread(trial\u001b[38;5;241m.\u001b[39m_trial_id, study\u001b[38;5;241m.\u001b[39m_storage):\n\u001b[1;32m    196\u001b[0m     \u001b[38;5;28;01mtry\u001b[39;00m:\n\u001b[0;32m--> 197\u001b[0m         value_or_values \u001b[38;5;241m=\u001b[39m \u001b[43mfunc\u001b[49m\u001b[43m(\u001b[49m\u001b[43mtrial\u001b[49m\u001b[43m)\u001b[49m\n\u001b[1;32m    198\u001b[0m     \u001b[38;5;28;01mexcept\u001b[39;00m exceptions\u001b[38;5;241m.\u001b[39mTrialPruned \u001b[38;5;28;01mas\u001b[39;00m e:\n\u001b[1;32m    199\u001b[0m         \u001b[38;5;66;03m# TODO(mamu): Handle multi-objective cases.\u001b[39;00m\n\u001b[1;32m    200\u001b[0m         state \u001b[38;5;241m=\u001b[39m TrialState\u001b[38;5;241m.\u001b[39mPRUNED\n",
      "Cell \u001b[0;32mIn[1], line 38\u001b[0m, in \u001b[0;36mobjective\u001b[0;34m(trial)\u001b[0m\n\u001b[1;32m     36\u001b[0m task \u001b[38;5;241m=\u001b[39m Task\u001b[38;5;241m.\u001b[39minit(project_name\u001b[38;5;241m=\u001b[39m\u001b[38;5;124m\"\u001b[39m\u001b[38;5;124mSPP_Transportoptimierung\u001b[39m\u001b[38;5;124m\"\u001b[39m, task_name\u001b[38;5;241m=\u001b[39m\u001b[38;5;124mf\u001b[39m\u001b[38;5;124m\"\u001b[39m\u001b[38;5;124mVariante II run: \u001b[39m\u001b[38;5;132;01m{\u001b[39;00mtrial\u001b[38;5;241m.\u001b[39mnumber\u001b[38;5;241m+\u001b[39m\u001b[38;5;241m1\u001b[39m\u001b[38;5;132;01m}\u001b[39;00m\u001b[38;5;124m\"\u001b[39m)\n\u001b[1;32m     37\u001b[0m db_init()\n\u001b[0;32m---> 38\u001b[0m a \u001b[38;5;241m=\u001b[39m \u001b[43mtrial\u001b[49m\u001b[38;5;241;43m.\u001b[39;49m\u001b[43msuggest_int\u001b[49m\u001b[43m(\u001b[49m\u001b[38;5;124;43m'\u001b[39;49m\u001b[38;5;124;43ma\u001b[39;49m\u001b[38;5;124;43m'\u001b[39;49m\u001b[43m,\u001b[49m\u001b[43m \u001b[49m\u001b[38;5;241;43m1\u001b[39;49m\u001b[43m,\u001b[49m\u001b[43m \u001b[49m\u001b[38;5;241;43m500\u001b[39;49m\u001b[43m)\u001b[49m\n\u001b[1;32m     39\u001b[0m b \u001b[38;5;241m=\u001b[39m trial\u001b[38;5;241m.\u001b[39msuggest_int(\u001b[38;5;124m'\u001b[39m\u001b[38;5;124mb\u001b[39m\u001b[38;5;124m'\u001b[39m, \u001b[38;5;241m1\u001b[39m, \u001b[38;5;241m500\u001b[39m)\n\u001b[1;32m     40\u001b[0m d \u001b[38;5;241m=\u001b[39m trial\u001b[38;5;241m.\u001b[39msuggest_int(\u001b[38;5;124m'\u001b[39m\u001b[38;5;124md\u001b[39m\u001b[38;5;124m'\u001b[39m, \u001b[38;5;241m1\u001b[39m, \u001b[38;5;241m500\u001b[39m)\n",
      "File \u001b[0;32m/opt/miniconda3/envs/python312/lib/python3.13/site-packages/optuna/_convert_positional_args.py:83\u001b[0m, in \u001b[0;36mconvert_positional_args.<locals>.converter_decorator.<locals>.converter_wrapper\u001b[0;34m(*args, **kwargs)\u001b[0m\n\u001b[1;32m     77\u001b[0m     \u001b[38;5;28;01mraise\u001b[39;00m \u001b[38;5;167;01mTypeError\u001b[39;00m(\n\u001b[1;32m     78\u001b[0m         \u001b[38;5;124mf\u001b[39m\u001b[38;5;124m\"\u001b[39m\u001b[38;5;132;01m{\u001b[39;00mfunc\u001b[38;5;241m.\u001b[39m\u001b[38;5;18m__name__\u001b[39m\u001b[38;5;132;01m}\u001b[39;00m\u001b[38;5;124m() got multiple values for arguments \u001b[39m\u001b[38;5;132;01m{\u001b[39;00mduplicated_kwds\u001b[38;5;132;01m}\u001b[39;00m\u001b[38;5;124m.\u001b[39m\u001b[38;5;124m\"\u001b[39m\n\u001b[1;32m     79\u001b[0m     )\n\u001b[1;32m     81\u001b[0m kwargs\u001b[38;5;241m.\u001b[39mupdate(inferred_kwargs)\n\u001b[0;32m---> 83\u001b[0m \u001b[38;5;28;01mreturn\u001b[39;00m \u001b[43mfunc\u001b[49m\u001b[43m(\u001b[49m\u001b[38;5;241;43m*\u001b[39;49m\u001b[38;5;241;43m*\u001b[39;49m\u001b[43mkwargs\u001b[49m\u001b[43m)\u001b[49m\n",
      "File \u001b[0;32m/opt/miniconda3/envs/python312/lib/python3.13/site-packages/optuna/trial/_trial.py:324\u001b[0m, in \u001b[0;36mTrial.suggest_int\u001b[0;34m(self, name, low, high, step, log)\u001b[0m\n\u001b[1;32m    242\u001b[0m \u001b[38;5;250m\u001b[39m\u001b[38;5;124;03m\"\"\"Suggest a value for the integer parameter.\u001b[39;00m\n\u001b[1;32m    243\u001b[0m \n\u001b[1;32m    244\u001b[0m \u001b[38;5;124;03mThe value is sampled from the integers in :math:`[\\\\mathsf{low}, \\\\mathsf{high}]`.\u001b[39;00m\n\u001b[0;32m   (...)\u001b[0m\n\u001b[1;32m    320\u001b[0m \u001b[38;5;124;03m    :ref:`configurations` tutorial describes more details and flexible usages.\u001b[39;00m\n\u001b[1;32m    321\u001b[0m \u001b[38;5;124;03m\"\"\"\u001b[39;00m\n\u001b[1;32m    323\u001b[0m distribution \u001b[38;5;241m=\u001b[39m IntDistribution(low\u001b[38;5;241m=\u001b[39mlow, high\u001b[38;5;241m=\u001b[39mhigh, log\u001b[38;5;241m=\u001b[39mlog, step\u001b[38;5;241m=\u001b[39mstep)\n\u001b[0;32m--> 324\u001b[0m suggested_value \u001b[38;5;241m=\u001b[39m \u001b[38;5;28mint\u001b[39m(\u001b[38;5;28;43mself\u001b[39;49m\u001b[38;5;241;43m.\u001b[39;49m\u001b[43m_suggest\u001b[49m\u001b[43m(\u001b[49m\u001b[43mname\u001b[49m\u001b[43m,\u001b[49m\u001b[43m \u001b[49m\u001b[43mdistribution\u001b[49m\u001b[43m)\u001b[49m)\n\u001b[1;32m    325\u001b[0m \u001b[38;5;28mself\u001b[39m\u001b[38;5;241m.\u001b[39m_check_distribution(name, distribution)\n\u001b[1;32m    326\u001b[0m \u001b[38;5;28;01mreturn\u001b[39;00m suggested_value\n",
      "File \u001b[0;32m/opt/miniconda3/envs/python312/lib/python3.13/site-packages/optuna/trial/_trial.py:627\u001b[0m, in \u001b[0;36mTrial._suggest\u001b[0;34m(self, name, distribution)\u001b[0m\n\u001b[1;32m    625\u001b[0m \u001b[38;5;28;01melif\u001b[39;00m distribution\u001b[38;5;241m.\u001b[39msingle():\n\u001b[1;32m    626\u001b[0m     param_value \u001b[38;5;241m=\u001b[39m distributions\u001b[38;5;241m.\u001b[39m_get_single_value(distribution)\n\u001b[0;32m--> 627\u001b[0m \u001b[38;5;28;01melif\u001b[39;00m \u001b[38;5;28;43mself\u001b[39;49m\u001b[38;5;241;43m.\u001b[39;49m\u001b[43m_is_relative_param\u001b[49m\u001b[43m(\u001b[49m\u001b[43mname\u001b[49m\u001b[43m,\u001b[49m\u001b[43m \u001b[49m\u001b[43mdistribution\u001b[49m\u001b[43m)\u001b[49m:\n\u001b[1;32m    628\u001b[0m     param_value \u001b[38;5;241m=\u001b[39m \u001b[38;5;28mself\u001b[39m\u001b[38;5;241m.\u001b[39mrelative_params[name]\n\u001b[1;32m    629\u001b[0m \u001b[38;5;28;01melse\u001b[39;00m:\n",
      "File \u001b[0;32m/opt/miniconda3/envs/python312/lib/python3.13/site-packages/optuna/trial/_trial.py:659\u001b[0m, in \u001b[0;36mTrial._is_relative_param\u001b[0;34m(self, name, distribution)\u001b[0m\n\u001b[1;32m    658\u001b[0m \u001b[38;5;28;01mdef\u001b[39;00m \u001b[38;5;21m_is_relative_param\u001b[39m(\u001b[38;5;28mself\u001b[39m, name: \u001b[38;5;28mstr\u001b[39m, distribution: BaseDistribution) \u001b[38;5;241m-\u001b[39m\u001b[38;5;241m>\u001b[39m \u001b[38;5;28mbool\u001b[39m:\n\u001b[0;32m--> 659\u001b[0m     \u001b[38;5;28;01mif\u001b[39;00m name \u001b[38;5;129;01mnot\u001b[39;00m \u001b[38;5;129;01min\u001b[39;00m \u001b[38;5;28;43mself\u001b[39;49m\u001b[38;5;241;43m.\u001b[39;49m\u001b[43mrelative_params\u001b[49m:\n\u001b[1;32m    660\u001b[0m         \u001b[38;5;28;01mreturn\u001b[39;00m \u001b[38;5;28;01mFalse\u001b[39;00m\n\u001b[1;32m    662\u001b[0m     \u001b[38;5;28;01mif\u001b[39;00m name \u001b[38;5;129;01mnot\u001b[39;00m \u001b[38;5;129;01min\u001b[39;00m \u001b[38;5;28mself\u001b[39m\u001b[38;5;241m.\u001b[39mrelative_search_space:\n",
      "File \u001b[0;32m/opt/miniconda3/envs/python312/lib/python3.13/site-packages/optuna/trial/_trial.py:71\u001b[0m, in \u001b[0;36mTrial.relative_params\u001b[0;34m(self)\u001b[0m\n\u001b[1;32m     69\u001b[0m \u001b[38;5;28;01mif\u001b[39;00m \u001b[38;5;28mself\u001b[39m\u001b[38;5;241m.\u001b[39m_relative_params \u001b[38;5;129;01mis\u001b[39;00m \u001b[38;5;28;01mNone\u001b[39;00m:\n\u001b[1;32m     70\u001b[0m     study \u001b[38;5;241m=\u001b[39m pruners\u001b[38;5;241m.\u001b[39m_filter_study(\u001b[38;5;28mself\u001b[39m\u001b[38;5;241m.\u001b[39mstudy, \u001b[38;5;28mself\u001b[39m\u001b[38;5;241m.\u001b[39m_cached_frozen_trial)\n\u001b[0;32m---> 71\u001b[0m     \u001b[38;5;28mself\u001b[39m\u001b[38;5;241m.\u001b[39m_relative_params \u001b[38;5;241m=\u001b[39m \u001b[38;5;28;43mself\u001b[39;49m\u001b[38;5;241;43m.\u001b[39;49m\u001b[43mstudy\u001b[49m\u001b[38;5;241;43m.\u001b[39;49m\u001b[43msampler\u001b[49m\u001b[38;5;241;43m.\u001b[39;49m\u001b[43msample_relative\u001b[49m\u001b[43m(\u001b[49m\n\u001b[1;32m     72\u001b[0m \u001b[43m        \u001b[49m\u001b[43mstudy\u001b[49m\u001b[43m,\u001b[49m\u001b[43m \u001b[49m\u001b[38;5;28;43mself\u001b[39;49m\u001b[38;5;241;43m.\u001b[39;49m\u001b[43m_cached_frozen_trial\u001b[49m\u001b[43m,\u001b[49m\u001b[43m \u001b[49m\u001b[38;5;28;43mself\u001b[39;49m\u001b[38;5;241;43m.\u001b[39;49m\u001b[43mrelative_search_space\u001b[49m\n\u001b[1;32m     73\u001b[0m \u001b[43m    \u001b[49m\u001b[43m)\u001b[49m\n\u001b[1;32m     74\u001b[0m \u001b[38;5;28;01mreturn\u001b[39;00m \u001b[38;5;28mself\u001b[39m\u001b[38;5;241m.\u001b[39m_relative_params\n",
      "File \u001b[0;32m/opt/miniconda3/envs/python312/lib/python3.13/site-packages/optuna/samplers/_cmaes.py:363\u001b[0m, in \u001b[0;36mCmaEsSampler.sample_relative\u001b[0;34m(self, study, trial, search_space)\u001b[0m\n\u001b[1;32m    357\u001b[0m \u001b[38;5;28;01mdef\u001b[39;00m \u001b[38;5;21msample_relative\u001b[39m(\n\u001b[1;32m    358\u001b[0m     \u001b[38;5;28mself\u001b[39m,\n\u001b[1;32m    359\u001b[0m     study: \u001b[38;5;124m\"\u001b[39m\u001b[38;5;124moptuna.Study\u001b[39m\u001b[38;5;124m\"\u001b[39m,\n\u001b[1;32m    360\u001b[0m     trial: \u001b[38;5;124m\"\u001b[39m\u001b[38;5;124moptuna.trial.FrozenTrial\u001b[39m\u001b[38;5;124m\"\u001b[39m,\n\u001b[1;32m    361\u001b[0m     search_space: \u001b[38;5;28mdict\u001b[39m[\u001b[38;5;28mstr\u001b[39m, BaseDistribution],\n\u001b[1;32m    362\u001b[0m ) \u001b[38;5;241m-\u001b[39m\u001b[38;5;241m>\u001b[39m \u001b[38;5;28mdict\u001b[39m[\u001b[38;5;28mstr\u001b[39m, Any]:\n\u001b[0;32m--> 363\u001b[0m     \u001b[38;5;28;43mself\u001b[39;49m\u001b[38;5;241;43m.\u001b[39;49m\u001b[43m_raise_error_if_multi_objective\u001b[49m\u001b[43m(\u001b[49m\u001b[43mstudy\u001b[49m\u001b[43m)\u001b[49m\n\u001b[1;32m    365\u001b[0m     \u001b[38;5;28;01mif\u001b[39;00m \u001b[38;5;28mlen\u001b[39m(search_space) \u001b[38;5;241m==\u001b[39m \u001b[38;5;241m0\u001b[39m:\n\u001b[1;32m    366\u001b[0m         \u001b[38;5;28;01mreturn\u001b[39;00m {}\n",
      "File \u001b[0;32m/opt/miniconda3/envs/python312/lib/python3.13/site-packages/optuna/samplers/_base.py:222\u001b[0m, in \u001b[0;36mBaseSampler._raise_error_if_multi_objective\u001b[0;34m(self, study)\u001b[0m\n\u001b[1;32m    220\u001b[0m \u001b[38;5;28;01mdef\u001b[39;00m \u001b[38;5;21m_raise_error_if_multi_objective\u001b[39m(\u001b[38;5;28mself\u001b[39m, study: Study) \u001b[38;5;241m-\u001b[39m\u001b[38;5;241m>\u001b[39m \u001b[38;5;28;01mNone\u001b[39;00m:\n\u001b[1;32m    221\u001b[0m     \u001b[38;5;28;01mif\u001b[39;00m study\u001b[38;5;241m.\u001b[39m_is_multi_objective():\n\u001b[0;32m--> 222\u001b[0m         \u001b[38;5;28;01mraise\u001b[39;00m \u001b[38;5;167;01mValueError\u001b[39;00m(\n\u001b[1;32m    223\u001b[0m             \u001b[38;5;124m\"\u001b[39m\u001b[38;5;124mIf the study is being used for multi-objective optimization, \u001b[39m\u001b[38;5;124m\"\u001b[39m\n\u001b[1;32m    224\u001b[0m             \u001b[38;5;124mf\u001b[39m\u001b[38;5;124m\"\u001b[39m\u001b[38;5;132;01m{\u001b[39;00m\u001b[38;5;28mself\u001b[39m\u001b[38;5;241m.\u001b[39m\u001b[38;5;18m__class__\u001b[39m\u001b[38;5;241m.\u001b[39m\u001b[38;5;18m__name__\u001b[39m\u001b[38;5;132;01m}\u001b[39;00m\u001b[38;5;124m cannot be used.\u001b[39m\u001b[38;5;124m\"\u001b[39m\n\u001b[1;32m    225\u001b[0m         )\n",
      "\u001b[0;31mValueError\u001b[0m: If the study is being used for multi-objective optimization, CmaEsSampler cannot be used."
     ]
    },
    {
     "name": "stdout",
     "output_type": "stream",
     "text": [
      "ClearML Monitor: GPU monitoring failed getting GPU reading, switching off GPU monitoring\n",
      "2025-01-13 08:10:43,050 - clearml.Task - WARNING - ### TASK STOPPED - USER ABORTED - STATUS CHANGED ###\n"
     ]
    }
   ],
   "source": [
    "import optuna\n",
    "from optuna.samplers import CmaEsSampler\n",
    "\n",
    "# CmaEsSampler erstellen\n",
    "sampler = CmaEsSampler(\n",
    "    seed=42,                # Zufalls-Seed für Reproduzierbarkeit\n",
    "    sigma0=0.3,             # Initiale Skala der Verteilung\n",
    "    restart_strategy=\"ipop\" # Neustartstrategie\n",
    ")\n",
    "\n",
    "# Multi-Objective Study erstellen\n",
    "study = optuna.create_study(\n",
    "    directions=[\"minimize\", \"minimize\"],  # Zwei Ziele gleichzeitig minimieren\n",
    "    sampler=sampler\n",
    ")\n",
    "\n",
    "study.optimize(objective, n_trials=500, n_jobs=1)  # Keine Parallelisierung"
   ]
  },
  {
   "cell_type": "code",
   "execution_count": 26,
   "id": "2ae7c8fc",
   "metadata": {},
   "outputs": [
    {
     "name": "stdout",
     "output_type": "stream",
     "text": [
      "Alle Metriken wurden in tasks_metrics.csv gespeichert.\n"
     ]
    }
   ],
   "source": [
    "import os\n",
    "import json\n",
    "import csv\n",
    "\n",
    "# Pfad zum Hauptordner der Offline-Tasks\n",
    "base_path = \"/Users/karl/.clearml/cache/offline\"\n",
    "\n",
    "# Ausgabe-CSV-Datei\n",
    "output_csv = \"tasks_metrics.csv\"\n",
    "\n",
    "# Die gewünschten Metriken\n",
    "metrics_to_extract = [\n",
    "    \"global_total_distance\",\n",
    "    \"global_empty_distance\",\n",
    "    \"f1_total_distance\",\n",
    "    \"f1_empty_distance\",\n",
    "    \"f2_total_distance\",\n",
    "    \"f2_empty_distance\",\n",
    "    \"f3_total_distance\",\n",
    "    \"f3_empty_distance\",\n",
    "    \"global_mean_waiting_time (mins)\",\n",
    "    \"a\",\n",
    "    \"b\",\n",
    "    \"d\"\n",
    "]\n",
    "\n",
    "# CSV-Datei schreiben\n",
    "with open(output_csv, mode='w', newline='') as csvfile:\n",
    "    csv_writer = csv.writer(csvfile)\n",
    "    \n",
    "    # Kopfzeile schreiben\n",
    "    header = [\"task_id\"] + metrics_to_extract\n",
    "    csv_writer.writerow(header)\n",
    "\n",
    "    # Unterordner durchlaufen\n",
    "    for folder_name in os.listdir(base_path):\n",
    "        folder_path = os.path.join(base_path, folder_name)\n",
    "        \n",
    "        # Prüfen, ob es sich um einen gültigen Offline-Task-Ordner handelt\n",
    "        if os.path.isdir(folder_path) and folder_name.startswith(\"offline-\"):\n",
    "            metrics_file = os.path.join(folder_path, \"metrics.jsonl\")\n",
    "            \n",
    "            if os.path.exists(metrics_file):\n",
    "                task_id = folder_name\n",
    "                metrics = {metric: None for metric in metrics_to_extract}\n",
    "\n",
    "                # Datei öffnen und JSON-Linien lesen\n",
    "                with open(metrics_file, 'r') as f:\n",
    "                    for line in f:\n",
    "                        # Jede Zeile in eine Liste von JSON-Objekten umwandeln\n",
    "                        entries = json.loads(line)\n",
    "                        \n",
    "                        for entry in entries:\n",
    "                            # Metrik und Wert extrahieren\n",
    "                            if entry[\"type\"] == \"training_stats_scalar\" and entry[\"metric\"] == \"Summary\":\n",
    "                                variant = entry[\"variant\"]\n",
    "                                value = entry[\"value\"]\n",
    "                                if variant in metrics:\n",
    "                                    metrics[variant] = value\n",
    "                \n",
    "                # Werte in die CSV-Zeile schreiben\n",
    "                row = [task_id] + [metrics[metric] for metric in metrics_to_extract]\n",
    "                csv_writer.writerow(row)\n",
    "\n",
    "print(f\"Alle Metriken wurden in {output_csv} gespeichert.\")"
   ]
  },
  {
   "cell_type": "code",
   "execution_count": 11,
   "id": "0d755076",
   "metadata": {},
   "outputs": [],
   "source": [
    "import warnings\n",
    "\n",
    "# Unterdrücke alle DeprecationWarnings\n",
    "warnings.filterwarnings(\"ignore\", category=DeprecationWarning)\n",
    "\n",
    "def run_simulation(start, end, add_auftrag): # z.B. \"01.01.2024 00:00\"\n",
    "\n",
    "    start = datetime.datetime.strptime(start, \"%d.%m.%Y %H:%M\")\n",
    "    end = datetime.datetime.strptime(end, \"%d.%m.%Y %H:%M\")\n",
    "    \n",
    "    delta = end - start\n",
    "    delta = int(delta.total_seconds() / 60)\n",
    "\n",
    "    env = simpy.Environment()\n",
    "\n",
    "\n",
    "    factory = Factory(env, 'prod_data.db', start, 'S2', add_auftrag)\n",
    "    env.run(until=delta)\n",
    "\n",
    "run_simulation(\"01.01.2024 00:00\", \"01.03.2024 00:00\", add_auftrag = None)"
   ]
  },
  {
   "cell_type": "code",
   "execution_count": 12,
   "id": "e40e4299",
   "metadata": {},
   "outputs": [
    {
     "data": {
      "text/plain": [
       "{'globalTotalDistance': np.int64(732560),\n",
       " 'globalEmptyDistance': np.float64(390935.0),\n",
       " 'SingleDistances': {'F1': {'TotalDistance': np.int64(293395),\n",
       "   'EmptyDistance': np.float64(155385.0)},\n",
       "  'F2': {'TotalDistance': np.int64(258550),\n",
       "   'EmptyDistance': np.float64(137410.0)},\n",
       "  'F3': {'TotalDistance': np.int64(180615),\n",
       "   'EmptyDistance': np.float64(98140.0)}},\n",
       " 'globalMeanWaitingTime': Timedelta('0 days 00:05:26.128978688')}"
      ]
     },
     "execution_count": 12,
     "metadata": {},
     "output_type": "execute_result"
    }
   ],
   "source": [
    "import KPI_functions\n",
    "\n",
    "data = KPI_functions.calc_KPIs('prod_data.db')\n",
    "data"
   ]
  },
  {
   "cell_type": "code",
   "execution_count": 10,
   "id": "e3469e65",
   "metadata": {},
   "outputs": [
    {
     "name": "stdout",
     "output_type": "stream",
     "text": [
      "Inhalt der Tabelle: produktstammdaten\n",
      "['id', 'bezeichnung', 'dlz_plan', 'losgroesse', 'Bestand_RTL', 'Bestand_FTL', 'Bestellbestand']\n",
      "('A1', 'Gehause', 50, 25, 700, 157, 150)\n",
      "('A2', 'Deckel', 150, 50, 400, 24, 250)\n",
      "('A3', 'Zylinderrohr', 200, 50, 330, 34, 250)\n",
      "('A4', 'Zylinderboden', 200, 100, 530, -122, 300)\n",
      "('A5', 'Kolbenstange', 200, 50, 530, 0, 190)\n",
      "('A6', 'Zahnrad', 200, 100, 530, 86, 500)\n",
      "('A7', 'Welle', 200, 25, 530, 56, 150)\n",
      "('A8', 'Kolben', 200, 100, 330, 250, 250)\n",
      "\n",
      "--------------------------------------------------\n",
      "\n",
      "Inhalt der Tabelle: auftraege\n",
      "['Charge', 'id', 'stueckzahl_plan', 'stueckzahl_ist', 'freigabe', 'fertigstellung', 'art']\n",
      "(20000000, 'A1', 25, 24, '2024-01-01 06:00:54', '2024-01-01 12:03:30', 'PP')\n",
      "(20000001, 'A1', 25, 25, '2024-01-01 06:00:54', '2024-01-01 16:49:12', 'PP')\n",
      "(20000002, 'A2', 50, 50, '2024-01-01 06:00:54', '2024-01-02 12:48:42', 'PP')\n",
      "(20000003, 'A2', 50, 50, '2024-01-01 06:00:54', '2024-01-02 13:54:06', 'PP')\n",
      "(20000004, 'A2', 50, 50, '2024-01-01 06:00:54', '2024-01-02 16:03:42', 'PP')\n",
      "(20000005, 'A4', 100, 99, '2024-01-01 06:00:54', '2024-01-03 06:29:48', 'PP')\n",
      "(20000006, 'A4', 100, 96, '2024-01-01 06:00:54', '2024-01-03 11:11:36', 'PP')\n",
      "(20000007, 'A4', 100, 97, '2024-01-01 06:00:54', '2024-01-03 15:35:48', 'PP')\n",
      "(20000008, 'A4', 100, 98, '2024-01-01 06:00:54', '2024-01-04 06:46:18', 'PP')\n",
      "(20000009, 'A6', 100, 84, '2024-01-01 06:00:54', '2024-01-03 13:57:30', 'PP')\n",
      "(20000010, 'A6', 100, 91, '2024-01-01 06:00:54', '2024-01-02 18:48:06', 'PP')\n",
      "(20000011, 'A6', 100, 92, '2024-01-01 06:00:54', '2024-01-02 12:29:36', 'PP')\n",
      "(20000012, 'A6', 100, 90, '2024-01-01 06:00:54', '2024-01-04 06:07:00', 'PP')\n",
      "(20000013, 'A8', 100, 88, '2024-01-01 06:00:54', '2024-01-03 08:31:24', 'PP')\n",
      "(20000014, 'A2', 50, 50, '2024-01-02 14:51:00', '2024-01-04 07:45:42', 'PP')\n",
      "(20000015, 'A3', 50, 48, '2024-01-02 14:51:00', '2024-01-04 12:35:42', 'PP')\n",
      "(20000016, 'A4', 100, 98, '2024-01-02 14:51:00', '2024-01-04 17:46:48', 'PP')\n",
      "(20000017, 'A5', 50, 49, '2024-01-02 14:51:00', '2024-01-04 15:43:36', 'PP')\n",
      "(20000018, 'A6', 100, 87, '2024-01-03 18:03:00', '2024-01-08 06:07:00', 'PP')\n",
      "(20000019, 'A8', 100, 95, '2024-01-02 06:00:00', '2024-01-04 11:20:18', 'PP')\n",
      "(20000020, 'A1', 25, 24, '2024-01-03 06:00:00', '2024-01-04 10:33:00', 'PP')\n",
      "(20000021, 'A3', 50, 49, '2024-01-03 20:40:00', '2024-01-05 12:11:00', 'PP')\n",
      "(20000022, 'A5', 50, 49, '2024-01-03 20:40:00', '2024-01-05 13:35:24', 'PP')\n",
      "(20000023, 'A6', 100, 93, '2024-01-04 10:17:54', '2024-01-08 19:30:54', 'PP')\n",
      "(20000024, 'A7', 25, 25, '2024-01-04 15:06:54', '2024-01-08 13:16:18', 'PP')\n",
      "(20000025, 'A1', 25, 24, '2024-01-04 06:00:00', '2024-01-04 14:06:42', 'PP')\n",
      "(20000026, 'A2', 50, 49, '2024-01-04 15:06:54', '2024-01-08 09:49:18', 'PP')\n",
      "(20000027, 'A3', 50, 49, '2024-01-04 15:06:54', '2024-01-08 17:42:24', 'PP')\n",
      "(20000028, 'A4', 100, 99, '2024-01-04 15:06:54', '2024-01-08 21:10:42', 'PP')\n",
      "(20000029, 'A5', 50, 45, '2024-01-04 15:06:54', '2024-01-08 08:34:54', 'PP')\n",
      "(20000030, 'A6', 100, 91, '2024-01-05 16:51:54', '2024-01-10 10:20:12', 'PP')\n",
      "(20000031, 'A7', 25, 25, '2024-01-08 08:30:54', '2024-01-09 19:31:24', 'PP')\n",
      "(20000032, 'A8', 100, 91, '2024-01-04 06:00:00', '2024-01-05 07:54:54', 'PP')\n",
      "(20000033, 'A1', 25, 23, '2024-01-05 06:00:54', '2024-01-05 15:38:06', 'PP')\n",
      "(20000034, 'A2', 50, 48, '2024-01-08 08:30:54', '2024-01-09 21:21:42', 'PP')\n",
      "(20000035, 'A4', 100, 99, '2024-01-08 08:30:54', '2024-01-10 11:56:42', 'PP')\n",
      "(20000036, 'A5', 50, 46, '2024-01-08 08:30:54', '2024-01-09 16:09:00', 'PP')\n",
      "(20000037, 'A7', 25, 25, '2024-01-08 09:04:54', '2024-01-10 14:03:36', 'PP')\n",
      "(20000038, 'A8', 100, 85, '2024-01-05 06:00:54', '2024-01-08 13:36:36', 'PP')\n",
      "(20000039, 'A2', 50, 49, '2024-01-08 09:04:54', '2024-01-10 16:11:54', 'PP')\n",
      "(20000040, 'A3', 50, 48, '2024-01-08 09:04:54', '2024-01-10 18:30:12', 'PP')\n",
      "(20000041, 'A4', 100, 99, '2024-01-08 09:04:54', '2024-01-11 09:58:54', 'PP')\n",
      "(20000042, 'A5', 50, 47, '2024-01-08 09:04:54', '2024-01-09 20:19:24', 'PP')\n",
      "(20000043, 'A6', 100, 92, '2024-01-10 09:37:54', '2024-01-12 15:40:00', 'PP')\n",
      "(20000044, 'A7', 25, 24, '2024-01-10 10:47:54', '2024-01-12 10:57:42', 'PP')\n",
      "(20000045, 'A8', 100, 91, '2024-01-08 06:00:54', '2024-01-09 08:37:00', 'PP')\n",
      "(20000046, 'A1', 25, 25, '2024-01-09 06:00:54', '2024-01-09 12:57:36', 'PP')\n",
      "(20000047, 'A2', 50, 49, '2024-01-10 10:47:54', '2024-01-12 09:02:54', 'PP')\n",
      "(20000048, 'A3', 50, 48, '2024-01-10 10:47:54', '2024-01-12 16:53:30', 'PP')\n",
      "(20000049, 'A6', 100, 89, '2024-01-10 10:47:54', '2024-01-12 21:09:18', 'PP')\n",
      "(20000050, 'A1', 25, 23, '2024-01-10 06:00:54', '2024-01-10 13:20:42', 'PP')\n",
      "(20000051, 'A4', 100, 98, '2024-01-10 14:00:54', '2024-01-15 09:12:12', 'PP')\n",
      "(20000052, 'A5', 50, 45, '2024-01-10 14:00:54', '2024-01-12 10:16:48', 'PP')\n",
      "(20000053, 'A6', 100, 88, '2024-01-11 18:48:54', '2024-01-16 11:52:24', 'PP')\n",
      "(20000054, 'A7', 25, 25, '2024-01-12 07:53:54', '2024-01-15 17:16:12', 'PP')\n",
      "(20000055, 'A8', 100, 94, '2024-01-10 06:00:54', '2024-01-11 07:28:36', 'PP')\n",
      "(20000056, 'A2', 50, 49, '2024-01-12 07:53:54', '2024-01-16 07:16:48', 'PP')\n",
      "(20000057, 'A3', 50, 48, '2024-01-12 07:53:54', '2024-01-16 09:26:24', 'PP')\n",
      "(20000058, 'A4', 100, 94, '2024-01-12 07:53:54', '2024-01-16 15:34:42', 'PP')\n",
      "(20000059, 'A5', 50, 48, '2024-01-12 07:53:54', '2024-01-15 14:09:48', 'PP')\n",
      "(20000060, 'A6', 100, 90, '2024-01-12 09:29:54', '2024-01-17 07:54:12', 'PP')\n",
      "(20000061, 'A7', 25, 24, '2024-01-15 16:17:00', '2024-01-17 11:16:36', 'PP')\n",
      "(20000062, 'A8', 100, 90, '2024-01-11 06:00:54', '2024-01-12 06:07:00', 'PP')\n",
      "(20000063, 'A1', 25, 24, '2024-01-12 06:00:54', '2024-01-12 18:23:42', 'PP')\n",
      "(20000064, 'A2', 50, 48, '2024-01-15 16:17:00', '2024-01-17 13:12:36', 'PP')\n",
      "(20000065, 'A3', 50, 47, '2024-01-15 16:17:00', '2024-01-17 17:46:06', 'PP')\n",
      "(20000066, 'A4', 100, 98, '2024-01-15 16:17:00', '2024-01-17 21:21:00', 'PP')\n",
      "(20000067, 'A7', 25, 24, '2024-01-15 16:17:00', '2024-01-18 07:47:54', 'PP')\n",
      "(20000068, 'A8', 100, 87, '2024-01-12 06:00:54', '2024-01-15 09:54:24', 'PP')\n",
      "(20000069, 'A5', 50, 43, '2024-01-15 16:17:00', '2024-01-17 10:36:24', 'PP')\n",
      "(20000070, 'A1', 25, 24, '2024-01-15 06:00:00', '2024-01-15 12:20:00', 'PP')\n",
      "(20000071, 'A2', 50, 50, '2024-01-15 17:02:00', '2024-01-18 09:16:06', 'PP')\n",
      "(20000072, 'A3', 50, 49, '2024-01-15 17:02:00', '2024-01-18 15:46:36', 'PP')\n",
      "(20000073, 'A6', 100, 87, '2024-01-15 17:02:00', '2024-01-18 06:59:12', 'PP')\n",
      "(20000074, 'A7', 25, 25, '2024-01-17 10:42:00', '2024-01-18 21:44:54', 'PP')\n",
      "(20000075, 'A1', 25, 25, '2024-01-15 06:00:00', '2024-01-15 16:35:48', 'PP')\n",
      "(20000076, 'A4', 100, 100, '2024-01-17 10:42:00', '2024-01-19 10:09:00', 'PP')\n",
      "(20000077, 'A5', 50, 44, '2024-01-17 10:42:00', '2024-01-18 20:54:36', 'PP')\n",
      "(20000078, 'A6', 100, 92, '2024-01-18 06:57:00', '2024-01-22 18:26:24', 'PP')\n",
      "(20000079, 'A8', 100, 88, '2024-01-15 06:00:00', '2024-01-16 18:08:54', 'PP')\n",
      "(20000080, 'A1', 25, 25, '2024-01-16 06:00:00', '2024-01-17 06:07:00', 'PP')\n",
      "(20000081, 'A2', 50, 49, '2024-01-18 13:01:00', '2024-01-19 18:45:42', 'PP')\n",
      "(20000082, 'A3', 50, 50, '2024-01-18 13:01:00', '2024-01-22 07:16:36', 'PP')\n",
      "(20000083, 'A4', 100, 100, '2024-01-18 13:01:00', '2024-01-22 12:52:06', 'PP')\n",
      "(20000084, 'A5', 50, 47, '2024-01-18 13:01:00', '2024-01-22 06:10:18', 'PP')\n",
      "(20000085, 'A6', 100, 89, '2024-01-19 13:08:00', '2024-01-23 16:51:00', 'PP')\n",
      "(20000086, 'A7', 25, 25, '2024-01-19 15:34:00', '2024-01-23 09:21:36', 'PP')\n",
      "(20000087, 'A8', 100, 94, '2024-01-16 06:00:00', '2024-01-17 16:39:24', 'PP')\n",
      "(20000088, 'A2', 50, 47, '2024-01-19 15:34:00', '2024-01-23 12:04:42', 'PP')\n",
      "(20000089, 'A3', 50, 48, '2024-01-19 15:34:00', '2024-01-23 18:02:18', 'PP')\n",
      "(20000090, 'A5', 50, 49, '2024-01-19 15:34:00', '2024-01-23 10:59:48', 'PP')\n",
      "(20000091, 'A6', 100, 92, '2024-01-19 17:31:00', '2024-01-23 21:52:12', 'PP')\n",
      "(20000092, 'A7', 25, 25, '2024-01-22 17:18:00', '2024-01-24 10:13:30', 'PP')\n",
      "(20000093, 'A8', 100, 89, '2024-01-17 06:00:00', '2024-01-18 13:18:06', 'PP')\n",
      "(20000094, 'A1', 25, 25, '2024-01-18 06:00:00', '2024-01-18 14:41:18', 'PP')\n",
      "(20000095, 'A2', 50, 45, '2024-01-22 17:18:00', '2024-01-24 09:34:18', 'PP')\n",
      "(20000096, 'A3', 50, 46, '2024-01-22 17:18:00', '2024-01-24 14:19:06', 'PP')\n",
      "(20000097, 'A4', 100, 97, '2024-01-22 17:18:00', '2024-01-24 17:42:06', 'PP')\n",
      "(20000098, 'A7', 25, 25, '2024-01-22 17:18:00', '2024-01-24 20:24:48', 'PP')\n",
      "(20000099, 'A1', 25, 25, '2024-01-19 06:00:00', '2024-01-19 14:35:06', 'PP')\n",
      "(20000100, 'A2', 50, 48, '2024-01-22 17:18:00', '2024-01-24 21:39:06', 'PP')\n",
      "(20000101, 'A3', 50, 49, '2024-01-22 17:18:00', '2024-01-25 11:20:00', 'PP')\n",
      "(20000102, 'A4', 100, 98, '2024-01-22 17:18:00', '2024-01-25 14:45:30', 'PP')\n",
      "(20000103, 'A5', 50, 48, '2024-01-22 17:18:00', '2024-01-24 08:39:18', 'PP')\n",
      "(20000104, 'A6', 100, 93, '2024-01-24 15:34:00', '2024-01-29 08:17:30', 'PP')\n",
      "(20000105, 'A8', 100, 88, '2024-01-19 06:00:00', '2024-01-22 10:59:12', 'PP')\n",
      "(20000106, 'A1', 25, 22, '2024-01-22 06:00:00', '2024-01-22 14:13:00', 'PP')\n",
      "(20000107, 'A2', 50, 50, '2024-01-24 19:37:00', '2024-01-26 12:05:06', 'PP')\n",
      "(20000108, 'A3', 50, 47, '2024-01-24 19:37:00', '2024-01-26 17:19:30', 'PP')\n",
      "(20000109, 'A4', 100, 97, '2024-01-24 19:37:00', '2024-01-29 08:33:30', 'PP')\n",
      "(20000110, 'A5', 50, 47, '2024-01-24 19:37:00', '2024-01-26 14:36:42', 'PP')\n",
      "(20000111, 'A6', 100, 90, '2024-01-24 20:29:00', '2024-01-29 12:52:42', 'PP')\n",
      "(20000112, 'A7', 25, 24, '2024-01-25 21:37:00', '2024-01-29 15:08:42', 'PP')\n",
      "(20000113, 'A8', 100, 90, '2024-01-22 06:00:00', '2024-01-23 07:26:36', 'PP')\n",
      "(20000114, 'A2', 50, 50, '2024-01-25 21:37:00', '2024-01-29 14:21:48', 'PP')\n",
      "(20000115, 'A5', 50, 48, '2024-01-25 21:37:00', '2024-01-29 13:19:12', 'PP')\n",
      "(20000116, 'A6', 100, 86, '2024-01-26 12:48:00', '2024-01-30 21:06:24', 'PP')\n",
      "(20000117, 'A7', 25, 23, '2024-01-29 06:11:00', '2024-01-30 17:26:12', 'PP')\n",
      "(20000118, 'A1', 25, 22, '2024-01-24 06:00:00', '2024-01-24 12:27:48', 'PP')\n",
      "(20000119, 'A2', 50, 49, '2024-01-29 06:11:00', '2024-01-30 12:00:06', 'PP')\n",
      "(20000120, 'A3', 50, 50, '2024-01-29 06:11:00', '2024-01-31 06:29:30', 'PP')\n",
      "(20000121, 'A4', 100, 98, '2024-01-29 06:11:00', '2024-01-31 12:04:00', 'PP')\n",
      "(20000122, 'A8', 100, 92, '2024-01-24 06:00:00', '2024-01-25 08:06:18', 'PP')\n",
      "(20000123, 'A1', 25, 21, '2024-01-25 06:00:00', '2024-01-25 16:02:54', 'PP')\n",
      "(20000124, 'A3', 50, 46, '2024-01-29 06:11:00', '2024-01-31 14:30:24', 'PP')\n",
      "(20000125, 'A4', 100, 97, '2024-01-29 06:11:00', '2024-01-31 19:39:48', 'PP')\n",
      "(20000126, 'A5', 50, 44, '2024-01-29 06:11:00', '2024-01-30 10:57:48', 'PP')\n",
      "(20000127, 'A6', 100, 90, '2024-01-29 07:34:00', '2024-01-31 16:43:30', 'PP')\n",
      "(20000128, 'A7', 25, 24, '2024-01-30 16:34:00', '2024-02-01 12:11:30', 'PP')\n",
      "(20000129, 'A8', 100, 92, '2024-01-25 06:00:00', '2024-01-26 11:00:12', 'PP')\n",
      "(20000130, 'A1', 25, 25, '2024-01-26 06:00:00', '2024-01-26 16:10:12', 'PP')\n",
      "(20000131, 'A2', 50, 46, '2024-01-30 16:34:00', '2024-02-01 08:58:12', 'PP')\n",
      "(20000132, 'A3', 50, 48, '2024-01-30 16:34:00', '2024-02-01 15:01:12', 'PP')\n",
      "(20000133, 'A4', 100, 97, '2024-01-30 16:34:00', '2024-02-02 06:23:48', 'PP')\n",
      "(20000134, 'A5', 50, 48, '2024-01-30 16:34:00', '2024-02-01 11:27:42', 'PP')\n",
      "(20000135, 'A6', 100, 93, '2024-01-31 17:36:00', '2024-02-05 11:33:48', 'PP')\n",
      "(20000136, 'A7', 25, 25, '2024-02-01 06:39:00', '2024-02-02 21:31:42', 'PP')\n",
      "(20000137, 'A8', 100, 92, '2024-01-26 06:00:00', '2024-01-29 18:12:54', 'PP')\n",
      "(20000138, 'A1', 25, 24, '2024-01-29 06:00:00', '2024-01-29 16:34:36', 'PP')\n",
      "(20000139, 'A2', 50, 47, '2024-02-01 06:39:00', '2024-02-02 20:52:24', 'PP')\n",
      "(20000140, 'A3', 50, 48, '2024-02-01 06:39:00', '2024-02-05 12:37:48', 'PP')\n",
      "(20000141, 'A5', 50, 46, '2024-02-01 06:39:00', '2024-02-02 18:58:18', 'PP')\n",
      "(20000142, 'A6', 100, 91, '2024-02-01 10:18:00', '2024-02-05 16:36:48', 'PP')\n",
      "(20000143, 'A7', 25, 24, '2024-02-02 11:54:00', '2024-02-05 18:37:00', 'PP')\n",
      "(20000144, 'A4', 100, 97, '2024-02-02 11:54:00', '2024-02-06 11:46:48', 'PP')\n",
      "(20000145, 'A5', 50, 50, '2024-02-02 11:54:00', '2024-02-05 20:34:24', 'PP')\n",
      "(20000146, 'A6', 100, 88, '2024-02-02 15:25:00', '2024-02-07 07:50:24', 'PP')\n",
      "(20000147, 'A8', 100, 95, '2024-01-30 06:00:00', '2024-01-31 08:23:12', 'PP')\n",
      "(20000148, 'A1', 25, 22, '2024-01-31 06:00:00', '2024-01-31 13:24:12', 'PP')\n",
      "(20000149, 'A2', 50, 50, '2024-02-05 11:04:00', '2024-02-06 15:22:54', 'PP')\n",
      "(20000150, 'A3', 50, 47, '2024-02-05 11:04:00', '2024-02-07 08:55:24', 'PP')\n",
      "(20000151, 'A4', 100, 99, '2024-02-05 11:04:00', '2024-02-07 18:21:36', 'PP')\n",
      "(20000152, 'A7', 25, 24, '2024-02-05 11:04:00', '2024-02-07 16:28:48', 'PP')\n",
      "(20000153, 'A8', 100, 86, '2024-01-31 06:00:00', '2024-02-01 08:00:24', 'PP')\n",
      "(20000154, 'A6', 100, 92, '2024-02-05 11:04:00', '2024-02-08 07:21:42', 'PP')\n",
      "(20000155, 'A1', 25, 24, '2024-02-01 06:00:00', '2024-02-01 13:59:30', 'PP')\n",
      "(20000156, 'A2', 50, 50, '2024-02-05 12:59:00', '2024-02-07 21:02:18', 'PP')\n",
      "(20000157, 'A3', 50, 50, '2024-02-05 12:59:00', '2024-02-08 09:28:06', 'PP')\n",
      "(20000158, 'A4', 100, 99, '2024-02-05 12:59:00', '2024-02-08 11:39:30', 'PP')\n",
      "(20000159, 'A5', 50, 46, '2024-02-05 12:59:00', '2024-02-07 15:45:12', 'PP')\n",
      "(20000160, 'A7', 25, 24, '2024-02-07 14:28:00', '2024-02-09 06:29:00', 'PP')\n",
      "(20000161, 'A8', 100, 98, '2024-02-01 06:00:00', '2024-02-02 08:33:06', 'PP')\n",
      "(20000162, 'A1', 25, 24, '2024-02-02 06:00:00', '2024-02-02 12:42:30', 'PP')\n",
      "(20000163, 'A2', 50, 50, '2024-02-07 14:28:00', '2024-02-09 09:43:18', 'PP')\n",
      "(20000164, 'A3', 50, 50, '2024-02-07 14:28:00', '2024-02-09 12:01:30', 'PP')\n",
      "(20000165, 'A4', 100, 98, '2024-02-07 14:28:00', '2024-02-09 17:38:30', 'PP')\n",
      "(20000166, 'A5', 50, 48, '2024-02-07 14:28:00', '2024-02-09 08:37:18', 'PP')\n",
      "(20000167, 'A6', 100, 87, '2024-02-07 15:30:00', '2024-02-09 20:00:18', 'PP')\n",
      "(20000168, 'A7', 25, 25, '2024-02-08 18:11:00', '2024-02-12 12:24:18', 'PP')\n",
      "(20000169, 'A3', 50, 48, '2024-02-08 18:11:00', '2024-02-12 15:38:06', 'PP')\n",
      "(20000170, 'A4', 100, 100, '2024-02-08 18:11:00', '2024-02-13 07:54:36', 'PP')\n",
      "(20000171, 'A5', 50, 46, '2024-02-08 18:11:00', '2024-02-12 09:06:00', 'PP')\n",
      "(20000172, 'A6', 100, 89, '2024-02-08 18:11:00', '2024-02-13 06:06:48', 'PP')\n",
      "(20000173, 'A8', 100, 94, '2024-02-05 06:00:00', '2024-02-06 09:37:54', 'PP')\n",
      "(20000174, 'A1', 25, 25, '2024-02-06 06:00:00', '2024-02-06 14:17:06', 'PP')\n",
      "(20000175, 'A2', 50, 49, '2024-02-09 19:47:00', '2024-02-13 10:56:42', 'PP')\n",
      "(20000176, 'A6', 100, 85, '2024-02-09 19:47:00', '2024-02-14 17:01:48', 'PP')\n",
      "(20000177, 'A7', 25, 22, '2024-02-12 10:28:00', '2024-02-13 17:17:48', 'PP')\n",
      "(20000178, 'A8', 100, 86, '2024-02-06 06:00:00', '2024-02-07 12:14:54', 'PP')\n",
      "(20000179, 'A1', 25, 25, '2024-02-07 06:00:00', '2024-02-07 19:56:18', 'PP')\n",
      "(20000180, 'A2', 50, 49, '2024-02-12 10:28:00', '2024-02-14 06:07:00', 'PP')\n",
      "(20000181, 'A3', 50, 48, '2024-02-12 10:28:00', '2024-02-14 07:34:36', 'PP')\n",
      "(20000182, 'A4', 100, 100, '2024-02-12 10:28:00', '2024-02-14 14:42:18', 'PP')\n",
      "(20000183, 'A5', 50, 46, '2024-02-12 10:28:00', '2024-02-13 21:02:30', 'PP')\n",
      "(20000184, 'A6', 100, 90, '2024-02-13 08:43:00', '2024-02-15 18:07:06', 'PP')\n",
      "(20000185, 'A7', 25, 24, '2024-02-13 16:27:00', '2024-02-15 09:23:00', 'PP')\n",
      "(20000186, 'A8', 100, 91, '2024-02-07 06:00:00', '2024-02-08 13:35:54', 'PP')\n",
      "(20000187, 'A1', 25, 24, '2024-02-08 06:00:00', '2024-02-08 15:11:18', 'PP')\n",
      "(20000188, 'A2', 50, 49, '2024-02-13 16:27:00', '2024-02-15 10:41:12', 'PP')\n",
      "(20000189, 'A3', 50, 50, '2024-02-13 16:27:00', '2024-02-15 15:07:12', 'PP')\n",
      "(20000190, 'A4', 100, 99, '2024-02-13 16:27:00', '2024-02-15 20:15:54', 'PP')\n",
      "(20000191, 'A5', 50, 44, '2024-02-13 16:27:00', '2024-02-15 11:54:00', 'PP')\n",
      "(20000192, 'A6', 100, 88, '2024-02-14 16:29:00', '2024-02-19 11:48:00', 'PP')\n",
      "(20000193, 'A8', 100, 88, '2024-02-08 06:00:00', '2024-02-09 15:22:18', 'PP')\n",
      "(20000194, 'A1', 25, 21, '2024-02-09 06:00:00', '2024-02-09 15:27:30', 'PP')\n",
      "(20000195, 'A3', 50, 50, '2024-02-15 06:41:00', '2024-02-16 17:54:12', 'PP')\n",
      "(20000196, 'A4', 100, 98, '2024-02-15 06:41:00', '2024-02-19 09:21:06', 'PP')\n",
      "(20000197, 'A5', 50, 48, '2024-02-15 06:41:00', '2024-02-16 21:54:48', 'PP')\n",
      "(20000198, 'A7', 25, 25, '2024-02-15 08:54:00', '2024-02-19 09:21:36', 'PP')\n",
      "(20000199, 'A6', 100, 95, '2024-02-15 08:54:00', '2024-02-19 20:51:06', 'PP')\n",
      "(20000200, 'A2', 50, 48, '2024-02-16 10:11:00', '2024-02-19 12:47:30', 'PP')\n",
      "(20000201, 'A3', 50, 50, '2024-02-16 10:11:00', '2024-02-20 10:14:18', 'PP')\n",
      "(20000202, 'A5', 50, 49, '2024-02-16 10:11:00', '2024-02-20 07:41:36', 'PP')\n",
      "(20000203, 'A7', 25, 24, '2024-02-16 14:42:00', '2024-02-20 14:51:18', 'PP')\n",
      "(20000204, 'A8', 100, 92, '2024-02-12 06:00:00', '2024-02-13 11:26:36', 'PP')\n",
      "(20000205, 'A8', 100, 93, '2024-02-12 18:13:00', '2024-02-14 11:24:06', 'PP')\n",
      "(20000206, 'A1', 25, 25, '2024-02-13 06:00:00', '2024-02-13 12:24:48', 'PP')\n",
      "(20000207, 'A2', 50, 49, '2024-02-16 14:42:00', '2024-02-20 15:55:00', 'PP')\n",
      "(20000208, 'A4', 100, 98, '2024-02-16 14:42:00', '2024-02-21 06:32:30', 'PP')\n",
      "(20000209, 'A5', 50, 45, '2024-02-16 14:42:00', '2024-02-20 17:10:42', 'PP')\n",
      "(20000210, 'A6', 100, 90, '2024-02-19 16:12:00', '2024-02-21 20:16:36', 'PP')\n",
      "(20000211, 'A7', 25, 25, '2024-02-20 06:46:00', '2024-02-22 11:41:12', 'PP')\n",
      "(20000212, 'A1', 25, 23, '2024-02-14 06:00:00', '2024-02-14 12:51:06', 'PP')\n",
      "(20000213, 'A2', 50, 49, '2024-02-20 06:46:00', '2024-02-21 21:22:06', 'PP')\n",
      "(20000214, 'A3', 50, 46, '2024-02-20 06:46:00', '2024-02-22 10:58:24', 'PP')\n",
      "(20000215, 'A4', 100, 100, '2024-02-20 06:46:00', '2024-02-22 21:18:42', 'PP')\n",
      "(20000216, 'A5', 50, 43, '2024-02-20 06:46:00', '2024-02-22 07:20:36', 'PP')\n",
      "(20000217, 'A6', 100, 89, '2024-02-20 11:33:00', '2024-02-22 14:28:48', 'PP')\n",
      "(20000218, 'A8', 100, 94, '2024-02-14 06:00:00', '2024-02-15 08:42:00', 'PP')\n",
      "(20000219, 'A1', 25, 23, '2024-02-15 06:00:00', '2024-02-15 13:55:18', 'PP')\n",
      "(20000220, 'A2', 50, 49, '2024-02-20 12:28:00', '2024-02-22 17:09:48', 'PP')\n",
      "(20000221, 'A3', 50, 47, '2024-02-20 12:28:00', '2024-02-23 06:35:12', 'PP')\n",
      "(20000222, 'A4', 100, 97, '2024-02-20 12:28:00', '2024-02-23 12:28:48', 'PP')\n",
      "(20000223, 'A6', 100, 95, '2024-02-20 12:28:00', '2024-02-22 19:35:06', 'PP')\n",
      "(20000224, 'A7', 25, 24, '2024-02-22 09:51:00', '2024-02-23 17:31:06', 'PP')\n",
      "(20000225, 'A8', 100, 93, '2024-02-15 06:00:00', '2024-02-16 09:14:36', 'PP')\n",
      "(20000226, 'A1', 25, 24, '2024-02-16 06:00:00', '2024-02-16 12:15:06', 'PP')\n",
      "(20000227, 'A3', 50, 50, '2024-02-22 09:51:00', '2024-02-23 20:59:48', 'PP')\n",
      "(20000228, 'A4', 100, 99, '2024-02-22 09:51:00', '2024-02-26 13:47:06', 'PP')\n",
      "(20000229, 'A5', 50, 44, '2024-02-22 09:51:00', '2024-02-23 18:56:12', 'PP')\n",
      "(20000230, 'A7', 25, 23, '2024-02-23 09:39:00', '2024-02-26 21:16:12', 'PP')\n",
      "(20000231, 'A8', 100, 94, '2024-02-16 06:00:00', '2024-02-19 15:26:00', 'PP')\n",
      "(20000232, 'A2', 50, 48, '2024-02-23 09:39:00', '2024-02-26 17:27:30', 'PP')\n",
      "(20000233, 'A3', 50, 49, '2024-02-23 09:39:00', '2024-02-27 07:45:00', 'PP')\n",
      "(20000234, 'A5', 50, 48, '2024-02-23 09:39:00', '2024-02-26 20:31:06', 'PP')\n",
      "(20000235, 'A6', 100, 91, '2024-02-23 19:37:54', '2024-02-28 08:58:36', 'PP')\n",
      "(20000236, 'A7', 25, 25, '2024-02-26 11:54:54', '2024-02-27 19:25:24', 'PP')\n",
      "(20000237, 'A8', 100, 94, '2024-02-19 06:00:00', '2024-02-20 12:42:12', 'PP')\n",
      "(20000238, 'A1', 25, 25, '2024-02-20 06:00:00', '2024-02-20 14:11:42', 'PP')\n",
      "(20000239, 'A2', 50, 48, '2024-02-26 11:54:54', '2024-02-28 06:34:36', 'PP')\n",
      "(20000240, 'A4', 100, 98, '2024-02-26 11:54:54', '2024-02-28 12:33:00', 'PP')\n",
      "(20000241, 'A6', 100, 89, '2024-02-26 11:54:54', '2024-02-28 14:53:06', 'PP')\n",
      "(20000242, 'A7', 25, 25, '2024-02-27 11:14:54', '2024-02-28 19:34:06', 'PP')\n",
      "(20000243, 'A8', 100, 90, '2024-02-20 06:00:00', '2024-02-21 09:20:24', 'PP')\n",
      "(20000244, 'A5', 50, 47, '2024-02-27 11:14:54', '2024-02-28 18:51:24', 'PP')\n",
      "(20000245, 'A1', 25, 23, '2024-02-21 06:00:00', '2024-02-21 17:03:12', 'PP')\n",
      "(20000246, 'A2', 50, 49, '2024-02-27 18:33:54', '2024-02-29 11:40:00', 'PP')\n",
      "(20000247, 'A3', 50, None, '2024-02-27 18:33:54', None, 'PP')\n",
      "(20000248, 'A4', 100, 97, '2024-02-27 18:33:54', '2024-02-29 20:45:24', 'PP')\n",
      "(20000249, 'A6', 100, None, '2024-02-27 18:33:54', None, 'PP')\n",
      "(20000250, 'A1', 25, 24, '2024-02-22 06:00:00', '2024-02-22 16:07:30', 'PP')\n",
      "(20000251, 'A2', 50, None, '2024-02-27 21:20:54', None, 'PP')\n",
      "(20000252, 'A3', 50, None, '2024-02-27 21:20:54', None, 'PP')\n",
      "(20000253, 'A4', 100, None, '2024-02-27 21:20:54', None, 'PP')\n",
      "(20000254, 'A5', 50, 48, '2024-02-27 21:20:54', '2024-02-29 17:52:18', 'PP')\n",
      "(20000255, 'A6', 100, None, '2024-02-29 10:24:54', None, 'PP')\n",
      "(20000256, 'A7', 25, None, '2024-02-29 18:32:54', None, 'PP')\n",
      "(20000257, 'A8', 100, 93, '2024-02-22 06:00:00', '2024-02-23 10:54:42', 'PP')\n",
      "(20000258, 'A3', 50, None, '2024-02-29 18:32:54', None, 'PP')\n",
      "(20000259, 'A5', 50, None, '2024-02-29 18:32:54', None, 'PP')\n",
      "(20000260, 'A7', 25, None, '2024-02-29 21:44:54', None, 'PP')\n",
      "(20000261, 'A8', 100, 89, '2024-02-23 06:00:00', '2024-02-26 07:35:24', 'PP')\n",
      "(20000262, 'A1', 25, 25, '2024-02-26 06:00:54', '2024-02-26 15:12:54', 'PP')\n",
      "(20000263, 'A2', 50, None, '2024-02-29 21:44:54', None, 'PP')\n",
      "(20000264, 'A3', 50, None, '2024-02-29 21:44:54', None, 'PP')\n",
      "(20000265, 'A4', 100, None, '2024-02-29 21:44:54', None, 'PP')\n",
      "(20000266, 'A5', 50, None, '2024-02-29 21:44:54', None, 'PP')\n",
      "(20000267, 'A6', 100, None, None, None, 'PP')\n",
      "(20000268, 'A7', 25, None, None, None, 'PP')\n",
      "(20000269, 'A8', 100, 89, '2024-02-26 06:00:54', '2024-02-27 09:39:24', 'PP')\n",
      "(20000270, 'A1', 25, 24, '2024-02-27 06:00:54', '2024-02-27 12:16:18', 'PP')\n",
      "(20000271, 'A2', 50, None, None, None, 'PP')\n",
      "(20000272, 'A3', 50, None, None, None, 'PP')\n",
      "(20000273, 'A4', 100, None, None, None, 'PP')\n",
      "(20000274, 'A5', 50, None, None, None, 'PP')\n",
      "(20000275, 'A6', 100, None, None, None, 'PP')\n",
      "(20000276, 'A2', 50, None, None, None, 'PP')\n",
      "(20000277, 'A3', 50, None, None, None, 'PP')\n",
      "(20000278, 'A4', 100, None, None, None, 'PP')\n",
      "(20000279, 'A5', 50, None, None, None, 'PP')\n",
      "(20000280, 'A6', 100, None, None, None, 'PP')\n",
      "(20000281, 'A7', 25, None, None, None, 'PP')\n",
      "(20000282, 'A8', 100, 92, '2024-02-28 06:00:54', '2024-02-29 13:39:00', 'PP')\n",
      "(20000283, 'A1', 25, 24, '2024-02-29 06:00:54', '2024-02-29 15:06:12', 'PP')\n",
      "(20000284, 'A2', 50, None, None, None, 'PP')\n",
      "(20000285, 'A4', 100, None, None, None, 'PP')\n",
      "(20000286, 'A7', 25, None, None, None, 'PP')\n",
      "(20000287, 'A8', 100, None, '2024-02-29 06:50:54', None, 'PP')\n",
      "\n",
      "--------------------------------------------------\n",
      "\n",
      "Inhalt der Tabelle: betriebsmittel\n",
      "['bmg', 'bezeichnung', 'knoten']\n",
      "('RTL', 'Rohteillager', 'a')\n",
      "('SAE', 'Zuschnitt', 'b')\n",
      "('DRH1', 'Drehen Nr. 1', 'c')\n",
      "('DRH2', 'Drehen Nr. 2', 'c')\n",
      "('FRA', 'Fräsen', 'd')\n",
      "('QPR', 'Qualitätsprüfung', 'e')\n",
      "('FTL', 'Fertigteillager', 'f')\n",
      "('HAE', 'Härteofen', 'h')\n",
      "\n",
      "--------------------------------------------------\n",
      "\n",
      "Inhalt der Tabelle: arbeitsplaene\n",
      "['id', 'nr', 'bmg', 'r_plan', 't_plan']\n",
      "('A1', '20', 'FRA', 15, 10)\n",
      "('A1', '30', 'QPR', 15, 3)\n",
      "('A2', '10', 'SAE', 10, 1.5)\n",
      "('A2', '20', 'DRH', 15, 5)\n",
      "('A2', '30', 'QPR', 12, 1)\n",
      "('A3', '10', 'SAE', 8, 2)\n",
      "('A3', '20', 'DRH', 10, 7)\n",
      "('A3', '30', 'QPR', 5, 1.25)\n",
      "('A4', '10', 'SAE', 10, 1)\n",
      "('A4', '20', 'DRH', 15, 4.6)\n",
      "('A4', '30', 'QPR', 10, 1)\n",
      "('A5', '10', 'DRH', 15, 8.9)\n",
      "('A5', '20', 'HAE', 30, 4)\n",
      "('A5', '30', 'QPR', 10, 1.5)\n",
      "('A6', '10', 'DRH', 10, 5)\n",
      "('A6', '20', 'FRA', 20, 3)\n",
      "('A6', '30', 'HAE', 10, 3)\n",
      "('A6', '40', 'QPR', 10, 1.5)\n",
      "('A7', '10', 'SAE', 10, 5)\n",
      "('A7', '20', 'DRH', 10, 15.5)\n",
      "('A7', '30', 'QPR', 15, 1)\n",
      "('A8', '10', 'SAE', 10, 2)\n",
      "('A8', '20', 'FRA', 20, 3)\n",
      "('A8', '30', 'HAE', 20, 2.5)\n",
      "('A8', '40', 'QPR', 5, 1.2)\n",
      "\n",
      "--------------------------------------------------\n",
      "\n",
      "Inhalt der Tabelle: ffz\n",
      "['id', 'speed', 'akkukapazitaet']\n",
      "('F1', 1, 2000)\n",
      "('F2', 1.5, 1500)\n",
      "('F3', 1.3, 1300)\n",
      "\n",
      "--------------------------------------------------\n",
      "\n",
      "Inhalt der Tabelle: FLF\n",
      "['Charge', 'bmg', 'ankunft', 'start_ruesten', 'start_bearbeitung', 'ende_bearbeitung', 'abtransport', 'anzahl_bauteile', 'ausschuss']\n",
      "('20000000', 'RTL', '2024-01-01 06:00:54', None, None, None, None, None, None)\n",
      "('20000001', 'RTL', '2024-01-01 06:00:54', None, None, None, None, None, None)\n",
      "('20000002', 'RTL', '2024-01-01 06:00:54', None, None, None, None, None, None)\n",
      "('20000003', 'RTL', '2024-01-01 06:00:54', None, None, None, None, None, None)\n",
      "('20000004', 'RTL', '2024-01-01 06:00:54', None, None, None, None, None, None)\n",
      "('20000005', 'RTL', '2024-01-01 06:00:54', None, None, None, None, None, None)\n",
      "('20000006', 'RTL', '2024-01-01 06:00:54', None, None, None, None, None, None)\n",
      "('20000007', 'RTL', '2024-01-01 06:00:54', None, None, None, None, None, None)\n",
      "('20000008', 'RTL', '2024-01-01 06:00:54', None, None, None, None, None, None)\n",
      "('20000009', 'RTL', '2024-01-01 06:00:54', None, None, None, None, None, None)\n",
      "('20000010', 'RTL', '2024-01-01 06:00:54', None, None, None, None, None, None)\n",
      "('20000011', 'RTL', '2024-01-01 06:00:54', None, None, None, None, None, None)\n",
      "('20000012', 'RTL', '2024-01-01 06:00:54', None, None, None, None, None, None)\n",
      "('20000013', 'RTL', '2024-01-01 06:00:54', None, None, None, None, None, None)\n",
      "('20000002', 'SAE', '2024-01-01 06:07:00', '2024-01-01 06:07:00', '2024-01-01 06:17:24', '2024-01-01 07:28:24', '2024-01-01 07:28:24', 50, 0)\n",
      "('20000003', 'SAE', '2024-01-01 06:13:54', '2024-01-01 07:28:54', '2024-01-01 07:39:54', '2024-01-01 09:02:54', '2024-01-01 09:03:54', 50, 0)\n",
      "('20000004', 'SAE', '2024-01-01 06:11:54', '2024-01-01 09:02:54', '2024-01-01 09:13:30', '2024-01-01 10:21:30', '2024-01-01 10:22:30', 50, 0)\n",
      "('20000000', 'FRA', '2024-01-01 06:08:00', '2024-01-01 06:08:00', '2024-01-01 06:22:24', '2024-01-01 10:25:24', '2024-01-01 10:26:24', 24, 1)\n",
      "('20000000', 'QPR', '2024-01-01 10:31:24', '2024-01-01 10:31:24', '2024-01-01 10:46:30', '2024-01-01 11:58:30', '2024-01-01 11:58:30', 24, 0)\n",
      "('20000000', 'FTL', '2024-01-01 12:03:30', None, None, None, None, None, None)\n",
      "('20000005', 'SAE', '2024-01-01 06:11:54', '2024-01-01 10:21:54', '2024-01-01 10:31:30', '2024-01-01 12:11:30', '2024-01-01 12:12:30', 100, 0)\n",
      "('20000006', 'SAE', '2024-01-01 06:17:54', '2024-01-01 12:11:54', '2024-01-01 12:21:30', '2024-01-01 14:08:30', '2024-01-01 14:09:30', 100, 0)\n",
      "('20000011', 'DRH2', '2024-01-01 06:19:54', '2024-01-01 06:19:54', '2024-01-01 06:29:24', '2024-01-01 14:33:24', '2024-01-01 14:33:24', 99, 1)\n",
      "('20000010', 'DRH1', '2024-01-01 06:19:54', '2024-01-01 06:19:54', '2024-01-01 06:29:48', '2024-01-01 14:54:48', '2024-01-01 14:54:48', 99, 1)\n",
      "('20000001', 'FRA', '2024-01-01 06:07:00', '2024-01-01 10:26:00', '2024-01-01 10:39:00', '2024-01-01 15:09:00', '2024-01-01 15:09:00', 25, 0)\n",
      "('20000007', 'SAE', '2024-01-01 06:15:54', '2024-01-01 14:08:54', '2024-01-01 14:19:30', '2024-01-01 15:52:30', '2024-01-01 15:53:30', 100, 0)\n",
      "('20000001', 'QPR', '2024-01-01 15:14:00', '2024-01-01 15:14:00', '2024-01-01 15:29:12', '2024-01-01 16:44:12', '2024-01-01 16:44:12', 25, 0)\n",
      "('20000001', 'FTL', '2024-01-01 16:49:12', None, None, None, None, None, None)\n",
      "('20000008', 'SAE', '2024-01-01 06:15:54', '2024-01-01 15:52:54', '2024-01-01 16:01:48', '2024-01-01 17:33:48', '2024-01-01 17:34:48', 100, 0)\n",
      "('20000011', 'FRA', '2024-01-01 14:38:24', '2024-01-01 15:09:24', '2024-01-01 15:30:18', '2024-01-01 20:21:18', '2024-01-01 20:22:18', 95, 4)\n",
      "('20000013', 'SAE', '2024-01-01 06:23:54', '2024-01-01 17:33:54', '2024-01-01 17:44:36', '2024-01-01 21:17:36', '2024-01-01 21:18:36', 100, 0)\n",
      "('20000019', 'RTL', '2024-01-02 06:00:00', None, None, None, None, None, None)\n",
      "('20000009', 'DRH2', '2024-01-01 06:22:54', '2024-01-01 14:33:54', '2024-01-01 14:44:30', '2024-01-02 06:23:30', '2024-01-02 06:24:30', 99, 1)\n",
      "('20000012', 'DRH1', '2024-01-01 06:28:54', '2024-01-01 15:39:54', '2024-01-01 15:50:12', '2024-01-02 07:13:12', '2024-01-02 07:14:12', 99, 1)\n",
      "('20000011', 'HAE', '2024-01-01 20:27:18', '2024-01-01 20:27:18', '2024-01-01 20:37:42', '2024-01-02 09:18:42', '2024-01-02 09:18:42', 92, 3)\n",
      "('20000019', 'SAE', '2024-01-02 06:06:00', '2024-01-02 06:06:00', '2024-01-02 06:15:12', '2024-01-02 09:20:12', '2024-01-02 09:21:12', 100, 0)\n",
      "('20000010', 'FRA', '2024-01-01 14:58:48', '2024-01-01 20:21:48', '2024-01-01 20:42:06', '2024-01-02 10:02:06', '2024-01-02 10:02:06', 97, 2)\n",
      "('20000002', 'DRH2', '2024-01-01 07:32:24', '2024-01-02 06:24:24', '2024-01-02 06:39:48', '2024-01-02 10:22:48', '2024-01-02 10:23:48', 50, 0)\n",
      "('20000011', 'QPR', '2024-01-02 09:22:42', '2024-01-02 09:22:42', '2024-01-02 09:32:36', '2024-01-02 11:42:36', '2024-01-02 12:25:36', 92, 0)\n",
      "('20000003', 'DRH1', '2024-01-01 09:07:54', '2024-01-02 07:13:54', '2024-01-02 07:29:24', '2024-01-02 11:51:24', '2024-01-02 11:53:24', 50, 0)\n",
      "('20000011', 'FTL', '2024-01-02 12:29:36', None, None, None, None, None, None)\n",
      "('20000002', 'QPR', '2024-01-02 10:27:48', '2024-01-02 11:42:48', '2024-01-02 11:53:42', '2024-01-02 12:43:42', '2024-01-02 12:43:42', 50, 0)\n",
      "('20000002', 'FTL', '2024-01-02 12:48:42', None, None, None, None, None, None)\n",
      "('20000003', 'QPR', '2024-01-02 11:57:24', '2024-01-02 12:44:24', '2024-01-02 12:56:06', '2024-01-02 13:47:06', '2024-01-02 13:49:06', 50, 0)\n",
      "('20000003', 'FTL', '2024-01-02 13:54:06', None, None, None, None, None, None)\n",
      "('20000004', 'DRH2', '2024-01-01 10:26:30', '2024-01-02 10:23:30', '2024-01-02 10:37:06', '2024-01-02 14:50:06', '2024-01-02 14:51:06', 50, 0)\n",
      "('20000014', 'RTL', '2024-01-02 14:51:00', None, None, None, None, None, None)\n",
      "('20000015', 'RTL', '2024-01-02 14:51:00', None, None, None, None, None, None)\n",
      "('20000016', 'RTL', '2024-01-02 14:51:00', None, None, None, None, None, None)\n",
      "('20000017', 'RTL', '2024-01-02 14:51:00', None, None, None, None, None, None)\n",
      "('20000010', 'HAE', '2024-01-02 10:07:06', '2024-01-02 10:07:06', '2024-01-02 10:17:42', '2024-01-02 15:08:42', '2024-01-02 15:09:42', 93, 4)\n",
      "('20000004', 'QPR', '2024-01-02 14:55:06', '2024-01-02 14:55:06', '2024-01-02 15:08:42', '2024-01-02 15:58:42', '2024-01-02 15:58:42', 50, 0)\n",
      "('20000004', 'FTL', '2024-01-02 16:03:42', None, None, None, None, None, None)\n",
      "('20000013', 'FRA', '2024-01-01 21:22:36', '2024-01-02 10:42:36', '2024-01-02 11:00:42', '2024-01-02 16:18:42', '2024-01-02 18:04:42', 93, 7)\n",
      "('20000014', 'SAE', '2024-01-02 14:59:00', '2024-01-02 14:59:00', '2024-01-02 15:08:48', '2024-01-02 16:25:48', '2024-01-02 16:26:48', 50, 0)\n",
      "('20000015', 'SAE', '2024-01-02 15:03:00', '2024-01-02 16:26:00', '2024-01-02 16:33:24', '2024-01-02 18:14:24', '2024-01-02 18:15:24', 50, 0)\n",
      "('20000010', 'QPR', '2024-01-02 15:13:42', '2024-01-02 15:59:42', '2024-01-02 16:09:06', '2024-01-02 18:42:06', '2024-01-02 18:43:06', 91, 2)\n",
      "('20000010', 'FTL', '2024-01-02 18:48:06', None, None, None, None, None, None)\n",
      "('20000016', 'SAE', '2024-01-02 14:58:00', '2024-01-02 18:15:00', '2024-01-02 18:24:30', '2024-01-02 20:13:30', '2024-01-02 20:14:30', 100, 0)\n",
      "('20000005', 'DRH1', '2024-01-01 12:16:30', '2024-01-02 12:36:30', '2024-01-02 12:51:12', '2024-01-02 20:40:12', '2024-01-02 20:40:12', 99, 1)\n",
      "('20000020', 'RTL', '2024-01-03 06:00:00', None, None, None, None, None, None)\n",
      "('20000013', 'HAE', '2024-01-02 18:10:42', '2024-01-02 18:10:42', '2024-01-02 18:31:42', '2024-01-03 06:17:42', '2024-01-03 06:20:42', 88, 5)\n",
      "('20000005', 'QPR', '2024-01-02 20:44:12', '2024-01-02 20:44:12', '2024-01-02 20:53:48', '2024-01-03 06:22:48', '2024-01-03 06:24:48', 99, 0)\n",
      "('20000009', 'FRA', '2024-01-02 06:28:30', '2024-01-02 16:19:30', '2024-01-02 16:40:36', '2024-01-03 06:29:36', '2024-01-03 06:29:36', 93, 6)\n",
      "('20000005', 'FTL', '2024-01-03 06:29:48', None, None, None, None, None, None)\n",
      "('20000013', 'QPR', '2024-01-03 06:24:42', '2024-01-03 06:24:42', '2024-01-03 06:29:24', '2024-01-03 08:26:24', '2024-01-03 08:26:24', 88, 0)\n",
      "('20000013', 'FTL', '2024-01-03 08:31:24', None, None, None, None, None, None)\n",
      "('20000006', 'DRH2', '2024-01-01 14:13:30', '2024-01-02 16:55:30', '2024-01-02 17:11:42', '2024-01-03 09:13:42', '2024-01-03 09:14:42', 98, 2)\n",
      "('20000006', 'QPR', '2024-01-03 09:18:42', '2024-01-03 09:18:42', '2024-01-03 09:28:36', '2024-01-03 11:07:36', '2024-01-03 11:07:36', 96, 2)\n",
      "('20000006', 'FTL', '2024-01-03 11:11:36', None, None, None, None, None, None)\n",
      "('20000009', 'HAE', '2024-01-03 06:34:36', '2024-01-03 06:34:36', '2024-01-03 06:44:00', '2024-01-03 11:17:00', '2024-01-03 11:20:00', 85, 8)\n",
      "('20000007', 'DRH1', '2024-01-01 15:57:30', '2024-01-02 20:40:30', '2024-01-02 20:55:30', '2024-01-03 12:36:30', '2024-01-03 12:38:30', 98, 2)\n",
      "('20000012', 'FRA', '2024-01-02 07:18:12', '2024-01-03 07:45:12', '2024-01-03 08:03:06', '2024-01-03 13:04:06', '2024-01-03 13:06:06', 95, 4)\n",
      "('20000009', 'QPR', '2024-01-03 11:24:00', '2024-01-03 11:24:00', '2024-01-03 11:34:30', '2024-01-03 13:51:30', '2024-01-03 13:52:30', 84, 1)\n",
      "('20000009', 'FTL', '2024-01-03 13:57:30', None, None, None, None, None, None)\n",
      "('20000007', 'QPR', '2024-01-03 12:43:30', '2024-01-03 13:51:30', '2024-01-03 14:01:48', '2024-01-03 15:28:48', '2024-01-03 15:30:48', 97, 1)\n",
      "('20000007', 'FTL', '2024-01-03 15:35:48', None, None, None, None, None, None)\n",
      "('20000008', 'DRH2', '2024-01-01 17:38:48', '2024-01-03 10:13:48', '2024-01-03 10:29:42', '2024-01-03 18:02:42', '2024-01-03 18:23:42', 99, 1)\n",
      "('20000018', 'RTL', '2024-01-03 18:03:00', None, None, None, None, None, None)\n",
      "('20000012', 'HAE', '2024-01-03 13:12:06', '2024-01-03 13:12:06', '2024-01-03 13:21:24', '2024-01-03 18:09:24', '2024-01-03 18:11:24', 90, 5)\n",
      "('20000019', 'FRA', '2024-01-02 09:25:12', '2024-01-03 13:04:12', '2024-01-03 13:22:54', '2024-01-03 18:50:54', '2024-01-03 18:52:54', 97, 3)\n",
      "('20000017', 'DRH1', '2024-01-02 15:02:00', '2024-01-03 13:22:00', '2024-01-03 13:36:30', '2024-01-03 20:39:30', '2024-01-03 20:40:30', 50, 0)\n",
      "('20000021', 'RTL', '2024-01-03 20:40:00', None, None, None, None, None, None)\n",
      "('20000022', 'RTL', '2024-01-03 20:40:00', None, None, None, None, None, None)\n",
      "('20000012', 'QPR', '2024-01-03 18:15:24', '2024-01-03 18:15:24', '2024-01-03 18:25:12', '2024-01-03 20:54:12', '2024-01-04 06:02:00', 90, 0)\n",
      "('20000025', 'RTL', '2024-01-04 06:00:00', None, None, None, None, None, None)\n",
      "('20000032', 'RTL', '2024-01-04 06:00:00', None, None, None, None, None, None)\n",
      "('20000012', 'FTL', '2024-01-04 06:07:00', None, None, None, None, None, None)\n",
      "('20000021', 'SAE', '2024-01-03 20:47:00', '2024-01-03 20:47:00', '2024-01-03 20:56:06', '2024-01-04 06:21:06', '2024-01-04 06:21:06', 50, 0)\n",
      "('20000014', 'DRH2', '2024-01-02 16:30:48', '2024-01-03 18:02:48', '2024-01-03 18:18:42', '2024-01-04 06:27:42', '2024-01-04 06:27:42', 50, 0)\n",
      "('20000008', 'QPR', '2024-01-03 18:28:42', '2024-01-03 20:54:42', '2024-01-03 21:04:18', '2024-01-04 06:41:18', '2024-01-04 06:41:18', 98, 1)\n",
      "('20000008', 'FTL', '2024-01-04 06:46:18', None, None, None, None, None, None)\n",
      "('20000020', 'FRA', '2024-01-03 06:07:00', '2024-01-03 18:51:00', '2024-01-03 19:05:30', '2024-01-04 07:22:30', '2024-01-04 07:25:30', 25, 0)\n",
      "('20000014', 'QPR', '2024-01-04 06:32:42', '2024-01-04 06:41:42', '2024-01-04 06:52:42', '2024-01-04 07:40:42', '2024-01-04 07:40:42', 50, 0)\n",
      "('20000014', 'FTL', '2024-01-04 07:45:42', None, None, None, None, None, None)\n",
      "('20000020', 'QPR', '2024-01-04 07:30:30', '2024-01-04 07:41:30', '2024-01-04 07:57:00', '2024-01-04 09:12:00', '2024-01-04 10:28:00', 24, 1)\n",
      "('20000019', 'HAE', '2024-01-03 18:58:54', '2024-01-03 20:28:54', '2024-01-03 20:48:36', '2024-01-04 09:16:36', '2024-01-04 09:18:36', 96, 1)\n",
      "('20000032', 'SAE', '2024-01-04 06:14:00', '2024-01-04 06:22:00', '2024-01-04 06:32:24', '2024-01-04 10:17:24', '2024-01-04 10:19:24', 98, 2)\n",
      "('20000015', 'DRH1', '2024-01-02 18:19:24', '2024-01-03 20:40:24', '2024-01-03 20:50:54', '2024-01-04 10:17:54', '2024-01-04 10:19:54', 48, 2)\n",
      "('20000023', 'RTL', '2024-01-04 10:17:54', None, None, None, None, None, None)\n",
      "('20000020', 'FTL', '2024-01-04 10:33:00', None, None, None, None, None, None)\n",
      "('20000019', 'QPR', '2024-01-04 09:22:36', '2024-01-04 09:22:36', '2024-01-04 09:27:18', '2024-01-04 11:16:18', '2024-01-04 11:16:18', 95, 1)\n",
      "('20000019', 'FTL', '2024-01-04 11:20:18', None, None, None, None, None, None)\n",
      "('20000025', 'FRA', '2024-01-04 06:08:00', '2024-01-04 07:23:00', '2024-01-04 07:38:24', '2024-01-04 11:29:24', '2024-01-04 11:30:24', 24, 1)\n",
      "('20000015', 'QPR', '2024-01-04 10:23:54', '2024-01-04 11:16:54', '2024-01-04 11:22:42', '2024-01-04 12:30:42', '2024-01-04 12:30:42', 48, 0)\n",
      "('20000015', 'FTL', '2024-01-04 12:35:42', None, None, None, None, None, None)\n",
      "('20000017', 'HAE', '2024-01-03 20:45:30', '2024-01-04 09:17:30', '2024-01-04 09:51:30', '2024-01-04 13:05:30', '2024-01-04 13:08:30', 49, 1)\n",
      "('20000025', 'QPR', '2024-01-04 11:35:24', '2024-01-04 12:31:24', '2024-01-04 12:45:42', '2024-01-04 14:01:42', '2024-01-04 14:01:42', 24, 0)\n",
      "('20000025', 'FTL', '2024-01-04 14:06:42', None, None, None, None, None, None)\n",
      "('20000016', 'DRH2', '2024-01-02 20:18:30', '2024-01-04 07:28:30', '2024-01-04 07:43:00', '2024-01-04 15:06:00', '2024-01-04 15:09:00', 99, 1)\n",
      "('20000024', 'RTL', '2024-01-04 15:06:54', None, None, None, None, None, None)\n",
      "('20000026', 'RTL', '2024-01-04 15:06:54', None, None, None, None, None, None)\n",
      "('20000027', 'RTL', '2024-01-04 15:06:54', None, None, None, None, None, None)\n",
      "('20000028', 'RTL', '2024-01-04 15:06:54', None, None, None, None, None, None)\n",
      "('20000029', 'RTL', '2024-01-04 15:06:54', None, None, None, None, None, None)\n",
      "('20000017', 'QPR', '2024-01-04 13:12:30', '2024-01-04 14:02:30', '2024-01-04 14:12:36', '2024-01-04 15:38:36', '2024-01-04 15:39:36', 49, 0)\n",
      "('20000017', 'FTL', '2024-01-04 15:43:36', None, None, None, None, None, None)\n",
      "('20000024', 'SAE', '2024-01-04 15:13:54', '2024-01-04 15:13:54', '2024-01-04 15:25:12', '2024-01-04 17:24:12', '2024-01-04 17:24:12', 25, 0)\n",
      "('20000032', 'FRA', '2024-01-04 10:23:24', '2024-01-04 12:10:24', '2024-01-04 12:32:48', '2024-01-04 17:24:48', '2024-01-04 17:30:48', 95, 3)\n",
      "('20000016', 'QPR', '2024-01-04 15:14:00', '2024-01-04 15:39:00', '2024-01-04 15:48:48', '2024-01-04 17:40:48', '2024-01-04 17:41:48', 98, 1)\n",
      "('20000016', 'FTL', '2024-01-04 17:46:48', None, None, None, None, None, None)\n",
      "('20000026', 'SAE', '2024-01-04 15:17:54', '2024-01-04 17:54:54', '2024-01-04 18:05:00', '2024-01-04 19:33:00', '2024-01-04 19:34:00', 49, 1)\n",
      "('20000018', 'DRH1', '2024-01-03 18:10:00', '2024-01-04 11:02:54', '2024-01-04 11:12:30', '2024-01-04 19:54:30', '2024-01-04 19:54:30', 96, 4)\n",
      "('20000027', 'SAE', '2024-01-04 15:20:54', '2024-01-04 19:33:54', '2024-01-04 19:42:30', '2024-01-04 21:33:30', '2024-01-04 21:34:30', 50, 0)\n",
      "('20000032', 'HAE', '2024-01-04 17:35:48', '2024-01-04 17:35:48', '2024-01-04 17:55:24', '2024-01-04 21:53:24', '2024-01-04 21:54:24', 92, 3)\n",
      "('20000033', 'RTL', '2024-01-05 06:00:54', None, None, None, None, None, None)\n",
      "('20000038', 'RTL', '2024-01-05 06:00:54', None, None, None, None, None, None)\n",
      "('20000022', 'DRH2', '2024-01-03 20:52:00', '2024-01-04 15:06:54', '2024-01-04 15:20:42', '2024-01-05 07:23:42', '2024-01-05 07:24:42', 50, 0)\n",
      "('20000028', 'SAE', '2024-01-04 15:13:54', '2024-01-04 21:33:54', '2024-01-04 21:43:12', '2024-01-05 07:26:12', '2024-01-05 07:27:12', 100, 0)\n",
      "('20000032', 'QPR', '2024-01-04 21:58:24', '2024-01-05 06:01:00', '2024-01-05 06:05:54', '2024-01-05 07:47:54', '2024-01-05 07:49:54', 91, 1)\n",
      "('20000032', 'FTL', '2024-01-05 07:54:54', None, None, None, None, None, None)\n",
      "('20000018', 'FRA', '2024-01-04 19:59:30', '2024-01-04 19:59:30', '2024-01-04 20:19:54', '2024-01-05 09:24:54', '2024-01-05 09:26:54', 93, 3)\n",
      "('20000038', 'SAE', '2024-01-05 06:07:00', '2024-01-05 07:27:00', '2024-01-05 07:37:36', '2024-01-05 10:41:36', '2024-01-05 10:43:36', 97, 3)\n",
      "('20000021', 'DRH1', '2024-01-04 06:25:06', '2024-01-04 20:40:06', '2024-01-04 20:50:24', '2024-01-05 10:50:24', '2024-01-05 10:52:24', 50, 0)\n",
      "('20000022', 'HAE', '2024-01-05 07:28:42', '2024-01-05 07:28:42', '2024-01-05 07:57:42', '2024-01-05 11:06:42', '2024-01-05 11:06:42', 49, 1)\n",
      "('20000021', 'QPR', '2024-01-05 10:57:24', '2024-01-05 10:57:24', '2024-01-05 11:02:00', '2024-01-05 12:06:00', '2024-01-05 12:06:00', 49, 1)\n",
      "('20000021', 'FTL', '2024-01-05 12:11:00', None, None, None, None, None, None)\n",
      "('20000022', 'QPR', '2024-01-05 11:10:42', '2024-01-05 12:06:42', '2024-01-05 12:16:24', '2024-01-05 13:31:24', '2024-01-05 13:31:24', 49, 0)\n",
      "('20000022', 'FTL', '2024-01-05 13:35:24', None, None, None, None, None, None)\n",
      "('20000033', 'FRA', '2024-01-05 06:08:00', '2024-01-05 09:25:00', '2024-01-05 09:40:48', '2024-01-05 14:00:48', '2024-01-05 14:03:48', 23, 2)\n",
      "('20000033', 'QPR', '2024-01-05 14:08:48', '2024-01-05 14:08:48', '2024-01-05 14:24:06', '2024-01-05 15:33:06', '2024-01-05 15:33:06', 23, 0)\n",
      "('20000033', 'FTL', '2024-01-05 15:38:06', None, None, None, None, None, None)\n",
      "('20000023', 'DRH2', '2024-01-04 10:27:54', '2024-01-05 08:23:54', '2024-01-05 08:34:12', '2024-01-05 16:51:12', '2024-01-05 16:54:12', 100, 0)\n",
      "('20000030', 'RTL', '2024-01-05 16:51:54', None, None, None, None, None, None)\n",
      "('20000018', 'HAE', '2024-01-05 09:31:54', '2024-01-05 12:36:54', '2024-01-05 12:46:42', '2024-01-05 17:41:42', '2024-01-05 17:43:42', 87, 6)\n",
      "('20000029', 'DRH1', '2024-01-04 15:17:54', '2024-01-05 10:50:54', '2024-01-05 11:06:24', '2024-01-05 19:03:24', '2024-01-05 19:05:24', 50, 0)\n",
      "('20000038', 'FRA', '2024-01-05 10:47:36', '2024-01-05 14:41:36', '2024-01-05 15:01:54', '2024-01-05 19:37:54', '2024-01-05 19:40:54', 93, 4)\n",
      "('20000018', 'QPR', '2024-01-05 17:47:42', '2024-01-05 17:47:42', '2024-01-05 17:57:12', '2024-01-05 20:13:12', '2024-01-08 06:02:00', 87, 0)\n",
      "('20000045', 'RTL', '2024-01-08 06:00:54', None, None, None, None, None, None)\n",
      "('20000018', 'FTL', '2024-01-08 06:07:00', None, None, None, None, None, None)\n",
      "('20000029', 'HAE', '2024-01-05 19:10:24', '2024-01-05 19:10:24', '2024-01-05 19:39:30', '2024-01-08 07:01:30', '2024-01-08 07:03:30', 47, 3)\n",
      "('20000029', 'QPR', '2024-01-08 07:07:30', '2024-01-08 07:07:30', '2024-01-08 07:16:54', '2024-01-08 08:29:54', '2024-01-08 08:29:54', 45, 2)\n",
      "('20000026', 'DRH1', '2024-01-04 19:38:00', '2024-01-05 19:49:00', '2024-01-05 20:03:18', '2024-01-08 08:30:18', '2024-01-08 08:33:18', 49, 0)\n",
      "('20000031', 'RTL', '2024-01-08 08:30:54', None, None, None, None, None, None)\n",
      "('20000034', 'RTL', '2024-01-08 08:30:54', None, None, None, None, None, None)\n",
      "('20000035', 'RTL', '2024-01-08 08:30:54', None, None, None, None, None, None)\n",
      "('20000036', 'RTL', '2024-01-08 08:30:54', None, None, None, None, None, None)\n",
      "('20000029', 'FTL', '2024-01-08 08:34:54', None, None, None, None, None, None)\n",
      "('20000024', 'DRH2', '2024-01-04 17:28:12', '2024-01-05 17:51:12', '2024-01-05 18:01:06', '2024-01-08 09:04:06', '2024-01-08 09:04:06', 25, 0)\n",
      "('20000037', 'RTL', '2024-01-08 09:04:54', None, None, None, None, None, None)\n",
      "('20000039', 'RTL', '2024-01-08 09:04:54', None, None, None, None, None, None)\n",
      "('20000040', 'RTL', '2024-01-08 09:04:54', None, None, None, None, None, None)\n",
      "('20000041', 'RTL', '2024-01-08 09:04:54', None, None, None, None, None, None)\n",
      "('20000042', 'RTL', '2024-01-08 09:04:54', None, None, None, None, None, None)\n",
      "('20000045', 'SAE', '2024-01-08 06:08:00', '2024-01-08 06:08:00', '2024-01-08 06:19:00', '2024-01-08 09:15:00', '2024-01-08 09:15:00', 97, 3)\n",
      "('20000023', 'FRA', '2024-01-05 16:59:12', '2024-01-05 20:18:12', '2024-01-05 20:38:12', '2024-01-08 09:18:12', '2024-01-08 09:18:12', 99, 1)\n",
      "('20000026', 'QPR', '2024-01-08 08:38:18', '2024-01-08 08:38:18', '2024-01-08 08:51:18', '2024-01-08 09:42:18', '2024-01-08 09:44:18', 49, 0)\n",
      "('20000026', 'FTL', '2024-01-08 09:49:18', None, None, None, None, None, None)\n",
      "('20000024', 'QPR', '2024-01-08 09:09:06', '2024-01-08 09:43:06', '2024-01-08 09:59:18', '2024-01-08 10:28:18', '2024-01-08 13:12:18', 25, 0)\n",
      "('20000038', 'HAE', '2024-01-05 19:46:54', '2024-01-08 07:01:54', '2024-01-08 07:22:12', '2024-01-08 11:39:12', '2024-01-08 11:41:12', 88, 5)\n",
      "('20000031', 'SAE', '2024-01-08 08:44:54', '2024-01-08 09:15:54', '2024-01-08 09:26:30', '2024-01-08 11:44:30', '2024-01-08 11:46:30', 25, 0)\n",
      "('20000034', 'SAE', '2024-01-08 08:37:54', '2024-01-08 11:44:54', '2024-01-08 11:54:24', '2024-01-08 13:12:24', '2024-01-08 13:13:24', 49, 1)\n",
      "('20000024', 'FTL', '2024-01-08 13:16:18', None, None, None, None, None, None)\n",
      "('20000038', 'QPR', '2024-01-08 11:45:12', '2024-01-08 11:45:12', '2024-01-08 11:50:36', '2024-01-08 13:30:36', '2024-01-08 13:31:36', 85, 3)\n",
      "('20000038', 'FTL', '2024-01-08 13:36:36', None, None, None, None, None, None)\n",
      "('20000027', 'DRH1', '2024-01-04 21:38:30', '2024-01-08 08:30:30', '2024-01-08 08:38:54', '2024-01-08 13:46:54', '2024-01-08 13:49:54', 49, 1)\n",
      "('20000045', 'FRA', '2024-01-08 09:19:00', '2024-01-08 09:19:00', '2024-01-08 09:37:36', '2024-01-08 14:47:36', '2024-01-08 14:49:36', 96, 1)\n",
      "('20000027', 'QPR', '2024-01-08 13:54:54', '2024-01-08 13:54:54', '2024-01-08 14:00:24', '2024-01-08 15:07:24', '2024-01-08 17:37:24', 49, 0)\n",
      "('20000035', 'SAE', '2024-01-08 08:41:54', '2024-01-08 13:42:54', '2024-01-08 13:52:54', '2024-01-08 15:28:54', '2024-01-08 15:31:54', 100, 0)\n",
      "('20000023', 'HAE', '2024-01-08 09:23:12', '2024-01-08 11:40:12', '2024-01-08 11:49:18', '2024-01-08 16:35:18', '2024-01-08 16:37:18', 93, 6)\n",
      "('20000028', 'DRH2', '2024-01-05 07:31:12', '2024-01-08 10:04:12', '2024-01-08 10:19:00', '2024-01-08 17:19:00', '2024-01-08 17:20:00', 100, 0)\n",
      "('20000027', 'FTL', '2024-01-08 17:42:24', None, None, None, None, None, None)\n",
      "('20000037', 'SAE', '2024-01-08 09:09:54', '2024-01-08 15:28:54', '2024-01-08 15:38:54', '2024-01-08 17:44:54', '2024-01-08 19:46:54', 25, 0)\n",
      "('20000039', 'SAE', '2024-01-08 09:13:54', '2024-01-08 17:44:54', '2024-01-08 17:54:24', '2024-01-08 19:06:24', '2024-01-08 19:51:24', 50, 0)\n",
      "('20000023', 'QPR', '2024-01-08 16:41:18', '2024-01-08 16:41:18', '2024-01-08 16:50:54', '2024-01-08 19:23:54', '2024-01-08 19:25:54', 93, 0)\n",
      "('20000023', 'FTL', '2024-01-08 19:30:54', None, None, None, None, None, None)\n",
      "('20000040', 'SAE', '2024-01-08 10:25:54', '2024-01-08 19:06:54', '2024-01-08 19:15:48', '2024-01-08 21:01:48', '2024-01-08 21:02:48', 50, 0)\n",
      "('20000028', 'QPR', '2024-01-08 17:24:00', '2024-01-08 19:24:00', '2024-01-08 19:34:42', '2024-01-08 21:03:42', '2024-01-08 21:05:42', 99, 1)\n",
      "('20000028', 'FTL', '2024-01-08 21:10:42', None, None, None, None, None, None)\n",
      "('20000046', 'RTL', '2024-01-09 06:00:54', None, None, None, None, None, None)\n",
      "('20000030', 'DRH1', '2024-01-05 17:05:54', '2024-01-08 13:46:54', '2024-01-08 13:56:42', '2024-01-09 06:23:42', '2024-01-09 06:24:42', 97, 3)\n",
      "('20000045', 'HAE', '2024-01-08 14:55:36', '2024-01-08 18:05:36', '2024-01-08 18:25:36', '2024-01-09 06:31:36', '2024-01-09 06:34:36', 91, 5)\n",
      "('20000041', 'SAE', '2024-01-08 10:29:54', '2024-01-08 21:01:54', '2024-01-08 21:11:48', '2024-01-09 06:55:48', '2024-01-09 06:56:48', 100, 0)\n",
      "('20000045', 'QPR', '2024-01-09 06:38:36', '2024-01-09 06:38:36', '2024-01-09 06:43:00', '2024-01-09 08:32:00', '2024-01-09 08:32:00', 91, 0)\n",
      "('20000045', 'FTL', '2024-01-09 08:37:00', None, None, None, None, None, None)\n",
      "('20000036', 'DRH2', '2024-01-08 08:49:54', '2024-01-08 18:19:54', '2024-01-08 18:35:48', '2024-01-09 10:40:48', '2024-01-09 10:40:48', 50, 0)\n",
      "('20000046', 'FRA', '2024-01-09 06:06:00', '2024-01-09 06:46:00', '2024-01-09 06:59:48', '2024-01-09 11:20:48', '2024-01-09 11:22:48', 25, 0)\n",
      "('20000046', 'QPR', '2024-01-09 11:27:48', '2024-01-09 11:27:48', '2024-01-09 11:41:36', '2024-01-09 12:52:36', '2024-01-09 12:52:36', 25, 0)\n",
      "('20000046', 'FTL', '2024-01-09 12:57:36', None, None, None, None, None, None)\n",
      "('20000036', 'HAE', '2024-01-09 10:45:48', '2024-01-09 10:45:48', '2024-01-09 11:13:18', '2024-01-09 14:31:18', '2024-01-09 14:34:18', 48, 2)\n",
      "('20000042', 'DRH1', '2024-01-08 09:16:54', '2024-01-09 07:08:54', '2024-01-09 07:26:06', '2024-01-09 14:41:06', '2024-01-09 14:43:06', 50, 0)\n",
      "('20000036', 'QPR', '2024-01-09 14:38:18', '2024-01-09 14:38:18', '2024-01-09 14:48:00', '2024-01-09 16:03:00', '2024-01-09 16:04:00', 46, 2)\n",
      "('20000036', 'FTL', '2024-01-09 16:09:00', None, None, None, None, None, None)\n",
      "('20000030', 'FRA', '2024-01-09 06:28:42', '2024-01-09 11:21:42', '2024-01-09 11:40:06', '2024-01-09 16:30:06', '2024-01-09 16:33:06', 95, 2)\n",
      "('20000031', 'DRH2', '2024-01-08 11:50:30', '2024-01-09 10:41:30', '2024-01-09 10:50:42', '2024-01-09 16:42:42', '2024-01-09 16:44:42', 25, 0)\n",
      "('20000031', 'QPR', '2024-01-09 16:49:42', '2024-01-09 16:49:42', '2024-01-09 17:06:24', '2024-01-09 17:31:24', '2024-01-09 19:26:24', 25, 0)\n",
      "('20000042', 'HAE', '2024-01-09 14:48:06', '2024-01-09 14:48:06', '2024-01-09 15:19:36', '2024-01-09 18:43:36', '2024-01-09 18:45:36', 48, 2)\n",
      "('20000034', 'DRH1', '2024-01-08 13:17:24', '2024-01-09 14:41:24', '2024-01-09 14:55:24', '2024-01-09 19:00:24', '2024-01-09 19:01:24', 48, 1)\n",
      "('20000031', 'FTL', '2024-01-09 19:31:24', None, None, None, None, None, None)\n",
      "('20000042', 'QPR', '2024-01-09 18:49:36', '2024-01-09 18:49:36', '2024-01-09 18:59:24', '2024-01-09 20:14:24', '2024-01-09 20:14:24', 47, 1)\n",
      "('20000042', 'FTL', '2024-01-09 20:19:24', None, None, None, None, None, None)\n",
      "('20000034', 'QPR', '2024-01-09 19:05:24', '2024-01-09 20:15:24', '2024-01-09 20:26:42', '2024-01-09 21:14:42', '2024-01-09 21:16:42', 48, 0)\n",
      "('20000034', 'FTL', '2024-01-09 21:21:42', None, None, None, None, None, None)\n",
      "('20000050', 'RTL', '2024-01-10 06:00:54', None, None, None, None, None, None)\n",
      "('20000055', 'RTL', '2024-01-10 06:00:54', None, None, None, None, None, None)\n",
      "('20000030', 'HAE', '2024-01-09 16:39:06', '2024-01-09 18:44:06', '2024-01-09 18:53:36', '2024-01-10 07:23:36', '2024-01-10 07:25:36', 91, 4)\n",
      "('20000035', 'DRH2', '2024-01-08 15:35:54', '2024-01-09 17:42:54', '2024-01-09 17:56:54', '2024-01-10 09:37:54', '2024-01-10 09:39:54', 100, 0)\n",
      "('20000043', 'RTL', '2024-01-10 09:37:54', None, None, None, None, None, None)\n",
      "('20000055', 'SAE', '2024-01-10 06:15:54', '2024-01-10 06:15:54', '2024-01-10 06:26:54', '2024-01-10 09:41:54', '2024-01-10 09:45:54', 100, 0)\n",
      "('20000030', 'QPR', '2024-01-10 07:29:36', '2024-01-10 07:29:36', '2024-01-10 07:40:12', '2024-01-10 10:15:12', '2024-01-10 10:15:12', 91, 0)\n",
      "('20000030', 'FTL', '2024-01-10 10:20:12', None, None, None, None, None, None)\n",
      "('20000050', 'FRA', '2024-01-10 06:10:00', '2024-01-10 06:10:00', '2024-01-10 06:27:12', '2024-01-10 10:26:12', '2024-01-10 10:26:12', 23, 2)\n",
      "('20000037', 'DRH1', '2024-01-08 19:50:54', '2024-01-09 19:45:54', '2024-01-09 19:57:06', '2024-01-10 10:47:06', '2024-01-10 12:14:06', 25, 0)\n",
      "('20000044', 'RTL', '2024-01-10 10:47:54', None, None, None, None, None, None)\n",
      "('20000047', 'RTL', '2024-01-10 10:47:54', None, None, None, None, None, None)\n",
      "('20000048', 'RTL', '2024-01-10 10:47:54', None, None, None, None, None, None)\n",
      "('20000049', 'RTL', '2024-01-10 10:47:54', None, None, None, None, None, None)\n",
      "('20000035', 'QPR', '2024-01-10 09:44:54', '2024-01-10 10:15:54', '2024-01-10 10:25:42', '2024-01-10 11:51:42', '2024-01-10 11:52:42', 99, 1)\n",
      "('20000035', 'FTL', '2024-01-10 11:56:42', None, None, None, None, None, None)\n",
      "('20000050', 'QPR', '2024-01-10 10:31:12', '2024-01-10 11:52:12', '2024-01-10 12:05:42', '2024-01-10 13:15:42', '2024-01-10 13:15:42', 23, 0)\n",
      "('20000050', 'FTL', '2024-01-10 13:20:42', None, None, None, None, None, None)\n",
      "('20000044', 'SAE', '2024-01-10 10:55:54', '2024-01-10 11:25:54', '2024-01-10 11:36:18', '2024-01-10 13:33:18', '2024-01-10 14:54:18', 25, 0)\n",
      "('20000037', 'QPR', '2024-01-10 12:18:06', '2024-01-10 13:16:06', '2024-01-10 13:29:36', '2024-01-10 13:56:36', '2024-01-10 13:58:36', 25, 0)\n",
      "('20000039', 'DRH2', '2024-01-08 19:55:24', '2024-01-10 09:38:24', '2024-01-10 09:53:48', '2024-01-10 14:00:48', '2024-01-10 14:57:48', 50, 0)\n",
      "('20000051', 'RTL', '2024-01-10 14:00:54', None, None, None, None, None, None)\n",
      "('20000052', 'RTL', '2024-01-10 14:00:54', None, None, None, None, None, None)\n",
      "('20000037', 'FTL', '2024-01-10 14:03:36', None, None, None, None, None, None)\n",
      "('20000047', 'SAE', '2024-01-10 10:59:54', '2024-01-10 13:33:54', '2024-01-10 13:43:48', '2024-01-10 15:01:48', '2024-01-10 16:47:48', 49, 1)\n",
      "('20000039', 'QPR', '2024-01-10 15:02:48', '2024-01-10 15:02:48', '2024-01-10 15:14:54', '2024-01-10 16:06:54', '2024-01-10 16:06:54', 49, 1)\n",
      "('20000039', 'FTL', '2024-01-10 16:11:54', None, None, None, None, None, None)\n",
      "('20000055', 'FRA', '2024-01-10 09:49:54', '2024-01-10 11:06:54', '2024-01-10 11:27:36', '2024-01-10 16:16:36', '2024-01-10 16:19:36', 99, 1)\n",
      "('20000048', 'SAE', '2024-01-10 10:54:54', '2024-01-10 15:01:54', '2024-01-10 15:09:36', '2024-01-10 16:50:36', '2024-01-10 16:52:36', 49, 1)\n",
      "('20000040', 'DRH1', '2024-01-08 21:06:48', '2024-01-10 10:47:48', '2024-01-10 10:57:54', '2024-01-10 17:08:54', '2024-01-10 17:08:54', 48, 2)\n",
      "('20000040', 'QPR', '2024-01-10 17:13:54', '2024-01-10 17:13:54', '2024-01-10 17:19:12', '2024-01-10 18:25:12', '2024-01-10 18:25:12', 48, 0)\n",
      "('20000040', 'FTL', '2024-01-10 18:30:12', None, None, None, None, None, None)\n",
      "('20000051', 'SAE', '2024-01-10 14:07:54', '2024-01-10 16:50:54', '2024-01-10 17:01:24', '2024-01-10 18:33:24', '2024-01-10 18:34:24', 100, 0)\n",
      "('20000055', 'HAE', '2024-01-10 16:25:36', '2024-01-10 16:25:36', '2024-01-10 16:46:36', '2024-01-10 21:04:36', '2024-01-10 21:05:36', 95, 4)\n",
      "('20000062', 'RTL', '2024-01-11 06:00:54', None, None, None, None, None, None)\n",
      "('20000055', 'QPR', '2024-01-10 21:09:36', '2024-01-10 21:09:36', '2024-01-10 21:14:36', '2024-01-11 07:21:36', '2024-01-11 07:23:36', 94, 1)\n",
      "('20000055', 'FTL', '2024-01-11 07:28:36', None, None, None, None, None, None)\n",
      "('20000041', 'DRH2', '2024-01-09 07:00:48', '2024-01-10 15:01:48', '2024-01-10 15:19:18', '2024-01-11 07:48:18', '2024-01-11 07:49:18', 100, 0)\n",
      "('20000062', 'SAE', '2024-01-11 06:07:00', '2024-01-11 06:07:00', '2024-01-11 06:16:18', '2024-01-11 09:16:18', '2024-01-11 09:18:18', 100, 0)\n",
      "('20000043', 'DRH1', '2024-01-10 09:44:54', '2024-01-10 17:08:54', '2024-01-10 17:18:42', '2024-01-11 09:28:42', '2024-01-11 09:29:42', 98, 2)\n",
      "('20000041', 'QPR', '2024-01-11 07:53:18', '2024-01-11 07:53:18', '2024-01-11 08:01:54', '2024-01-11 09:51:54', '2024-01-11 09:53:54', 99, 1)\n",
      "('20000041', 'FTL', '2024-01-11 09:58:54', None, None, None, None, None, None)\n",
      "('20000062', 'FRA', '2024-01-11 09:22:18', '2024-01-11 09:22:18', '2024-01-11 09:41:06', '2024-01-11 14:33:06', '2024-01-11 14:33:06', 97, 3)\n",
      "('20000052', 'DRH1', '2024-01-10 14:11:54', '2024-01-11 10:13:54', '2024-01-11 10:28:30', '2024-01-11 18:00:30', '2024-01-11 18:01:30', 50, 0)\n",
      "('20000049', 'DRH2', '2024-01-10 10:58:54', '2024-01-11 09:53:54', '2024-01-11 10:04:36', '2024-01-11 18:48:36', '2024-01-11 20:07:36', 100, 0)\n",
      "('20000053', 'RTL', '2024-01-11 18:48:54', None, None, None, None, None, None)\n",
      "('20000062', 'HAE', '2024-01-11 14:38:06', '2024-01-11 14:38:06', '2024-01-11 14:57:30', '2024-01-11 18:52:30', '2024-01-11 18:55:30', 90, 7)\n",
      "('20000043', 'FRA', '2024-01-11 09:33:42', '2024-01-11 14:33:42', '2024-01-11 14:55:30', '2024-01-11 20:18:30', '2024-01-11 20:20:30', 95, 3)\n",
      "('20000062', 'QPR', '2024-01-11 18:59:30', '2024-01-11 18:59:30', '2024-01-11 19:04:06', '2024-01-11 20:47:06', '2024-01-12 06:02:00', 90, 0)\n",
      "('20000063', 'RTL', '2024-01-12 06:00:54', None, None, None, None, None, None)\n",
      "('20000068', 'RTL', '2024-01-12 06:00:54', None, None, None, None, None, None)\n",
      "('20000062', 'FTL', '2024-01-12 06:07:00', None, None, None, None, None, None)\n",
      "('20000047', 'DRH2', '2024-01-10 16:51:48', '2024-01-11 19:48:48', '2024-01-11 20:04:42', '2024-01-12 07:53:42', '2024-01-12 07:54:42', 49, 0)\n",
      "('20000054', 'RTL', '2024-01-12 07:53:54', None, None, None, None, None, None)\n",
      "('20000056', 'RTL', '2024-01-12 07:53:54', None, None, None, None, None, None)\n",
      "('20000057', 'RTL', '2024-01-12 07:53:54', None, None, None, None, None, None)\n",
      "('20000058', 'RTL', '2024-01-12 07:53:54', None, None, None, None, None, None)\n",
      "('20000059', 'RTL', '2024-01-12 07:53:54', None, None, None, None, None, None)\n",
      "('20000052', 'HAE', '2024-01-11 18:05:30', '2024-01-11 20:22:30', '2024-01-11 20:51:48', '2024-01-12 08:04:48', '2024-01-12 08:05:48', 45, 5)\n",
      "('20000047', 'QPR', '2024-01-12 07:58:42', '2024-01-12 07:58:42', '2024-01-12 08:09:54', '2024-01-12 08:58:54', '2024-01-12 08:58:54', 49, 0)\n",
      "('20000047', 'FTL', '2024-01-12 09:02:54', None, None, None, None, None, None)\n",
      "('20000044', 'DRH1', '2024-01-10 14:58:18', '2024-01-11 18:01:18', '2024-01-11 18:11:36', '2024-01-12 09:29:36', '2024-01-12 09:30:36', 25, 0)\n",
      "('20000060', 'RTL', '2024-01-12 09:29:54', None, None, None, None, None, None)\n",
      "('20000068', 'SAE', '2024-01-12 06:10:54', '2024-01-12 06:10:54', '2024-01-12 06:21:42', '2024-01-12 09:33:42', '2024-01-12 09:35:42', 100, 0)\n",
      "('20000049', 'FRA', '2024-01-11 20:11:36', '2024-01-11 20:58:36', '2024-01-11 21:19:18', '2024-01-12 09:52:18', '2024-01-12 09:52:18', 100, 0)\n",
      "('20000052', 'QPR', '2024-01-12 08:09:48', '2024-01-12 08:59:48', '2024-01-12 09:09:48', '2024-01-12 10:11:48', '2024-01-12 10:11:48', 45, 0)\n",
      "('20000052', 'FTL', '2024-01-12 10:16:48', None, None, None, None, None, None)\n",
      "('20000044', 'QPR', '2024-01-12 09:35:36', '2024-01-12 10:12:36', '2024-01-12 10:28:42', '2024-01-12 10:51:42', '2024-01-12 10:52:42', 24, 1)\n",
      "('20000044', 'FTL', '2024-01-12 10:57:42', None, None, None, None, None, None)\n",
      "('20000054', 'SAE', '2024-01-12 08:01:54', '2024-01-12 09:33:54', '2024-01-12 09:45:12', '2024-01-12 12:00:12', '2024-01-12 12:01:12', 25, 0)\n",
      "('20000043', 'HAE', '2024-01-11 20:26:30', '2024-01-12 08:05:30', '2024-01-12 08:13:48', '2024-01-12 12:31:48', '2024-01-12 12:32:48', 93, 2)\n",
      "('20000048', 'DRH2', '2024-01-10 16:56:36', '2024-01-12 07:54:36', '2024-01-12 08:04:30', '2024-01-12 13:13:30', '2024-01-12 13:14:30', 49, 0)\n",
      "('20000056', 'SAE', '2024-01-12 08:05:54', '2024-01-12 12:00:54', '2024-01-12 12:12:48', '2024-01-12 13:22:48', '2024-01-12 13:23:48', 50, 0)\n",
      "('20000063', 'FRA', '2024-01-12 06:06:00', '2024-01-12 09:53:00', '2024-01-12 10:08:30', '2024-01-12 14:18:30', '2024-01-12 14:19:30', 24, 1)\n",
      "('20000057', 'SAE', '2024-01-12 08:00:54', '2024-01-12 13:22:54', '2024-01-12 13:30:36', '2024-01-12 15:09:36', '2024-01-12 15:11:36', 50, 0)\n",
      "('20000043', 'QPR', '2024-01-12 12:36:48', '2024-01-12 12:36:48', '2024-01-12 12:48:00', '2024-01-12 15:36:00', '2024-01-12 15:36:00', 92, 1)\n",
      "('20000043', 'FTL', '2024-01-12 15:40:00', None, None, None, None, None, None)\n",
      "('20000048', 'QPR', '2024-01-12 13:18:30', '2024-01-12 15:36:30', '2024-01-12 15:41:30', '2024-01-12 16:47:30', '2024-01-12 16:48:30', 48, 1)\n",
      "('20000058', 'SAE', '2024-01-12 08:04:54', '2024-01-12 15:09:54', '2024-01-12 15:19:48', '2024-01-12 16:49:48', '2024-01-12 16:52:48', 98, 2)\n",
      "('20000048', 'FTL', '2024-01-12 16:53:30', None, None, None, None, None, None)\n",
      "('20000049', 'HAE', '2024-01-12 09:57:18', '2024-01-12 12:32:18', '2024-01-12 12:42:24', '2024-01-12 17:13:24', '2024-01-12 17:15:24', 91, 9)\n",
      "('20000051', 'DRH1', '2024-01-10 18:38:24', '2024-01-12 10:15:24', '2024-01-12 10:29:30', '2024-01-12 17:14:30', '2024-01-12 17:16:30', 100, 0)\n",
      "('20000063', 'QPR', '2024-01-12 14:24:30', '2024-01-12 16:48:30', '2024-01-12 17:04:42', '2024-01-12 18:18:42', '2024-01-12 18:18:42', 24, 0)\n",
      "('20000063', 'FTL', '2024-01-12 18:23:42', None, None, None, None, None, None)\n",
      "('20000068', 'FRA', '2024-01-12 09:39:42', '2024-01-12 14:18:42', '2024-01-12 14:39:48', '2024-01-12 19:14:48', '2024-01-12 19:16:48', 95, 5)\n",
      "('20000049', 'QPR', '2024-01-12 17:19:24', '2024-01-12 18:19:24', '2024-01-12 18:28:18', '2024-01-12 21:02:18', '2024-01-12 21:04:18', 89, 2)\n",
      "('20000049', 'FTL', '2024-01-12 21:09:18', None, None, None, None, None, None)\n",
      "('20000070', 'RTL', '2024-01-15 06:00:00', None, None, None, None, None, None)\n",
      "('20000075', 'RTL', '2024-01-15 06:00:00', None, None, None, None, None, None)\n",
      "('20000079', 'RTL', '2024-01-15 06:00:00', None, None, None, None, None, None)\n",
      "('20000051', 'QPR', '2024-01-12 17:20:30', '2024-01-12 21:02:30', '2024-01-12 21:12:12', '2024-01-15 06:50:12', '2024-01-15 09:07:12', 98, 2)\n",
      "('20000068', 'HAE', '2024-01-12 19:21:48', '2024-01-12 19:21:48', '2024-01-12 19:39:48', '2024-01-15 07:53:48', '2024-01-15 07:55:48', 89, 6)\n",
      "('20000053', 'DRH2', '2024-01-11 20:15:54', '2024-01-12 15:18:54', '2024-01-12 15:28:30', '2024-01-15 08:20:30', '2024-01-15 08:21:30', 99, 1)\n",
      "('20000059', 'DRH1', '2024-01-12 08:03:54', '2024-01-12 17:14:54', '2024-01-12 17:30:30', '2024-01-15 08:43:30', '2024-01-15 08:44:30', 50, 0)\n",
      "('20000051', 'FTL', '2024-01-15 09:12:12', None, None, None, None, None, None)\n",
      "('20000068', 'QPR', '2024-01-15 07:59:48', '2024-01-15 07:59:48', '2024-01-15 08:04:24', '2024-01-15 09:48:24', '2024-01-15 09:49:24', 87, 2)\n",
      "('20000068', 'FTL', '2024-01-15 09:54:24', None, None, None, None, None, None)\n",
      "('20000079', 'SAE', '2024-01-15 06:08:00', '2024-01-15 06:38:00', '2024-01-15 06:47:42', '2024-01-15 10:11:42', '2024-01-15 10:14:42', 100, 0)\n",
      "('20000070', 'FRA', '2024-01-15 06:10:00', '2024-01-15 06:50:00', '2024-01-15 07:07:24', '2024-01-15 10:35:24', '2024-01-15 10:35:24', 25, 0)\n",
      "('20000070', 'QPR', '2024-01-15 10:40:24', '2024-01-15 10:40:24', '2024-01-15 10:57:00', '2024-01-15 12:15:00', '2024-01-15 12:15:00', 24, 1)\n",
      "('20000070', 'FTL', '2024-01-15 12:20:00', None, None, None, None, None, None)\n",
      "('20000059', 'HAE', '2024-01-15 08:49:30', '2024-01-15 08:49:30', '2024-01-15 09:17:36', '2024-01-15 12:47:36', '2024-01-15 12:48:36', 48, 2)\n",
      "('20000059', 'QPR', '2024-01-15 12:52:36', '2024-01-15 12:52:36', '2024-01-15 13:02:48', '2024-01-15 14:04:48', '2024-01-15 14:04:48', 48, 0)\n",
      "('20000059', 'FTL', '2024-01-15 14:09:48', None, None, None, None, None, None)\n",
      "('20000075', 'FRA', '2024-01-15 06:16:00', '2024-01-15 10:36:00', '2024-01-15 10:52:36', '2024-01-15 14:46:36', '2024-01-15 14:49:36', 25, 0)\n",
      "('20000054', 'DRH1', '2024-01-12 12:05:12', '2024-01-15 08:44:12', '2024-01-15 08:54:18', '2024-01-15 16:16:18', '2024-01-15 16:18:18', 25, 0)\n",
      "('20000061', 'RTL', '2024-01-15 16:17:00', None, None, None, None, None, None)\n",
      "('20000064', 'RTL', '2024-01-15 16:17:00', None, None, None, None, None, None)\n",
      "('20000065', 'RTL', '2024-01-15 16:17:00', None, None, None, None, None, None)\n",
      "('20000066', 'RTL', '2024-01-15 16:17:00', None, None, None, None, None, None)\n",
      "('20000067', 'RTL', '2024-01-15 16:17:00', None, None, None, None, None, None)\n",
      "('20000069', 'RTL', '2024-01-15 16:17:00', None, None, None, None, None, None)\n",
      "('20000075', 'QPR', '2024-01-15 14:54:36', '2024-01-15 14:54:36', '2024-01-15 15:10:48', '2024-01-15 16:28:48', '2024-01-15 16:30:48', 25, 0)\n",
      "('20000075', 'FTL', '2024-01-15 16:35:48', None, None, None, None, None, None)\n",
      "('20000060', 'DRH2', '2024-01-12 09:34:54', '2024-01-15 08:21:00', '2024-01-15 08:30:54', '2024-01-15 17:01:54', '2024-01-15 17:01:54', 100, 0)\n",
      "('20000071', 'RTL', '2024-01-15 17:02:00', None, None, None, None, None, None)\n",
      "('20000072', 'RTL', '2024-01-15 17:02:00', None, None, None, None, None, None)\n",
      "('20000073', 'RTL', '2024-01-15 17:02:00', None, None, None, None, None, None)\n",
      "('20000054', 'QPR', '2024-01-15 16:23:18', '2024-01-15 16:29:18', '2024-01-15 16:44:12', '2024-01-15 17:09:12', '2024-01-15 17:11:12', 25, 0)\n",
      "('20000054', 'FTL', '2024-01-15 17:16:12', None, None, None, None, None, None)\n",
      "('20000061', 'SAE', '2024-01-15 16:24:00', '2024-01-15 16:24:00', '2024-01-15 16:34:18', '2024-01-15 18:25:18', '2024-01-15 18:25:18', 25, 0)\n",
      "('20000064', 'SAE', '2024-01-15 16:28:00', '2024-01-15 18:26:00', '2024-01-15 18:34:48', '2024-01-15 19:55:48', '2024-01-15 19:56:48', 50, 0)\n",
      "('20000053', 'FRA', '2024-01-15 08:25:30', '2024-01-15 14:47:30', '2024-01-15 15:07:12', '2024-01-15 20:08:12', '2024-01-15 20:10:12', 96, 3)\n",
      "('20000065', 'SAE', '2024-01-15 16:30:00', '2024-01-15 19:56:00', '2024-01-15 20:03:18', '2024-01-15 21:42:18', '2024-01-15 21:43:18', 48, 2)\n",
      "('20000080', 'RTL', '2024-01-16 06:00:00', None, None, None, None, None, None)\n",
      "('20000087', 'RTL', '2024-01-16 06:00:00', None, None, None, None, None, None)\n",
      "('20000056', 'DRH1', '2024-01-12 13:27:48', '2024-01-15 17:01:48', '2024-01-15 17:16:18', '2024-01-16 06:06:18', '2024-01-16 06:07:18', 50, 0)\n",
      "('20000056', 'QPR', '2024-01-16 06:12:18', '2024-01-16 06:12:18', '2024-01-16 06:24:48', '2024-01-16 07:11:48', '2024-01-16 07:11:48', 49, 1)\n",
      "('20000056', 'FTL', '2024-01-16 07:16:48', None, None, None, None, None, None)\n",
      "('20000066', 'SAE', '2024-01-15 16:24:00', '2024-01-15 21:43:00', '2024-01-15 21:53:30', '2024-01-16 07:33:30', '2024-01-16 07:34:30', 99, 1)\n",
      "('20000057', 'DRH2', '2024-01-12 15:15:36', '2024-01-15 18:02:36', '2024-01-15 18:13:00', '2024-01-16 08:14:00', '2024-01-16 08:14:00', 49, 1)\n",
      "('20000057', 'QPR', '2024-01-16 08:18:00', '2024-01-16 08:18:00', '2024-01-16 08:23:24', '2024-01-16 09:21:24', '2024-01-16 09:21:24', 48, 1)\n",
      "('20000053', 'HAE', '2024-01-15 20:16:12', '2024-01-15 20:16:12', '2024-01-15 20:26:42', '2024-01-16 09:25:42', '2024-01-16 09:26:42', 91, 5)\n",
      "('20000057', 'FTL', '2024-01-16 09:26:24', None, None, None, None, None, None)\n",
      "('20000067', 'SAE', '2024-01-15 16:28:00', '2024-01-16 07:34:00', '2024-01-16 07:43:36', '2024-01-16 09:56:36', '2024-01-16 09:58:36', 25, 0)\n",
      "('20000079', 'FRA', '2024-01-15 10:18:42', '2024-01-15 20:48:42', '2024-01-15 21:06:42', '2024-01-16 10:04:42', '2024-01-16 10:05:42', 96, 4)\n",
      "('20000071', 'SAE', '2024-01-15 17:07:00', '2024-01-16 09:57:00', '2024-01-16 10:08:24', '2024-01-16 11:29:24', '2024-01-16 11:31:24', 50, 0)\n",
      "('20000053', 'QPR', '2024-01-16 09:30:42', '2024-01-16 09:30:42', '2024-01-16 09:39:24', '2024-01-16 11:45:24', '2024-01-16 11:47:24', 88, 3)\n",
      "('20000053', 'FTL', '2024-01-16 11:52:24', None, None, None, None, None, None)\n",
      "('20000072', 'SAE', '2024-01-15 17:12:00', '2024-01-16 11:30:00', '2024-01-16 11:38:18', '2024-01-16 13:19:18', '2024-01-16 13:20:18', 50, 0)\n",
      "('20000058', 'DRH1', '2024-01-12 16:56:48', '2024-01-16 06:06:48', '2024-01-16 06:20:54', '2024-01-16 13:44:54', '2024-01-16 13:44:54', 96, 2)\n",
      "('20000060', 'FRA', '2024-01-15 17:06:54', '2024-01-16 10:04:54', '2024-01-16 10:25:36', '2024-01-16 15:21:36', '2024-01-16 15:22:36', 96, 4)\n",
      "('20000058', 'QPR', '2024-01-16 13:48:54', '2024-01-16 13:48:54', '2024-01-16 13:58:42', '2024-01-16 15:29:42', '2024-01-16 15:30:42', 94, 2)\n",
      "('20000058', 'FTL', '2024-01-16 15:34:42', None, None, None, None, None, None)\n",
      "('20000079', 'HAE', '2024-01-16 10:10:42', '2024-01-16 11:40:42', '2024-01-16 12:01:54', '2024-01-16 16:06:54', '2024-01-16 16:09:54', 88, 8)\n",
      "('20000087', 'SAE', '2024-01-16 06:07:00', '2024-01-16 13:20:00', '2024-01-16 13:30:06', '2024-01-16 16:24:06', '2024-01-16 16:26:06', 100, 0)\n",
      "('20000069', 'DRH2', '2024-01-15 16:35:00', '2024-01-16 08:15:00', '2024-01-16 08:28:42', '2024-01-16 17:21:42', '2024-01-16 17:23:42', 49, 1)\n",
      "('20000079', 'QPR', '2024-01-16 16:13:54', '2024-01-16 16:13:54', '2024-01-16 16:18:54', '2024-01-16 18:02:54', '2024-01-16 18:03:54', 88, 0)\n",
      "('20000079', 'FTL', '2024-01-16 18:08:54', None, None, None, None, None, None)\n",
      "('20000080', 'FRA', '2024-01-16 06:06:00', '2024-01-16 15:22:00', '2024-01-16 15:36:48', '2024-01-16 19:33:48', '2024-01-16 19:36:48', 25, 0)\n",
      "('20000080', 'QPR', '2024-01-16 19:41:48', '2024-01-16 19:41:48', '2024-01-16 19:56:24', '2024-01-16 21:06:24', '2024-01-17 06:02:00', 25, 0)\n",
      "('20000060', 'HAE', '2024-01-16 15:27:36', '2024-01-16 16:07:36', '2024-01-16 16:17:30', '2024-01-16 21:27:30', '2024-01-16 21:29:30', 91, 5)\n",
      "('20000093', 'RTL', '2024-01-17 06:00:00', None, None, None, None, None, None)\n",
      "('20000080', 'FTL', '2024-01-17 06:07:00', None, None, None, None, None, None)\n",
      "('20000073', 'DRH1', '2024-01-15 17:11:00', '2024-01-16 14:30:00', '2024-01-16 14:38:42', '2024-01-17 06:18:42', '2024-01-17 06:19:42', 97, 3)\n",
      "('20000060', 'QPR', '2024-01-16 21:33:30', '2024-01-16 21:33:30', '2024-01-16 21:44:12', '2024-01-17 07:47:12', '2024-01-17 07:49:12', 90, 1)\n",
      "('20000060', 'FTL', '2024-01-17 07:54:12', None, None, None, None, None, None)\n",
      "('20000069', 'HAE', '2024-01-16 17:28:42', '2024-01-16 21:27:42', '2024-01-16 21:57:24', '2024-01-17 09:03:24', '2024-01-17 09:04:24', 44, 5)\n",
      "('20000061', 'DRH2', '2024-01-15 18:29:18', '2024-01-16 18:22:18', '2024-01-16 18:32:36', '2024-01-17 09:30:36', '2024-01-17 09:31:36', 24, 1)\n",
      "('20000087', 'FRA', '2024-01-16 16:30:06', '2024-01-16 20:49:06', '2024-01-16 21:08:12', '2024-01-17 09:53:12', '2024-01-17 09:55:12', 97, 3)\n",
      "('20000093', 'SAE', '2024-01-17 06:07:00', '2024-01-17 06:37:00', '2024-01-17 06:46:48', '2024-01-17 10:07:48', '2024-01-17 10:09:48', 99, 1)\n",
      "('20000069', 'QPR', '2024-01-17 09:08:24', '2024-01-17 09:08:24', '2024-01-17 09:18:24', '2024-01-17 10:29:24', '2024-01-17 10:31:24', 43, 1)\n",
      "('20000069', 'FTL', '2024-01-17 10:36:24', None, None, None, None, None, None)\n",
      "('20000064', 'DRH1', '2024-01-15 20:00:48', '2024-01-17 06:18:48', '2024-01-17 06:34:18', '2024-01-17 10:41:18', '2024-01-17 10:42:18', 49, 1)\n",
      "('20000074', 'RTL', '2024-01-17 10:42:00', None, None, None, None, None, None)\n",
      "('20000076', 'RTL', '2024-01-17 10:42:00', None, None, None, None, None, None)\n",
      "('20000077', 'RTL', '2024-01-17 10:42:00', None, None, None, None, None, None)\n",
      "('20000061', 'QPR', '2024-01-17 09:35:36', '2024-01-17 10:29:36', '2024-01-17 10:45:36', '2024-01-17 11:11:36', '2024-01-17 11:11:36', 24, 0)\n",
      "('20000061', 'FTL', '2024-01-17 11:16:36', None, None, None, None, None, None)\n",
      "('20000064', 'QPR', '2024-01-17 10:46:18', '2024-01-17 11:12:18', '2024-01-17 11:24:36', '2024-01-17 12:12:36', '2024-01-17 13:08:36', 48, 1)\n",
      "('20000074', 'SAE', '2024-01-17 10:50:00', '2024-01-17 10:50:00', '2024-01-17 10:59:54', '2024-01-17 12:57:54', '2024-01-17 12:57:54', 25, 0)\n",
      "('20000064', 'FTL', '2024-01-17 13:12:36', None, None, None, None, None, None)\n",
      "('20000087', 'HAE', '2024-01-17 10:00:12', '2024-01-17 10:00:12', '2024-01-17 10:22:36', '2024-01-17 14:33:36', '2024-01-17 14:35:36', 95, 2)\n",
      "('20000076', 'SAE', '2024-01-17 10:54:00', '2024-01-17 12:58:00', '2024-01-17 13:08:24', '2024-01-17 14:36:24', '2024-01-17 14:39:24', 100, 0)\n",
      "('20000065', 'DRH2', '2024-01-15 21:47:18', '2024-01-17 09:31:18', '2024-01-17 09:42:12', '2024-01-17 14:53:12', '2024-01-17 16:33:12', 48, 0)\n",
      "('20000073', 'FRA', '2024-01-17 06:23:42', '2024-01-17 09:53:42', '2024-01-17 10:13:54', '2024-01-17 15:20:54', '2024-01-17 15:22:54', 95, 2)\n",
      "('20000087', 'QPR', '2024-01-17 14:39:36', '2024-01-17 14:39:36', '2024-01-17 14:44:24', '2024-01-17 16:33:24', '2024-01-17 16:34:24', 94, 1)\n",
      "('20000087', 'FTL', '2024-01-17 16:39:24', None, None, None, None, None, None)\n",
      "('20000065', 'QPR', '2024-01-17 16:37:12', '2024-01-17 16:37:12', '2024-01-17 16:42:06', '2024-01-17 17:41:06', '2024-01-17 17:41:06', 47, 1)\n",
      "('20000065', 'FTL', '2024-01-17 17:46:06', None, None, None, None, None, None)\n",
      "('20000066', 'DRH1', '2024-01-16 07:38:30', '2024-01-17 10:41:30', '2024-01-17 10:58:06', '2024-01-17 18:22:06', '2024-01-17 18:25:06', 98, 1)\n",
      "('20000066', 'QPR', '2024-01-17 18:30:06', '2024-01-17 18:30:06', '2024-01-17 18:39:00', '2024-01-17 20:15:00', '2024-01-17 21:16:00', 98, 0)\n",
      "('20000073', 'HAE', '2024-01-17 15:28:54', '2024-01-17 15:28:54', '2024-01-17 15:39:24', '2024-01-17 20:37:24', '2024-01-17 20:39:24', 87, 8)\n",
      "('20000066', 'FTL', '2024-01-17 21:21:00', None, None, None, None, None, None)\n",
      "('20000094', 'RTL', '2024-01-18 06:00:00', None, None, None, None, None, None)\n",
      "('20000093', 'FRA', '2024-01-17 10:13:48', '2024-01-17 16:36:48', '2024-01-17 16:55:54', '2024-01-18 06:14:54', '2024-01-18 06:14:54', 93, 6)\n",
      "('20000073', 'QPR', '2024-01-17 20:43:24', '2024-01-17 20:43:24', '2024-01-17 20:53:12', '2024-01-18 06:53:12', '2024-01-18 06:54:12', 87, 0)\n",
      "('20000067', 'DRH2', '2024-01-16 10:02:36', '2024-01-17 15:53:36', '2024-01-17 16:04:06', '2024-01-18 06:56:06', '2024-01-18 06:59:06', 24, 1)\n",
      "('20000078', 'RTL', '2024-01-18 06:57:00', None, None, None, None, None, None)\n",
      "('20000073', 'FTL', '2024-01-18 06:59:12', None, None, None, None, None, None)\n",
      "('20000067', 'QPR', '2024-01-18 07:04:06', '2024-01-18 07:04:06', '2024-01-18 07:17:54', '2024-01-18 07:40:54', '2024-01-18 07:42:54', 24, 0)\n",
      "('20000067', 'FTL', '2024-01-18 07:47:54', None, None, None, None, None, None)\n",
      "('20000071', 'DRH1', '2024-01-16 11:35:24', '2024-01-17 19:07:24', '2024-01-17 19:23:30', '2024-01-18 07:55:30', '2024-01-18 07:58:30', 50, 0)\n",
      "('20000071', 'QPR', '2024-01-18 08:03:30', '2024-01-18 08:03:30', '2024-01-18 08:16:06', '2024-01-18 09:11:06', '2024-01-18 09:11:06', 50, 0)\n",
      "('20000071', 'FTL', '2024-01-18 09:16:06', None, None, None, None, None, None)\n",
      "('20000093', 'HAE', '2024-01-18 06:19:54', '2024-01-18 06:19:54', '2024-01-18 06:38:18', '2024-01-18 10:58:18', '2024-01-18 11:01:18', 91, 2)\n",
      "('20000094', 'FRA', '2024-01-18 06:07:00', '2024-01-18 06:55:00', '2024-01-18 07:08:42', '2024-01-18 11:15:42', '2024-01-18 11:17:42', 25, 0)\n",
      "('20000072', 'DRH2', '2024-01-16 13:24:18', '2024-01-18 06:56:18', '2024-01-18 07:07:18', '2024-01-18 13:00:18', '2024-01-18 13:02:18', 50, 0)\n",
      "('20000081', 'RTL', '2024-01-18 13:01:00', None, None, None, None, None, None)\n",
      "('20000082', 'RTL', '2024-01-18 13:01:00', None, None, None, None, None, None)\n",
      "('20000083', 'RTL', '2024-01-18 13:01:00', None, None, None, None, None, None)\n",
      "('20000084', 'RTL', '2024-01-18 13:01:00', None, None, None, None, None, None)\n",
      "('20000093', 'QPR', '2024-01-18 11:05:18', '2024-01-18 11:05:18', '2024-01-18 11:10:06', '2024-01-18 13:13:06', '2024-01-18 13:14:06', 89, 2)\n",
      "('20000093', 'FTL', '2024-01-18 13:18:06', None, None, None, None, None, None)\n",
      "('20000081', 'SAE', '2024-01-18 13:08:00', '2024-01-18 13:08:00', '2024-01-18 13:16:54', '2024-01-18 14:29:54', '2024-01-18 14:29:54', 49, 1)\n",
      "('20000094', 'QPR', '2024-01-18 11:22:42', '2024-01-18 13:13:42', '2024-01-18 13:29:18', '2024-01-18 14:35:18', '2024-01-18 14:36:18', 25, 0)\n",
      "('20000094', 'FTL', '2024-01-18 14:41:18', None, None, None, None, None, None)\n",
      "('20000077', 'DRH1', '2024-01-17 10:49:00', '2024-01-18 07:56:00', '2024-01-18 08:11:06', '2024-01-18 15:33:06', '2024-01-18 15:48:06', 50, 0)\n",
      "('20000072', 'QPR', '2024-01-18 13:07:18', '2024-01-18 14:35:18', '2024-01-18 14:40:36', '2024-01-18 15:39:36', '2024-01-18 15:41:36', 49, 1)\n",
      "('20000072', 'FTL', '2024-01-18 15:46:36', None, None, None, None, None, None)\n",
      "('20000082', 'SAE', '2024-01-18 13:12:00', '2024-01-18 14:30:00', '2024-01-18 14:38:24', '2024-01-18 16:19:24', '2024-01-18 16:21:24', 50, 0)\n",
      "('20000083', 'SAE', '2024-01-18 15:48:00', '2024-01-18 16:50:00', '2024-01-18 17:00:54', '2024-01-18 18:47:54', '2024-01-18 18:48:54', 100, 0)\n",
      "('20000077', 'HAE', '2024-01-18 15:53:06', '2024-01-18 15:53:06', '2024-01-18 16:22:36', '2024-01-18 19:29:36', '2024-01-18 19:30:36', 45, 5)\n",
      "('20000074', 'DRH2', '2024-01-17 13:01:54', '2024-01-18 14:00:54', '2024-01-18 14:11:24', '2024-01-18 20:49:24', '2024-01-18 20:49:24', 25, 0)\n",
      "('20000077', 'QPR', '2024-01-18 19:34:36', '2024-01-18 19:34:36', '2024-01-18 19:44:36', '2024-01-18 20:49:36', '2024-01-18 20:49:36', 44, 1)\n",
      "('20000077', 'FTL', '2024-01-18 20:54:36', None, None, None, None, None, None)\n",
      "('20000074', 'QPR', '2024-01-18 20:54:24', '2024-01-18 20:54:24', '2024-01-18 21:09:54', '2024-01-18 21:39:54', '2024-01-18 21:39:54', 25, 0)\n",
      "('20000074', 'FTL', '2024-01-18 21:44:54', None, None, None, None, None, None)\n",
      "('20000099', 'RTL', '2024-01-19 06:00:00', None, None, None, None, None, None)\n",
      "('20000105', 'RTL', '2024-01-19 06:00:00', None, None, None, None, None, None)\n",
      "('20000076', 'DRH1', '2024-01-17 14:43:24', '2024-01-18 16:18:24', '2024-01-18 16:33:24', '2024-01-19 08:03:24', '2024-01-19 08:04:24', 100, 0)\n",
      "('20000105', 'SAE', '2024-01-19 06:15:00', '2024-01-19 06:15:00', '2024-01-19 06:25:06', '2024-01-19 09:38:06', '2024-01-19 09:40:06', 98, 2)\n",
      "('20000076', 'QPR', '2024-01-19 08:09:24', '2024-01-19 08:09:24', '2024-01-19 08:19:00', '2024-01-19 10:02:00', '2024-01-19 10:04:00', 100, 0)\n",
      "('20000076', 'FTL', '2024-01-19 10:09:00', None, None, None, None, None, None)\n",
      "('20000099', 'FRA', '2024-01-19 06:10:00', '2024-01-19 06:10:00', '2024-01-19 06:26:18', '2024-01-19 10:36:18', '2024-01-19 12:50:18', 25, 0)\n",
      "('20000078', 'DRH2', '2024-01-18 07:12:00', '2024-01-18 20:50:00', '2024-01-18 21:00:48', '2024-01-19 13:07:48', '2024-01-19 13:09:48', 100, 0)\n",
      "('20000085', 'RTL', '2024-01-19 13:08:00', None, None, None, None, None, None)\n",
      "('20000099', 'QPR', '2024-01-19 12:55:18', '2024-01-19 12:55:18', '2024-01-19 13:12:06', '2024-01-19 14:28:06', '2024-01-19 14:30:06', 25, 0)\n",
      "('20000099', 'FTL', '2024-01-19 14:35:06', None, None, None, None, None, None)\n",
      "('20000084', 'DRH1', '2024-01-18 13:08:00', '2024-01-19 08:04:00', '2024-01-19 08:18:18', '2024-01-19 15:33:18', '2024-01-19 15:36:18', 49, 1)\n",
      "('20000086', 'RTL', '2024-01-19 15:34:00', None, None, None, None, None, None)\n",
      "('20000088', 'RTL', '2024-01-19 15:34:00', None, None, None, None, None, None)\n",
      "('20000089', 'RTL', '2024-01-19 15:34:00', None, None, None, None, None, None)\n",
      "('20000090', 'RTL', '2024-01-19 15:34:00', None, None, None, None, None, None)\n",
      "('20000105', 'FRA', '2024-01-19 09:44:06', '2024-01-19 10:37:06', '2024-01-19 10:57:00', '2024-01-19 16:36:00', '2024-01-19 16:37:00', 95, 3)\n",
      "('20000081', 'DRH2', '2024-01-18 14:33:54', '2024-01-19 13:07:54', '2024-01-19 13:23:18', '2024-01-19 17:30:18', '2024-01-19 17:30:18', 49, 0)\n",
      "('20000091', 'RTL', '2024-01-19 17:31:00', None, None, None, None, None, None)\n",
      "('20000086', 'SAE', '2024-01-19 15:41:00', '2024-01-19 15:41:00', '2024-01-19 15:50:42', '2024-01-19 17:53:42', '2024-01-19 17:54:42', 25, 0)\n",
      "('20000081', 'QPR', '2024-01-19 17:34:18', '2024-01-19 17:34:18', '2024-01-19 17:47:42', '2024-01-19 18:41:42', '2024-01-19 18:41:42', 49, 0)\n",
      "('20000081', 'FTL', '2024-01-19 18:45:42', None, None, None, None, None, None)\n",
      "('20000088', 'SAE', '2024-01-19 15:45:00', '2024-01-19 17:54:00', '2024-01-19 18:03:54', '2024-01-19 19:24:54', '2024-01-19 19:25:54', 50, 0)\n",
      "('20000084', 'HAE', '2024-01-19 15:41:18', '2024-01-19 17:11:18', '2024-01-19 17:38:06', '2024-01-19 20:35:06', '2024-01-19 20:35:06', 49, 0)\n",
      "('20000089', 'SAE', '2024-01-19 15:41:00', '2024-01-19 19:25:00', '2024-01-19 19:33:30', '2024-01-19 21:11:30', '2024-01-19 21:12:30', 50, 0)\n",
      "('20000082', 'DRH1', '2024-01-18 16:25:24', '2024-01-19 15:33:24', '2024-01-19 15:42:36', '2024-01-19 21:59:36', '2024-01-19 21:59:36', 50, 0)\n",
      "('20000106', 'RTL', '2024-01-22 06:00:00', None, None, None, None, None, None)\n",
      "('20000113', 'RTL', '2024-01-22 06:00:00', None, None, None, None, None, None)\n",
      "('20000084', 'QPR', '2024-01-19 20:39:06', '2024-01-19 20:39:06', '2024-01-19 20:49:18', '2024-01-22 06:02:18', '2024-01-22 06:05:18', 47, 2)\n",
      "('20000084', 'FTL', '2024-01-22 06:10:18', None, None, None, None, None, None)\n",
      "('20000078', 'FRA', '2024-01-19 13:14:48', '2024-01-19 17:16:48', '2024-01-19 17:38:42', '2024-01-22 06:10:42', '2024-01-22 06:10:42', 100, 0)\n",
      "('20000082', 'QPR', '2024-01-22 06:06:00', '2024-01-22 06:06:00', '2024-01-22 06:10:36', '2024-01-22 07:11:36', '2024-01-22 07:12:36', 50, 0)\n",
      "('20000082', 'FTL', '2024-01-22 07:16:36', None, None, None, None, None, None)\n",
      "('20000105', 'HAE', '2024-01-19 16:42:00', '2024-01-19 20:36:00', '2024-01-19 20:55:18', '2024-01-22 08:59:18', '2024-01-22 09:00:18', 88, 7)\n",
      "('20000083', 'DRH2', '2024-01-18 18:52:54', '2024-01-19 18:30:54', '2024-01-19 18:47:06', '2024-01-22 09:35:06', '2024-01-22 09:36:06', 100, 0)\n",
      "('20000113', 'SAE', '2024-01-22 06:07:00', '2024-01-22 06:07:00', '2024-01-22 06:16:42', '2024-01-22 09:46:42', '2024-01-22 09:48:42', 100, 0)\n",
      "('20000105', 'QPR', '2024-01-22 09:04:18', '2024-01-22 09:04:18', '2024-01-22 09:09:12', '2024-01-22 10:53:12', '2024-01-22 10:54:12', 88, 0)\n",
      "('20000106', 'FRA', '2024-01-22 06:07:00', '2024-01-22 06:11:00', '2024-01-22 06:26:24', '2024-01-22 10:53:24', '2024-01-22 10:53:24', 22, 3)\n",
      "('20000105', 'FTL', '2024-01-22 10:59:12', None, None, None, None, None, None)\n",
      "('20000083', 'QPR', '2024-01-22 09:40:06', '2024-01-22 10:54:06', '2024-01-22 11:03:06', '2024-01-22 12:47:06', '2024-01-22 12:47:06', 100, 0)\n",
      "('20000083', 'FTL', '2024-01-22 12:52:06', None, None, None, None, None, None)\n",
      "('20000085', 'DRH1', '2024-01-19 13:21:00', '2024-01-22 06:01:00', '2024-01-22 06:12:30', '2024-01-22 13:25:30', '2024-01-22 13:28:30', 100, 0)\n",
      "('20000106', 'QPR', '2024-01-22 10:58:24', '2024-01-22 12:47:24', '2024-01-22 13:03:00', '2024-01-22 14:06:00', '2024-01-22 14:08:00', 22, 0)\n",
      "('20000106', 'FTL', '2024-01-22 14:13:00', None, None, None, None, None, None)\n",
      "('20000078', 'HAE', '2024-01-22 06:15:42', '2024-01-22 10:29:42', '2024-01-22 10:39:18', '2024-01-22 15:39:18', '2024-01-22 15:42:18', 93, 7)\n",
      "('20000113', 'FRA', '2024-01-22 09:52:42', '2024-01-22 11:33:42', '2024-01-22 11:53:42', '2024-01-22 16:55:42', '2024-01-22 16:57:42', 97, 3)\n",
      "('20000090', 'DRH2', '2024-01-19 15:45:00', '2024-01-22 09:36:00', '2024-01-22 09:51:42', '2024-01-22 17:17:42', '2024-01-22 17:19:42', 49, 1)\n",
      "('20000092', 'RTL', '2024-01-22 17:18:00', None, None, None, None, None, None)\n",
      "('20000095', 'RTL', '2024-01-22 17:18:00', None, None, None, None, None, None)\n",
      "('20000096', 'RTL', '2024-01-22 17:18:00', None, None, None, None, None, None)\n",
      "('20000097', 'RTL', '2024-01-22 17:18:00', None, None, None, None, None, None)\n",
      "('20000098', 'RTL', '2024-01-22 17:18:00', None, None, None, None, None, None)\n",
      "('20000100', 'RTL', '2024-01-22 17:18:00', None, None, None, None, None, None)\n",
      "('20000101', 'RTL', '2024-01-22 17:18:00', None, None, None, None, None, None)\n",
      "('20000102', 'RTL', '2024-01-22 17:18:00', None, None, None, None, None, None)\n",
      "('20000103', 'RTL', '2024-01-22 17:18:00', None, None, None, None, None, None)\n",
      "('20000078', 'QPR', '2024-01-22 15:46:18', '2024-01-22 15:46:18', '2024-01-22 15:56:24', '2024-01-22 18:19:24', '2024-01-22 18:21:24', 92, 1)\n",
      "('20000078', 'FTL', '2024-01-22 18:26:24', None, None, None, None, None, None)\n",
      "('20000092', 'SAE', '2024-01-22 17:25:00', '2024-01-22 17:25:00', '2024-01-22 17:34:12', '2024-01-22 19:45:12', '2024-01-22 19:45:12', 25, 0)\n",
      "('20000095', 'SAE', '2024-01-22 17:29:00', '2024-01-22 19:46:00', '2024-01-22 19:55:42', '2024-01-22 21:18:42', '2024-01-22 21:19:42', 49, 1)\n",
      "('20000113', 'HAE', '2024-01-22 17:03:42', '2024-01-22 17:03:42', '2024-01-22 17:23:06', '2024-01-22 21:27:06', '2024-01-22 21:28:06', 93, 4)\n",
      "('20000091', 'DRH1', '2024-01-19 17:39:00', '2024-01-22 13:26:00', '2024-01-22 13:35:48', '2024-01-23 06:01:48', '2024-01-23 07:53:48', 98, 2)\n",
      "('20000085', 'FRA', '2024-01-22 13:33:30', '2024-01-22 17:36:30', '2024-01-22 17:57:48', '2024-01-23 06:51:48', '2024-01-23 06:53:48', 97, 3)\n",
      "('20000113', 'QPR', '2024-01-22 21:32:06', '2024-01-22 21:32:06', '2024-01-22 21:36:36', '2024-01-23 07:20:36', '2024-01-23 07:21:36', 90, 3)\n",
      "('20000113', 'FTL', '2024-01-23 07:26:36', None, None, None, None, None, None)\n",
      "('20000096', 'SAE', '2024-01-22 17:25:00', '2024-01-22 21:49:00', '2024-01-22 21:56:18', '2024-01-23 07:31:18', '2024-01-23 07:33:18', 49, 1)\n",
      "('20000086', 'DRH2', '2024-01-19 17:58:42', '2024-01-22 18:17:42', '2024-01-22 18:26:36', '2024-01-23 08:29:36', '2024-01-23 08:29:36', 25, 0)\n",
      "('20000097', 'SAE', '2024-01-22 17:29:00', '2024-01-23 07:32:00', '2024-01-23 07:41:00', '2024-01-23 09:11:00', '2024-01-23 09:12:00', 100, 0)\n",
      "('20000090', 'HAE', '2024-01-22 17:24:42', '2024-01-22 21:27:42', '2024-01-22 21:55:12', '2024-01-23 09:12:12', '2024-01-23 09:13:12', 49, 0)\n",
      "('20000086', 'QPR', '2024-01-23 08:33:36', '2024-01-23 08:33:36', '2024-01-23 08:49:36', '2024-01-23 09:16:36', '2024-01-23 09:16:36', 25, 0)\n",
      "('20000086', 'FTL', '2024-01-23 09:21:36', None, None, None, None, None, None)\n",
      "('20000090', 'QPR', '2024-01-23 09:17:12', '2024-01-23 09:17:12', '2024-01-23 09:26:48', '2024-01-23 10:52:48', '2024-01-23 10:54:48', 49, 0)\n",
      "('20000088', 'DRH1', '2024-01-19 19:29:54', '2024-01-23 06:01:54', '2024-01-23 06:16:54', '2024-01-23 10:54:54', '2024-01-23 10:54:54', 47, 3)\n",
      "('20000090', 'FTL', '2024-01-23 10:59:48', None, None, None, None, None, None)\n",
      "('20000098', 'SAE', '2024-01-22 17:31:00', '2024-01-23 09:12:00', '2024-01-23 09:22:00', '2024-01-23 11:24:00', '2024-01-23 11:26:00', 25, 0)\n",
      "('20000088', 'QPR', '2024-01-23 10:58:54', '2024-01-23 10:58:54', '2024-01-23 11:10:42', '2024-01-23 11:57:42', '2024-01-23 11:59:42', 47, 0)\n",
      "('20000088', 'FTL', '2024-01-23 12:04:42', None, None, None, None, None, None)\n",
      "('20000100', 'SAE', '2024-01-22 17:35:00', '2024-01-23 11:25:00', '2024-01-23 11:36:12', '2024-01-23 12:52:12', '2024-01-23 12:53:12', 50, 0)\n",
      "('20000091', 'FRA', '2024-01-23 07:57:48', '2024-01-23 08:37:48', '2024-01-23 09:00:18', '2024-01-23 13:51:18', '2024-01-23 13:52:18', 95, 3)\n",
      "('20000085', 'HAE', '2024-01-23 06:58:48', '2024-01-23 09:12:48', '2024-01-23 09:22:48', '2024-01-23 14:22:48', '2024-01-23 14:22:48', 90, 7)\n",
      "('20000101', 'SAE', '2024-01-22 17:33:00', '2024-01-23 12:53:00', '2024-01-23 13:01:06', '2024-01-23 14:57:06', '2024-01-23 14:59:06', 49, 1)\n",
      "('20000089', 'DRH2', '2024-01-19 21:16:30', '2024-01-23 10:35:30', '2024-01-23 10:45:42', '2024-01-23 16:24:42', '2024-01-23 16:24:42', 49, 1)\n",
      "('20000085', 'QPR', '2024-01-23 14:26:48', '2024-01-23 14:26:48', '2024-01-23 14:38:00', '2024-01-23 16:47:00', '2024-01-23 16:47:00', 89, 1)\n",
      "('20000085', 'FTL', '2024-01-23 16:51:00', None, None, None, None, None, None)\n",
      "('20000102', 'SAE', '2024-01-22 17:33:00', '2024-01-23 14:58:00', '2024-01-23 15:08:24', '2024-01-23 16:51:24', '2024-01-23 16:54:24', 99, 1)\n",
      "('20000089', 'QPR', '2024-01-23 16:28:42', '2024-01-23 16:47:42', '2024-01-23 16:52:18', '2024-01-23 17:55:18', '2024-01-23 17:57:18', 48, 1)\n",
      "('20000089', 'FTL', '2024-01-23 18:02:18', None, None, None, None, None, None)\n",
      "('20000091', 'HAE', '2024-01-23 13:57:18', '2024-01-23 14:23:18', '2024-01-23 14:32:24', '2024-01-23 18:54:24', '2024-01-23 18:57:24', 92, 3)\n",
      "('20000103', 'DRH1', '2024-01-22 17:40:00', '2024-01-23 11:40:00', '2024-01-23 11:56:24', '2024-01-23 19:18:24', '2024-01-23 19:20:24', 49, 1)\n",
      "('20000091', 'QPR', '2024-01-23 19:01:24', '2024-01-23 19:01:24', '2024-01-23 19:12:12', '2024-01-23 21:46:12', '2024-01-23 21:47:12', 92, 0)\n",
      "('20000091', 'FTL', '2024-01-23 21:52:12', None, None, None, None, None, None)\n",
      "('20000118', 'RTL', '2024-01-24 06:00:00', None, None, None, None, None, None)\n",
      "('20000122', 'RTL', '2024-01-24 06:00:00', None, None, None, None, None, None)\n",
      "('20000092', 'DRH2', '2024-01-22 19:49:12', '2024-01-23 16:25:12', '2024-01-23 16:35:24', '2024-01-24 06:42:24', '2024-01-24 09:17:24', 25, 0)\n",
      "('20000103', 'HAE', '2024-01-23 19:25:24', '2024-01-23 19:25:24', '2024-01-23 19:52:42', '2024-01-24 07:07:42', '2024-01-24 07:09:42', 48, 1)\n",
      "('20000095', 'DRH1', '2024-01-22 21:23:42', '2024-01-23 19:18:42', '2024-01-23 19:34:24', '2024-01-24 07:43:24', '2024-01-24 07:44:24', 48, 1)\n",
      "('20000103', 'QPR', '2024-01-24 07:13:42', '2024-01-24 07:13:42', '2024-01-24 07:23:18', '2024-01-24 08:34:18', '2024-01-24 08:34:18', 48, 0)\n",
      "('20000103', 'FTL', '2024-01-24 08:39:18', None, None, None, None, None, None)\n",
      "('20000095', 'QPR', '2024-01-24 07:48:24', '2024-01-24 08:34:24', '2024-01-24 08:45:18', '2024-01-24 09:29:18', '2024-01-24 09:29:18', 45, 3)\n",
      "('20000095', 'FTL', '2024-01-24 09:34:18', None, None, None, None, None, None)\n",
      "('20000122', 'SAE', '2024-01-24 06:15:00', '2024-01-24 06:15:00', '2024-01-24 06:26:06', '2024-01-24 09:39:06', '2024-01-24 09:42:06', 100, 0)\n",
      "('20000092', 'QPR', '2024-01-24 09:22:24', '2024-01-24 09:29:24', '2024-01-24 09:42:30', '2024-01-24 10:06:30', '2024-01-24 10:08:30', 25, 0)\n",
      "('20000092', 'FTL', '2024-01-24 10:13:30', None, None, None, None, None, None)\n",
      "('20000118', 'FRA', '2024-01-24 06:10:00', '2024-01-24 06:50:00', '2024-01-24 07:04:18', '2024-01-24 10:58:18', '2024-01-24 11:01:18', 23, 2)\n",
      "('20000118', 'QPR', '2024-01-24 11:06:18', '2024-01-24 11:06:18', '2024-01-24 11:21:48', '2024-01-24 12:22:48', '2024-01-24 12:22:48', 22, 1)\n",
      "('20000118', 'FTL', '2024-01-24 12:27:48', None, None, None, None, None, None)\n",
      "('20000096', 'DRH2', '2024-01-23 07:37:18', '2024-01-24 07:43:18', '2024-01-24 07:53:54', '2024-01-24 13:06:54', '2024-01-24 13:07:54', 49, 0)\n",
      "('20000096', 'QPR', '2024-01-24 13:11:54', '2024-01-24 13:11:54', '2024-01-24 13:17:06', '2024-01-24 14:14:06', '2024-01-24 14:14:06', 46, 3)\n",
      "('20000096', 'FTL', '2024-01-24 14:19:06', None, None, None, None, None, None)\n",
      "('20000097', 'DRH1', '2024-01-23 09:16:00', '2024-01-24 07:44:00', '2024-01-24 07:59:06', '2024-01-24 15:33:06', '2024-01-24 15:36:06', 97, 3)\n",
      "('20000104', 'RTL', '2024-01-24 15:34:00', None, None, None, None, None, None)\n",
      "('20000122', 'FRA', '2024-01-24 09:46:06', '2024-01-24 10:59:06', '2024-01-24 11:18:12', '2024-01-24 15:48:12', '2024-01-24 15:49:12', 97, 3)\n",
      "('20000097', 'QPR', '2024-01-24 15:41:06', '2024-01-24 15:41:06', '2024-01-24 15:51:06', '2024-01-24 17:37:06', '2024-01-24 17:37:06', 97, 0)\n",
      "('20000097', 'FTL', '2024-01-24 17:42:06', None, None, None, None, None, None)\n",
      "('20000098', 'DRH2', '2024-01-23 11:30:00', '2024-01-24 13:07:00', '2024-01-24 13:17:42', '2024-01-24 19:36:42', '2024-01-24 19:38:42', 25, 0)\n",
      "('20000107', 'RTL', '2024-01-24 19:37:00', None, None, None, None, None, None)\n",
      "('20000108', 'RTL', '2024-01-24 19:37:00', None, None, None, None, None, None)\n",
      "('20000109', 'RTL', '2024-01-24 19:37:00', None, None, None, None, None, None)\n",
      "('20000110', 'RTL', '2024-01-24 19:37:00', None, None, None, None, None, None)\n",
      "('20000098', 'QPR', '2024-01-24 19:42:42', '2024-01-24 19:42:42', '2024-01-24 19:57:48', '2024-01-24 20:19:48', '2024-01-24 20:19:48', 25, 0)\n",
      "('20000122', 'HAE', '2024-01-24 15:54:12', '2024-01-24 15:54:12', '2024-01-24 16:13:30', '2024-01-24 20:21:30', '2024-01-25 06:02:00', 92, 5)\n",
      "('20000098', 'FTL', '2024-01-24 20:24:48', None, None, None, None, None, None)\n",
      "('20000100', 'DRH1', '2024-01-23 12:57:12', '2024-01-24 16:18:12', '2024-01-24 16:32:12', '2024-01-24 20:28:12', '2024-01-24 20:29:12', 48, 2)\n",
      "('20000111', 'RTL', '2024-01-24 20:29:00', None, None, None, None, None, None)\n",
      "('20000107', 'SAE', '2024-01-24 19:45:00', '2024-01-24 19:45:00', '2024-01-24 19:53:54', '2024-01-24 21:03:54', '2024-01-24 21:04:54', 50, 0)\n",
      "('20000100', 'QPR', '2024-01-24 20:34:12', '2024-01-24 20:34:12', '2024-01-24 20:46:06', '2024-01-24 21:34:06', '2024-01-24 21:34:06', 48, 0)\n",
      "('20000100', 'FTL', '2024-01-24 21:39:06', None, None, None, None, None, None)\n",
      "('20000123', 'RTL', '2024-01-25 06:00:00', None, None, None, None, None, None)\n",
      "('20000129', 'RTL', '2024-01-25 06:00:00', None, None, None, None, None, None)\n",
      "('20000108', 'SAE', '2024-01-24 19:49:00', '2024-01-24 21:04:00', '2024-01-24 21:12:18', '2024-01-25 06:52:18', '2024-01-25 06:54:18', 50, 0)\n",
      "('20000122', 'QPR', '2024-01-25 06:06:00', '2024-01-25 06:06:00', '2024-01-25 06:10:18', '2024-01-25 07:59:18', '2024-01-25 08:01:18', 92, 0)\n",
      "('20000122', 'FTL', '2024-01-25 08:06:18', None, None, None, None, None, None)\n",
      "('20000109', 'SAE', '2024-01-24 19:44:00', '2024-01-25 06:53:00', '2024-01-25 07:03:54', '2024-01-25 08:47:54', '2024-01-25 08:47:54', 98, 2)\n",
      "('20000101', 'DRH2', '2024-01-23 15:03:06', '2024-01-24 20:37:06', '2024-01-24 20:46:36', '2024-01-25 10:11:36', '2024-01-25 10:11:36', 49, 0)\n",
      "('20000101', 'QPR', '2024-01-25 10:15:36', '2024-01-25 10:15:36', '2024-01-25 10:21:00', '2024-01-25 11:15:00', '2024-01-25 11:15:00', 49, 0)\n",
      "('20000101', 'FTL', '2024-01-25 11:20:00', None, None, None, None, None, None)\n",
      "('20000129', 'SAE', '2024-01-25 08:25:00', '2024-01-25 09:18:00', '2024-01-25 09:28:06', '2024-01-25 12:38:06', '2024-01-25 12:39:06', 100, 0)\n",
      "('20000102', 'DRH1', '2024-01-23 16:58:24', '2024-01-24 20:28:24', '2024-01-24 20:43:24', '2024-01-25 12:48:24', '2024-01-25 12:49:24', 98, 1)\n",
      "('20000123', 'FRA', '2024-01-25 08:21:00', '2024-01-25 09:01:00', '2024-01-25 09:16:24', '2024-01-25 13:27:24', '2024-01-25 13:27:24', 22, 3)\n",
      "('20000102', 'QPR', '2024-01-25 12:54:24', '2024-01-25 12:54:24', '2024-01-25 13:04:30', '2024-01-25 14:40:30', '2024-01-25 14:40:30', 98, 0)\n",
      "('20000102', 'FTL', '2024-01-25 14:45:30', None, None, None, None, None, None)\n",
      "('20000123', 'QPR', '2024-01-25 13:31:24', '2024-01-25 14:41:24', '2024-01-25 14:56:54', '2024-01-25 15:58:54', '2024-01-25 15:58:54', 21, 1)\n",
      "('20000123', 'FTL', '2024-01-25 16:02:54', None, None, None, None, None, None)\n",
      "('20000129', 'FRA', '2024-01-25 12:43:06', '2024-01-25 13:28:06', '2024-01-25 13:47:12', '2024-01-25 19:04:12', '2024-01-25 19:07:12', 96, 4)\n",
      "('20000104', 'DRH2', '2024-01-24 15:41:00', '2024-01-25 10:12:00', '2024-01-25 10:20:54', '2024-01-25 19:19:54', '2024-01-25 19:21:54', 99, 1)\n",
      "('20000110', 'DRH1', '2024-01-24 19:48:00', '2024-01-25 14:19:00', '2024-01-25 14:33:12', '2024-01-25 21:36:12', '2024-01-25 21:38:12', 49, 1)\n",
      "('20000112', 'RTL', '2024-01-25 21:37:00', None, None, None, None, None, None)\n",
      "('20000114', 'RTL', '2024-01-25 21:37:00', None, None, None, None, None, None)\n",
      "('20000115', 'RTL', '2024-01-25 21:37:00', None, None, None, None, None, None)\n",
      "('20000130', 'RTL', '2024-01-26 06:00:00', None, None, None, None, None, None)\n",
      "('20000137', 'RTL', '2024-01-26 06:00:00', None, None, None, None, None, None)\n",
      "('20000112', 'SAE', '2024-01-25 21:44:00', '2024-01-25 21:44:00', '2024-01-25 21:53:54', '2024-01-26 07:57:54', '2024-01-26 07:57:54', 25, 0)\n",
      "('20000104', 'FRA', '2024-01-25 19:26:54', '2024-01-25 19:26:54', '2024-01-25 19:48:30', '2024-01-26 08:38:30', '2024-01-26 08:39:30', 97, 2)\n",
      "('20000129', 'HAE', '2024-01-25 19:13:12', '2024-01-25 20:43:12', '2024-01-25 21:01:48', '2024-01-26 08:59:48', '2024-01-26 08:59:48', 92, 4)\n",
      "('20000114', 'SAE', '2024-01-25 21:48:00', '2024-01-26 07:58:00', '2024-01-26 08:06:30', '2024-01-26 09:19:30', '2024-01-26 09:20:30', 50, 0)\n",
      "('20000107', 'DRH1', '2024-01-24 21:08:54', '2024-01-25 21:36:54', '2024-01-25 21:50:12', '2024-01-26 09:40:12', '2024-01-26 09:40:12', 50, 0)\n",
      "('20000129', 'QPR', '2024-01-26 09:03:48', '2024-01-26 09:03:48', '2024-01-26 09:09:12', '2024-01-26 10:55:12', '2024-01-26 10:55:12', 92, 0)\n",
      "('20000129', 'FTL', '2024-01-26 11:00:12', None, None, None, None, None, None)\n",
      "('20000107', 'QPR', '2024-01-26 09:44:12', '2024-01-26 10:55:12', '2024-01-26 11:08:06', '2024-01-26 12:00:06', '2024-01-26 12:00:06', 50, 0)\n",
      "('20000107', 'FTL', '2024-01-26 12:05:06', None, None, None, None, None, None)\n",
      "('20000111', 'DRH2', '2024-01-24 20:36:00', '2024-01-25 20:20:00', '2024-01-25 20:29:42', '2024-01-26 12:47:42', '2024-01-26 12:48:42', 100, 0)\n",
      "('20000116', 'RTL', '2024-01-26 12:48:00', None, None, None, None, None, None)\n",
      "('20000137', 'SAE', '2024-01-26 06:06:00', '2024-01-26 09:20:00', '2024-01-26 09:30:48', '2024-01-26 12:50:48', '2024-01-26 12:53:48', 99, 1)\n",
      "('20000110', 'HAE', '2024-01-25 21:43:12', '2024-01-26 09:00:12', '2024-01-26 09:28:48', '2024-01-26 13:05:48', '2024-01-26 13:06:48', 47, 2)\n",
      "('20000130', 'FRA', '2024-01-26 06:06:00', '2024-01-26 09:19:00', '2024-01-26 09:34:54', '2024-01-26 13:32:54', '2024-01-26 13:32:54', 25, 0)\n",
      "('20000110', 'QPR', '2024-01-26 13:10:48', '2024-01-26 13:10:48', '2024-01-26 13:19:42', '2024-01-26 14:31:42', '2024-01-26 14:31:42', 47, 0)\n",
      "('20000110', 'FTL', '2024-01-26 14:36:42', None, None, None, None, None, None)\n",
      "('20000108', 'DRH1', '2024-01-25 06:58:18', '2024-01-26 09:40:18', '2024-01-26 09:50:18', '2024-01-26 15:46:18', '2024-01-26 15:47:18', 47, 3)\n",
      "('20000130', 'QPR', '2024-01-26 13:37:54', '2024-01-26 14:31:54', '2024-01-26 14:46:12', '2024-01-26 16:06:12', '2024-01-26 16:06:12', 25, 0)\n",
      "('20000130', 'FTL', '2024-01-26 16:10:12', None, None, None, None, None, None)\n",
      "('20000108', 'QPR', '2024-01-26 15:51:18', '2024-01-26 16:06:18', '2024-01-26 16:11:30', '2024-01-26 17:12:30', '2024-01-26 17:14:30', 47, 0)\n",
      "('20000108', 'FTL', '2024-01-26 17:19:30', None, None, None, None, None, None)\n",
      "('20000104', 'HAE', '2024-01-26 08:44:30', '2024-01-26 13:06:30', '2024-01-26 13:15:48', '2024-01-26 18:31:48', '2024-01-26 20:05:48', 93, 4)\n",
      "('20000111', 'FRA', '2024-01-26 12:52:42', '2024-01-26 13:33:42', '2024-01-26 13:54:30', '2024-01-26 19:07:30', '2024-01-26 19:10:30', 97, 3)\n",
      "('20000138', 'RTL', '2024-01-29 06:00:00', None, None, None, None, None, None)\n",
      "('20000109', 'DRH2', '2024-01-25 08:51:54', '2024-01-26 13:47:54', '2024-01-26 14:02:36', '2024-01-29 06:10:36', '2024-01-29 06:12:36', 97, 1)\n",
      "('20000117', 'RTL', '2024-01-29 06:11:00', None, None, None, None, None, None)\n",
      "('20000119', 'RTL', '2024-01-29 06:11:00', None, None, None, None, None, None)\n",
      "('20000120', 'RTL', '2024-01-29 06:11:00', None, None, None, None, None, None)\n",
      "('20000121', 'RTL', '2024-01-29 06:11:00', None, None, None, None, None, None)\n",
      "('20000124', 'RTL', '2024-01-29 06:11:00', None, None, None, None, None, None)\n",
      "('20000125', 'RTL', '2024-01-29 06:11:00', None, None, None, None, None, None)\n",
      "('20000126', 'RTL', '2024-01-29 06:11:00', None, None, None, None, None, None)\n",
      "('20000104', 'QPR', '2024-01-26 20:09:48', '2024-01-26 20:09:48', '2024-01-26 20:19:30', '2024-01-29 06:43:30', '2024-01-29 08:12:30', 93, 0)\n",
      "('20000115', 'DRH1', '2024-01-25 21:44:00', '2024-01-26 16:32:00', '2024-01-26 16:46:18', '2024-01-29 07:33:18', '2024-01-29 07:34:18', 49, 1)\n",
      "('20000127', 'RTL', '2024-01-29 07:34:00', None, None, None, None, None, None)\n",
      "('20000111', 'HAE', '2024-01-26 19:15:30', '2024-01-26 19:15:30', '2024-01-26 19:25:18', '2024-01-29 07:52:18', '2024-01-29 07:52:18', 91, 6)\n",
      "('20000104', 'FTL', '2024-01-29 08:17:30', None, None, None, None, None, None)\n",
      "('20000109', 'QPR', '2024-01-29 06:17:36', '2024-01-29 06:43:36', '2024-01-29 06:53:30', '2024-01-29 08:28:30', '2024-01-29 08:28:30', 97, 0)\n",
      "('20000109', 'FTL', '2024-01-29 08:33:30', None, None, None, None, None, None)\n",
      "('20000117', 'SAE', '2024-01-29 06:17:00', '2024-01-29 06:17:00', '2024-01-29 06:28:06', '2024-01-29 08:47:06', '2024-01-29 10:13:06', 25, 0)\n",
      "('20000137', 'FRA', '2024-01-26 12:57:48', '2024-01-26 19:07:48', '2024-01-26 19:28:12', '2024-01-29 08:47:12', '2024-01-29 08:50:12', 95, 4)\n",
      "('20000119', 'SAE', '2024-01-29 06:21:00', '2024-01-29 08:48:00', '2024-01-29 08:58:00', '2024-01-29 10:09:00', '2024-01-29 10:11:00', 49, 1)\n",
      "('20000111', 'QPR', '2024-01-29 07:56:18', '2024-01-29 08:29:18', '2024-01-29 08:38:42', '2024-01-29 10:40:42', '2024-01-29 12:47:42', 90, 1)\n",
      "('20000115', 'HAE', '2024-01-29 07:39:18', '2024-01-29 07:52:18', '2024-01-29 08:22:12', '2024-01-29 11:45:12', '2024-01-29 11:46:12', 48, 1)\n",
      "('20000114', 'DRH1', '2024-01-26 09:24:30', '2024-01-29 07:33:30', '2024-01-29 07:48:24', '2024-01-29 11:57:24', '2024-01-29 11:58:24', 50, 0)\n",
      "('20000120', 'SAE', '2024-01-29 06:24:00', '2024-01-29 10:40:00', '2024-01-29 10:48:54', '2024-01-29 12:31:54', '2024-01-29 12:33:54', 50, 0)\n",
      "('20000111', 'FTL', '2024-01-29 12:52:42', None, None, None, None, None, None)\n",
      "('20000112', 'DRH2', '2024-01-26 08:01:54', '2024-01-29 06:10:54', '2024-01-29 06:20:42', '2024-01-29 12:57:42', '2024-01-29 12:57:42', 24, 1)\n",
      "('20000115', 'QPR', '2024-01-29 11:50:12', '2024-01-29 11:50:12', '2024-01-29 12:01:12', '2024-01-29 13:15:12', '2024-01-29 13:15:12', 48, 0)\n",
      "('20000115', 'FTL', '2024-01-29 13:19:12', None, None, None, None, None, None)\n",
      "('20000138', 'FRA', '2024-01-29 06:09:00', '2024-01-29 09:28:00', '2024-01-29 09:43:30', '2024-01-29 14:06:30', '2024-01-29 14:09:30', 25, 0)\n",
      "('20000114', 'QPR', '2024-01-29 12:02:24', '2024-01-29 13:15:24', '2024-01-29 13:28:48', '2024-01-29 14:16:48', '2024-01-29 14:16:48', 50, 0)\n",
      "('20000114', 'FTL', '2024-01-29 14:21:48', None, None, None, None, None, None)\n",
      "('20000121', 'SAE', '2024-01-29 06:18:00', '2024-01-29 12:32:00', '2024-01-29 12:41:48', '2024-01-29 14:24:48', '2024-01-29 14:27:48', 100, 0)\n",
      "('20000112', 'QPR', '2024-01-29 13:01:42', '2024-01-29 14:17:42', '2024-01-29 14:34:42', '2024-01-29 15:01:42', '2024-01-29 15:03:42', 24, 0)\n",
      "('20000112', 'FTL', '2024-01-29 15:08:42', None, None, None, None, None, None)\n",
      "('20000137', 'HAE', '2024-01-29 08:56:12', '2024-01-29 11:46:12', '2024-01-29 12:06:30', '2024-01-29 16:09:30', '2024-01-29 16:12:30', 92, 3)\n",
      "('20000124', 'SAE', '2024-01-29 06:22:00', '2024-01-29 14:25:00', '2024-01-29 14:34:00', '2024-01-29 16:26:00', '2024-01-29 16:28:00', 50, 0)\n",
      "('20000138', 'QPR', '2024-01-29 14:14:30', '2024-01-29 15:02:30', '2024-01-29 15:18:36', '2024-01-29 16:27:36', '2024-01-29 16:29:36', 24, 1)\n",
      "('20000138', 'FTL', '2024-01-29 16:34:36', None, None, None, None, None, None)\n",
      "('20000137', 'QPR', '2024-01-29 16:16:30', '2024-01-29 16:28:30', '2024-01-29 16:33:54', '2024-01-29 18:05:54', '2024-01-29 18:07:54', 92, 0)\n",
      "('20000137', 'FTL', '2024-01-29 18:12:54', None, None, None, None, None, None)\n",
      "('20000125', 'SAE', '2024-01-29 06:28:00', '2024-01-29 16:27:00', '2024-01-29 16:37:24', '2024-01-29 18:23:24', '2024-01-29 18:26:24', 100, 0)\n",
      "('20000116', 'DRH1', '2024-01-26 12:57:00', '2024-01-29 12:43:00', '2024-01-29 12:54:06', '2024-01-29 21:00:06', '2024-01-29 21:04:06', 99, 1)\n",
      "('20000126', 'DRH2', '2024-01-29 06:25:00', '2024-01-29 13:58:00', '2024-01-29 14:15:18', '2024-01-29 21:31:18', '2024-01-29 21:33:18', 50, 0)\n",
      "('20000147', 'RTL', '2024-01-30 06:00:00', None, None, None, None, None, None)\n",
      "('20000126', 'HAE', '2024-01-29 21:38:18', '2024-01-30 06:01:00', '2024-01-30 06:33:18', '2024-01-30 09:36:18', '2024-01-30 09:38:18', 44, 6)\n",
      "('20000147', 'SAE', '2024-01-30 06:08:00', '2024-01-30 06:08:00', '2024-01-30 06:17:42', '2024-01-30 09:41:42', '2024-01-30 09:43:42', 100, 0)\n",
      "('20000119', 'DRH2', '2024-01-29 10:15:00', '2024-01-29 21:32:00', '2024-01-29 21:45:42', '2024-01-30 09:49:42', '2024-01-30 09:51:42', 49, 0)\n",
      "('20000116', 'FRA', '2024-01-29 21:09:06', '2024-01-29 21:09:06', '2024-01-29 21:28:54', '2024-01-30 10:35:54', '2024-01-30 10:37:54', 93, 6)\n",
      "('20000126', 'QPR', '2024-01-30 09:42:18', '2024-01-30 09:42:18', '2024-01-30 09:52:48', '2024-01-30 10:51:48', '2024-01-30 10:52:48', 44, 0)\n",
      "('20000126', 'FTL', '2024-01-30 10:57:48', None, None, None, None, None, None)\n",
      "('20000119', 'QPR', '2024-01-30 09:56:42', '2024-01-30 10:52:42', '2024-01-30 11:05:06', '2024-01-30 11:53:06', '2024-01-30 11:55:06', 49, 0)\n",
      "('20000119', 'FTL', '2024-01-30 12:00:06', None, None, None, None, None, None)\n",
      "('20000127', 'DRH1', '2024-01-29 07:39:00', '2024-01-29 21:01:00', '2024-01-29 21:10:30', '2024-01-30 13:35:30', '2024-01-30 14:40:30', 98, 2)\n",
      "('20000117', 'DRH2', '2024-01-29 10:17:06', '2024-01-30 09:50:06', '2024-01-30 10:01:12', '2024-01-30 16:33:12', '2024-01-30 16:35:12', 24, 1)\n",
      "('20000128', 'RTL', '2024-01-30 16:34:00', None, None, None, None, None, None)\n",
      "('20000131', 'RTL', '2024-01-30 16:34:00', None, None, None, None, None, None)\n",
      "('20000132', 'RTL', '2024-01-30 16:34:00', None, None, None, None, None, None)\n",
      "('20000133', 'RTL', '2024-01-30 16:34:00', None, None, None, None, None, None)\n",
      "('20000134', 'RTL', '2024-01-30 16:34:00', None, None, None, None, None, None)\n",
      "('20000116', 'HAE', '2024-01-30 10:43:54', '2024-01-30 12:13:54', '2024-01-30 12:24:06', '2024-01-30 16:52:06', '2024-01-30 18:36:06', 88, 5)\n",
      "('20000147', 'FRA', '2024-01-30 09:47:42', '2024-01-30 11:16:42', '2024-01-30 11:36:36', '2024-01-30 17:13:36', '2024-01-30 17:14:36', 98, 2)\n",
      "('20000117', 'QPR', '2024-01-30 16:40:12', '2024-01-30 16:40:12', '2024-01-30 16:55:12', '2024-01-30 17:19:12', '2024-01-30 17:21:12', 23, 1)\n",
      "('20000117', 'FTL', '2024-01-30 17:26:12', None, None, None, None, None, None)\n",
      "('20000128', 'SAE', '2024-01-30 16:41:00', '2024-01-30 16:41:00', '2024-01-30 16:50:24', '2024-01-30 18:56:24', '2024-01-30 18:58:24', 25, 0)\n",
      "('20000120', 'DRH1', '2024-01-29 12:37:54', '2024-01-30 14:20:54', '2024-01-30 14:30:12', '2024-01-30 19:37:12', '2024-01-30 19:37:12', 50, 0)\n",
      "('20000131', 'SAE', '2024-01-30 16:45:00', '2024-01-30 18:57:00', '2024-01-30 19:06:36', '2024-01-30 20:16:36', '2024-01-30 20:18:36', 50, 0)\n",
      "('20000116', 'QPR', '2024-01-30 18:40:06', '2024-01-30 18:40:06', '2024-01-30 18:50:24', '2024-01-30 21:02:24', '2024-01-30 21:02:24', 86, 2)\n",
      "('20000116', 'FTL', '2024-01-30 21:06:24', None, None, None, None, None, None)\n",
      "('20000147', 'HAE', '2024-01-30 17:20:36', '2024-01-30 17:20:36', '2024-01-30 17:39:18', '2024-01-30 21:53:18', '2024-01-30 21:55:18', 96, 2)\n",
      "('20000132', 'SAE', '2024-01-30 16:47:00', '2024-01-30 20:17:00', '2024-01-30 20:24:36', '2024-01-30 21:59:36', '2024-01-31 06:03:00', 49, 1)\n",
      "('20000148', 'RTL', '2024-01-31 06:00:00', None, None, None, None, None, None)\n",
      "('20000153', 'RTL', '2024-01-31 06:00:00', None, None, None, None, None, None)\n",
      "('20000120', 'QPR', '2024-01-30 19:42:12', '2024-01-30 21:03:12', '2024-01-30 21:08:30', '2024-01-31 06:22:30', '2024-01-31 06:24:30', 50, 0)\n",
      "('20000120', 'FTL', '2024-01-31 06:29:30', None, None, None, None, None, None)\n",
      "('20000127', 'FRA', '2024-01-30 14:45:30', '2024-01-30 17:14:30', '2024-01-30 17:32:18', '2024-01-31 06:32:18', '2024-01-31 08:12:18', 95, 3)\n",
      "('20000133', 'SAE', '2024-01-30 16:41:00', '2024-01-31 06:01:00', '2024-01-31 06:11:00', '2024-01-31 07:49:00', '2024-01-31 07:52:00', 100, 0)\n",
      "('20000147', 'QPR', '2024-01-30 21:59:18', '2024-01-31 06:23:18', '2024-01-31 06:28:12', '2024-01-31 08:17:12', '2024-01-31 08:18:12', 95, 1)\n",
      "('20000147', 'FTL', '2024-01-31 08:23:12', None, None, None, None, None, None)\n",
      "('20000124', 'DRH1', '2024-01-29 16:32:00', '2024-01-30 19:38:00', '2024-01-30 19:47:00', '2024-01-31 10:04:00', '2024-01-31 11:11:00', 48, 2)\n",
      "('20000121', 'DRH2', '2024-01-29 14:31:48', '2024-01-30 17:33:48', '2024-01-30 17:49:48', '2024-01-31 10:07:48', '2024-01-31 10:09:48', 99, 1)\n",
      "('20000148', 'FRA', '2024-01-31 06:14:00', '2024-01-31 06:33:00', '2024-01-31 06:48:18', '2024-01-31 10:44:18', '2024-01-31 10:46:18', 23, 2)\n",
      "('20000153', 'SAE', '2024-01-31 06:08:00', '2024-01-31 08:20:00', '2024-01-31 08:30:06', '2024-01-31 11:50:06', '2024-01-31 11:52:06', 100, 0)\n",
      "('20000121', 'QPR', '2024-01-31 10:13:48', '2024-01-31 10:13:48', '2024-01-31 10:24:00', '2024-01-31 11:59:00', '2024-01-31 11:59:00', 98, 1)\n",
      "('20000121', 'FTL', '2024-01-31 12:04:00', None, None, None, None, None, None)\n",
      "('20000127', 'HAE', '2024-01-31 08:17:18', '2024-01-31 08:17:18', '2024-01-31 08:28:24', '2024-01-31 12:35:24', '2024-01-31 12:38:24', 90, 5)\n",
      "('20000148', 'QPR', '2024-01-31 10:51:18', '2024-01-31 11:59:18', '2024-01-31 12:14:12', '2024-01-31 13:19:12', '2024-01-31 13:19:12', 22, 1)\n",
      "('20000148', 'FTL', '2024-01-31 13:24:12', None, None, None, None, None, None)\n",
      "('20000124', 'QPR', '2024-01-31 11:16:00', '2024-01-31 13:20:00', '2024-01-31 13:25:24', '2024-01-31 14:23:24', '2024-01-31 14:25:24', 46, 2)\n",
      "('20000124', 'FTL', '2024-01-31 14:30:24', None, None, None, None, None, None)\n",
      "('20000127', 'QPR', '2024-01-31 12:42:24', '2024-01-31 14:23:24', '2024-01-31 14:33:30', '2024-01-31 16:36:30', '2024-01-31 16:38:30', 90, 0)\n",
      "('20000127', 'FTL', '2024-01-31 16:43:30', None, None, None, None, None, None)\n",
      "('20000153', 'FRA', '2024-01-31 11:56:06', '2024-01-31 11:56:06', '2024-01-31 12:17:12', '2024-01-31 17:17:12', '2024-01-31 17:20:12', 96, 4)\n",
      "('20000134', 'DRH2', '2024-01-30 16:45:00', '2024-01-31 10:08:00', '2024-01-31 10:22:12', '2024-01-31 17:32:12', '2024-01-31 17:34:12', 50, 0)\n",
      "('20000125', 'DRH1', '2024-01-29 18:30:24', '2024-01-31 10:04:24', '2024-01-31 10:20:36', '2024-01-31 17:35:36', '2024-01-31 17:37:36', 97, 3)\n",
      "('20000135', 'RTL', '2024-01-31 17:36:00', None, None, None, None, None, None)\n",
      "('20000125', 'QPR', '2024-01-31 17:41:36', '2024-01-31 17:41:36', '2024-01-31 17:50:48', '2024-01-31 19:22:48', '2024-01-31 19:34:48', 97, 0)\n",
      "('20000125', 'FTL', '2024-01-31 19:39:48', None, None, None, None, None, None)\n",
      "('20000153', 'HAE', '2024-01-31 17:26:12', '2024-01-31 17:26:12', '2024-01-31 17:45:00', '2024-01-31 21:53:00', '2024-01-31 21:53:00', 89, 7)\n",
      "('20000155', 'RTL', '2024-02-01 06:00:00', None, None, None, None, None, None)\n",
      "('20000161', 'RTL', '2024-02-01 06:00:00', None, None, None, None, None, None)\n",
      "('20000131', 'DRH1', '2024-01-30 20:22:36', '2024-01-31 18:21:36', '2024-01-31 18:36:12', '2024-02-01 06:38:12', '2024-02-01 06:39:12', 48, 2)\n",
      "('20000136', 'RTL', '2024-02-01 06:39:00', None, None, None, None, None, None)\n",
      "('20000139', 'RTL', '2024-02-01 06:39:00', None, None, None, None, None, None)\n",
      "('20000140', 'RTL', '2024-02-01 06:39:00', None, None, None, None, None, None)\n",
      "('20000141', 'RTL', '2024-02-01 06:39:00', None, None, None, None, None, None)\n",
      "('20000153', 'QPR', '2024-01-31 21:57:00', '2024-02-01 06:01:00', '2024-02-01 06:06:24', '2024-02-01 07:55:24', '2024-02-01 07:55:24', 86, 3)\n",
      "('20000153', 'FTL', '2024-02-01 08:00:24', None, None, None, None, None, None)\n",
      "('20000131', 'QPR', '2024-02-01 06:44:12', '2024-02-01 07:56:12', '2024-02-01 08:07:12', '2024-02-01 08:52:12', '2024-02-01 08:53:12', 46, 2)\n",
      "('20000131', 'FTL', '2024-02-01 08:58:12', None, None, None, None, None, None)\n",
      "('20000161', 'SAE', '2024-02-01 06:07:00', '2024-02-01 06:07:00', '2024-02-01 06:16:54', '2024-02-01 09:22:54', '2024-02-01 09:22:54', 100, 0)\n",
      "('20000134', 'HAE', '2024-01-31 17:39:12', '2024-02-01 06:01:00', '2024-02-01 06:29:12', '2024-02-01 09:55:12', '2024-02-01 09:58:12', 48, 2)\n",
      "('20000128', 'DRH2', '2024-01-30 19:02:24', '2024-01-31 19:37:24', '2024-01-31 19:46:54', '2024-02-01 10:17:54', '2024-02-01 10:19:54', 24, 1)\n",
      "('20000142', 'RTL', '2024-02-01 10:18:00', None, None, None, None, None, None)\n",
      "('20000134', 'QPR', '2024-02-01 10:02:12', '2024-02-01 10:02:12', '2024-02-01 10:12:42', '2024-02-01 11:22:42', '2024-02-01 11:22:42', 48, 0)\n",
      "('20000155', 'FRA', '2024-02-01 06:06:00', '2024-02-01 07:21:00', '2024-02-01 07:35:24', '2024-02-01 11:25:24', '2024-02-01 12:16:24', 25, 0)\n",
      "('20000134', 'FTL', '2024-02-01 11:27:42', None, None, None, None, None, None)\n",
      "('20000136', 'SAE', '2024-02-01 06:44:00', '2024-02-01 09:23:00', '2024-02-01 09:33:06', '2024-02-01 11:44:06', '2024-02-01 11:47:06', 25, 0)\n",
      "('20000128', 'QPR', '2024-02-01 10:24:54', '2024-02-01 11:22:54', '2024-02-01 11:37:30', '2024-02-01 12:04:30', '2024-02-01 12:06:30', 24, 0)\n",
      "('20000128', 'FTL', '2024-02-01 12:11:30', None, None, None, None, None, None)\n",
      "('20000132', 'DRH1', '2024-01-31 06:07:00', '2024-02-01 06:39:00', '2024-02-01 06:48:24', '2024-02-01 12:39:24', '2024-02-01 12:40:24', 48, 1)\n",
      "('20000139', 'SAE', '2024-02-01 06:48:00', '2024-02-01 11:45:00', '2024-02-01 11:54:42', '2024-02-01 13:06:42', '2024-02-01 13:08:42', 49, 1)\n",
      "('20000155', 'QPR', '2024-02-01 12:20:24', '2024-02-01 12:20:24', '2024-02-01 12:34:30', '2024-02-01 13:52:30', '2024-02-01 13:54:30', 24, 1)\n",
      "('20000155', 'FTL', '2024-02-01 13:59:30', None, None, None, None, None, None)\n",
      "('20000140', 'SAE', '2024-02-01 06:46:00', '2024-02-01 13:07:00', '2024-02-01 13:14:48', '2024-02-01 14:50:48', '2024-02-01 14:51:48', 49, 1)\n",
      "('20000132', 'QPR', '2024-02-01 12:44:24', '2024-02-01 13:53:24', '2024-02-01 13:58:12', '2024-02-01 14:54:12', '2024-02-01 14:56:12', 48, 0)\n",
      "('20000132', 'FTL', '2024-02-01 15:01:12', None, None, None, None, None, None)\n",
      "('20000161', 'FRA', '2024-02-01 09:26:54', '2024-02-01 11:25:54', '2024-02-01 11:44:24', '2024-02-01 16:54:24', '2024-02-01 16:55:24', 99, 1)\n",
      "('20000133', 'DRH2', '2024-01-31 07:56:00', '2024-02-01 11:18:00', '2024-02-01 11:32:30', '2024-02-01 20:17:30', '2024-02-01 20:18:30', 98, 2)\n",
      "('20000161', 'HAE', '2024-02-01 17:00:24', '2024-02-01 17:00:24', '2024-02-01 17:18:12', '2024-02-01 20:51:12', '2024-02-01 20:51:12', 98, 1)\n",
      "('20000162', 'RTL', '2024-02-02 06:00:00', None, None, None, None, None, None)\n",
      "('20000133', 'QPR', '2024-02-01 20:23:30', '2024-02-01 20:23:30', '2024-02-01 20:32:48', '2024-02-02 06:19:48', '2024-02-02 06:19:48', 97, 1)\n",
      "('20000133', 'FTL', '2024-02-02 06:23:48', None, None, None, None, None, None)\n",
      "('20000135', 'DRH1', '2024-01-31 17:43:00', '2024-02-01 14:10:00', '2024-02-01 14:20:06', '2024-02-02 07:04:06', '2024-02-02 07:06:06', 99, 1)\n",
      "('20000161', 'QPR', '2024-02-01 20:55:12', '2024-02-02 06:20:12', '2024-02-02 06:25:06', '2024-02-02 08:26:06', '2024-02-02 08:28:06', 98, 0)\n",
      "('20000161', 'FTL', '2024-02-02 08:33:06', None, None, None, None, None, None)\n",
      "('20000162', 'FRA', '2024-02-02 06:09:00', '2024-02-02 06:49:00', '2024-02-02 07:04:48', '2024-02-02 11:05:48', '2024-02-02 11:08:48', 25, 0)\n",
      "('20000141', 'DRH2', '2024-02-01 06:50:00', '2024-02-01 20:18:00', '2024-02-01 20:32:42', '2024-02-02 11:53:42', '2024-02-02 11:55:42', 50, 0)\n",
      "('20000143', 'RTL', '2024-02-02 11:54:00', None, None, None, None, None, None)\n",
      "('20000144', 'RTL', '2024-02-02 11:54:00', None, None, None, None, None, None)\n",
      "('20000145', 'RTL', '2024-02-02 11:54:00', None, None, None, None, None, None)\n",
      "('20000162', 'QPR', '2024-02-02 11:13:48', '2024-02-02 11:13:48', '2024-02-02 11:28:30', '2024-02-02 12:36:30', '2024-02-02 12:37:30', 24, 1)\n",
      "('20000162', 'FTL', '2024-02-02 12:42:30', None, None, None, None, None, None)\n",
      "('20000143', 'SAE', '2024-02-02 12:01:00', '2024-02-02 12:01:00', '2024-02-02 12:10:30', '2024-02-02 14:16:30', '2024-02-02 15:57:30', 25, 0)\n",
      "('20000142', 'DRH1', '2024-02-01 10:23:00', '2024-02-02 07:05:00', '2024-02-02 07:14:42', '2024-02-02 15:24:42', '2024-02-02 15:25:42', 100, 0)\n",
      "('20000146', 'RTL', '2024-02-02 15:25:00', None, None, None, None, None, None)\n",
      "('20000144', 'SAE', '2024-02-02 12:05:00', '2024-02-02 14:17:00', '2024-02-02 14:27:12', '2024-02-02 16:15:12', '2024-02-02 16:16:12', 99, 1)\n",
      "('20000135', 'FRA', '2024-02-02 07:11:06', '2024-02-02 11:06:06', '2024-02-02 11:26:00', '2024-02-02 16:39:00', '2024-02-02 16:39:00', 98, 1)\n",
      "('20000141', 'HAE', '2024-02-02 12:00:42', '2024-02-02 13:30:42', '2024-02-02 14:01:18', '2024-02-02 17:40:18', '2024-02-02 17:40:18', 47, 3)\n",
      "('20000141', 'QPR', '2024-02-02 17:44:18', '2024-02-02 17:44:18', '2024-02-02 17:54:18', '2024-02-02 18:54:18', '2024-02-02 18:54:18', 46, 1)\n",
      "('20000141', 'FTL', '2024-02-02 18:58:18', None, None, None, None, None, None)\n",
      "('20000139', 'DRH1', '2024-02-01 13:12:42', '2024-02-02 15:24:42', '2024-02-02 15:39:12', '2024-02-02 19:44:12', '2024-02-02 19:44:12', 47, 2)\n",
      "('20000136', 'DRH2', '2024-02-01 11:51:06', '2024-02-02 12:54:06', '2024-02-02 13:04:30', '2024-02-02 20:34:30', '2024-02-02 20:35:30', 25, 0)\n",
      "('20000139', 'QPR', '2024-02-02 19:48:12', '2024-02-02 19:48:12', '2024-02-02 20:00:24', '2024-02-02 20:47:24', '2024-02-02 20:47:24', 47, 0)\n",
      "('20000139', 'FTL', '2024-02-02 20:52:24', None, None, None, None, None, None)\n",
      "('20000136', 'QPR', '2024-02-02 20:39:30', '2024-02-02 20:47:30', '2024-02-02 21:01:42', '2024-02-02 21:24:42', '2024-02-02 21:26:42', 25, 0)\n",
      "('20000136', 'FTL', '2024-02-02 21:31:42', None, None, None, None, None, None)\n",
      "('20000173', 'RTL', '2024-02-05 06:00:00', None, None, None, None, None, None)\n",
      "('20000142', 'FRA', '2024-02-02 15:29:42', '2024-02-02 17:19:42', '2024-02-02 17:41:36', '2024-02-05 06:21:36', '2024-02-05 09:01:36', 98, 2)\n",
      "('20000135', 'HAE', '2024-02-02 16:44:00', '2024-02-02 17:41:00', '2024-02-02 17:50:48', '2024-02-05 06:38:48', '2024-02-05 09:06:48', 94, 4)\n",
      "('20000173', 'SAE', '2024-02-05 06:09:00', '2024-02-05 06:39:00', '2024-02-05 06:49:06', '2024-02-05 10:23:06', '2024-02-05 10:25:06', 100, 0)\n",
      "('20000140', 'DRH1', '2024-02-01 14:55:48', '2024-02-02 21:14:48', '2024-02-02 21:23:54', '2024-02-05 11:03:54', '2024-02-05 11:05:54', 48, 1)\n",
      "('20000149', 'RTL', '2024-02-05 11:04:00', None, None, None, None, None, None)\n",
      "('20000150', 'RTL', '2024-02-05 11:04:00', None, None, None, None, None, None)\n",
      "('20000151', 'RTL', '2024-02-05 11:04:00', None, None, None, None, None, None)\n",
      "('20000152', 'RTL', '2024-02-05 11:04:00', None, None, None, None, None, None)\n",
      "('20000154', 'RTL', '2024-02-05 11:04:00', None, None, None, None, None, None)\n",
      "('20000135', 'QPR', '2024-02-05 09:10:48', '2024-02-05 09:10:48', '2024-02-05 09:20:48', '2024-02-05 11:28:48', '2024-02-05 11:29:48', 93, 1)\n",
      "('20000135', 'FTL', '2024-02-05 11:33:48', None, None, None, None, None, None)\n",
      "('20000140', 'QPR', '2024-02-05 11:10:54', '2024-02-05 11:28:54', '2024-02-05 11:33:48', '2024-02-05 12:30:48', '2024-02-05 12:32:48', 48, 0)\n",
      "('20000149', 'SAE', '2024-02-05 11:11:00', '2024-02-05 11:11:00', '2024-02-05 11:21:00', '2024-02-05 12:33:00', '2024-02-05 13:01:00', 50, 0)\n",
      "('20000140', 'FTL', '2024-02-05 12:37:48', None, None, None, None, None, None)\n",
      "('20000145', 'DRH2', '2024-02-02 12:01:00', '2024-02-02 21:35:00', '2024-02-02 21:51:00', '2024-02-05 12:58:00', '2024-02-05 13:04:00', 50, 0)\n",
      "('20000156', 'RTL', '2024-02-05 12:59:00', None, None, None, None, None, None)\n",
      "('20000157', 'RTL', '2024-02-05 12:59:00', None, None, None, None, None, None)\n",
      "('20000158', 'RTL', '2024-02-05 12:59:00', None, None, None, None, None, None)\n",
      "('20000159', 'RTL', '2024-02-05 12:59:00', None, None, None, None, None, None)\n",
      "('20000142', 'HAE', '2024-02-05 09:07:36', '2024-02-05 09:07:36', '2024-02-05 09:19:00', '2024-02-05 13:59:00', '2024-02-05 13:59:00', 92, 6)\n",
      "('20000150', 'SAE', '2024-02-05 11:15:00', '2024-02-05 12:34:00', '2024-02-05 12:42:48', '2024-02-05 14:19:48', '2024-02-05 14:19:48', 49, 1)\n",
      "('20000173', 'FRA', '2024-02-05 10:29:06', '2024-02-05 10:29:06', '2024-02-05 10:49:24', '2024-02-05 15:59:24', '2024-02-05 16:01:24', 99, 1)\n",
      "('20000151', 'SAE', '2024-02-05 11:17:00', '2024-02-05 14:20:00', '2024-02-05 14:30:24', '2024-02-05 16:11:24', '2024-02-05 16:12:24', 100, 0)\n",
      "('20000142', 'QPR', '2024-02-05 14:03:00', '2024-02-05 14:03:00', '2024-02-05 14:11:48', '2024-02-05 16:31:48', '2024-02-05 16:31:48', 91, 1)\n",
      "('20000142', 'FTL', '2024-02-05 16:36:48', None, None, None, None, None, None)\n",
      "('20000145', 'HAE', '2024-02-05 13:09:00', '2024-02-05 13:59:00', '2024-02-05 14:31:24', '2024-02-05 17:41:24', '2024-02-05 18:54:24', 50, 0)\n",
      "('20000143', 'DRH1', '2024-02-02 16:01:30', '2024-02-05 11:04:30', '2024-02-05 11:14:12', '2024-02-05 17:45:12', '2024-02-05 17:45:12', 24, 1)\n",
      "('20000152', 'SAE', '2024-02-05 11:11:00', '2024-02-05 16:12:00', '2024-02-05 16:21:48', '2024-02-05 18:12:48', '2024-02-05 18:14:48', 25, 0)\n",
      "('20000143', 'QPR', '2024-02-05 17:49:12', '2024-02-05 17:49:12', '2024-02-05 18:05:00', '2024-02-05 18:32:00', '2024-02-05 18:33:00', 24, 0)\n",
      "('20000143', 'FTL', '2024-02-05 18:37:00', None, None, None, None, None, None)\n",
      "('20000156', 'SAE', '2024-02-05 13:07:00', '2024-02-05 18:13:00', '2024-02-05 18:22:42', '2024-02-05 19:43:42', '2024-02-05 19:45:42', 50, 0)\n",
      "('20000145', 'QPR', '2024-02-05 18:58:24', '2024-02-05 18:58:24', '2024-02-05 19:09:24', '2024-02-05 20:27:24', '2024-02-05 20:29:24', 50, 0)\n",
      "('20000145', 'FTL', '2024-02-05 20:34:24', None, None, None, None, None, None)\n",
      "('20000174', 'RTL', '2024-02-06 06:00:00', None, None, None, None, None, None)\n",
      "('20000178', 'RTL', '2024-02-06 06:00:00', None, None, None, None, None, None)\n",
      "('20000157', 'SAE', '2024-02-05 13:11:00', '2024-02-05 20:14:00', '2024-02-05 20:21:12', '2024-02-06 06:09:12', '2024-02-06 06:14:12', 50, 0)\n",
      "('20000146', 'DRH2', '2024-02-02 16:06:00', '2024-02-05 12:59:00', '2024-02-05 13:08:36', '2024-02-06 06:19:36', '2024-02-06 06:19:36', 98, 2)\n",
      "('20000173', 'HAE', '2024-02-05 16:07:24', '2024-02-05 19:12:24', '2024-02-05 19:32:54', '2024-02-06 07:22:54', '2024-02-06 07:25:54', 94, 5)\n",
      "('20000158', 'SAE', '2024-02-05 13:06:00', '2024-02-06 06:10:00', '2024-02-06 06:20:00', '2024-02-06 08:09:00', '2024-02-06 08:11:00', 100, 0)\n",
      "('20000173', 'QPR', '2024-02-06 07:29:54', '2024-02-06 07:29:54', '2024-02-06 07:34:54', '2024-02-06 09:30:54', '2024-02-06 09:32:54', 94, 0)\n",
      "('20000173', 'FTL', '2024-02-06 09:37:54', None, None, None, None, None, None)\n",
      "('20000144', 'DRH1', '2024-02-02 16:20:12', '2024-02-05 18:31:12', '2024-02-05 18:45:36', '2024-02-06 09:40:36', '2024-02-06 09:43:36', 98, 1)\n",
      "('20000174', 'FRA', '2024-02-06 06:10:00', '2024-02-06 06:50:00', '2024-02-06 07:04:30', '2024-02-06 11:14:30', '2024-02-06 12:33:30', 25, 0)\n",
      "('20000144', 'QPR', '2024-02-06 09:48:36', '2024-02-06 09:48:36', '2024-02-06 09:58:48', '2024-02-06 11:39:48', '2024-02-06 11:41:48', 97, 1)\n",
      "('20000144', 'FTL', '2024-02-06 11:46:48', None, None, None, None, None, None)\n",
      "('20000178', 'SAE', '2024-02-06 06:15:00', '2024-02-06 08:10:00', '2024-02-06 08:19:48', '2024-02-06 11:49:48', '2024-02-06 11:52:48', 100, 0)\n",
      "('20000149', 'DRH1', '2024-02-05 13:05:00', '2024-02-06 09:41:00', '2024-02-06 09:57:12', '2024-02-06 14:05:12', '2024-02-06 14:07:12', 50, 0)\n",
      "('20000174', 'QPR', '2024-02-06 12:38:30', '2024-02-06 12:38:30', '2024-02-06 12:54:06', '2024-02-06 14:12:06', '2024-02-06 14:12:06', 25, 0)\n",
      "('20000174', 'FTL', '2024-02-06 14:17:06', None, None, None, None, None, None)\n",
      "('20000149', 'QPR', '2024-02-06 14:12:12', '2024-02-06 14:12:12', '2024-02-06 14:24:54', '2024-02-06 15:15:54', '2024-02-06 15:17:54', 50, 0)\n",
      "('20000149', 'FTL', '2024-02-06 15:22:54', None, None, None, None, None, None)\n",
      "('20000146', 'FRA', '2024-02-06 06:24:36', '2024-02-06 11:14:36', '2024-02-06 11:33:00', '2024-02-06 16:30:00', '2024-02-06 16:30:00', 93, 5)\n",
      "('20000154', 'DRH2', '2024-02-05 11:15:00', '2024-02-06 08:25:00', '2024-02-06 08:35:00', '2024-02-06 16:53:00', '2024-02-06 16:55:00', 99, 1)\n",
      "('20000146', 'HAE', '2024-02-06 16:35:00', '2024-02-06 16:35:00', '2024-02-06 16:43:54', '2024-02-06 21:12:54', '2024-02-06 21:13:54', 89, 4)\n",
      "('20000179', 'RTL', '2024-02-07 06:00:00', None, None, None, None, None, None)\n",
      "('20000186', 'RTL', '2024-02-07 06:00:00', None, None, None, None, None, None)\n",
      "('20000178', 'FRA', '2024-02-06 11:56:48', '2024-02-06 16:30:48', '2024-02-06 16:52:06', '2024-02-07 06:02:06', '2024-02-07 06:05:06', 95, 5)\n",
      "('20000150', 'DRH2', '2024-02-05 14:23:48', '2024-02-06 16:53:48', '2024-02-06 17:04:30', '2024-02-07 06:32:30', '2024-02-07 06:33:30', 48, 1)\n",
      "('20000159', 'DRH1', '2024-02-05 13:10:00', '2024-02-06 14:06:00', '2024-02-06 14:21:30', '2024-02-07 06:49:30', '2024-02-07 06:50:30', 49, 1)\n",
      "('20000146', 'QPR', '2024-02-06 21:17:54', '2024-02-06 21:17:54', '2024-02-06 21:27:24', '2024-02-07 07:44:24', '2024-02-07 07:45:24', 88, 1)\n",
      "('20000146', 'FTL', '2024-02-07 07:50:24', None, None, None, None, None, None)\n",
      "('20000150', 'QPR', '2024-02-07 06:37:30', '2024-02-07 07:44:30', '2024-02-07 07:49:24', '2024-02-07 08:49:24', '2024-02-07 08:50:24', 47, 1)\n",
      "('20000150', 'FTL', '2024-02-07 08:55:24', None, None, None, None, None, None)\n",
      "('20000186', 'SAE', '2024-02-07 06:11:00', '2024-02-07 06:11:00', '2024-02-07 06:21:06', '2024-02-07 09:34:06', '2024-02-07 09:37:06', 100, 0)\n",
      "('20000178', 'HAE', '2024-02-07 06:11:06', '2024-02-07 06:11:06', '2024-02-07 06:31:42', '2024-02-07 10:28:42', '2024-02-07 10:31:42', 88, 7)\n",
      "('20000154', 'FRA', '2024-02-06 16:59:00', '2024-02-07 06:43:00', '2024-02-07 07:01:42', '2024-02-07 11:58:42', '2024-02-07 13:06:42', 99, 0)\n",
      "('20000178', 'QPR', '2024-02-07 10:35:42', '2024-02-07 10:35:42', '2024-02-07 10:40:54', '2024-02-07 12:07:54', '2024-02-07 12:09:54', 86, 2)\n",
      "('20000178', 'FTL', '2024-02-07 12:14:54', None, None, None, None, None, None)\n",
      "('20000159', 'HAE', '2024-02-07 06:55:30', '2024-02-07 10:29:30', '2024-02-07 10:59:06', '2024-02-07 14:24:06', '2024-02-07 14:24:06', 46, 3)\n",
      "('20000152', 'DRH1', '2024-02-05 18:18:48', '2024-02-07 07:34:48', '2024-02-07 07:45:36', '2024-02-07 14:27:36', '2024-02-07 14:29:36', 24, 1)\n",
      "('20000160', 'RTL', '2024-02-07 14:28:00', None, None, None, None, None, None)\n",
      "('20000163', 'RTL', '2024-02-07 14:28:00', None, None, None, None, None, None)\n",
      "('20000164', 'RTL', '2024-02-07 14:28:00', None, None, None, None, None, None)\n",
      "('20000165', 'RTL', '2024-02-07 14:28:00', None, None, None, None, None, None)\n",
      "('20000166', 'RTL', '2024-02-07 14:28:00', None, None, None, None, None, None)\n",
      "('20000151', 'DRH2', '2024-02-05 16:16:24', '2024-02-07 07:33:24', '2024-02-07 07:47:48', '2024-02-07 15:29:48', '2024-02-07 15:29:48', 99, 1)\n",
      "('20000167', 'RTL', '2024-02-07 15:30:00', None, None, None, None, None, None)\n",
      "('20000159', 'QPR', '2024-02-07 14:28:06', '2024-02-07 14:28:06', '2024-02-07 14:38:12', '2024-02-07 15:41:12', '2024-02-07 15:41:12', 46, 0)\n",
      "('20000159', 'FTL', '2024-02-07 15:45:12', None, None, None, None, None, None)\n",
      "('20000152', 'QPR', '2024-02-07 14:34:36', '2024-02-07 15:41:36', '2024-02-07 15:56:48', '2024-02-07 16:21:48', '2024-02-07 16:23:48', 24, 0)\n",
      "('20000152', 'FTL', '2024-02-07 16:28:48', None, None, None, None, None, None)\n",
      "('20000179', 'FRA', '2024-02-07 06:07:00', '2024-02-07 11:59:00', '2024-02-07 12:14:06', '2024-02-07 17:04:06', '2024-02-07 17:05:06', 25, 0)\n",
      "('20000160', 'SAE', '2024-02-07 15:05:00', '2024-02-07 15:05:00', '2024-02-07 15:15:00', '2024-02-07 17:14:00', '2024-02-07 17:16:00', 25, 0)\n",
      "('20000151', 'QPR', '2024-02-07 15:33:48', '2024-02-07 16:21:48', '2024-02-07 16:30:36', '2024-02-07 18:15:36', '2024-02-07 18:16:36', 99, 0)\n",
      "('20000151', 'FTL', '2024-02-07 18:21:36', None, None, None, None, None, None)\n",
      "('20000163', 'SAE', '2024-02-07 15:09:00', '2024-02-07 17:15:00', '2024-02-07 17:25:12', '2024-02-07 18:33:12', '2024-02-07 18:36:12', 50, 0)\n",
      "('20000156', 'DRH1', '2024-02-05 19:49:42', '2024-02-07 14:27:42', '2024-02-07 14:44:12', '2024-02-07 18:57:12', '2024-02-07 18:57:12', 50, 0)\n",
      "('20000179', 'QPR', '2024-02-07 17:10:06', '2024-02-07 18:16:06', '2024-02-07 18:30:18', '2024-02-07 19:51:18', '2024-02-07 19:51:18', 25, 0)\n",
      "('20000179', 'FTL', '2024-02-07 19:56:18', None, None, None, None, None, None)\n",
      "('20000154', 'HAE', '2024-02-07 13:12:42', '2024-02-07 14:24:42', '2024-02-07 14:35:00', '2024-02-07 19:57:00', '2024-02-07 20:00:00', 94, 5)\n",
      "('20000164', 'SAE', '2024-02-07 14:41:00', '2024-02-07 18:34:00', '2024-02-07 18:42:06', '2024-02-07 20:23:06', '2024-02-08 06:03:00', 50, 0)\n",
      "('20000156', 'QPR', '2024-02-07 19:02:12', '2024-02-07 19:52:12', '2024-02-07 20:04:18', '2024-02-07 20:55:18', '2024-02-07 20:57:18', 50, 0)\n",
      "('20000156', 'FTL', '2024-02-07 21:02:18', None, None, None, None, None, None)\n",
      "('20000187', 'RTL', '2024-02-08 06:00:00', None, None, None, None, None, None)\n",
      "('20000193', 'RTL', '2024-02-08 06:00:00', None, None, None, None, None, None)\n",
      "('20000186', 'FRA', '2024-02-07 09:41:06', '2024-02-07 17:05:06', '2024-02-07 17:23:00', '2024-02-08 06:15:00', '2024-02-08 06:15:00', 98, 2)\n",
      "('20000157', 'DRH2', '2024-02-06 06:18:12', '2024-02-07 16:30:12', '2024-02-07 16:40:30', '2024-02-08 06:26:30', '2024-02-08 08:10:30', 50, 0)\n",
      "('20000154', 'QPR', '2024-02-07 20:04:00', '2024-02-07 20:56:00', '2024-02-07 21:05:42', '2024-02-08 07:15:42', '2024-02-08 07:16:42', 92, 2)\n",
      "('20000154', 'FTL', '2024-02-08 07:21:42', None, None, None, None, None, None)\n",
      "('20000165', 'SAE', '2024-02-07 14:35:00', '2024-02-07 21:44:00', '2024-02-07 21:55:00', '2024-02-08 07:28:00', '2024-02-08 07:31:00', 99, 1)\n",
      "('20000157', 'QPR', '2024-02-08 08:14:30', '2024-02-08 08:14:30', '2024-02-08 08:19:06', '2024-02-08 09:23:06', '2024-02-08 09:23:06', 50, 0)\n",
      "('20000157', 'FTL', '2024-02-08 09:28:06', None, None, None, None, None, None)\n",
      "('20000158', 'DRH1', '2024-02-06 08:15:00', '2024-02-07 18:58:00', '2024-02-07 19:13:12', '2024-02-08 09:28:12', '2024-02-08 09:28:12', 100, 0)\n",
      "('20000193', 'SAE', '2024-02-08 06:08:00', '2024-02-08 07:29:00', '2024-02-08 07:39:30', '2024-02-08 10:36:30', '2024-02-08 10:38:30', 100, 0)\n",
      "('20000186', 'HAE', '2024-02-08 06:21:00', '2024-02-08 06:21:00', '2024-02-08 06:42:18', '2024-02-08 11:01:18', '2024-02-08 11:04:18', 91, 7)\n",
      "('20000187', 'FRA', '2024-02-08 06:14:00', '2024-02-08 06:56:00', '2024-02-08 07:10:12', '2024-02-08 11:12:12', '2024-02-08 11:14:12', 24, 1)\n",
      "('20000158', 'QPR', '2024-02-08 09:33:12', '2024-02-08 09:33:12', '2024-02-08 09:43:30', '2024-02-08 11:34:30', '2024-02-08 11:34:30', 99, 1)\n",
      "('20000158', 'FTL', '2024-02-08 11:39:30', None, None, None, None, None, None)\n",
      "('20000186', 'QPR', '2024-02-08 11:08:18', '2024-02-08 11:35:18', '2024-02-08 11:39:54', '2024-02-08 13:28:54', '2024-02-08 13:30:54', 91, 0)\n",
      "('20000186', 'FTL', '2024-02-08 13:35:54', None, None, None, None, None, None)\n",
      "('20000166', 'DRH2', '2024-02-07 14:39:00', '2024-02-08 06:27:00', '2024-02-08 06:41:36', '2024-02-08 14:10:36', '2024-02-08 16:25:36', 50, 0)\n",
      "('20000187', 'QPR', '2024-02-08 11:19:12', '2024-02-08 13:29:12', '2024-02-08 13:45:18', '2024-02-08 15:04:18', '2024-02-08 15:06:18', 24, 0)\n",
      "('20000187', 'FTL', '2024-02-08 15:11:18', None, None, None, None, None, None)\n",
      "('20000193', 'FRA', '2024-02-08 10:42:30', '2024-02-08 11:12:30', '2024-02-08 11:33:54', '2024-02-08 16:33:54', '2024-02-08 16:36:54', 96, 4)\n",
      "('20000167', 'DRH1', '2024-02-07 15:36:00', '2024-02-08 10:14:00', '2024-02-08 10:24:48', '2024-02-08 18:10:48', '2024-02-08 18:12:48', 98, 2)\n",
      "('20000168', 'RTL', '2024-02-08 18:11:00', None, None, None, None, None, None)\n",
      "('20000169', 'RTL', '2024-02-08 18:11:00', None, None, None, None, None, None)\n",
      "('20000170', 'RTL', '2024-02-08 18:11:00', None, None, None, None, None, None)\n",
      "('20000171', 'RTL', '2024-02-08 18:11:00', None, None, None, None, None, None)\n",
      "('20000172', 'RTL', '2024-02-08 18:11:00', None, None, None, None, None, None)\n",
      "('20000168', 'SAE', '2024-02-08 18:23:00', '2024-02-08 18:23:00', '2024-02-08 18:32:24', '2024-02-08 20:34:24', '2024-02-08 20:34:24', 25, 0)\n",
      "('20000160', 'DRH2', '2024-02-07 17:20:00', '2024-02-08 15:11:00', '2024-02-08 15:21:12', '2024-02-08 21:39:12', '2024-02-08 21:39:12', 24, 1)\n",
      "('20000194', 'RTL', '2024-02-09 06:00:00', None, None, None, None, None, None)\n",
      "('20000160', 'QPR', '2024-02-08 21:44:12', '2024-02-08 21:44:12', '2024-02-08 21:59:00', '2024-02-09 06:24:00', '2024-02-09 06:24:00', 24, 0)\n",
      "('20000169', 'SAE', '2024-02-08 18:18:00', '2024-02-08 20:35:00', '2024-02-08 20:43:00', '2024-02-09 06:24:00', '2024-02-09 06:25:00', 50, 0)\n",
      "('20000160', 'FTL', '2024-02-09 06:29:00', None, None, None, None, None, None)\n",
      "('20000166', 'HAE', '2024-02-08 16:30:36', '2024-02-08 19:30:36', '2024-02-08 20:00:12', '2024-02-09 06:57:12', '2024-02-09 06:58:12', 48, 2)\n",
      "('20000163', 'DRH1', '2024-02-07 18:40:12', '2024-02-08 18:56:12', '2024-02-08 19:12:54', '2024-02-09 07:24:54', '2024-02-09 08:11:54', 50, 0)\n",
      "('20000167', 'FRA', '2024-02-08 18:17:48', '2024-02-08 18:17:48', '2024-02-08 18:40:42', '2024-02-09 07:59:42', '2024-02-09 08:00:42', 95, 3)\n",
      "('20000170', 'SAE', '2024-02-08 18:22:00', '2024-02-09 06:25:00', '2024-02-09 06:33:24', '2024-02-09 08:23:24', '2024-02-09 08:25:24', 100, 0)\n",
      "('20000166', 'QPR', '2024-02-09 07:02:12', '2024-02-09 07:02:12', '2024-02-09 07:12:18', '2024-02-09 08:32:18', '2024-02-09 08:33:18', 48, 0)\n",
      "('20000166', 'FTL', '2024-02-09 08:37:18', None, None, None, None, None, None)\n",
      "('20000163', 'QPR', '2024-02-09 08:15:54', '2024-02-09 08:32:54', '2024-02-09 08:44:18', '2024-02-09 09:37:18', '2024-02-09 09:38:18', 50, 0)\n",
      "('20000163', 'FTL', '2024-02-09 09:43:18', None, None, None, None, None, None)\n",
      "('20000164', 'DRH2', '2024-02-08 06:07:00', '2024-02-08 21:40:00', '2024-02-08 21:49:48', '2024-02-09 10:41:48', '2024-02-09 10:44:48', 50, 0)\n",
      "('20000193', 'HAE', '2024-02-08 16:42:54', '2024-02-09 06:57:54', '2024-02-09 07:17:12', '2024-02-09 11:13:12', '2024-02-09 11:14:12', 90, 6)\n",
      "('20000164', 'QPR', '2024-02-09 10:49:48', '2024-02-09 10:49:48', '2024-02-09 10:54:30', '2024-02-09 11:56:30', '2024-02-09 11:56:30', 50, 0)\n",
      "('20000164', 'FTL', '2024-02-09 12:01:30', None, None, None, None, None, None)\n",
      "('20000194', 'FRA', '2024-02-09 06:06:00', '2024-02-09 08:40:00', '2024-02-09 08:55:36', '2024-02-09 12:30:36', '2024-02-09 12:33:36', 23, 2)\n",
      "('20000193', 'QPR', '2024-02-09 11:18:12', '2024-02-09 11:57:12', '2024-02-09 12:02:18', '2024-02-09 14:01:18', '2024-02-09 15:17:18', 88, 2)\n",
      "('20000194', 'QPR', '2024-02-09 12:38:36', '2024-02-09 14:01:36', '2024-02-09 14:15:30', '2024-02-09 15:20:30', '2024-02-09 15:22:30', 21, 2)\n",
      "('20000193', 'FTL', '2024-02-09 15:22:18', None, None, None, None, None, None)\n",
      "('20000194', 'FTL', '2024-02-09 15:27:30', None, None, None, None, None, None)\n",
      "('20000165', 'DRH1', '2024-02-08 07:35:00', '2024-02-09 07:25:00', '2024-02-09 07:40:12', '2024-02-09 15:46:12', '2024-02-09 15:49:12', 98, 1)\n",
      "('20000167', 'HAE', '2024-02-09 08:05:42', '2024-02-09 11:13:42', '2024-02-09 11:22:42', '2024-02-09 16:23:42', '2024-02-09 16:24:42', 87, 8)\n",
      "('20000165', 'QPR', '2024-02-09 15:54:12', '2024-02-09 15:54:12', '2024-02-09 16:03:30', '2024-02-09 17:33:30', '2024-02-09 17:33:30', 98, 0)\n",
      "('20000165', 'FTL', '2024-02-09 17:38:30', None, None, None, None, None, None)\n",
      "('20000171', 'DRH2', '2024-02-08 18:18:00', '2024-02-09 11:42:00', '2024-02-09 11:58:30', '2024-02-09 19:46:30', '2024-02-09 19:49:30', 49, 1)\n",
      "('20000175', 'RTL', '2024-02-09 19:47:00', None, None, None, None, None, None)\n",
      "('20000176', 'RTL', '2024-02-09 19:47:00', None, None, None, None, None, None)\n",
      "('20000167', 'QPR', '2024-02-09 16:28:42', '2024-02-09 17:33:42', '2024-02-09 17:44:18', '2024-02-09 19:54:18', '2024-02-09 19:55:18', 87, 0)\n",
      "('20000167', 'FTL', '2024-02-09 20:00:18', None, None, None, None, None, None)\n",
      "('20000175', 'SAE', '2024-02-09 19:54:00', '2024-02-09 19:54:00', '2024-02-09 20:05:24', '2024-02-09 21:31:24', '2024-02-09 21:40:24', 50, 0)\n",
      "('20000204', 'RTL', '2024-02-12 06:00:00', None, None, None, None, None, None)\n",
      "('20000171', 'HAE', '2024-02-09 19:54:30', '2024-02-09 19:54:30', '2024-02-09 20:21:24', '2024-02-12 07:36:24', '2024-02-12 07:38:24', 48, 1)\n",
      "('20000172', 'DRH1', '2024-02-08 18:22:00', '2024-02-09 15:47:00', '2024-02-09 15:58:00', '2024-02-12 07:50:00', '2024-02-12 07:51:00', 97, 3)\n",
      "('20000171', 'QPR', '2024-02-12 07:42:24', '2024-02-12 07:42:24', '2024-02-12 07:54:00', '2024-02-12 08:59:00', '2024-02-12 09:01:00', 46, 2)\n",
      "('20000171', 'FTL', '2024-02-12 09:06:00', None, None, None, None, None, None)\n",
      "('20000204', 'SAE', '2024-02-12 06:06:00', '2024-02-12 06:06:00', '2024-02-12 06:16:06', '2024-02-12 09:58:06', '2024-02-12 09:59:06', 100, 0)\n",
      "('20000168', 'DRH2', '2024-02-08 20:38:24', '2024-02-09 19:47:24', '2024-02-09 19:56:54', '2024-02-12 10:27:54', '2024-02-12 10:28:54', 25, 0)\n",
      "('20000177', 'RTL', '2024-02-12 10:28:00', None, None, None, None, None, None)\n",
      "('20000180', 'RTL', '2024-02-12 10:28:00', None, None, None, None, None, None)\n",
      "('20000181', 'RTL', '2024-02-12 10:28:00', None, None, None, None, None, None)\n",
      "('20000182', 'RTL', '2024-02-12 10:28:00', None, None, None, None, None, None)\n",
      "('20000183', 'RTL', '2024-02-12 10:28:00', None, None, None, None, None, None)\n",
      "('20000168', 'QPR', '2024-02-12 10:32:54', '2024-02-12 10:32:54', '2024-02-12 10:49:18', '2024-02-12 11:13:18', '2024-02-12 12:19:18', 25, 0)\n",
      "('20000168', 'FTL', '2024-02-12 12:24:18', None, None, None, None, None, None)\n",
      "('20000172', 'FRA', '2024-02-12 07:55:00', '2024-02-12 07:55:00', '2024-02-12 08:14:24', '2024-02-12 13:16:24', '2024-02-12 14:57:24', 95, 2)\n",
      "('20000177', 'SAE', '2024-02-12 10:36:00', '2024-02-12 11:56:00', '2024-02-12 12:06:18', '2024-02-12 14:10:18', '2024-02-12 14:10:18', 25, 0)\n",
      "('20000169', 'DRH1', '2024-02-09 06:29:00', '2024-02-12 08:36:00', '2024-02-12 08:46:06', '2024-02-12 14:21:06', '2024-02-12 14:21:06', 49, 1)\n",
      "('20000169', 'QPR', '2024-02-12 14:25:06', '2024-02-12 14:25:06', '2024-02-12 14:30:06', '2024-02-12 15:34:06', '2024-02-12 15:34:06', 48, 1)\n",
      "('20000180', 'SAE', '2024-02-12 10:40:00', '2024-02-12 14:11:00', '2024-02-12 14:20:36', '2024-02-12 15:35:36', '2024-02-12 15:37:36', 50, 0)\n",
      "('20000169', 'FTL', '2024-02-12 15:38:06', None, None, None, None, None, None)\n",
      "('20000181', 'SAE', '2024-02-12 10:35:00', '2024-02-12 15:36:00', '2024-02-12 15:43:00', '2024-02-12 17:35:00', '2024-02-12 17:36:00', 49, 1)\n",
      "('20000204', 'FRA', '2024-02-12 10:03:06', '2024-02-12 13:17:06', '2024-02-12 13:37:12', '2024-02-12 18:12:12', '2024-02-12 18:14:12', 98, 2)\n",
      "('20000205', 'RTL', '2024-02-12 18:13:00', None, None, None, None, None, None)\n",
      "('20000182', 'SAE', '2024-02-12 10:39:00', '2024-02-12 17:36:00', '2024-02-12 17:45:54', '2024-02-12 19:19:54', '2024-02-12 19:19:54', 100, 0)\n",
      "('20000172', 'HAE', '2024-02-12 15:03:24', '2024-02-12 15:03:24', '2024-02-12 15:13:00', '2024-02-12 19:25:00', '2024-02-12 19:25:00', 91, 4)\n",
      "('20000170', 'DRH2', '2024-02-09 08:29:24', '2024-02-12 11:28:24', '2024-02-12 11:44:54', '2024-02-12 20:01:54', '2024-02-12 20:01:54', 100, 0)\n",
      "('20000206', 'RTL', '2024-02-13 06:00:00', None, None, None, None, None, None)\n",
      "('20000172', 'QPR', '2024-02-12 19:29:00', '2024-02-12 19:29:00', '2024-02-12 19:37:48', '2024-02-13 06:01:48', '2024-02-13 06:01:48', 89, 2)\n",
      "('20000172', 'FTL', '2024-02-13 06:06:48', None, None, None, None, None, None)\n",
      "('20000205', 'SAE', '2024-02-12 18:20:00', '2024-02-12 19:20:00', '2024-02-12 19:29:12', '2024-02-13 07:12:12', '2024-02-13 07:13:12', 100, 0)\n",
      "('20000204', 'HAE', '2024-02-12 18:20:12', '2024-02-12 19:25:12', '2024-02-12 19:46:06', '2024-02-13 07:42:06', '2024-02-13 07:45:06', 93, 5)\n",
      "('20000170', 'QPR', '2024-02-12 20:05:54', '2024-02-13 06:01:54', '2024-02-13 06:11:36', '2024-02-13 07:47:36', '2024-02-13 07:49:36', 100, 0)\n",
      "('20000170', 'FTL', '2024-02-13 07:54:36', None, None, None, None, None, None)\n",
      "('20000176', 'DRH1', '2024-02-09 19:58:00', '2024-02-12 15:07:00', '2024-02-12 15:17:00', '2024-02-13 08:10:00', '2024-02-13 08:12:00', 99, 1)\n",
      "('20000175', 'DRH2', '2024-02-09 21:44:24', '2024-02-12 20:02:24', '2024-02-12 20:17:12', '2024-02-13 08:42:12', '2024-02-13 08:44:12', 49, 1)\n",
      "('20000184', 'RTL', '2024-02-13 08:43:00', None, None, None, None, None, None)\n",
      "('20000204', 'QPR', '2024-02-13 07:49:06', '2024-02-13 07:49:06', '2024-02-13 07:53:36', '2024-02-13 09:56:36', '2024-02-13 11:21:36', 92, 1)\n",
      "('20000206', 'FRA', '2024-02-13 06:09:00', '2024-02-13 06:09:00', '2024-02-13 06:20:48', '2024-02-13 10:17:48', '2024-02-13 10:18:48', 25, 0)\n",
      "('20000175', 'QPR', '2024-02-13 08:49:12', '2024-02-13 09:57:12', '2024-02-13 10:09:42', '2024-02-13 10:51:42', '2024-02-13 10:51:42', 49, 0)\n",
      "('20000175', 'FTL', '2024-02-13 10:56:42', None, None, None, None, None, None)\n",
      "('20000204', 'FTL', '2024-02-13 11:26:36', None, None, None, None, None, None)\n",
      "('20000206', 'QPR', '2024-02-13 10:23:48', '2024-02-13 10:51:48', '2024-02-13 11:07:48', '2024-02-13 12:17:48', '2024-02-13 12:19:48', 25, 0)\n",
      "('20000206', 'FTL', '2024-02-13 12:24:48', None, None, None, None, None, None)\n",
      "('20000183', 'DRH1', '2024-02-12 10:38:00', '2024-02-13 08:11:00', '2024-02-13 08:25:00', '2024-02-13 15:47:00', '2024-02-13 15:48:00', 49, 1)\n",
      "('20000177', 'DRH2', '2024-02-12 14:14:18', '2024-02-13 09:42:18', '2024-02-13 09:51:12', '2024-02-13 16:26:12', '2024-02-13 16:28:12', 22, 3)\n",
      "('20000185', 'RTL', '2024-02-13 16:27:00', None, None, None, None, None, None)\n",
      "('20000188', 'RTL', '2024-02-13 16:27:00', None, None, None, None, None, None)\n",
      "('20000189', 'RTL', '2024-02-13 16:27:00', None, None, None, None, None, None)\n",
      "('20000190', 'RTL', '2024-02-13 16:27:00', None, None, None, None, None, None)\n",
      "('20000191', 'RTL', '2024-02-13 16:27:00', None, None, None, None, None, None)\n",
      "('20000205', 'FRA', '2024-02-13 07:17:12', '2024-02-13 10:58:12', '2024-02-13 11:16:54', '2024-02-13 16:54:54', '2024-02-13 16:55:54', 99, 1)\n",
      "('20000177', 'QPR', '2024-02-13 16:32:12', '2024-02-13 16:32:12', '2024-02-13 16:48:48', '2024-02-13 17:11:48', '2024-02-13 17:12:48', 22, 0)\n",
      "('20000177', 'FTL', '2024-02-13 17:17:48', None, None, None, None, None, None)\n",
      "('20000185', 'SAE', '2024-02-13 16:35:00', '2024-02-13 16:35:00', '2024-02-13 16:44:30', '2024-02-13 19:05:30', '2024-02-13 19:11:30', 25, 0)\n",
      "('20000183', 'HAE', '2024-02-13 15:53:00', '2024-02-13 15:53:00', '2024-02-13 16:24:30', '2024-02-13 19:30:30', '2024-02-13 19:32:30', 46, 3)\n",
      "('20000180', 'DRH1', '2024-02-12 15:41:36', '2024-02-13 15:47:36', '2024-02-13 16:02:06', '2024-02-13 20:06:06', '2024-02-13 20:06:06', 49, 1)\n",
      "('20000188', 'SAE', '2024-02-13 16:39:00', '2024-02-13 19:06:00', '2024-02-13 19:14:54', '2024-02-13 20:33:54', '2024-02-13 20:35:54', 50, 0)\n",
      "('20000183', 'QPR', '2024-02-13 19:36:30', '2024-02-13 19:36:30', '2024-02-13 19:47:30', '2024-02-13 20:58:30', '2024-02-13 20:58:30', 46, 0)\n",
      "('20000183', 'FTL', '2024-02-13 21:02:30', None, None, None, None, None, None)\n",
      "('20000180', 'QPR', '2024-02-13 20:10:06', '2024-02-13 20:59:06', '2024-02-13 21:10:42', '2024-02-13 22:00:42', '2024-02-14 06:02:00', 49, 0)\n",
      "('20000212', 'RTL', '2024-02-14 06:00:00', None, None, None, None, None, None)\n",
      "('20000218', 'RTL', '2024-02-14 06:00:00', None, None, None, None, None, None)\n",
      "('20000180', 'FTL', '2024-02-14 06:07:00', None, None, None, None, None, None)\n",
      "('20000176', 'FRA', '2024-02-13 08:17:00', '2024-02-13 16:55:00', '2024-02-13 17:12:48', '2024-02-14 06:10:48', '2024-02-14 08:48:48', 94, 5)\n",
      "('20000189', 'SAE', '2024-02-13 16:34:00', '2024-02-13 20:34:00', '2024-02-13 20:41:18', '2024-02-14 06:19:18', '2024-02-14 06:22:18', 50, 0)\n",
      "('20000181', 'DRH2', '2024-02-12 17:40:00', '2024-02-13 16:27:00', '2024-02-13 16:37:12', '2024-02-14 06:24:12', '2024-02-14 06:26:12', 49, 0)\n",
      "('20000181', 'QPR', '2024-02-14 06:30:12', '2024-02-14 06:30:12', '2024-02-14 06:35:36', '2024-02-14 07:29:36', '2024-02-14 07:29:36', 48, 1)\n",
      "('20000181', 'FTL', '2024-02-14 07:34:36', None, None, None, None, None, None)\n",
      "('20000190', 'SAE', '2024-02-13 16:38:00', '2024-02-14 06:20:00', '2024-02-14 06:30:12', '2024-02-14 08:09:12', '2024-02-14 08:12:12', 100, 0)\n",
      "('20000205', 'HAE', '2024-02-13 17:01:54', '2024-02-13 21:00:54', '2024-02-13 21:19:30', '2024-02-14 09:18:30', '2024-02-14 09:18:30', 94, 5)\n",
      "('20000212', 'FRA', '2024-02-14 06:10:00', '2024-02-14 06:11:00', '2024-02-14 06:25:54', '2024-02-14 09:59:54', '2024-02-14 11:20:54', 23, 2)\n",
      "('20000205', 'QPR', '2024-02-14 09:22:30', '2024-02-14 09:22:30', '2024-02-14 09:27:06', '2024-02-14 11:19:06', '2024-02-14 11:19:06', 93, 1)\n",
      "('20000205', 'FTL', '2024-02-14 11:24:06', None, None, None, None, None, None)\n",
      "('20000182', 'DRH1', '2024-02-12 19:23:54', '2024-02-13 21:36:54', '2024-02-13 21:53:12', '2024-02-14 11:59:12', '2024-02-14 12:00:12', 100, 0)\n",
      "('20000218', 'SAE', '2024-02-14 06:15:00', '2024-02-14 08:40:00', '2024-02-14 08:49:42', '2024-02-14 12:11:42', '2024-02-14 12:13:42', 99, 1)\n",
      "('20000212', 'QPR', '2024-02-14 11:25:54', '2024-02-14 11:25:54', '2024-02-14 11:40:06', '2024-02-14 12:44:06', '2024-02-14 12:46:06', 23, 0)\n",
      "('20000212', 'FTL', '2024-02-14 12:51:06', None, None, None, None, None, None)\n",
      "('20000176', 'HAE', '2024-02-14 08:54:48', '2024-02-14 09:18:48', '2024-02-14 09:28:30', '2024-02-14 14:23:30', '2024-02-14 14:26:30', 85, 9)\n",
      "('20000182', 'QPR', '2024-02-14 12:04:12', '2024-02-14 12:44:12', '2024-02-14 12:54:18', '2024-02-14 14:37:18', '2024-02-14 14:37:18', 100, 0)\n",
      "('20000182', 'FTL', '2024-02-14 14:42:18', None, None, None, None, None, None)\n",
      "('20000184', 'DRH2', '2024-02-13 08:50:00', '2024-02-14 07:25:00', '2024-02-14 07:34:00', '2024-02-14 16:28:00', '2024-02-14 16:29:00', 99, 1)\n",
      "('20000192', 'RTL', '2024-02-14 16:29:00', None, None, None, None, None, None)\n",
      "('20000176', 'QPR', '2024-02-14 14:30:30', '2024-02-14 14:37:30', '2024-02-14 14:47:48', '2024-02-14 16:55:48', '2024-02-14 16:56:48', 85, 0)\n",
      "('20000176', 'FTL', '2024-02-14 17:01:48', None, None, None, None, None, None)\n",
      "('20000218', 'FRA', '2024-02-14 12:17:42', '2024-02-14 12:57:42', '2024-02-14 13:17:24', '2024-02-14 18:09:24', '2024-02-14 18:12:24', 97, 2)\n",
      "('20000191', 'DRH1', '2024-02-13 16:38:00', '2024-02-14 12:45:00', '2024-02-14 13:00:18', '2024-02-14 20:24:18', '2024-02-14 20:25:18', 47, 3)\n",
      "('20000219', 'RTL', '2024-02-15 06:00:00', None, None, None, None, None, None)\n",
      "('20000225', 'RTL', '2024-02-15 06:00:00', None, None, None, None, None, None)\n",
      "('20000218', 'HAE', '2024-02-14 18:18:24', '2024-02-14 18:18:24', '2024-02-14 18:38:30', '2024-02-15 06:20:30', '2024-02-15 06:22:30', 95, 2)\n",
      "('20000185', 'DRH2', '2024-02-13 19:15:30', '2024-02-14 16:28:30', '2024-02-14 16:37:24', '2024-02-15 06:40:24', '2024-02-15 06:42:24', 25, 0)\n",
      "('20000195', 'RTL', '2024-02-15 06:41:00', None, None, None, None, None, None)\n",
      "('20000196', 'RTL', '2024-02-15 06:41:00', None, None, None, None, None, None)\n",
      "('20000197', 'RTL', '2024-02-15 06:41:00', None, None, None, None, None, None)\n",
      "('20000184', 'FRA', '2024-02-14 16:33:00', '2024-02-14 18:10:00', '2024-02-14 18:32:18', '2024-02-15 07:47:18', '2024-02-15 07:48:18', 96, 3)\n",
      "('20000218', 'QPR', '2024-02-15 06:26:30', '2024-02-15 06:26:30', '2024-02-15 06:32:00', '2024-02-15 08:36:00', '2024-02-15 08:37:00', 94, 1)\n",
      "('20000218', 'FTL', '2024-02-15 08:42:00', None, None, None, None, None, None)\n",
      "('20000188', 'DRH1', '2024-02-13 20:39:54', '2024-02-14 20:24:54', '2024-02-14 20:38:48', '2024-02-15 08:53:48', '2024-02-15 09:23:48', 49, 1)\n",
      "('20000198', 'RTL', '2024-02-15 08:54:00', None, None, None, None, None, None)\n",
      "('20000199', 'RTL', '2024-02-15 08:54:00', None, None, None, None, None, None)\n",
      "('20000185', 'QPR', '2024-02-15 06:47:24', '2024-02-15 08:36:24', '2024-02-15 08:52:00', '2024-02-15 09:17:00', '2024-02-15 09:18:00', 24, 1)\n",
      "('20000185', 'FTL', '2024-02-15 09:23:00', None, None, None, None, None, None)\n",
      "('20000225', 'SAE', '2024-02-15 06:07:00', '2024-02-15 06:07:00', '2024-02-15 06:16:54', '2024-02-15 09:39:54', '2024-02-15 09:40:54', 98, 2)\n",
      "('20000191', 'HAE', '2024-02-14 20:30:18', '2024-02-15 06:21:18', '2024-02-15 06:54:18', '2024-02-15 10:15:18', '2024-02-15 10:18:18', 45, 2)\n",
      "('20000188', 'QPR', '2024-02-15 09:28:48', '2024-02-15 09:28:48', '2024-02-15 09:41:12', '2024-02-15 10:36:12', '2024-02-15 10:36:12', 49, 0)\n",
      "('20000188', 'FTL', '2024-02-15 10:41:12', None, None, None, None, None, None)\n",
      "('20000195', 'SAE', '2024-02-15 06:47:00', '2024-02-15 09:40:00', '2024-02-15 09:47:24', '2024-02-15 11:27:24', '2024-02-15 11:30:24', 50, 0)\n",
      "('20000191', 'QPR', '2024-02-15 10:22:18', '2024-02-15 10:36:18', '2024-02-15 10:46:00', '2024-02-15 11:47:00', '2024-02-15 11:49:00', 44, 1)\n",
      "('20000191', 'FTL', '2024-02-15 11:54:00', None, None, None, None, None, None)\n",
      "('20000219', 'FRA', '2024-02-15 06:09:00', '2024-02-15 07:48:00', '2024-02-15 08:03:12', '2024-02-15 12:11:12', '2024-02-15 12:14:12', 24, 1)\n",
      "('20000196', 'SAE', '2024-02-15 06:51:00', '2024-02-15 11:28:00', '2024-02-15 11:38:06', '2024-02-15 13:09:06', '2024-02-15 13:10:06', 100, 0)\n",
      "('20000189', 'DRH2', '2024-02-14 06:26:18', '2024-02-15 07:41:18', '2024-02-15 07:51:12', '2024-02-15 13:29:12', '2024-02-15 13:29:12', 50, 0)\n",
      "('20000219', 'QPR', '2024-02-15 12:19:12', '2024-02-15 12:19:12', '2024-02-15 12:35:18', '2024-02-15 13:50:18', '2024-02-15 13:50:18', 23, 1)\n",
      "('20000219', 'FTL', '2024-02-15 13:55:18', None, None, None, None, None, None)\n",
      "('20000189', 'QPR', '2024-02-15 13:33:12', '2024-02-15 13:51:12', '2024-02-15 13:56:12', '2024-02-15 15:02:12', '2024-02-15 15:02:12', 50, 0)\n",
      "('20000189', 'FTL', '2024-02-15 15:07:12', None, None, None, None, None, None)\n",
      "('20000184', 'HAE', '2024-02-15 07:53:18', '2024-02-15 10:15:18', '2024-02-15 10:25:30', '2024-02-15 15:17:30', '2024-02-15 15:20:30', 91, 5)\n",
      "('20000198', 'SAE', '2024-02-15 09:01:00', '2024-02-15 13:10:00', '2024-02-15 13:20:24', '2024-02-15 15:40:24', '2024-02-15 18:11:24', 25, 0)\n",
      "('20000190', 'DRH1', '2024-02-14 08:16:12', '2024-02-15 08:54:12', '2024-02-15 09:09:06', '2024-02-15 17:04:06', '2024-02-15 18:05:06', 100, 0)\n",
      "('20000184', 'QPR', '2024-02-15 15:24:30', '2024-02-15 15:24:30', '2024-02-15 15:35:06', '2024-02-15 18:00:06', '2024-02-15 18:02:06', 90, 1)\n",
      "('20000184', 'FTL', '2024-02-15 18:07:06', None, None, None, None, None, None)\n",
      "('20000225', 'FRA', '2024-02-15 09:44:54', '2024-02-15 12:51:54', '2024-02-15 13:11:30', '2024-02-15 18:38:30', '2024-02-15 18:40:30', 95, 3)\n",
      "('20000190', 'QPR', '2024-02-15 18:10:06', '2024-02-15 18:10:06', '2024-02-15 18:19:54', '2024-02-15 20:09:54', '2024-02-15 20:10:54', 99, 1)\n",
      "('20000190', 'FTL', '2024-02-15 20:15:54', None, None, None, None, None, None)\n",
      "('20000226', 'RTL', '2024-02-16 06:00:00', None, None, None, None, None, None)\n",
      "('20000231', 'RTL', '2024-02-16 06:00:00', None, None, None, None, None, None)\n",
      "('20000192', 'DRH2', '2024-02-14 16:38:00', '2024-02-15 13:30:00', '2024-02-15 13:40:12', '2024-02-16 06:14:12', '2024-02-16 06:16:12', 100, 0)\n",
      "('20000225', 'HAE', '2024-02-15 18:46:30', '2024-02-15 18:46:30', '2024-02-15 19:07:54', '2024-02-16 07:10:54', '2024-02-16 07:13:54', 93, 2)\n",
      "('20000225', 'QPR', '2024-02-16 07:17:54', '2024-02-16 07:17:54', '2024-02-16 07:22:36', '2024-02-16 09:09:36', '2024-02-16 09:09:36', 93, 0)\n",
      "('20000225', 'FTL', '2024-02-16 09:14:36', None, None, None, None, None, None)\n",
      "('20000231', 'SAE', '2024-02-16 06:16:00', '2024-02-16 06:16:00', '2024-02-16 06:26:30', '2024-02-16 09:22:30', '2024-02-16 09:25:30', 100, 0)\n",
      "('20000199', 'DRH1', '2024-02-15 09:05:00', '2024-02-15 17:50:00', '2024-02-15 18:00:30', '2024-02-16 10:10:30', '2024-02-16 12:29:30', 100, 0)\n",
      "('20000200', 'RTL', '2024-02-16 10:11:00', None, None, None, None, None, None)\n",
      "('20000201', 'RTL', '2024-02-16 10:11:00', None, None, None, None, None, None)\n",
      "('20000202', 'RTL', '2024-02-16 10:11:00', None, None, None, None, None, None)\n",
      "('20000226', 'FRA', '2024-02-16 06:10:00', '2024-02-16 06:10:00', '2024-02-16 06:24:24', '2024-02-16 10:34:24', '2024-02-16 10:35:24', 24, 1)\n",
      "('20000226', 'QPR', '2024-02-16 10:40:24', '2024-02-16 10:40:24', '2024-02-16 10:56:06', '2024-02-16 12:10:06', '2024-02-16 12:10:06', 24, 0)\n",
      "('20000226', 'FTL', '2024-02-16 12:15:06', None, None, None, None, None, None)\n",
      "('20000200', 'SAE', '2024-02-16 12:29:00', '2024-02-16 12:29:00', '2024-02-16 12:39:18', '2024-02-16 13:57:18', '2024-02-16 13:58:18', 50, 0)\n",
      "('20000197', 'DRH2', '2024-02-15 09:36:00', '2024-02-16 07:15:00', '2024-02-16 07:31:48', '2024-02-16 14:41:48', '2024-02-16 14:41:48', 50, 0)\n",
      "('20000203', 'RTL', '2024-02-16 14:42:00', None, None, None, None, None, None)\n",
      "('20000207', 'RTL', '2024-02-16 14:42:00', None, None, None, None, None, None)\n",
      "('20000208', 'RTL', '2024-02-16 14:42:00', None, None, None, None, None, None)\n",
      "('20000209', 'RTL', '2024-02-16 14:42:00', None, None, None, None, None, None)\n",
      "('20000192', 'FRA', '2024-02-16 06:21:12', '2024-02-16 10:35:12', '2024-02-16 10:55:00', '2024-02-16 15:24:00', '2024-02-16 15:25:00', 95, 5)\n",
      "('20000201', 'SAE', '2024-02-16 10:18:00', '2024-02-16 13:58:00', '2024-02-16 14:06:12', '2024-02-16 15:50:12', '2024-02-16 15:51:12', 50, 0)\n",
      "('20000195', 'DRH1', '2024-02-15 11:34:24', '2024-02-16 10:11:24', '2024-02-16 10:22:00', '2024-02-16 16:35:00', '2024-02-16 16:35:00', 50, 0)\n",
      "('20000203', 'SAE', '2024-02-16 14:48:00', '2024-02-16 15:51:00', '2024-02-16 16:01:06', '2024-02-16 17:50:06', '2024-02-16 17:52:06', 25, 0)\n",
      "('20000195', 'QPR', '2024-02-16 16:39:00', '2024-02-16 16:39:00', '2024-02-16 16:43:12', '2024-02-16 17:50:12', '2024-02-16 17:50:12', 50, 0)\n",
      "('20000195', 'FTL', '2024-02-16 17:54:12', None, None, None, None, None, None)\n",
      "('20000207', 'SAE', '2024-02-16 14:52:00', '2024-02-16 18:21:00', '2024-02-16 18:30:24', '2024-02-16 19:39:24', '2024-02-16 19:40:24', 50, 0)\n",
      "('20000197', 'HAE', '2024-02-16 14:46:48', '2024-02-16 16:16:48', '2024-02-16 16:44:36', '2024-02-16 20:17:36', '2024-02-16 20:17:36', 48, 2)\n",
      "('20000231', 'FRA', '2024-02-16 09:29:30', '2024-02-16 16:04:30', '2024-02-16 16:24:12', '2024-02-16 21:19:12', '2024-02-16 21:21:12', 98, 2)\n",
      "('20000208', 'SAE', '2024-02-16 14:49:00', '2024-02-16 19:40:00', '2024-02-16 19:50:36', '2024-02-16 21:45:36', '2024-02-16 21:47:36', 100, 0)\n",
      "('20000197', 'QPR', '2024-02-16 20:21:36', '2024-02-16 20:21:36', '2024-02-16 20:32:48', '2024-02-16 21:48:48', '2024-02-16 21:49:48', 48, 0)\n",
      "('20000197', 'FTL', '2024-02-16 21:54:48', None, None, None, None, None, None)\n",
      "('20000237', 'RTL', '2024-02-19 06:00:00', None, None, None, None, None, None)\n",
      "('20000196', 'DRH2', '2024-02-15 13:14:06', '2024-02-16 14:42:06', '2024-02-16 14:57:48', '2024-02-19 06:36:48', '2024-02-19 06:37:48', 100, 0)\n",
      "('20000198', 'DRH1', '2024-02-15 18:15:24', '2024-02-16 17:20:24', '2024-02-16 17:29:54', '2024-02-19 07:24:54', '2024-02-19 07:25:54', 25, 0)\n",
      "('20000196', 'QPR', '2024-02-19 06:41:48', '2024-02-19 06:41:48', '2024-02-19 06:51:06', '2024-02-19 08:36:06', '2024-02-19 09:16:06', 98, 2)\n",
      "('20000192', 'HAE', '2024-02-16 15:30:00', '2024-02-16 20:18:00', '2024-02-16 20:27:30', '2024-02-19 08:57:30', '2024-02-19 09:00:30', 88, 7)\n",
      "('20000198', 'QPR', '2024-02-19 07:29:54', '2024-02-19 08:36:54', '2024-02-19 08:52:36', '2024-02-19 09:16:36', '2024-02-19 09:16:36', 25, 0)\n",
      "('20000196', 'FTL', '2024-02-19 09:21:06', None, None, None, None, None, None)\n",
      "('20000198', 'FTL', '2024-02-19 09:21:36', None, None, None, None, None, None)\n",
      "('20000237', 'SAE', '2024-02-19 06:06:00', '2024-02-19 06:06:00', '2024-02-19 06:16:24', '2024-02-19 09:36:24', '2024-02-19 09:39:24', 100, 0)\n",
      "('20000199', 'FRA', '2024-02-16 12:34:30', '2024-02-16 21:19:30', '2024-02-16 21:39:54', '2024-02-19 10:57:54', '2024-02-19 12:23:54', 98, 2)\n",
      "('20000200', 'DRH1', '2024-02-16 14:02:18', '2024-02-19 07:25:18', '2024-02-19 07:41:18', '2024-02-19 11:36:18', '2024-02-19 11:38:18', 50, 0)\n",
      "('20000192', 'QPR', '2024-02-19 09:04:30', '2024-02-19 09:17:30', '2024-02-19 09:28:00', '2024-02-19 11:43:00', '2024-02-19 11:43:00', 88, 0)\n",
      "('20000192', 'FTL', '2024-02-19 11:48:00', None, None, None, None, None, None)\n",
      "('20000200', 'QPR', '2024-02-19 11:42:18', '2024-02-19 11:43:18', '2024-02-19 11:54:30', '2024-02-19 12:41:30', '2024-02-19 12:42:30', 48, 2)\n",
      "('20000200', 'FTL', '2024-02-19 12:47:30', None, None, None, None, None, None)\n",
      "('20000231', 'HAE', '2024-02-16 21:27:12', '2024-02-19 08:58:12', '2024-02-19 09:19:36', '2024-02-19 13:20:36', '2024-02-19 13:23:36', 94, 4)\n",
      "('20000231', 'QPR', '2024-02-19 13:27:36', '2024-02-19 13:27:36', '2024-02-19 13:33:00', '2024-02-19 15:21:00', '2024-02-19 15:21:00', 94, 0)\n",
      "('20000231', 'FTL', '2024-02-19 15:26:00', None, None, None, None, None, None)\n",
      "('20000202', 'DRH2', '2024-02-16 10:22:00', '2024-02-19 07:37:00', '2024-02-19 07:53:18', '2024-02-19 16:11:18', '2024-02-19 16:14:18', 50, 0)\n",
      "('20000210', 'RTL', '2024-02-19 16:12:00', None, None, None, None, None, None)\n",
      "('20000237', 'FRA', '2024-02-19 09:43:24', '2024-02-19 11:38:24', '2024-02-19 12:00:54', '2024-02-19 16:47:54', '2024-02-19 16:48:54', 98, 2)\n",
      "('20000199', 'HAE', '2024-02-19 12:29:54', '2024-02-19 13:20:54', '2024-02-19 13:30:42', '2024-02-19 18:04:42', '2024-02-19 18:04:42', 96, 2)\n",
      "('20000209', 'DRH1', '2024-02-16 14:53:00', '2024-02-19 12:22:00', '2024-02-19 12:37:06', '2024-02-19 20:38:06', '2024-02-19 20:39:06', 50, 0)\n",
      "('20000199', 'QPR', '2024-02-19 18:08:42', '2024-02-19 18:08:42', '2024-02-19 18:19:06', '2024-02-19 20:46:06', '2024-02-19 20:46:06', 95, 1)\n",
      "('20000199', 'FTL', '2024-02-19 20:51:06', None, None, None, None, None, None)\n",
      "('20000202', 'HAE', '2024-02-19 16:19:18', '2024-02-19 18:05:18', '2024-02-19 18:34:54', '2024-02-19 21:58:54', '2024-02-19 21:58:54', 50, 0)\n",
      "('20000238', 'RTL', '2024-02-20 06:00:00', None, None, None, None, None, None)\n",
      "('20000243', 'RTL', '2024-02-20 06:00:00', None, None, None, None, None, None)\n",
      "('20000201', 'DRH2', '2024-02-16 15:55:12', '2024-02-19 16:12:12', '2024-02-19 16:21:36', '2024-02-20 06:45:36', '2024-02-20 08:52:36', 50, 0)\n",
      "('20000211', 'RTL', '2024-02-20 06:46:00', None, None, None, None, None, None)\n",
      "('20000213', 'RTL', '2024-02-20 06:46:00', None, None, None, None, None, None)\n",
      "('20000214', 'RTL', '2024-02-20 06:46:00', None, None, None, None, None, None)\n",
      "('20000215', 'RTL', '2024-02-20 06:46:00', None, None, None, None, None, None)\n",
      "('20000216', 'RTL', '2024-02-20 06:46:00', None, None, None, None, None, None)\n",
      "('20000202', 'QPR', '2024-02-20 06:05:00', '2024-02-20 06:05:00', '2024-02-20 06:13:36', '2024-02-20 07:36:36', '2024-02-20 07:37:36', 49, 1)\n",
      "('20000202', 'FTL', '2024-02-20 07:41:36', None, None, None, None, None, None)\n",
      "('20000243', 'SAE', '2024-02-20 06:16:00', '2024-02-20 06:16:00', '2024-02-20 06:26:24', '2024-02-20 09:32:24', '2024-02-20 09:32:24', 100, 0)\n",
      "('20000201', 'QPR', '2024-02-20 08:57:36', '2024-02-20 08:57:36', '2024-02-20 09:02:18', '2024-02-20 10:07:18', '2024-02-20 10:09:18', 50, 0)\n",
      "('20000237', 'HAE', '2024-02-19 16:53:54', '2024-02-20 06:01:00', '2024-02-20 06:22:54', '2024-02-20 10:12:54', '2024-02-20 10:14:54', 95, 3)\n",
      "('20000201', 'FTL', '2024-02-20 10:14:18', None, None, None, None, None, None)\n",
      "('20000238', 'FRA', '2024-02-20 06:10:00', '2024-02-20 06:10:00', '2024-02-20 06:25:00', '2024-02-20 11:03:00', '2024-02-20 11:05:00', 25, 0)\n",
      "('20000203', 'DRH1', '2024-02-16 17:56:06', '2024-02-19 20:38:06', '2024-02-19 20:48:30', '2024-02-20 11:32:30', '2024-02-20 11:33:30', 25, 0)\n",
      "('20000217', 'RTL', '2024-02-20 11:33:00', None, None, None, None, None, None)\n",
      "('20000211', 'SAE', '2024-02-20 06:52:00', '2024-02-20 09:33:00', '2024-02-20 09:42:24', '2024-02-20 11:42:24', '2024-02-20 13:28:24', 25, 0)\n",
      "('20000207', 'DRH2', '2024-02-16 19:44:24', '2024-02-20 07:46:24', '2024-02-20 08:01:30', '2024-02-20 12:27:30', '2024-02-20 12:28:30', 50, 0)\n",
      "('20000220', 'RTL', '2024-02-20 12:28:00', None, None, None, None, None, None)\n",
      "('20000221', 'RTL', '2024-02-20 12:28:00', None, None, None, None, None, None)\n",
      "('20000222', 'RTL', '2024-02-20 12:28:00', None, None, None, None, None, None)\n",
      "('20000223', 'RTL', '2024-02-20 12:28:00', None, None, None, None, None, None)\n",
      "('20000237', 'QPR', '2024-02-20 10:18:54', '2024-02-20 10:18:54', '2024-02-20 10:24:12', '2024-02-20 12:35:12', '2024-02-20 12:38:12', 94, 1)\n",
      "('20000237', 'FTL', '2024-02-20 12:42:12', None, None, None, None, None, None)\n",
      "('20000213', 'SAE', '2024-02-20 06:56:00', '2024-02-20 11:43:00', '2024-02-20 11:54:06', '2024-02-20 13:09:06', '2024-02-20 13:09:06', 50, 0)\n",
      "('20000238', 'QPR', '2024-02-20 11:10:00', '2024-02-20 12:36:00', '2024-02-20 12:51:42', '2024-02-20 14:04:42', '2024-02-20 14:06:42', 25, 0)\n",
      "('20000238', 'FTL', '2024-02-20 14:11:42', None, None, None, None, None, None)\n",
      "('20000209', 'HAE', '2024-02-19 20:44:06', '2024-02-20 10:13:06', '2024-02-20 10:44:54', '2024-02-20 14:24:54', '2024-02-20 14:26:54', 45, 5)\n",
      "('20000203', 'QPR', '2024-02-20 11:37:30', '2024-02-20 14:05:30', '2024-02-20 14:19:18', '2024-02-20 14:46:18', '2024-02-20 14:46:18', 24, 1)\n",
      "('20000214', 'SAE', '2024-02-20 09:04:00', '2024-02-20 13:10:00', '2024-02-20 13:18:06', '2024-02-20 14:48:06', '2024-02-20 14:51:06', 48, 2)\n",
      "('20000203', 'FTL', '2024-02-20 14:51:18', None, None, None, None, None, None)\n",
      "('20000207', 'QPR', '2024-02-20 12:32:30', '2024-02-20 14:46:30', '2024-02-20 14:59:00', '2024-02-20 15:48:00', '2024-02-20 15:50:00', 49, 1)\n",
      "('20000207', 'FTL', '2024-02-20 15:55:00', None, None, None, None, None, None)\n",
      "('20000215', 'SAE', '2024-02-20 06:53:00', '2024-02-20 14:49:00', '2024-02-20 14:58:42', '2024-02-20 16:40:42', '2024-02-20 18:44:42', 100, 0)\n",
      "('20000209', 'QPR', '2024-02-20 14:30:54', '2024-02-20 15:48:54', '2024-02-20 16:00:42', '2024-02-20 17:03:42', '2024-02-20 17:05:42', 45, 0)\n",
      "('20000209', 'FTL', '2024-02-20 17:10:42', None, None, None, None, None, None)\n",
      "('20000243', 'FRA', '2024-02-20 09:36:24', '2024-02-20 11:43:24', '2024-02-20 12:04:18', '2024-02-20 17:31:18', '2024-02-20 18:37:18', 98, 2)\n",
      "('20000220', 'SAE', '2024-02-20 13:37:00', '2024-02-20 16:41:00', '2024-02-20 16:51:48', '2024-02-20 18:03:48', '2024-02-20 18:06:48', 50, 0)\n",
      "('20000221', 'SAE', '2024-02-20 12:36:00', '2024-02-20 18:34:00', '2024-02-20 18:41:48', '2024-02-20 20:21:48', '2024-02-20 20:22:48', 50, 0)\n",
      "('20000208', 'DRH1', '2024-02-16 21:51:36', '2024-02-20 12:17:36', '2024-02-20 12:33:12', '2024-02-20 20:33:12', '2024-02-20 20:33:12', 98, 2)\n",
      "('20000210', 'DRH2', '2024-02-19 16:19:00', '2024-02-20 12:28:00', '2024-02-20 12:38:18', '2024-02-20 20:44:18', '2024-02-20 20:44:18', 99, 1)\n",
      "('20000245', 'RTL', '2024-02-21 06:00:00', None, None, None, None, None, None)\n",
      "('20000222', 'SAE', '2024-02-20 12:40:00', '2024-02-20 20:22:00', '2024-02-20 20:32:06', '2024-02-21 06:07:06', '2024-02-21 06:08:06', 99, 1)\n",
      "('20000208', 'QPR', '2024-02-20 20:38:12', '2024-02-20 20:38:12', '2024-02-20 20:47:30', '2024-02-21 06:27:30', '2024-02-21 06:27:30', 98, 0)\n",
      "('20000208', 'FTL', '2024-02-21 06:32:30', None, None, None, None, None, None)\n",
      "('20000243', 'HAE', '2024-02-20 18:43:18', '2024-02-20 18:43:18', '2024-02-20 19:04:36', '2024-02-21 07:13:36', '2024-02-21 07:15:36', 91, 7)\n",
      "('20000243', 'QPR', '2024-02-21 07:19:36', '2024-02-21 07:19:36', '2024-02-21 07:24:24', '2024-02-21 09:15:24', '2024-02-21 09:15:24', 90, 1)\n",
      "('20000243', 'FTL', '2024-02-21 09:20:24', None, None, None, None, None, None)\n",
      "('20000210', 'FRA', '2024-02-20 20:48:18', '2024-02-20 20:48:18', '2024-02-20 21:05:36', '2024-02-21 09:35:36', '2024-02-21 09:38:36', 92, 7)\n",
      "('20000216', 'DRH1', '2024-02-20 06:57:00', '2024-02-20 20:34:00', '2024-02-20 20:49:12', '2024-02-21 11:04:12', '2024-02-21 11:06:12', 49, 1)\n",
      "('20000245', 'FRA', '2024-02-21 06:07:00', '2024-02-21 09:36:00', '2024-02-21 09:50:12', '2024-02-21 13:52:12', '2024-02-21 13:55:12', 23, 2)\n",
      "('20000217', 'DRH2', '2024-02-20 11:39:00', '2024-02-20 21:45:00', '2024-02-20 21:55:24', '2024-02-21 14:14:24', '2024-02-21 14:16:24', 100, 0)\n",
      "('20000245', 'QPR', '2024-02-21 14:00:12', '2024-02-21 14:00:12', '2024-02-21 14:14:12', '2024-02-21 15:39:12', '2024-02-21 16:58:12', 23, 0)\n",
      "('20000245', 'FTL', '2024-02-21 17:03:12', None, None, None, None, None, None)\n",
      "('20000210', 'HAE', '2024-02-21 09:44:36', '2024-02-21 12:44:36', '2024-02-21 12:55:42', '2024-02-21 17:47:42', '2024-02-21 17:50:42', 91, 1)\n",
      "('20000213', 'DRH2', '2024-02-20 13:13:06', '2024-02-21 14:15:06', '2024-02-21 14:28:30', '2024-02-21 18:11:30', '2024-02-21 18:13:30', 49, 1)\n",
      "('20000223', 'DRH1', '2024-02-20 12:38:00', '2024-02-21 11:05:00', '2024-02-21 11:15:18', '2024-02-21 19:06:18', '2024-02-21 19:08:18', 99, 1)\n",
      "('20000217', 'FRA', '2024-02-21 14:21:24', '2024-02-21 14:21:24', '2024-02-21 14:42:06', '2024-02-21 20:05:06', '2024-02-21 20:05:06', 94, 6)\n",
      "('20000210', 'QPR', '2024-02-21 17:54:42', '2024-02-21 17:54:42', '2024-02-21 18:04:36', '2024-02-21 20:09:36', '2024-02-21 20:11:36', 90, 1)\n",
      "('20000210', 'FTL', '2024-02-21 20:16:36', None, None, None, None, None, None)\n",
      "('20000213', 'QPR', '2024-02-21 18:18:30', '2024-02-21 20:10:30', '2024-02-21 20:22:06', '2024-02-21 21:16:06', '2024-02-21 21:17:06', 49, 0)\n",
      "('20000213', 'FTL', '2024-02-21 21:22:06', None, None, None, None, None, None)\n",
      "('20000216', 'HAE', '2024-02-21 11:11:12', '2024-02-21 17:48:12', '2024-02-21 18:18:24', '2024-02-21 21:43:24', '2024-02-21 21:46:24', 43, 6)\n",
      "('20000250', 'RTL', '2024-02-22 06:00:00', None, None, None, None, None, None)\n",
      "('20000257', 'RTL', '2024-02-22 06:00:00', None, None, None, None, None, None)\n",
      "('20000216', 'QPR', '2024-02-21 21:50:24', '2024-02-22 06:01:00', '2024-02-22 06:11:36', '2024-02-22 07:13:36', '2024-02-22 07:15:36', 43, 0)\n",
      "('20000216', 'FTL', '2024-02-22 07:20:36', None, None, None, None, None, None)\n",
      "('20000214', 'DRH1', '2024-02-20 14:55:06', '2024-02-21 19:52:06', '2024-02-21 20:02:18', '2024-02-22 09:44:18', '2024-02-22 09:45:18', 47, 1)\n",
      "('20000223', 'FRA', '2024-02-21 19:13:18', '2024-02-21 20:45:18', '2024-02-21 21:05:06', '2024-02-22 09:46:06', '2024-02-22 09:49:06', 98, 1)\n",
      "('20000211', 'DRH2', '2024-02-20 13:32:24', '2024-02-21 19:12:24', '2024-02-21 19:22:36', '2024-02-22 09:50:36', '2024-02-22 09:52:36', 25, 0)\n",
      "('20000224', 'RTL', '2024-02-22 09:51:00', None, None, None, None, None, None)\n",
      "('20000227', 'RTL', '2024-02-22 09:51:00', None, None, None, None, None, None)\n",
      "('20000228', 'RTL', '2024-02-22 09:51:00', None, None, None, None, None, None)\n",
      "('20000229', 'RTL', '2024-02-22 09:51:00', None, None, None, None, None, None)\n",
      "('20000257', 'SAE', '2024-02-22 06:15:00', '2024-02-22 06:15:00', '2024-02-22 06:24:06', '2024-02-22 09:52:06', '2024-02-22 10:01:06', 100, 0)\n",
      "('20000217', 'HAE', '2024-02-21 20:11:06', '2024-02-21 21:44:06', '2024-02-21 21:54:00', '2024-02-22 10:44:00', '2024-02-22 11:53:00', 90, 4)\n",
      "('20000214', 'QPR', '2024-02-22 09:50:18', '2024-02-22 09:50:18', '2024-02-22 09:55:24', '2024-02-22 10:51:24', '2024-02-22 10:53:24', 46, 1)\n",
      "('20000214', 'FTL', '2024-02-22 10:58:24', None, None, None, None, None, None)\n",
      "('20000211', 'QPR', '2024-02-22 09:57:36', '2024-02-22 10:51:36', '2024-02-22 11:08:12', '2024-02-22 11:34:12', '2024-02-22 11:36:12', 25, 0)\n",
      "('20000211', 'FTL', '2024-02-22 11:41:12', None, None, None, None, None, None)\n",
      "('20000224', 'SAE', '2024-02-22 10:04:00', '2024-02-22 10:04:00', '2024-02-22 10:13:42', '2024-02-22 12:27:42', '2024-02-22 13:51:42', 24, 1)\n",
      "('20000250', 'FRA', '2024-02-22 06:09:00', '2024-02-22 09:47:00', '2024-02-22 10:03:30', '2024-02-22 13:44:30', '2024-02-22 13:46:30', 24, 1)\n",
      "('20000220', 'DRH1', '2024-02-20 18:10:48', '2024-02-22 09:44:48', '2024-02-22 10:00:36', '2024-02-22 14:10:36', '2024-02-22 14:10:36', 49, 1)\n",
      "('20000217', 'QPR', '2024-02-22 11:57:00', '2024-02-22 11:57:00', '2024-02-22 12:07:48', '2024-02-22 14:23:48', '2024-02-22 14:23:48', 89, 1)\n",
      "('20000227', 'SAE', '2024-02-22 09:58:00', '2024-02-22 12:28:00', '2024-02-22 12:34:42', '2024-02-22 14:28:42', '2024-02-22 14:30:42', 50, 0)\n",
      "('20000217', 'FTL', '2024-02-22 14:28:48', None, None, None, None, None, None)\n",
      "('20000223', 'HAE', '2024-02-22 09:54:06', '2024-02-22 10:44:06', '2024-02-22 10:54:30', '2024-02-22 15:57:30', '2024-02-22 15:58:30', 95, 3)\n",
      "('20000250', 'QPR', '2024-02-22 13:51:30', '2024-02-22 14:24:30', '2024-02-22 14:39:30', '2024-02-22 16:03:30', '2024-02-22 16:03:30', 24, 0)\n",
      "('20000250', 'FTL', '2024-02-22 16:07:30', None, None, None, None, None, None)\n",
      "('20000228', 'SAE', '2024-02-22 10:02:00', '2024-02-22 14:29:00', '2024-02-22 14:39:54', '2024-02-22 16:18:54', '2024-02-22 16:21:54', 100, 0)\n",
      "('20000220', 'QPR', '2024-02-22 14:14:36', '2024-02-22 16:03:36', '2024-02-22 16:16:48', '2024-02-22 17:02:48', '2024-02-22 17:04:48', 49, 0)\n",
      "('20000220', 'FTL', '2024-02-22 17:09:48', None, None, None, None, None, None)\n",
      "('20000215', 'DRH2', '2024-02-20 18:48:42', '2024-02-22 09:50:42', '2024-02-22 10:08:36', '2024-02-22 17:18:36', '2024-02-22 17:21:36', 100, 0)\n",
      "('20000257', 'FRA', '2024-02-22 10:05:06', '2024-02-22 13:45:06', '2024-02-22 14:04:00', '2024-02-22 19:11:00', '2024-02-22 20:01:00', 96, 4)\n",
      "('20000223', 'QPR', '2024-02-22 16:02:30', '2024-02-22 17:03:30', '2024-02-22 17:13:06', '2024-02-22 19:28:06', '2024-02-22 19:30:06', 95, 0)\n",
      "('20000223', 'FTL', '2024-02-22 19:35:06', None, None, None, None, None, None)\n",
      "('20000221', 'DRH1', '2024-02-20 20:26:48', '2024-02-22 14:10:48', '2024-02-22 14:20:18', '2024-02-22 20:51:18', '2024-02-22 20:53:18', 47, 3)\n",
      "('20000215', 'QPR', '2024-02-22 17:26:36', '2024-02-22 19:28:36', '2024-02-22 19:38:42', '2024-02-22 21:13:42', '2024-02-22 21:13:42', 100, 0)\n",
      "('20000215', 'FTL', '2024-02-22 21:18:42', None, None, None, None, None, None)\n",
      "('20000261', 'RTL', '2024-02-23 06:00:00', None, None, None, None, None, None)\n",
      "('20000221', 'QPR', '2024-02-22 20:58:18', '2024-02-22 21:14:18', '2024-02-22 21:20:12', '2024-02-23 06:28:12', '2024-02-23 06:30:12', 47, 0)\n",
      "('20000221', 'FTL', '2024-02-23 06:35:12', None, None, None, None, None, None)\n",
      "('20000257', 'HAE', '2024-02-22 20:07:00', '2024-02-22 20:07:00', '2024-02-22 20:24:42', '2024-02-23 08:37:42', '2024-02-23 08:39:42', 93, 3)\n",
      "('20000222', 'DRH2', '2024-02-21 06:12:06', '2024-02-22 18:19:06', '2024-02-22 18:33:42', '2024-02-23 09:38:42', '2024-02-23 09:40:42', 98, 1)\n",
      "('20000230', 'RTL', '2024-02-23 09:39:00', None, None, None, None, None, None)\n",
      "('20000232', 'RTL', '2024-02-23 09:39:00', None, None, None, None, None, None)\n",
      "('20000233', 'RTL', '2024-02-23 09:39:00', None, None, None, None, None, None)\n",
      "('20000234', 'RTL', '2024-02-23 09:39:00', None, None, None, None, None, None)\n",
      "('20000261', 'SAE', '2024-02-23 06:09:00', '2024-02-23 06:39:00', '2024-02-23 06:48:18', '2024-02-23 09:59:18', '2024-02-23 09:59:18', 99, 1)\n",
      "('20000257', 'QPR', '2024-02-23 08:43:42', '2024-02-23 08:43:42', '2024-02-23 08:48:42', '2024-02-23 10:47:42', '2024-02-23 10:49:42', 93, 0)\n",
      "('20000257', 'FTL', '2024-02-23 10:54:42', None, None, None, None, None, None)\n",
      "('20000222', 'QPR', '2024-02-23 09:45:42', '2024-02-23 10:47:42', '2024-02-23 10:57:48', '2024-02-23 12:22:48', '2024-02-23 12:23:48', 97, 1)\n",
      "('20000230', 'SAE', '2024-02-23 09:46:00', '2024-02-23 10:00:00', '2024-02-23 10:10:12', '2024-02-23 12:25:12', '2024-02-23 12:26:12', 24, 1)\n",
      "('20000222', 'FTL', '2024-02-23 12:28:48', None, None, None, None, None, None)\n",
      "('20000229', 'DRH1', '2024-02-22 10:09:00', '2024-02-22 21:37:00', '2024-02-22 21:51:48', '2024-02-23 12:59:48', '2024-02-23 12:59:48', 49, 1)\n",
      "('20000232', 'SAE', '2024-02-23 09:50:00', '2024-02-23 12:26:00', '2024-02-23 12:35:36', '2024-02-23 13:52:36', '2024-02-23 13:54:36', 49, 1)\n",
      "('20000261', 'FRA', '2024-02-23 10:03:18', '2024-02-23 10:03:18', '2024-02-23 10:23:30', '2024-02-23 15:13:30', '2024-02-23 16:23:30', 96, 3)\n",
      "('20000233', 'SAE', '2024-02-23 09:52:00', '2024-02-23 13:52:54', '2024-02-23 14:01:06', '2024-02-23 15:45:06', '2024-02-23 15:47:06', 50, 0)\n",
      "('20000224', 'DRH2', '2024-02-22 13:55:42', '2024-02-23 09:39:42', '2024-02-23 09:50:12', '2024-02-23 16:41:12', '2024-02-23 16:41:12', 24, 0)\n",
      "('20000229', 'HAE', '2024-02-23 13:03:48', '2024-02-23 13:03:48', '2024-02-23 13:35:06', '2024-02-23 16:49:06', '2024-02-23 16:49:06', 46, 3)\n",
      "('20000224', 'QPR', '2024-02-23 16:46:12', '2024-02-23 16:46:12', '2024-02-23 17:00:06', '2024-02-23 17:26:06', '2024-02-23 17:26:06', 24, 0)\n",
      "('20000224', 'FTL', '2024-02-23 17:31:06', None, None, None, None, None, None)\n",
      "('20000229', 'QPR', '2024-02-23 16:53:06', '2024-02-23 17:26:06', '2024-02-23 17:36:12', '2024-02-23 18:52:12', '2024-02-23 18:52:12', 44, 2)\n",
      "('20000229', 'FTL', '2024-02-23 18:56:12', None, None, None, None, None, None)\n",
      "('20000227', 'DRH1', '2024-02-22 14:34:42', '2024-02-23 13:00:42', '2024-02-23 13:10:12', '2024-02-23 19:37:12', '2024-02-23 19:40:12', 50, 0)\n",
      "('20000235', 'RTL', '2024-02-23 19:37:54', None, None, None, None, None, None)\n",
      "('20000227', 'QPR', '2024-02-23 19:45:12', '2024-02-23 19:45:12', '2024-02-23 19:49:48', '2024-02-23 20:54:48', '2024-02-23 20:54:48', 50, 0)\n",
      "('20000227', 'FTL', '2024-02-23 20:59:48', None, None, None, None, None, None)\n",
      "('20000261', 'HAE', '2024-02-23 16:28:30', '2024-02-23 16:49:30', '2024-02-23 17:10:18', '2024-02-23 21:12:18', '2024-02-23 21:14:18', 92, 4)\n",
      "('20000262', 'RTL', '2024-02-26 06:00:54', None, None, None, None, None, None)\n",
      "('20000269', 'RTL', '2024-02-26 06:00:54', None, None, None, None, None, None)\n",
      "('20000261', 'QPR', '2024-02-23 21:18:18', '2024-02-23 21:18:18', '2024-02-23 21:23:24', '2024-02-26 07:28:24', '2024-02-26 07:30:24', 89, 3)\n",
      "('20000261', 'FTL', '2024-02-26 07:35:24', None, None, None, None, None, None)\n",
      "('20000269', 'SAE', '2024-02-26 06:11:54', '2024-02-26 06:11:54', '2024-02-26 06:21:30', '2024-02-26 09:53:30', '2024-02-26 09:53:30', 98, 2)\n",
      "('20000228', 'DRH2', '2024-02-22 16:25:54', '2024-02-23 18:46:54', '2024-02-23 19:01:54', '2024-02-26 10:47:54', '2024-02-26 11:44:54', 99, 1)\n",
      "('20000262', 'FRA', '2024-02-26 06:07:00', '2024-02-26 07:22:00', '2024-02-26 07:37:00', '2024-02-26 11:51:00', '2024-02-26 11:53:00', 25, 0)\n",
      "('20000234', 'DRH1', '2024-02-23 09:46:00', '2024-02-23 20:22:54', '2024-02-23 20:38:36', '2024-02-26 11:54:36', '2024-02-26 11:57:36', 50, 0)\n",
      "('20000236', 'RTL', '2024-02-26 11:54:54', None, None, None, None, None, None)\n",
      "('20000239', 'RTL', '2024-02-26 11:54:54', None, None, None, None, None, None)\n",
      "('20000240', 'RTL', '2024-02-26 11:54:54', None, None, None, None, None, None)\n",
      "('20000241', 'RTL', '2024-02-26 11:54:54', None, None, None, None, None, None)\n",
      "('20000228', 'QPR', '2024-02-26 11:48:54', '2024-02-26 11:48:54', '2024-02-26 11:57:06', '2024-02-26 13:40:06', '2024-02-26 13:42:06', 99, 0)\n",
      "('20000228', 'FTL', '2024-02-26 13:47:06', None, None, None, None, None, None)\n",
      "('20000236', 'SAE', '2024-02-26 12:01:54', '2024-02-26 12:31:54', '2024-02-26 12:41:24', '2024-02-26 14:55:24', '2024-02-26 14:55:24', 25, 0)\n",
      "('20000262', 'QPR', '2024-02-26 11:58:00', '2024-02-26 13:41:00', '2024-02-26 13:55:54', '2024-02-26 15:06:54', '2024-02-26 15:07:54', 25, 0)\n",
      "('20000262', 'FTL', '2024-02-26 15:12:54', None, None, None, None, None, None)\n",
      "('20000239', 'SAE', '2024-02-26 12:05:54', '2024-02-26 14:55:54', '2024-02-26 15:06:48', '2024-02-26 16:12:48', '2024-02-26 16:12:48', 50, 0)\n",
      "('20000232', 'DRH1', '2024-02-23 13:58:36', '2024-02-26 11:54:36', '2024-02-26 12:10:30', '2024-02-26 16:13:30', '2024-02-26 16:16:30', 49, 0)\n",
      "('20000232', 'QPR', '2024-02-26 16:20:30', '2024-02-26 16:20:30', '2024-02-26 16:33:30', '2024-02-26 17:23:30', '2024-02-26 17:23:30', 48, 1)\n",
      "('20000269', 'FRA', '2024-02-26 09:57:30', '2024-02-26 11:51:30', '2024-02-26 12:09:48', '2024-02-26 17:25:48', '2024-02-26 17:28:48', 95, 3)\n",
      "('20000232', 'FTL', '2024-02-26 17:27:30', None, None, None, None, None, None)\n",
      "('20000240', 'SAE', '2024-02-26 12:03:54', '2024-02-26 16:12:54', '2024-02-26 16:21:48', '2024-02-26 17:56:48', '2024-02-26 20:32:48', 99, 1)\n",
      "('20000230', 'DRH2', '2024-02-23 12:30:12', '2024-02-26 11:48:12', '2024-02-26 11:58:12', '2024-02-26 18:27:12', '2024-02-26 20:26:12', 23, 1)\n",
      "('20000234', 'HAE', '2024-02-26 12:02:36', '2024-02-26 15:02:36', '2024-02-26 15:36:12', '2024-02-26 18:55:12', '2024-02-26 18:57:12', 49, 1)\n",
      "('20000234', 'QPR', '2024-02-26 19:01:12', '2024-02-26 19:01:12', '2024-02-26 19:11:06', '2024-02-26 20:26:06', '2024-02-26 20:26:06', 48, 1)\n",
      "('20000234', 'FTL', '2024-02-26 20:31:06', None, None, None, None, None, None)\n",
      "('20000230', 'QPR', '2024-02-26 20:31:12', '2024-02-26 20:31:12', '2024-02-26 20:46:12', '2024-02-26 21:09:12', '2024-02-26 21:11:12', 23, 0)\n",
      "('20000230', 'FTL', '2024-02-26 21:16:12', None, None, None, None, None, None)\n",
      "('20000270', 'RTL', '2024-02-27 06:00:54', None, None, None, None, None, None)\n",
      "('20000233', 'DRH1', '2024-02-23 15:51:06', '2024-02-26 16:14:06', '2024-02-26 16:25:00', '2024-02-27 06:27:00', '2024-02-27 06:28:00', 49, 1)\n",
      "('20000269', 'HAE', '2024-02-26 17:34:48', '2024-02-26 18:55:48', '2024-02-26 19:14:24', '2024-02-27 07:00:24', '2024-02-27 07:01:24', 91, 4)\n",
      "('20000233', 'QPR', '2024-02-27 06:32:00', '2024-02-27 06:32:00', '2024-02-27 06:37:00', '2024-02-27 07:40:00', '2024-02-27 07:40:00', 49, 0)\n",
      "('20000233', 'FTL', '2024-02-27 07:45:00', None, None, None, None, None, None)\n",
      "('20000269', 'QPR', '2024-02-27 07:05:24', '2024-02-27 07:40:24', '2024-02-27 07:45:24', '2024-02-27 09:32:24', '2024-02-27 09:34:24', 89, 2)\n",
      "('20000269', 'FTL', '2024-02-27 09:39:24', None, None, None, None, None, None)\n",
      "('20000270', 'FRA', '2024-02-27 06:07:00', '2024-02-27 06:07:00', '2024-02-27 06:22:18', '2024-02-27 10:38:18', '2024-02-27 10:41:18', 24, 1)\n",
      "('20000235', 'DRH2', '2024-02-23 19:44:54', '2024-02-26 18:27:54', '2024-02-26 18:38:12', '2024-02-27 11:14:12', '2024-02-27 11:16:12', 100, 0)\n",
      "('20000242', 'RTL', '2024-02-27 11:14:54', None, None, None, None, None, None)\n",
      "('20000244', 'RTL', '2024-02-27 11:14:54', None, None, None, None, None, None)\n",
      "('20000270', 'QPR', '2024-02-27 10:46:18', '2024-02-27 10:46:18', '2024-02-27 10:59:18', '2024-02-27 12:10:18', '2024-02-27 12:11:18', 24, 0)\n",
      "('20000270', 'FTL', '2024-02-27 12:16:18', None, None, None, None, None, None)\n",
      "('20000242', 'SAE', '2024-02-27 11:26:54', '2024-02-27 11:26:54', '2024-02-27 11:36:12', '2024-02-27 13:43:12', '2024-02-27 13:43:12', 25, 0)\n",
      "('20000241', 'DRH1', '2024-02-26 12:09:54', '2024-02-27 07:57:54', '2024-02-27 08:06:48', '2024-02-27 17:01:48', '2024-02-27 17:01:48', 96, 4)\n",
      "('20000235', 'FRA', '2024-02-27 11:21:12', '2024-02-27 12:01:12', '2024-02-27 12:20:48', '2024-02-27 17:17:48', '2024-02-27 17:17:48', 96, 4)\n",
      "('20000236', 'DRH2', '2024-02-26 14:59:24', '2024-02-27 12:14:24', '2024-02-27 12:25:00', '2024-02-27 18:33:00', '2024-02-27 18:34:00', 25, 0)\n",
      "('20000246', 'RTL', '2024-02-27 18:33:54', None, None, None, None, None, None)\n",
      "('20000247', 'RTL', '2024-02-27 18:33:54', None, None, None, None, None, None)\n",
      "('20000248', 'RTL', '2024-02-27 18:33:54', None, None, None, None, None, None)\n",
      "('20000249', 'RTL', '2024-02-27 18:33:54', None, None, None, None, None, None)\n",
      "('20000236', 'QPR', '2024-02-27 18:38:00', '2024-02-27 18:38:00', '2024-02-27 18:54:24', '2024-02-27 19:20:24', '2024-02-27 19:20:24', 25, 0)\n",
      "('20000236', 'FTL', '2024-02-27 19:25:24', None, None, None, None, None, None)\n",
      "('20000246', 'SAE', '2024-02-27 18:40:54', '2024-02-27 18:40:54', '2024-02-27 18:49:36', '2024-02-27 20:10:36', '2024-02-27 21:39:36', 50, 0)\n",
      "('20000239', 'DRH1', '2024-02-26 16:16:48', '2024-02-27 17:01:48', '2024-02-27 17:15:36', '2024-02-27 21:20:36', '2024-02-27 21:20:36', 49, 1)\n",
      "('20000251', 'RTL', '2024-02-27 21:20:54', None, None, None, None, None, None)\n",
      "('20000252', 'RTL', '2024-02-27 21:20:54', None, None, None, None, None, None)\n",
      "('20000253', 'RTL', '2024-02-27 21:20:54', None, None, None, None, None, None)\n",
      "('20000254', 'RTL', '2024-02-27 21:20:54', None, None, None, None, None, None)\n",
      "('20000247', 'SAE', '2024-02-27 18:44:54', '2024-02-27 20:10:54', '2024-02-27 20:18:54', '2024-02-27 22:02:54', '2024-02-27 22:02:54', 50, 0)\n",
      "('20000282', 'RTL', '2024-02-28 06:00:54', None, None, None, None, None, None)\n",
      "('20000241', 'FRA', '2024-02-27 17:06:48', '2024-02-27 17:18:48', '2024-02-27 17:39:24', '2024-02-28 06:13:24', '2024-02-28 06:14:24', 95, 1)\n",
      "('20000235', 'HAE', '2024-02-27 17:23:48', '2024-02-27 17:23:48', '2024-02-27 17:33:36', '2024-02-28 06:17:36', '2024-02-28 06:18:36', 92, 4)\n",
      "('20000239', 'QPR', '2024-02-27 21:24:36', '2024-02-27 21:24:36', '2024-02-27 21:37:36', '2024-02-28 06:30:36', '2024-02-28 06:30:36', 48, 1)\n",
      "('20000239', 'FTL', '2024-02-28 06:34:36', None, None, None, None, None, None)\n",
      "('20000248', 'SAE', '2024-02-27 18:40:54', '2024-02-28 06:01:00', '2024-02-28 06:10:42', '2024-02-28 08:03:42', '2024-02-28 08:04:42', 100, 0)\n",
      "('20000235', 'QPR', '2024-02-28 06:22:36', '2024-02-28 06:30:36', '2024-02-28 06:40:36', '2024-02-28 08:52:36', '2024-02-28 08:53:36', 91, 1)\n",
      "('20000235', 'FTL', '2024-02-28 08:58:36', None, None, None, None, None, None)\n",
      "('20000251', 'SAE', '2024-02-27 21:48:54', '2024-02-28 08:03:54', '2024-02-28 08:13:06', '2024-02-28 09:37:06', '2024-02-28 09:38:06', 50, 0)\n",
      "('20000240', 'DRH2', '2024-02-26 20:36:48', '2024-02-27 18:33:48', '2024-02-27 18:49:48', '2024-02-28 10:35:48', '2024-02-28 10:35:48', 99, 0)\n",
      "('20000241', 'HAE', '2024-02-28 06:19:24', '2024-02-28 06:19:24', '2024-02-28 06:28:54', '2024-02-28 10:53:54', '2024-02-28 10:54:54', 90, 5)\n",
      "('20000252', 'SAE', '2024-02-27 21:27:54', '2024-02-28 09:37:54', '2024-02-28 09:45:42', '2024-02-28 11:35:42', '2024-02-28 11:36:42', 50, 0)\n",
      "('20000240', 'QPR', '2024-02-28 10:40:48', '2024-02-28 10:40:48', '2024-02-28 10:51:00', '2024-02-28 12:28:00', '2024-02-28 12:28:00', 98, 1)\n",
      "('20000240', 'FTL', '2024-02-28 12:33:00', None, None, None, None, None, None)\n",
      "('20000253', 'SAE', '2024-02-27 21:31:54', '2024-02-28 11:35:54', '2024-02-28 11:44:48', '2024-02-28 13:28:48', '2024-02-28 13:29:48', 100, 0)\n",
      "('20000244', 'DRH1', '2024-02-27 11:21:54', '2024-02-28 06:01:00', '2024-02-28 06:15:36', '2024-02-28 13:44:36', '2024-02-28 13:44:36', 48, 2)\n",
      "('20000241', 'QPR', '2024-02-28 10:58:54', '2024-02-28 12:28:54', '2024-02-28 12:38:06', '2024-02-28 14:47:06', '2024-02-28 14:48:06', 89, 1)\n",
      "('20000241', 'FTL', '2024-02-28 14:53:06', None, None, None, None, None, None)\n",
      "('20000282', 'SAE', '2024-02-28 06:06:00', '2024-02-28 13:29:00', '2024-02-28 13:39:42', '2024-02-28 17:07:42', '2024-02-28 17:10:42', 100, 0)\n",
      "('20000244', 'HAE', '2024-02-28 13:49:36', '2024-02-28 13:49:36', '2024-02-28 14:21:18', '2024-02-28 17:16:18', '2024-02-28 17:19:18', 47, 1)\n",
      "('20000242', 'DRH2', '2024-02-27 13:47:12', '2024-02-28 11:36:12', '2024-02-28 11:46:00', '2024-02-28 18:35:00', '2024-02-28 18:37:00', 25, 0)\n",
      "('20000244', 'QPR', '2024-02-28 17:23:18', '2024-02-28 17:23:18', '2024-02-28 17:32:24', '2024-02-28 18:46:24', '2024-02-28 18:46:24', 47, 0)\n",
      "('20000244', 'FTL', '2024-02-28 18:51:24', None, None, None, None, None, None)\n",
      "('20000242', 'QPR', '2024-02-28 18:42:00', '2024-02-28 18:47:00', '2024-02-28 19:03:06', '2024-02-28 19:27:06', '2024-02-28 19:29:06', 25, 0)\n",
      "('20000242', 'FTL', '2024-02-28 19:34:06', None, None, None, None, None, None)\n",
      "('20000283', 'RTL', '2024-02-29 06:00:54', None, None, None, None, None, None)\n",
      "('20000249', 'DRH1', '2024-02-27 18:44:54', '2024-02-28 13:44:54', '2024-02-28 13:54:30', '2024-02-29 06:07:30', '2024-02-29 06:09:30', 99, 1)\n",
      "('20000282', 'FRA', '2024-02-28 17:14:42', '2024-02-28 17:54:42', '2024-02-28 18:14:18', '2024-02-29 06:50:18', '2024-02-29 06:50:18', 95, 5)\n",
      "('20000287', 'RTL', '2024-02-29 06:50:54', None, None, None, None, None, None)\n",
      "('20000254', 'DRH2', '2024-02-27 21:29:54', '2024-02-28 18:35:54', '2024-02-28 18:51:54', '2024-02-29 10:01:54', '2024-02-29 10:02:54', 50, 0)\n",
      "('20000246', 'DRH1', '2024-02-27 21:43:36', '2024-02-29 06:07:36', '2024-02-29 06:22:12', '2024-02-29 10:24:12', '2024-02-29 10:26:12', 49, 1)\n",
      "('20000255', 'RTL', '2024-02-29 10:24:54', None, None, None, None, None, None)\n",
      "('20000282', 'HAE', '2024-02-29 06:56:18', '2024-02-29 06:56:18', '2024-02-29 07:14:30', '2024-02-29 11:22:30', '2024-02-29 11:23:30', 93, 2)\n",
      "('20000283', 'FRA', '2024-02-29 06:08:00', '2024-02-29 06:51:00', '2024-02-29 07:05:36', '2024-02-29 11:22:36', '2024-02-29 12:15:36', 24, 1)\n",
      "('20000246', 'QPR', '2024-02-29 10:31:12', '2024-02-29 10:31:12', '2024-02-29 10:43:00', '2024-02-29 11:35:00', '2024-02-29 11:35:00', 49, 0)\n",
      "('20000246', 'FTL', '2024-02-29 11:40:00', None, None, None, None, None, None)\n",
      "('20000287', 'SAE', '2024-02-29 06:57:54', '2024-02-29 08:17:54', '2024-02-29 08:27:48', '2024-02-29 11:47:48', '2024-02-29 11:50:48', 99, 1)\n",
      "('20000282', 'QPR', '2024-02-29 11:27:30', '2024-02-29 11:35:30', '2024-02-29 11:40:00', '2024-02-29 13:34:00', '2024-02-29 13:34:00', 92, 1)\n",
      "('20000282', 'FTL', '2024-02-29 13:39:00', None, None, None, None, None, None)\n",
      "('20000283', 'QPR', '2024-02-29 12:20:36', '2024-02-29 13:34:36', '2024-02-29 13:51:12', '2024-02-29 14:59:12', '2024-02-29 15:01:12', 24, 0)\n",
      "('20000283', 'FTL', '2024-02-29 15:06:12', None, None, None, None, None, None)\n",
      "('20000249', 'FRA', '2024-02-29 06:14:30', '2024-02-29 11:23:30', '2024-02-29 11:42:24', '2024-02-29 16:16:24', '2024-02-29 16:19:24', 96, 3)\n",
      "('20000254', 'HAE', '2024-02-29 10:07:54', '2024-02-29 12:52:54', '2024-02-29 13:20:36', '2024-02-29 16:18:36', '2024-02-29 16:24:36', 48, 2)\n",
      "('20000247', 'DRH2', '2024-02-28 06:05:00', '2024-02-29 11:02:00', '2024-02-29 11:11:36', '2024-02-29 17:17:36', '2024-02-29 19:15:36', 49, 1)\n",
      "('20000254', 'QPR', '2024-02-29 16:28:36', '2024-02-29 16:28:36', '2024-02-29 16:38:18', '2024-02-29 17:45:18', '2024-02-29 17:47:18', 48, 0)\n",
      "('20000254', 'FTL', '2024-02-29 17:52:18', None, None, None, None, None, None)\n",
      "('20000248', 'DRH1', '2024-02-28 08:08:42', '2024-02-29 11:09:42', '2024-02-29 11:23:48', '2024-02-29 18:32:48', '2024-02-29 18:34:48', 98, 2)\n",
      "('20000256', 'RTL', '2024-02-29 18:32:54', None, None, None, None, None, None)\n",
      "('20000258', 'RTL', '2024-02-29 18:32:54', None, None, None, None, None, None)\n",
      "('20000259', 'RTL', '2024-02-29 18:32:54', None, None, None, None, None, None)\n",
      "('20000248', 'QPR', '2024-02-29 18:38:48', '2024-02-29 18:38:48', '2024-02-29 18:49:24', '2024-02-29 20:40:24', '2024-02-29 20:40:24', 97, 1)\n",
      "('20000248', 'FTL', '2024-02-29 20:45:24', None, None, None, None, None, None)\n",
      "('20000249', 'HAE', '2024-02-29 16:25:24', '2024-02-29 16:25:24', '2024-02-29 16:34:36', '2024-02-29 20:56:36', '2024-02-29 20:57:36', 91, 5)\n",
      "('20000256', 'SAE', '2024-02-29 19:14:54', '2024-02-29 19:14:54', '2024-02-29 19:24:42', '2024-02-29 21:42:42', '2024-02-29 21:43:42', 25, 0)\n",
      "('20000251', 'DRH2', '2024-02-28 09:42:06', '2024-02-29 17:18:06', '2024-02-29 17:32:12', '2024-02-29 21:44:12', '2024-02-29 21:45:12', 49, 1)\n",
      "('20000260', 'RTL', '2024-02-29 21:44:54', None, None, None, None, None, None)\n",
      "('20000263', 'RTL', '2024-02-29 21:44:54', None, None, None, None, None, None)\n",
      "('20000264', 'RTL', '2024-02-29 21:44:54', None, None, None, None, None, None)\n",
      "('20000265', 'RTL', '2024-02-29 21:44:54', None, None, None, None, None, None)\n",
      "('20000266', 'RTL', '2024-02-29 21:44:54', None, None, None, None, None, None)\n",
      "('20000287', 'FRA', '2024-02-29 11:54:48', '2024-02-29 16:16:48', '2024-02-29 16:35:12', '2024-02-29 21:47:12', '2024-02-29 21:52:12', 95, 4)\n",
      "('20000247', 'QPR', None, '2024-02-29 20:40:36', '2024-02-29 20:46:06', '2024-02-29 21:52:06', '2024-02-29 21:58:06', 49, 0)\n",
      "\n",
      "--------------------------------------------------\n",
      "\n",
      "Inhalt der Tabelle: TLF\n",
      "['Vorgangs_nr', 'FFZ_id', 'start_knoten', 'end_knoten', 'route', 'startzeitpunkt', 'endzeitpunkt', 'akkustand', 'charge']\n",
      "(1, 'F1', 'g', 'a', 'g->c->a', '2024-01-01 06:01:00', '2024-01-01 06:03:00', 0.945, None)\n",
      "(2, 'F3', 'g', 'a', 'g->c->a', '2024-01-01 06:01:00', '2024-01-01 06:03:00', 0.9153846153846154, None)\n",
      "(3, 'F2', 'g', 'a', 'g->c->a', '2024-01-01 06:01:00', '2024-01-01 06:03:00', 0.9266666666666666, None)\n",
      "(4, 'F3', 'a', 'd', 'a->d', '2024-01-01 06:03:00', '2024-01-01 06:06:00', 0.9153846153846154, '20000001')\n",
      "(5, 'F2', 'a', 'b', 'a->b', '2024-01-01 06:03:00', '2024-01-01 06:06:00', 0.9266666666666666, '20000002')\n",
      "(6, 'F1', 'a', 'd', 'a->d', '2024-01-01 06:03:00', '2024-01-01 06:07:00', 0.945, '20000000')\n",
      "(7, 'F2', 'b', 'a', 'b->a', '2024-01-01 06:06:54', '2024-01-01 06:07:54', 0.8466666666666667, None)\n",
      "(8, 'F3', 'd', 'a', 'd->a', '2024-01-01 06:06:54', '2024-01-01 06:07:54', 0.8, None)\n",
      "(9, 'F1', 'd', 'a', 'd->a', '2024-01-01 06:07:54', '2024-01-01 06:09:54', 0.87, None)\n",
      "(10, 'F2', 'a', 'b', 'a->b', '2024-01-01 06:07:54', '2024-01-01 06:10:54', 0.8466666666666667, '20000004')\n",
      "(11, 'F3', 'a', 'b', 'a->b', '2024-01-01 06:07:54', '2024-01-01 06:10:54', 0.8, '20000005')\n",
      "(12, 'F3', 'b', 'a', 'b->a', '2024-01-01 06:10:54', '2024-01-01 06:11:54', 0.7076923076923077, None)\n",
      "(13, 'F2', 'b', 'a', 'b->a', '2024-01-01 06:10:54', '2024-01-01 06:11:54', 0.7666666666666667, None)\n",
      "(14, 'F1', 'a', 'b', 'a->b', '2024-01-01 06:09:54', '2024-01-01 06:12:54', 0.87, '20000003')\n",
      "(15, 'F1', 'b', 'a', 'b->a', '2024-01-01 06:12:54', '2024-01-01 06:13:54', 0.81, None)\n",
      "(16, 'F3', 'a', 'b', 'a->b', '2024-01-01 06:11:54', '2024-01-01 06:14:54', 0.7076923076923077, '20000007')\n",
      "(17, 'F2', 'a', 'b', 'a->b', '2024-01-01 06:11:54', '2024-01-01 06:14:54', 0.7666666666666667, '20000008')\n",
      "(18, 'F3', 'b', 'a', 'b->a', '2024-01-01 06:14:54', '2024-01-01 06:15:54', 0.6153846153846154, None)\n",
      "(19, 'F2', 'b', 'a', 'b->a', '2024-01-01 06:14:54', '2024-01-01 06:15:54', 0.6866666666666666, None)\n",
      "(20, 'F1', 'a', 'b', 'a->b', '2024-01-01 06:13:54', '2024-01-01 06:16:54', 0.81, '20000006')\n",
      "(21, 'F1', 'b', 'a', 'b->a', '2024-01-01 06:16:54', '2024-01-01 06:17:54', 0.75, None)\n",
      "(22, 'F3', 'a', 'c', 'a->c', '2024-01-01 06:15:54', '2024-01-01 06:18:54', 0.6153846153846154, '20000010')\n",
      "(23, 'F2', 'a', 'c', 'a->c', '2024-01-01 06:15:54', '2024-01-01 06:18:54', 0.6866666666666666, '20000011')\n",
      "(24, 'F3', 'c', 'a', 'c->a', '2024-01-01 06:18:54', '2024-01-01 06:19:54', 0.5076923076923077, None)\n",
      "(25, 'F1', 'a', 'c', 'a->c', '2024-01-01 06:17:54', '2024-01-01 06:21:54', 0.75, '20000009')\n",
      "(26, 'F3', 'a', 'b', 'a->b', '2024-01-01 06:19:54', '2024-01-01 06:22:54', 0.5076923076923077, '20000013')\n",
      "(27, 'F1', 'c', 'a', 'c->a', '2024-01-01 06:21:54', '2024-01-01 06:23:54', 0.68, None)\n",
      "(28, 'F1', 'a', 'c', 'a->c', '2024-01-01 06:23:54', '2024-01-01 06:27:54', 0.68, '20000012')\n",
      "(29, 'F3', 'b', 'c', 'b->c', '2024-01-01 07:28:24', '2024-01-01 07:31:24', 0.46153846153846156, '20000002')\n",
      "(30, 'F1', 'c', 'b', 'c->b', '2024-01-01 09:02:54', '2024-01-01 09:03:54', 0.6325, None)\n",
      "(31, 'F1', 'b', 'c', 'b->c', '2024-01-01 09:03:54', '2024-01-01 09:06:54', 0.6325, '20000003')\n",
      "(32, 'F1', 'c', 'b', 'c->b', '2024-01-01 10:21:30', '2024-01-01 10:22:30', 0.6075, None)\n",
      "(33, 'F1', 'b', 'c', 'b->c', '2024-01-01 10:22:30', '2024-01-01 10:25:30', 0.6075, '20000004')\n",
      "(34, 'F3', 'c', 'd', 'c->b->d', '2024-01-01 10:25:24', '2024-01-01 10:26:24', 0.38846153846153847, None)\n",
      "(35, 'F3', 'd', 'e', 'd->e', '2024-01-01 10:26:24', '2024-01-01 10:30:24', 0.38846153846153847, '20000000')\n",
      "(36, 'F3', 'e', 'f', 'e->f', '2024-01-01 11:58:30', '2024-01-01 12:02:30', 0.3230769230769231, '20000000')\n",
      "(37, 'F3', 'f', 'g', 'f->e->g', '2024-01-01 12:02:55.538462', '2024-01-01 12:04:24', 0.16923076923076924, None)\n",
      "(38, 'F1', 'c', 'b', 'c->b', '2024-01-01 12:11:30', '2024-01-01 12:12:30', 0.5825, None)\n",
      "(39, 'F1', 'b', 'c', 'b->c', '2024-01-01 12:12:30', '2024-01-01 12:15:30', 0.5825, '20000005')\n",
      "(40, 'F1', 'c', 'b', 'c->b', '2024-01-01 14:08:30', '2024-01-01 14:09:30', 0.5575, None)\n",
      "(41, 'F1', 'b', 'c', 'b->c', '2024-01-01 14:09:30', '2024-01-01 14:12:30', 0.5575, '20000006')\n",
      "(42, 'F1', 'c', 'd', 'c->b->d', '2024-01-01 14:33:24', '2024-01-01 14:37:24', 0.545, '20000011')\n",
      "(43, 'F2', 'c', 'd', 'c->b->d', '2024-01-01 14:54:48', '2024-01-01 14:57:48', 0.64, '20000010')\n",
      "(44, 'F1', 'd', 'e', 'd->e', '2024-01-01 15:09:00', '2024-01-01 15:13:00', 0.51, '20000001')\n",
      "(45, 'F2', 'd', 'b', 'd->b', '2024-01-01 15:52:30', '2024-01-01 15:53:30', 0.5633333333333334, None)\n",
      "(46, 'F2', 'b', 'c', 'b->c', '2024-01-01 15:53:30', '2024-01-01 15:56:30', 0.5633333333333334, '20000007')\n",
      "(47, 'F1', 'e', 'f', 'e->f', '2024-01-01 16:44:12', '2024-01-01 16:48:12', 0.4675, '20000001')\n",
      "(48, 'F2', 'c', 'b', 'c->b', '2024-01-01 17:33:48', '2024-01-01 17:34:48', 0.53, None)\n",
      "(49, 'F2', 'b', 'c', 'b->c', '2024-01-01 17:34:48', '2024-01-01 17:37:48', 0.53, '20000008')\n",
      "(50, 'F2', 'c', 'd', 'c->b->d', '2024-01-01 20:21:18', '2024-01-01 20:22:18', 0.4666666666666667, None)\n",
      "(51, 'F2', 'd', 'h', 'd->e->h', '2024-01-01 20:22:18', '2024-01-01 20:26:18', 0.4666666666666667, '20000011')\n",
      "(52, 'F3', 'g', 'b', 'g->c->b', '2024-01-01 21:17:36', '2024-01-01 21:18:36', 0.95, None)\n",
      "(53, 'F3', 'b', 'd', 'b->d', '2024-01-01 21:18:36', '2024-01-01 21:21:36', 0.95, '20000013')\n",
      "(54, 'F3', 'd', 'a', 'd->a', '2024-01-02 06:01:00', '2024-01-02 06:02:00', 0.8576923076923076, None)\n",
      "(55, 'F3', 'a', 'b', 'a->b', '2024-01-02 06:02:00', '2024-01-02 06:05:00', 0.8576923076923076, '20000019')\n",
      "(56, 'F3', 'b', 'c', 'b->c', '2024-01-02 06:23:30', '2024-01-02 06:24:30', 0.7923076923076923, None)\n",
      "(57, 'F3', 'c', 'd', 'c->b->d', '2024-01-02 06:24:30', '2024-01-02 06:27:30', 0.7923076923076923, '20000009')\n",
      "(58, 'F3', 'd', 'c', 'd->b->c', '2024-01-02 07:13:12', '2024-01-02 07:14:12', 0.6846153846153846, None)\n",
      "(59, 'F3', 'c', 'd', 'c->b->d', '2024-01-02 07:14:12', '2024-01-02 07:17:12', 0.6846153846153846, '20000012')\n",
      "(60, 'F3', 'd', 'b', 'd->b', '2024-01-02 09:20:12', '2024-01-02 09:21:12', 0.5961538461538461, None)\n",
      "(61, 'F2', 'h', 'e', 'h->e', '2024-01-02 09:18:42', '2024-01-02 09:21:42', 0.37333333333333335, '20000011')\n",
      "(62, 'F3', 'b', 'd', 'b->d', '2024-01-02 09:21:12', '2024-01-02 09:24:12', 0.5961538461538461, '20000019')\n",
      "(63, 'F3', 'd', 'h', 'd->e->h', '2024-01-02 10:02:06', '2024-01-02 10:06:06', 0.5615384615384615, '20000010')\n",
      "(64, 'F2', 'e', 'c', 'e->g->c', '2024-01-02 10:22:48', '2024-01-02 10:23:48', 0.29, None)\n",
      "(65, 'F2', 'c', 'e', 'c->g->e', '2024-01-02 10:23:48', '2024-01-02 10:26:48', 0.29, '20000002')\n",
      "(66, 'F2', 'e', 'g', 'e->g', '2024-01-02 10:26:58', '2024-01-02 10:27:18', 0.22333333333333333, None)\n",
      "(67, 'F3', 'h', 'c', 'h->g->c', '2024-01-02 11:51:24', '2024-01-02 11:53:24', 0.38846153846153847, None)\n",
      "(68, 'F3', 'c', 'e', 'c->g->e', '2024-01-02 11:53:24', '2024-01-02 11:56:24', 0.38846153846153847, '20000003')\n",
      "(69, 'F2', 'g', 'e', 'g->e', '2024-01-02 12:24:36', '2024-01-02 12:25:36', 0.98, None)\n",
      "(70, 'F2', 'e', 'f', 'e->f', '2024-01-02 12:25:36', '2024-01-02 12:28:36', 0.98, '20000011')\n",
      "(71, 'F3', 'e', 'f', 'e->f', '2024-01-02 12:43:42', '2024-01-02 12:47:42', 0.3346153846153846, '20000002')\n",
      "(72, 'F3', 'f', 'g', 'f->e->g', '2024-01-02 12:47:43.538462', '2024-01-02 12:49:12', 0.18076923076923077, None)\n",
      "(73, 'F1', 'f', 'e', 'f->e', '2024-01-02 13:47:06', '2024-01-02 13:49:06', 0.3825, None)\n",
      "(74, 'F1', 'e', 'f', 'e->f', '2024-01-02 13:49:06', '2024-01-02 13:53:06', 0.3825, '20000003')\n",
      "(75, 'F3', 'g', 'c', 'g->c', '2024-01-02 14:50:06', '2024-01-02 14:51:06', 0.9692307692307692, None)\n",
      "(76, 'F2', 'f', 'a', 'f->e->g->c->a', '2024-01-02 14:51:00', '2024-01-02 14:54:00', 0.7733333333333333, None)\n",
      "(77, 'F3', 'c', 'e', 'c->g->e', '2024-01-02 14:51:06', '2024-01-02 14:54:06', 0.9692307692307692, '20000004')\n",
      "(78, 'F1', 'f', 'a', 'f->e->g->c->a', '2024-01-02 14:51:00', '2024-01-02 14:55:00', 0.2275, None)\n",
      "(79, 'F2', 'a', 'b', 'a->b', '2024-01-02 14:54:00', '2024-01-02 14:57:00', 0.7733333333333333, '20000016')\n",
      "(80, 'F1', 'a', 'b', 'a->b', '2024-01-02 14:55:00', '2024-01-02 14:58:00', 0.2275, '20000014')\n",
      "(81, 'F2', 'b', 'a', 'b->a', '2024-01-02 14:57:00', '2024-01-02 14:58:00', 0.6933333333333334, None)\n",
      "(82, 'F1', 'b', 'a', 'b->a', '2024-01-02 14:58:00', '2024-01-02 14:59:00', 0.1675, None)\n",
      "(83, 'F2', 'a', 'c', 'a->c', '2024-01-02 14:58:00', '2024-01-02 15:01:00', 0.6933333333333334, '20000017')\n",
      "(84, 'F1', 'a', 'b', 'a->b', '2024-01-02 14:59:00', '2024-01-02 15:02:00', 0.1675, '20000015')\n",
      "(85, 'F1', 'b', 'g', 'b->c->g', '2024-01-02 15:02:13', '2024-01-02 15:03:18', 0.105, None)\n",
      "(86, 'F3', 'e', 'h', 'e->h', '2024-01-02 15:08:42', '2024-01-02 15:09:42', 0.8730769230769231, None)\n",
      "(87, 'F3', 'h', 'e', 'h->e', '2024-01-02 15:09:42', '2024-01-02 15:12:42', 0.8730769230769231, '20000010')\n",
      "(88, 'F3', 'e', 'f', 'e->f', '2024-01-02 15:58:42', '2024-01-02 16:02:42', 0.8307692307692308, '20000004')\n",
      "(89, 'F2', 'c', 'b', 'c->b', '2024-01-02 16:25:48', '2024-01-02 16:26:48', 0.63, None)\n",
      "(90, 'F2', 'b', 'c', 'b->c', '2024-01-02 16:26:48', '2024-01-02 16:29:48', 0.63, '20000014')\n",
      "(91, 'F1', 'g', 'd', 'g->c->b->d', '2024-01-02 18:02:42', '2024-01-02 18:04:42', 0.945, None)\n",
      "(92, 'F1', 'd', 'h', 'd->e->h', '2024-01-02 18:04:42', '2024-01-02 18:09:42', 0.945, '20000013')\n",
      "(93, 'F2', 'c', 'b', 'c->b', '2024-01-02 18:14:24', '2024-01-02 18:15:24', 0.5966666666666667, None)\n",
      "(94, 'F2', 'b', 'c', 'b->c', '2024-01-02 18:15:24', '2024-01-02 18:18:24', 0.5966666666666667, '20000015')\n",
      "(95, 'F1', 'h', 'e', 'h->e', '2024-01-02 18:42:06', '2024-01-02 18:43:06', 0.8475, None)\n",
      "(96, 'F1', 'e', 'f', 'e->f', '2024-01-02 18:43:06', '2024-01-02 18:47:06', 0.8475, '20000010')\n",
      "(97, 'F2', 'c', 'b', 'c->b', '2024-01-02 20:13:30', '2024-01-02 20:14:30', 0.5633333333333334, None)\n",
      "(98, 'F2', 'b', 'c', 'b->c', '2024-01-02 20:14:30', '2024-01-02 20:17:30', 0.5633333333333334, '20000016')\n",
      "(99, 'F2', 'c', 'e', 'c->g->e', '2024-01-02 20:40:12', '2024-01-02 20:43:12', 0.5466666666666666, '20000005')\n",
      "(100, 'F2', 'e', 'a', 'e->g->c->a', '2024-01-03 06:01:00', '2024-01-03 06:03:00', 0.4066666666666667, None)\n",
      "(101, 'F2', 'a', 'd', 'a->d', '2024-01-03 06:03:00', '2024-01-03 06:06:00', 0.4066666666666667, '20000020')\n",
      "(102, 'F1', 'f', 'h', 'f->e->h', '2024-01-03 06:17:42', '2024-01-03 06:20:42', 0.735, None)\n",
      "(103, 'F1', 'h', 'e', 'h->e', '2024-01-03 06:20:42', '2024-01-03 06:23:42', 0.735, '20000013')\n",
      "(104, 'F3', 'f', 'e', 'f->e', '2024-01-03 06:22:48', '2024-01-03 06:24:48', 0.7, None)\n",
      "(105, 'F3', 'e', 'f', 'e->f', '2024-01-03 06:24:48', '2024-01-03 06:28:48', 0.7, '20000005')\n",
      "(106, 'F2', 'd', 'h', 'd->e->h', '2024-01-03 06:29:36', '2024-01-03 06:33:36', 0.3566666666666667, '20000009')\n",
      "(107, 'F2', 'h', 'g', 'h->g', '2024-01-03 06:33:48', '2024-01-03 06:34:18', 0.23333333333333334, None)\n",
      "(108, 'F1', 'e', 'f', 'e->f', '2024-01-03 08:26:24', '2024-01-03 08:30:24', 0.7075, '20000013')\n",
      "(109, 'F2', 'g', 'c', 'g->c', '2024-01-03 09:13:42', '2024-01-03 09:14:42', 0.9733333333333334, None)\n",
      "(110, 'F2', 'c', 'e', 'c->g->e', '2024-01-03 09:14:42', '2024-01-03 09:17:42', 0.9733333333333334, '20000006')\n",
      "(111, 'F2', 'e', 'f', 'e->f', '2024-01-03 11:07:36', '2024-01-03 11:10:36', 0.9266666666666666, '20000006')\n",
      "(112, 'F1', 'f', 'h', 'f->e->h', '2024-01-03 11:17:00', '2024-01-03 11:20:00', 0.595, None)\n",
      "(113, 'F1', 'h', 'e', 'h->e', '2024-01-03 11:20:00', '2024-01-03 11:23:00', 0.595, '20000009')\n",
      "(114, 'F1', 'e', 'c', 'e->g->c', '2024-01-03 12:36:30', '2024-01-03 12:38:30', 0.5325, None)\n",
      "(115, 'F1', 'c', 'e', 'c->g->e', '2024-01-03 12:38:30', '2024-01-03 12:42:30', 0.5325, '20000007')\n",
      "(116, 'F1', 'e', 'd', 'e->d', '2024-01-03 13:04:06', '2024-01-03 13:06:06', 0.455, None)\n",
      "(117, 'F1', 'd', 'h', 'd->e->h', '2024-01-03 13:06:06', '2024-01-03 13:11:06', 0.455, '20000012')\n",
      "(118, 'F1', 'h', 'e', 'h->e', '2024-01-03 13:51:30', '2024-01-03 13:52:30', 0.3575, None)\n",
      "(119, 'F1', 'e', 'f', 'e->f', '2024-01-03 13:52:30', '2024-01-03 13:56:30', 0.3575, '20000009')\n",
      "(120, 'F1', 'f', 'e', 'f->e', '2024-01-03 15:28:48', '2024-01-03 15:30:48', 0.2725, None)\n",
      "(121, 'F1', 'e', 'f', 'e->f', '2024-01-03 15:30:48', '2024-01-03 15:34:48', 0.2725, '20000007')\n",
      "(122, 'F1', 'f', 'g', 'f->e->g', '2024-01-03 15:34:47', '2024-01-03 15:36:42', 0.1725, None)\n",
      "(123, 'F3', 'f', 'a', 'f->e->g->c->a', '2024-01-03 18:03:00', '2024-01-03 18:06:00', 0.46153846153846156, None)\n",
      "(124, 'F3', 'a', 'c', 'a->c', '2024-01-03 18:06:00', '2024-01-03 18:09:00', 0.46153846153846156, '20000018')\n",
      "(125, 'F3', 'c', 'h', 'c->g->h', '2024-01-03 18:09:24', '2024-01-03 18:11:24', 0.3423076923076923, None)\n",
      "(126, 'F3', 'h', 'e', 'h->e', '2024-01-03 18:11:24', '2024-01-03 18:14:24', 0.3423076923076923, '20000012')\n",
      "(127, 'F1', 'g', 'c', 'g->c', '2024-01-03 18:22:42', '2024-01-03 18:23:42', 0.98, None)\n",
      "(128, 'F1', 'c', 'e', 'c->g->e', '2024-01-03 18:23:42', '2024-01-03 18:27:42', 0.98, '20000008')\n",
      "(129, 'F1', 'e', 'd', 'e->d', '2024-01-03 18:50:54', '2024-01-03 18:52:54', 0.9025, None)\n",
      "(130, 'F1', 'd', 'h', 'd->e->h', '2024-01-03 18:52:54', '2024-01-03 18:57:54', 0.9025, '20000019')\n",
      "(131, 'F3', 'e', 'c', 'e->g->c', '2024-01-03 20:39:30', '2024-01-03 20:40:30', 0.24615384615384617, None)\n",
      "(132, 'F1', 'h', 'a', 'h->g->c->a', '2024-01-03 20:40:00', '2024-01-03 20:43:00', 0.755, None)\n",
      "(133, 'F3', 'c', 'h', 'c->g->h', '2024-01-03 20:40:30', '2024-01-03 20:44:30', 0.24615384615384617, '20000017')\n",
      "(134, 'F3', 'h', 'g', 'h->g', '2024-01-03 20:44:43.384615', '2024-01-03 20:45:18', 0.14615384615384616, None)\n",
      "(135, 'F1', 'a', 'b', 'a->b', '2024-01-03 20:43:00', '2024-01-03 20:46:00', 0.755, '20000021')\n",
      "(136, 'F1', 'b', 'a', 'b->a', '2024-01-03 20:46:00', '2024-01-03 20:47:00', 0.695, None)\n",
      "(137, 'F1', 'a', 'c', 'a->c', '2024-01-03 20:47:00', '2024-01-03 20:51:00', 0.695, '20000022')\n",
      "(138, 'F3', 'g', 'e', 'g->e', '2024-01-04 06:01:00', '2024-01-04 06:02:00', 0.9769230769230769, None)\n",
      "(139, 'F1', 'c', 'a', 'c->a', '2024-01-04 06:01:00', '2024-01-04 06:03:00', 0.625, None)\n",
      "(140, 'F3', 'e', 'f', 'e->f', '2024-01-04 06:02:00', '2024-01-04 06:06:00', 0.9769230769230769, '20000012')\n",
      "(141, 'F1', 'a', 'd', 'a->d', '2024-01-04 06:03:00', '2024-01-04 06:07:00', 0.625, '20000025')\n",
      "(142, 'F1', 'd', 'a', 'd->a', '2024-01-04 06:08:00', '2024-01-04 06:10:00', 0.55, None)\n",
      "(143, 'F1', 'a', 'b', 'a->b', '2024-01-04 06:10:00', '2024-01-04 06:13:00', 0.55, '20000032')\n",
      "(144, 'F1', 'b', 'c', 'b->c', '2024-01-04 06:21:06', '2024-01-04 06:24:06', 0.52, '20000021')\n",
      "(145, 'F1', 'c', 'e', 'c->g->e', '2024-01-04 06:27:42', '2024-01-04 06:31:42', 0.5075, '20000014')\n",
      "(146, 'F1', 'e', 'f', 'e->f', '2024-01-04 06:41:18', '2024-01-04 06:45:18', 0.4725, '20000008')\n",
      "(147, 'F1', 'f', 'd', 'f->e->d', '2024-01-04 07:22:30', '2024-01-04 07:25:30', 0.345, None)\n",
      "(148, 'F1', 'd', 'e', 'd->e', '2024-01-04 07:25:30', '2024-01-04 07:29:30', 0.345, '20000020')\n",
      "(149, 'F1', 'e', 'f', 'e->f', '2024-01-04 07:40:42', '2024-01-04 07:44:42', 0.3025, '20000014')\n",
      "(150, 'F1', 'f', 'g', 'f->e->g', '2024-01-04 07:44:47', '2024-01-04 07:46:42', 0.2025, None)\n",
      "(151, 'F3', 'f', 'h', 'f->e->h', '2024-01-04 09:16:36', '2024-01-04 09:18:36', 0.8038461538461539, None)\n",
      "(152, 'F3', 'h', 'e', 'h->e', '2024-01-04 09:18:36', '2024-01-04 09:21:36', 0.8038461538461539, '20000019')\n",
      "(153, 'F3', 'e', 'b', 'e->g->c->b', '2024-01-04 10:17:24', '2024-01-04 10:19:24', 0.6884615384615385, None)\n",
      "(154, 'F2', 'f', 'c', 'f->e->g->c', '2024-01-04 10:17:54', '2024-01-04 10:19:54', 0.7666666666666667, None)\n",
      "(155, 'F3', 'b', 'd', 'b->d', '2024-01-04 10:19:24', '2024-01-04 10:22:24', 0.6884615384615385, '20000032')\n",
      "(156, 'F2', 'c', 'e', 'c->g->e', '2024-01-04 10:19:54', '2024-01-04 10:22:54', 0.7666666666666667, '20000015')\n",
      "(157, 'F3', 'd', 'a', 'd->a', '2024-01-04 10:22:54', '2024-01-04 10:23:54', 0.5961538461538461, None)\n",
      "(158, 'F3', 'a', 'c', 'a->c', '2024-01-04 10:23:54', '2024-01-04 10:26:54', 0.5961538461538461, '20000023')\n",
      "(159, 'F1', 'g', 'e', 'g->e', '2024-01-04 10:27:00', '2024-01-04 10:28:00', 0.985, None)\n",
      "(160, 'F1', 'e', 'f', 'e->f', '2024-01-04 10:28:00', '2024-01-04 10:32:00', 0.985, '20000020')\n",
      "(161, 'F2', 'e', 'f', 'e->f', '2024-01-04 11:16:18', '2024-01-04 11:19:18', 0.72, '20000019')\n",
      "(162, 'F3', 'c', 'd', 'c->b->d', '2024-01-04 11:29:24', '2024-01-04 11:30:24', 0.48846153846153845, None)\n",
      "(163, 'F3', 'd', 'e', 'd->e', '2024-01-04 11:30:24', '2024-01-04 11:34:24', 0.48846153846153845, '20000025')\n",
      "(164, 'F3', 'e', 'f', 'e->f', '2024-01-04 12:30:42', '2024-01-04 12:34:42', 0.4230769230769231, '20000015')\n",
      "(165, 'F1', 'f', 'h', 'f->e->h', '2024-01-04 13:05:30', '2024-01-04 13:08:30', 0.8725, None)\n",
      "(166, 'F1', 'h', 'e', 'h->e', '2024-01-04 13:08:30', '2024-01-04 13:11:30', 0.8725, '20000017')\n",
      "(167, 'F1', 'e', 'f', 'e->f', '2024-01-04 14:01:42', '2024-01-04 14:05:42', 0.845, '20000025')\n",
      "(168, 'F1', 'f', 'c', 'f->e->g->c', '2024-01-04 15:06:00', '2024-01-04 15:09:00', 0.725, None)\n",
      "(169, 'F3', 'f', 'a', 'f->e->g->c->a', '2024-01-04 15:06:54', '2024-01-04 15:09:54', 0.18461538461538463, None)\n",
      "(170, 'F2', 'f', 'a', 'f->e->g->c->a', '2024-01-04 15:06:54', '2024-01-04 15:09:54', 0.5133333333333333, None)\n",
      "(171, 'F3', 'a', 'b', 'a->b', '2024-01-04 15:09:54', '2024-01-04 15:12:54', 0.18461538461538463, '20000024')\n",
      "(172, 'F2', 'a', 'b', 'a->b', '2024-01-04 15:09:54', '2024-01-04 15:12:54', 0.5133333333333333, '20000028')\n",
      "(173, 'F1', 'c', 'e', 'c->g->e', '2024-01-04 15:09:00', '2024-01-04 15:13:00', 0.725, '20000016')\n",
      "(174, 'F3', 'b', 'a', 'b->a', '2024-01-04 15:12:54', '2024-01-04 15:13:54', 0.09230769230769231, None)\n",
      "(175, 'F2', 'b', 'a', 'b->a', '2024-01-04 15:12:54', '2024-01-04 15:13:54', 0.43333333333333335, None)\n",
      "(176, 'F1', 'e', 'a', 'e->g->c->a', '2024-01-04 15:13:54', '2024-01-04 15:16:54', 0.62, None)\n",
      "(177, 'F3', 'a', 'b', 'a->b', '2024-01-04 15:13:54', '2024-01-04 15:16:54', 0.09230769230769231, '20000026')\n",
      "(178, 'F2', 'a', 'c', 'a->c', '2024-01-04 15:13:54', '2024-01-04 15:16:54', 0.43333333333333335, '20000029')\n",
      "(179, 'F3', 'b', 'g', 'b->c->g', '2024-01-04 15:17:16', '2024-01-04 15:18:06', -0.0038461538461538464, None)\n",
      "(180, 'F1', 'a', 'b', 'a->b', '2024-01-04 15:16:54', '2024-01-04 15:19:54', 0.62, '20000027')\n",
      "(181, 'F2', 'c', 'e', 'c->g->e', '2024-01-04 15:38:36', '2024-01-04 15:39:36', 0.34, None)\n",
      "(182, 'F2', 'e', 'f', 'e->f', '2024-01-04 15:39:36', '2024-01-04 15:42:36', 0.34, '20000017')\n",
      "(183, 'F1', 'b', 'c', 'b->c', '2024-01-04 17:24:12', '2024-01-04 17:27:12', 0.59, '20000024')\n",
      "(184, 'F2', 'f', 'g', 'f->e->g', '2024-01-04 17:29:01.333333', '2024-01-04 17:30:18', 0.20666666666666667, None)\n",
      "(185, 'F3', 'g', 'd', 'g->c->b->d', '2024-01-04 17:28:48', '2024-01-04 17:30:48', 0.9153846153846154, None)\n",
      "(186, 'F3', 'd', 'h', 'd->e->h', '2024-01-04 17:30:48', '2024-01-04 17:34:48', 0.9153846153846154, '20000032')\n",
      "(187, 'F3', 'h', 'e', 'h->e', '2024-01-04 17:40:48', '2024-01-04 17:41:48', 0.7653846153846153, None)\n",
      "(188, 'F3', 'e', 'f', 'e->f', '2024-01-04 17:41:48', '2024-01-04 17:45:48', 0.7653846153846153, '20000016')\n",
      "(189, 'F1', 'c', 'b', 'c->b', '2024-01-04 19:33:00', '2024-01-04 19:34:00', 0.565, None)\n",
      "(190, 'F1', 'b', 'c', 'b->c', '2024-01-04 19:34:00', '2024-01-04 19:37:00', 0.565, '20000026')\n",
      "(191, 'F1', 'c', 'd', 'c->b->d', '2024-01-04 19:54:30', '2024-01-04 19:58:30', 0.5525, '20000018')\n",
      "(192, 'F1', 'd', 'b', 'd->b', '2024-01-04 21:33:30', '2024-01-04 21:34:30', 0.495, None)\n",
      "(193, 'F1', 'b', 'c', 'b->c', '2024-01-04 21:34:30', '2024-01-04 21:37:30', 0.495, '20000027')\n",
      "(194, 'F2', 'g', 'h', 'g->h', '2024-01-04 21:53:24', '2024-01-04 21:54:24', 0.97, None)\n",
      "(195, 'F2', 'h', 'e', 'h->e', '2024-01-04 21:54:24', '2024-01-04 21:57:24', 0.97, '20000032')\n",
      "(196, 'F1', 'c', 'a', 'c->a', '2024-01-05 06:01:00', '2024-01-05 06:03:00', 0.4475, None)\n",
      "(197, 'F2', 'e', 'a', 'e->g->c->a', '2024-01-05 06:01:00', '2024-01-05 06:03:00', 0.84, None)\n",
      "(198, 'F2', 'a', 'b', 'a->b', '2024-01-05 06:03:00', '2024-01-05 06:06:00', 0.84, '20000038')\n",
      "(199, 'F1', 'a', 'd', 'a->d', '2024-01-05 06:03:00', '2024-01-05 06:07:00', 0.4475, '20000033')\n",
      "(200, 'F2', 'b', 'c', 'b->c', '2024-01-05 07:23:42', '2024-01-05 07:24:42', 0.7833333333333333, None)\n",
      "(201, 'F1', 'd', 'b', 'd->b', '2024-01-05 07:26:12', '2024-01-05 07:27:12', 0.3875, None)\n",
      "(202, 'F2', 'c', 'h', 'c->g->h', '2024-01-05 07:24:42', '2024-01-05 07:27:42', 0.7833333333333333, '20000022')\n",
      "(203, 'F1', 'b', 'c', 'b->c', '2024-01-05 07:27:12', '2024-01-05 07:30:12', 0.3875, '20000028')\n",
      "(204, 'F1', 'c', 'e', 'c->g->e', '2024-01-05 07:47:54', '2024-01-05 07:49:54', 0.34, None)\n",
      "(205, 'F1', 'e', 'f', 'e->f', '2024-01-05 07:49:54', '2024-01-05 07:53:54', 0.34, '20000032')\n",
      "(206, 'F1', 'f', 'g', 'f->e->g', '2024-01-05 07:54:23', '2024-01-05 07:56:18', 0.24, None)\n",
      "(207, 'F2', 'h', 'd', 'h->e->d', '2024-01-05 09:24:54', '2024-01-05 09:26:54', 0.6333333333333333, None)\n",
      "(208, 'F2', 'd', 'h', 'd->e->h', '2024-01-05 09:26:54', '2024-01-05 09:30:54', 0.6333333333333333, '20000018')\n",
      "(209, 'F1', 'g', 'b', 'g->c->b', '2024-01-05 10:41:36', '2024-01-05 10:43:36', 0.9675, None)\n",
      "(210, 'F1', 'b', 'd', 'b->d', '2024-01-05 10:43:36', '2024-01-05 10:46:36', 0.9675, '20000038')\n",
      "(211, 'F1', 'd', 'c', 'd->b->c', '2024-01-05 10:50:24', '2024-01-05 10:52:24', 0.91, None)\n",
      "(212, 'F1', 'c', 'e', 'c->g->e', '2024-01-05 10:52:24', '2024-01-05 10:56:24', 0.91, '20000021')\n",
      "(213, 'F2', 'h', 'e', 'h->e', '2024-01-05 11:06:42', '2024-01-05 11:09:42', 0.54, '20000022')\n",
      "(214, 'F1', 'e', 'f', 'e->f', '2024-01-05 12:06:00', '2024-01-05 12:10:00', 0.875, '20000021')\n",
      "(215, 'F2', 'e', 'f', 'e->f', '2024-01-05 13:31:24', '2024-01-05 13:34:24', 0.5033333333333333, '20000022')\n",
      "(216, 'F1', 'f', 'd', 'f->e->d', '2024-01-05 14:00:48', '2024-01-05 14:03:48', 0.7475, None)\n",
      "(217, 'F1', 'd', 'e', 'd->e', '2024-01-05 14:03:48', '2024-01-05 14:07:48', 0.7475, '20000033')\n",
      "(218, 'F1', 'e', 'f', 'e->f', '2024-01-05 15:33:06', '2024-01-05 15:37:06', 0.705, '20000033')\n",
      "(219, 'F1', 'f', 'c', 'f->e->g->c', '2024-01-05 16:51:12', '2024-01-05 16:54:12', 0.585, None)\n",
      "(220, 'F1', 'c', 'd', 'c->b->d', '2024-01-05 16:54:12', '2024-01-05 16:58:12', 0.585, '20000023')\n",
      "(221, 'F1', 'd', 'a', 'd->a', '2024-01-05 16:58:54', '2024-01-05 17:00:54', 0.5125, None)\n",
      "(222, 'F1', 'a', 'c', 'a->c', '2024-01-05 17:00:54', '2024-01-05 17:04:54', 0.5125, '20000030')\n",
      "(223, 'F1', 'c', 'h', 'c->g->h', '2024-01-05 17:41:42', '2024-01-05 17:43:42', 0.435, None)\n",
      "(224, 'F1', 'h', 'e', 'h->e', '2024-01-05 17:43:42', '2024-01-05 17:46:42', 0.435, '20000018')\n",
      "(225, 'F1', 'e', 'c', 'e->g->c', '2024-01-05 19:03:24', '2024-01-05 19:05:24', 0.3725, None)\n",
      "(226, 'F1', 'c', 'h', 'c->g->h', '2024-01-05 19:05:24', '2024-01-05 19:09:24', 0.3725, '20000029')\n",
      "(227, 'F1', 'h', 'd', 'h->e->d', '2024-01-05 19:37:54', '2024-01-05 19:40:54', 0.26, None)\n",
      "(228, 'F1', 'd', 'h', 'd->e->h', '2024-01-05 19:40:54', '2024-01-05 19:45:54', 0.26, '20000038')\n",
      "(229, 'F1', 'h', 'g', 'h->g', '2024-01-05 19:46:15', '2024-01-05 19:47:00', 0.1675, None)\n",
      "(230, 'F1', 'g', 'e', 'g->e', '2024-01-08 06:01:00', '2024-01-08 06:02:00', 0.985, None)\n",
      "(231, 'F3', 'f', 'a', 'f->e->g->c->a', '2024-01-08 06:01:00', '2024-01-08 06:04:00', 0.5269230769230769, None)\n",
      "(232, 'F1', 'e', 'f', 'e->f', '2024-01-08 06:02:00', '2024-01-08 06:06:00', 0.985, '20000018')\n",
      "(233, 'F3', 'a', 'b', 'a->b', '2024-01-08 06:04:00', '2024-01-08 06:07:00', 0.5269230769230769, '20000045')\n",
      "(234, 'F3', 'b', 'h', 'b->c->g->h', '2024-01-08 07:01:30', '2024-01-08 07:03:30', 0.39615384615384613, None)\n",
      "(235, 'F3', 'h', 'e', 'h->e', '2024-01-08 07:03:30', '2024-01-08 07:06:30', 0.39615384615384613, '20000029')\n",
      "(236, 'F1', 'f', 'c', 'f->e->g->c', '2024-01-08 08:30:18', '2024-01-08 08:33:18', 0.865, None)\n",
      "(237, 'F3', 'e', 'f', 'e->f', '2024-01-08 08:29:54', '2024-01-08 08:33:54', 0.35384615384615387, '20000029')\n",
      "(238, 'F2', 'f', 'a', 'f->e->g->c->a', '2024-01-08 08:30:54', '2024-01-08 08:33:54', 0.2966666666666667, None)\n",
      "(239, 'F3', 'f', 'g', 'f->e->g', '2024-01-08 08:34:01.538462', '2024-01-08 08:35:30', 0.2, None)\n",
      "(240, 'F2', 'a', 'b', 'a->b', '2024-01-08 08:33:54', '2024-01-08 08:36:54', 0.2966666666666667, '20000034')\n",
      "(241, 'F1', 'c', 'e', 'c->g->e', '2024-01-08 08:33:18', '2024-01-08 08:37:18', 0.865, '20000026')\n",
      "(242, 'F2', 'b', 'a', 'b->a', '2024-01-08 08:36:54', '2024-01-08 08:37:54', 0.21666666666666667, None)\n",
      "(243, 'F1', 'e', 'a', 'e->g->c->a', '2024-01-08 08:37:54', '2024-01-08 08:40:54', 0.76, None)\n",
      "(244, 'F2', 'a', 'b', 'a->b', '2024-01-08 08:37:54', '2024-01-08 08:40:54', 0.21666666666666667, '20000035')\n",
      "(245, 'F1', 'a', 'b', 'a->b', '2024-01-08 08:40:54', '2024-01-08 08:43:54', 0.76, '20000031')\n",
      "(246, 'F1', 'b', 'a', 'b->a', '2024-01-08 08:43:54', '2024-01-08 08:44:54', 0.7, None)\n",
      "(247, 'F1', 'a', 'c', 'a->c', '2024-01-08 08:44:54', '2024-01-08 08:48:54', 0.7, '20000036')\n",
      "(248, 'F2', 'b', 'a', 'b->a', '2024-01-08 09:04:54', '2024-01-08 09:05:54', 0.13666666666666666, None)\n",
      "(249, 'F1', 'c', 'e', 'c->g->e', '2024-01-08 09:04:06', '2024-01-08 09:08:06', 0.665, '20000024')\n",
      "(250, 'F2', 'a', 'b', 'a->b', '2024-01-08 09:05:54', '2024-01-08 09:08:54', 0.13666666666666666, '20000037')\n",
      "(251, 'F2', 'b', 'a', 'b->a', '2024-01-08 09:08:54', '2024-01-08 09:09:54', 0.056666666666666664, None)\n",
      "(252, 'F1', 'e', 'a', 'e->g->c->a', '2024-01-08 09:08:54', '2024-01-08 09:11:54', 0.56, None)\n",
      "(253, 'F2', 'a', 'b', 'a->b', '2024-01-08 09:09:54', '2024-01-08 09:12:54', 0.056666666666666664, '20000039')\n",
      "(254, 'F1', 'a', 'c', 'a->c', '2024-01-08 09:11:54', '2024-01-08 09:15:54', 0.56, '20000042')\n",
      "(255, 'F2', 'b', 'd', 'b->d', '2024-01-08 09:15:00', '2024-01-08 09:18:00', 0.016666666666666666, '20000045')\n",
      "(256, 'F2', 'd', 'h', 'd->e->h', '2024-01-08 09:18:12', '2024-01-08 09:22:12', -0.013333333333333334, '20000023')\n",
      "(257, 'F1', 'c', 'e', 'c->g->e', '2024-01-08 09:42:18', '2024-01-08 09:44:18', 0.49, None)\n",
      "(258, 'F1', 'e', 'f', 'e->f', '2024-01-08 09:44:18', '2024-01-08 09:48:18', 0.49, '20000026')\n",
      "(259, 'F2', 'h', 'g', 'h->g', '2024-01-08 10:20:00', '2024-01-08 10:20:30', -0.13666666666666666, None)\n",
      "(260, 'F3', 'g', 'a', 'g->c->a', '2024-01-08 10:19:54', '2024-01-08 10:21:54', 0.9153846153846154, None)\n",
      "(261, 'F3', 'a', 'b', 'a->b', '2024-01-08 10:21:54', '2024-01-08 10:24:54', 0.9153846153846154, '20000040')\n",
      "(262, 'F3', 'b', 'a', 'b->a', '2024-01-08 10:24:54', '2024-01-08 10:25:54', 0.823076923076923, None)\n",
      "(263, 'F3', 'a', 'b', 'a->b', '2024-01-08 10:25:54', '2024-01-08 10:28:54', 0.823076923076923, '20000041')\n",
      "(264, 'F3', 'b', 'h', 'b->c->g->h', '2024-01-08 11:39:12', '2024-01-08 11:41:12', 0.6923076923076923, None)\n",
      "(265, 'F3', 'h', 'e', 'h->e', '2024-01-08 11:41:12', '2024-01-08 11:44:12', 0.6923076923076923, '20000038')\n",
      "(266, 'F3', 'e', 'b', 'e->g->c->b', '2024-01-08 11:44:30', '2024-01-08 11:46:30', 0.5769230769230769, None)\n",
      "(267, 'F3', 'b', 'c', 'b->c', '2024-01-08 11:46:30', '2024-01-08 11:49:30', 0.5769230769230769, '20000031')\n",
      "(268, 'F2', 'g', 'e', 'g->e', '2024-01-08 13:11:18', '2024-01-08 13:12:18', 0.98, None)\n",
      "(269, 'F3', 'c', 'b', 'c->b', '2024-01-08 13:12:24', '2024-01-08 13:13:24', 0.5384615384615384, None)\n",
      "(270, 'F2', 'e', 'f', 'e->f', '2024-01-08 13:12:18', '2024-01-08 13:15:18', 0.98, '20000024')\n",
      "(271, 'F3', 'b', 'c', 'b->c', '2024-01-08 13:13:24', '2024-01-08 13:16:24', 0.5384615384615384, '20000034')\n",
      "(272, 'F3', 'c', 'e', 'c->g->e', '2024-01-08 13:30:36', '2024-01-08 13:31:36', 0.4653846153846154, None)\n",
      "(273, 'F3', 'e', 'f', 'e->f', '2024-01-08 13:31:36', '2024-01-08 13:35:36', 0.4653846153846154, '20000038')\n",
      "(274, 'F1', 'f', 'c', 'f->e->g->c', '2024-01-08 13:46:54', '2024-01-08 13:49:54', 0.37, None)\n",
      "(275, 'F1', 'c', 'e', 'c->g->e', '2024-01-08 13:49:54', '2024-01-08 13:53:54', 0.37, '20000027')\n",
      "(276, 'F1', 'e', 'd', 'e->d', '2024-01-08 14:47:36', '2024-01-08 14:49:36', 0.2925, None)\n",
      "(277, 'F1', 'd', 'h', 'd->e->h', '2024-01-08 14:49:36', '2024-01-08 14:54:36', 0.2925, '20000045')\n",
      "(278, 'F1', 'h', 'g', 'h->g', '2024-01-08 14:54:57', '2024-01-08 14:55:42', 0.2, None)\n",
      "(279, 'F3', 'f', 'b', 'f->e->g->c->b', '2024-01-08 15:28:54', '2024-01-08 15:31:54', 0.26153846153846155, None)\n",
      "(280, 'F3', 'b', 'c', 'b->c', '2024-01-08 15:31:54', '2024-01-08 15:34:54', 0.26153846153846155, '20000035')\n",
      "(281, 'F3', 'c', 'h', 'c->g->h', '2024-01-08 16:35:18', '2024-01-08 16:37:18', 0.17692307692307693, None)\n",
      "(282, 'F3', 'h', 'e', 'h->e', '2024-01-08 16:37:18', '2024-01-08 16:40:18', 0.17692307692307693, '20000023')\n",
      "(283, 'F3', 'e', 'c', 'e->g->c', '2024-01-08 17:19:00', '2024-01-08 17:20:00', 0.08076923076923077, None)\n",
      "(284, 'F3', 'c', 'e', 'c->g->e', '2024-01-08 17:20:00', '2024-01-08 17:23:00', 0.08076923076923077, '20000028')\n",
      "(285, 'F3', 'e', 'g', 'e->g', '2024-01-08 17:35:42.923077', '2024-01-08 17:36:06', 0.0038461538461538464, None)\n",
      "(286, 'F1', 'g', 'e', 'g->e', '2024-01-08 17:36:24', '2024-01-08 17:37:24', 0.985, None)\n",
      "(287, 'F1', 'e', 'f', 'e->f', '2024-01-08 17:37:24', '2024-01-08 17:41:24', 0.985, '20000027')\n",
      "(288, 'F1', 'f', 'e', 'f->e', '2024-01-08 19:23:54', '2024-01-08 19:25:54', 0.9, None)\n",
      "(289, 'F1', 'e', 'f', 'e->f', '2024-01-08 19:25:54', '2024-01-08 19:29:54', 0.9, '20000023')\n",
      "(290, 'F3', 'g', 'b', 'g->c->b', '2024-01-08 19:45:54', '2024-01-08 19:46:54', 0.95, None)\n",
      "(291, 'F3', 'b', 'c', 'b->c', '2024-01-08 19:46:54', '2024-01-08 19:49:54', 0.95, '20000037')\n",
      "(292, 'F3', 'c', 'b', 'c->b', '2024-01-08 19:50:24', '2024-01-08 19:51:24', 0.9115384615384615, None)\n",
      "(293, 'F3', 'b', 'c', 'b->c', '2024-01-08 19:51:24', '2024-01-08 19:54:24', 0.9115384615384615, '20000039')\n",
      "(294, 'F3', 'c', 'b', 'c->b', '2024-01-08 21:01:48', '2024-01-08 21:02:48', 0.8730769230769231, None)\n",
      "(295, 'F1', 'f', 'e', 'f->e', '2024-01-08 21:03:42', '2024-01-08 21:05:42', 0.815, None)\n",
      "(296, 'F3', 'b', 'c', 'b->c', '2024-01-08 21:02:48', '2024-01-08 21:05:48', 0.8730769230769231, '20000040')\n",
      "(297, 'F1', 'e', 'f', 'e->f', '2024-01-08 21:05:42', '2024-01-08 21:09:42', 0.815, '20000028')\n",
      "(298, 'F3', 'c', 'a', 'c->a', '2024-01-09 06:01:00', '2024-01-09 06:02:00', 0.8, None)\n",
      "(299, 'F3', 'a', 'd', 'a->d', '2024-01-09 06:02:00', '2024-01-09 06:05:00', 0.8, '20000046')\n",
      "(300, 'F3', 'd', 'c', 'd->b->c', '2024-01-09 06:23:42', '2024-01-09 06:24:42', 0.6884615384615385, None)\n",
      "(301, 'F3', 'c', 'd', 'c->b->d', '2024-01-09 06:24:42', '2024-01-09 06:27:42', 0.6884615384615385, '20000030')\n",
      "(302, 'F1', 'f', 'h', 'f->e->h', '2024-01-09 06:31:36', '2024-01-09 06:34:36', 0.7025, None)\n",
      "(303, 'F1', 'h', 'e', 'h->e', '2024-01-09 06:34:36', '2024-01-09 06:37:36', 0.7025, '20000045')\n",
      "(304, 'F3', 'd', 'b', 'd->b', '2024-01-09 06:55:48', '2024-01-09 06:56:48', 0.6, None)\n",
      "(305, 'F3', 'b', 'c', 'b->c', '2024-01-09 06:56:48', '2024-01-09 06:59:48', 0.6, '20000041')\n",
      "(306, 'F1', 'e', 'f', 'e->f', '2024-01-09 08:32:00', '2024-01-09 08:36:00', 0.675, '20000045')\n",
      "(307, 'F3', 'c', 'h', 'c->g->h', '2024-01-09 10:40:48', '2024-01-09 10:44:48', 0.5807692307692308, '20000036')\n",
      "(308, 'F3', 'h', 'd', 'h->e->d', '2024-01-09 11:20:48', '2024-01-09 11:22:48', 0.4076923076923077, None)\n",
      "(309, 'F3', 'd', 'e', 'd->e', '2024-01-09 11:22:48', '2024-01-09 11:26:48', 0.4076923076923077, '20000046')\n",
      "(310, 'F3', 'e', 'f', 'e->f', '2024-01-09 12:52:36', '2024-01-09 12:56:36', 0.3423076923076923, '20000046')\n",
      "(311, 'F3', 'f', 'g', 'f->e->g', '2024-01-09 12:57:07.538462', '2024-01-09 12:58:36', 0.18846153846153846, None)\n",
      "(312, 'F1', 'f', 'h', 'f->e->h', '2024-01-09 14:31:18', '2024-01-09 14:34:18', 0.5625, None)\n",
      "(313, 'F1', 'h', 'e', 'h->e', '2024-01-09 14:34:18', '2024-01-09 14:37:18', 0.5625, '20000036')\n",
      "(314, 'F1', 'e', 'c', 'e->g->c', '2024-01-09 14:41:06', '2024-01-09 14:43:06', 0.5, None)\n",
      "(315, 'F1', 'c', 'h', 'c->g->h', '2024-01-09 14:43:06', '2024-01-09 14:47:06', 0.5, '20000042')\n",
      "(316, 'F3', 'g', 'e', 'g->e', '2024-01-09 16:03:00', '2024-01-09 16:04:00', 0.9769230769230769, None)\n",
      "(317, 'F3', 'e', 'f', 'e->f', '2024-01-09 16:04:00', '2024-01-09 16:08:00', 0.9769230769230769, '20000036')\n",
      "(318, 'F1', 'h', 'd', 'h->e->d', '2024-01-09 16:30:06', '2024-01-09 16:33:06', 0.3875, None)\n",
      "(319, 'F1', 'd', 'h', 'd->e->h', '2024-01-09 16:33:06', '2024-01-09 16:38:06', 0.3875, '20000030')\n",
      "(320, 'F1', 'h', 'c', 'h->g->c', '2024-01-09 16:42:42', '2024-01-09 16:44:42', 0.275, None)\n",
      "(321, 'F1', 'c', 'e', 'c->g->e', '2024-01-09 16:44:42', '2024-01-09 16:48:42', 0.275, '20000031')\n",
      "(322, 'F1', 'e', 'g', 'e->g', '2024-01-09 16:49:06', '2024-01-09 16:49:36', 0.225, None)\n",
      "(323, 'F3', 'f', 'h', 'f->e->h', '2024-01-09 18:43:36', '2024-01-09 18:45:36', 0.8038461538461539, None)\n",
      "(324, 'F3', 'h', 'e', 'h->e', '2024-01-09 18:45:36', '2024-01-09 18:48:36', 0.8038461538461539, '20000042')\n",
      "(325, 'F3', 'e', 'c', 'e->g->c', '2024-01-09 19:00:24', '2024-01-09 19:01:24', 0.7076923076923077, None)\n",
      "(326, 'F3', 'c', 'e', 'c->g->e', '2024-01-09 19:01:24', '2024-01-09 19:04:24', 0.7076923076923077, '20000034')\n",
      "(327, 'F1', 'g', 'e', 'g->e', '2024-01-09 19:25:24', '2024-01-09 19:26:24', 0.985, None)\n",
      "(328, 'F1', 'e', 'f', 'e->f', '2024-01-09 19:26:24', '2024-01-09 19:30:24', 0.985, '20000031')\n",
      "(329, 'F3', 'e', 'f', 'e->f', '2024-01-09 20:14:24', '2024-01-09 20:18:24', 0.6538461538461539, '20000042')\n",
      "(330, 'F1', 'f', 'e', 'f->e', '2024-01-09 21:14:42', '2024-01-09 21:16:42', 0.9, None)\n",
      "(331, 'F1', 'e', 'f', 'e->f', '2024-01-09 21:16:42', '2024-01-09 21:20:42', 0.9, '20000034')\n",
      "(332, 'F1', 'f', 'a', 'f->e->g->c->a', '2024-01-10 06:01:00', '2024-01-10 06:05:00', 0.745, None)\n",
      "(333, 'F1', 'a', 'd', 'a->d', '2024-01-10 06:05:00', '2024-01-10 06:09:00', 0.745, '20000050')\n",
      "(334, 'F1', 'd', 'a', 'd->a', '2024-01-10 06:09:54', '2024-01-10 06:11:54', 0.67, None)\n",
      "(335, 'F1', 'a', 'b', 'a->b', '2024-01-10 06:11:54', '2024-01-10 06:14:54', 0.67, '20000055')\n",
      "(336, 'F1', 'b', 'h', 'b->c->g->h', '2024-01-10 07:23:36', '2024-01-10 07:25:36', 0.585, None)\n",
      "(337, 'F1', 'h', 'e', 'h->e', '2024-01-10 07:25:36', '2024-01-10 07:28:36', 0.585, '20000030')\n",
      "(338, 'F1', 'e', 'c', 'e->g->c', '2024-01-10 09:37:54', '2024-01-10 09:39:54', 0.5225, None)\n",
      "(339, 'F3', 'f', 'a', 'f->e->g->c->a', '2024-01-10 09:37:54', '2024-01-10 09:40:54', 0.4153846153846154, None)\n",
      "(340, 'F1', 'c', 'e', 'c->g->e', '2024-01-10 09:39:54', '2024-01-10 09:43:54', 0.5225, '20000035')\n",
      "(341, 'F3', 'a', 'c', 'a->c', '2024-01-10 09:40:54', '2024-01-10 09:43:54', 0.4153846153846154, '20000043')\n",
      "(342, 'F3', 'c', 'b', 'c->b', '2024-01-10 09:44:54', '2024-01-10 09:45:54', 0.3423076923076923, None)\n",
      "(343, 'F3', 'b', 'd', 'b->d', '2024-01-10 09:45:54', '2024-01-10 09:48:54', 0.3423076923076923, '20000055')\n",
      "(344, 'F1', 'e', 'f', 'e->f', '2024-01-10 10:15:12', '2024-01-10 10:19:12', 0.4875, '20000030')\n",
      "(345, 'F3', 'd', 'e', 'd->e', '2024-01-10 10:26:12', '2024-01-10 10:30:12', 0.3076923076923077, '20000050')\n",
      "(346, 'F3', 'e', 'g', 'e->g', '2024-01-10 10:30:36.923077', '2024-01-10 10:31:00', 0.21923076923076923, None)\n",
      "(347, 'F2', 'f', 'a', 'f->e->g->c->a', '2024-01-10 10:47:54', '2024-01-10 10:50:54', 0.7733333333333333, None)\n",
      "(348, 'F1', 'f', 'a', 'f->e->g->c->a', '2024-01-10 10:47:54', '2024-01-10 10:51:54', 0.3325, None)\n",
      "(349, 'F2', 'a', 'b', 'a->b', '2024-01-10 10:50:54', '2024-01-10 10:53:54', 0.7733333333333333, '20000048')\n",
      "(350, 'F1', 'a', 'b', 'a->b', '2024-01-10 10:51:54', '2024-01-10 10:54:54', 0.3325, '20000044')\n",
      "(351, 'F2', 'b', 'a', 'b->a', '2024-01-10 10:53:54', '2024-01-10 10:54:54', 0.6933333333333334, None)\n",
      "(352, 'F1', 'b', 'a', 'b->a', '2024-01-10 10:54:54', '2024-01-10 10:55:54', 0.2725, None)\n",
      "(353, 'F2', 'a', 'c', 'a->c', '2024-01-10 10:54:54', '2024-01-10 10:57:54', 0.6933333333333334, '20000049')\n",
      "(354, 'F1', 'a', 'b', 'a->b', '2024-01-10 10:55:54', '2024-01-10 10:58:54', 0.2725, '20000047')\n",
      "(355, 'F2', 'c', 'e', 'c->g->e', '2024-01-10 11:51:42', '2024-01-10 11:52:42', 0.6, None)\n",
      "(356, 'F2', 'e', 'f', 'e->f', '2024-01-10 11:52:42', '2024-01-10 11:55:42', 0.6, '20000035')\n",
      "(357, 'F1', 'b', 'g', 'b->c->g', '2024-01-10 12:13:01', '2024-01-10 12:14:06', 0.21, None)\n",
      "(358, 'F3', 'g', 'c', 'g->c', '2024-01-10 12:13:06', '2024-01-10 12:14:06', 0.9692307692307692, None)\n",
      "(359, 'F3', 'c', 'e', 'c->g->e', '2024-01-10 12:14:06', '2024-01-10 12:17:06', 0.9692307692307692, '20000037')\n",
      "(360, 'F3', 'e', 'f', 'e->f', '2024-01-10 13:15:42', '2024-01-10 13:19:42', 0.9153846153846154, '20000050')\n",
      "(361, 'F3', 'f', 'e', 'f->e', '2024-01-10 13:56:36', '2024-01-10 13:58:36', 0.7846153846153846, None)\n",
      "(362, 'F3', 'e', 'f', 'e->f', '2024-01-10 13:58:36', '2024-01-10 14:02:36', 0.7846153846153846, '20000037')\n",
      "(363, 'F2', 'f', 'a', 'f->e->g->c->a', '2024-01-10 14:00:54', '2024-01-10 14:03:54', 0.3933333333333333, None)\n",
      "(364, 'F2', 'a', 'b', 'a->b', '2024-01-10 14:03:54', '2024-01-10 14:06:54', 0.3933333333333333, '20000051')\n",
      "(365, 'F2', 'b', 'a', 'b->a', '2024-01-10 14:06:54', '2024-01-10 14:07:54', 0.31333333333333335, None)\n",
      "(366, 'F2', 'a', 'c', 'a->c', '2024-01-10 14:07:54', '2024-01-10 14:10:54', 0.31333333333333335, '20000052')\n",
      "(367, 'F2', 'c', 'g', 'c->g', '2024-01-10 14:52:03.333333', '2024-01-10 14:52:30', 0.24, None)\n",
      "(368, 'F1', 'g', 'b', 'g->c->b', '2024-01-10 14:52:18', '2024-01-10 14:54:18', 0.9675, None)\n",
      "(369, 'F1', 'b', 'c', 'b->c', '2024-01-10 14:54:18', '2024-01-10 14:57:18', 0.9675, '20000044')\n",
      "(370, 'F1', 'c', 'e', 'c->g->e', '2024-01-10 14:57:48', '2024-01-10 15:01:48', 0.955, '20000039')\n",
      "(371, 'F1', 'e', 'f', 'e->f', '2024-01-10 16:06:54', '2024-01-10 16:10:54', 0.92, '20000039')\n",
      "(372, 'F1', 'f', 'd', 'f->e->d', '2024-01-10 16:16:36', '2024-01-10 16:19:36', 0.7925, None)\n",
      "(373, 'F1', 'd', 'h', 'd->e->h', '2024-01-10 16:19:36', '2024-01-10 16:24:36', 0.7925, '20000055')\n",
      "(374, 'F2', 'g', 'b', 'g->c->b', '2024-01-10 16:46:48', '2024-01-10 16:47:48', 0.9566666666666667, None)\n",
      "(375, 'F2', 'b', 'c', 'b->c', '2024-01-10 16:47:48', '2024-01-10 16:50:48', 0.9566666666666667, '20000047')\n",
      "(376, 'F1', 'h', 'b', 'h->g->c->b', '2024-01-10 16:50:36', '2024-01-10 16:52:36', 0.6675, None)\n",
      "(377, 'F1', 'b', 'c', 'b->c', '2024-01-10 16:52:36', '2024-01-10 16:55:36', 0.6675, '20000048')\n",
      "(378, 'F1', 'c', 'e', 'c->g->e', '2024-01-10 17:08:54', '2024-01-10 17:12:54', 0.655, '20000040')\n",
      "(379, 'F1', 'e', 'f', 'e->f', '2024-01-10 18:25:12', '2024-01-10 18:29:12', 0.62, '20000040')\n",
      "(380, 'F2', 'c', 'b', 'c->b', '2024-01-10 18:33:24', '2024-01-10 18:34:24', 0.9233333333333333, None)\n",
      "(381, 'F2', 'b', 'c', 'b->c', '2024-01-10 18:34:24', '2024-01-10 18:37:24', 0.9233333333333333, '20000051')\n",
      "(382, 'F2', 'c', 'h', 'c->g->h', '2024-01-10 21:04:36', '2024-01-10 21:05:36', 0.85, None)\n",
      "(383, 'F2', 'h', 'e', 'h->e', '2024-01-10 21:05:36', '2024-01-10 21:08:36', 0.85, '20000055')\n",
      "(384, 'F2', 'e', 'a', 'e->g->c->a', '2024-01-11 06:01:00', '2024-01-11 06:03:00', 0.72, None)\n",
      "(385, 'F2', 'a', 'b', 'a->b', '2024-01-11 06:03:00', '2024-01-11 06:06:00', 0.72, '20000062')\n",
      "(386, 'F1', 'f', 'e', 'f->e', '2024-01-11 07:21:36', '2024-01-11 07:23:36', 0.535, None)\n",
      "(387, 'F1', 'e', 'f', 'e->f', '2024-01-11 07:23:36', '2024-01-11 07:27:36', 0.535, '20000055')\n",
      "(388, 'F2', 'b', 'c', 'b->c', '2024-01-11 07:48:18', '2024-01-11 07:49:18', 0.6633333333333333, None)\n",
      "(389, 'F2', 'c', 'e', 'c->g->e', '2024-01-11 07:49:18', '2024-01-11 07:52:18', 0.6633333333333333, '20000041')\n",
      "(390, 'F2', 'e', 'b', 'e->g->c->b', '2024-01-11 09:16:18', '2024-01-11 09:18:18', 0.5533333333333333, None)\n",
      "(391, 'F2', 'b', 'd', 'b->d', '2024-01-11 09:18:18', '2024-01-11 09:21:18', 0.5533333333333333, '20000062')\n",
      "(392, 'F2', 'd', 'c', 'd->b->c', '2024-01-11 09:28:42', '2024-01-11 09:29:42', 0.4766666666666667, None)\n",
      "(393, 'F2', 'c', 'd', 'c->b->d', '2024-01-11 09:29:42', '2024-01-11 09:32:42', 0.4766666666666667, '20000043')\n",
      "(394, 'F1', 'f', 'e', 'f->e', '2024-01-11 09:51:54', '2024-01-11 09:53:54', 0.45, None)\n",
      "(395, 'F1', 'e', 'f', 'e->f', '2024-01-11 09:53:54', '2024-01-11 09:57:54', 0.45, '20000041')\n",
      "(396, 'F2', 'd', 'h', 'd->e->h', '2024-01-11 14:33:06', '2024-01-11 14:37:06', 0.43, '20000062')\n",
      "(397, 'F2', 'h', 'c', 'h->g->c', '2024-01-11 18:00:30', '2024-01-11 18:01:30', 0.28, None)\n",
      "(398, 'F2', 'c', 'h', 'c->g->h', '2024-01-11 18:01:30', '2024-01-11 18:04:30', 0.28, '20000052')\n",
      "(399, 'F2', 'h', 'g', 'h->g', '2024-01-11 18:05:00', '2024-01-11 18:05:30', 0.19333333333333333, None)\n",
      "(400, 'F1', 'f', 'h', 'f->e->h', '2024-01-11 18:52:30', '2024-01-11 18:55:30', 0.3375, None)\n",
      "(401, 'F1', 'h', 'e', 'h->e', '2024-01-11 18:55:30', '2024-01-11 18:58:30', 0.3375, '20000062')\n",
      "(402, 'F2', 'g', 'c', 'g->c', '2024-01-11 20:06:36', '2024-01-11 20:07:36', 0.9733333333333334, None)\n",
      "(403, 'F2', 'c', 'd', 'c->b->d', '2024-01-11 20:07:36', '2024-01-11 20:10:36', 0.9733333333333334, '20000049')\n",
      "(404, 'F2', 'd', 'a', 'd->a', '2024-01-11 20:10:54', '2024-01-11 20:11:54', 0.8766666666666667, None)\n",
      "(405, 'F2', 'a', 'c', 'a->c', '2024-01-11 20:11:54', '2024-01-11 20:14:54', 0.8766666666666667, '20000053')\n",
      "(406, 'F1', 'e', 'd', 'e->d', '2024-01-11 20:18:30', '2024-01-11 20:20:30', 0.2675, None)\n",
      "(407, 'F1', 'd', 'h', 'd->e->h', '2024-01-11 20:20:30', '2024-01-11 20:25:30', 0.2675, '20000043')\n",
      "(408, 'F1', 'h', 'g', 'h->g', '2024-01-11 20:25:27', '2024-01-11 20:26:12', 0.175, None)\n",
      "(409, 'F1', 'g', 'e', 'g->e', '2024-01-12 06:01:00', '2024-01-12 06:02:00', 0.985, None)\n",
      "(410, 'F2', 'c', 'a', 'c->a', '2024-01-12 06:01:00', '2024-01-12 06:02:00', 0.7833333333333333, None)\n",
      "(411, 'F2', 'a', 'd', 'a->d', '2024-01-12 06:02:00', '2024-01-12 06:05:00', 0.7833333333333333, '20000063')\n",
      "(412, 'F1', 'e', 'f', 'e->f', '2024-01-12 06:02:00', '2024-01-12 06:06:00', 0.985, '20000062')\n",
      "(413, 'F2', 'd', 'a', 'd->a', '2024-01-12 06:05:54', '2024-01-12 06:06:54', 0.6833333333333333, None)\n",
      "(414, 'F2', 'a', 'b', 'a->b', '2024-01-12 06:06:54', '2024-01-12 06:09:54', 0.6833333333333333, '20000068')\n",
      "(415, 'F2', 'b', 'c', 'b->c', '2024-01-12 07:53:42', '2024-01-12 07:54:42', 0.6266666666666667, None)\n",
      "(416, 'F3', 'f', 'a', 'f->e->g->c->a', '2024-01-12 07:53:54', '2024-01-12 07:56:54', 0.5461538461538461, None)\n",
      "(417, 'F2', 'c', 'e', 'c->g->e', '2024-01-12 07:54:42', '2024-01-12 07:57:42', 0.6266666666666667, '20000047')\n",
      "(418, 'F1', 'f', 'a', 'f->e->g->c->a', '2024-01-12 07:53:54', '2024-01-12 07:57:54', 0.83, None)\n",
      "(419, 'F3', 'a', 'b', 'a->b', '2024-01-12 07:56:54', '2024-01-12 07:59:54', 0.5461538461538461, '20000057')\n",
      "(420, 'F2', 'e', 'a', 'e->g->c->a', '2024-01-12 07:57:54', '2024-01-12 07:59:54', 0.4866666666666667, None)\n",
      "(421, 'F1', 'a', 'b', 'a->b', '2024-01-12 07:57:54', '2024-01-12 08:00:54', 0.83, '20000054')\n",
      "(422, 'F3', 'b', 'a', 'b->a', '2024-01-12 07:59:54', '2024-01-12 08:00:54', 0.45384615384615384, None)\n",
      "(423, 'F1', 'b', 'a', 'b->a', '2024-01-12 08:00:54', '2024-01-12 08:01:54', 0.77, None)\n",
      "(424, 'F2', 'a', 'c', 'a->c', '2024-01-12 07:59:54', '2024-01-12 08:02:54', 0.4866666666666667, '20000059')\n",
      "(425, 'F3', 'a', 'b', 'a->b', '2024-01-12 08:00:54', '2024-01-12 08:03:54', 0.45384615384615384, '20000058')\n",
      "(426, 'F1', 'a', 'b', 'a->b', '2024-01-12 08:01:54', '2024-01-12 08:04:54', 0.77, '20000056')\n",
      "(427, 'F2', 'c', 'h', 'c->g->h', '2024-01-12 08:04:48', '2024-01-12 08:05:48', 0.38333333333333336, None)\n",
      "(428, 'F2', 'h', 'e', 'h->e', '2024-01-12 08:05:48', '2024-01-12 08:08:48', 0.38333333333333336, '20000052')\n",
      "(429, 'F2', 'e', 'f', 'e->f', '2024-01-12 08:58:54', '2024-01-12 09:01:54', 0.3466666666666667, '20000047')\n",
      "(430, 'F2', 'f', 'g', 'f->e->g', '2024-01-12 09:02:13.333333', '2024-01-12 09:03:30', 0.21333333333333335, None)\n",
      "(431, 'F1', 'b', 'c', 'b->c', '2024-01-12 09:29:36', '2024-01-12 09:30:36', 0.7275, None)\n",
      "(432, 'F3', 'b', 'a', 'b->a', '2024-01-12 09:29:54', '2024-01-12 09:30:54', 0.36153846153846153, None)\n",
      "(433, 'F3', 'a', 'c', 'a->c', '2024-01-12 09:30:54', '2024-01-12 09:33:54', 0.36153846153846153, '20000060')\n",
      "(434, 'F1', 'c', 'e', 'c->g->e', '2024-01-12 09:30:36', '2024-01-12 09:34:36', 0.7275, '20000044')\n",
      "(435, 'F3', 'c', 'b', 'c->b', '2024-01-12 09:34:42', '2024-01-12 09:35:42', 0.28846153846153844, None)\n",
      "(436, 'F3', 'b', 'd', 'b->d', '2024-01-12 09:35:42', '2024-01-12 09:38:42', 0.28846153846153844, '20000068')\n",
      "(437, 'F3', 'd', 'h', 'd->e->h', '2024-01-12 09:52:18', '2024-01-12 09:56:18', 0.25384615384615383, '20000049')\n",
      "(438, 'F1', 'e', 'f', 'e->f', '2024-01-12 10:11:48', '2024-01-12 10:15:48', 0.6925, '20000052')\n",
      "(439, 'F3', 'h', 'e', 'h->e', '2024-01-12 10:51:42', '2024-01-12 10:52:42', 0.10384615384615385, None)\n",
      "(440, 'F3', 'e', 'f', 'e->f', '2024-01-12 10:52:42', '2024-01-12 10:56:42', 0.10384615384615385, '20000044')\n",
      "(441, 'F3', 'f', 'g', 'f->e->g', '2024-01-12 11:01:31.538462', '2024-01-12 11:03:00', -0.05, None)\n",
      "(442, 'F2', 'g', 'b', 'g->c->b', '2024-01-12 12:00:12', '2024-01-12 12:01:12', 0.9566666666666667, None)\n",
      "(443, 'F2', 'b', 'c', 'b->c', '2024-01-12 12:01:12', '2024-01-12 12:04:12', 0.9566666666666667, '20000054')\n",
      "(444, 'F2', 'c', 'h', 'c->g->h', '2024-01-12 12:31:48', '2024-01-12 12:32:48', 0.8833333333333333, None)\n",
      "(445, 'F2', 'h', 'e', 'h->e', '2024-01-12 12:32:48', '2024-01-12 12:35:48', 0.8833333333333333, '20000043')\n",
      "(446, 'F2', 'e', 'c', 'e->g->c', '2024-01-12 13:13:30', '2024-01-12 13:14:30', 0.8, None)\n",
      "(447, 'F2', 'c', 'e', 'c->g->e', '2024-01-12 13:14:30', '2024-01-12 13:17:30', 0.8, '20000048')\n",
      "(448, 'F3', 'g', 'b', 'g->c->b', '2024-01-12 13:22:48', '2024-01-12 13:23:48', 0.95, None)\n",
      "(449, 'F3', 'b', 'c', 'b->c', '2024-01-12 13:23:48', '2024-01-12 13:26:48', 0.95, '20000056')\n",
      "(450, 'F3', 'c', 'd', 'c->b->d', '2024-01-12 14:18:30', '2024-01-12 14:19:30', 0.8769230769230769, None)\n",
      "(451, 'F3', 'd', 'e', 'd->e', '2024-01-12 14:19:30', '2024-01-12 14:23:30', 0.8769230769230769, '20000063')\n",
      "(452, 'F3', 'e', 'b', 'e->g->c->b', '2024-01-12 15:09:36', '2024-01-12 15:11:36', 0.7384615384615385, None)\n",
      "(453, 'F3', 'b', 'c', 'b->c', '2024-01-12 15:11:36', '2024-01-12 15:14:36', 0.7384615384615385, '20000057')\n",
      "(454, 'F2', 'e', 'f', 'e->f', '2024-01-12 15:36:00', '2024-01-12 15:39:00', 0.7533333333333333, '20000043')\n",
      "(455, 'F3', 'c', 'e', 'c->g->e', '2024-01-12 16:47:30', '2024-01-12 16:48:30', 0.6653846153846154, None)\n",
      "(456, 'F3', 'e', 'f', 'e->f', '2024-01-12 16:48:30', '2024-01-12 16:52:30', 0.6653846153846154, '20000048')\n",
      "(457, 'F1', 'f', 'b', 'f->e->g->c->b', '2024-01-12 16:49:48', '2024-01-12 16:52:48', 0.56, None)\n",
      "(458, 'F1', 'b', 'c', 'b->c', '2024-01-12 16:52:48', '2024-01-12 16:55:48', 0.56, '20000058')\n",
      "(459, 'F1', 'c', 'h', 'c->g->h', '2024-01-12 17:13:24', '2024-01-12 17:15:24', 0.505, None)\n",
      "(460, 'F3', 'f', 'c', 'f->e->g->c', '2024-01-12 17:14:30', '2024-01-12 17:16:30', 0.4807692307692308, None)\n",
      "(461, 'F1', 'h', 'e', 'h->e', '2024-01-12 17:15:24', '2024-01-12 17:18:24', 0.505, '20000049')\n",
      "(462, 'F3', 'c', 'e', 'c->g->e', '2024-01-12 17:16:30', '2024-01-12 17:19:30', 0.4807692307692308, '20000051')\n",
      "(463, 'F1', 'e', 'f', 'e->f', '2024-01-12 18:18:42', '2024-01-12 18:22:42', 0.4775, '20000063')\n",
      "(464, 'F3', 'e', 'd', 'e->d', '2024-01-12 19:14:48', '2024-01-12 19:16:48', 0.36153846153846153, None)\n",
      "(465, 'F3', 'd', 'h', 'd->e->h', '2024-01-12 19:16:48', '2024-01-12 19:20:48', 0.36153846153846153, '20000068')\n",
      "(466, 'F3', 'h', 'g', 'h->g', '2024-01-12 19:21:01.384615', '2024-01-12 19:21:36', 0.21923076923076923, None)\n",
      "(467, 'F3', 'g', 'e', 'g->e', '2024-01-12 21:03:18', '2024-01-12 21:04:18', 0.9769230769230769, None)\n",
      "(468, 'F3', 'e', 'f', 'e->f', '2024-01-12 21:04:18', '2024-01-12 21:08:18', 0.9769230769230769, '20000049')\n",
      "(469, 'F3', 'f', 'a', 'f->e->g->c->a', '2024-01-15 06:01:00', '2024-01-15 06:04:00', 0.7384615384615385, None)\n",
      "(470, 'F1', 'f', 'a', 'f->e->g->c->a', '2024-01-15 06:01:00', '2024-01-15 06:05:00', 0.3225, None)\n",
      "(471, 'F3', 'a', 'b', 'a->b', '2024-01-15 06:04:00', '2024-01-15 06:07:00', 0.7384615384615385, '20000079')\n",
      "(472, 'F1', 'a', 'd', 'a->d', '2024-01-15 06:05:00', '2024-01-15 06:09:00', 0.3225, '20000070')\n",
      "(473, 'F1', 'd', 'a', 'd->a', '2024-01-15 06:09:00', '2024-01-15 06:11:00', 0.2475, None)\n",
      "(474, 'F1', 'a', 'd', 'a->d', '2024-01-15 06:11:00', '2024-01-15 06:15:00', 0.2475, '20000075')\n",
      "(475, 'F1', 'd', 'g', 'd->b->c->g', '2024-01-15 06:15:04', '2024-01-15 06:16:54', 0.155, None)\n",
      "(476, 'F3', 'b', 'h', 'b->c->g->h', '2024-01-15 07:53:48', '2024-01-15 07:55:48', 0.6076923076923076, None)\n",
      "(477, 'F3', 'h', 'e', 'h->e', '2024-01-15 07:55:48', '2024-01-15 07:58:48', 0.6076923076923076, '20000068')\n",
      "(478, 'F3', 'e', 'c', 'e->g->c', '2024-01-15 08:20:30', '2024-01-15 08:21:30', 0.5115384615384615, None)\n",
      "(479, 'F3', 'c', 'd', 'c->b->d', '2024-01-15 08:21:30', '2024-01-15 08:24:30', 0.5115384615384615, '20000053')\n",
      "(480, 'F3', 'd', 'c', 'd->b->c', '2024-01-15 08:43:30', '2024-01-15 08:44:30', 0.40384615384615385, None)\n",
      "(481, 'F3', 'c', 'h', 'c->g->h', '2024-01-15 08:44:30', '2024-01-15 08:48:30', 0.40384615384615385, '20000059')\n",
      "(482, 'F1', 'g', 'e', 'g->e', '2024-01-15 09:06:12', '2024-01-15 09:07:12', 0.985, None)\n",
      "(483, 'F1', 'e', 'f', 'e->f', '2024-01-15 09:07:12', '2024-01-15 09:11:12', 0.985, '20000051')\n",
      "(484, 'F3', 'h', 'e', 'h->e', '2024-01-15 09:48:24', '2024-01-15 09:49:24', 0.29615384615384616, None)\n",
      "(485, 'F3', 'e', 'f', 'e->f', '2024-01-15 09:49:24', '2024-01-15 09:53:24', 0.29615384615384616, '20000068')\n",
      "(486, 'F3', 'f', 'g', 'f->e->g', '2024-01-15 09:53:25.538462', '2024-01-15 09:54:54', 0.1423076923076923, None)\n",
      "(487, 'F1', 'f', 'b', 'f->e->g->c->b', '2024-01-15 10:11:42', '2024-01-15 10:14:42', 0.8525, None)\n",
      "(488, 'F1', 'b', 'd', 'b->d', '2024-01-15 10:14:42', '2024-01-15 10:17:42', 0.8525, '20000079')\n",
      "(489, 'F1', 'd', 'e', 'd->e', '2024-01-15 10:35:24', '2024-01-15 10:39:24', 0.83, '20000070')\n",
      "(490, 'F1', 'e', 'f', 'e->f', '2024-01-15 12:15:00', '2024-01-15 12:19:00', 0.7875, '20000070')\n",
      "(491, 'F3', 'g', 'h', 'g->h', '2024-01-15 12:47:36', '2024-01-15 12:48:36', 0.9653846153846154, None)\n",
      "(492, 'F3', 'h', 'e', 'h->e', '2024-01-15 12:48:36', '2024-01-15 12:51:36', 0.9653846153846154, '20000059')\n",
      "(493, 'F3', 'e', 'f', 'e->f', '2024-01-15 14:04:48', '2024-01-15 14:08:48', 0.9230769230769231, '20000059')\n",
      "(494, 'F1', 'f', 'd', 'f->e->d', '2024-01-15 14:46:36', '2024-01-15 14:49:36', 0.66, None)\n",
      "(495, 'F1', 'd', 'e', 'd->e', '2024-01-15 14:49:36', '2024-01-15 14:53:36', 0.66, '20000075')\n",
      "(496, 'F1', 'e', 'c', 'e->g->c', '2024-01-15 16:16:18', '2024-01-15 16:18:18', 0.5825, None)\n",
      "(497, 'F3', 'f', 'a', 'f->e->g->c->a', '2024-01-15 16:17:00', '2024-01-15 16:20:00', 0.6846153846153846, None)\n",
      "(498, 'F2', 'f', 'a', 'f->e->g->c->a', '2024-01-15 16:17:00', '2024-01-15 16:20:00', 0.5466666666666666, None)\n",
      "(499, 'F1', 'c', 'e', 'c->g->e', '2024-01-15 16:18:18', '2024-01-15 16:22:18', 0.5825, '20000054')\n",
      "(500, 'F3', 'a', 'b', 'a->b', '2024-01-15 16:20:00', '2024-01-15 16:23:00', 0.6846153846153846, '20000061')\n",
      "(501, 'F2', 'a', 'b', 'a->b', '2024-01-15 16:20:00', '2024-01-15 16:23:00', 0.5466666666666666, '20000066')\n",
      "(502, 'F3', 'b', 'a', 'b->a', '2024-01-15 16:23:00', '2024-01-15 16:24:00', 0.5923076923076923, None)\n",
      "(503, 'F2', 'b', 'a', 'b->a', '2024-01-15 16:23:00', '2024-01-15 16:24:00', 0.4666666666666667, None)\n",
      "(504, 'F1', 'e', 'a', 'e->g->c->a', '2024-01-15 16:23:00', '2024-01-15 16:26:00', 0.4775, None)\n",
      "(505, 'F3', 'a', 'b', 'a->b', '2024-01-15 16:24:00', '2024-01-15 16:27:00', 0.5923076923076923, '20000064')\n",
      "(506, 'F2', 'a', 'b', 'a->b', '2024-01-15 16:24:00', '2024-01-15 16:27:00', 0.4666666666666667, '20000067')\n",
      "(507, 'F1', 'a', 'b', 'a->b', '2024-01-15 16:26:00', '2024-01-15 16:29:00', 0.4775, '20000065')\n",
      "(508, 'F1', 'b', 'a', 'b->a', '2024-01-15 16:29:00', '2024-01-15 16:30:00', 0.4175, None)\n",
      "(509, 'F3', 'b', 'e', 'b->c->g->e', '2024-01-15 16:28:48', '2024-01-15 16:30:48', 0.47307692307692306, None)\n",
      "(510, 'F1', 'a', 'c', 'a->c', '2024-01-15 16:30:00', '2024-01-15 16:34:00', 0.4175, '20000069')\n",
      "(511, 'F3', 'e', 'f', 'e->f', '2024-01-15 16:30:48', '2024-01-15 16:34:48', 0.47307692307692306, '20000075')\n",
      "(512, 'F2', 'b', 'a', 'b->a', '2024-01-15 17:02:00', '2024-01-15 17:03:00', 0.38666666666666666, None)\n",
      "(513, 'F1', 'c', 'd', 'c->b->d', '2024-01-15 17:01:54', '2024-01-15 17:05:54', 0.3825, '20000060')\n",
      "(514, 'F2', 'a', 'b', 'a->b', '2024-01-15 17:03:00', '2024-01-15 17:06:00', 0.38666666666666666, '20000071')\n",
      "(515, 'F2', 'b', 'a', 'b->a', '2024-01-15 17:06:00', '2024-01-15 17:07:00', 0.30666666666666664, None)\n",
      "(516, 'F1', 'd', 'a', 'd->a', '2024-01-15 17:06:00', '2024-01-15 17:08:00', 0.31, None)\n",
      "(517, 'F2', 'a', 'c', 'a->c', '2024-01-15 17:07:00', '2024-01-15 17:10:00', 0.30666666666666664, '20000073')\n",
      "(518, 'F2', 'c', 'g', 'c->g', '2024-01-15 17:10:21.333333', '2024-01-15 17:10:48', 0.23333333333333334, None)\n",
      "(519, 'F1', 'a', 'b', 'a->b', '2024-01-15 17:08:00', '2024-01-15 17:11:00', 0.31, '20000072')\n",
      "(520, 'F3', 'f', 'e', 'f->e', '2024-01-15 17:09:12', '2024-01-15 17:11:12', 0.3423076923076923, None)\n",
      "(521, 'F3', 'e', 'f', 'e->f', '2024-01-15 17:11:12', '2024-01-15 17:15:12', 0.3423076923076923, '20000054')\n",
      "(522, 'F1', 'b', 'c', 'b->c', '2024-01-15 18:25:18', '2024-01-15 18:28:18', 0.28, '20000061')\n",
      "(523, 'F3', 'f', 'g', 'f->e->g', '2024-01-15 19:05:49.538462', '2024-01-15 19:07:18', 0.18846153846153846, None)\n",
      "(524, 'F1', 'c', 'b', 'c->b', '2024-01-15 19:55:48', '2024-01-15 19:56:48', 0.255, None)\n",
      "(525, 'F1', 'b', 'c', 'b->c', '2024-01-15 19:56:48', '2024-01-15 19:59:48', 0.255, '20000064')\n",
      "(526, 'F1', 'c', 'd', 'c->b->d', '2024-01-15 20:08:12', '2024-01-15 20:10:12', 0.2075, None)\n",
      "(527, 'F1', 'd', 'h', 'd->e->h', '2024-01-15 20:10:12', '2024-01-15 20:15:12', 0.2075, '20000053')\n",
      "(528, 'F1', 'h', 'g', 'h->g', '2024-01-15 20:53:21', '2024-01-15 20:54:06', 0.115, None)\n",
      "(529, 'F3', 'g', 'b', 'g->c->b', '2024-01-15 21:42:18', '2024-01-15 21:43:18', 0.95, None)\n",
      "(530, 'F3', 'b', 'c', 'b->c', '2024-01-15 21:43:18', '2024-01-15 21:46:18', 0.95, '20000065')\n",
      "(531, 'F3', 'c', 'a', 'c->a', '2024-01-16 06:01:00', '2024-01-16 06:02:00', 0.8769230769230769, None)\n",
      "(532, 'F1', 'g', 'a', 'g->c->a', '2024-01-16 06:01:00', '2024-01-16 06:03:00', 0.945, None)\n",
      "(533, 'F3', 'a', 'd', 'a->d', '2024-01-16 06:02:00', '2024-01-16 06:05:00', 0.8769230769230769, '20000080')\n",
      "(534, 'F1', 'a', 'b', 'a->b', '2024-01-16 06:03:00', '2024-01-16 06:06:00', 0.945, '20000087')\n",
      "(535, 'F1', 'b', 'c', 'b->c', '2024-01-16 06:06:18', '2024-01-16 06:07:18', 0.9025, None)\n",
      "(536, 'F1', 'c', 'e', 'c->g->e', '2024-01-16 06:07:18', '2024-01-16 06:11:18', 0.9025, '20000056')\n",
      "(537, 'F1', 'e', 'f', 'e->f', '2024-01-16 07:11:48', '2024-01-16 07:15:48', 0.8675, '20000056')\n",
      "(538, 'F3', 'd', 'b', 'd->b', '2024-01-16 07:33:30', '2024-01-16 07:34:30', 0.7846153846153846, None)\n",
      "(539, 'F3', 'b', 'c', 'b->c', '2024-01-16 07:34:30', '2024-01-16 07:37:30', 0.7846153846153846, '20000066')\n",
      "(540, 'F3', 'c', 'e', 'c->g->e', '2024-01-16 08:14:00', '2024-01-16 08:17:00', 0.7653846153846153, '20000057')\n",
      "(541, 'F3', 'e', 'f', 'e->f', '2024-01-16 09:21:24', '2024-01-16 09:25:24', 0.7115384615384616, '20000057')\n",
      "(542, 'F2', 'g', 'h', 'g->h', '2024-01-16 09:25:42', '2024-01-16 09:26:42', 0.97, None)\n",
      "(543, 'F2', 'h', 'e', 'h->e', '2024-01-16 09:26:42', '2024-01-16 09:29:42', 0.97, '20000053')\n",
      "(544, 'F2', 'e', 'b', 'e->g->c->b', '2024-01-16 09:56:36', '2024-01-16 09:58:36', 0.87, None)\n",
      "(545, 'F2', 'b', 'c', 'b->c', '2024-01-16 09:58:36', '2024-01-16 10:01:36', 0.87, '20000067')\n",
      "(546, 'F2', 'c', 'd', 'c->b->d', '2024-01-16 10:04:42', '2024-01-16 10:05:42', 0.8066666666666666, None)\n",
      "(547, 'F2', 'd', 'h', 'd->e->h', '2024-01-16 10:05:42', '2024-01-16 10:09:42', 0.8066666666666666, '20000079')\n",
      "(548, 'F2', 'h', 'b', 'h->g->c->b', '2024-01-16 11:29:24', '2024-01-16 11:31:24', 0.64, None)\n",
      "(549, 'F2', 'b', 'c', 'b->c', '2024-01-16 11:31:24', '2024-01-16 11:34:24', 0.64, '20000071')\n",
      "(550, 'F1', 'f', 'e', 'f->e', '2024-01-16 11:45:24', '2024-01-16 11:47:24', 0.7825, None)\n",
      "(551, 'F1', 'e', 'f', 'e->f', '2024-01-16 11:47:24', '2024-01-16 11:51:24', 0.7825, '20000053')\n",
      "(552, 'F2', 'c', 'b', 'c->b', '2024-01-16 13:19:18', '2024-01-16 13:20:18', 0.6066666666666667, None)\n",
      "(553, 'F2', 'b', 'c', 'b->c', '2024-01-16 13:20:18', '2024-01-16 13:23:18', 0.6066666666666667, '20000072')\n",
      "(554, 'F2', 'c', 'e', 'c->g->e', '2024-01-16 13:44:54', '2024-01-16 13:47:54', 0.59, '20000058')\n",
      "(555, 'F2', 'e', 'd', 'e->d', '2024-01-16 15:21:36', '2024-01-16 15:22:36', 0.4866666666666667, None)\n",
      "(556, 'F2', 'd', 'h', 'd->e->h', '2024-01-16 15:22:36', '2024-01-16 15:26:36', 0.4866666666666667, '20000060')\n",
      "(557, 'F2', 'h', 'e', 'h->e', '2024-01-16 15:29:42', '2024-01-16 15:30:42', 0.3566666666666667, None)\n",
      "(558, 'F2', 'e', 'f', 'e->f', '2024-01-16 15:30:42', '2024-01-16 15:33:42', 0.3566666666666667, '20000058')\n",
      "(559, 'F1', 'f', 'h', 'f->e->h', '2024-01-16 16:06:54', '2024-01-16 16:09:54', 0.67, None)\n",
      "(560, 'F1', 'h', 'e', 'h->e', '2024-01-16 16:09:54', '2024-01-16 16:12:54', 0.67, '20000079')\n",
      "(561, 'F1', 'e', 'b', 'e->g->c->b', '2024-01-16 16:24:06', '2024-01-16 16:26:06', 0.595, None)\n",
      "(562, 'F1', 'b', 'd', 'b->d', '2024-01-16 16:26:06', '2024-01-16 16:29:06', 0.595, '20000087')\n",
      "(563, 'F1', 'd', 'c', 'd->b->c', '2024-01-16 17:21:42', '2024-01-16 17:23:42', 0.5375, None)\n",
      "(564, 'F1', 'c', 'h', 'c->g->h', '2024-01-16 17:23:42', '2024-01-16 17:27:42', 0.5375, '20000069')\n",
      "(565, 'F1', 'h', 'e', 'h->e', '2024-01-16 18:02:54', '2024-01-16 18:03:54', 0.4675, None)\n",
      "(566, 'F1', 'e', 'f', 'e->f', '2024-01-16 18:03:54', '2024-01-16 18:07:54', 0.4675, '20000079')\n",
      "(567, 'F1', 'f', 'd', 'f->e->d', '2024-01-16 19:33:48', '2024-01-16 19:36:48', 0.34, None)\n",
      "(568, 'F1', 'd', 'e', 'd->e', '2024-01-16 19:36:48', '2024-01-16 19:40:48', 0.34, '20000080')\n",
      "(569, 'F1', 'e', 'g', 'e->g', '2024-01-16 19:41:06', '2024-01-16 19:41:36', 0.2825, None)\n",
      "(570, 'F3', 'f', 'h', 'f->e->h', '2024-01-16 21:27:30', '2024-01-16 21:29:30', 0.5384615384615384, None)\n",
      "(571, 'F3', 'h', 'e', 'h->e', '2024-01-16 21:29:30', '2024-01-16 21:32:30', 0.5384615384615384, '20000060')\n",
      "(572, 'F1', 'g', 'e', 'g->e', '2024-01-17 06:01:00', '2024-01-17 06:02:00', 0.985, None)\n",
      "(573, 'F3', 'e', 'a', 'e->g->c->a', '2024-01-17 06:01:00', '2024-01-17 06:03:00', 0.38846153846153847, None)\n",
      "(574, 'F3', 'a', 'b', 'a->b', '2024-01-17 06:03:00', '2024-01-17 06:06:00', 0.38846153846153847, '20000093')\n",
      "(575, 'F1', 'e', 'f', 'e->f', '2024-01-17 06:02:00', '2024-01-17 06:06:00', 0.985, '20000080')\n",
      "(576, 'F3', 'b', 'c', 'b->c', '2024-01-17 06:18:42', '2024-01-17 06:19:42', 0.3230769230769231, None)\n",
      "(577, 'F3', 'c', 'd', 'c->b->d', '2024-01-17 06:19:42', '2024-01-17 06:22:42', 0.3230769230769231, '20000073')\n",
      "(578, 'F3', 'd', 'g', 'd->b->c->g', '2024-01-17 06:23:05.384615', '2024-01-17 06:24:30', 0.18461538461538463, None)\n",
      "(579, 'F1', 'f', 'e', 'f->e', '2024-01-17 07:47:12', '2024-01-17 07:49:12', 0.9, None)\n",
      "(580, 'F1', 'e', 'f', 'e->f', '2024-01-17 07:49:12', '2024-01-17 07:53:12', 0.9, '20000060')\n",
      "(581, 'F3', 'g', 'h', 'g->h', '2024-01-17 09:03:24', '2024-01-17 09:04:24', 0.9653846153846154, None)\n",
      "(582, 'F3', 'h', 'e', 'h->e', '2024-01-17 09:04:24', '2024-01-17 09:07:24', 0.9653846153846154, '20000069')\n",
      "(583, 'F3', 'e', 'c', 'e->g->c', '2024-01-17 09:30:36', '2024-01-17 09:31:36', 0.8692307692307693, None)\n",
      "(584, 'F3', 'c', 'e', 'c->g->e', '2024-01-17 09:31:36', '2024-01-17 09:34:36', 0.8692307692307693, '20000061')\n",
      "(585, 'F3', 'e', 'd', 'e->d', '2024-01-17 09:53:12', '2024-01-17 09:55:12', 0.75, None)\n",
      "(586, 'F3', 'd', 'h', 'd->e->h', '2024-01-17 09:55:12', '2024-01-17 09:59:12', 0.75, '20000087')\n",
      "(587, 'F3', 'h', 'b', 'h->g->c->b', '2024-01-17 10:07:48', '2024-01-17 10:09:48', 0.5576923076923077, None)\n",
      "(588, 'F3', 'b', 'd', 'b->d', '2024-01-17 10:09:48', '2024-01-17 10:12:48', 0.5576923076923077, '20000093')\n",
      "(589, 'F1', 'f', 'e', 'f->e', '2024-01-17 10:29:24', '2024-01-17 10:31:24', 0.815, None)\n",
      "(590, 'F1', 'e', 'f', 'e->f', '2024-01-17 10:31:24', '2024-01-17 10:35:24', 0.815, '20000069')\n",
      "(591, 'F3', 'd', 'c', 'd->b->c', '2024-01-17 10:41:18', '2024-01-17 10:42:18', 0.46923076923076923, None)\n",
      "(592, 'F2', 'f', 'a', 'f->e->g->c->a', '2024-01-17 10:42:00', '2024-01-17 10:45:00', 0.15, None)\n",
      "(593, 'F3', 'c', 'e', 'c->g->e', '2024-01-17 10:42:18', '2024-01-17 10:45:18', 0.46923076923076923, '20000064')\n",
      "(594, 'F1', 'f', 'a', 'f->e->g->c->a', '2024-01-17 10:42:00', '2024-01-17 10:46:00', 0.66, None)\n",
      "(595, 'F2', 'a', 'c', 'a->c', '2024-01-17 10:45:00', '2024-01-17 10:48:00', 0.15, '20000077')\n",
      "(596, 'F2', 'c', 'g', 'c->g', '2024-01-17 10:47:57.333333', '2024-01-17 10:48:24', 0.07666666666666666, None)\n",
      "(597, 'F1', 'a', 'b', 'a->b', '2024-01-17 10:46:00', '2024-01-17 10:49:00', 0.66, '20000074')\n",
      "(598, 'F1', 'b', 'a', 'b->a', '2024-01-17 10:49:00', '2024-01-17 10:50:00', 0.6, None)\n",
      "(599, 'F1', 'a', 'b', 'a->b', '2024-01-17 10:50:00', '2024-01-17 10:53:00', 0.6, '20000076')\n",
      "(600, 'F3', 'e', 'f', 'e->f', '2024-01-17 11:11:36', '2024-01-17 11:15:36', 0.4153846153846154, '20000061')\n",
      "(601, 'F1', 'b', 'c', 'b->c', '2024-01-17 12:57:54', '2024-01-17 13:00:54', 0.57, '20000074')\n",
      "(602, 'F2', 'g', 'e', 'g->e', '2024-01-17 13:07:36', '2024-01-17 13:08:36', 0.98, None)\n",
      "(603, 'F2', 'e', 'f', 'e->f', '2024-01-17 13:08:36', '2024-01-17 13:11:36', 0.98, '20000064')\n",
      "(604, 'F1', 'c', 'h', 'c->g->h', '2024-01-17 14:33:36', '2024-01-17 14:35:36', 0.515, None)\n",
      "(605, 'F1', 'h', 'e', 'h->e', '2024-01-17 14:35:36', '2024-01-17 14:38:36', 0.515, '20000087')\n",
      "(606, 'F3', 'f', 'b', 'f->e->g->c->b', '2024-01-17 14:36:24', '2024-01-17 14:39:24', 0.21153846153846154, None)\n",
      "(607, 'F3', 'b', 'c', 'b->c', '2024-01-17 14:39:24', '2024-01-17 14:42:24', 0.21153846153846154, '20000076')\n",
      "(608, 'F3', 'c', 'g', 'c->g', '2024-01-17 14:42:23.230769', '2024-01-17 14:42:54', 0.16153846153846155, None)\n",
      "(609, 'F1', 'e', 'd', 'e->d', '2024-01-17 15:20:54', '2024-01-17 15:22:54', 0.445, None)\n",
      "(610, 'F1', 'd', 'h', 'd->e->h', '2024-01-17 15:22:54', '2024-01-17 15:27:54', 0.445, '20000073')\n",
      "(611, 'F3', 'g', 'c', 'g->c', '2024-01-17 16:32:12', '2024-01-17 16:33:12', 0.9692307692307692, None)\n",
      "(612, 'F1', 'h', 'e', 'h->e', '2024-01-17 16:33:24', '2024-01-17 16:34:24', 0.3475, None)\n",
      "(613, 'F3', 'c', 'e', 'c->g->e', '2024-01-17 16:33:12', '2024-01-17 16:36:12', 0.9692307692307692, '20000065')\n",
      "(614, 'F1', 'e', 'f', 'e->f', '2024-01-17 16:34:24', '2024-01-17 16:38:24', 0.3475, '20000087')\n",
      "(615, 'F3', 'e', 'f', 'e->f', '2024-01-17 17:41:06', '2024-01-17 17:45:06', 0.9153846153846154, '20000065')\n",
      "(616, 'F1', 'f', 'c', 'f->e->g->c', '2024-01-17 18:22:06', '2024-01-17 18:25:06', 0.2275, None)\n",
      "(617, 'F1', 'c', 'e', 'c->g->e', '2024-01-17 18:25:06', '2024-01-17 18:29:06', 0.2275, '20000066')\n",
      "(618, 'F1', 'e', 'g', 'e->g', '2024-01-17 18:29:24', '2024-01-17 18:29:54', 0.1775, None)\n",
      "(619, 'F3', 'f', 'h', 'f->e->h', '2024-01-17 20:37:24', '2024-01-17 20:39:24', 0.7423076923076923, None)\n",
      "(620, 'F3', 'h', 'e', 'h->e', '2024-01-17 20:39:24', '2024-01-17 20:42:24', 0.7423076923076923, '20000073')\n",
      "(621, 'F1', 'g', 'e', 'g->e', '2024-01-17 21:15:00', '2024-01-17 21:16:00', 0.985, None)\n",
      "(622, 'F1', 'e', 'f', 'e->f', '2024-01-17 21:16:00', '2024-01-17 21:20:00', 0.985, '20000066')\n",
      "(623, 'F3', 'e', 'a', 'e->g->c->a', '2024-01-18 06:01:00', '2024-01-18 06:03:00', 0.5923076923076923, None)\n",
      "(624, 'F3', 'a', 'd', 'a->d', '2024-01-18 06:03:00', '2024-01-18 06:06:00', 0.5923076923076923, '20000094')\n",
      "(625, 'F3', 'd', 'h', 'd->e->h', '2024-01-18 06:14:54', '2024-01-18 06:18:54', 0.5346153846153846, '20000093')\n",
      "(626, 'F3', 'h', 'e', 'h->e', '2024-01-18 06:53:12', '2024-01-18 06:54:12', 0.38461538461538464, None)\n",
      "(627, 'F3', 'e', 'f', 'e->f', '2024-01-18 06:54:12', '2024-01-18 06:58:12', 0.38461538461538464, '20000073')\n",
      "(628, 'F1', 'f', 'c', 'f->e->g->c', '2024-01-18 06:56:06', '2024-01-18 06:59:06', 0.865, None)\n",
      "(629, 'F1', 'c', 'e', 'c->g->e', '2024-01-18 06:59:06', '2024-01-18 07:03:06', 0.865, '20000067')\n",
      "(630, 'F1', 'e', 'a', 'e->g->c->a', '2024-01-18 07:04:00', '2024-01-18 07:07:00', 0.76, None)\n",
      "(631, 'F1', 'a', 'c', 'a->c', '2024-01-18 07:07:00', '2024-01-18 07:11:00', 0.76, '20000078')\n",
      "(632, 'F1', 'c', 'e', 'c->g->e', '2024-01-18 07:40:54', '2024-01-18 07:42:54', 0.69, None)\n",
      "(633, 'F1', 'e', 'f', 'e->f', '2024-01-18 07:42:54', '2024-01-18 07:46:54', 0.69, '20000067')\n",
      "(634, 'F1', 'f', 'c', 'f->e->g->c', '2024-01-18 07:55:30', '2024-01-18 07:58:30', 0.57, None)\n",
      "(635, 'F1', 'c', 'e', 'c->g->e', '2024-01-18 07:58:30', '2024-01-18 08:02:30', 0.57, '20000071')\n",
      "(636, 'F1', 'e', 'f', 'e->f', '2024-01-18 09:11:06', '2024-01-18 09:15:06', 0.535, '20000071')\n",
      "(637, 'F1', 'f', 'h', 'f->e->h', '2024-01-18 10:58:18', '2024-01-18 11:01:18', 0.4225, None)\n",
      "(638, 'F1', 'h', 'e', 'h->e', '2024-01-18 11:01:18', '2024-01-18 11:04:18', 0.4225, '20000093')\n",
      "(639, 'F1', 'e', 'd', 'e->d', '2024-01-18 11:15:42', '2024-01-18 11:17:42', 0.3525, None)\n",
      "(640, 'F1', 'd', 'e', 'd->e', '2024-01-18 11:17:42', '2024-01-18 11:21:42', 0.3525, '20000094')\n",
      "(641, 'F1', 'e', 'c', 'e->g->c', '2024-01-18 13:00:18', '2024-01-18 13:02:18', 0.275, None)\n",
      "(642, 'F3', 'f', 'a', 'f->e->g->c->a', '2024-01-18 13:01:00', '2024-01-18 13:04:00', 0.14615384615384616, None)\n",
      "(643, 'F2', 'f', 'a', 'f->e->g->c->a', '2024-01-18 13:01:00', '2024-01-18 13:04:00', 0.7733333333333333, None)\n",
      "(644, 'F1', 'c', 'e', 'c->g->e', '2024-01-18 13:02:18', '2024-01-18 13:06:18', 0.275, '20000072')\n",
      "(645, 'F1', 'e', 'g', 'e->g', '2024-01-18 13:06:24', '2024-01-18 13:06:54', 0.225, None)\n",
      "(646, 'F3', 'a', 'b', 'a->b', '2024-01-18 13:04:00', '2024-01-18 13:07:00', 0.14615384615384616, '20000081')\n",
      "(647, 'F2', 'a', 'c', 'a->c', '2024-01-18 13:04:00', '2024-01-18 13:07:00', 0.7733333333333333, '20000084')\n",
      "(648, 'F3', 'b', 'a', 'b->a', '2024-01-18 13:07:00', '2024-01-18 13:08:00', 0.05384615384615385, None)\n",
      "(649, 'F3', 'a', 'b', 'a->b', '2024-01-18 13:08:00', '2024-01-18 13:11:00', 0.05384615384615385, '20000082')\n",
      "(650, 'F2', 'c', 'e', 'c->g->e', '2024-01-18 13:13:06', '2024-01-18 13:14:06', 0.68, None)\n",
      "(651, 'F2', 'e', 'f', 'e->f', '2024-01-18 13:14:06', '2024-01-18 13:17:06', 0.68, '20000093')\n",
      "(652, 'F3', 'b', 'c', 'b->c', '2024-01-18 14:29:54', '2024-01-18 14:32:54', 0.007692307692307693, '20000081')\n",
      "(653, 'F3', 'c', 'e', 'c->g->e', '2024-01-18 14:35:18', '2024-01-18 14:36:18', -0.06538461538461539, None)\n",
      "(654, 'F3', 'e', 'f', 'e->f', '2024-01-18 14:36:18', '2024-01-18 14:40:18', -0.06538461538461539, '20000094')\n",
      "(655, 'F3', 'f', 'e', 'f->e', '2024-01-18 15:39:36', '2024-01-18 15:41:36', -0.19615384615384615, None)\n",
      "(656, 'F1', 'g', 'a', 'g->c->a', '2024-01-18 15:42:00', '2024-01-18 15:44:00', 0.945, None)\n",
      "(657, 'F3', 'e', 'f', 'e->f', '2024-01-18 15:41:36', '2024-01-18 15:45:36', -0.19615384615384615, '20000072')\n",
      "(658, 'F1', 'a', 'b', 'a->b', '2024-01-18 15:44:00', '2024-01-18 15:47:00', 0.945, '20000083')\n",
      "(659, 'F3', 'f', 'g', 'f->e->g', '2024-01-18 15:45:55.538462', '2024-01-18 15:47:24', -0.35, None)\n",
      "(660, 'F1', 'b', 'c', 'b->c', '2024-01-18 15:47:06', '2024-01-18 15:48:06', 0.9025, None)\n",
      "(661, 'F1', 'c', 'h', 'c->g->h', '2024-01-18 15:48:06', '2024-01-18 15:52:06', 0.9025, '20000077')\n",
      "(662, 'F1', 'h', 'b', 'h->g->c->b', '2024-01-18 16:19:24', '2024-01-18 16:21:24', 0.805, None)\n",
      "(663, 'F1', 'b', 'c', 'b->c', '2024-01-18 16:21:24', '2024-01-18 16:24:24', 0.805, '20000082')\n",
      "(664, 'F1', 'c', 'b', 'c->b', '2024-01-18 18:47:54', '2024-01-18 18:48:54', 0.78, None)\n",
      "(665, 'F1', 'b', 'c', 'b->c', '2024-01-18 18:48:54', '2024-01-18 18:51:54', 0.78, '20000083')\n",
      "(666, 'F3', 'g', 'h', 'g->h', '2024-01-18 19:29:36', '2024-01-18 19:30:36', 0.9653846153846154, None)\n",
      "(667, 'F3', 'h', 'e', 'h->e', '2024-01-18 19:30:36', '2024-01-18 19:33:36', 0.9653846153846154, '20000077')\n",
      "(668, 'F1', 'c', 'e', 'c->g->e', '2024-01-18 20:49:24', '2024-01-18 20:53:24', 0.7675, '20000074')\n",
      "(669, 'F3', 'e', 'f', 'e->f', '2024-01-18 20:49:36', '2024-01-18 20:53:36', 0.9230769230769231, '20000077')\n",
      "(670, 'F1', 'e', 'f', 'e->f', '2024-01-18 21:39:54', '2024-01-18 21:43:54', 0.7325, '20000074')\n",
      "(671, 'F1', 'f', 'a', 'f->e->g->c->a', '2024-01-19 06:01:00', '2024-01-19 06:05:00', 0.5775, None)\n",
      "(672, 'F1', 'a', 'd', 'a->d', '2024-01-19 06:05:00', '2024-01-19 06:09:00', 0.5775, '20000099')\n",
      "(673, 'F1', 'd', 'a', 'd->a', '2024-01-19 06:09:00', '2024-01-19 06:11:00', 0.5025, None)\n",
      "(674, 'F1', 'a', 'b', 'a->b', '2024-01-19 06:11:00', '2024-01-19 06:14:00', 0.5025, '20000105')\n",
      "(675, 'F1', 'b', 'c', 'b->c', '2024-01-19 08:03:24', '2024-01-19 08:04:24', 0.46, None)\n",
      "(676, 'F1', 'c', 'e', 'c->g->e', '2024-01-19 08:04:24', '2024-01-19 08:08:24', 0.46, '20000076')\n",
      "(677, 'F1', 'e', 'b', 'e->g->c->b', '2024-01-19 09:38:06', '2024-01-19 09:40:06', 0.3775, None)\n",
      "(678, 'F1', 'b', 'd', 'b->d', '2024-01-19 09:40:06', '2024-01-19 09:43:06', 0.3775, '20000105')\n",
      "(679, 'F1', 'd', 'e', 'd->e', '2024-01-19 10:02:00', '2024-01-19 10:04:00', 0.3125, None)\n",
      "(680, 'F1', 'e', 'f', 'e->f', '2024-01-19 10:04:00', '2024-01-19 10:08:00', 0.3125, '20000076')\n",
      "(681, 'F1', 'f', 'g', 'f->e->g', '2024-01-19 10:08:23', '2024-01-19 10:10:18', 0.2125, None)\n",
      "(682, 'F1', 'g', 'd', 'g->c->b->d', '2024-01-19 12:48:18', '2024-01-19 12:50:18', 0.945, None)\n",
      "(683, 'F1', 'd', 'e', 'd->e', '2024-01-19 12:50:18', '2024-01-19 12:54:18', 0.945, '20000099')\n",
      "(684, 'F1', 'e', 'c', 'e->g->c', '2024-01-19 13:07:48', '2024-01-19 13:09:48', 0.8675, None)\n",
      "(685, 'F1', 'c', 'd', 'c->b->d', '2024-01-19 13:09:48', '2024-01-19 13:13:48', 0.8675, '20000078')\n",
      "(686, 'F1', 'd', 'a', 'd->a', '2024-01-19 13:14:00', '2024-01-19 13:16:00', 0.795, None)\n",
      "(687, 'F1', 'a', 'c', 'a->c', '2024-01-19 13:16:00', '2024-01-19 13:20:00', 0.795, '20000085')\n",
      "(688, 'F1', 'c', 'e', 'c->g->e', '2024-01-19 14:28:06', '2024-01-19 14:30:06', 0.725, None)\n",
      "(689, 'F1', 'e', 'f', 'e->f', '2024-01-19 14:30:06', '2024-01-19 14:34:06', 0.725, '20000099')\n",
      "(690, 'F1', 'f', 'c', 'f->e->g->c', '2024-01-19 15:33:18', '2024-01-19 15:36:18', 0.605, None)\n",
      "(691, 'F3', 'f', 'a', 'f->e->g->c->a', '2024-01-19 15:34:00', '2024-01-19 15:37:00', 0.6846153846153846, None)\n",
      "(692, 'F2', 'f', 'a', 'f->e->g->c->a', '2024-01-19 15:34:00', '2024-01-19 15:37:00', 0.47333333333333333, None)\n",
      "(693, 'F3', 'a', 'b', 'a->b', '2024-01-19 15:37:00', '2024-01-19 15:40:00', 0.6846153846153846, '20000086')\n",
      "(694, 'F2', 'a', 'b', 'a->b', '2024-01-19 15:37:00', '2024-01-19 15:40:00', 0.47333333333333333, '20000089')\n",
      "(695, 'F1', 'c', 'h', 'c->g->h', '2024-01-19 15:36:18', '2024-01-19 15:40:18', 0.605, '20000084')\n",
      "(696, 'F3', 'b', 'a', 'b->a', '2024-01-19 15:40:00', '2024-01-19 15:41:00', 0.5923076923076923, None)\n",
      "(697, 'F2', 'b', 'a', 'b->a', '2024-01-19 15:40:00', '2024-01-19 15:41:00', 0.3933333333333333, None)\n",
      "(698, 'F3', 'a', 'b', 'a->b', '2024-01-19 15:41:00', '2024-01-19 15:44:00', 0.5923076923076923, '20000088')\n",
      "(699, 'F2', 'a', 'c', 'a->c', '2024-01-19 15:41:00', '2024-01-19 15:44:00', 0.3933333333333333, '20000090')\n",
      "(700, 'F3', 'b', 'd', 'b->d', '2024-01-19 16:36:00', '2024-01-19 16:37:00', 0.5115384615384615, None)\n",
      "(701, 'F3', 'd', 'h', 'd->e->h', '2024-01-19 16:37:00', '2024-01-19 16:41:00', 0.5115384615384615, '20000105')\n",
      "(702, 'F2', 'c', 'e', 'c->g->e', '2024-01-19 17:30:18', '2024-01-19 17:33:18', 0.3466666666666667, '20000081')\n",
      "(703, 'F1', 'h', 'a', 'h->g->c->a', '2024-01-19 17:31:00', '2024-01-19 17:34:00', 0.485, None)\n",
      "(704, 'F1', 'a', 'c', 'a->c', '2024-01-19 17:34:00', '2024-01-19 17:38:00', 0.485, '20000091')\n",
      "(705, 'F1', 'c', 'b', 'c->b', '2024-01-19 17:53:42', '2024-01-19 17:54:42', 0.4375, None)\n",
      "(706, 'F1', 'b', 'c', 'b->c', '2024-01-19 17:54:42', '2024-01-19 17:57:42', 0.4375, '20000086')\n",
      "(707, 'F2', 'e', 'f', 'e->f', '2024-01-19 18:41:42', '2024-01-19 18:44:42', 0.3, '20000081')\n",
      "(708, 'F2', 'f', 'g', 'f->e->g', '2024-01-19 18:44:49.333333', '2024-01-19 18:46:06', 0.16666666666666666, None)\n",
      "(709, 'F1', 'c', 'b', 'c->b', '2024-01-19 19:24:54', '2024-01-19 19:25:54', 0.4125, None)\n",
      "(710, 'F1', 'b', 'c', 'b->c', '2024-01-19 19:25:54', '2024-01-19 19:28:54', 0.4125, '20000088')\n",
      "(711, 'F3', 'h', 'e', 'h->e', '2024-01-19 20:35:06', '2024-01-19 20:38:06', 0.40384615384615385, '20000084')\n",
      "(712, 'F1', 'c', 'b', 'c->b', '2024-01-19 21:11:30', '2024-01-19 21:12:30', 0.3875, None)\n",
      "(713, 'F1', 'b', 'c', 'b->c', '2024-01-19 21:12:30', '2024-01-19 21:15:30', 0.3875, '20000089')\n",
      "(714, 'F2', 'g', 'a', 'g->c->a', '2024-01-22 06:01:00', '2024-01-22 06:03:00', 0.9266666666666666, None)\n",
      "(715, 'F3', 'e', 'a', 'e->g->c->a', '2024-01-22 06:01:00', '2024-01-22 06:03:00', 0.25384615384615383, None)\n",
      "(716, 'F1', 'c', 'e', 'c->g->e', '2024-01-22 06:01:00', '2024-01-22 06:05:00', 0.375, '20000082')\n",
      "(717, 'F2', 'a', 'd', 'a->d', '2024-01-22 06:03:00', '2024-01-22 06:06:00', 0.9266666666666666, '20000106')\n",
      "(718, 'F3', 'a', 'b', 'a->b', '2024-01-22 06:03:00', '2024-01-22 06:06:00', 0.25384615384615383, '20000113')\n",
      "(719, 'F3', 'b', 'g', 'b->c->g', '2024-01-22 06:06:04', '2024-01-22 06:06:54', 0.1576923076923077, None)\n",
      "(720, 'F1', 'e', 'f', 'e->f', '2024-01-22 06:05:18', '2024-01-22 06:09:18', 0.34, '20000084')\n",
      "(721, 'F2', 'd', 'h', 'd->e->h', '2024-01-22 06:10:42', '2024-01-22 06:14:42', 0.8766666666666667, '20000078')\n",
      "(722, 'F2', 'h', 'e', 'h->e', '2024-01-22 07:11:36', '2024-01-22 07:12:36', 0.7466666666666667, None)\n",
      "(723, 'F2', 'e', 'f', 'e->f', '2024-01-22 07:12:36', '2024-01-22 07:15:36', 0.7466666666666667, '20000082')\n",
      "(724, 'F1', 'f', 'g', 'f->e->g', '2024-01-22 07:56:53', '2024-01-22 07:58:48', 0.24, None)\n",
      "(725, 'F3', 'g', 'h', 'g->h', '2024-01-22 08:59:18', '2024-01-22 09:00:18', 0.9653846153846154, None)\n",
      "(726, 'F3', 'h', 'e', 'h->e', '2024-01-22 09:00:18', '2024-01-22 09:03:18', 0.9653846153846154, '20000105')\n",
      "(727, 'F3', 'e', 'c', 'e->g->c', '2024-01-22 09:35:06', '2024-01-22 09:36:06', 0.8692307692307693, None)\n",
      "(728, 'F3', 'c', 'e', 'c->g->e', '2024-01-22 09:36:06', '2024-01-22 09:39:06', 0.8692307692307693, '20000083')\n",
      "(729, 'F3', 'e', 'b', 'e->g->c->b', '2024-01-22 09:46:42', '2024-01-22 09:48:42', 0.7423076923076923, None)\n",
      "(730, 'F3', 'b', 'd', 'b->d', '2024-01-22 09:48:42', '2024-01-22 09:51:42', 0.7423076923076923, '20000113')\n",
      "(731, 'F1', 'g', 'e', 'g->e', '2024-01-22 10:53:12', '2024-01-22 10:54:12', 0.985, None)\n",
      "(732, 'F3', 'd', 'e', 'd->e', '2024-01-22 10:53:24', '2024-01-22 10:57:24', 0.7076923076923077, '20000106')\n",
      "(733, 'F1', 'e', 'f', 'e->f', '2024-01-22 10:54:12', '2024-01-22 10:58:12', 0.985, '20000105')\n",
      "(734, 'F3', 'e', 'f', 'e->f', '2024-01-22 12:47:06', '2024-01-22 12:51:06', 0.6423076923076924, '20000083')\n",
      "(735, 'F1', 'f', 'c', 'f->e->g->c', '2024-01-22 13:25:30', '2024-01-22 13:28:30', 0.865, None)\n",
      "(736, 'F1', 'c', 'd', 'c->b->d', '2024-01-22 13:28:30', '2024-01-22 13:32:30', 0.865, '20000085')\n",
      "(737, 'F1', 'd', 'e', 'd->e', '2024-01-22 14:06:00', '2024-01-22 14:08:00', 0.7875, None)\n",
      "(738, 'F1', 'e', 'f', 'e->f', '2024-01-22 14:08:00', '2024-01-22 14:12:00', 0.7875, '20000106')\n",
      "(739, 'F1', 'f', 'h', 'f->e->h', '2024-01-22 15:39:18', '2024-01-22 15:42:18', 0.675, None)\n",
      "(740, 'F1', 'h', 'e', 'h->e', '2024-01-22 15:42:18', '2024-01-22 15:45:18', 0.675, '20000078')\n",
      "(741, 'F1', 'e', 'd', 'e->d', '2024-01-22 16:55:42', '2024-01-22 16:57:42', 0.605, None)\n",
      "(742, 'F1', 'd', 'h', 'd->e->h', '2024-01-22 16:57:42', '2024-01-22 17:02:42', 0.605, '20000113')\n",
      "(743, 'F1', 'h', 'c', 'h->g->c', '2024-01-22 17:17:42', '2024-01-22 17:19:42', 0.4925, None)\n",
      "(744, 'F3', 'f', 'a', 'f->e->g->c->a', '2024-01-22 17:18:00', '2024-01-22 17:21:00', 0.40384615384615385, None)\n",
      "(745, 'F2', 'f', 'a', 'f->e->g->c->a', '2024-01-22 17:18:00', '2024-01-22 17:21:00', 0.54, None)\n",
      "(746, 'F1', 'c', 'h', 'c->g->h', '2024-01-22 17:19:42', '2024-01-22 17:23:42', 0.4925, '20000090')\n",
      "(747, 'F3', 'a', 'b', 'a->b', '2024-01-22 17:21:00', '2024-01-22 17:24:00', 0.40384615384615385, '20000092')\n",
      "(748, 'F2', 'a', 'b', 'a->b', '2024-01-22 17:21:00', '2024-01-22 17:24:00', 0.54, '20000096')\n",
      "(749, 'F3', 'b', 'a', 'b->a', '2024-01-22 17:24:00', '2024-01-22 17:25:00', 0.31153846153846154, None)\n",
      "(750, 'F2', 'b', 'a', 'b->a', '2024-01-22 17:24:00', '2024-01-22 17:25:00', 0.46, None)\n",
      "(751, 'F1', 'h', 'a', 'h->g->c->a', '2024-01-22 17:24:00', '2024-01-22 17:27:00', 0.3725, None)\n",
      "(752, 'F3', 'a', 'b', 'a->b', '2024-01-22 17:25:00', '2024-01-22 17:28:00', 0.31153846153846154, '20000095')\n",
      "(753, 'F2', 'a', 'b', 'a->b', '2024-01-22 17:25:00', '2024-01-22 17:28:00', 0.46, '20000097')\n",
      "(754, 'F3', 'b', 'a', 'b->a', '2024-01-22 17:28:00', '2024-01-22 17:29:00', 0.21923076923076923, None)\n",
      "(755, 'F2', 'b', 'a', 'b->a', '2024-01-22 17:28:00', '2024-01-22 17:29:00', 0.38, None)\n",
      "(756, 'F1', 'a', 'b', 'a->b', '2024-01-22 17:27:00', '2024-01-22 17:30:00', 0.3725, '20000098')\n",
      "(757, 'F1', 'b', 'a', 'b->a', '2024-01-22 17:30:00', '2024-01-22 17:31:00', 0.3125, None)\n",
      "(758, 'F3', 'a', 'b', 'a->b', '2024-01-22 17:29:00', '2024-01-22 17:32:00', 0.21923076923076923, '20000101')\n",
      "(759, 'F2', 'a', 'b', 'a->b', '2024-01-22 17:29:00', '2024-01-22 17:32:00', 0.38, '20000102')\n",
      "(760, 'F3', 'b', 'g', 'b->c->g', '2024-01-22 17:32:22', '2024-01-22 17:33:12', 0.12307692307692308, None)\n",
      "(761, 'F1', 'a', 'b', 'a->b', '2024-01-22 17:31:00', '2024-01-22 17:34:00', 0.3125, '20000100')\n",
      "(762, 'F1', 'b', 'a', 'b->a', '2024-01-22 17:34:00', '2024-01-22 17:35:00', 0.2525, None)\n",
      "(763, 'F1', 'a', 'c', 'a->c', '2024-01-22 17:35:00', '2024-01-22 17:39:00', 0.2525, '20000103')\n",
      "(764, 'F1', 'c', 'e', 'c->g->e', '2024-01-22 18:19:24', '2024-01-22 18:21:24', 0.1825, None)\n",
      "(765, 'F1', 'e', 'f', 'e->f', '2024-01-22 18:21:24', '2024-01-22 18:25:24', 0.1825, '20000078')\n",
      "(766, 'F1', 'f', 'g', 'f->e->g', '2024-01-22 19:27:41', '2024-01-22 19:29:36', 0.0825, None)\n",
      "(767, 'F2', 'b', 'c', 'b->c', '2024-01-22 19:45:12', '2024-01-22 19:48:12', 0.34, '20000092')\n",
      "(768, 'F2', 'c', 'b', 'c->b', '2024-01-22 21:18:42', '2024-01-22 21:19:42', 0.30666666666666664, None)\n",
      "(769, 'F2', 'b', 'c', 'b->c', '2024-01-22 21:19:42', '2024-01-22 21:22:42', 0.30666666666666664, '20000095')\n",
      "(770, 'F3', 'g', 'h', 'g->h', '2024-01-22 21:27:06', '2024-01-22 21:28:06', 0.9653846153846154, None)\n",
      "(771, 'F3', 'h', 'e', 'h->e', '2024-01-22 21:28:06', '2024-01-22 21:31:06', 0.9653846153846154, '20000113')\n",
      "(772, 'F2', 'c', 'g', 'c->g', '2024-01-23 06:00:57.333333', '2024-01-23 06:01:24', 0.2633333333333333, None)\n",
      "(773, 'F3', 'e', 'd', 'e->d', '2024-01-23 06:51:48', '2024-01-23 06:53:48', 0.8576923076923076, None)\n",
      "(774, 'F3', 'd', 'h', 'd->e->h', '2024-01-23 06:53:48', '2024-01-23 06:57:48', 0.8576923076923076, '20000085')\n",
      "(775, 'F1', 'g', 'e', 'g->e', '2024-01-23 07:20:36', '2024-01-23 07:21:36', 0.985, None)\n",
      "(776, 'F1', 'e', 'f', 'e->f', '2024-01-23 07:21:36', '2024-01-23 07:25:36', 0.985, '20000113')\n",
      "(777, 'F3', 'h', 'b', 'h->g->c->b', '2024-01-23 07:31:18', '2024-01-23 07:33:18', 0.6653846153846154, None)\n",
      "(778, 'F3', 'b', 'c', 'b->c', '2024-01-23 07:33:18', '2024-01-23 07:36:18', 0.6653846153846154, '20000096')\n",
      "(779, 'F2', 'g', 'c', 'g->c', '2024-01-23 07:52:48', '2024-01-23 07:53:48', 0.9733333333333334, None)\n",
      "(780, 'F2', 'c', 'd', 'c->b->d', '2024-01-23 07:53:48', '2024-01-23 07:56:48', 0.9733333333333334, '20000091')\n",
      "(781, 'F3', 'c', 'e', 'c->g->e', '2024-01-23 08:29:36', '2024-01-23 08:32:36', 0.6461538461538462, '20000086')\n",
      "(782, 'F2', 'd', 'b', 'd->b', '2024-01-23 09:11:00', '2024-01-23 09:12:00', 0.8966666666666666, None)\n",
      "(783, 'F3', 'e', 'h', 'e->h', '2024-01-23 09:12:12', '2024-01-23 09:13:12', 0.55, None)\n",
      "(784, 'F2', 'b', 'c', 'b->c', '2024-01-23 09:12:00', '2024-01-23 09:15:00', 0.8966666666666666, '20000097')\n",
      "(785, 'F3', 'h', 'e', 'h->e', '2024-01-23 09:13:12', '2024-01-23 09:16:12', 0.55, '20000090')\n",
      "(786, 'F3', 'e', 'f', 'e->f', '2024-01-23 09:16:36', '2024-01-23 09:20:36', 0.5076923076923077, '20000086')\n",
      "(787, 'F1', 'f', 'e', 'f->e', '2024-01-23 10:52:48', '2024-01-23 10:54:48', 0.9, None)\n",
      "(788, 'F2', 'c', 'e', 'c->g->e', '2024-01-23 10:54:54', '2024-01-23 10:57:54', 0.88, '20000088')\n",
      "(789, 'F1', 'e', 'f', 'e->f', '2024-01-23 10:54:48', '2024-01-23 10:58:48', 0.9, '20000090')\n",
      "(790, 'F2', 'e', 'b', 'e->g->c->b', '2024-01-23 11:24:00', '2024-01-23 11:26:00', 0.77, None)\n",
      "(791, 'F2', 'b', 'c', 'b->c', '2024-01-23 11:26:00', '2024-01-23 11:29:00', 0.77, '20000098')\n",
      "(792, 'F1', 'f', 'e', 'f->e', '2024-01-23 11:57:42', '2024-01-23 11:59:42', 0.815, None)\n",
      "(793, 'F1', 'e', 'f', 'e->f', '2024-01-23 11:59:42', '2024-01-23 12:03:42', 0.815, '20000088')\n",
      "(794, 'F2', 'c', 'b', 'c->b', '2024-01-23 12:52:12', '2024-01-23 12:53:12', 0.7366666666666667, None)\n",
      "(795, 'F2', 'b', 'c', 'b->c', '2024-01-23 12:53:12', '2024-01-23 12:56:12', 0.7366666666666667, '20000100')\n",
      "(796, 'F2', 'c', 'd', 'c->b->d', '2024-01-23 13:51:18', '2024-01-23 13:52:18', 0.6733333333333333, None)\n",
      "(797, 'F2', 'd', 'h', 'd->e->h', '2024-01-23 13:52:18', '2024-01-23 13:56:18', 0.6733333333333333, '20000091')\n",
      "(798, 'F2', 'h', 'e', 'h->e', '2024-01-23 14:22:48', '2024-01-23 14:25:48', 0.58, '20000085')\n",
      "(799, 'F2', 'e', 'b', 'e->g->c->b', '2024-01-23 14:57:06', '2024-01-23 14:59:06', 0.48, None)\n",
      "(800, 'F2', 'b', 'c', 'b->c', '2024-01-23 14:59:06', '2024-01-23 15:02:06', 0.48, '20000101')\n",
      "(801, 'F2', 'c', 'e', 'c->g->e', '2024-01-23 16:24:42', '2024-01-23 16:27:42', 0.4633333333333333, '20000089')\n",
      "(802, 'F2', 'e', 'f', 'e->f', '2024-01-23 16:47:00', '2024-01-23 16:50:00', 0.4166666666666667, '20000085')\n",
      "(803, 'F1', 'f', 'b', 'f->e->g->c->b', '2024-01-23 16:51:24', '2024-01-23 16:54:24', 0.6825, None)\n",
      "(804, 'F1', 'b', 'c', 'b->c', '2024-01-23 16:54:24', '2024-01-23 16:57:24', 0.6825, '20000102')\n",
      "(805, 'F1', 'c', 'e', 'c->g->e', '2024-01-23 17:55:18', '2024-01-23 17:57:18', 0.635, None)\n",
      "(806, 'F1', 'e', 'f', 'e->f', '2024-01-23 17:57:18', '2024-01-23 18:01:18', 0.635, '20000089')\n",
      "(807, 'F1', 'f', 'h', 'f->e->h', '2024-01-23 18:54:24', '2024-01-23 18:57:24', 0.5225, None)\n",
      "(808, 'F1', 'h', 'e', 'h->e', '2024-01-23 18:57:24', '2024-01-23 19:00:24', 0.5225, '20000091')\n",
      "(809, 'F1', 'e', 'c', 'e->g->c', '2024-01-23 19:18:24', '2024-01-23 19:20:24', 0.46, None)\n",
      "(810, 'F1', 'c', 'h', 'c->g->h', '2024-01-23 19:20:24', '2024-01-23 19:24:24', 0.46, '20000103')\n",
      "(811, 'F1', 'h', 'e', 'h->e', '2024-01-23 21:46:12', '2024-01-23 21:47:12', 0.39, None)\n",
      "(812, 'F1', 'e', 'f', 'e->f', '2024-01-23 21:47:12', '2024-01-23 21:51:12', 0.39, '20000091')\n",
      "(813, 'F1', 'f', 'a', 'f->e->g->c->a', '2024-01-24 06:01:00', '2024-01-24 06:05:00', 0.235, None)\n",
      "(814, 'F1', 'a', 'd', 'a->d', '2024-01-24 06:05:00', '2024-01-24 06:09:00', 0.235, '20000118')\n",
      "(815, 'F1', 'd', 'a', 'd->a', '2024-01-24 06:09:00', '2024-01-24 06:11:00', 0.16, None)\n",
      "(816, 'F1', 'a', 'b', 'a->b', '2024-01-24 06:11:00', '2024-01-24 06:14:00', 0.16, '20000122')\n",
      "(817, 'F1', 'b', 'g', 'b->c->g', '2024-01-24 06:14:25', '2024-01-24 06:15:30', 0.0975, None)\n",
      "(818, 'F3', 'f', 'h', 'f->e->h', '2024-01-24 07:07:42', '2024-01-24 07:09:42', 0.3346153846153846, None)\n",
      "(819, 'F3', 'h', 'e', 'h->e', '2024-01-24 07:09:42', '2024-01-24 07:12:42', 0.3346153846153846, '20000103')\n",
      "(820, 'F3', 'e', 'c', 'e->g->c', '2024-01-24 07:43:24', '2024-01-24 07:44:24', 0.23846153846153847, None)\n",
      "(821, 'F3', 'c', 'e', 'c->g->e', '2024-01-24 07:44:24', '2024-01-24 07:47:24', 0.23846153846153847, '20000095')\n",
      "(822, 'F3', 'e', 'f', 'e->f', '2024-01-24 08:34:18', '2024-01-24 08:38:18', 0.18461538461538463, '20000103')\n",
      "(823, 'F1', 'g', 'c', 'g->c', '2024-01-24 09:16:24', '2024-01-24 09:17:24', 0.98, None)\n",
      "(824, 'F3', 'f', 'g', 'f->e->g', '2024-01-24 09:16:01.538462', '2024-01-24 09:17:30', 0.03076923076923077, None)\n",
      "(825, 'F1', 'c', 'e', 'c->g->e', '2024-01-24 09:17:24', '2024-01-24 09:21:24', 0.98, '20000092')\n",
      "(826, 'F1', 'e', 'f', 'e->f', '2024-01-24 09:29:18', '2024-01-24 09:33:18', 0.945, '20000095')\n",
      "(827, 'F1', 'f', 'b', 'f->e->g->c->b', '2024-01-24 09:39:06', '2024-01-24 09:42:06', 0.8125, None)\n",
      "(828, 'F1', 'b', 'd', 'b->d', '2024-01-24 09:42:06', '2024-01-24 09:45:06', 0.8125, '20000122')\n",
      "(829, 'F1', 'd', 'e', 'd->e', '2024-01-24 10:06:30', '2024-01-24 10:08:30', 0.7475, None)\n",
      "(830, 'F1', 'e', 'f', 'e->f', '2024-01-24 10:08:30', '2024-01-24 10:12:30', 0.7475, '20000092')\n",
      "(831, 'F1', 'f', 'd', 'f->e->d', '2024-01-24 10:58:18', '2024-01-24 11:01:18', 0.62, None)\n",
      "(832, 'F1', 'd', 'e', 'd->e', '2024-01-24 11:01:18', '2024-01-24 11:05:18', 0.62, '20000118')\n",
      "(833, 'F1', 'e', 'f', 'e->f', '2024-01-24 12:22:48', '2024-01-24 12:26:48', 0.5775, '20000118')\n",
      "(834, 'F3', 'g', 'c', 'g->c', '2024-01-24 13:06:54', '2024-01-24 13:07:54', 0.9692307692307692, None)\n",
      "(835, 'F3', 'c', 'e', 'c->g->e', '2024-01-24 13:07:54', '2024-01-24 13:10:54', 0.9692307692307692, '20000096')\n",
      "(836, 'F3', 'e', 'f', 'e->f', '2024-01-24 14:14:06', '2024-01-24 14:18:06', 0.9153846153846154, '20000096')\n",
      "(837, 'F1', 'f', 'c', 'f->e->g->c', '2024-01-24 15:33:06', '2024-01-24 15:36:06', 0.4575, None)\n",
      "(838, 'F3', 'f', 'a', 'f->e->g->c->a', '2024-01-24 15:34:00', '2024-01-24 15:37:00', 0.676923076923077, None)\n",
      "(839, 'F3', 'a', 'c', 'a->c', '2024-01-24 15:37:00', '2024-01-24 15:40:00', 0.676923076923077, '20000104')\n",
      "(840, 'F1', 'c', 'e', 'c->g->e', '2024-01-24 15:36:06', '2024-01-24 15:40:06', 0.4575, '20000097')\n",
      "(841, 'F3', 'c', 'd', 'c->b->d', '2024-01-24 15:48:12', '2024-01-24 15:49:12', 0.5692307692307692, None)\n",
      "(842, 'F3', 'd', 'h', 'd->e->h', '2024-01-24 15:49:12', '2024-01-24 15:53:12', 0.5692307692307692, '20000122')\n",
      "(843, 'F1', 'e', 'f', 'e->f', '2024-01-24 17:37:06', '2024-01-24 17:41:06', 0.4225, '20000097')\n",
      "(844, 'F3', 'h', 'c', 'h->g->c', '2024-01-24 19:36:42', '2024-01-24 19:38:42', 0.39615384615384613, None)\n",
      "(845, 'F2', 'f', 'a', 'f->e->g->c->a', '2024-01-24 19:37:00', '2024-01-24 19:40:00', 0.21, None)\n",
      "(846, 'F1', 'f', 'a', 'f->e->g->c->a', '2024-01-24 19:37:00', '2024-01-24 19:41:00', 0.2675, None)\n",
      "(847, 'F3', 'c', 'e', 'c->g->e', '2024-01-24 19:38:42', '2024-01-24 19:41:42', 0.39615384615384613, '20000098')\n",
      "(848, 'F2', 'a', 'b', 'a->b', '2024-01-24 19:40:00', '2024-01-24 19:43:00', 0.21, '20000109')\n",
      "(849, 'F1', 'a', 'b', 'a->b', '2024-01-24 19:41:00', '2024-01-24 19:44:00', 0.2675, '20000107')\n",
      "(850, 'F2', 'b', 'a', 'b->a', '2024-01-24 19:43:00', '2024-01-24 19:44:00', 0.13, None)\n",
      "(851, 'F1', 'b', 'a', 'b->a', '2024-01-24 19:44:00', '2024-01-24 19:45:00', 0.2075, None)\n",
      "(852, 'F2', 'a', 'c', 'a->c', '2024-01-24 19:44:00', '2024-01-24 19:47:00', 0.13, '20000110')\n",
      "(853, 'F2', 'c', 'g', 'c->g', '2024-01-24 19:46:57.333333', '2024-01-24 19:47:24', 0.056666666666666664, None)\n",
      "(854, 'F1', 'a', 'b', 'a->b', '2024-01-24 19:45:00', '2024-01-24 19:48:00', 0.2075, '20000108')\n",
      "(855, 'F3', 'e', 'f', 'e->f', '2024-01-24 20:19:48', '2024-01-24 20:23:48', 0.3423076923076923, '20000098')\n",
      "(856, 'F1', 'b', 'c', 'b->c', '2024-01-24 20:28:12', '2024-01-24 20:29:12', 0.165, None)\n",
      "(857, 'F3', 'f', 'a', 'f->e->g->c->a', '2024-01-24 20:29:00', '2024-01-24 20:32:00', 0.10384615384615385, None)\n",
      "(858, 'F1', 'c', 'e', 'c->g->e', '2024-01-24 20:29:12', '2024-01-24 20:33:12', 0.165, '20000100')\n",
      "(859, 'F3', 'a', 'c', 'a->c', '2024-01-24 20:32:00', '2024-01-24 20:35:00', 0.10384615384615385, '20000111')\n",
      "(860, 'F3', 'c', 'b', 'c->b', '2024-01-24 21:03:54', '2024-01-24 21:04:54', 0.03076923076923077, None)\n",
      "(861, 'F3', 'b', 'c', 'b->c', '2024-01-24 21:04:54', '2024-01-24 21:07:54', 0.03076923076923077, '20000107')\n",
      "(862, 'F1', 'e', 'f', 'e->f', '2024-01-24 21:34:06', '2024-01-24 21:38:06', 0.13, '20000100')\n",
      "(863, 'F3', 'c', 'g', 'c->g', '2024-01-25 06:01:05.230769', '2024-01-25 06:01:36', -0.019230769230769232, None)\n",
      "(864, 'F2', 'g', 'h', 'g->h', '2024-01-25 06:01:00', '2024-01-25 06:02:00', 0.97, None)\n",
      "(865, 'F2', 'h', 'e', 'h->e', '2024-01-25 06:02:00', '2024-01-25 06:05:00', 0.97, '20000122')\n",
      "(866, 'F2', 'e', 'b', 'e->g->c->b', '2024-01-25 06:52:18', '2024-01-25 06:54:18', 0.87, None)\n",
      "(867, 'F2', 'b', 'c', 'b->c', '2024-01-25 06:54:18', '2024-01-25 06:57:18', 0.87, '20000108')\n",
      "(868, 'F1', 'f', 'e', 'f->e', '2024-01-25 07:59:18', '2024-01-25 08:01:18', 0.045, None)\n",
      "(869, 'F1', 'e', 'f', 'e->f', '2024-01-25 08:01:18', '2024-01-25 08:05:18', 0.045, '20000122')\n",
      "(870, 'F1', 'f', 'g', 'f->e->g', '2024-01-25 08:14:35', '2024-01-25 08:16:30', -0.055, None)\n",
      "(871, 'F3', 'g', 'a', 'g->c->a', '2024-01-25 08:15:00', '2024-01-25 08:17:00', 0.9153846153846154, None)\n",
      "(872, 'F3', 'a', 'd', 'a->d', '2024-01-25 08:17:00', '2024-01-25 08:20:00', 0.9153846153846154, '20000123')\n",
      "(873, 'F3', 'd', 'a', 'd->a', '2024-01-25 08:20:00', '2024-01-25 08:21:00', 0.8, None)\n",
      "(874, 'F3', 'a', 'b', 'a->b', '2024-01-25 08:21:00', '2024-01-25 08:24:00', 0.8, '20000129')\n",
      "(875, 'F3', 'b', 'c', 'b->c', '2024-01-25 08:47:54', '2024-01-25 08:50:54', 0.7538461538461538, '20000109')\n",
      "(876, 'F3', 'c', 'e', 'c->g->e', '2024-01-25 10:11:36', '2024-01-25 10:14:36', 0.7346153846153847, '20000101')\n",
      "(877, 'F3', 'e', 'f', 'e->f', '2024-01-25 11:15:00', '2024-01-25 11:19:00', 0.6807692307692308, '20000101')\n",
      "(878, 'F2', 'c', 'b', 'c->b', '2024-01-25 12:38:06', '2024-01-25 12:39:06', 0.8366666666666667, None)\n",
      "(879, 'F2', 'b', 'd', 'b->d', '2024-01-25 12:39:06', '2024-01-25 12:42:06', 0.8366666666666667, '20000129')\n",
      "(880, 'F1', 'g', 'c', 'g->c', '2024-01-25 12:48:24', '2024-01-25 12:49:24', 0.98, None)\n",
      "(881, 'F1', 'c', 'e', 'c->g->e', '2024-01-25 12:49:24', '2024-01-25 12:53:24', 0.98, '20000102')\n",
      "(882, 'F2', 'd', 'e', 'd->e', '2024-01-25 13:27:24', '2024-01-25 13:30:24', 0.8066666666666666, '20000123')\n",
      "(883, 'F1', 'e', 'f', 'e->f', '2024-01-25 14:40:30', '2024-01-25 14:44:30', 0.945, '20000102')\n",
      "(884, 'F2', 'e', 'f', 'e->f', '2024-01-25 15:58:54', '2024-01-25 16:01:54', 0.75, '20000123')\n",
      "(885, 'F1', 'f', 'd', 'f->e->d', '2024-01-25 19:04:12', '2024-01-25 19:07:12', 0.8175, None)\n",
      "(886, 'F1', 'd', 'h', 'd->e->h', '2024-01-25 19:07:12', '2024-01-25 19:12:12', 0.8175, '20000129')\n",
      "(887, 'F1', 'h', 'c', 'h->g->c', '2024-01-25 19:19:54', '2024-01-25 19:21:54', 0.705, None)\n",
      "(888, 'F1', 'c', 'd', 'c->b->d', '2024-01-25 19:21:54', '2024-01-25 19:25:54', 0.705, '20000104')\n",
      "(889, 'F1', 'd', 'c', 'd->b->c', '2024-01-25 21:36:12', '2024-01-25 21:38:12', 0.635, None)\n",
      "(890, 'F3', 'f', 'a', 'f->e->g->c->a', '2024-01-25 21:37:00', '2024-01-25 21:40:00', 0.4423076923076923, None)\n",
      "(891, 'F2', 'f', 'a', 'f->e->g->c->a', '2024-01-25 21:37:00', '2024-01-25 21:40:00', 0.5433333333333333, None)\n",
      "(892, 'F1', 'c', 'h', 'c->g->h', '2024-01-25 21:38:12', '2024-01-25 21:42:12', 0.635, '20000110')\n",
      "(893, 'F3', 'a', 'b', 'a->b', '2024-01-25 21:40:00', '2024-01-25 21:43:00', 0.4423076923076923, '20000112')\n",
      "(894, 'F2', 'a', 'c', 'a->c', '2024-01-25 21:40:00', '2024-01-25 21:43:00', 0.5433333333333333, '20000115')\n",
      "(895, 'F3', 'b', 'a', 'b->a', '2024-01-25 21:43:00', '2024-01-25 21:44:00', 0.35, None)\n",
      "(896, 'F3', 'a', 'b', 'a->b', '2024-01-25 21:44:00', '2024-01-25 21:47:00', 0.35, '20000114')\n",
      "(897, 'F3', 'b', 'a', 'b->a', '2024-01-26 06:01:00', '2024-01-26 06:02:00', 0.25769230769230766, None)\n",
      "(898, 'F2', 'c', 'a', 'c->a', '2024-01-26 06:01:00', '2024-01-26 06:02:00', 0.45, None)\n",
      "(899, 'F3', 'a', 'd', 'a->d', '2024-01-26 06:02:00', '2024-01-26 06:05:00', 0.25769230769230766, '20000130')\n",
      "(900, 'F2', 'a', 'b', 'a->b', '2024-01-26 06:02:00', '2024-01-26 06:05:00', 0.45, '20000137')\n",
      "(901, 'F3', 'd', 'g', 'd->b->c->g', '2024-01-26 06:04:59.384615', '2024-01-26 06:06:24', 0.11538461538461539, None)\n",
      "(902, 'F2', 'b', 'c', 'b->c', '2024-01-26 07:57:54', '2024-01-26 08:00:54', 0.41, '20000112')\n",
      "(903, 'F2', 'c', 'd', 'c->b->d', '2024-01-26 08:38:30', '2024-01-26 08:39:30', 0.3466666666666667, None)\n",
      "(904, 'F2', 'd', 'h', 'd->e->h', '2024-01-26 08:39:30', '2024-01-26 08:43:30', 0.3466666666666667, '20000104')\n",
      "(905, 'F2', 'h', 'g', 'h->g', '2024-01-26 08:43:54', '2024-01-26 08:44:24', 0.22333333333333333, None)\n",
      "(906, 'F1', 'h', 'e', 'h->e', '2024-01-26 08:59:48', '2024-01-26 09:02:48', 0.5925, '20000129')\n",
      "(907, 'F3', 'g', 'b', 'g->c->b', '2024-01-26 09:19:30', '2024-01-26 09:20:30', 0.95, None)\n",
      "(908, 'F3', 'b', 'c', 'b->c', '2024-01-26 09:20:30', '2024-01-26 09:23:30', 0.95, '20000114')\n",
      "(909, 'F3', 'c', 'e', 'c->g->e', '2024-01-26 09:40:12', '2024-01-26 09:43:12', 0.9307692307692308, '20000107')\n",
      "(910, 'F1', 'e', 'f', 'e->f', '2024-01-26 10:55:12', '2024-01-26 10:59:12', 0.565, '20000129')\n",
      "(911, 'F3', 'e', 'f', 'e->f', '2024-01-26 12:00:06', '2024-01-26 12:04:06', 0.8769230769230769, '20000107')\n",
      "(912, 'F2', 'g', 'c', 'g->c', '2024-01-26 12:47:42', '2024-01-26 12:48:42', 0.9733333333333334, None)\n",
      "(913, 'F2', 'c', 'd', 'c->b->d', '2024-01-26 12:48:42', '2024-01-26 12:51:42', 0.9733333333333334, '20000111')\n",
      "(914, 'F2', 'd', 'a', 'd->a', '2024-01-26 12:52:00', '2024-01-26 12:53:00', 0.8766666666666667, None)\n",
      "(915, 'F1', 'f', 'b', 'f->e->g->c->b', '2024-01-26 12:50:48', '2024-01-26 12:53:48', 0.4325, None)\n",
      "(916, 'F2', 'a', 'c', 'a->c', '2024-01-26 12:53:00', '2024-01-26 12:56:00', 0.8766666666666667, '20000116')\n",
      "(917, 'F1', 'b', 'd', 'b->d', '2024-01-26 12:53:48', '2024-01-26 12:56:48', 0.4325, '20000137')\n",
      "(918, 'F2', 'c', 'h', 'c->g->h', '2024-01-26 13:05:48', '2024-01-26 13:06:48', 0.7733333333333333, None)\n",
      "(919, 'F2', 'h', 'e', 'h->e', '2024-01-26 13:06:48', '2024-01-26 13:09:48', 0.7733333333333333, '20000110')\n",
      "(920, 'F1', 'd', 'e', 'd->e', '2024-01-26 13:32:54', '2024-01-26 13:36:54', 0.41, '20000130')\n",
      "(921, 'F1', 'e', 'f', 'e->f', '2024-01-26 14:31:42', '2024-01-26 14:35:42', 0.3675, '20000110')\n",
      "(922, 'F2', 'e', 'c', 'e->g->c', '2024-01-26 15:46:18', '2024-01-26 15:47:18', 0.69, None)\n",
      "(923, 'F2', 'c', 'e', 'c->g->e', '2024-01-26 15:47:18', '2024-01-26 15:50:18', 0.69, '20000108')\n",
      "(924, 'F2', 'e', 'f', 'e->f', '2024-01-26 16:06:12', '2024-01-26 16:09:12', 0.6433333333333333, '20000130')\n",
      "(925, 'F1', 'f', 'e', 'f->e', '2024-01-26 17:12:30', '2024-01-26 17:14:30', 0.2825, None)\n",
      "(926, 'F1', 'e', 'f', 'e->f', '2024-01-26 17:14:30', '2024-01-26 17:18:30', 0.2825, '20000108')\n",
      "(927, 'F1', 'f', 'g', 'f->e->g', '2024-01-26 17:18:53', '2024-01-26 17:20:48', 0.1825, None)\n",
      "(928, 'F3', 'f', 'd', 'f->e->d', '2024-01-26 19:07:30', '2024-01-26 19:10:30', 0.6807692307692308, None)\n",
      "(929, 'F3', 'd', 'h', 'd->e->h', '2024-01-26 19:10:30', '2024-01-26 19:14:30', 0.6807692307692308, '20000111')\n",
      "(930, 'F1', 'g', 'h', 'g->h', '2024-01-26 20:04:48', '2024-01-26 20:05:48', 0.9775, None)\n",
      "(931, 'F1', 'h', 'e', 'h->e', '2024-01-26 20:05:48', '2024-01-26 20:08:48', 0.9775, '20000104')\n",
      "(932, 'F1', 'e', 'a', 'e->g->c->a', '2024-01-29 06:01:00', '2024-01-29 06:04:00', 0.88, None)\n",
      "(933, 'F1', 'a', 'd', 'a->d', '2024-01-29 06:04:00', '2024-01-29 06:08:00', 0.88, '20000138')\n",
      "(934, 'F1', 'd', 'c', 'd->b->c', '2024-01-29 06:10:36', '2024-01-29 06:12:36', 0.8075, None)\n",
      "(935, 'F3', 'h', 'a', 'h->g->c->a', '2024-01-29 06:11:00', '2024-01-29 06:13:00', 0.45384615384615384, None)\n",
      "(936, 'F2', 'f', 'a', 'f->e->g->c->a', '2024-01-29 06:11:00', '2024-01-29 06:14:00', 0.43666666666666665, None)\n",
      "(937, 'F3', 'a', 'b', 'a->b', '2024-01-29 06:13:00', '2024-01-29 06:16:00', 0.45384615384615384, '20000117')\n",
      "(938, 'F1', 'c', 'e', 'c->g->e', '2024-01-29 06:12:36', '2024-01-29 06:16:36', 0.8075, '20000109')\n",
      "(939, 'F2', 'a', 'b', 'a->b', '2024-01-29 06:14:00', '2024-01-29 06:17:00', 0.43666666666666665, '20000121')\n",
      "(940, 'F3', 'b', 'a', 'b->a', '2024-01-29 06:16:00', '2024-01-29 06:17:00', 0.36153846153846153, None)\n",
      "(941, 'F2', 'b', 'a', 'b->a', '2024-01-29 06:17:00', '2024-01-29 06:18:00', 0.3566666666666667, None)\n",
      "(942, 'F1', 'e', 'a', 'e->g->c->a', '2024-01-29 06:17:00', '2024-01-29 06:20:00', 0.7025, None)\n",
      "(943, 'F3', 'a', 'b', 'a->b', '2024-01-29 06:17:00', '2024-01-29 06:20:00', 0.36153846153846153, '20000119')\n",
      "(944, 'F2', 'a', 'b', 'a->b', '2024-01-29 06:18:00', '2024-01-29 06:21:00', 0.3566666666666667, '20000124')\n",
      "(945, 'F3', 'b', 'a', 'b->a', '2024-01-29 06:20:00', '2024-01-29 06:21:00', 0.2692307692307692, None)\n",
      "(946, 'F1', 'a', 'b', 'a->b', '2024-01-29 06:20:00', '2024-01-29 06:23:00', 0.7025, '20000120')\n",
      "(947, 'F3', 'a', 'c', 'a->c', '2024-01-29 06:21:00', '2024-01-29 06:24:00', 0.2692307692307692, '20000126')\n",
      "(948, 'F1', 'b', 'a', 'b->a', '2024-01-29 06:23:00', '2024-01-29 06:24:00', 0.6425, None)\n",
      "(949, 'F3', 'c', 'g', 'c->g', '2024-01-29 06:24:17.230769', '2024-01-29 06:24:48', 0.18461538461538463, None)\n",
      "(950, 'F1', 'a', 'b', 'a->b', '2024-01-29 06:24:00', '2024-01-29 06:27:00', 0.6425, '20000125')\n",
      "(951, 'F1', 'b', 'c', 'b->c', '2024-01-29 07:33:18', '2024-01-29 07:34:18', 0.6, None)\n",
      "(952, 'F2', 'b', 'a', 'b->a', '2024-01-29 07:34:00', '2024-01-29 07:35:00', 0.27666666666666667, None)\n",
      "(953, 'F2', 'a', 'c', 'a->c', '2024-01-29 07:35:00', '2024-01-29 07:38:00', 0.27666666666666667, '20000127')\n",
      "(954, 'F1', 'c', 'h', 'c->g->h', '2024-01-29 07:34:18', '2024-01-29 07:38:18', 0.6, '20000115')\n",
      "(955, 'F1', 'h', 'e', 'h->e', '2024-01-29 07:52:18', '2024-01-29 07:55:18', 0.5575, '20000111')\n",
      "(956, 'F2', 'c', 'g', 'c->g', '2024-01-29 08:11:21.333333', '2024-01-29 08:11:48', 0.20333333333333334, None)\n",
      "(957, 'F3', 'g', 'e', 'g->e', '2024-01-29 08:11:30', '2024-01-29 08:12:30', 0.9769230769230769, None)\n",
      "(958, 'F3', 'e', 'f', 'e->f', '2024-01-29 08:12:30', '2024-01-29 08:16:30', 0.9769230769230769, '20000104')\n",
      "(959, 'F1', 'e', 'f', 'e->f', '2024-01-29 08:28:30', '2024-01-29 08:32:30', 0.53, '20000109')\n",
      "(960, 'F1', 'f', 'd', 'f->e->d', '2024-01-29 08:47:12', '2024-01-29 08:50:12', 0.4025, None)\n",
      "(961, 'F1', 'd', 'h', 'd->e->h', '2024-01-29 08:50:12', '2024-01-29 08:55:12', 0.4025, '20000137')\n",
      "(962, 'F1', 'h', 'b', 'h->g->c->b', '2024-01-29 10:09:00', '2024-01-29 10:11:00', 0.2775, None)\n",
      "(963, 'F2', 'g', 'b', 'g->c->b', '2024-01-29 10:12:06', '2024-01-29 10:13:06', 0.9566666666666667, None)\n",
      "(964, 'F1', 'b', 'c', 'b->c', '2024-01-29 10:11:00', '2024-01-29 10:14:00', 0.2775, '20000119')\n",
      "(965, 'F1', 'c', 'g', 'c->g', '2024-01-29 10:14:14', '2024-01-29 10:14:54', 0.245, None)\n",
      "(966, 'F2', 'b', 'c', 'b->c', '2024-01-29 10:13:06', '2024-01-29 10:16:06', 0.9566666666666667, '20000117')\n",
      "(967, 'F2', 'c', 'h', 'c->g->h', '2024-01-29 11:45:12', '2024-01-29 11:46:12', 0.8833333333333333, None)\n",
      "(968, 'F2', 'h', 'e', 'h->e', '2024-01-29 11:46:12', '2024-01-29 11:49:12', 0.8833333333333333, '20000115')\n",
      "(969, 'F2', 'e', 'c', 'e->g->c', '2024-01-29 11:57:24', '2024-01-29 11:58:24', 0.8, None)\n",
      "(970, 'F2', 'c', 'e', 'c->g->e', '2024-01-29 11:58:24', '2024-01-29 12:01:24', 0.8, '20000114')\n",
      "(971, 'F2', 'e', 'b', 'e->g->c->b', '2024-01-29 12:31:54', '2024-01-29 12:33:54', 0.69, None)\n",
      "(972, 'F2', 'b', 'c', 'b->c', '2024-01-29 12:33:54', '2024-01-29 12:36:54', 0.69, '20000120')\n",
      "(973, 'F1', 'g', 'e', 'g->e', '2024-01-29 12:46:42', '2024-01-29 12:47:42', 0.985, None)\n",
      "(974, 'F1', 'e', 'f', 'e->f', '2024-01-29 12:47:42', '2024-01-29 12:51:42', 0.985, '20000111')\n",
      "(975, 'F2', 'c', 'e', 'c->g->e', '2024-01-29 12:57:42', '2024-01-29 13:00:42', 0.6733333333333333, '20000112')\n",
      "(976, 'F2', 'e', 'f', 'e->f', '2024-01-29 13:15:12', '2024-01-29 13:18:12', 0.6266666666666667, '20000115')\n",
      "(977, 'F1', 'f', 'd', 'f->e->d', '2024-01-29 14:06:30', '2024-01-29 14:09:30', 0.8575, None)\n",
      "(978, 'F1', 'd', 'e', 'd->e', '2024-01-29 14:09:30', '2024-01-29 14:13:30', 0.8575, '20000138')\n",
      "(979, 'F1', 'e', 'f', 'e->f', '2024-01-29 14:16:48', '2024-01-29 14:20:48', 0.815, '20000114')\n",
      "(980, 'F1', 'f', 'b', 'f->e->g->c->b', '2024-01-29 14:24:48', '2024-01-29 14:27:48', 0.6825, None)\n",
      "(981, 'F1', 'b', 'c', 'b->c', '2024-01-29 14:27:48', '2024-01-29 14:30:48', 0.6825, '20000121')\n",
      "(982, 'F1', 'c', 'e', 'c->g->e', '2024-01-29 15:01:42', '2024-01-29 15:03:42', 0.635, None)\n",
      "(983, 'F1', 'e', 'f', 'e->f', '2024-01-29 15:03:42', '2024-01-29 15:07:42', 0.635, '20000112')\n",
      "(984, 'F1', 'f', 'h', 'f->e->h', '2024-01-29 16:09:30', '2024-01-29 16:12:30', 0.5225, None)\n",
      "(985, 'F1', 'h', 'e', 'h->e', '2024-01-29 16:12:30', '2024-01-29 16:15:30', 0.5225, '20000137')\n",
      "(986, 'F1', 'e', 'b', 'e->g->c->b', '2024-01-29 16:26:00', '2024-01-29 16:28:00', 0.4475, None)\n",
      "(987, 'F3', 'f', 'e', 'f->e', '2024-01-29 16:27:36', '2024-01-29 16:29:36', 0.8461538461538461, None)\n",
      "(988, 'F1', 'b', 'c', 'b->c', '2024-01-29 16:28:00', '2024-01-29 16:31:00', 0.4475, '20000124')\n",
      "(989, 'F3', 'e', 'f', 'e->f', '2024-01-29 16:29:36', '2024-01-29 16:33:36', 0.8461538461538461, '20000138')\n",
      "(990, 'F1', 'c', 'e', 'c->g->e', '2024-01-29 18:05:54', '2024-01-29 18:07:54', 0.4, None)\n",
      "(991, 'F1', 'e', 'f', 'e->f', '2024-01-29 18:07:54', '2024-01-29 18:11:54', 0.4, '20000137')\n",
      "(992, 'F1', 'f', 'b', 'f->e->g->c->b', '2024-01-29 18:23:24', '2024-01-29 18:26:24', 0.2675, None)\n",
      "(993, 'F1', 'b', 'c', 'b->c', '2024-01-29 18:26:24', '2024-01-29 18:29:24', 0.2675, '20000125')\n",
      "(994, 'F1', 'c', 'g', 'c->g', '2024-01-29 18:29:26', '2024-01-29 18:30:06', 0.235, None)\n",
      "(995, 'F1', 'g', 'c', 'g->c', '2024-01-29 21:03:06', '2024-01-29 21:04:06', 0.98, None)\n",
      "(996, 'F1', 'c', 'd', 'c->b->d', '2024-01-29 21:04:06', '2024-01-29 21:08:06', 0.98, '20000116')\n",
      "(997, 'F1', 'd', 'c', 'd->b->c', '2024-01-29 21:31:18', '2024-01-29 21:33:18', 0.91, None)\n",
      "(998, 'F1', 'c', 'h', 'c->g->h', '2024-01-29 21:33:18', '2024-01-29 21:37:18', 0.91, '20000126')\n",
      "(999, 'F1', 'h', 'a', 'h->g->c->a', '2024-01-30 06:01:00', '2024-01-30 06:04:00', 0.79, None)\n",
      "(1000, 'F1', 'a', 'b', 'a->b', '2024-01-30 06:04:00', '2024-01-30 06:07:00', 0.79, '20000147')\n",
      "(1001, 'F1', 'b', 'h', 'b->c->g->h', '2024-01-30 09:36:18', '2024-01-30 09:38:18', 0.705, None)\n",
      "(1002, 'F1', 'h', 'e', 'h->e', '2024-01-30 09:38:18', '2024-01-30 09:41:18', 0.705, '20000126')\n",
      "(1003, 'F1', 'e', 'b', 'e->g->c->b', '2024-01-30 09:41:42', '2024-01-30 09:43:42', 0.63, None)\n",
      "(1004, 'F1', 'b', 'd', 'b->d', '2024-01-30 09:43:42', '2024-01-30 09:46:42', 0.63, '20000147')\n",
      "(1005, 'F1', 'd', 'c', 'd->b->c', '2024-01-30 09:49:42', '2024-01-30 09:51:42', 0.5725, None)\n",
      "(1006, 'F1', 'c', 'e', 'c->g->e', '2024-01-30 09:51:42', '2024-01-30 09:55:42', 0.5725, '20000119')\n",
      "(1007, 'F1', 'e', 'd', 'e->d', '2024-01-30 10:35:54', '2024-01-30 10:37:54', 0.495, None)\n",
      "(1008, 'F1', 'd', 'h', 'd->e->h', '2024-01-30 10:37:54', '2024-01-30 10:42:54', 0.495, '20000116')\n",
      "(1009, 'F1', 'h', 'e', 'h->e', '2024-01-30 10:51:48', '2024-01-30 10:52:48', 0.3975, None)\n",
      "(1010, 'F1', 'e', 'f', 'e->f', '2024-01-30 10:52:48', '2024-01-30 10:56:48', 0.3975, '20000126')\n",
      "(1011, 'F1', 'f', 'e', 'f->e', '2024-01-30 11:53:06', '2024-01-30 11:55:06', 0.3125, None)\n",
      "(1012, 'F1', 'e', 'f', 'e->f', '2024-01-30 11:55:06', '2024-01-30 11:59:06', 0.3125, '20000119')\n",
      "(1013, 'F1', 'f', 'g', 'f->e->g', '2024-01-30 11:59:35', '2024-01-30 12:01:30', 0.2125, None)\n",
      "(1014, 'F1', 'g', 'c', 'g->c', '2024-01-30 14:39:30', '2024-01-30 14:40:30', 0.98, None)\n",
      "(1015, 'F1', 'c', 'd', 'c->b->d', '2024-01-30 14:40:30', '2024-01-30 14:44:30', 0.98, '20000127')\n",
      "(1016, 'F1', 'd', 'c', 'd->b->c', '2024-01-30 16:33:12', '2024-01-30 16:35:12', 0.91, None)\n",
      "(1017, 'F3', 'f', 'a', 'f->e->g->c->a', '2024-01-30 16:34:00', '2024-01-30 16:37:00', 0.6076923076923076, None)\n",
      "(1018, 'F2', 'f', 'a', 'f->e->g->c->a', '2024-01-30 16:34:00', '2024-01-30 16:37:00', 0.42, None)\n",
      "(1019, 'F1', 'c', 'e', 'c->g->e', '2024-01-30 16:35:12', '2024-01-30 16:39:12', 0.91, '20000117')\n",
      "(1020, 'F3', 'a', 'b', 'a->b', '2024-01-30 16:37:00', '2024-01-30 16:40:00', 0.6076923076923076, '20000128')\n",
      "(1021, 'F2', 'a', 'b', 'a->b', '2024-01-30 16:37:00', '2024-01-30 16:40:00', 0.42, '20000133')\n",
      "(1022, 'F3', 'b', 'a', 'b->a', '2024-01-30 16:40:00', '2024-01-30 16:41:00', 0.5153846153846153, None)\n",
      "(1023, 'F2', 'b', 'a', 'b->a', '2024-01-30 16:40:00', '2024-01-30 16:41:00', 0.34, None)\n",
      "(1024, 'F1', 'e', 'a', 'e->g->c->a', '2024-01-30 16:40:00', '2024-01-30 16:43:00', 0.805, None)\n",
      "(1025, 'F3', 'a', 'b', 'a->b', '2024-01-30 16:41:00', '2024-01-30 16:44:00', 0.5153846153846153, '20000131')\n",
      "(1026, 'F2', 'a', 'c', 'a->c', '2024-01-30 16:41:00', '2024-01-30 16:44:00', 0.34, '20000134')\n",
      "(1027, 'F2', 'c', 'g', 'c->g', '2024-01-30 16:43:57.333333', '2024-01-30 16:44:24', 0.26666666666666666, None)\n",
      "(1028, 'F1', 'a', 'b', 'a->b', '2024-01-30 16:43:00', '2024-01-30 16:46:00', 0.805, '20000132')\n",
      "(1029, 'F1', 'b', 'd', 'b->d', '2024-01-30 17:13:36', '2024-01-30 17:14:36', 0.7525, None)\n",
      "(1030, 'F1', 'd', 'h', 'd->e->h', '2024-01-30 17:14:36', '2024-01-30 17:19:36', 0.7525, '20000147')\n",
      "(1031, 'F3', 'b', 'e', 'b->c->g->e', '2024-01-30 17:19:12', '2024-01-30 17:21:12', 0.39615384615384613, None)\n",
      "(1032, 'F3', 'e', 'f', 'e->f', '2024-01-30 17:21:12', '2024-01-30 17:25:12', 0.39615384615384613, '20000117')\n",
      "(1033, 'F2', 'g', 'h', 'g->h', '2024-01-30 18:35:06', '2024-01-30 18:36:06', 0.97, None)\n",
      "(1034, 'F2', 'h', 'e', 'h->e', '2024-01-30 18:36:06', '2024-01-30 18:39:06', 0.97, '20000116')\n",
      "(1035, 'F1', 'h', 'b', 'h->g->c->b', '2024-01-30 18:56:24', '2024-01-30 18:58:24', 0.6275, None)\n",
      "(1036, 'F1', 'b', 'c', 'b->c', '2024-01-30 18:58:24', '2024-01-30 19:01:24', 0.6275, '20000128')\n",
      "(1037, 'F1', 'c', 'e', 'c->g->e', '2024-01-30 19:37:12', '2024-01-30 19:41:12', 0.615, '20000120')\n",
      "(1038, 'F1', 'e', 'b', 'e->g->c->b', '2024-01-30 20:16:36', '2024-01-30 20:18:36', 0.5325, None)\n",
      "(1039, 'F1', 'b', 'c', 'b->c', '2024-01-30 20:18:36', '2024-01-30 20:21:36', 0.5325, '20000131')\n",
      "(1040, 'F2', 'e', 'f', 'e->f', '2024-01-30 21:02:24', '2024-01-30 21:05:24', 0.9333333333333333, '20000116')\n",
      "(1041, 'F1', 'c', 'h', 'c->g->h', '2024-01-30 21:53:18', '2024-01-30 21:55:18', 0.4775, None)\n",
      "(1042, 'F1', 'h', 'e', 'h->e', '2024-01-30 21:55:18', '2024-01-30 21:58:18', 0.4775, '20000147')\n",
      "(1043, 'F1', 'e', 'b', 'e->g->c->b', '2024-01-31 06:01:00', '2024-01-31 06:03:00', 0.4025, None)\n",
      "(1044, 'F3', 'f', 'a', 'f->e->g->c->a', '2024-01-31 06:01:00', '2024-01-31 06:04:00', 0.1576923076923077, None)\n",
      "(1045, 'F1', 'b', 'c', 'b->c', '2024-01-31 06:03:00', '2024-01-31 06:06:00', 0.4025, '20000132')\n",
      "(1046, 'F3', 'a', 'b', 'a->b', '2024-01-31 06:04:00', '2024-01-31 06:07:00', 0.1576923076923077, '20000153')\n",
      "(1047, 'F3', 'b', 'g', 'b->c->g', '2024-01-31 06:07:28', '2024-01-31 06:08:18', 0.06153846153846154, None)\n",
      "(1048, 'F1', 'c', 'a', 'c->a', '2024-01-31 06:07:00', '2024-01-31 06:09:00', 0.355, None)\n",
      "(1049, 'F1', 'a', 'd', 'a->d', '2024-01-31 06:09:00', '2024-01-31 06:13:00', 0.355, '20000148')\n",
      "(1050, 'F1', 'd', 'e', 'd->e', '2024-01-31 06:22:30', '2024-01-31 06:24:30', 0.275, None)\n",
      "(1051, 'F1', 'e', 'f', 'e->f', '2024-01-31 06:24:30', '2024-01-31 06:28:30', 0.275, '20000120')\n",
      "(1052, 'F1', 'f', 'b', 'f->e->g->c->b', '2024-01-31 07:49:00', '2024-01-31 07:52:00', 0.1425, None)\n",
      "(1053, 'F1', 'b', 'c', 'b->c', '2024-01-31 07:52:00', '2024-01-31 07:55:00', 0.1425, '20000133')\n",
      "(1054, 'F1', 'c', 'g', 'c->g', '2024-01-31 08:10:44', '2024-01-31 08:11:24', 0.11, None)\n",
      "(1055, 'F3', 'g', 'd', 'g->c->b->d', '2024-01-31 08:10:18', '2024-01-31 08:12:18', 0.9153846153846154, None)\n",
      "(1056, 'F3', 'd', 'h', 'd->e->h', '2024-01-31 08:12:18', '2024-01-31 08:16:18', 0.9153846153846154, '20000127')\n",
      "(1057, 'F3', 'h', 'e', 'h->e', '2024-01-31 08:17:12', '2024-01-31 08:18:12', 0.7653846153846153, None)\n",
      "(1058, 'F3', 'e', 'f', 'e->f', '2024-01-31 08:18:12', '2024-01-31 08:22:12', 0.7653846153846153, '20000147')\n",
      "(1059, 'F3', 'f', 'c', 'f->e->g->c', '2024-01-31 10:07:48', '2024-01-31 10:09:48', 0.5807692307692308, None)\n",
      "(1060, 'F3', 'c', 'e', 'c->g->e', '2024-01-31 10:09:48', '2024-01-31 10:12:48', 0.5807692307692308, '20000121')\n",
      "(1061, 'F3', 'e', 'd', 'e->d', '2024-01-31 10:44:18', '2024-01-31 10:46:18', 0.46153846153846156, None)\n",
      "(1062, 'F3', 'd', 'e', 'd->e', '2024-01-31 10:46:18', '2024-01-31 10:50:18', 0.46153846153846156, '20000148')\n",
      "(1063, 'F1', 'g', 'c', 'g->c', '2024-01-31 11:10:00', '2024-01-31 11:11:00', 0.98, None)\n",
      "(1064, 'F1', 'c', 'e', 'c->g->e', '2024-01-31 11:11:00', '2024-01-31 11:15:00', 0.98, '20000124')\n",
      "(1065, 'F1', 'e', 'b', 'e->g->c->b', '2024-01-31 11:50:06', '2024-01-31 11:52:06', 0.8975, None)\n",
      "(1066, 'F1', 'b', 'd', 'b->d', '2024-01-31 11:52:06', '2024-01-31 11:55:06', 0.8975, '20000153')\n",
      "(1067, 'F3', 'e', 'f', 'e->f', '2024-01-31 11:59:00', '2024-01-31 12:03:00', 0.39615384615384613, '20000121')\n",
      "(1068, 'F1', 'd', 'h', 'd->e->h', '2024-01-31 12:35:24', '2024-01-31 12:38:24', 0.805, None)\n",
      "(1069, 'F1', 'h', 'e', 'h->e', '2024-01-31 12:38:24', '2024-01-31 12:41:24', 0.805, '20000127')\n",
      "(1070, 'F1', 'e', 'f', 'e->f', '2024-01-31 13:19:12', '2024-01-31 13:23:12', 0.7775, '20000148')\n",
      "(1071, 'F1', 'f', 'e', 'f->e', '2024-01-31 14:23:24', '2024-01-31 14:25:24', 0.6925, None)\n",
      "(1072, 'F1', 'e', 'f', 'e->f', '2024-01-31 14:25:24', '2024-01-31 14:29:24', 0.6925, '20000124')\n",
      "(1073, 'F1', 'f', 'e', 'f->e', '2024-01-31 16:36:30', '2024-01-31 16:38:30', 0.6075, None)\n",
      "(1074, 'F1', 'e', 'f', 'e->f', '2024-01-31 16:38:30', '2024-01-31 16:42:30', 0.6075, '20000127')\n",
      "(1075, 'F1', 'f', 'd', 'f->e->d', '2024-01-31 17:17:12', '2024-01-31 17:20:12', 0.48, None)\n",
      "(1076, 'F1', 'd', 'h', 'd->e->h', '2024-01-31 17:20:12', '2024-01-31 17:25:12', 0.48, '20000153')\n",
      "(1077, 'F1', 'h', 'c', 'h->g->c', '2024-01-31 17:32:12', '2024-01-31 17:34:12', 0.3675, None)\n",
      "(1078, 'F3', 'f', 'c', 'f->e->g->c', '2024-01-31 17:35:36', '2024-01-31 17:37:36', 0.21153846153846154, None)\n",
      "(1079, 'F1', 'c', 'h', 'c->g->h', '2024-01-31 17:34:12', '2024-01-31 17:38:12', 0.3675, '20000134')\n",
      "(1080, 'F2', 'f', 'a', 'f->e->g->c->a', '2024-01-31 17:36:00', '2024-01-31 17:39:00', 0.7266666666666667, None)\n",
      "(1081, 'F3', 'c', 'e', 'c->g->e', '2024-01-31 17:37:36', '2024-01-31 17:40:36', 0.21153846153846154, '20000125')\n",
      "(1082, 'F3', 'e', 'g', 'e->g', '2024-01-31 17:40:54.923077', '2024-01-31 17:41:18', 0.1346153846153846, None)\n",
      "(1083, 'F2', 'a', 'c', 'a->c', '2024-01-31 17:39:00', '2024-01-31 17:42:00', 0.7266666666666667, '20000135')\n",
      "(1084, 'F3', 'g', 'e', 'g->e', '2024-01-31 19:33:48', '2024-01-31 19:34:48', 0.9769230769230769, None)\n",
      "(1085, 'F3', 'e', 'f', 'e->f', '2024-01-31 19:34:48', '2024-01-31 19:38:48', 0.9769230769230769, '20000125')\n",
      "(1086, 'F1', 'h', 'e', 'h->e', '2024-01-31 21:53:00', '2024-01-31 21:56:00', 0.325, '20000153')\n",
      "(1087, 'F1', 'e', 'g', 'e->g', '2024-01-31 21:56:18', '2024-01-31 21:56:48', 0.2825, None)\n",
      "(1088, 'F2', 'c', 'a', 'c->a', '2024-02-01 06:01:00', '2024-02-01 06:02:00', 0.6333333333333333, None)\n",
      "(1089, 'F1', 'g', 'a', 'g->c->a', '2024-02-01 06:01:00', '2024-02-01 06:03:00', 0.945, None)\n",
      "(1090, 'F2', 'a', 'd', 'a->d', '2024-02-01 06:02:00', '2024-02-01 06:05:00', 0.6333333333333333, '20000155')\n",
      "(1091, 'F1', 'a', 'b', 'a->b', '2024-02-01 06:03:00', '2024-02-01 06:06:00', 0.945, '20000161')\n",
      "(1092, 'F1', 'b', 'c', 'b->c', '2024-02-01 06:38:12', '2024-02-01 06:39:12', 0.9025, None)\n",
      "(1093, 'F2', 'd', 'a', 'd->a', '2024-02-01 06:39:00', '2024-02-01 06:40:00', 0.5333333333333333, None)\n",
      "(1094, 'F3', 'f', 'a', 'f->e->g->c->a', '2024-02-01 06:39:00', '2024-02-01 06:42:00', 0.7384615384615385, None)\n",
      "(1095, 'F2', 'a', 'b', 'a->b', '2024-02-01 06:40:00', '2024-02-01 06:43:00', 0.5333333333333333, '20000136')\n",
      "(1096, 'F1', 'c', 'e', 'c->g->e', '2024-02-01 06:39:12', '2024-02-01 06:43:12', 0.9025, '20000131')\n",
      "(1097, 'F2', 'b', 'a', 'b->a', '2024-02-01 06:43:00', '2024-02-01 06:44:00', 0.4533333333333333, None)\n",
      "(1098, 'F3', 'a', 'b', 'a->b', '2024-02-01 06:42:00', '2024-02-01 06:45:00', 0.7384615384615385, '20000140')\n",
      "(1099, 'F3', 'b', 'a', 'b->a', '2024-02-01 06:45:00', '2024-02-01 06:46:00', 0.6461538461538462, None)\n",
      "(1100, 'F2', 'a', 'b', 'a->b', '2024-02-01 06:44:00', '2024-02-01 06:47:00', 0.4533333333333333, '20000139')\n",
      "(1101, 'F3', 'a', 'c', 'a->c', '2024-02-01 06:46:00', '2024-02-01 06:49:00', 0.6461538461538462, '20000141')\n",
      "(1102, 'F1', 'e', 'f', 'e->f', '2024-02-01 07:55:24', '2024-02-01 07:59:24', 0.8675, '20000153')\n",
      "(1103, 'F3', 'c', 'e', 'c->g->e', '2024-02-01 08:52:12', '2024-02-01 08:53:12', 0.5384615384615384, None)\n",
      "(1104, 'F3', 'e', 'f', 'e->f', '2024-02-01 08:53:12', '2024-02-01 08:57:12', 0.5384615384615384, '20000131')\n",
      "(1105, 'F2', 'b', 'd', 'b->d', '2024-02-01 09:22:54', '2024-02-01 09:25:54', 0.41333333333333333, '20000161')\n",
      "(1106, 'F1', 'f', 'h', 'f->e->h', '2024-02-01 09:55:12', '2024-02-01 09:58:12', 0.755, None)\n",
      "(1107, 'F1', 'h', 'e', 'h->e', '2024-02-01 09:58:12', '2024-02-01 10:01:12', 0.755, '20000134')\n",
      "(1108, 'F2', 'd', 'a', 'd->a', '2024-02-01 10:18:00', '2024-02-01 10:19:00', 0.3333333333333333, None)\n",
      "(1109, 'F1', 'e', 'c', 'e->g->c', '2024-02-01 10:17:54', '2024-02-01 10:19:54', 0.6925, None)\n",
      "(1110, 'F2', 'a', 'c', 'a->c', '2024-02-01 10:19:00', '2024-02-01 10:22:00', 0.3333333333333333, '20000142')\n",
      "(1111, 'F2', 'c', 'g', 'c->g', '2024-02-01 10:22:21.333333', '2024-02-01 10:22:48', 0.26, None)\n",
      "(1112, 'F1', 'c', 'e', 'c->g->e', '2024-02-01 10:19:54', '2024-02-01 10:23:54', 0.6925, '20000128')\n",
      "(1113, 'F1', 'e', 'f', 'e->f', '2024-02-01 11:22:42', '2024-02-01 11:26:42', 0.6575, '20000134')\n",
      "(1114, 'F1', 'f', 'b', 'f->e->g->c->b', '2024-02-01 11:44:06', '2024-02-01 11:47:06', 0.525, None)\n",
      "(1115, 'F1', 'b', 'c', 'b->c', '2024-02-01 11:47:06', '2024-02-01 11:50:06', 0.525, '20000136')\n",
      "(1116, 'F1', 'c', 'e', 'c->g->e', '2024-02-01 12:04:30', '2024-02-01 12:06:30', 0.4775, None)\n",
      "(1117, 'F1', 'e', 'f', 'e->f', '2024-02-01 12:06:30', '2024-02-01 12:10:30', 0.4775, '20000128')\n",
      "(1118, 'F2', 'g', 'd', 'g->c->b->d', '2024-02-01 12:14:24', '2024-02-01 12:16:24', 0.9266666666666666, None)\n",
      "(1119, 'F2', 'd', 'e', 'd->e', '2024-02-01 12:16:24', '2024-02-01 12:19:24', 0.9266666666666666, '20000155')\n",
      "(1120, 'F2', 'e', 'c', 'e->g->c', '2024-02-01 12:39:24', '2024-02-01 12:40:24', 0.8233333333333334, None)\n",
      "(1121, 'F2', 'c', 'e', 'c->g->e', '2024-02-01 12:40:24', '2024-02-01 12:43:24', 0.8233333333333334, '20000132')\n",
      "(1122, 'F2', 'e', 'b', 'e->g->c->b', '2024-02-01 13:06:42', '2024-02-01 13:08:42', 0.7133333333333334, None)\n",
      "(1123, 'F2', 'b', 'c', 'b->c', '2024-02-01 13:08:42', '2024-02-01 13:11:42', 0.7133333333333334, '20000139')\n",
      "(1124, 'F1', 'f', 'e', 'f->e', '2024-02-01 13:52:30', '2024-02-01 13:54:30', 0.3925, None)\n",
      "(1125, 'F1', 'e', 'f', 'e->f', '2024-02-01 13:54:30', '2024-02-01 13:58:30', 0.3925, '20000155')\n",
      "(1126, 'F2', 'c', 'b', 'c->b', '2024-02-01 14:50:48', '2024-02-01 14:51:48', 0.68, None)\n",
      "(1127, 'F2', 'b', 'c', 'b->c', '2024-02-01 14:51:48', '2024-02-01 14:54:48', 0.68, '20000140')\n",
      "(1128, 'F1', 'f', 'e', 'f->e', '2024-02-01 14:54:12', '2024-02-01 14:56:12', 0.3075, None)\n",
      "(1129, 'F1', 'e', 'f', 'e->f', '2024-02-01 14:56:12', '2024-02-01 15:00:12', 0.3075, '20000132')\n",
      "(1130, 'F1', 'f', 'g', 'f->e->g', '2024-02-01 15:00:17', '2024-02-01 15:02:12', 0.2075, None)\n",
      "(1131, 'F2', 'c', 'd', 'c->b->d', '2024-02-01 16:54:24', '2024-02-01 16:55:24', 0.6166666666666667, None)\n",
      "(1132, 'F2', 'd', 'h', 'd->e->h', '2024-02-01 16:55:24', '2024-02-01 16:59:24', 0.6166666666666667, '20000161')\n",
      "(1133, 'F1', 'g', 'c', 'g->c', '2024-02-01 20:17:30', '2024-02-01 20:18:30', 0.98, None)\n",
      "(1134, 'F1', 'c', 'e', 'c->g->e', '2024-02-01 20:18:30', '2024-02-01 20:22:30', 0.98, '20000133')\n",
      "(1135, 'F2', 'h', 'e', 'h->e', '2024-02-01 20:51:12', '2024-02-01 20:54:12', 0.5233333333333333, '20000161')\n",
      "(1136, 'F1', 'e', 'a', 'e->g->c->a', '2024-02-02 06:01:00', '2024-02-02 06:04:00', 0.875, None)\n",
      "(1137, 'F1', 'a', 'd', 'a->d', '2024-02-02 06:04:00', '2024-02-02 06:08:00', 0.875, '20000162')\n",
      "(1138, 'F2', 'e', 'f', 'e->f', '2024-02-02 06:19:48', '2024-02-02 06:22:48', 0.4866666666666667, '20000133')\n",
      "(1139, 'F1', 'd', 'c', 'd->b->c', '2024-02-02 07:04:06', '2024-02-02 07:06:06', 0.8025, None)\n",
      "(1140, 'F1', 'c', 'd', 'c->b->d', '2024-02-02 07:06:06', '2024-02-02 07:10:06', 0.8025, '20000135')\n",
      "(1141, 'F1', 'd', 'e', 'd->e', '2024-02-02 08:26:06', '2024-02-02 08:28:06', 0.725, None)\n",
      "(1142, 'F1', 'e', 'f', 'e->f', '2024-02-02 08:28:06', '2024-02-02 08:32:06', 0.725, '20000161')\n",
      "(1143, 'F1', 'f', 'd', 'f->e->d', '2024-02-02 11:05:48', '2024-02-02 11:08:48', 0.5975, None)\n",
      "(1144, 'F1', 'd', 'e', 'd->e', '2024-02-02 11:08:48', '2024-02-02 11:12:48', 0.5975, '20000162')\n",
      "(1145, 'F1', 'e', 'c', 'e->g->c', '2024-02-02 11:53:42', '2024-02-02 11:55:42', 0.52, None)\n",
      "(1146, 'F3', 'f', 'a', 'f->e->g->c->a', '2024-02-02 11:54:00', '2024-02-02 11:57:00', 0.3, None)\n",
      "(1147, 'F2', 'f', 'a', 'f->e->g->c->a', '2024-02-02 11:54:00', '2024-02-02 11:57:00', 0.28, None)\n",
      "(1148, 'F1', 'c', 'h', 'c->g->h', '2024-02-02 11:55:42', '2024-02-02 11:59:42', 0.52, '20000141')\n",
      "(1149, 'F3', 'a', 'b', 'a->b', '2024-02-02 11:57:00', '2024-02-02 12:00:00', 0.3, '20000143')\n",
      "(1150, 'F2', 'a', 'c', 'a->c', '2024-02-02 11:57:00', '2024-02-02 12:00:00', 0.28, '20000145')\n",
      "(1151, 'F2', 'c', 'g', 'c->g', '2024-02-02 12:00:09.333333', '2024-02-02 12:00:36', 0.20666666666666667, None)\n",
      "(1152, 'F3', 'b', 'a', 'b->a', '2024-02-02 12:00:00', '2024-02-02 12:01:00', 0.2076923076923077, None)\n",
      "(1153, 'F3', 'a', 'b', 'a->b', '2024-02-02 12:01:00', '2024-02-02 12:04:00', 0.2076923076923077, '20000144')\n",
      "(1154, 'F1', 'h', 'e', 'h->e', '2024-02-02 12:36:30', '2024-02-02 12:37:30', 0.45, None)\n",
      "(1155, 'F1', 'e', 'f', 'e->f', '2024-02-02 12:37:30', '2024-02-02 12:41:30', 0.45, '20000162')\n",
      "(1156, 'F3', 'b', 'g', 'b->c->g', '2024-02-02 13:59:40', '2024-02-02 14:00:30', 0.11153846153846154, None)\n",
      "(1157, 'F2', 'g', 'c', 'g->c', '2024-02-02 15:24:42', '2024-02-02 15:25:42', 0.9733333333333334, None)\n",
      "(1158, 'F2', 'c', 'd', 'c->b->d', '2024-02-02 15:25:42', '2024-02-02 15:28:42', 0.9733333333333334, '20000142')\n",
      "(1159, 'F3', 'g', 'b', 'g->c->b', '2024-02-02 15:56:30', '2024-02-02 15:57:30', 0.95, None)\n",
      "(1160, 'F3', 'b', 'c', 'b->c', '2024-02-02 15:57:30', '2024-02-02 16:00:30', 0.95, '20000143')\n",
      "(1161, 'F3', 'c', 'a', 'c->a', '2024-02-02 16:01:00', '2024-02-02 16:02:00', 0.8769230769230769, None)\n",
      "(1162, 'F3', 'a', 'c', 'a->c', '2024-02-02 16:02:00', '2024-02-02 16:05:00', 0.8769230769230769, '20000146')\n",
      "(1163, 'F3', 'c', 'b', 'c->b', '2024-02-02 16:15:12', '2024-02-02 16:16:12', 0.8038461538461539, None)\n",
      "(1164, 'F3', 'b', 'c', 'b->c', '2024-02-02 16:16:12', '2024-02-02 16:19:12', 0.8038461538461539, '20000144')\n",
      "(1165, 'F2', 'd', 'h', 'd->e->h', '2024-02-02 16:39:00', '2024-02-02 16:43:00', 0.9266666666666666, '20000135')\n",
      "(1166, 'F2', 'h', 'e', 'h->e', '2024-02-02 17:40:18', '2024-02-02 17:43:18', 0.8333333333333334, '20000141')\n",
      "(1167, 'F2', 'e', 'f', 'e->f', '2024-02-02 18:54:18', '2024-02-02 18:57:18', 0.7966666666666666, '20000141')\n",
      "(1168, 'F3', 'c', 'e', 'c->g->e', '2024-02-02 19:44:12', '2024-02-02 19:47:12', 0.7846153846153846, '20000139')\n",
      "(1169, 'F3', 'e', 'c', 'e->g->c', '2024-02-02 20:34:30', '2024-02-02 20:35:30', 0.676923076923077, None)\n",
      "(1170, 'F3', 'c', 'e', 'c->g->e', '2024-02-02 20:35:30', '2024-02-02 20:38:30', 0.676923076923077, '20000136')\n",
      "(1171, 'F3', 'e', 'f', 'e->f', '2024-02-02 20:47:24', '2024-02-02 20:51:24', 0.6230769230769231, '20000139')\n",
      "(1172, 'F1', 'f', 'e', 'f->e', '2024-02-02 21:24:42', '2024-02-02 21:26:42', 0.365, None)\n",
      "(1173, 'F1', 'e', 'f', 'e->f', '2024-02-02 21:26:42', '2024-02-02 21:30:42', 0.365, '20000136')\n",
      "(1174, 'F1', 'f', 'a', 'f->e->g->c->a', '2024-02-05 06:01:00', '2024-02-05 06:05:00', 0.21, None)\n",
      "(1175, 'F1', 'a', 'b', 'a->b', '2024-02-05 06:05:00', '2024-02-05 06:08:00', 0.21, '20000173')\n",
      "(1176, 'F1', 'b', 'g', 'b->c->g', '2024-02-05 06:08:01', '2024-02-05 06:09:06', 0.1475, None)\n",
      "(1177, 'F1', 'g', 'd', 'g->c->b->d', '2024-02-05 08:59:36', '2024-02-05 09:01:36', 0.945, None)\n",
      "(1178, 'F1', 'd', 'h', 'd->e->h', '2024-02-05 09:01:36', '2024-02-05 09:06:36', 0.945, '20000142')\n",
      "(1179, 'F1', 'h', 'e', 'h->e', '2024-02-05 09:06:48', '2024-02-05 09:09:48', 0.875, '20000135')\n",
      "(1180, 'F1', 'e', 'b', 'e->g->c->b', '2024-02-05 10:23:06', '2024-02-05 10:25:06', 0.8, None)\n",
      "(1181, 'F1', 'b', 'd', 'b->d', '2024-02-05 10:25:06', '2024-02-05 10:28:06', 0.8, '20000173')\n",
      "(1182, 'F1', 'd', 'c', 'd->b->c', '2024-02-05 11:03:54', '2024-02-05 11:05:54', 0.7425, None)\n",
      "(1183, 'F3', 'f', 'a', 'f->e->g->c->a', '2024-02-05 11:04:00', '2024-02-05 11:07:00', 0.38461538461538464, None)\n",
      "(1184, 'F2', 'f', 'a', 'f->e->g->c->a', '2024-02-05 11:04:00', '2024-02-05 11:07:00', 0.59, None)\n",
      "(1185, 'F1', 'c', 'e', 'c->g->e', '2024-02-05 11:05:54', '2024-02-05 11:09:54', 0.7425, '20000140')\n",
      "(1186, 'F3', 'a', 'b', 'a->b', '2024-02-05 11:07:00', '2024-02-05 11:10:00', 0.38461538461538464, '20000149')\n",
      "(1187, 'F2', 'a', 'b', 'a->b', '2024-02-05 11:07:00', '2024-02-05 11:10:00', 0.59, '20000152')\n",
      "(1188, 'F3', 'b', 'a', 'b->a', '2024-02-05 11:10:00', '2024-02-05 11:11:00', 0.2923076923076923, None)\n",
      "(1189, 'F2', 'b', 'a', 'b->a', '2024-02-05 11:10:00', '2024-02-05 11:11:00', 0.51, None)\n",
      "(1190, 'F1', 'e', 'a', 'e->g->c->a', '2024-02-05 11:10:00', '2024-02-05 11:13:00', 0.6375, None)\n",
      "(1191, 'F3', 'a', 'b', 'a->b', '2024-02-05 11:11:00', '2024-02-05 11:14:00', 0.2923076923076923, '20000150')\n",
      "(1192, 'F2', 'a', 'c', 'a->c', '2024-02-05 11:11:00', '2024-02-05 11:14:00', 0.51, '20000154')\n",
      "(1193, 'F3', 'b', 'g', 'b->c->g', '2024-02-05 11:14:04', '2024-02-05 11:14:54', 0.19615384615384615, None)\n",
      "(1194, 'F1', 'a', 'b', 'a->b', '2024-02-05 11:13:00', '2024-02-05 11:16:00', 0.6375, '20000151')\n",
      "(1195, 'F2', 'c', 'e', 'c->g->e', '2024-02-05 11:28:48', '2024-02-05 11:29:48', 0.4166666666666667, None)\n",
      "(1196, 'F2', 'e', 'f', 'e->f', '2024-02-05 11:29:48', '2024-02-05 11:32:48', 0.4166666666666667, '20000135')\n",
      "(1197, 'F1', 'b', 'e', 'b->c->g->e', '2024-02-05 12:30:48', '2024-02-05 12:32:48', 0.56, None)\n",
      "(1198, 'F1', 'e', 'f', 'e->f', '2024-02-05 12:32:48', '2024-02-05 12:36:48', 0.56, '20000140')\n",
      "(1199, 'F3', 'g', 'b', 'g->c->b', '2024-02-05 13:00:00', '2024-02-05 13:01:00', 0.95, None)\n",
      "(1200, 'F2', 'f', 'a', 'f->e->g->c->a', '2024-02-05 12:59:00', '2024-02-05 13:02:00', 0.21, None)\n",
      "(1201, 'F1', 'f', 'a', 'f->e->g->c->a', '2024-02-05 12:59:00', '2024-02-05 13:03:00', 0.405, None)\n",
      "(1202, 'F3', 'b', 'c', 'b->c', '2024-02-05 13:01:00', '2024-02-05 13:04:00', 0.95, '20000149')\n",
      "(1203, 'F2', 'a', 'b', 'a->b', '2024-02-05 13:02:00', '2024-02-05 13:05:00', 0.21, '20000158')\n",
      "(1204, 'F1', 'a', 'b', 'a->b', '2024-02-05 13:03:00', '2024-02-05 13:06:00', 0.405, '20000156')\n",
      "(1205, 'F2', 'b', 'a', 'b->a', '2024-02-05 13:05:00', '2024-02-05 13:06:00', 0.13, None)\n",
      "(1206, 'F1', 'b', 'a', 'b->a', '2024-02-05 13:06:00', '2024-02-05 13:07:00', 0.345, None)\n",
      "(1207, 'F3', 'c', 'h', 'c->g->h', '2024-02-05 13:04:00', '2024-02-05 13:08:00', 0.9307692307692308, '20000145')\n",
      "(1208, 'F2', 'a', 'c', 'a->c', '2024-02-05 13:06:00', '2024-02-05 13:09:00', 0.13, '20000159')\n",
      "(1209, 'F2', 'c', 'g', 'c->g', '2024-02-05 13:09:21.333333', '2024-02-05 13:09:48', 0.056666666666666664, None)\n",
      "(1210, 'F1', 'a', 'b', 'a->b', '2024-02-05 13:07:00', '2024-02-05 13:10:00', 0.345, '20000157')\n",
      "(1211, 'F3', 'h', 'e', 'h->e', '2024-02-05 13:59:00', '2024-02-05 14:02:00', 0.8653846153846154, '20000142')\n",
      "(1212, 'F1', 'b', 'c', 'b->c', '2024-02-05 14:19:48', '2024-02-05 14:22:48', 0.315, '20000150')\n",
      "(1213, 'F1', 'c', 'd', 'c->b->d', '2024-02-05 15:59:24', '2024-02-05 16:01:24', 0.2675, None)\n",
      "(1214, 'F1', 'd', 'h', 'd->e->h', '2024-02-05 16:01:24', '2024-02-05 16:06:24', 0.2675, '20000173')\n",
      "(1215, 'F1', 'h', 'g', 'h->g', '2024-02-05 16:06:51', '2024-02-05 16:07:36', 0.175, None)\n",
      "(1216, 'F2', 'g', 'b', 'g->c->b', '2024-02-05 16:11:24', '2024-02-05 16:12:24', 0.9566666666666667, None)\n",
      "(1217, 'F2', 'b', 'c', 'b->c', '2024-02-05 16:12:24', '2024-02-05 16:15:24', 0.9566666666666667, '20000151')\n",
      "(1218, 'F3', 'e', 'f', 'e->f', '2024-02-05 16:31:48', '2024-02-05 16:35:48', 0.823076923076923, '20000142')\n",
      "(1219, 'F2', 'c', 'e', 'c->g->e', '2024-02-05 17:45:12', '2024-02-05 17:48:12', 0.94, '20000143')\n",
      "(1220, 'F2', 'e', 'b', 'e->g->c->b', '2024-02-05 18:12:48', '2024-02-05 18:14:48', 0.83, None)\n",
      "(1221, 'F2', 'b', 'c', 'b->c', '2024-02-05 18:14:48', '2024-02-05 18:17:48', 0.83, '20000152')\n",
      "(1222, 'F2', 'c', 'e', 'c->g->e', '2024-02-05 18:32:00', '2024-02-05 18:33:00', 0.7666666666666667, None)\n",
      "(1223, 'F2', 'e', 'f', 'e->f', '2024-02-05 18:33:00', '2024-02-05 18:36:00', 0.7666666666666667, '20000143')\n",
      "(1224, 'F1', 'g', 'h', 'g->h', '2024-02-05 18:53:24', '2024-02-05 18:54:24', 0.9775, None)\n",
      "(1225, 'F1', 'h', 'e', 'h->e', '2024-02-05 18:54:24', '2024-02-05 18:57:24', 0.9775, '20000145')\n",
      "(1226, 'F1', 'e', 'b', 'e->g->c->b', '2024-02-05 19:43:42', '2024-02-05 19:45:42', 0.9025, None)\n",
      "(1227, 'F1', 'b', 'c', 'b->c', '2024-02-05 19:45:42', '2024-02-05 19:48:42', 0.9025, '20000156')\n",
      "(1228, 'F1', 'c', 'e', 'c->g->e', '2024-02-05 20:27:24', '2024-02-05 20:29:24', 0.855, None)\n",
      "(1229, 'F1', 'e', 'f', 'e->f', '2024-02-05 20:29:24', '2024-02-05 20:33:24', 0.855, '20000145')\n",
      "(1230, 'F1', 'f', 'a', 'f->e->g->c->a', '2024-02-06 06:01:00', '2024-02-06 06:05:00', 0.7, None)\n",
      "(1231, 'F1', 'a', 'd', 'a->d', '2024-02-06 06:05:00', '2024-02-06 06:09:00', 0.7, '20000174')\n",
      "(1232, 'F1', 'd', 'a', 'd->a', '2024-02-06 06:09:00', '2024-02-06 06:11:00', 0.625, None)\n",
      "(1233, 'F1', 'a', 'b', 'a->b', '2024-02-06 06:11:00', '2024-02-06 06:14:00', 0.625, '20000178')\n",
      "(1234, 'F1', 'b', 'c', 'b->c', '2024-02-06 06:14:12', '2024-02-06 06:17:12', 0.595, '20000157')\n",
      "(1235, 'F1', 'c', 'd', 'c->b->d', '2024-02-06 06:19:36', '2024-02-06 06:23:36', 0.5825, '20000146')\n",
      "(1236, 'F1', 'd', 'h', 'd->e->h', '2024-02-06 07:22:54', '2024-02-06 07:25:54', 0.4775, None)\n",
      "(1237, 'F1', 'h', 'e', 'h->e', '2024-02-06 07:25:54', '2024-02-06 07:28:54', 0.4775, '20000173')\n",
      "(1238, 'F1', 'e', 'b', 'e->g->c->b', '2024-02-06 08:09:00', '2024-02-06 08:11:00', 0.4025, None)\n",
      "(1239, 'F1', 'b', 'c', 'b->c', '2024-02-06 08:11:00', '2024-02-06 08:14:00', 0.4025, '20000158')\n",
      "(1240, 'F1', 'c', 'e', 'c->g->e', '2024-02-06 09:30:54', '2024-02-06 09:32:54', 0.355, None)\n",
      "(1241, 'F1', 'e', 'f', 'e->f', '2024-02-06 09:32:54', '2024-02-06 09:36:54', 0.355, '20000173')\n",
      "(1242, 'F1', 'f', 'c', 'f->e->g->c', '2024-02-06 09:40:36', '2024-02-06 09:43:36', 0.235, None)\n",
      "(1243, 'F1', 'c', 'e', 'c->g->e', '2024-02-06 09:43:36', '2024-02-06 09:47:36', 0.235, '20000144')\n",
      "(1244, 'F1', 'e', 'g', 'e->g', '2024-02-06 09:47:36', '2024-02-06 09:48:06', 0.185, None)\n",
      "(1245, 'F3', 'f', 'e', 'f->e', '2024-02-06 11:39:48', '2024-02-06 11:41:48', 0.6923076923076923, None)\n",
      "(1246, 'F3', 'e', 'f', 'e->f', '2024-02-06 11:41:48', '2024-02-06 11:45:48', 0.6923076923076923, '20000144')\n",
      "(1247, 'F3', 'f', 'b', 'f->e->g->c->b', '2024-02-06 11:49:48', '2024-02-06 11:52:48', 0.48846153846153845, None)\n",
      "(1248, 'F3', 'b', 'd', 'b->d', '2024-02-06 11:52:48', '2024-02-06 11:55:48', 0.48846153846153845, '20000178')\n",
      "(1249, 'F1', 'g', 'd', 'g->c->b->d', '2024-02-06 12:31:30', '2024-02-06 12:33:30', 0.945, None)\n",
      "(1250, 'F1', 'd', 'e', 'd->e', '2024-02-06 12:33:30', '2024-02-06 12:37:30', 0.945, '20000174')\n",
      "(1251, 'F1', 'e', 'c', 'e->g->c', '2024-02-06 14:05:12', '2024-02-06 14:07:12', 0.8675, None)\n",
      "(1252, 'F1', 'c', 'e', 'c->g->e', '2024-02-06 14:07:12', '2024-02-06 14:11:12', 0.8675, '20000149')\n",
      "(1253, 'F1', 'e', 'f', 'e->f', '2024-02-06 14:12:06', '2024-02-06 14:16:06', 0.8325, '20000174')\n",
      "(1254, 'F1', 'f', 'e', 'f->e', '2024-02-06 15:15:54', '2024-02-06 15:17:54', 0.7475, None)\n",
      "(1255, 'F1', 'e', 'f', 'e->f', '2024-02-06 15:17:54', '2024-02-06 15:21:54', 0.7475, '20000149')\n",
      "(1256, 'F3', 'd', 'h', 'd->e->h', '2024-02-06 16:30:00', '2024-02-06 16:34:00', 0.45384615384615384, '20000146')\n",
      "(1257, 'F3', 'h', 'c', 'h->g->c', '2024-02-06 16:53:00', '2024-02-06 16:55:00', 0.28076923076923077, None)\n",
      "(1258, 'F3', 'c', 'd', 'c->b->d', '2024-02-06 16:55:00', '2024-02-06 16:58:00', 0.28076923076923077, '20000154')\n",
      "(1259, 'F3', 'd', 'g', 'd->b->c->g', '2024-02-06 16:58:05.384615', '2024-02-06 16:59:30', 0.1423076923076923, None)\n",
      "(1260, 'F3', 'g', 'h', 'g->h', '2024-02-06 21:12:54', '2024-02-06 21:13:54', 0.9653846153846154, None)\n",
      "(1261, 'F3', 'h', 'e', 'h->e', '2024-02-06 21:13:54', '2024-02-06 21:16:54', 0.9653846153846154, '20000146')\n",
      "(1262, 'F3', 'e', 'a', 'e->g->c->a', '2024-02-07 06:01:00', '2024-02-07 06:03:00', 0.8153846153846154, None)\n",
      "(1263, 'F1', 'f', 'd', 'f->e->d', '2024-02-07 06:02:06', '2024-02-07 06:05:06', 0.62, None)\n",
      "(1264, 'F3', 'a', 'd', 'a->d', '2024-02-07 06:03:00', '2024-02-07 06:06:00', 0.8153846153846154, '20000179')\n",
      "(1265, 'F3', 'd', 'a', 'd->a', '2024-02-07 06:06:00', '2024-02-07 06:07:00', 0.7, None)\n",
      "(1266, 'F3', 'a', 'b', 'a->b', '2024-02-07 06:07:00', '2024-02-07 06:10:00', 0.7, '20000186')\n",
      "(1267, 'F1', 'd', 'h', 'd->e->h', '2024-02-07 06:05:06', '2024-02-07 06:10:06', 0.62, '20000178')\n",
      "(1268, 'F3', 'b', 'c', 'b->c', '2024-02-07 06:32:30', '2024-02-07 06:33:30', 0.6346153846153846, None)\n",
      "(1269, 'F3', 'c', 'e', 'c->g->e', '2024-02-07 06:33:30', '2024-02-07 06:36:30', 0.6346153846153846, '20000150')\n",
      "(1270, 'F3', 'e', 'c', 'e->g->c', '2024-02-07 06:49:30', '2024-02-07 06:50:30', 0.5269230769230769, None)\n",
      "(1271, 'F3', 'c', 'h', 'c->g->h', '2024-02-07 06:50:30', '2024-02-07 06:54:30', 0.5269230769230769, '20000159')\n",
      "(1272, 'F1', 'h', 'e', 'h->e', '2024-02-07 07:44:24', '2024-02-07 07:45:24', 0.5225, None)\n",
      "(1273, 'F1', 'e', 'f', 'e->f', '2024-02-07 07:45:24', '2024-02-07 07:49:24', 0.5225, '20000146')\n",
      "(1274, 'F3', 'h', 'e', 'h->e', '2024-02-07 08:49:24', '2024-02-07 08:50:24', 0.41923076923076924, None)\n",
      "(1275, 'F3', 'e', 'f', 'e->f', '2024-02-07 08:50:24', '2024-02-07 08:54:24', 0.41923076923076924, '20000150')\n",
      "(1276, 'F1', 'f', 'b', 'f->e->g->c->b', '2024-02-07 09:34:06', '2024-02-07 09:37:06', 0.39, None)\n",
      "(1277, 'F1', 'b', 'd', 'b->d', '2024-02-07 09:37:06', '2024-02-07 09:40:06', 0.39, '20000186')\n",
      "(1278, 'F1', 'd', 'h', 'd->e->h', '2024-02-07 10:28:42', '2024-02-07 10:31:42', 0.2975, None)\n",
      "(1279, 'F1', 'h', 'e', 'h->e', '2024-02-07 10:31:42', '2024-02-07 10:34:42', 0.2975, '20000178')\n",
      "(1280, 'F1', 'e', 'g', 'e->g', '2024-02-07 10:35:00', '2024-02-07 10:35:30', 0.255, None)\n",
      "(1281, 'F3', 'f', 'e', 'f->e', '2024-02-07 12:07:54', '2024-02-07 12:09:54', 0.28846153846153844, None)\n",
      "(1282, 'F3', 'e', 'f', 'e->f', '2024-02-07 12:09:54', '2024-02-07 12:13:54', 0.28846153846153844, '20000178')\n",
      "(1283, 'F3', 'f', 'g', 'f->e->g', '2024-02-07 13:04:31.538462', '2024-02-07 13:06:00', 0.1346153846153846, None)\n",
      "(1284, 'F1', 'g', 'd', 'g->c->b->d', '2024-02-07 13:04:42', '2024-02-07 13:06:42', 0.945, None)\n",
      "(1285, 'F1', 'd', 'h', 'd->e->h', '2024-02-07 13:06:42', '2024-02-07 13:11:42', 0.945, '20000154')\n",
      "(1286, 'F1', 'h', 'e', 'h->e', '2024-02-07 14:24:06', '2024-02-07 14:27:06', 0.875, '20000159')\n",
      "(1287, 'F1', 'e', 'c', 'e->g->c', '2024-02-07 14:27:36', '2024-02-07 14:29:36', 0.8125, None)\n",
      "(1288, 'F2', 'f', 'a', 'f->e->g->c->a', '2024-02-07 14:28:00', '2024-02-07 14:31:00', 0.56, None)\n",
      "(1289, 'F1', 'c', 'e', 'c->g->e', '2024-02-07 14:29:36', '2024-02-07 14:33:36', 0.8125, '20000152')\n",
      "(1290, 'F2', 'a', 'b', 'a->b', '2024-02-07 14:31:00', '2024-02-07 14:34:00', 0.56, '20000165')\n",
      "(1291, 'F2', 'b', 'a', 'b->a', '2024-02-07 14:34:00', '2024-02-07 14:35:00', 0.48, None)\n",
      "(1292, 'F1', 'e', 'a', 'e->g->c->a', '2024-02-07 14:34:00', '2024-02-07 14:37:00', 0.7075, None)\n",
      "(1293, 'F2', 'a', 'c', 'a->c', '2024-02-07 14:35:00', '2024-02-07 14:38:00', 0.48, '20000166')\n",
      "(1294, 'F1', 'a', 'b', 'a->b', '2024-02-07 14:37:00', '2024-02-07 14:40:00', 0.7075, '20000164')\n",
      "(1295, 'F3', 'g', 'a', 'g->c->a', '2024-02-07 14:59:00', '2024-02-07 15:01:00', 0.9153846153846154, None)\n",
      "(1296, 'F3', 'a', 'b', 'a->b', '2024-02-07 15:01:00', '2024-02-07 15:04:00', 0.9153846153846154, '20000160')\n",
      "(1297, 'F3', 'b', 'a', 'b->a', '2024-02-07 15:04:00', '2024-02-07 15:05:00', 0.823076923076923, None)\n",
      "(1298, 'F3', 'a', 'b', 'a->b', '2024-02-07 15:05:00', '2024-02-07 15:08:00', 0.823076923076923, '20000163')\n",
      "(1299, 'F1', 'b', 'a', 'b->a', '2024-02-07 15:30:00', '2024-02-07 15:31:00', 0.6475, None)\n",
      "(1300, 'F2', 'c', 'e', 'c->g->e', '2024-02-07 15:29:48', '2024-02-07 15:32:48', 0.43333333333333335, '20000151')\n",
      "(1301, 'F1', 'a', 'c', 'a->c', '2024-02-07 15:31:00', '2024-02-07 15:35:00', 0.6475, '20000167')\n",
      "(1302, 'F2', 'e', 'f', 'e->f', '2024-02-07 15:41:12', '2024-02-07 15:44:12', 0.38666666666666666, '20000159')\n",
      "(1303, 'F1', 'c', 'e', 'c->g->e', '2024-02-07 16:21:48', '2024-02-07 16:23:48', 0.5775, None)\n",
      "(1304, 'F1', 'e', 'f', 'e->f', '2024-02-07 16:23:48', '2024-02-07 16:27:48', 0.5775, '20000152')\n",
      "(1305, 'F3', 'b', 'd', 'b->d', '2024-02-07 17:04:06', '2024-02-07 17:05:06', 0.7423076923076923, None)\n",
      "(1306, 'F3', 'd', 'e', 'd->e', '2024-02-07 17:05:06', '2024-02-07 17:09:06', 0.7423076923076923, '20000179')\n",
      "(1307, 'F3', 'e', 'b', 'e->g->c->b', '2024-02-07 17:14:00', '2024-02-07 17:16:00', 0.6038461538461538, None)\n",
      "(1308, 'F3', 'b', 'c', 'b->c', '2024-02-07 17:16:00', '2024-02-07 17:19:00', 0.6038461538461538, '20000160')\n",
      "(1309, 'F3', 'c', 'e', 'c->g->e', '2024-02-07 18:15:36', '2024-02-07 18:16:36', 0.5307692307692308, None)\n",
      "(1310, 'F3', 'e', 'f', 'e->f', '2024-02-07 18:16:36', '2024-02-07 18:20:36', 0.5307692307692308, '20000151')\n",
      "(1311, 'F1', 'f', 'b', 'f->e->g->c->b', '2024-02-07 18:33:12', '2024-02-07 18:36:12', 0.445, None)\n",
      "(1312, 'F1', 'b', 'c', 'b->c', '2024-02-07 18:36:12', '2024-02-07 18:39:12', 0.445, '20000163')\n",
      "(1313, 'F1', 'c', 'e', 'c->g->e', '2024-02-07 18:57:12', '2024-02-07 19:01:12', 0.4325, '20000156')\n",
      "(1314, 'F1', 'e', 'f', 'e->f', '2024-02-07 19:51:18', '2024-02-07 19:55:18', 0.3975, '20000179')\n",
      "(1315, 'F1', 'f', 'h', 'f->e->h', '2024-02-07 19:57:00', '2024-02-07 20:00:00', 0.285, None)\n",
      "(1316, 'F1', 'h', 'e', 'h->e', '2024-02-07 20:00:00', '2024-02-07 20:03:00', 0.285, '20000154')\n",
      "(1317, 'F1', 'e', 'g', 'e->g', '2024-02-07 20:03:30', '2024-02-07 20:04:00', 0.2425, None)\n",
      "(1318, 'F3', 'f', 'e', 'f->e', '2024-02-07 20:55:18', '2024-02-07 20:57:18', 0.4, None)\n",
      "(1319, 'F3', 'e', 'f', 'e->f', '2024-02-07 20:57:18', '2024-02-07 21:01:18', 0.4, '20000156')\n",
      "(1320, 'F1', 'g', 'b', 'g->c->b', '2024-02-08 06:01:00', '2024-02-08 06:03:00', 0.9675, None)\n",
      "(1321, 'F3', 'f', 'a', 'f->e->g->c->a', '2024-02-08 06:01:00', '2024-02-08 06:04:00', 0.16153846153846155, None)\n",
      "(1322, 'F1', 'b', 'c', 'b->c', '2024-02-08 06:03:00', '2024-02-08 06:06:00', 0.9675, '20000164')\n",
      "(1323, 'F3', 'a', 'b', 'a->b', '2024-02-08 06:04:00', '2024-02-08 06:07:00', 0.16153846153846155, '20000193')\n",
      "(1324, 'F3', 'b', 'g', 'b->c->g', '2024-02-08 06:06:58', '2024-02-08 06:07:48', 0.06538461538461539, None)\n",
      "(1325, 'F1', 'c', 'a', 'c->a', '2024-02-08 06:07:00', '2024-02-08 06:09:00', 0.92, None)\n",
      "(1326, 'F1', 'a', 'd', 'a->d', '2024-02-08 06:09:00', '2024-02-08 06:13:00', 0.92, '20000187')\n",
      "(1327, 'F1', 'd', 'h', 'd->e->h', '2024-02-08 06:15:00', '2024-02-08 06:20:00', 0.8825, '20000186')\n",
      "(1328, 'F1', 'h', 'e', 'h->e', '2024-02-08 07:15:42', '2024-02-08 07:16:42', 0.785, None)\n",
      "(1329, 'F1', 'e', 'f', 'e->f', '2024-02-08 07:16:42', '2024-02-08 07:20:42', 0.785, '20000154')\n",
      "(1330, 'F1', 'f', 'b', 'f->e->g->c->b', '2024-02-08 07:28:00', '2024-02-08 07:31:00', 0.6525, None)\n",
      "(1331, 'F1', 'b', 'c', 'b->c', '2024-02-08 07:31:00', '2024-02-08 07:34:00', 0.6525, '20000165')\n",
      "(1332, 'F3', 'g', 'c', 'g->c', '2024-02-08 08:09:30', '2024-02-08 08:10:30', 0.9692307692307692, None)\n",
      "(1333, 'F3', 'c', 'e', 'c->g->e', '2024-02-08 08:10:30', '2024-02-08 08:13:30', 0.9692307692307692, '20000157')\n",
      "(1334, 'F3', 'e', 'f', 'e->f', '2024-02-08 09:23:06', '2024-02-08 09:27:06', 0.9153846153846154, '20000157')\n",
      "(1335, 'F1', 'c', 'e', 'c->g->e', '2024-02-08 09:28:12', '2024-02-08 09:32:12', 0.64, '20000158')\n",
      "(1336, 'F1', 'e', 'b', 'e->g->c->b', '2024-02-08 10:36:30', '2024-02-08 10:38:30', 0.5575, None)\n",
      "(1337, 'F1', 'b', 'd', 'b->d', '2024-02-08 10:38:30', '2024-02-08 10:41:30', 0.5575, '20000193')\n",
      "(1338, 'F1', 'd', 'h', 'd->e->h', '2024-02-08 11:01:18', '2024-02-08 11:04:18', 0.465, None)\n",
      "(1339, 'F1', 'h', 'e', 'h->e', '2024-02-08 11:04:18', '2024-02-08 11:07:18', 0.465, '20000186')\n",
      "(1340, 'F1', 'e', 'd', 'e->d', '2024-02-08 11:12:12', '2024-02-08 11:14:12', 0.395, None)\n",
      "(1341, 'F1', 'd', 'e', 'd->e', '2024-02-08 11:14:12', '2024-02-08 11:18:12', 0.395, '20000187')\n",
      "(1342, 'F1', 'e', 'f', 'e->f', '2024-02-08 11:34:30', '2024-02-08 11:38:30', 0.3525, '20000158')\n",
      "(1343, 'F1', 'f', 'e', 'f->e', '2024-02-08 13:28:54', '2024-02-08 13:30:54', 0.2675, None)\n",
      "(1344, 'F1', 'e', 'f', 'e->f', '2024-02-08 13:30:54', '2024-02-08 13:34:54', 0.2675, '20000186')\n",
      "(1345, 'F1', 'f', 'g', 'f->e->g', '2024-02-08 13:35:17', '2024-02-08 13:37:12', 0.1675, None)\n",
      "(1346, 'F3', 'f', 'e', 'f->e', '2024-02-08 15:04:18', '2024-02-08 15:06:18', 0.7846153846153846, None)\n",
      "(1347, 'F3', 'e', 'f', 'e->f', '2024-02-08 15:06:18', '2024-02-08 15:10:18', 0.7846153846153846, '20000187')\n",
      "(1348, 'F1', 'g', 'c', 'g->c', '2024-02-08 16:24:36', '2024-02-08 16:25:36', 0.98, None)\n",
      "(1349, 'F1', 'c', 'h', 'c->g->h', '2024-02-08 16:25:36', '2024-02-08 16:29:36', 0.98, '20000166')\n",
      "(1350, 'F1', 'h', 'd', 'h->e->d', '2024-02-08 16:33:54', '2024-02-08 16:36:54', 0.8675, None)\n",
      "(1351, 'F1', 'd', 'h', 'd->e->h', '2024-02-08 16:36:54', '2024-02-08 16:41:54', 0.8675, '20000193')\n",
      "(1352, 'F1', 'h', 'c', 'h->g->c', '2024-02-08 18:10:48', '2024-02-08 18:12:48', 0.755, None)\n",
      "(1353, 'F3', 'f', 'a', 'f->e->g->c->a', '2024-02-08 18:11:00', '2024-02-08 18:14:00', 0.5461538461538461, None)\n",
      "(1354, 'F2', 'f', 'a', 'f->e->g->c->a', '2024-02-08 18:11:00', '2024-02-08 18:14:00', 0.18, None)\n",
      "(1355, 'F1', 'c', 'd', 'c->b->d', '2024-02-08 18:12:48', '2024-02-08 18:16:48', 0.755, '20000167')\n",
      "(1356, 'F3', 'a', 'b', 'a->b', '2024-02-08 18:14:00', '2024-02-08 18:17:00', 0.5461538461538461, '20000169')\n",
      "(1357, 'F2', 'a', 'c', 'a->c', '2024-02-08 18:14:00', '2024-02-08 18:17:00', 0.18, '20000171')\n",
      "(1358, 'F3', 'b', 'a', 'b->a', '2024-02-08 18:17:00', '2024-02-08 18:18:00', 0.45384615384615384, None)\n",
      "(1359, 'F2', 'c', 'a', 'c->a', '2024-02-08 18:17:00', '2024-02-08 18:18:00', 0.08666666666666667, None)\n",
      "(1360, 'F1', 'd', 'a', 'd->a', '2024-02-08 18:17:00', '2024-02-08 18:19:00', 0.6825, None)\n",
      "(1361, 'F3', 'a', 'b', 'a->b', '2024-02-08 18:18:00', '2024-02-08 18:21:00', 0.45384615384615384, '20000170')\n",
      "(1362, 'F2', 'a', 'c', 'a->c', '2024-02-08 18:18:00', '2024-02-08 18:21:00', 0.08666666666666667, '20000172')\n",
      "(1363, 'F2', 'c', 'g', 'c->g', '2024-02-08 18:21:15.333333', '2024-02-08 18:21:42', 0.013333333333333334, None)\n",
      "(1364, 'F1', 'a', 'b', 'a->b', '2024-02-08 18:19:00', '2024-02-08 18:22:00', 0.6825, '20000168')\n",
      "(1365, 'F1', 'b', 'c', 'b->c', '2024-02-08 20:34:24', '2024-02-08 20:37:24', 0.6525, '20000168')\n",
      "(1366, 'F1', 'c', 'e', 'c->g->e', '2024-02-08 21:39:12', '2024-02-08 21:43:12', 0.64, '20000160')\n",
      "(1367, 'F3', 'b', 'a', 'b->a', '2024-02-09 06:01:00', '2024-02-09 06:02:00', 0.36153846153846153, None)\n",
      "(1368, 'F3', 'a', 'd', 'a->d', '2024-02-09 06:02:00', '2024-02-09 06:05:00', 0.36153846153846153, '20000194')\n",
      "(1369, 'F3', 'd', 'b', 'd->b', '2024-02-09 06:24:00', '2024-02-09 06:25:00', 0.2692307692307692, None)\n",
      "(1370, 'F1', 'e', 'f', 'e->f', '2024-02-09 06:24:00', '2024-02-09 06:28:00', 0.605, '20000160')\n",
      "(1371, 'F3', 'b', 'c', 'b->c', '2024-02-09 06:25:00', '2024-02-09 06:28:00', 0.2692307692307692, '20000169')\n",
      "(1372, 'F3', 'c', 'g', 'c->g', '2024-02-09 06:28:11.230769', '2024-02-09 06:28:42', 0.21923076923076923, None)\n",
      "(1373, 'F2', 'g', 'h', 'g->h', '2024-02-09 06:57:12', '2024-02-09 06:58:12', 0.97, None)\n",
      "(1374, 'F2', 'h', 'e', 'h->e', '2024-02-09 06:58:12', '2024-02-09 07:01:12', 0.97, '20000166')\n",
      "(1375, 'F2', 'e', 'd', 'e->d', '2024-02-09 07:59:42', '2024-02-09 08:00:42', 0.8766666666666667, None)\n",
      "(1376, 'F2', 'd', 'h', 'd->e->h', '2024-02-09 08:00:42', '2024-02-09 08:04:42', 0.8766666666666667, '20000167')\n",
      "(1377, 'F3', 'g', 'c', 'g->c', '2024-02-09 08:10:54', '2024-02-09 08:11:54', 0.9692307692307692, None)\n",
      "(1378, 'F3', 'c', 'e', 'c->g->e', '2024-02-09 08:11:54', '2024-02-09 08:14:54', 0.9692307692307692, '20000163')\n",
      "(1379, 'F3', 'e', 'b', 'e->g->c->b', '2024-02-09 08:23:24', '2024-02-09 08:25:24', 0.8423076923076923, None)\n",
      "(1380, 'F3', 'b', 'c', 'b->c', '2024-02-09 08:25:24', '2024-02-09 08:28:24', 0.8423076923076923, '20000170')\n",
      "(1381, 'F2', 'h', 'e', 'h->e', '2024-02-09 08:32:18', '2024-02-09 08:33:18', 0.7466666666666667, None)\n",
      "(1382, 'F2', 'e', 'f', 'e->f', '2024-02-09 08:33:18', '2024-02-09 08:36:18', 0.7466666666666667, '20000166')\n",
      "(1383, 'F3', 'c', 'e', 'c->g->e', '2024-02-09 09:37:18', '2024-02-09 09:38:18', 0.7692307692307693, None)\n",
      "(1384, 'F3', 'e', 'f', 'e->f', '2024-02-09 09:38:18', '2024-02-09 09:42:18', 0.7692307692307693, '20000163')\n",
      "(1385, 'F1', 'f', 'c', 'f->e->g->c', '2024-02-09 10:41:48', '2024-02-09 10:44:48', 0.485, None)\n",
      "(1386, 'F1', 'c', 'e', 'c->g->e', '2024-02-09 10:44:48', '2024-02-09 10:48:48', 0.485, '20000164')\n",
      "(1387, 'F1', 'e', 'h', 'e->h', '2024-02-09 11:13:12', '2024-02-09 11:14:12', 0.4225, None)\n",
      "(1388, 'F1', 'h', 'e', 'h->e', '2024-02-09 11:14:12', '2024-02-09 11:17:12', 0.4225, '20000193')\n",
      "(1389, 'F1', 'e', 'f', 'e->f', '2024-02-09 11:56:30', '2024-02-09 12:00:30', 0.395, '20000164')\n",
      "(1390, 'F1', 'f', 'd', 'f->e->d', '2024-02-09 12:30:36', '2024-02-09 12:33:36', 0.2675, None)\n",
      "(1391, 'F1', 'd', 'e', 'd->e', '2024-02-09 12:33:36', '2024-02-09 12:37:36', 0.2675, '20000194')\n",
      "(1392, 'F1', 'e', 'g', 'e->g', '2024-02-09 12:37:42', '2024-02-09 12:38:12', 0.21, None)\n",
      "(1393, 'F1', 'g', 'e', 'g->e', '2024-02-09 15:16:18', '2024-02-09 15:17:18', 0.985, None)\n",
      "(1394, 'F1', 'e', 'f', 'e->f', '2024-02-09 15:17:18', '2024-02-09 15:21:18', 0.985, '20000193')\n",
      "(1395, 'F3', 'f', 'e', 'f->e', '2024-02-09 15:20:30', '2024-02-09 15:22:30', 0.6384615384615384, None)\n",
      "(1396, 'F3', 'e', 'f', 'e->f', '2024-02-09 15:22:30', '2024-02-09 15:26:30', 0.6384615384615384, '20000194')\n",
      "(1397, 'F1', 'f', 'c', 'f->e->g->c', '2024-02-09 15:46:12', '2024-02-09 15:49:12', 0.865, None)\n",
      "(1398, 'F1', 'c', 'e', 'c->g->e', '2024-02-09 15:49:12', '2024-02-09 15:53:12', 0.865, '20000165')\n",
      "(1399, 'F1', 'e', 'h', 'e->h', '2024-02-09 16:23:42', '2024-02-09 16:24:42', 0.8025, None)\n",
      "(1400, 'F1', 'h', 'e', 'h->e', '2024-02-09 16:24:42', '2024-02-09 16:27:42', 0.8025, '20000167')\n",
      "(1401, 'F1', 'e', 'f', 'e->f', '2024-02-09 17:33:30', '2024-02-09 17:37:30', 0.775, '20000165')\n",
      "(1402, 'F1', 'f', 'c', 'f->e->g->c', '2024-02-09 19:46:30', '2024-02-09 19:49:30', 0.655, None)\n",
      "(1403, 'F3', 'f', 'a', 'f->e->g->c->a', '2024-02-09 19:47:00', '2024-02-09 19:50:00', 0.4, None)\n",
      "(1404, 'F3', 'a', 'b', 'a->b', '2024-02-09 19:50:00', '2024-02-09 19:53:00', 0.4, '20000175')\n",
      "(1405, 'F1', 'c', 'h', 'c->g->h', '2024-02-09 19:49:30', '2024-02-09 19:53:30', 0.655, '20000171')\n",
      "(1406, 'F3', 'b', 'a', 'b->a', '2024-02-09 19:53:00', '2024-02-09 19:54:00', 0.3076923076923077, None)\n",
      "(1407, 'F1', 'h', 'e', 'h->e', '2024-02-09 19:54:18', '2024-02-09 19:55:18', 0.585, None)\n",
      "(1408, 'F3', 'a', 'c', 'a->c', '2024-02-09 19:54:00', '2024-02-09 19:57:00', 0.3076923076923077, '20000176')\n",
      "(1409, 'F3', 'c', 'g', 'c->g', '2024-02-09 19:57:11.230769', '2024-02-09 19:57:42', 0.2230769230769231, None)\n",
      "(1410, 'F1', 'e', 'f', 'e->f', '2024-02-09 19:55:18', '2024-02-09 19:59:18', 0.585, '20000167')\n",
      "(1411, 'F3', 'g', 'b', 'g->c->b', '2024-02-09 21:39:24', '2024-02-09 21:40:24', 0.95, None)\n",
      "(1412, 'F3', 'b', 'c', 'b->c', '2024-02-09 21:40:24', '2024-02-09 21:43:24', 0.95, '20000175')\n",
      "(1413, 'F3', 'c', 'a', 'c->a', '2024-02-12 06:01:00', '2024-02-12 06:02:00', 0.8769230769230769, None)\n",
      "(1414, 'F3', 'a', 'b', 'a->b', '2024-02-12 06:02:00', '2024-02-12 06:05:00', 0.8769230769230769, '20000204')\n",
      "(1415, 'F3', 'b', 'h', 'b->c->g->h', '2024-02-12 07:36:24', '2024-02-12 07:38:24', 0.7461538461538462, None)\n",
      "(1416, 'F3', 'h', 'e', 'h->e', '2024-02-12 07:38:24', '2024-02-12 07:41:24', 0.7461538461538462, '20000171')\n",
      "(1417, 'F3', 'e', 'c', 'e->g->c', '2024-02-12 07:50:00', '2024-02-12 07:51:00', 0.65, None)\n",
      "(1418, 'F3', 'c', 'd', 'c->b->d', '2024-02-12 07:51:00', '2024-02-12 07:54:00', 0.65, '20000172')\n",
      "(1419, 'F1', 'f', 'e', 'f->e', '2024-02-12 08:59:00', '2024-02-12 09:01:00', 0.5, None)\n",
      "(1420, 'F1', 'e', 'f', 'e->f', '2024-02-12 09:01:00', '2024-02-12 09:05:00', 0.5, '20000171')\n",
      "(1421, 'F3', 'd', 'b', 'd->b', '2024-02-12 09:58:06', '2024-02-12 09:59:06', 0.5615384615384615, None)\n",
      "(1422, 'F3', 'b', 'd', 'b->d', '2024-02-12 09:59:06', '2024-02-12 10:02:06', 0.5615384615384615, '20000204')\n",
      "(1423, 'F3', 'd', 'c', 'd->b->c', '2024-02-12 10:27:54', '2024-02-12 10:28:54', 0.47307692307692306, None)\n",
      "(1424, 'F2', 'f', 'a', 'f->e->g->c->a', '2024-02-12 10:28:00', '2024-02-12 10:31:00', 0.54, None)\n",
      "(1425, 'F3', 'c', 'e', 'c->g->e', '2024-02-12 10:28:54', '2024-02-12 10:31:54', 0.47307692307692306, '20000168')\n",
      "(1426, 'F1', 'f', 'a', 'f->e->g->c->a', '2024-02-12 10:28:00', '2024-02-12 10:32:00', 0.345, None)\n",
      "(1427, 'F2', 'a', 'b', 'a->b', '2024-02-12 10:31:00', '2024-02-12 10:34:00', 0.54, '20000181')\n",
      "(1428, 'F3', 'e', 'a', 'e->g->c->a', '2024-02-12 10:32:00', '2024-02-12 10:34:00', 0.31153846153846154, None)\n",
      "(1429, 'F1', 'a', 'b', 'a->b', '2024-02-12 10:32:00', '2024-02-12 10:35:00', 0.345, '20000177')\n",
      "(1430, 'F2', 'b', 'a', 'b->a', '2024-02-12 10:34:00', '2024-02-12 10:35:00', 0.46, None)\n",
      "(1431, 'F1', 'b', 'a', 'b->a', '2024-02-12 10:35:00', '2024-02-12 10:36:00', 0.285, None)\n",
      "(1432, 'F3', 'a', 'c', 'a->c', '2024-02-12 10:34:00', '2024-02-12 10:37:00', 0.31153846153846154, '20000183')\n",
      "(1433, 'F3', 'c', 'g', 'c->g', '2024-02-12 10:37:11.230769', '2024-02-12 10:37:42', 0.22692307692307692, None)\n",
      "(1434, 'F2', 'a', 'b', 'a->b', '2024-02-12 10:35:00', '2024-02-12 10:38:00', 0.46, '20000182')\n",
      "(1435, 'F1', 'a', 'b', 'a->b', '2024-02-12 10:36:00', '2024-02-12 10:39:00', 0.285, '20000180')\n",
      "(1436, 'F3', 'g', 'e', 'g->e', '2024-02-12 12:18:18', '2024-02-12 12:19:18', 0.9769230769230769, None)\n",
      "(1437, 'F1', 'b', 'g', 'b->c->g', '2024-02-12 12:18:43', '2024-02-12 12:19:48', 0.2225, None)\n",
      "(1438, 'F3', 'e', 'f', 'e->f', '2024-02-12 12:19:18', '2024-02-12 12:23:18', 0.9769230769230769, '20000168')\n",
      "(1439, 'F2', 'b', 'c', 'b->c', '2024-02-12 14:10:18', '2024-02-12 14:13:18', 0.42, '20000177')\n",
      "(1440, 'F2', 'c', 'e', 'c->g->e', '2024-02-12 14:21:06', '2024-02-12 14:24:06', 0.4033333333333333, '20000169')\n",
      "(1441, 'F1', 'g', 'd', 'g->c->b->d', '2024-02-12 14:55:24', '2024-02-12 14:57:24', 0.945, None)\n",
      "(1442, 'F1', 'd', 'h', 'd->e->h', '2024-02-12 14:57:24', '2024-02-12 15:02:24', 0.945, '20000172')\n",
      "(1443, 'F2', 'e', 'f', 'e->f', '2024-02-12 15:34:06', '2024-02-12 15:37:06', 0.3566666666666667, '20000169')\n",
      "(1444, 'F1', 'h', 'b', 'h->g->c->b', '2024-02-12 15:35:36', '2024-02-12 15:37:36', 0.82, None)\n",
      "(1445, 'F1', 'b', 'c', 'b->c', '2024-02-12 15:37:36', '2024-02-12 15:40:36', 0.82, '20000180')\n",
      "(1446, 'F1', 'c', 'b', 'c->b', '2024-02-12 17:35:00', '2024-02-12 17:36:00', 0.795, None)\n",
      "(1447, 'F1', 'b', 'c', 'b->c', '2024-02-12 17:36:00', '2024-02-12 17:39:00', 0.795, '20000181')\n",
      "(1448, 'F1', 'c', 'd', 'c->b->d', '2024-02-12 18:12:12', '2024-02-12 18:14:12', 0.7475, None)\n",
      "(1449, 'F3', 'f', 'a', 'f->e->g->c->a', '2024-02-12 18:13:00', '2024-02-12 18:16:00', 0.7384615384615385, None)\n",
      "(1450, 'F3', 'a', 'b', 'a->b', '2024-02-12 18:16:00', '2024-02-12 18:19:00', 0.7384615384615385, '20000205')\n",
      "(1451, 'F1', 'd', 'h', 'd->e->h', '2024-02-12 18:14:12', '2024-02-12 18:19:12', 0.7475, '20000204')\n",
      "(1452, 'F3', 'b', 'c', 'b->c', '2024-02-12 19:19:54', '2024-02-12 19:22:54', 0.6923076923076923, '20000182')\n",
      "(1453, 'F1', 'h', 'e', 'h->e', '2024-02-12 19:25:00', '2024-02-12 19:28:00', 0.6775, '20000172')\n",
      "(1454, 'F3', 'c', 'e', 'c->g->e', '2024-02-12 20:01:54', '2024-02-12 20:04:54', 0.6730769230769231, '20000170')\n",
      "(1455, 'F1', 'e', 'a', 'e->g->c->a', '2024-02-13 06:01:00', '2024-02-13 06:04:00', 0.58, None)\n",
      "(1456, 'F3', 'e', 'f', 'e->f', '2024-02-13 06:01:48', '2024-02-13 06:05:48', 0.6192307692307693, '20000172')\n",
      "(1457, 'F1', 'a', 'd', 'a->d', '2024-02-13 06:04:00', '2024-02-13 06:08:00', 0.58, '20000206')\n",
      "(1458, 'F1', 'd', 'b', 'd->b', '2024-02-13 07:12:12', '2024-02-13 07:13:12', 0.52, None)\n",
      "(1459, 'F1', 'b', 'd', 'b->d', '2024-02-13 07:13:12', '2024-02-13 07:16:12', 0.52, '20000205')\n",
      "(1460, 'F1', 'd', 'h', 'd->e->h', '2024-02-13 07:42:06', '2024-02-13 07:45:06', 0.4275, None)\n",
      "(1461, 'F1', 'h', 'e', 'h->e', '2024-02-13 07:45:06', '2024-02-13 07:48:06', 0.4275, '20000204')\n",
      "(1462, 'F3', 'f', 'e', 'f->e', '2024-02-13 07:47:36', '2024-02-13 07:49:36', 0.48846153846153845, None)\n",
      "(1463, 'F3', 'e', 'f', 'e->f', '2024-02-13 07:49:36', '2024-02-13 07:53:36', 0.48846153846153845, '20000170')\n",
      "(1464, 'F1', 'e', 'c', 'e->g->c', '2024-02-13 08:10:00', '2024-02-13 08:12:00', 0.365, None)\n",
      "(1465, 'F1', 'c', 'd', 'c->b->d', '2024-02-13 08:12:00', '2024-02-13 08:16:00', 0.365, '20000176')\n",
      "(1466, 'F1', 'd', 'c', 'd->b->c', '2024-02-13 08:42:12', '2024-02-13 08:44:12', 0.295, None)\n",
      "(1467, 'F3', 'f', 'a', 'f->e->g->c->a', '2024-02-13 08:43:00', '2024-02-13 08:46:00', 0.25, None)\n",
      "(1468, 'F1', 'c', 'e', 'c->g->e', '2024-02-13 08:44:12', '2024-02-13 08:48:12', 0.295, '20000175')\n",
      "(1469, 'F1', 'e', 'g', 'e->g', '2024-02-13 08:48:18', '2024-02-13 08:48:48', 0.245, None)\n",
      "(1470, 'F3', 'a', 'c', 'a->c', '2024-02-13 08:46:00', '2024-02-13 08:49:00', 0.25, '20000184')\n",
      "(1471, 'F3', 'c', 'd', 'c->b->d', '2024-02-13 10:17:48', '2024-02-13 10:18:48', 0.1423076923076923, None)\n",
      "(1472, 'F3', 'd', 'e', 'd->e', '2024-02-13 10:18:48', '2024-02-13 10:22:48', 0.1423076923076923, '20000206')\n",
      "(1473, 'F3', 'e', 'f', 'e->f', '2024-02-13 10:51:42', '2024-02-13 10:55:42', 0.07692307692307693, '20000175')\n",
      "(1474, 'F3', 'f', 'g', 'f->e->g', '2024-02-13 11:19:49.538462', '2024-02-13 11:21:18', -0.07692307692307693, None)\n",
      "(1475, 'F1', 'g', 'e', 'g->e', '2024-02-13 11:20:36', '2024-02-13 11:21:36', 0.985, None)\n",
      "(1476, 'F1', 'e', 'f', 'e->f', '2024-02-13 11:21:36', '2024-02-13 11:25:36', 0.985, '20000204')\n",
      "(1477, 'F1', 'f', 'e', 'f->e', '2024-02-13 12:17:48', '2024-02-13 12:19:48', 0.9, None)\n",
      "(1478, 'F1', 'e', 'f', 'e->f', '2024-02-13 12:19:48', '2024-02-13 12:23:48', 0.9, '20000206')\n",
      "(1479, 'F3', 'g', 'c', 'g->c', '2024-02-13 15:47:00', '2024-02-13 15:48:00', 0.9692307692307692, None)\n",
      "(1480, 'F3', 'c', 'h', 'c->g->h', '2024-02-13 15:48:00', '2024-02-13 15:52:00', 0.9692307692307692, '20000183')\n",
      "(1481, 'F3', 'h', 'c', 'h->g->c', '2024-02-13 16:26:12', '2024-02-13 16:28:12', 0.8384615384615385, None)\n",
      "(1482, 'F2', 'f', 'a', 'f->e->g->c->a', '2024-02-13 16:27:00', '2024-02-13 16:30:00', 0.15, None)\n",
      "(1483, 'F1', 'f', 'a', 'f->e->g->c->a', '2024-02-13 16:27:00', '2024-02-13 16:31:00', 0.745, None)\n",
      "(1484, 'F3', 'c', 'e', 'c->g->e', '2024-02-13 16:28:12', '2024-02-13 16:31:12', 0.8384615384615385, '20000177')\n",
      "(1485, 'F2', 'a', 'b', 'a->b', '2024-02-13 16:30:00', '2024-02-13 16:33:00', 0.15, '20000189')\n",
      "(1486, 'F1', 'a', 'b', 'a->b', '2024-02-13 16:31:00', '2024-02-13 16:34:00', 0.745, '20000185')\n",
      "(1487, 'F3', 'e', 'a', 'e->g->c->a', '2024-02-13 16:32:00', '2024-02-13 16:34:00', 0.676923076923077, None)\n",
      "(1488, 'F2', 'b', 'a', 'b->a', '2024-02-13 16:33:00', '2024-02-13 16:34:00', 0.07, None)\n",
      "(1489, 'F1', 'b', 'a', 'b->a', '2024-02-13 16:34:00', '2024-02-13 16:35:00', 0.685, None)\n",
      "(1490, 'F3', 'a', 'c', 'a->c', '2024-02-13 16:34:00', '2024-02-13 16:37:00', 0.676923076923077, '20000191')\n",
      "(1491, 'F2', 'a', 'b', 'a->b', '2024-02-13 16:34:00', '2024-02-13 16:37:00', 0.07, '20000190')\n",
      "(1492, 'F1', 'a', 'b', 'a->b', '2024-02-13 16:35:00', '2024-02-13 16:38:00', 0.685, '20000188')\n",
      "(1493, 'F2', 'b', 'g', 'b->c->g', '2024-02-13 16:37:16.666667', '2024-02-13 16:38:00', -0.013333333333333334, None)\n",
      "(1494, 'F1', 'b', 'd', 'b->d', '2024-02-13 16:54:54', '2024-02-13 16:55:54', 0.6325, None)\n",
      "(1495, 'F1', 'd', 'h', 'd->e->h', '2024-02-13 16:55:54', '2024-02-13 17:00:54', 0.6325, '20000205')\n",
      "(1496, 'F1', 'h', 'e', 'h->e', '2024-02-13 17:11:48', '2024-02-13 17:12:48', 0.535, None)\n",
      "(1497, 'F1', 'e', 'f', 'e->f', '2024-02-13 17:12:48', '2024-02-13 17:16:48', 0.535, '20000177')\n",
      "(1498, 'F2', 'g', 'b', 'g->c->b', '2024-02-13 19:10:30', '2024-02-13 19:11:30', 0.9566666666666667, None)\n",
      "(1499, 'F2', 'b', 'c', 'b->c', '2024-02-13 19:11:30', '2024-02-13 19:14:30', 0.9566666666666667, '20000185')\n",
      "(1500, 'F3', 'c', 'h', 'c->g->h', '2024-02-13 19:30:30', '2024-02-13 19:32:30', 0.5576923076923077, None)\n",
      "(1501, 'F3', 'h', 'e', 'h->e', '2024-02-13 19:32:30', '2024-02-13 19:35:30', 0.5576923076923077, '20000183')\n",
      "(1502, 'F2', 'c', 'e', 'c->g->e', '2024-02-13 20:06:06', '2024-02-13 20:09:06', 0.94, '20000180')\n",
      "(1503, 'F3', 'e', 'b', 'e->g->c->b', '2024-02-13 20:33:54', '2024-02-13 20:35:54', 0.4423076923076923, None)\n",
      "(1504, 'F3', 'b', 'c', 'b->c', '2024-02-13 20:35:54', '2024-02-13 20:38:54', 0.4423076923076923, '20000188')\n",
      "(1505, 'F2', 'e', 'f', 'e->f', '2024-02-13 20:58:30', '2024-02-13 21:01:30', 0.8933333333333333, '20000183')\n",
      "(1506, 'F3', 'c', 'e', 'c->g->e', '2024-02-14 06:01:00', '2024-02-14 06:02:00', 0.36923076923076925, None)\n",
      "(1507, 'F1', 'f', 'a', 'f->e->g->c->a', '2024-02-14 06:01:00', '2024-02-14 06:05:00', 0.38, None)\n",
      "(1508, 'F3', 'e', 'f', 'e->f', '2024-02-14 06:02:00', '2024-02-14 06:06:00', 0.36923076923076925, '20000180')\n",
      "(1509, 'F1', 'a', 'd', 'a->d', '2024-02-14 06:05:00', '2024-02-14 06:09:00', 0.38, '20000212')\n",
      "(1510, 'F1', 'd', 'a', 'd->a', '2024-02-14 06:09:00', '2024-02-14 06:11:00', 0.305, None)\n",
      "(1511, 'F1', 'a', 'b', 'a->b', '2024-02-14 06:11:00', '2024-02-14 06:14:00', 0.305, '20000218')\n",
      "(1512, 'F1', 'b', 'g', 'b->c->g', '2024-02-14 06:14:01', '2024-02-14 06:15:06', 0.2425, None)\n",
      "(1513, 'F3', 'f', 'b', 'f->e->g->c->b', '2024-02-14 06:19:18', '2024-02-14 06:22:18', 0.16538461538461538, None)\n",
      "(1514, 'F3', 'b', 'c', 'b->c', '2024-02-14 06:22:18', '2024-02-14 06:25:18', 0.16538461538461538, '20000189')\n",
      "(1515, 'F3', 'c', 'e', 'c->g->e', '2024-02-14 06:26:12', '2024-02-14 06:29:12', 0.14615384615384616, '20000181')\n",
      "(1516, 'F3', 'e', 'f', 'e->f', '2024-02-14 07:29:36', '2024-02-14 07:33:36', 0.09230769230769231, '20000181')\n",
      "(1517, 'F3', 'f', 'b', 'f->e->g->c->b', '2024-02-14 08:09:12', '2024-02-14 08:12:12', -0.11153846153846154, None)\n",
      "(1518, 'F3', 'b', 'c', 'b->c', '2024-02-14 08:12:12', '2024-02-14 08:15:12', -0.11153846153846154, '20000190')\n",
      "(1519, 'F3', 'c', 'g', 'c->g', '2024-02-14 08:46:35.230769', '2024-02-14 08:47:06', -0.16153846153846155, None)\n",
      "(1520, 'F1', 'g', 'd', 'g->c->b->d', '2024-02-14 08:46:48', '2024-02-14 08:48:48', 0.945, None)\n",
      "(1521, 'F1', 'd', 'h', 'd->e->h', '2024-02-14 08:48:48', '2024-02-14 08:53:48', 0.945, '20000176')\n",
      "(1522, 'F1', 'h', 'e', 'h->e', '2024-02-14 09:18:30', '2024-02-14 09:21:30', 0.875, '20000205')\n",
      "(1523, 'F3', 'g', 'd', 'g->c->b->d', '2024-02-14 11:18:54', '2024-02-14 11:20:54', 0.9153846153846154, None)\n",
      "(1524, 'F1', 'e', 'f', 'e->f', '2024-02-14 11:19:06', '2024-02-14 11:23:06', 0.8475, '20000205')\n",
      "(1525, 'F3', 'd', 'e', 'd->e', '2024-02-14 11:20:54', '2024-02-14 11:24:54', 0.9153846153846154, '20000212')\n",
      "(1526, 'F3', 'e', 'c', 'e->g->c', '2024-02-14 11:59:12', '2024-02-14 12:00:12', 0.7961538461538461, None)\n",
      "(1527, 'F3', 'c', 'e', 'c->g->e', '2024-02-14 12:00:12', '2024-02-14 12:03:12', 0.7961538461538461, '20000182')\n",
      "(1528, 'F3', 'e', 'b', 'e->g->c->b', '2024-02-14 12:11:42', '2024-02-14 12:13:42', 0.6692307692307692, None)\n",
      "(1529, 'F3', 'b', 'd', 'b->d', '2024-02-14 12:13:42', '2024-02-14 12:16:42', 0.6692307692307692, '20000218')\n",
      "(1530, 'F1', 'f', 'e', 'f->e', '2024-02-14 12:44:06', '2024-02-14 12:46:06', 0.7625, None)\n",
      "(1531, 'F1', 'e', 'f', 'e->f', '2024-02-14 12:46:06', '2024-02-14 12:50:06', 0.7625, '20000212')\n",
      "(1532, 'F1', 'f', 'h', 'f->e->h', '2024-02-14 14:23:30', '2024-02-14 14:26:30', 0.65, None)\n",
      "(1533, 'F1', 'h', 'e', 'h->e', '2024-02-14 14:26:30', '2024-02-14 14:29:30', 0.65, '20000176')\n",
      "(1534, 'F1', 'e', 'f', 'e->f', '2024-02-14 14:37:18', '2024-02-14 14:41:18', 0.6225, '20000182')\n",
      "(1535, 'F3', 'd', 'c', 'd->b->c', '2024-02-14 16:28:00', '2024-02-14 16:29:00', 0.5807692307692308, None)\n",
      "(1536, 'F3', 'c', 'd', 'c->b->d', '2024-02-14 16:29:00', '2024-02-14 16:32:00', 0.5807692307692308, '20000184')\n",
      "(1537, 'F3', 'd', 'a', 'd->a', '2024-02-14 16:33:00', '2024-02-14 16:34:00', 0.46923076923076923, None)\n",
      "(1538, 'F3', 'a', 'c', 'a->c', '2024-02-14 16:34:00', '2024-02-14 16:37:00', 0.46923076923076923, '20000192')\n",
      "(1539, 'F3', 'c', 'e', 'c->g->e', '2024-02-14 16:55:48', '2024-02-14 16:56:48', 0.36153846153846153, None)\n",
      "(1540, 'F3', 'e', 'f', 'e->f', '2024-02-14 16:56:48', '2024-02-14 17:00:48', 0.36153846153846153, '20000176')\n",
      "(1541, 'F3', 'f', 'g', 'f->e->g', '2024-02-14 17:01:01.538462', '2024-02-14 17:02:30', 0.2076923076923077, None)\n",
      "(1542, 'F1', 'f', 'd', 'f->e->d', '2024-02-14 18:09:24', '2024-02-14 18:12:24', 0.495, None)\n",
      "(1543, 'F1', 'd', 'h', 'd->e->h', '2024-02-14 18:12:24', '2024-02-14 18:17:24', 0.495, '20000218')\n",
      "(1544, 'F3', 'g', 'c', 'g->c', '2024-02-14 20:24:18', '2024-02-14 20:25:18', 0.9692307692307692, None)\n",
      "(1545, 'F3', 'c', 'h', 'c->g->h', '2024-02-14 20:25:18', '2024-02-14 20:29:18', 0.9692307692307692, '20000191')\n",
      "(1546, 'F3', 'h', 'a', 'h->g->c->a', '2024-02-15 06:01:00', '2024-02-15 06:03:00', 0.7846153846153846, None)\n",
      "(1547, 'F1', 'h', 'a', 'h->g->c->a', '2024-02-15 06:01:00', '2024-02-15 06:04:00', 0.3475, None)\n",
      "(1548, 'F3', 'a', 'b', 'a->b', '2024-02-15 06:03:00', '2024-02-15 06:06:00', 0.7846153846153846, '20000225')\n",
      "(1549, 'F1', 'a', 'd', 'a->d', '2024-02-15 06:04:00', '2024-02-15 06:08:00', 0.3475, '20000219')\n",
      "(1550, 'F3', 'b', 'h', 'b->c->g->h', '2024-02-15 06:20:30', '2024-02-15 06:22:30', 0.6538461538461539, None)\n",
      "(1551, 'F3', 'h', 'e', 'h->e', '2024-02-15 06:22:30', '2024-02-15 06:25:30', 0.6538461538461539, '20000218')\n",
      "(1552, 'F1', 'd', 'c', 'd->b->c', '2024-02-15 06:40:24', '2024-02-15 06:42:24', 0.275, None)\n",
      "(1553, 'F3', 'e', 'a', 'e->g->c->a', '2024-02-15 06:41:00', '2024-02-15 06:43:00', 0.5038461538461538, None)\n",
      "(1554, 'F3', 'a', 'b', 'a->b', '2024-02-15 06:43:00', '2024-02-15 06:46:00', 0.5038461538461538, '20000195')\n",
      "(1555, 'F1', 'c', 'e', 'c->g->e', '2024-02-15 06:42:24', '2024-02-15 06:46:24', 0.275, '20000185')\n",
      "(1556, 'F3', 'b', 'a', 'b->a', '2024-02-15 06:46:00', '2024-02-15 06:47:00', 0.4115384615384615, None)\n",
      "(1557, 'F1', 'e', 'g', 'e->g', '2024-02-15 06:46:30', '2024-02-15 06:47:00', 0.225, None)\n",
      "(1558, 'F3', 'a', 'b', 'a->b', '2024-02-15 06:47:00', '2024-02-15 06:50:00', 0.4115384615384615, '20000196')\n",
      "(1559, 'F3', 'b', 'd', 'b->d', '2024-02-15 07:47:18', '2024-02-15 07:48:18', 0.33076923076923076, None)\n",
      "(1560, 'F3', 'd', 'h', 'd->e->h', '2024-02-15 07:48:18', '2024-02-15 07:52:18', 0.33076923076923076, '20000184')\n",
      "(1561, 'F3', 'h', 'e', 'h->e', '2024-02-15 08:36:00', '2024-02-15 08:37:00', 0.18076923076923077, None)\n",
      "(1562, 'F3', 'e', 'f', 'e->f', '2024-02-15 08:37:00', '2024-02-15 08:41:00', 0.18076923076923077, '20000218')\n",
      "(1563, 'F3', 'f', 'a', 'f->e->g->c->a', '2024-02-15 08:54:00', '2024-02-15 08:57:00', -0.057692307692307696, None)\n",
      "(1564, 'F3', 'a', 'b', 'a->b', '2024-02-15 08:57:00', '2024-02-15 09:00:00', -0.057692307692307696, '20000198')\n",
      "(1565, 'F3', 'b', 'a', 'b->a', '2024-02-15 09:00:00', '2024-02-15 09:01:00', -0.15, None)\n",
      "(1566, 'F3', 'a', 'c', 'a->c', '2024-02-15 09:01:00', '2024-02-15 09:04:00', -0.15, '20000199')\n",
      "(1567, 'F3', 'c', 'e', 'c->g->e', '2024-02-15 09:17:00', '2024-02-15 09:18:00', -0.25769230769230766, None)\n",
      "(1568, 'F3', 'e', 'f', 'e->f', '2024-02-15 09:18:00', '2024-02-15 09:22:00', -0.25769230769230766, '20000185')\n",
      "(1569, 'F3', 'f', 'g', 'f->e->g', '2024-02-15 09:22:01.538462', '2024-02-15 09:23:30', -0.4115384615384615, None)\n",
      "(1570, 'F1', 'g', 'c', 'g->c', '2024-02-15 09:22:48', '2024-02-15 09:23:48', 0.98, None)\n",
      "(1571, 'F1', 'c', 'e', 'c->g->e', '2024-02-15 09:23:48', '2024-02-15 09:27:48', 0.98, '20000188')\n",
      "(1572, 'F1', 'e', 'a', 'e->g->c->a', '2024-02-15 09:28:00', '2024-02-15 09:31:00', 0.875, None)\n",
      "(1573, 'F1', 'a', 'c', 'a->c', '2024-02-15 09:31:00', '2024-02-15 09:35:00', 0.875, '20000197')\n",
      "(1574, 'F1', 'c', 'b', 'c->b', '2024-02-15 09:39:54', '2024-02-15 09:40:54', 0.8275, None)\n",
      "(1575, 'F1', 'b', 'd', 'b->d', '2024-02-15 09:40:54', '2024-02-15 09:43:54', 0.8275, '20000225')\n",
      "(1576, 'F1', 'd', 'h', 'd->e->h', '2024-02-15 10:15:18', '2024-02-15 10:18:18', 0.735, None)\n",
      "(1577, 'F1', 'h', 'e', 'h->e', '2024-02-15 10:18:18', '2024-02-15 10:21:18', 0.735, '20000191')\n",
      "(1578, 'F1', 'e', 'f', 'e->f', '2024-02-15 10:36:12', '2024-02-15 10:40:12', 0.7075, '20000188')\n",
      "(1579, 'F1', 'f', 'b', 'f->e->g->c->b', '2024-02-15 11:27:24', '2024-02-15 11:30:24', 0.575, None)\n",
      "(1580, 'F1', 'b', 'c', 'b->c', '2024-02-15 11:30:24', '2024-02-15 11:33:24', 0.575, '20000195')\n",
      "(1581, 'F1', 'c', 'e', 'c->g->e', '2024-02-15 11:47:00', '2024-02-15 11:49:00', 0.5275, None)\n",
      "(1582, 'F1', 'e', 'f', 'e->f', '2024-02-15 11:49:00', '2024-02-15 11:53:00', 0.5275, '20000191')\n",
      "(1583, 'F1', 'f', 'd', 'f->e->d', '2024-02-15 12:11:12', '2024-02-15 12:14:12', 0.4, None)\n",
      "(1584, 'F1', 'd', 'e', 'd->e', '2024-02-15 12:14:12', '2024-02-15 12:18:12', 0.4, '20000219')\n",
      "(1585, 'F3', 'g', 'b', 'g->c->b', '2024-02-15 13:09:06', '2024-02-15 13:10:06', 0.95, None)\n",
      "(1586, 'F3', 'b', 'c', 'b->c', '2024-02-15 13:10:06', '2024-02-15 13:13:06', 0.95, '20000196')\n",
      "(1587, 'F3', 'c', 'e', 'c->g->e', '2024-02-15 13:29:12', '2024-02-15 13:32:12', 0.9307692307692308, '20000189')\n",
      "(1588, 'F1', 'e', 'f', 'e->f', '2024-02-15 13:50:18', '2024-02-15 13:54:18', 0.3575, '20000219')\n",
      "(1589, 'F3', 'e', 'f', 'e->f', '2024-02-15 15:02:12', '2024-02-15 15:06:12', 0.8769230769230769, '20000189')\n",
      "(1590, 'F1', 'f', 'h', 'f->e->h', '2024-02-15 15:17:30', '2024-02-15 15:20:30', 0.245, None)\n",
      "(1591, 'F1', 'h', 'e', 'h->e', '2024-02-15 15:20:30', '2024-02-15 15:23:30', 0.245, '20000184')\n",
      "(1592, 'F1', 'e', 'g', 'e->g', '2024-02-15 15:24:00', '2024-02-15 15:24:30', 0.2025, None)\n",
      "(1593, 'F3', 'f', 'e', 'f->e', '2024-02-15 18:00:06', '2024-02-15 18:02:06', 0.7461538461538462, None)\n",
      "(1594, 'F1', 'g', 'c', 'g->c', '2024-02-15 18:04:06', '2024-02-15 18:05:06', 0.98, None)\n",
      "(1595, 'F3', 'e', 'f', 'e->f', '2024-02-15 18:02:06', '2024-02-15 18:06:06', 0.7461538461538462, '20000184')\n",
      "(1596, 'F1', 'c', 'e', 'c->g->e', '2024-02-15 18:05:06', '2024-02-15 18:09:06', 0.98, '20000190')\n",
      "(1597, 'F1', 'e', 'b', 'e->g->c->b', '2024-02-15 18:09:24', '2024-02-15 18:11:24', 0.8975, None)\n",
      "(1598, 'F1', 'b', 'c', 'b->c', '2024-02-15 18:11:24', '2024-02-15 18:14:24', 0.8975, '20000198')\n",
      "(1599, 'F1', 'c', 'd', 'c->b->d', '2024-02-15 18:38:30', '2024-02-15 18:40:30', 0.85, None)\n",
      "(1600, 'F1', 'd', 'h', 'd->e->h', '2024-02-15 18:40:30', '2024-02-15 18:45:30', 0.85, '20000225')\n",
      "(1601, 'F1', 'h', 'e', 'h->e', '2024-02-15 20:09:54', '2024-02-15 20:10:54', 0.7525, None)\n",
      "(1602, 'F1', 'e', 'f', 'e->f', '2024-02-15 20:10:54', '2024-02-15 20:14:54', 0.7525, '20000190')\n",
      "(1603, 'F1', 'f', 'a', 'f->e->g->c->a', '2024-02-16 06:01:00', '2024-02-16 06:05:00', 0.5975, None)\n",
      "(1604, 'F1', 'a', 'd', 'a->d', '2024-02-16 06:05:00', '2024-02-16 06:09:00', 0.5975, '20000226')\n",
      "(1605, 'F1', 'd', 'a', 'd->a', '2024-02-16 06:10:00', '2024-02-16 06:12:00', 0.5225, None)\n",
      "(1606, 'F1', 'a', 'b', 'a->b', '2024-02-16 06:12:00', '2024-02-16 06:15:00', 0.5225, '20000231')\n",
      "(1607, 'F1', 'b', 'c', 'b->c', '2024-02-16 06:15:12', '2024-02-16 06:16:12', 0.48, None)\n",
      "(1608, 'F1', 'c', 'd', 'c->b->d', '2024-02-16 06:16:12', '2024-02-16 06:20:12', 0.48, '20000192')\n",
      "(1609, 'F1', 'd', 'h', 'd->e->h', '2024-02-16 07:10:54', '2024-02-16 07:13:54', 0.375, None)\n",
      "(1610, 'F1', 'h', 'e', 'h->e', '2024-02-16 07:13:54', '2024-02-16 07:16:54', 0.375, '20000225')\n",
      "(1611, 'F1', 'e', 'f', 'e->f', '2024-02-16 09:09:36', '2024-02-16 09:13:36', 0.3475, '20000225')\n",
      "(1612, 'F1', 'f', 'b', 'f->e->g->c->b', '2024-02-16 09:22:30', '2024-02-16 09:25:30', 0.215, None)\n",
      "(1613, 'F1', 'b', 'd', 'b->d', '2024-02-16 09:25:30', '2024-02-16 09:28:30', 0.215, '20000231')\n",
      "(1614, 'F1', 'd', 'g', 'd->b->c->g', '2024-02-16 09:28:34', '2024-02-16 09:30:24', 0.1375, None)\n",
      "(1615, 'F3', 'f', 'a', 'f->e->g->c->a', '2024-02-16 10:11:00', '2024-02-16 10:14:00', 0.5076923076923077, None)\n",
      "(1616, 'F3', 'a', 'b', 'a->b', '2024-02-16 10:14:00', '2024-02-16 10:17:00', 0.5076923076923077, '20000201')\n",
      "(1617, 'F3', 'b', 'a', 'b->a', '2024-02-16 10:17:00', '2024-02-16 10:18:00', 0.4153846153846154, None)\n",
      "(1618, 'F3', 'a', 'c', 'a->c', '2024-02-16 10:18:00', '2024-02-16 10:21:00', 0.4153846153846154, '20000202')\n",
      "(1619, 'F3', 'c', 'd', 'c->b->d', '2024-02-16 10:34:24', '2024-02-16 10:35:24', 0.3076923076923077, None)\n",
      "(1620, 'F3', 'd', 'e', 'd->e', '2024-02-16 10:35:24', '2024-02-16 10:39:24', 0.3076923076923077, '20000226')\n",
      "(1621, 'F3', 'e', 'f', 'e->f', '2024-02-16 12:10:06', '2024-02-16 12:14:06', 0.2423076923076923, '20000226')\n",
      "(1622, 'F3', 'f', 'g', 'f->e->g', '2024-02-16 12:22:49.538462', '2024-02-16 12:24:18', 0.08846153846153847, None)\n",
      "(1623, 'F1', 'g', 'a', 'g->c->a', '2024-02-16 12:23:00', '2024-02-16 12:25:00', 0.945, None)\n",
      "(1624, 'F1', 'a', 'b', 'a->b', '2024-02-16 12:25:00', '2024-02-16 12:28:00', 0.945, '20000200')\n",
      "(1625, 'F1', 'b', 'c', 'b->c', '2024-02-16 12:28:30', '2024-02-16 12:29:30', 0.9025, None)\n",
      "(1626, 'F1', 'c', 'd', 'c->b->d', '2024-02-16 12:29:30', '2024-02-16 12:33:30', 0.9025, '20000199')\n",
      "(1627, 'F1', 'd', 'b', 'd->b', '2024-02-16 13:57:18', '2024-02-16 13:58:18', 0.845, None)\n",
      "(1628, 'F1', 'b', 'c', 'b->c', '2024-02-16 13:58:18', '2024-02-16 14:01:18', 0.845, '20000200')\n",
      "(1629, 'F3', 'g', 'a', 'g->c->a', '2024-02-16 14:42:00', '2024-02-16 14:44:00', 0.9153846153846154, None)\n",
      "(1630, 'F2', 'f', 'a', 'f->e->g->c->a', '2024-02-16 14:42:00', '2024-02-16 14:45:00', 0.6866666666666666, None)\n",
      "(1631, 'F1', 'c', 'h', 'c->g->h', '2024-02-16 14:41:48', '2024-02-16 14:45:48', 0.8325, '20000197')\n",
      "(1632, 'F3', 'a', 'b', 'a->b', '2024-02-16 14:44:00', '2024-02-16 14:47:00', 0.9153846153846154, '20000203')\n",
      "(1633, 'F2', 'a', 'b', 'a->b', '2024-02-16 14:45:00', '2024-02-16 14:48:00', 0.6866666666666666, '20000208')\n",
      "(1634, 'F3', 'b', 'a', 'b->a', '2024-02-16 14:47:00', '2024-02-16 14:48:00', 0.823076923076923, None)\n",
      "(1635, 'F2', 'b', 'a', 'b->a', '2024-02-16 14:48:00', '2024-02-16 14:49:00', 0.6066666666666667, None)\n",
      "(1636, 'F3', 'a', 'b', 'a->b', '2024-02-16 14:48:00', '2024-02-16 14:51:00', 0.823076923076923, '20000207')\n",
      "(1637, 'F2', 'a', 'c', 'a->c', '2024-02-16 14:49:00', '2024-02-16 14:52:00', 0.6066666666666667, '20000209')\n",
      "(1638, 'F3', 'b', 'd', 'b->d', '2024-02-16 15:24:00', '2024-02-16 15:25:00', 0.7423076923076923, None)\n",
      "(1639, 'F3', 'd', 'h', 'd->e->h', '2024-02-16 15:25:00', '2024-02-16 15:29:00', 0.7423076923076923, '20000192')\n",
      "(1640, 'F2', 'c', 'b', 'c->b', '2024-02-16 15:50:12', '2024-02-16 15:51:12', 0.5433333333333333, None)\n",
      "(1641, 'F2', 'b', 'c', 'b->c', '2024-02-16 15:51:12', '2024-02-16 15:54:12', 0.5433333333333333, '20000201')\n",
      "(1642, 'F2', 'c', 'e', 'c->g->e', '2024-02-16 16:35:00', '2024-02-16 16:38:00', 0.5266666666666666, '20000195')\n",
      "(1643, 'F1', 'h', 'b', 'h->g->c->b', '2024-02-16 17:50:06', '2024-02-16 17:52:06', 0.735, None)\n",
      "(1644, 'F2', 'e', 'f', 'e->f', '2024-02-16 17:50:12', '2024-02-16 17:53:12', 0.48, '20000195')\n",
      "(1645, 'F1', 'b', 'c', 'b->c', '2024-02-16 17:52:06', '2024-02-16 17:55:06', 0.735, '20000203')\n",
      "(1646, 'F1', 'c', 'b', 'c->b', '2024-02-16 19:39:24', '2024-02-16 19:40:24', 0.71, None)\n",
      "(1647, 'F1', 'b', 'c', 'b->c', '2024-02-16 19:40:24', '2024-02-16 19:43:24', 0.71, '20000207')\n",
      "(1648, 'F3', 'h', 'e', 'h->e', '2024-02-16 20:17:36', '2024-02-16 20:20:36', 0.6346153846153846, '20000197')\n",
      "(1649, 'F1', 'c', 'd', 'c->b->d', '2024-02-16 21:19:12', '2024-02-16 21:21:12', 0.6625, None)\n",
      "(1650, 'F1', 'd', 'h', 'd->e->h', '2024-02-16 21:21:12', '2024-02-16 21:26:12', 0.6625, '20000231')\n",
      "(1651, 'F3', 'e', 'b', 'e->g->c->b', '2024-02-16 21:45:36', '2024-02-16 21:47:36', 0.5192307692307693, None)\n",
      "(1652, 'F1', 'h', 'e', 'h->e', '2024-02-16 21:48:48', '2024-02-16 21:49:48', 0.565, None)\n",
      "(1653, 'F3', 'b', 'c', 'b->c', '2024-02-16 21:47:36', '2024-02-16 21:50:36', 0.5192307692307693, '20000208')\n",
      "(1654, 'F1', 'e', 'f', 'e->f', '2024-02-16 21:49:48', '2024-02-16 21:53:48', 0.565, '20000197')\n",
      "(1655, 'F3', 'c', 'a', 'c->a', '2024-02-19 06:01:00', '2024-02-19 06:02:00', 0.4461538461538462, None)\n",
      "(1656, 'F3', 'a', 'b', 'a->b', '2024-02-19 06:02:00', '2024-02-19 06:05:00', 0.4461538461538462, '20000237')\n",
      "(1657, 'F3', 'b', 'c', 'b->c', '2024-02-19 06:36:48', '2024-02-19 06:37:48', 0.38076923076923075, None)\n",
      "(1658, 'F3', 'c', 'e', 'c->g->e', '2024-02-19 06:37:48', '2024-02-19 06:40:48', 0.38076923076923075, '20000196')\n",
      "(1659, 'F3', 'e', 'c', 'e->g->c', '2024-02-19 07:24:54', '2024-02-19 07:25:54', 0.27307692307692305, None)\n",
      "(1660, 'F3', 'c', 'e', 'c->g->e', '2024-02-19 07:25:54', '2024-02-19 07:28:54', 0.27307692307692305, '20000198')\n",
      "(1661, 'F3', 'e', 'g', 'e->g', '2024-02-19 07:29:18.923077', '2024-02-19 07:29:42', 0.19615384615384615, None)\n",
      "(1662, 'F1', 'f', 'h', 'f->e->h', '2024-02-19 08:57:30', '2024-02-19 09:00:30', 0.4525, None)\n",
      "(1663, 'F1', 'h', 'e', 'h->e', '2024-02-19 09:00:30', '2024-02-19 09:03:30', 0.4525, '20000192')\n",
      "(1664, 'F3', 'g', 'e', 'g->e', '2024-02-19 09:15:06', '2024-02-19 09:16:06', 0.9769230769230769, None)\n",
      "(1665, 'F3', 'e', 'f', 'e->f', '2024-02-19 09:16:06', '2024-02-19 09:20:06', 0.9769230769230769, '20000196')\n",
      "(1666, 'F1', 'e', 'f', 'e->f', '2024-02-19 09:16:36', '2024-02-19 09:20:36', 0.425, '20000198')\n",
      "(1667, 'F1', 'f', 'b', 'f->e->g->c->b', '2024-02-19 09:36:24', '2024-02-19 09:39:24', 0.2925, None)\n",
      "(1668, 'F1', 'b', 'd', 'b->d', '2024-02-19 09:39:24', '2024-02-19 09:42:24', 0.2925, '20000237')\n",
      "(1669, 'F1', 'd', 'g', 'd->b->c->g', '2024-02-19 09:42:40', '2024-02-19 09:44:30', 0.215, None)\n",
      "(1670, 'F3', 'f', 'c', 'f->e->g->c', '2024-02-19 11:36:18', '2024-02-19 11:38:18', 0.7923076923076923, None)\n",
      "(1671, 'F3', 'c', 'e', 'c->g->e', '2024-02-19 11:38:18', '2024-02-19 11:41:18', 0.7923076923076923, '20000200')\n",
      "(1672, 'F3', 'e', 'f', 'e->f', '2024-02-19 11:43:00', '2024-02-19 11:47:00', 0.7384615384615385, '20000192')\n",
      "(1673, 'F1', 'g', 'd', 'g->c->b->d', '2024-02-19 12:21:54', '2024-02-19 12:23:54', 0.945, None)\n",
      "(1674, 'F1', 'd', 'h', 'd->e->h', '2024-02-19 12:23:54', '2024-02-19 12:28:54', 0.945, '20000199')\n",
      "(1675, 'F1', 'h', 'e', 'h->e', '2024-02-19 12:41:30', '2024-02-19 12:42:30', 0.8475, None)\n",
      "(1676, 'F1', 'e', 'f', 'e->f', '2024-02-19 12:42:30', '2024-02-19 12:46:30', 0.8475, '20000200')\n",
      "(1677, 'F1', 'f', 'h', 'f->e->h', '2024-02-19 13:20:36', '2024-02-19 13:23:36', 0.735, None)\n",
      "(1678, 'F1', 'h', 'e', 'h->e', '2024-02-19 13:23:36', '2024-02-19 13:26:36', 0.735, '20000231')\n",
      "(1679, 'F1', 'e', 'f', 'e->f', '2024-02-19 15:21:00', '2024-02-19 15:25:00', 0.7075, '20000231')\n",
      "(1680, 'F1', 'f', 'c', 'f->e->g->c', '2024-02-19 16:11:18', '2024-02-19 16:14:18', 0.5875, None)\n",
      "(1681, 'F3', 'f', 'a', 'f->e->g->c->a', '2024-02-19 16:12:00', '2024-02-19 16:15:00', 0.5, None)\n",
      "(1682, 'F3', 'a', 'c', 'a->c', '2024-02-19 16:15:00', '2024-02-19 16:18:00', 0.5, '20000210')\n",
      "(1683, 'F1', 'c', 'h', 'c->g->h', '2024-02-19 16:14:18', '2024-02-19 16:18:18', 0.5875, '20000202')\n",
      "(1684, 'F3', 'c', 'd', 'c->b->d', '2024-02-19 16:47:54', '2024-02-19 16:48:54', 0.3923076923076923, None)\n",
      "(1685, 'F3', 'd', 'h', 'd->e->h', '2024-02-19 16:48:54', '2024-02-19 16:52:54', 0.3923076923076923, '20000237')\n",
      "(1686, 'F3', 'h', 'g', 'h->g', '2024-02-19 16:53:01.384615', '2024-02-19 16:53:36', 0.25, None)\n",
      "(1687, 'F1', 'h', 'e', 'h->e', '2024-02-19 18:04:42', '2024-02-19 18:07:42', 0.545, '20000199')\n",
      "(1688, 'F3', 'g', 'c', 'g->c', '2024-02-19 20:38:06', '2024-02-19 20:39:06', 0.9692307692307692, None)\n",
      "(1689, 'F3', 'c', 'h', 'c->g->h', '2024-02-19 20:39:06', '2024-02-19 20:43:06', 0.9692307692307692, '20000209')\n",
      "(1690, 'F1', 'e', 'f', 'e->f', '2024-02-19 20:46:06', '2024-02-19 20:50:06', 0.5175, '20000199')\n",
      "(1691, 'F3', 'h', 'e', 'h->e', '2024-02-20 06:01:00', '2024-02-20 06:04:00', 0.9038461538461539, '20000202')\n",
      "(1692, 'F1', 'f', 'a', 'f->e->g->c->a', '2024-02-20 06:01:00', '2024-02-20 06:05:00', 0.3625, None)\n",
      "(1693, 'F1', 'a', 'd', 'a->d', '2024-02-20 06:05:00', '2024-02-20 06:09:00', 0.3625, '20000238')\n",
      "(1694, 'F1', 'd', 'a', 'd->a', '2024-02-20 06:10:00', '2024-02-20 06:12:00', 0.2875, None)\n",
      "(1695, 'F1', 'a', 'b', 'a->b', '2024-02-20 06:12:00', '2024-02-20 06:15:00', 0.2875, '20000243')\n",
      "(1696, 'F1', 'b', 'g', 'b->c->g', '2024-02-20 06:15:07', '2024-02-20 06:16:12', 0.225, None)\n",
      "(1697, 'F3', 'e', 'a', 'e->g->c->a', '2024-02-20 06:46:00', '2024-02-20 06:48:00', 0.7538461538461538, None)\n",
      "(1698, 'F2', 'f', 'a', 'f->e->g->c->a', '2024-02-20 06:46:00', '2024-02-20 06:49:00', 0.2733333333333333, None)\n",
      "(1699, 'F3', 'a', 'b', 'a->b', '2024-02-20 06:48:00', '2024-02-20 06:51:00', 0.7538461538461538, '20000211')\n",
      "(1700, 'F2', 'a', 'b', 'a->b', '2024-02-20 06:49:00', '2024-02-20 06:52:00', 0.2733333333333333, '20000215')\n",
      "(1701, 'F3', 'b', 'a', 'b->a', '2024-02-20 06:51:00', '2024-02-20 06:52:00', 0.6615384615384615, None)\n",
      "(1702, 'F2', 'b', 'a', 'b->a', '2024-02-20 06:52:00', '2024-02-20 06:53:00', 0.19333333333333333, None)\n",
      "(1703, 'F3', 'a', 'b', 'a->b', '2024-02-20 06:52:00', '2024-02-20 06:55:00', 0.6615384615384615, '20000213')\n",
      "(1704, 'F2', 'a', 'c', 'a->c', '2024-02-20 06:53:00', '2024-02-20 06:56:00', 0.19333333333333333, '20000216')\n",
      "(1705, 'F2', 'c', 'e', 'c->g->e', '2024-02-20 07:36:36', '2024-02-20 07:37:36', 0.1, None)\n",
      "(1706, 'F2', 'e', 'f', 'e->f', '2024-02-20 07:37:36', '2024-02-20 07:40:36', 0.1, '20000202')\n",
      "(1707, 'F2', 'f', 'g', 'f->e->g', '2024-02-20 08:51:13.333333', '2024-02-20 08:52:30', -0.03333333333333333, None)\n",
      "(1708, 'F1', 'g', 'c', 'g->c', '2024-02-20 08:51:36', '2024-02-20 08:52:36', 0.98, None)\n",
      "(1709, 'F1', 'c', 'e', 'c->g->e', '2024-02-20 08:52:36', '2024-02-20 08:56:36', 0.98, '20000201')\n",
      "(1710, 'F1', 'e', 'a', 'e->g->c->a', '2024-02-20 08:57:00', '2024-02-20 09:00:00', 0.875, None)\n",
      "(1711, 'F1', 'a', 'b', 'a->b', '2024-02-20 09:00:00', '2024-02-20 09:03:00', 0.875, '20000214')\n",
      "(1712, 'F1', 'b', 'd', 'b->d', '2024-02-20 09:32:24', '2024-02-20 09:35:24', 0.845, '20000243')\n",
      "(1713, 'F1', 'd', 'e', 'd->e', '2024-02-20 10:07:18', '2024-02-20 10:09:18', 0.78, None)\n",
      "(1714, 'F1', 'e', 'f', 'e->f', '2024-02-20 10:09:18', '2024-02-20 10:13:18', 0.78, '20000201')\n",
      "(1715, 'F3', 'b', 'h', 'b->c->g->h', '2024-02-20 10:12:54', '2024-02-20 10:14:54', 0.5307692307692308, None)\n",
      "(1716, 'F3', 'h', 'e', 'h->e', '2024-02-20 10:14:54', '2024-02-20 10:17:54', 0.5307692307692308, '20000237')\n",
      "(1717, 'F3', 'e', 'd', 'e->d', '2024-02-20 11:03:00', '2024-02-20 11:05:00', 0.4230769230769231, None)\n",
      "(1718, 'F3', 'd', 'e', 'd->e', '2024-02-20 11:05:00', '2024-02-20 11:09:00', 0.4230769230769231, '20000238')\n",
      "(1719, 'F2', 'g', 'c', 'g->c', '2024-02-20 11:32:30', '2024-02-20 11:33:30', 0.9733333333333334, None)\n",
      "(1720, 'F3', 'e', 'a', 'e->g->c->a', '2024-02-20 11:33:00', '2024-02-20 11:35:00', 0.25, None)\n",
      "(1721, 'F2', 'c', 'e', 'c->g->e', '2024-02-20 11:33:30', '2024-02-20 11:36:30', 0.9733333333333334, '20000203')\n",
      "(1722, 'F3', 'a', 'c', 'a->c', '2024-02-20 11:35:00', '2024-02-20 11:38:00', 0.25, '20000217')\n",
      "(1723, 'F3', 'c', 'g', 'c->g', '2024-02-20 11:37:59.230769', '2024-02-20 11:38:30', 0.16538461538461538, None)\n",
      "(1724, 'F2', 'e', 'c', 'e->g->c', '2024-02-20 12:27:30', '2024-02-20 12:28:30', 0.88, None)\n",
      "(1725, 'F2', 'c', 'e', 'c->g->e', '2024-02-20 12:28:30', '2024-02-20 12:31:30', 0.88, '20000207')\n",
      "(1726, 'F1', 'f', 'a', 'f->e->g->c->a', '2024-02-20 12:28:00', '2024-02-20 12:32:00', 0.625, None)\n",
      "(1727, 'F2', 'e', 'a', 'e->g->c->a', '2024-02-20 12:32:00', '2024-02-20 12:34:00', 0.74, None)\n",
      "(1728, 'F1', 'a', 'b', 'a->b', '2024-02-20 12:32:00', '2024-02-20 12:35:00', 0.625, '20000221')\n",
      "(1729, 'F1', 'b', 'a', 'b->a', '2024-02-20 12:35:00', '2024-02-20 12:36:00', 0.565, None)\n",
      "(1730, 'F2', 'a', 'c', 'a->c', '2024-02-20 12:34:00', '2024-02-20 12:37:00', 0.74, '20000223')\n",
      "(1731, 'F2', 'c', 'e', 'c->g->e', '2024-02-20 12:37:12', '2024-02-20 12:38:12', 0.6466666666666666, None)\n",
      "(1732, 'F1', 'a', 'b', 'a->b', '2024-02-20 12:36:00', '2024-02-20 12:39:00', 0.565, '20000222')\n",
      "(1733, 'F2', 'e', 'f', 'e->f', '2024-02-20 12:38:12', '2024-02-20 12:41:12', 0.6466666666666666, '20000237')\n",
      "(1734, 'F1', 'b', 'c', 'b->c', '2024-02-20 13:09:06', '2024-02-20 13:12:06', 0.535, '20000213')\n",
      "(1735, 'F3', 'g', 'b', 'g->c->b', '2024-02-20 13:27:24', '2024-02-20 13:28:24', 0.95, None)\n",
      "(1736, 'F3', 'b', 'c', 'b->c', '2024-02-20 13:28:24', '2024-02-20 13:31:24', 0.95, '20000211')\n",
      "(1737, 'F3', 'c', 'a', 'c->a', '2024-02-20 13:32:00', '2024-02-20 13:33:00', 0.8769230769230769, None)\n",
      "(1738, 'F3', 'a', 'b', 'a->b', '2024-02-20 13:33:00', '2024-02-20 13:36:00', 0.8769230769230769, '20000220')\n",
      "(1739, 'F1', 'c', 'e', 'c->g->e', '2024-02-20 14:04:42', '2024-02-20 14:06:42', 0.4875, None)\n",
      "(1740, 'F1', 'e', 'f', 'e->f', '2024-02-20 14:06:42', '2024-02-20 14:10:42', 0.4875, '20000238')\n",
      "(1741, 'F3', 'b', 'h', 'b->c->g->h', '2024-02-20 14:24:54', '2024-02-20 14:26:54', 0.7461538461538462, None)\n",
      "(1742, 'F3', 'h', 'e', 'h->e', '2024-02-20 14:26:54', '2024-02-20 14:29:54', 0.7461538461538462, '20000209')\n",
      "(1743, 'F3', 'e', 'f', 'e->f', '2024-02-20 14:46:18', '2024-02-20 14:50:18', 0.7038461538461539, '20000203')\n",
      "(1744, 'F1', 'f', 'b', 'f->e->g->c->b', '2024-02-20 14:48:06', '2024-02-20 14:51:06', 0.355, None)\n",
      "(1745, 'F1', 'b', 'c', 'b->c', '2024-02-20 14:51:06', '2024-02-20 14:54:06', 0.355, '20000214')\n",
      "(1746, 'F1', 'c', 'e', 'c->g->e', '2024-02-20 15:48:00', '2024-02-20 15:50:00', 0.3075, None)\n",
      "(1747, 'F1', 'e', 'f', 'e->f', '2024-02-20 15:50:00', '2024-02-20 15:54:00', 0.3075, '20000207')\n",
      "(1748, 'F1', 'f', 'g', 'f->e->g', '2024-02-20 15:54:29', '2024-02-20 15:56:24', 0.2075, None)\n",
      "(1749, 'F3', 'f', 'e', 'f->e', '2024-02-20 17:03:42', '2024-02-20 17:05:42', 0.573076923076923, None)\n",
      "(1750, 'F3', 'e', 'f', 'e->f', '2024-02-20 17:05:42', '2024-02-20 17:09:42', 0.573076923076923, '20000209')\n",
      "(1751, 'F3', 'f', 'b', 'f->e->g->c->b', '2024-02-20 18:03:48', '2024-02-20 18:06:48', 0.36923076923076925, None)\n",
      "(1752, 'F3', 'b', 'c', 'b->c', '2024-02-20 18:06:48', '2024-02-20 18:09:48', 0.36923076923076925, '20000220')\n",
      "(1753, 'F1', 'g', 'd', 'g->c->b->d', '2024-02-20 18:35:18', '2024-02-20 18:37:18', 0.945, None)\n",
      "(1754, 'F1', 'd', 'h', 'd->e->h', '2024-02-20 18:37:18', '2024-02-20 18:42:18', 0.945, '20000243')\n",
      "(1755, 'F1', 'h', 'b', 'h->g->c->b', '2024-02-20 18:42:42', '2024-02-20 18:44:42', 0.82, None)\n",
      "(1756, 'F1', 'b', 'c', 'b->c', '2024-02-20 18:44:42', '2024-02-20 18:47:42', 0.82, '20000215')\n",
      "(1757, 'F1', 'c', 'b', 'c->b', '2024-02-20 20:21:48', '2024-02-20 20:22:48', 0.795, None)\n",
      "(1758, 'F1', 'b', 'c', 'b->c', '2024-02-20 20:22:48', '2024-02-20 20:25:48', 0.795, '20000221')\n",
      "(1759, 'F1', 'c', 'e', 'c->g->e', '2024-02-20 20:33:12', '2024-02-20 20:37:12', 0.7825, '20000208')\n",
      "(1760, 'F3', 'c', 'd', 'c->b->d', '2024-02-20 20:44:18', '2024-02-20 20:47:18', 0.35, '20000210')\n",
      "(1761, 'F3', 'd', 'g', 'd->b->c->g', '2024-02-20 20:47:23.384615', '2024-02-20 20:48:48', 0.21153846153846154, None)\n",
      "(1762, 'F3', 'g', 'a', 'g->c->a', '2024-02-21 06:01:00', '2024-02-21 06:03:00', 0.9153846153846154, None)\n",
      "(1763, 'F3', 'a', 'd', 'a->d', '2024-02-21 06:03:00', '2024-02-21 06:06:00', 0.9153846153846154, '20000245')\n",
      "(1764, 'F3', 'd', 'b', 'd->b', '2024-02-21 06:07:06', '2024-02-21 06:08:06', 0.823076923076923, None)\n",
      "(1765, 'F3', 'b', 'c', 'b->c', '2024-02-21 06:08:06', '2024-02-21 06:11:06', 0.823076923076923, '20000222')\n",
      "(1766, 'F1', 'e', 'f', 'e->f', '2024-02-21 06:27:30', '2024-02-21 06:31:30', 0.7475, '20000208')\n",
      "(1767, 'F3', 'c', 'h', 'c->g->h', '2024-02-21 07:13:36', '2024-02-21 07:15:36', 0.7384615384615385, None)\n",
      "(1768, 'F3', 'h', 'e', 'h->e', '2024-02-21 07:15:36', '2024-02-21 07:18:36', 0.7384615384615385, '20000243')\n",
      "(1769, 'F3', 'e', 'f', 'e->f', '2024-02-21 09:15:24', '2024-02-21 09:19:24', 0.6961538461538461, '20000243')\n",
      "(1770, 'F1', 'f', 'd', 'f->e->d', '2024-02-21 09:35:36', '2024-02-21 09:38:36', 0.62, None)\n",
      "(1771, 'F1', 'd', 'h', 'd->e->h', '2024-02-21 09:38:36', '2024-02-21 09:43:36', 0.62, '20000210')\n",
      "(1772, 'F1', 'h', 'c', 'h->g->c', '2024-02-21 11:04:12', '2024-02-21 11:06:12', 0.5075, None)\n",
      "(1773, 'F1', 'c', 'h', 'c->g->h', '2024-02-21 11:06:12', '2024-02-21 11:10:12', 0.5075, '20000216')\n",
      "(1774, 'F1', 'h', 'd', 'h->e->d', '2024-02-21 13:52:12', '2024-02-21 13:55:12', 0.395, None)\n",
      "(1775, 'F1', 'd', 'e', 'd->e', '2024-02-21 13:55:12', '2024-02-21 13:59:12', 0.395, '20000245')\n",
      "(1776, 'F1', 'e', 'c', 'e->g->c', '2024-02-21 14:14:24', '2024-02-21 14:16:24', 0.3175, None)\n",
      "(1777, 'F1', 'c', 'd', 'c->b->d', '2024-02-21 14:16:24', '2024-02-21 14:20:24', 0.3175, '20000217')\n",
      "(1778, 'F1', 'd', 'g', 'd->b->c->g', '2024-02-21 14:20:52', '2024-02-21 14:22:42', 0.2275, None)\n",
      "(1779, 'F1', 'g', 'e', 'g->e', '2024-02-21 16:57:12', '2024-02-21 16:58:12', 0.985, None)\n",
      "(1780, 'F1', 'e', 'f', 'e->f', '2024-02-21 16:58:12', '2024-02-21 17:02:12', 0.985, '20000245')\n",
      "(1781, 'F1', 'f', 'h', 'f->e->h', '2024-02-21 17:47:42', '2024-02-21 17:50:42', 0.8725, None)\n",
      "(1782, 'F1', 'h', 'e', 'h->e', '2024-02-21 17:50:42', '2024-02-21 17:53:42', 0.8725, '20000210')\n",
      "(1783, 'F1', 'e', 'c', 'e->g->c', '2024-02-21 18:11:30', '2024-02-21 18:13:30', 0.81, None)\n",
      "(1784, 'F1', 'c', 'e', 'c->g->e', '2024-02-21 18:13:30', '2024-02-21 18:17:30', 0.81, '20000213')\n",
      "(1785, 'F1', 'e', 'c', 'e->g->c', '2024-02-21 19:06:18', '2024-02-21 19:08:18', 0.74, None)\n",
      "(1786, 'F1', 'c', 'd', 'c->b->d', '2024-02-21 19:08:18', '2024-02-21 19:12:18', 0.74, '20000223')\n",
      "(1787, 'F1', 'd', 'h', 'd->e->h', '2024-02-21 20:05:06', '2024-02-21 20:10:06', 0.705, '20000217')\n",
      "(1788, 'F3', 'f', 'e', 'f->e', '2024-02-21 20:09:36', '2024-02-21 20:11:36', 0.5653846153846154, None)\n",
      "(1789, 'F3', 'e', 'f', 'e->f', '2024-02-21 20:11:36', '2024-02-21 20:15:36', 0.5653846153846154, '20000210')\n",
      "(1790, 'F1', 'h', 'e', 'h->e', '2024-02-21 21:16:06', '2024-02-21 21:17:06', 0.6075, None)\n",
      "(1791, 'F1', 'e', 'f', 'e->f', '2024-02-21 21:17:06', '2024-02-21 21:21:06', 0.6075, '20000213')\n",
      "(1792, 'F1', 'f', 'h', 'f->e->h', '2024-02-21 21:43:24', '2024-02-21 21:46:24', 0.495, None)\n",
      "(1793, 'F1', 'h', 'e', 'h->e', '2024-02-21 21:46:24', '2024-02-21 21:49:24', 0.495, '20000216')\n",
      "(1794, 'F1', 'e', 'a', 'e->g->c->a', '2024-02-22 06:01:00', '2024-02-22 06:04:00', 0.3975, None)\n",
      "(1795, 'F1', 'a', 'd', 'a->d', '2024-02-22 06:04:00', '2024-02-22 06:08:00', 0.3975, '20000250')\n",
      "(1796, 'F1', 'd', 'a', 'd->a', '2024-02-22 06:09:00', '2024-02-22 06:11:00', 0.3225, None)\n",
      "(1797, 'F1', 'a', 'b', 'a->b', '2024-02-22 06:11:00', '2024-02-22 06:14:00', 0.3225, '20000257')\n",
      "(1798, 'F1', 'b', 'g', 'b->c->g', '2024-02-22 06:14:07', '2024-02-22 06:15:12', 0.26, None)\n",
      "(1799, 'F3', 'f', 'e', 'f->e', '2024-02-22 07:13:36', '2024-02-22 07:15:36', 0.4346153846153846, None)\n",
      "(1800, 'F3', 'e', 'f', 'e->f', '2024-02-22 07:15:36', '2024-02-22 07:19:36', 0.4346153846153846, '20000216')\n",
      "(1801, 'F1', 'g', 'c', 'g->c', '2024-02-22 09:44:18', '2024-02-22 09:45:18', 0.98, None)\n",
      "(1802, 'F3', 'f', 'd', 'f->e->d', '2024-02-22 09:46:06', '2024-02-22 09:49:06', 0.23846153846153847, None)\n",
      "(1803, 'F1', 'c', 'e', 'c->g->e', '2024-02-22 09:45:18', '2024-02-22 09:49:18', 0.98, '20000214')\n",
      "(1804, 'F1', 'e', 'c', 'e->g->c', '2024-02-22 09:50:36', '2024-02-22 09:52:36', 0.91, None)\n",
      "(1805, 'F3', 'd', 'h', 'd->e->h', '2024-02-22 09:49:06', '2024-02-22 09:53:06', 0.23846153846153847, '20000223')\n",
      "(1806, 'F3', 'h', 'g', 'h->g', '2024-02-22 09:53:13.384615', '2024-02-22 09:53:48', 0.09615384615384616, None)\n",
      "(1807, 'F2', 'f', 'a', 'f->e->g->c->a', '2024-02-22 09:51:00', '2024-02-22 09:54:00', 0.44, None)\n",
      "(1808, 'F1', 'c', 'e', 'c->g->e', '2024-02-22 09:52:36', '2024-02-22 09:56:36', 0.91, '20000211')\n",
      "(1809, 'F2', 'a', 'b', 'a->b', '2024-02-22 09:54:00', '2024-02-22 09:57:00', 0.44, '20000227')\n",
      "(1810, 'F2', 'b', 'a', 'b->a', '2024-02-22 09:57:00', '2024-02-22 09:58:00', 0.36, None)\n",
      "(1811, 'F1', 'e', 'a', 'e->g->c->a', '2024-02-22 09:57:00', '2024-02-22 10:00:00', 0.805, None)\n",
      "(1812, 'F2', 'a', 'b', 'a->b', '2024-02-22 09:58:00', '2024-02-22 10:01:00', 0.36, '20000228')\n",
      "(1813, 'F1', 'a', 'b', 'a->b', '2024-02-22 10:00:00', '2024-02-22 10:03:00', 0.805, '20000224')\n",
      "(1814, 'F1', 'b', 'a', 'b->a', '2024-02-22 10:03:00', '2024-02-22 10:04:00', 0.745, None)\n",
      "(1815, 'F2', 'b', 'd', 'b->d', '2024-02-22 10:01:06', '2024-02-22 10:04:06', 0.32, '20000257')\n",
      "(1816, 'F1', 'a', 'c', 'a->c', '2024-02-22 10:04:00', '2024-02-22 10:08:00', 0.745, '20000229')\n",
      "(1817, 'F1', 'c', 'e', 'c->g->e', '2024-02-22 10:51:24', '2024-02-22 10:53:24', 0.675, None)\n",
      "(1818, 'F1', 'e', 'f', 'e->f', '2024-02-22 10:53:24', '2024-02-22 10:57:24', 0.675, '20000214')\n",
      "(1819, 'F1', 'f', 'e', 'f->e', '2024-02-22 11:34:12', '2024-02-22 11:36:12', 0.59, None)\n",
      "(1820, 'F1', 'e', 'f', 'e->f', '2024-02-22 11:36:12', '2024-02-22 11:40:12', 0.59, '20000211')\n",
      "(1821, 'F3', 'g', 'h', 'g->h', '2024-02-22 11:52:00', '2024-02-22 11:53:00', 0.9653846153846154, None)\n",
      "(1822, 'F2', 'd', 'g', 'd->b->c->g', '2024-02-22 11:51:46.666667', '2024-02-22 11:53:00', 0.21666666666666667, None)\n",
      "(1823, 'F3', 'h', 'e', 'h->e', '2024-02-22 11:53:00', '2024-02-22 11:56:00', 0.9653846153846154, '20000217')\n",
      "(1824, 'F3', 'e', 'd', 'e->d', '2024-02-22 13:44:30', '2024-02-22 13:46:30', 0.8576923076923076, None)\n",
      "(1825, 'F3', 'd', 'e', 'd->e', '2024-02-22 13:46:30', '2024-02-22 13:50:30', 0.8576923076923076, '20000250')\n",
      "(1826, 'F2', 'g', 'b', 'g->c->b', '2024-02-22 13:50:42', '2024-02-22 13:51:42', 0.9566666666666667, None)\n",
      "(1827, 'F2', 'b', 'c', 'b->c', '2024-02-22 13:51:42', '2024-02-22 13:54:42', 0.9566666666666667, '20000224')\n",
      "(1828, 'F2', 'c', 'e', 'c->g->e', '2024-02-22 14:10:36', '2024-02-22 14:13:36', 0.94, '20000220')\n",
      "(1829, 'F3', 'e', 'f', 'e->f', '2024-02-22 14:23:48', '2024-02-22 14:27:48', 0.7923076923076923, '20000217')\n",
      "(1830, 'F2', 'e', 'b', 'e->g->c->b', '2024-02-22 14:28:42', '2024-02-22 14:30:42', 0.83, None)\n",
      "(1831, 'F2', 'b', 'c', 'b->c', '2024-02-22 14:30:42', '2024-02-22 14:33:42', 0.83, '20000227')\n",
      "(1832, 'F2', 'c', 'h', 'c->g->h', '2024-02-22 15:57:30', '2024-02-22 15:58:30', 0.7566666666666667, None)\n",
      "(1833, 'F2', 'h', 'e', 'h->e', '2024-02-22 15:58:30', '2024-02-22 16:01:30', 0.7566666666666667, '20000223')\n",
      "(1834, 'F2', 'e', 'f', 'e->f', '2024-02-22 16:03:30', '2024-02-22 16:06:30', 0.72, '20000250')\n",
      "(1835, 'F1', 'f', 'b', 'f->e->g->c->b', '2024-02-22 16:18:54', '2024-02-22 16:21:54', 0.4575, None)\n",
      "(1836, 'F1', 'b', 'c', 'b->c', '2024-02-22 16:21:54', '2024-02-22 16:24:54', 0.4575, '20000228')\n",
      "(1837, 'F1', 'c', 'e', 'c->g->e', '2024-02-22 17:02:48', '2024-02-22 17:04:48', 0.41, None)\n",
      "(1838, 'F1', 'e', 'f', 'e->f', '2024-02-22 17:04:48', '2024-02-22 17:08:48', 0.41, '20000220')\n",
      "(1839, 'F1', 'f', 'c', 'f->e->g->c', '2024-02-22 17:18:36', '2024-02-22 17:21:36', 0.29, None)\n",
      "(1840, 'F1', 'c', 'e', 'c->g->e', '2024-02-22 17:21:36', '2024-02-22 17:25:36', 0.29, '20000215')\n",
      "(1841, 'F1', 'e', 'g', 'e->g', '2024-02-22 17:26:00', '2024-02-22 17:26:30', 0.24, None)\n",
      "(1842, 'F3', 'f', 'e', 'f->e', '2024-02-22 19:28:06', '2024-02-22 19:30:06', 0.6615384615384615, None)\n",
      "(1843, 'F3', 'e', 'f', 'e->f', '2024-02-22 19:30:06', '2024-02-22 19:34:06', 0.6615384615384615, '20000223')\n",
      "(1844, 'F1', 'g', 'd', 'g->c->b->d', '2024-02-22 19:59:00', '2024-02-22 20:01:00', 0.945, None)\n",
      "(1845, 'F1', 'd', 'h', 'd->e->h', '2024-02-22 20:01:00', '2024-02-22 20:06:00', 0.945, '20000257')\n",
      "(1846, 'F1', 'h', 'c', 'h->g->c', '2024-02-22 20:51:18', '2024-02-22 20:53:18', 0.8325, None)\n",
      "(1847, 'F1', 'c', 'e', 'c->g->e', '2024-02-22 20:53:18', '2024-02-22 20:57:18', 0.8325, '20000221')\n",
      "(1848, 'F1', 'e', 'f', 'e->f', '2024-02-22 21:13:42', '2024-02-22 21:17:42', 0.7975, '20000215')\n",
      "(1849, 'F1', 'f', 'a', 'f->e->g->c->a', '2024-02-23 06:01:00', '2024-02-23 06:05:00', 0.6425, None)\n",
      "(1850, 'F1', 'a', 'b', 'a->b', '2024-02-23 06:05:00', '2024-02-23 06:08:00', 0.6425, '20000261')\n",
      "(1851, 'F3', 'f', 'e', 'f->e', '2024-02-23 06:28:12', '2024-02-23 06:30:12', 0.5307692307692308, None)\n",
      "(1852, 'F3', 'e', 'f', 'e->f', '2024-02-23 06:30:12', '2024-02-23 06:34:12', 0.5307692307692308, '20000221')\n",
      "(1853, 'F1', 'b', 'h', 'b->c->g->h', '2024-02-23 08:37:42', '2024-02-23 08:39:42', 0.5575, None)\n",
      "(1854, 'F1', 'h', 'e', 'h->e', '2024-02-23 08:39:42', '2024-02-23 08:42:42', 0.5575, '20000257')\n",
      "(1855, 'F1', 'e', 'c', 'e->g->c', '2024-02-23 09:38:42', '2024-02-23 09:40:42', 0.495, None)\n",
      "(1856, 'F3', 'f', 'a', 'f->e->g->c->a', '2024-02-23 09:39:00', '2024-02-23 09:42:00', 0.2923076923076923, None)\n",
      "(1857, 'F2', 'f', 'a', 'f->e->g->c->a', '2024-02-23 09:39:00', '2024-02-23 09:42:00', 0.5133333333333333, None)\n",
      "(1858, 'F1', 'c', 'e', 'c->g->e', '2024-02-23 09:40:42', '2024-02-23 09:44:42', 0.495, '20000222')\n",
      "(1859, 'F3', 'a', 'b', 'a->b', '2024-02-23 09:42:00', '2024-02-23 09:45:00', 0.2923076923076923, '20000230')\n",
      "(1860, 'F2', 'a', 'c', 'a->c', '2024-02-23 09:42:00', '2024-02-23 09:45:00', 0.5133333333333333, '20000234')\n",
      "(1861, 'F3', 'b', 'a', 'b->a', '2024-02-23 09:45:00', '2024-02-23 09:46:00', 0.2, None)\n",
      "(1862, 'F1', 'e', 'a', 'e->g->c->a', '2024-02-23 09:45:00', '2024-02-23 09:48:00', 0.39, None)\n",
      "(1863, 'F3', 'a', 'b', 'a->b', '2024-02-23 09:46:00', '2024-02-23 09:49:00', 0.2, '20000232')\n",
      "(1864, 'F3', 'b', 'g', 'b->c->g', '2024-02-23 09:49:04', '2024-02-23 09:49:54', 0.10384615384615385, None)\n",
      "(1865, 'F1', 'a', 'b', 'a->b', '2024-02-23 09:48:00', '2024-02-23 09:51:00', 0.39, '20000233')\n",
      "(1866, 'F1', 'b', 'd', 'b->d', '2024-02-23 09:59:18', '2024-02-23 10:02:18', 0.36, '20000261')\n",
      "(1867, 'F1', 'd', 'e', 'd->e', '2024-02-23 10:47:42', '2024-02-23 10:49:42', 0.295, None)\n",
      "(1868, 'F1', 'e', 'f', 'e->f', '2024-02-23 10:49:42', '2024-02-23 10:53:42', 0.295, '20000257')\n",
      "(1869, 'F1', 'f', 'g', 'f->e->g', '2024-02-23 11:46:53', '2024-02-23 11:48:48', 0.195, None)\n",
      "(1870, 'F3', 'g', 'e', 'g->e', '2024-02-23 12:22:48', '2024-02-23 12:23:48', 0.9769230769230769, None)\n",
      "(1871, 'F2', 'c', 'b', 'c->b', '2024-02-23 12:25:12', '2024-02-23 12:26:12', 0.45, None)\n",
      "(1872, 'F3', 'e', 'f', 'e->f', '2024-02-23 12:23:48', '2024-02-23 12:27:48', 0.9769230769230769, '20000222')\n",
      "(1873, 'F2', 'b', 'c', 'b->c', '2024-02-23 12:26:12', '2024-02-23 12:29:12', 0.45, '20000230')\n",
      "(1874, 'F2', 'c', 'h', 'c->g->h', '2024-02-23 12:59:48', '2024-02-23 13:02:48', 0.43333333333333335, '20000229')\n",
      "(1875, 'F2', 'h', 'b', 'h->g->c->b', '2024-02-23 13:52:36', '2024-02-23 13:54:36', 0.30333333333333334, None)\n",
      "(1876, 'F2', 'b', 'c', 'b->c', '2024-02-23 13:54:36', '2024-02-23 13:57:36', 0.30333333333333334, '20000232')\n",
      "(1877, 'F2', 'c', 'g', 'c->g', '2024-02-23 14:29:45.333333', '2024-02-23 14:30:12', 0.26, None)\n",
      "(1878, 'F1', 'g', 'b', 'g->c->b', '2024-02-23 15:45:06', '2024-02-23 15:47:06', 0.9675, None)\n",
      "(1879, 'F1', 'b', 'c', 'b->c', '2024-02-23 15:47:06', '2024-02-23 15:50:06', 0.9675, '20000233')\n",
      "(1880, 'F2', 'g', 'd', 'g->c->b->d', '2024-02-23 16:21:30', '2024-02-23 16:23:30', 0.9266666666666666, None)\n",
      "(1881, 'F2', 'd', 'h', 'd->e->h', '2024-02-23 16:23:30', '2024-02-23 16:27:30', 0.9266666666666666, '20000261')\n",
      "(1882, 'F1', 'c', 'e', 'c->g->e', '2024-02-23 16:41:12', '2024-02-23 16:45:12', 0.955, '20000224')\n",
      "(1883, 'F2', 'h', 'e', 'h->e', '2024-02-23 16:49:06', '2024-02-23 16:52:06', 0.8333333333333334, '20000229')\n",
      "(1884, 'F1', 'e', 'f', 'e->f', '2024-02-23 17:26:06', '2024-02-23 17:30:06', 0.92, '20000224')\n",
      "(1885, 'F2', 'e', 'f', 'e->f', '2024-02-23 18:52:12', '2024-02-23 18:55:12', 0.7966666666666666, '20000229')\n",
      "(1886, 'F1', 'f', 'c', 'f->e->g->c', '2024-02-23 19:37:12', '2024-02-23 19:40:12', 0.8, None)\n",
      "(1887, 'F3', 'f', 'a', 'f->e->g->c->a', '2024-02-23 19:37:54', '2024-02-23 19:40:54', 0.7384615384615385, None)\n",
      "(1888, 'F3', 'a', 'c', 'a->c', '2024-02-23 19:40:54', '2024-02-23 19:43:54', 0.7384615384615385, '20000235')\n",
      "(1889, 'F1', 'c', 'e', 'c->g->e', '2024-02-23 19:40:12', '2024-02-23 19:44:12', 0.8, '20000227')\n",
      "(1890, 'F1', 'e', 'f', 'e->f', '2024-02-23 20:54:48', '2024-02-23 20:58:48', 0.765, '20000227')\n",
      "(1891, 'F3', 'c', 'h', 'c->g->h', '2024-02-23 21:12:18', '2024-02-23 21:14:18', 0.6192307692307693, None)\n",
      "(1892, 'F3', 'h', 'e', 'h->e', '2024-02-23 21:14:18', '2024-02-23 21:17:18', 0.6192307692307693, '20000261')\n",
      "(1893, 'F3', 'e', 'a', 'e->g->c->a', '2024-02-26 06:01:00', '2024-02-26 06:03:00', 0.46923076923076923, None)\n",
      "(1894, 'F3', 'a', 'd', 'a->d', '2024-02-26 06:03:00', '2024-02-26 06:06:00', 0.46923076923076923, '20000262')\n",
      "(1895, 'F3', 'd', 'a', 'd->a', '2024-02-26 06:06:54', '2024-02-26 06:07:54', 0.35384615384615387, None)\n",
      "(1896, 'F3', 'a', 'b', 'a->b', '2024-02-26 06:07:54', '2024-02-26 06:10:54', 0.35384615384615387, '20000269')\n",
      "(1897, 'F1', 'f', 'e', 'f->e', '2024-02-26 07:28:24', '2024-02-26 07:30:24', 0.68, None)\n",
      "(1898, 'F1', 'e', 'f', 'e->f', '2024-02-26 07:30:24', '2024-02-26 07:34:24', 0.68, '20000261')\n",
      "(1899, 'F3', 'b', 'd', 'b->d', '2024-02-26 09:53:30', '2024-02-26 09:56:30', 0.3076923076923077, '20000269')\n",
      "(1900, 'F3', 'd', 'g', 'd->b->c->g', '2024-02-26 09:56:41.384615', '2024-02-26 09:58:06', 0.18846153846153846, None)\n",
      "(1901, 'F3', 'g', 'c', 'g->c', '2024-02-26 11:43:54', '2024-02-26 11:44:54', 0.9692307692307692, None)\n",
      "(1902, 'F3', 'c', 'e', 'c->g->e', '2024-02-26 11:44:54', '2024-02-26 11:47:54', 0.9692307692307692, '20000228')\n",
      "(1903, 'F3', 'e', 'd', 'e->d', '2024-02-26 11:51:00', '2024-02-26 11:53:00', 0.85, None)\n",
      "(1904, 'F3', 'd', 'e', 'd->e', '2024-02-26 11:53:00', '2024-02-26 11:57:00', 0.85, '20000262')\n",
      "(1905, 'F1', 'f', 'c', 'f->e->g->c', '2024-02-26 11:54:36', '2024-02-26 11:57:36', 0.56, None)\n",
      "(1906, 'F2', 'f', 'a', 'f->e->g->c->a', '2024-02-26 11:54:54', '2024-02-26 11:57:54', 0.59, None)\n",
      "(1907, 'F3', 'e', 'a', 'e->g->c->a', '2024-02-26 11:57:54', '2024-02-26 11:59:54', 0.676923076923077, None)\n",
      "(1908, 'F2', 'a', 'b', 'a->b', '2024-02-26 11:57:54', '2024-02-26 12:00:54', 0.59, '20000236')\n",
      "(1909, 'F1', 'c', 'h', 'c->g->h', '2024-02-26 11:57:36', '2024-02-26 12:01:36', 0.56, '20000234')\n",
      "(1910, 'F2', 'b', 'a', 'b->a', '2024-02-26 12:00:54', '2024-02-26 12:01:54', 0.51, None)\n",
      "(1911, 'F3', 'a', 'b', 'a->b', '2024-02-26 11:59:54', '2024-02-26 12:02:54', 0.676923076923077, '20000240')\n",
      "(1912, 'F1', 'h', 'a', 'h->g->c->a', '2024-02-26 12:01:54', '2024-02-26 12:04:54', 0.44, None)\n",
      "(1913, 'F2', 'a', 'b', 'a->b', '2024-02-26 12:01:54', '2024-02-26 12:04:54', 0.51, '20000239')\n",
      "(1914, 'F1', 'a', 'c', 'a->c', '2024-02-26 12:04:54', '2024-02-26 12:08:54', 0.44, '20000241')\n",
      "(1915, 'F1', 'c', 'e', 'c->g->e', '2024-02-26 13:40:06', '2024-02-26 13:42:06', 0.37, None)\n",
      "(1916, 'F1', 'e', 'f', 'e->f', '2024-02-26 13:42:06', '2024-02-26 13:46:06', 0.37, '20000228')\n",
      "(1917, 'F3', 'b', 'c', 'b->c', '2024-02-26 14:55:24', '2024-02-26 14:58:24', 0.6307692307692307, '20000236')\n",
      "(1918, 'F3', 'c', 'e', 'c->g->e', '2024-02-26 15:06:54', '2024-02-26 15:07:54', 0.5576923076923077, None)\n",
      "(1919, 'F3', 'e', 'f', 'e->f', '2024-02-26 15:07:54', '2024-02-26 15:11:54', 0.5576923076923077, '20000262')\n",
      "(1920, 'F2', 'b', 'c', 'b->c', '2024-02-26 16:12:48', '2024-02-26 16:15:48', 0.47, '20000239')\n",
      "(1921, 'F2', 'c', 'e', 'c->g->e', '2024-02-26 16:16:30', '2024-02-26 16:19:30', 0.4533333333333333, '20000232')\n",
      "(1922, 'F2', 'e', 'f', 'e->f', '2024-02-26 17:23:30', '2024-02-26 17:26:30', 0.4066666666666667, '20000232')\n",
      "(1923, 'F1', 'f', 'd', 'f->e->d', '2024-02-26 17:25:48', '2024-02-26 17:28:48', 0.2425, None)\n",
      "(1924, 'F1', 'd', 'h', 'd->e->h', '2024-02-26 17:28:48', '2024-02-26 17:33:48', 0.2425, '20000269')\n",
      "(1925, 'F1', 'h', 'g', 'h->g', '2024-02-26 17:34:09', '2024-02-26 17:34:54', 0.15, None)\n",
      "(1926, 'F3', 'f', 'h', 'f->e->h', '2024-02-26 18:55:12', '2024-02-26 18:57:12', 0.38461538461538464, None)\n",
      "(1927, 'F3', 'h', 'e', 'h->e', '2024-02-26 18:57:12', '2024-02-26 19:00:12', 0.38461538461538464, '20000234')\n",
      "(1928, 'F1', 'g', 'c', 'g->c', '2024-02-26 20:25:12', '2024-02-26 20:26:12', 0.98, None)\n",
      "(1929, 'F3', 'e', 'f', 'e->f', '2024-02-26 20:26:06', '2024-02-26 20:30:06', 0.3423076923076923, '20000234')\n",
      "(1930, 'F1', 'c', 'e', 'c->g->e', '2024-02-26 20:26:12', '2024-02-26 20:30:12', 0.98, '20000230')\n",
      "(1931, 'F3', 'f', 'g', 'f->e->g', '2024-02-26 20:30:25.538462', '2024-02-26 20:31:54', 0.18846153846153846, None)\n",
      "(1932, 'F1', 'e', 'b', 'e->g->c->b', '2024-02-26 20:30:48', '2024-02-26 20:32:48', 0.8975, None)\n",
      "(1933, 'F1', 'b', 'c', 'b->c', '2024-02-26 20:32:48', '2024-02-26 20:35:48', 0.8975, '20000240')\n",
      "(1934, 'F1', 'c', 'e', 'c->g->e', '2024-02-26 21:09:12', '2024-02-26 21:11:12', 0.85, None)\n",
      "(1935, 'F1', 'e', 'f', 'e->f', '2024-02-26 21:11:12', '2024-02-26 21:15:12', 0.85, '20000230')\n",
      "(1936, 'F3', 'g', 'a', 'g->c->a', '2024-02-27 06:01:00', '2024-02-27 06:03:00', 0.9153846153846154, None)\n",
      "(1937, 'F3', 'a', 'd', 'a->d', '2024-02-27 06:03:00', '2024-02-27 06:06:00', 0.9153846153846154, '20000270')\n",
      "(1938, 'F3', 'd', 'c', 'd->b->c', '2024-02-27 06:27:00', '2024-02-27 06:28:00', 0.8038461538461539, None)\n",
      "(1939, 'F3', 'c', 'e', 'c->g->e', '2024-02-27 06:28:00', '2024-02-27 06:31:00', 0.8038461538461539, '20000233')\n",
      "(1940, 'F3', 'e', 'h', 'e->h', '2024-02-27 07:00:24', '2024-02-27 07:01:24', 0.7076923076923077, None)\n",
      "(1941, 'F3', 'h', 'e', 'h->e', '2024-02-27 07:01:24', '2024-02-27 07:04:24', 0.7076923076923077, '20000269')\n",
      "(1942, 'F3', 'e', 'f', 'e->f', '2024-02-27 07:40:00', '2024-02-27 07:44:00', 0.6653846153846154, '20000233')\n",
      "(1943, 'F1', 'f', 'e', 'f->e', '2024-02-27 09:32:24', '2024-02-27 09:34:24', 0.765, None)\n",
      "(1944, 'F1', 'e', 'f', 'e->f', '2024-02-27 09:34:24', '2024-02-27 09:38:24', 0.765, '20000269')\n",
      "(1945, 'F1', 'f', 'd', 'f->e->d', '2024-02-27 10:38:18', '2024-02-27 10:41:18', 0.6375, None)\n",
      "(1946, 'F1', 'd', 'e', 'd->e', '2024-02-27 10:41:18', '2024-02-27 10:45:18', 0.6375, '20000270')\n",
      "(1947, 'F1', 'e', 'c', 'e->g->c', '2024-02-27 11:14:12', '2024-02-27 11:16:12', 0.56, None)\n",
      "(1948, 'F3', 'f', 'a', 'f->e->g->c->a', '2024-02-27 11:14:54', '2024-02-27 11:17:54', 0.4269230769230769, None)\n",
      "(1949, 'F1', 'c', 'd', 'c->b->d', '2024-02-27 11:16:12', '2024-02-27 11:20:12', 0.56, '20000235')\n",
      "(1950, 'F3', 'a', 'c', 'a->c', '2024-02-27 11:17:54', '2024-02-27 11:20:54', 0.4269230769230769, '20000244')\n",
      "(1951, 'F1', 'd', 'a', 'd->a', '2024-02-27 11:20:54', '2024-02-27 11:22:54', 0.4875, None)\n",
      "(1952, 'F1', 'a', 'b', 'a->b', '2024-02-27 11:22:54', '2024-02-27 11:25:54', 0.4875, '20000242')\n",
      "(1953, 'F3', 'c', 'e', 'c->g->e', '2024-02-27 12:10:18', '2024-02-27 12:11:18', 0.3192307692307692, None)\n",
      "(1954, 'F3', 'e', 'f', 'e->f', '2024-02-27 12:11:18', '2024-02-27 12:15:18', 0.3192307692307692, '20000270')\n",
      "(1955, 'F3', 'f', 'g', 'f->e->g', '2024-02-27 12:15:19.538462', '2024-02-27 12:16:48', 0.16538461538461538, None)\n",
      "(1956, 'F1', 'b', 'c', 'b->c', '2024-02-27 13:43:12', '2024-02-27 13:46:12', 0.4575, '20000242')\n",
      "(1957, 'F1', 'c', 'd', 'c->b->d', '2024-02-27 17:01:48', '2024-02-27 17:05:48', 0.445, '20000241')\n",
      "(1958, 'F1', 'd', 'h', 'd->e->h', '2024-02-27 17:17:48', '2024-02-27 17:22:48', 0.41, '20000235')\n",
      "(1959, 'F3', 'g', 'c', 'g->c', '2024-02-27 18:33:00', '2024-02-27 18:34:00', 0.9692307692307692, None)\n",
      "(1960, 'F1', 'h', 'a', 'h->g->c->a', '2024-02-27 18:33:54', '2024-02-27 18:36:54', 0.2625, None)\n",
      "(1961, 'F2', 'f', 'a', 'f->e->g->c->a', '2024-02-27 18:33:54', '2024-02-27 18:36:54', 0.2, None)\n",
      "(1962, 'F3', 'c', 'e', 'c->g->e', '2024-02-27 18:34:00', '2024-02-27 18:37:00', 0.9692307692307692, '20000236')\n",
      "(1963, 'F1', 'a', 'b', 'a->b', '2024-02-27 18:36:54', '2024-02-27 18:39:54', 0.2625, '20000246')\n",
      "(1964, 'F2', 'a', 'b', 'a->b', '2024-02-27 18:36:54', '2024-02-27 18:39:54', 0.2, '20000248')\n",
      "(1965, 'F1', 'b', 'a', 'b->a', '2024-02-27 18:39:54', '2024-02-27 18:40:54', 0.2025, None)\n",
      "(1966, 'F2', 'b', 'a', 'b->a', '2024-02-27 18:39:54', '2024-02-27 18:40:54', 0.12, None)\n",
      "(1967, 'F1', 'a', 'b', 'a->b', '2024-02-27 18:40:54', '2024-02-27 18:43:54', 0.2025, '20000247')\n",
      "(1968, 'F2', 'a', 'c', 'a->c', '2024-02-27 18:40:54', '2024-02-27 18:43:54', 0.12, '20000249')\n",
      "(1969, 'F1', 'b', 'g', 'b->c->g', '2024-02-27 18:44:19', '2024-02-27 18:45:24', 0.14, None)\n",
      "(1970, 'F3', 'e', 'f', 'e->f', '2024-02-27 19:20:24', '2024-02-27 19:24:24', 0.9153846153846154, '20000236')\n",
      "(1971, 'F2', 'c', 'e', 'c->g->e', '2024-02-27 21:20:36', '2024-02-27 21:23:36', 0.07333333333333333, '20000239')\n",
      "(1972, 'F3', 'f', 'a', 'f->e->g->c->a', '2024-02-27 21:20:54', '2024-02-27 21:23:54', 0.676923076923077, None)\n",
      "(1973, 'F2', 'e', 'a', 'e->g->c->a', '2024-02-27 21:23:54', '2024-02-27 21:25:54', -0.06666666666666667, None)\n",
      "(1974, 'F3', 'a', 'b', 'a->b', '2024-02-27 21:23:54', '2024-02-27 21:26:54', 0.676923076923077, '20000252')\n",
      "(1975, 'F3', 'b', 'a', 'b->a', '2024-02-27 21:26:54', '2024-02-27 21:27:54', 0.5846153846153846, None)\n",
      "(1976, 'F2', 'a', 'c', 'a->c', '2024-02-27 21:25:54', '2024-02-27 21:28:54', -0.06666666666666667, '20000254')\n",
      "(1977, 'F3', 'a', 'b', 'a->b', '2024-02-27 21:27:54', '2024-02-27 21:30:54', 0.5846153846153846, '20000253')\n",
      "(1978, 'F2', 'c', 'g', 'c->g', '2024-02-27 21:37:27.333333', '2024-02-27 21:37:54', -0.14, None)\n",
      "(1979, 'F1', 'g', 'b', 'g->c->b', '2024-02-27 21:37:36', '2024-02-27 21:39:36', 0.9675, None)\n",
      "(1980, 'F1', 'b', 'c', 'b->c', '2024-02-27 21:39:36', '2024-02-27 21:42:36', 0.9675, '20000246')\n",
      "(1981, 'F1', 'c', 'a', 'c->a', '2024-02-27 21:42:54', '2024-02-27 21:44:54', 0.92, None)\n",
      "(1982, 'F1', 'a', 'b', 'a->b', '2024-02-27 21:44:54', '2024-02-27 21:47:54', 0.92, '20000251')\n",
      "(1983, 'F3', 'b', 'a', 'b->a', '2024-02-28 06:01:00', '2024-02-28 06:02:00', 0.49230769230769234, None)\n",
      "(1984, 'F1', 'b', 'c', 'b->c', '2024-02-28 06:01:00', '2024-02-28 06:04:00', 0.89, '20000247')\n",
      "(1985, 'F3', 'a', 'b', 'a->b', '2024-02-28 06:02:00', '2024-02-28 06:05:00', 0.49230769230769234, '20000282')\n",
      "(1986, 'F3', 'b', 'd', 'b->d', '2024-02-28 06:13:24', '2024-02-28 06:14:24', 0.4115384615384615, None)\n",
      "(1987, 'F3', 'd', 'h', 'd->e->h', '2024-02-28 06:14:24', '2024-02-28 06:18:24', 0.4115384615384615, '20000241')\n",
      "(1988, 'F2', 'g', 'h', 'g->h', '2024-02-28 06:17:36', '2024-02-28 06:18:36', 0.97, None)\n",
      "(1989, 'F2', 'h', 'e', 'h->e', '2024-02-28 06:18:36', '2024-02-28 06:21:36', 0.97, '20000235')\n",
      "(1990, 'F2', 'e', 'f', 'e->f', '2024-02-28 06:30:36', '2024-02-28 06:33:36', 0.9333333333333333, '20000239')\n",
      "(1991, 'F1', 'c', 'b', 'c->b', '2024-02-28 08:03:42', '2024-02-28 08:04:42', 0.865, None)\n",
      "(1992, 'F1', 'b', 'c', 'b->c', '2024-02-28 08:04:42', '2024-02-28 08:07:42', 0.865, '20000248')\n",
      "(1993, 'F3', 'h', 'e', 'h->e', '2024-02-28 08:52:36', '2024-02-28 08:53:36', 0.26153846153846155, None)\n",
      "(1994, 'F3', 'e', 'f', 'e->f', '2024-02-28 08:53:36', '2024-02-28 08:57:36', 0.26153846153846155, '20000235')\n",
      "(1995, 'F3', 'f', 'g', 'f->e->g', '2024-02-28 08:57:49.538462', '2024-02-28 08:59:18', 0.1076923076923077, None)\n",
      "(1996, 'F1', 'c', 'b', 'c->b', '2024-02-28 09:37:06', '2024-02-28 09:38:06', 0.84, None)\n",
      "(1997, 'F1', 'b', 'c', 'b->c', '2024-02-28 09:38:06', '2024-02-28 09:41:06', 0.84, '20000251')\n",
      "(1998, 'F1', 'c', 'e', 'c->g->e', '2024-02-28 10:35:48', '2024-02-28 10:39:48', 0.8275, '20000240')\n",
      "(1999, 'F1', 'e', 'h', 'e->h', '2024-02-28 10:53:54', '2024-02-28 10:54:54', 0.765, None)\n",
      "(2000, 'F1', 'h', 'e', 'h->e', '2024-02-28 10:54:54', '2024-02-28 10:57:54', 0.765, '20000241')\n",
      "(2001, 'F3', 'g', 'b', 'g->c->b', '2024-02-28 11:35:42', '2024-02-28 11:36:42', 0.95, None)\n",
      "(2002, 'F3', 'b', 'c', 'b->c', '2024-02-28 11:36:42', '2024-02-28 11:39:42', 0.95, '20000252')\n",
      "(2003, 'F1', 'e', 'f', 'e->f', '2024-02-28 12:28:00', '2024-02-28 12:32:00', 0.7375, '20000240')\n",
      "(2004, 'F3', 'c', 'b', 'c->b', '2024-02-28 13:28:48', '2024-02-28 13:29:48', 0.9115384615384615, None)\n",
      "(2005, 'F3', 'b', 'c', 'b->c', '2024-02-28 13:29:48', '2024-02-28 13:32:48', 0.9115384615384615, '20000253')\n",
      "(2006, 'F3', 'c', 'h', 'c->g->h', '2024-02-28 13:44:36', '2024-02-28 13:48:36', 0.8923076923076924, '20000244')\n",
      "(2007, 'F3', 'h', 'e', 'h->e', '2024-02-28 14:47:06', '2024-02-28 14:48:06', 0.7846153846153846, None)\n",
      "(2008, 'F3', 'e', 'f', 'e->f', '2024-02-28 14:48:06', '2024-02-28 14:52:06', 0.7846153846153846, '20000241')\n",
      "(2009, 'F1', 'f', 'b', 'f->e->g->c->b', '2024-02-28 17:07:42', '2024-02-28 17:10:42', 0.605, None)\n",
      "(2010, 'F1', 'b', 'd', 'b->d', '2024-02-28 17:10:42', '2024-02-28 17:13:42', 0.605, '20000282')\n",
      "(2011, 'F1', 'd', 'h', 'd->e->h', '2024-02-28 17:16:18', '2024-02-28 17:19:18', 0.5125, None)\n",
      "(2012, 'F1', 'h', 'e', 'h->e', '2024-02-28 17:19:18', '2024-02-28 17:22:18', 0.5125, '20000244')\n",
      "(2013, 'F1', 'e', 'c', 'e->g->c', '2024-02-28 18:35:00', '2024-02-28 18:37:00', 0.45, None)\n",
      "(2014, 'F1', 'c', 'e', 'c->g->e', '2024-02-28 18:37:00', '2024-02-28 18:41:00', 0.45, '20000242')\n",
      "(2015, 'F1', 'e', 'f', 'e->f', '2024-02-28 18:46:24', '2024-02-28 18:50:24', 0.415, '20000244')\n",
      "(2016, 'F1', 'f', 'e', 'f->e', '2024-02-28 19:27:06', '2024-02-28 19:29:06', 0.33, None)\n",
      "(2017, 'F1', 'e', 'f', 'e->f', '2024-02-28 19:29:06', '2024-02-28 19:33:06', 0.33, '20000242')\n",
      "(2018, 'F1', 'f', 'g', 'f->e->g', '2024-02-28 19:33:23', '2024-02-28 19:35:18', 0.23, None)\n",
      "(2019, 'F1', 'g', 'a', 'g->c->a', '2024-02-29 06:01:00', '2024-02-29 06:03:00', 0.945, None)\n",
      "(2020, 'F1', 'a', 'd', 'a->d', '2024-02-29 06:03:00', '2024-02-29 06:07:00', 0.945, '20000283')\n",
      "(2021, 'F1', 'd', 'c', 'd->b->c', '2024-02-29 06:07:30', '2024-02-29 06:09:30', 0.8725, None)\n",
      "(2022, 'F1', 'c', 'd', 'c->b->d', '2024-02-29 06:09:30', '2024-02-29 06:13:30', 0.8725, '20000249')\n",
      "(2023, 'F3', 'f', 'a', 'f->e->g->c->a', '2024-02-29 06:50:54', '2024-02-29 06:53:54', 0.5461538461538461, None)\n",
      "(2024, 'F1', 'd', 'h', 'd->e->h', '2024-02-29 06:50:18', '2024-02-29 06:55:18', 0.8375, '20000282')\n",
      "(2025, 'F3', 'a', 'b', 'a->b', '2024-02-29 06:53:54', '2024-02-29 06:56:54', 0.5461538461538461, '20000287')\n",
      "(2026, 'F3', 'b', 'c', 'b->c', '2024-02-29 10:01:54', '2024-02-29 10:02:54', 0.4807692307692308, None)\n",
      "(2027, 'F3', 'c', 'h', 'c->g->h', '2024-02-29 10:02:54', '2024-02-29 10:06:54', 0.4807692307692308, '20000254')\n",
      "(2028, 'F1', 'h', 'c', 'h->g->c', '2024-02-29 10:24:12', '2024-02-29 10:26:12', 0.725, None)\n",
      "(2029, 'F3', 'h', 'a', 'h->g->c->a', '2024-02-29 10:24:54', '2024-02-29 10:26:54', 0.29615384615384616, None)\n",
      "(2030, 'F3', 'a', 'c', 'a->c', '2024-02-29 10:26:54', '2024-02-29 10:29:54', 0.29615384615384616, '20000255')\n",
      "(2031, 'F1', 'c', 'e', 'c->g->e', '2024-02-29 10:26:12', '2024-02-29 10:30:12', 0.725, '20000246')\n",
      "(2032, 'F3', 'c', 'g', 'c->g', '2024-02-29 10:30:17.230769', '2024-02-29 10:30:48', 0.21153846153846154, None)\n",
      "(2033, 'F1', 'e', 'h', 'e->h', '2024-02-29 11:22:30', '2024-02-29 11:23:30', 0.6625, None)\n",
      "(2034, 'F1', 'h', 'e', 'h->e', '2024-02-29 11:23:30', '2024-02-29 11:26:30', 0.6625, '20000282')\n",
      "(2035, 'F1', 'e', 'f', 'e->f', '2024-02-29 11:35:00', '2024-02-29 11:39:00', 0.635, '20000246')\n",
      "(2036, 'F1', 'f', 'b', 'f->e->g->c->b', '2024-02-29 11:47:48', '2024-02-29 11:50:48', 0.5025, None)\n",
      "(2037, 'F1', 'b', 'd', 'b->d', '2024-02-29 11:50:48', '2024-02-29 11:53:48', 0.5025, '20000287')\n",
      "(2038, 'F3', 'g', 'd', 'g->c->b->d', '2024-02-29 12:13:36', '2024-02-29 12:15:36', 0.9153846153846154, None)\n",
      "(2039, 'F3', 'd', 'e', 'd->e', '2024-02-29 12:15:36', '2024-02-29 12:19:36', 0.9153846153846154, '20000283')\n",
      "(2040, 'F3', 'e', 'f', 'e->f', '2024-02-29 13:34:00', '2024-02-29 13:38:00', 0.85, '20000282')\n",
      "(2041, 'F1', 'd', 'e', 'd->e', '2024-02-29 14:59:12', '2024-02-29 15:01:12', 0.4375, None)\n",
      "(2042, 'F1', 'e', 'f', 'e->f', '2024-02-29 15:01:12', '2024-02-29 15:05:12', 0.4375, '20000283')\n",
      "(2043, 'F1', 'f', 'd', 'f->e->d', '2024-02-29 16:16:24', '2024-02-29 16:19:24', 0.31, None)\n",
      "(2044, 'F1', 'd', 'h', 'd->e->h', '2024-02-29 16:19:24', '2024-02-29 16:24:24', 0.31, '20000249')\n",
      "(2045, 'F1', 'h', 'e', 'h->e', '2024-02-29 16:24:36', '2024-02-29 16:27:36', 0.24, '20000254')\n",
      "(2046, 'F1', 'e', 'g', 'e->g', '2024-02-29 16:27:48', '2024-02-29 16:28:18', 0.1975, None)\n",
      "(2047, 'F3', 'f', 'e', 'f->e', '2024-02-29 17:45:18', '2024-02-29 17:47:18', 0.7192307692307692, None)\n",
      "(2048, 'F3', 'e', 'f', 'e->f', '2024-02-29 17:47:18', '2024-02-29 17:51:18', 0.7192307692307692, '20000254')\n",
      "(2049, 'F3', 'f', 'c', 'f->e->g->c', '2024-02-29 18:32:48', '2024-02-29 18:34:48', 0.5346153846153846, None)\n",
      "(2050, 'F2', 'f', 'a', 'f->e->g->c->a', '2024-02-29 18:32:54', '2024-02-29 18:35:54', 0.7266666666666667, None)\n",
      "(2051, 'F3', 'c', 'e', 'c->g->e', '2024-02-29 18:34:48', '2024-02-29 18:37:48', 0.5346153846153846, '20000248')\n",
      "(2052, 'F2', 'a', 'b', 'a->b', '2024-02-29 18:35:54', '2024-02-29 18:38:54', 0.7266666666666667, '20000258')\n",
      "(2053, 'F2', 'b', 'a', 'b->a', '2024-02-29 18:38:54', '2024-02-29 18:39:54', 0.6466666666666666, None)\n",
      "(2054, 'F2', 'a', 'c', 'a->c', '2024-02-29 18:39:54', '2024-02-29 18:42:54', 0.6466666666666666, '20000259')\n",
      "(2055, 'F1', 'g', 'a', 'g->c->a', '2024-02-29 19:08:54', '2024-02-29 19:10:54', 0.945, None)\n",
      "(2056, 'F1', 'a', 'b', 'a->b', '2024-02-29 19:10:54', '2024-02-29 19:13:54', 0.945, '20000256')\n",
      "(2057, 'F1', 'b', 'c', 'b->c', '2024-02-29 19:14:36', '2024-02-29 19:15:36', 0.9025, None)\n",
      "(2058, 'F1', 'c', 'e', 'c->g->e', '2024-02-29 19:15:36', '2024-02-29 19:19:36', 0.9025, '20000247')\n",
      "(2059, 'F1', 'e', 'f', 'e->f', '2024-02-29 20:40:24', '2024-02-29 20:44:24', 0.8675, '20000248')\n",
      "(2060, 'F3', 'e', 'h', 'e->h', '2024-02-29 20:56:36', '2024-02-29 20:57:36', 0.43846153846153846, None)\n",
      "(2061, 'F3', 'h', 'e', 'h->e', '2024-02-29 20:57:36', '2024-02-29 21:00:36', 0.43846153846153846, '20000249')\n",
      "(2062, 'F2', 'c', 'b', 'c->b', '2024-02-29 21:42:42', '2024-02-29 21:43:42', 0.5833333333333334, None)\n",
      "(2063, 'F3', 'e', 'c', 'e->g->c', '2024-02-29 21:44:12', '2024-02-29 21:45:12', 0.3423076923076923, None)\n",
      "(2064, 'F2', 'b', 'c', 'b->c', '2024-02-29 21:43:42', '2024-02-29 21:46:42', 0.5833333333333334, '20000256')\n",
      "(2065, 'F2', 'c', 'a', 'c->a', '2024-02-29 21:46:54', '2024-02-29 21:47:54', 0.52, None)\n",
      "(2066, 'F3', 'c', 'e', 'c->g->e', '2024-02-29 21:45:12', '2024-02-29 21:48:12', 0.3423076923076923, '20000251')\n",
      "(2067, 'F3', 'e', 'g', 'e->g', '2024-02-29 21:48:18.923077', '2024-02-29 21:48:42', 0.2653846153846154, None)\n",
      "(2068, 'F1', 'f', 'a', 'f->e->g->c->a', '2024-02-29 21:44:54', '2024-02-29 21:48:54', 0.7125, None)\n",
      "(2069, 'F2', 'a', 'b', 'a->b', '2024-02-29 21:47:54', '2024-02-29 21:50:54', 0.52, '20000260')\n",
      "(2070, 'F1', 'a', 'b', 'a->b', '2024-02-29 21:48:54', '2024-02-29 21:51:54', 0.7125, '20000263')\n",
      "(2071, 'F2', 'b', 'd', 'b->d', '2024-02-29 21:51:12', '2024-02-29 21:52:12', 0.45, None)\n",
      "(2072, 'F1', 'b', 'a', 'b->a', '2024-02-29 21:51:54', '2024-02-29 21:52:54', 0.6525, None)\n",
      "(2073, 'F1', 'a', 'b', 'a->b', '2024-02-29 21:52:54', '2024-02-29 21:55:54', 0.6525, '20000264')\n",
      "(2074, 'F2', 'd', 'h', 'd->e->h', '2024-02-29 21:52:12', '2024-02-29 21:56:12', 0.45, '20000287')\n",
      "(2075, 'F1', 'b', 'a', 'b->a', '2024-02-29 21:55:54', '2024-02-29 21:56:54', 0.5925, None)\n",
      "(2076, 'F2', 'h', 'e', 'h->e', '2024-02-29 21:57:06', '2024-02-29 21:58:06', 0.32, None)\n",
      "\n",
      "--------------------------------------------------\n",
      "\n",
      "Inhalt der Tabelle: ELF\n",
      "['Vorgangs_nr', 'bmg', 'start_downtime', 'end_downtime', 'reststandzeit', 'type']\n",
      "(1, 'DRH1', '2024-01-01 14:54:54', '2024-01-01 15:39:54', 0, 'planed')\n",
      "(2, 'FRA', '2024-01-02 10:02:36', '2024-01-02 10:42:36', 0, 'planed')\n",
      "(3, 'DRH1', '2024-01-02 11:51:30', '2024-01-02 12:36:30', 0, 'planed')\n",
      "(4, 'DRH2', '2024-01-02 14:50:30', '2024-01-02 16:55:30', 0, 'unplaned')\n",
      "(5, 'FRA', '2024-01-03 06:30:12', '2024-01-03 07:45:12', 0, 'unplaned')\n",
      "(6, 'DRH2', '2024-01-03 09:13:48', '2024-01-03 10:13:48', 0, 'planed')\n",
      "(7, 'DRH1', '2024-01-03 12:37:00', '2024-01-03 13:22:00', 0, 'planed')\n",
      "(8, 'HAE', '2024-01-03 18:58:54', '2024-01-03 20:28:54', 0, 'planed')\n",
      "(9, 'DRH2', '2024-01-04 06:28:30', '2024-01-04 07:28:30', 0, 'planed')\n",
      "(10, 'DRH1', '2024-01-04 10:17:54', '2024-01-04 11:02:54', 0, 'planed')\n",
      "(11, 'FRA', '2024-01-04 11:30:24', '2024-01-04 12:10:24', 0, 'planed')\n",
      "(12, 'SAE', '2024-01-04 17:24:54', '2024-01-04 17:54:54', 0, 'planed')\n",
      "(13, 'DRH1', '2024-01-04 19:55:06', '2024-01-04 20:40:06', 0, 'planed')\n",
      "(14, 'DRH2', '2024-01-05 07:23:54', '2024-01-05 08:23:54', 0, 'planed')\n",
      "(15, 'HAE', '2024-01-05 11:06:54', '2024-01-05 12:36:54', 0, 'planed')\n",
      "(16, 'FRA', '2024-01-05 14:01:36', '2024-01-05 14:41:36', 0, 'planed')\n",
      "(17, 'DRH2', '2024-01-05 16:51:12', '2024-01-05 17:51:12', 0, 'planed')\n",
      "(18, 'DRH1', '2024-01-05 19:04:00', '2024-01-05 19:49:00', 0, 'planed')\n",
      "(19, 'FRA', '2024-01-05 19:38:12', '2024-01-05 20:18:12', 0, 'planed')\n",
      "(20, 'DRH2', '2024-01-08 09:04:12', '2024-01-08 10:04:12', 0, 'planed')\n",
      "(21, 'SAE', '2024-01-08 13:12:54', '2024-01-08 13:42:54', 0, 'planed')\n",
      "(22, 'HAE', '2024-01-08 16:35:36', '2024-01-08 18:05:36', 0, 'planed')\n",
      "(23, 'DRH2', '2024-01-08 17:19:54', '2024-01-08 18:19:54', 0, 'planed')\n",
      "(24, 'FRA', '2024-01-09 06:06:00', '2024-01-09 06:46:00', 0, 'planed')\n",
      "(25, 'DRH1', '2024-01-09 06:23:54', '2024-01-09 07:08:54', 0, 'planed')\n",
      "(26, 'DRH2', '2024-01-09 16:42:54', '2024-01-09 17:42:54', 0, 'planed')\n",
      "(27, 'DRH1', '2024-01-09 19:00:54', '2024-01-09 19:45:54', 0, 'planed')\n",
      "(28, 'FRA', '2024-01-10 10:26:54', '2024-01-10 11:06:54', 0, 'planed')\n",
      "(29, 'SAE', '2024-01-10 10:55:54', '2024-01-10 11:25:54', 0, 'planed')\n",
      "(30, 'DRH2', '2024-01-10 14:01:48', '2024-01-10 15:01:48', 0, 'planed')\n",
      "(31, 'DRH2', '2024-01-11 07:48:54', '2024-01-11 09:53:54', 0, 'unplaned')\n",
      "(32, 'DRH1', '2024-01-11 09:28:54', '2024-01-11 10:13:54', 0, 'planed')\n",
      "(33, 'DRH2', '2024-01-11 18:48:48', '2024-01-11 19:48:48', 0, 'planed')\n",
      "(34, 'HAE', '2024-01-11 18:52:30', '2024-01-11 20:22:30', 0, 'planed')\n",
      "(35, 'FRA', '2024-01-11 20:18:36', '2024-01-11 20:58:36', 0, 'planed')\n",
      "(36, 'DRH1', '2024-01-12 09:30:24', '2024-01-12 10:15:24', 0, 'planed')\n",
      "(37, 'DRH2', '2024-01-12 13:13:54', '2024-01-12 15:18:54', 0, 'unplaned')\n",
      "(38, 'SAE', '2024-01-15 06:08:00', '2024-01-15 06:38:00', 0, 'planed')\n",
      "(39, 'FRA', '2024-01-15 06:10:00', '2024-01-15 06:50:00', 0, 'planed')\n",
      "(40, 'DRH1', '2024-01-15 16:16:48', '2024-01-15 17:01:48', 0, 'planed')\n",
      "(41, 'DRH2', '2024-01-15 17:02:36', '2024-01-15 18:02:36', 0, 'planed')\n",
      "(42, 'FRA', '2024-01-15 20:08:42', '2024-01-15 20:48:42', 0, 'planed')\n",
      "(43, 'HAE', '2024-01-16 10:10:42', '2024-01-16 11:40:42', 0, 'planed')\n",
      "(44, 'DRH1', '2024-01-16 13:45:00', '2024-01-16 14:30:00', 0, 'planed')\n",
      "(45, 'DRH2', '2024-01-16 17:22:18', '2024-01-16 18:22:18', 0, 'planed')\n",
      "(46, 'FRA', '2024-01-16 19:34:06', '2024-01-16 20:49:06', 0, 'unplaned')\n",
      "(47, 'SAE', '2024-01-17 06:07:00', '2024-01-17 06:37:00', 0, 'planed')\n",
      "(48, 'DRH2', '2024-01-17 14:53:36', '2024-01-17 15:53:36', 0, 'planed')\n",
      "(49, 'FRA', '2024-01-17 15:21:48', '2024-01-17 16:36:48', 0, 'unplaned')\n",
      "(50, 'DRH1', '2024-01-17 18:22:24', '2024-01-17 19:07:24', 0, 'planed')\n",
      "(51, 'FRA', '2024-01-18 06:15:00', '2024-01-18 06:55:00', 0, 'planed')\n",
      "(52, 'DRH2', '2024-01-18 13:00:54', '2024-01-18 14:00:54', 0, 'planed')\n",
      "(53, 'DRH1', '2024-01-18 15:33:24', '2024-01-18 16:18:24', 0, 'planed')\n",
      "(54, 'SAE', '2024-01-18 16:20:00', '2024-01-18 16:50:00', 0, 'planed')\n",
      "(55, 'HAE', '2024-01-19 15:41:18', '2024-01-19 17:11:18', 0, 'planed')\n",
      "(56, 'FRA', '2024-01-19 16:36:48', '2024-01-19 17:16:48', 0, 'planed')\n",
      "(57, 'DRH2', '2024-01-19 17:30:54', '2024-01-19 18:30:54', 0, 'planed')\n",
      "(58, 'DRH1', '2024-01-19 22:00:00', '2024-01-19 23:30:00', 0, 'unplaned')\n",
      "(59, 'HAE', '2024-01-22 08:59:42', '2024-01-22 10:29:42', 0, 'planed')\n",
      "(60, 'FRA', '2024-01-22 10:53:42', '2024-01-22 11:33:42', 0, 'planed')\n",
      "(61, 'FRA', '2024-01-22 16:56:30', '2024-01-22 17:36:30', 0, 'planed')\n",
      "(62, 'DRH2', '2024-01-22 17:17:42', '2024-01-22 18:17:42', 0, 'planed')\n",
      "(63, 'SAE', '2024-01-22 21:19:00', '2024-01-22 21:49:00', 0, 'planed')\n",
      "(64, 'FRA', '2024-01-23 07:57:48', '2024-01-23 08:37:48', 0, 'planed')\n",
      "(65, 'DRH2', '2024-01-23 08:30:30', '2024-01-23 10:35:30', 0, 'unplaned')\n",
      "(66, 'DRH1', '2024-01-23 10:55:00', '2024-01-23 11:40:00', 0, 'planed')\n",
      "(67, 'FRA', '2024-01-24 06:10:00', '2024-01-24 06:50:00', 0, 'planed')\n",
      "(68, 'DRH2', '2024-01-24 06:43:18', '2024-01-24 07:43:18', 0, 'planed')\n",
      "(69, 'DRH1', '2024-01-24 15:33:12', '2024-01-24 16:18:12', 0, 'planed')\n",
      "(70, 'DRH2', '2024-01-24 19:37:06', '2024-01-24 20:37:06', 0, 'planed')\n",
      "(71, 'FRA', '2024-01-25 08:21:00', '2024-01-25 09:01:00', 0, 'planed')\n",
      "(72, 'SAE', '2024-01-25 08:48:00', '2024-01-25 09:18:00', 0, 'planed')\n",
      "(73, 'DRH1', '2024-01-25 12:49:00', '2024-01-25 14:19:00', 0, 'unplaned')\n",
      "(74, 'DRH2', '2024-01-25 19:20:00', '2024-01-25 20:20:00', 0, 'planed')\n",
      "(75, 'HAE', '2024-01-25 19:13:12', '2024-01-25 20:43:12', 0, 'planed')\n",
      "(76, 'FRA', '2024-01-26 08:39:00', '2024-01-26 09:19:00', 0, 'planed')\n",
      "(77, 'DRH2', '2024-01-26 12:47:54', '2024-01-26 13:47:54', 0, 'planed')\n",
      "(78, 'DRH1', '2024-01-26 15:47:00', '2024-01-26 16:32:00', 0, 'planed')\n",
      "(79, 'FRA', '2024-01-29 08:48:00', '2024-01-29 09:28:00', 0, 'planed')\n",
      "(80, 'SAE', '2024-01-29 10:10:00', '2024-01-29 10:40:00', 0, 'planed')\n",
      "(81, 'DRH1', '2024-01-29 11:58:00', '2024-01-29 12:43:00', 0, 'planed')\n",
      "(82, 'DRH2', '2024-01-29 12:58:00', '2024-01-29 13:58:00', 0, 'planed')\n",
      "(83, 'FRA', '2024-01-30 10:36:42', '2024-01-30 11:16:42', 0, 'planed')\n",
      "(84, 'HAE', '2024-01-30 10:43:54', '2024-01-30 12:13:54', 0, 'planed')\n",
      "(85, 'DRH1', '2024-01-30 13:35:54', '2024-01-30 14:20:54', 0, 'planed')\n",
      "(86, 'DRH2', '2024-01-30 16:33:48', '2024-01-30 17:33:48', 0, 'planed')\n",
      "(87, 'SAE', '2024-01-31 07:50:00', '2024-01-31 08:20:00', 0, 'planed')\n",
      "(88, 'DRH1', '2024-01-31 17:36:36', '2024-01-31 18:21:36', 0, 'planed')\n",
      "(89, 'DRH2', '2024-01-31 17:32:24', '2024-01-31 19:37:24', 0, 'unplaned')\n",
      "(90, 'FRA', '2024-02-01 06:06:00', '2024-02-01 07:21:00', 0, 'unplaned')\n",
      "(91, 'DRH2', '2024-02-01 10:18:00', '2024-02-01 11:18:00', 0, 'planed')\n",
      "(92, 'DRH1', '2024-02-01 12:40:00', '2024-02-01 14:10:00', 0, 'unplaned')\n",
      "(93, 'FRA', '2024-02-02 06:09:00', '2024-02-02 06:49:00', 0, 'planed')\n",
      "(94, 'DRH2', '2024-02-02 11:54:06', '2024-02-02 12:54:06', 0, 'planed')\n",
      "(95, 'HAE', '2024-02-02 12:00:42', '2024-02-02 13:30:42', 0, 'planed')\n",
      "(96, 'FRA', '2024-02-02 16:39:42', '2024-02-02 17:19:42', 0, 'planed')\n",
      "(97, 'DRH1', '2024-02-02 19:44:48', '2024-02-02 21:14:48', 0, 'unplaned')\n",
      "(98, 'DRH2', '2024-02-02 20:35:00', '2024-02-02 21:35:00', 0, 'planed')\n",
      "(99, 'SAE', '2024-02-05 06:09:00', '2024-02-05 06:39:00', 0, 'planed')\n",
      "(100, 'DRH1', '2024-02-05 17:46:12', '2024-02-05 18:31:12', 0, 'planed')\n",
      "(101, 'HAE', '2024-02-05 17:42:24', '2024-02-05 19:12:24', 0, 'planed')\n",
      "(102, 'SAE', '2024-02-05 19:44:00', '2024-02-05 20:14:00', 0, 'planed')\n",
      "(103, 'FRA', '2024-02-06 06:10:00', '2024-02-06 06:50:00', 0, 'planed')\n",
      "(104, 'DRH2', '2024-02-06 06:20:00', '2024-02-06 08:25:00', 0, 'unplaned')\n",
      "(105, 'FRA', '2024-02-07 06:03:00', '2024-02-07 06:43:00', 0, 'planed')\n",
      "(106, 'DRH2', '2024-02-07 06:33:24', '2024-02-07 07:33:24', 0, 'planed')\n",
      "(107, 'DRH1', '2024-02-07 06:49:48', '2024-02-07 07:34:48', 0, 'planed')\n",
      "(108, 'DRH2', '2024-02-07 15:30:12', '2024-02-07 16:30:12', 0, 'planed')\n",
      "(109, 'SAE', '2024-02-07 20:24:00', '2024-02-07 21:44:00', 0, 'unplaned')\n",
      "(110, 'FRA', '2024-02-08 06:16:00', '2024-02-08 06:56:00', 0, 'planed')\n",
      "(111, 'DRH1', '2024-02-08 09:29:00', '2024-02-08 10:14:00', 0, 'planed')\n",
      "(112, 'DRH2', '2024-02-08 14:11:00', '2024-02-08 15:11:00', 0, 'planed')\n",
      "(113, 'DRH1', '2024-02-08 18:11:12', '2024-02-08 18:56:12', 0, 'planed')\n",
      "(114, 'HAE', '2024-02-08 16:30:36', '2024-02-08 19:30:36', 0, 'unplaned')\n",
      "(115, 'FRA', '2024-02-09 08:00:00', '2024-02-09 08:40:00', 0, 'planed')\n",
      "(116, 'DRH2', '2024-02-09 10:42:00', '2024-02-09 11:42:00', 0, 'planed')\n",
      "(117, 'DRH1', '2024-02-12 07:51:00', '2024-02-12 08:36:00', 0, 'planed')\n",
      "(118, 'DRH2', '2024-02-12 10:28:24', '2024-02-12 11:28:24', 0, 'planed')\n",
      "(119, 'SAE', '2024-02-12 10:36:00', '2024-02-12 11:56:00', 0, 'unplaned')\n",
      "(120, 'DRH1', '2024-02-12 14:22:00', '2024-02-12 15:07:00', 0, 'planed')\n",
      "(121, 'DRH2', '2024-02-13 08:42:18', '2024-02-13 09:42:18', 0, 'planed')\n",
      "(122, 'FRA', '2024-02-13 10:18:12', '2024-02-13 10:58:12', 0, 'planed')\n",
      "(123, 'HAE', '2024-02-13 19:30:54', '2024-02-13 21:00:54', 0, 'planed')\n",
      "(124, 'DRH1', '2024-02-13 20:06:54', '2024-02-13 21:36:54', 0, 'unplaned')\n",
      "(125, 'DRH2', '2024-02-14 06:25:00', '2024-02-14 07:25:00', 0, 'planed')\n",
      "(126, 'SAE', '2024-02-14 08:10:00', '2024-02-14 08:40:00', 0, 'planed')\n",
      "(127, 'DRH1', '2024-02-14 12:00:00', '2024-02-14 12:45:00', 0, 'planed')\n",
      "(128, 'FRA', '2024-02-14 12:17:42', '2024-02-14 12:57:42', 0, 'planed')\n",
      "(129, 'DRH2', '2024-02-15 06:41:18', '2024-02-15 07:41:18', 0, 'planed')\n",
      "(130, 'FRA', '2024-02-15 12:11:54', '2024-02-15 12:51:54', 0, 'planed')\n",
      "(131, 'DRH1', '2024-02-15 17:05:00', '2024-02-15 17:50:00', 0, 'planed')\n",
      "(132, 'DRH2', '2024-02-16 06:15:00', '2024-02-16 07:15:00', 0, 'planed')\n",
      "(133, 'FRA', '2024-02-16 15:24:30', '2024-02-16 16:04:30', 0, 'planed')\n",
      "(134, 'HAE', '2024-02-16 14:46:48', '2024-02-16 16:16:48', 0, 'planed')\n",
      "(135, 'DRH1', '2024-02-16 16:35:24', '2024-02-16 17:20:24', 0, 'planed')\n",
      "(136, 'SAE', '2024-02-16 17:51:00', '2024-02-16 18:21:00', 0, 'planed')\n",
      "(137, 'DRH2', '2024-02-19 06:37:00', '2024-02-19 07:37:00', 0, 'planed')\n",
      "(138, 'FRA', '2024-02-19 10:58:24', '2024-02-19 11:38:24', 0, 'planed')\n",
      "(139, 'DRH1', '2024-02-19 11:37:00', '2024-02-19 12:22:00', 0, 'planed')\n",
      "(140, 'DRH2', '2024-02-20 06:46:24', '2024-02-20 07:46:24', 0, 'planed')\n",
      "(141, 'FRA', '2024-02-20 11:03:24', '2024-02-20 11:43:24', 0, 'planed')\n",
      "(142, 'DRH1', '2024-02-20 11:32:36', '2024-02-20 12:17:36', 0, 'planed')\n",
      "(143, 'SAE', '2024-02-20 18:04:00', '2024-02-20 18:34:00', 0, 'planed')\n",
      "(144, 'DRH2', '2024-02-20 20:45:00', '2024-02-20 21:45:00', 0, 'planed')\n",
      "(145, 'HAE', '2024-02-21 09:44:36', '2024-02-21 12:44:36', 0, 'unplaned')\n",
      "(146, 'DRH2', '2024-02-21 18:12:24', '2024-02-21 19:12:24', 0, 'planed')\n",
      "(147, 'DRH1', '2024-02-21 19:07:06', '2024-02-21 19:52:06', 0, 'planed')\n",
      "(148, 'FRA', '2024-02-21 20:05:18', '2024-02-21 20:45:18', 0, 'planed')\n",
      "(149, 'DRH2', '2024-02-22 17:19:06', '2024-02-22 18:19:06', 0, 'planed')\n",
      "(150, 'DRH1', '2024-02-22 20:52:00', '2024-02-22 21:37:00', 0, 'planed')\n",
      "(151, 'SAE', '2024-02-23 06:09:00', '2024-02-23 06:39:00', 0, 'planed')\n",
      "(152, 'DRH2', '2024-02-23 16:41:54', '2024-02-23 18:46:54', 0, 'unplaned')\n",
      "(153, 'DRH1', '2024-02-23 19:37:54', '2024-02-23 20:22:54', 0, 'planed')\n",
      "(154, 'FRA', '2024-02-26 06:07:00', '2024-02-26 07:22:00', 0, 'unplaned')\n",
      "(155, 'DRH2', '2024-02-26 10:48:12', '2024-02-26 11:48:12', 0, 'planed')\n",
      "(156, 'SAE', '2024-02-26 12:01:54', '2024-02-26 12:31:54', 0, 'planed')\n",
      "(157, 'HAE', '2024-02-26 12:02:36', '2024-02-26 15:02:36', 0, 'unplaned')\n",
      "(158, 'DRH1', '2024-02-27 06:27:54', '2024-02-27 07:57:54', 0, 'unplaned')\n",
      "(159, 'FRA', '2024-02-27 11:21:12', '2024-02-27 12:01:12', 0, 'planed')\n",
      "(160, 'DRH2', '2024-02-27 11:14:24', '2024-02-27 12:14:24', 0, 'planed')\n",
      "(161, 'DRH1', '2024-02-27 21:20:54', '2024-02-27 22:05:54', 0, 'planed')\n",
      "(162, 'DRH2', '2024-02-28 10:36:12', '2024-02-28 11:36:12', 0, 'planed')\n",
      "(163, 'FRA', '2024-02-28 17:14:42', '2024-02-28 17:54:42', 0, 'planed')\n",
      "(164, 'SAE', '2024-02-29 06:57:54', '2024-02-29 08:17:54', 0, 'unplaned')\n",
      "(165, 'DRH2', '2024-02-29 10:02:00', '2024-02-29 11:02:00', 0, 'planed')\n",
      "(166, 'DRH1', '2024-02-29 10:24:42', '2024-02-29 11:09:42', 0, 'planed')\n",
      "(167, 'HAE', '2024-02-29 11:22:54', '2024-02-29 12:52:54', 0, 'planed')\n",
      "(168, 'DRH2', '2024-02-29 21:44:48', '2024-02-29 22:44:48', 0, 'planed')\n",
      "\n",
      "--------------------------------------------------\n",
      "\n"
     ]
    }
   ],
   "source": [
    "# Verbindung zur bestehenden Datenbank herstellen\n",
    "conn = sqlite3.connect('prod_data_variante_III.db')\n",
    "cursor = conn.cursor()\n",
    "\n",
    "# Abfrage, um alle Tabellen in der Datenbank anzuzeigen\n",
    "cursor.execute('''\n",
    "    SELECT name FROM sqlite_master WHERE type='table' AND name NOT LIKE 'sqlite_%';\n",
    "''')\n",
    "\n",
    "# Alle Tabellen auflisten\n",
    "tables = cursor.fetchall()\n",
    "\n",
    "# Für jede Tabelle den Inhalt anzeigen\n",
    "for table in tables:\n",
    "    table_name = table[0]\n",
    "    print(f\"Inhalt der Tabelle: {table_name}\")\n",
    "    \n",
    "    # Inhalt der Tabelle abfragen\n",
    "    cursor.execute(f'SELECT * FROM {table_name}')\n",
    "    rows = cursor.fetchall()\n",
    "    \n",
    "    # Spaltennamen der Tabelle anzeigen\n",
    "    column_names = [description[0] for description in cursor.description]\n",
    "    print(column_names)  # Spaltennamen drucken\n",
    "    \n",
    "    # Inhalt der Tabelle Zeile für Zeile drucken\n",
    "    for row in rows:\n",
    "        print(row)\n",
    "    print(\"\\n\" + \"-\"*50 + \"\\n\")  # Trennlinie für bessere Lesbarkeit\n",
    "\n",
    "# Verbindung schließen\n",
    "conn.close()"
   ]
  },
  {
   "cell_type": "markdown",
   "id": "cd54c335",
   "metadata": {},
   "source": []
  }
 ],
 "metadata": {
  "kernelspec": {
   "display_name": "python312",
   "language": "python",
   "name": "python3"
  },
  "language_info": {
   "codemirror_mode": {
    "name": "ipython",
    "version": 3
   },
   "file_extension": ".py",
   "mimetype": "text/x-python",
   "name": "python",
   "nbconvert_exporter": "python",
   "pygments_lexer": "ipython3",
   "version": "3.13.1"
  }
 },
 "nbformat": 4,
 "nbformat_minor": 5
}
